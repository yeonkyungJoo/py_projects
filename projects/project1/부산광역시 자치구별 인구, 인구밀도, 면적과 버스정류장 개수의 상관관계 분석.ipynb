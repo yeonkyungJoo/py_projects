{
 "cells": [
  {
   "cell_type": "markdown",
   "metadata": {},
   "source": [
    "- 마을버스 제외\n",
    "- 배차시간"
   ]
  },
  {
   "cell_type": "code",
   "execution_count": 258,
   "metadata": {},
   "outputs": [],
   "source": [
    "import pandas as pd"
   ]
  },
  {
   "cell_type": "code",
   "execution_count": 259,
   "metadata": {},
   "outputs": [],
   "source": [
    "busstop_raw_data = pd.read_excel('./data/busan_busstop_info.xlsx',\n",
    "                                 header=4)"
   ]
  },
  {
   "cell_type": "code",
   "execution_count": 260,
   "metadata": {},
   "outputs": [
    {
     "data": {
      "text/html": [
       "<div>\n",
       "<style scoped>\n",
       "    .dataframe tbody tr th:only-of-type {\n",
       "        vertical-align: middle;\n",
       "    }\n",
       "\n",
       "    .dataframe tbody tr th {\n",
       "        vertical-align: top;\n",
       "    }\n",
       "\n",
       "    .dataframe thead th {\n",
       "        text-align: right;\n",
       "    }\n",
       "</style>\n",
       "<table border=\"1\" class=\"dataframe\">\n",
       "  <thead>\n",
       "    <tr style=\"text-align: right;\">\n",
       "      <th></th>\n",
       "      <th>BUSLINENUM</th>\n",
       "      <th>ORD</th>\n",
       "      <th>NAME</th>\n",
       "      <th>SIGUNNAME</th>\n",
       "      <th>GUNAME</th>\n",
       "      <th>DONGNAME</th>\n",
       "      <th>X</th>\n",
       "      <th>Y</th>\n",
       "      <th>UNIQUEID</th>\n",
       "      <th>BUSSTOPID</th>\n",
       "    </tr>\n",
       "  </thead>\n",
       "  <tbody>\n",
       "    <tr>\n",
       "      <th>0</th>\n",
       "      <td>1</td>\n",
       "      <td>1</td>\n",
       "      <td>기점</td>\n",
       "      <td>부산광역시</td>\n",
       "      <td>수영구</td>\n",
       "      <td>민락동</td>\n",
       "      <td>129.127115</td>\n",
       "      <td>35.159515</td>\n",
       "      <td>NaN</td>\n",
       "      <td>21140601002</td>\n",
       "    </tr>\n",
       "    <tr>\n",
       "      <th>1</th>\n",
       "      <td>1</td>\n",
       "      <td>2</td>\n",
       "      <td>MBC방송국</td>\n",
       "      <td>부산광역시</td>\n",
       "      <td>수영구</td>\n",
       "      <td>민락동</td>\n",
       "      <td>129.126416</td>\n",
       "      <td>35.159658</td>\n",
       "      <td>14034.0</td>\n",
       "      <td>21140601013</td>\n",
       "    </tr>\n",
       "    <tr>\n",
       "      <th>2</th>\n",
       "      <td>1</td>\n",
       "      <td>3</td>\n",
       "      <td>민락동골목시장</td>\n",
       "      <td>부산광역시</td>\n",
       "      <td>수영구</td>\n",
       "      <td>민락동</td>\n",
       "      <td>129.123045</td>\n",
       "      <td>35.158969</td>\n",
       "      <td>14037.0</td>\n",
       "      <td>21140601006</td>\n",
       "    </tr>\n",
       "    <tr>\n",
       "      <th>3</th>\n",
       "      <td>1</td>\n",
       "      <td>4</td>\n",
       "      <td>광안농협앞</td>\n",
       "      <td>부산광역시</td>\n",
       "      <td>수영구</td>\n",
       "      <td>광안2동</td>\n",
       "      <td>129.120022</td>\n",
       "      <td>35.157650</td>\n",
       "      <td>14067.0</td>\n",
       "      <td>21140571002</td>\n",
       "    </tr>\n",
       "    <tr>\n",
       "      <th>4</th>\n",
       "      <td>1</td>\n",
       "      <td>5</td>\n",
       "      <td>광안리해수욕장</td>\n",
       "      <td>부산광역시</td>\n",
       "      <td>수영구</td>\n",
       "      <td>광안2동</td>\n",
       "      <td>129.116613</td>\n",
       "      <td>35.155443</td>\n",
       "      <td>14065.0</td>\n",
       "      <td>21140571001</td>\n",
       "    </tr>\n",
       "  </tbody>\n",
       "</table>\n",
       "</div>"
      ],
      "text/plain": [
       "  BUSLINENUM  ORD     NAME SIGUNNAME GUNAME DONGNAME           X          Y  \\\n",
       "0          1    1       기점     부산광역시    수영구      민락동  129.127115  35.159515   \n",
       "1          1    2   MBC방송국     부산광역시    수영구      민락동  129.126416  35.159658   \n",
       "2          1    3  민락동골목시장     부산광역시    수영구      민락동  129.123045  35.158969   \n",
       "3          1    4    광안농협앞     부산광역시    수영구     광안2동  129.120022  35.157650   \n",
       "4          1    5  광안리해수욕장     부산광역시    수영구     광안2동  129.116613  35.155443   \n",
       "\n",
       "   UNIQUEID    BUSSTOPID  \n",
       "0       NaN  21140601002  \n",
       "1   14034.0  21140601013  \n",
       "2   14037.0  21140601006  \n",
       "3   14067.0  21140571002  \n",
       "4   14065.0  21140571001  "
      ]
     },
     "execution_count": 260,
     "metadata": {},
     "output_type": "execute_result"
    }
   ],
   "source": [
    "busstop_raw_data.head()"
   ]
  },
  {
   "cell_type": "code",
   "execution_count": 261,
   "metadata": {},
   "outputs": [
    {
     "data": {
      "text/html": [
       "<div>\n",
       "<style scoped>\n",
       "    .dataframe tbody tr th:only-of-type {\n",
       "        vertical-align: middle;\n",
       "    }\n",
       "\n",
       "    .dataframe tbody tr th {\n",
       "        vertical-align: top;\n",
       "    }\n",
       "\n",
       "    .dataframe thead th {\n",
       "        text-align: right;\n",
       "    }\n",
       "</style>\n",
       "<table border=\"1\" class=\"dataframe\">\n",
       "  <thead>\n",
       "    <tr style=\"text-align: right;\">\n",
       "      <th></th>\n",
       "      <th>BUSLINENUM</th>\n",
       "      <th>NAME</th>\n",
       "      <th>SIGUNNAME</th>\n",
       "      <th>GUNAME</th>\n",
       "      <th>X</th>\n",
       "      <th>Y</th>\n",
       "      <th>BUSSTOPID</th>\n",
       "    </tr>\n",
       "  </thead>\n",
       "  <tbody>\n",
       "    <tr>\n",
       "      <th>0</th>\n",
       "      <td>1</td>\n",
       "      <td>기점</td>\n",
       "      <td>부산광역시</td>\n",
       "      <td>수영구</td>\n",
       "      <td>129.127115</td>\n",
       "      <td>35.159515</td>\n",
       "      <td>21140601002</td>\n",
       "    </tr>\n",
       "    <tr>\n",
       "      <th>1</th>\n",
       "      <td>1</td>\n",
       "      <td>MBC방송국</td>\n",
       "      <td>부산광역시</td>\n",
       "      <td>수영구</td>\n",
       "      <td>129.126416</td>\n",
       "      <td>35.159658</td>\n",
       "      <td>21140601013</td>\n",
       "    </tr>\n",
       "    <tr>\n",
       "      <th>2</th>\n",
       "      <td>1</td>\n",
       "      <td>민락동골목시장</td>\n",
       "      <td>부산광역시</td>\n",
       "      <td>수영구</td>\n",
       "      <td>129.123045</td>\n",
       "      <td>35.158969</td>\n",
       "      <td>21140601006</td>\n",
       "    </tr>\n",
       "    <tr>\n",
       "      <th>3</th>\n",
       "      <td>1</td>\n",
       "      <td>광안농협앞</td>\n",
       "      <td>부산광역시</td>\n",
       "      <td>수영구</td>\n",
       "      <td>129.120022</td>\n",
       "      <td>35.157650</td>\n",
       "      <td>21140571002</td>\n",
       "    </tr>\n",
       "    <tr>\n",
       "      <th>4</th>\n",
       "      <td>1</td>\n",
       "      <td>광안리해수욕장</td>\n",
       "      <td>부산광역시</td>\n",
       "      <td>수영구</td>\n",
       "      <td>129.116613</td>\n",
       "      <td>35.155443</td>\n",
       "      <td>21140571001</td>\n",
       "    </tr>\n",
       "  </tbody>\n",
       "</table>\n",
       "</div>"
      ],
      "text/plain": [
       "  BUSLINENUM     NAME SIGUNNAME GUNAME           X          Y    BUSSTOPID\n",
       "0          1       기점     부산광역시    수영구  129.127115  35.159515  21140601002\n",
       "1          1   MBC방송국     부산광역시    수영구  129.126416  35.159658  21140601013\n",
       "2          1  민락동골목시장     부산광역시    수영구  129.123045  35.158969  21140601006\n",
       "3          1    광안농협앞     부산광역시    수영구  129.120022  35.157650  21140571002\n",
       "4          1  광안리해수욕장     부산광역시    수영구  129.116613  35.155443  21140571001"
      ]
     },
     "execution_count": 261,
     "metadata": {},
     "output_type": "execute_result"
    }
   ],
   "source": [
    "busstop_data = busstop_raw_data.iloc[:, [0, 2, 3, 4, 6, 7, 9]]\n",
    "busstop_data.head()"
   ]
  },
  {
   "cell_type": "code",
   "execution_count": 262,
   "metadata": {},
   "outputs": [
    {
     "data": {
      "text/html": [
       "<div>\n",
       "<style scoped>\n",
       "    .dataframe tbody tr th:only-of-type {\n",
       "        vertical-align: middle;\n",
       "    }\n",
       "\n",
       "    .dataframe tbody tr th {\n",
       "        vertical-align: top;\n",
       "    }\n",
       "\n",
       "    .dataframe thead th {\n",
       "        text-align: right;\n",
       "    }\n",
       "</style>\n",
       "<table border=\"1\" class=\"dataframe\">\n",
       "  <thead>\n",
       "    <tr style=\"text-align: right;\">\n",
       "      <th></th>\n",
       "      <th>BUSLINENUM</th>\n",
       "      <th>NAME</th>\n",
       "      <th>SIGUNNAME</th>\n",
       "      <th>GUNAME</th>\n",
       "      <th>X</th>\n",
       "      <th>Y</th>\n",
       "      <th>BUSSTOPID</th>\n",
       "    </tr>\n",
       "  </thead>\n",
       "  <tbody>\n",
       "    <tr>\n",
       "      <th>0</th>\n",
       "      <td>1</td>\n",
       "      <td>기점</td>\n",
       "      <td>부산광역시</td>\n",
       "      <td>수영구</td>\n",
       "      <td>129.127115</td>\n",
       "      <td>35.159515</td>\n",
       "      <td>21140601002</td>\n",
       "    </tr>\n",
       "    <tr>\n",
       "      <th>1</th>\n",
       "      <td>1</td>\n",
       "      <td>MBC방송국</td>\n",
       "      <td>부산광역시</td>\n",
       "      <td>수영구</td>\n",
       "      <td>129.126416</td>\n",
       "      <td>35.159658</td>\n",
       "      <td>21140601013</td>\n",
       "    </tr>\n",
       "    <tr>\n",
       "      <th>2</th>\n",
       "      <td>1</td>\n",
       "      <td>민락동골목시장</td>\n",
       "      <td>부산광역시</td>\n",
       "      <td>수영구</td>\n",
       "      <td>129.123045</td>\n",
       "      <td>35.158969</td>\n",
       "      <td>21140601006</td>\n",
       "    </tr>\n",
       "    <tr>\n",
       "      <th>3</th>\n",
       "      <td>1</td>\n",
       "      <td>광안농협앞</td>\n",
       "      <td>부산광역시</td>\n",
       "      <td>수영구</td>\n",
       "      <td>129.120022</td>\n",
       "      <td>35.157650</td>\n",
       "      <td>21140571002</td>\n",
       "    </tr>\n",
       "    <tr>\n",
       "      <th>4</th>\n",
       "      <td>1</td>\n",
       "      <td>광안리해수욕장</td>\n",
       "      <td>부산광역시</td>\n",
       "      <td>수영구</td>\n",
       "      <td>129.116613</td>\n",
       "      <td>35.155443</td>\n",
       "      <td>21140571001</td>\n",
       "    </tr>\n",
       "  </tbody>\n",
       "</table>\n",
       "</div>"
      ],
      "text/plain": [
       "  BUSLINENUM     NAME SIGUNNAME GUNAME           X          Y    BUSSTOPID\n",
       "0          1       기점     부산광역시    수영구  129.127115  35.159515  21140601002\n",
       "1          1   MBC방송국     부산광역시    수영구  129.126416  35.159658  21140601013\n",
       "2          1  민락동골목시장     부산광역시    수영구  129.123045  35.158969  21140601006\n",
       "3          1    광안농협앞     부산광역시    수영구  129.120022  35.157650  21140571002\n",
       "4          1  광안리해수욕장     부산광역시    수영구  129.116613  35.155443  21140571001"
      ]
     },
     "execution_count": 262,
     "metadata": {},
     "output_type": "execute_result"
    }
   ],
   "source": [
    "# 부산광역시 시내버스 정류소만 추출(경상남도 제외)\n",
    "busstop_busan = busstop_data[busstop_data['SIGUNNAME']=='부산광역시']\n",
    "busstop_busan.head()"
   ]
  },
  {
   "cell_type": "code",
   "execution_count": 263,
   "metadata": {},
   "outputs": [
    {
     "data": {
      "text/plain": [
       "(15624, 7)"
      ]
     },
     "execution_count": 263,
     "metadata": {},
     "output_type": "execute_result"
    }
   ],
   "source": [
    "busstop_busan.shape"
   ]
  },
  {
   "cell_type": "code",
   "execution_count": 264,
   "metadata": {},
   "outputs": [
    {
     "data": {
      "text/plain": [
       "array(['부산광역시'], dtype=object)"
      ]
     },
     "execution_count": 264,
     "metadata": {},
     "output_type": "execute_result"
    }
   ],
   "source": [
    "busstop_busan['SIGUNNAME'].unique()"
   ]
  },
  {
   "cell_type": "code",
   "execution_count": 265,
   "metadata": {},
   "outputs": [
    {
     "data": {
      "text/plain": [
       "array(['수영구', '연제구', '부산진구', '강서구', '동래구', '동구', '남구', '기장군', '해운대구',\n",
       "       '금정구', '사하구', '서구', '중구', '북구', '사상구', '영도구'], dtype=object)"
      ]
     },
     "execution_count": 265,
     "metadata": {},
     "output_type": "execute_result"
    }
   ],
   "source": [
    "busstop_busan['GUNAME'].unique()"
   ]
  },
  {
   "cell_type": "code",
   "execution_count": 266,
   "metadata": {},
   "outputs": [
    {
     "data": {
      "text/plain": [
       "array(['1', '10', '55', '103', '100', '100-1', '1000', '1000(심야)', '1001',\n",
       "       '1001(심야)', '1002', '1002(심야)', '1003', '1003(심야)', '1004',\n",
       "       '1004(심야)', '1005', '58', '1006', '1008', '1008(심야)', '138-1',\n",
       "       '1009', '101', '85', '1010', '1010(심야)', '1011', '105', '107',\n",
       "       '108', '11', '110', '110-1', '111', '111-1', '113', '115', '184',\n",
       "       '115-1', '188', '121', '123', '124', '125', '126', '127', '128-1',\n",
       "       '129-1', '131', '133', '73', '134', '73(아침)', '9', '138', '139',\n",
       "       '187', '42', '190', '203', '300', '141', '141(심야)', '144', '148',\n",
       "       '148-1', '15', '15(심야)', '155', '33', '186', '16', '160', '161',\n",
       "       '66', '168', '167', '3', '520', '37', '301', '169', '169-1', '17',\n",
       "       '179', '180', '180(아침)', '181', '182', '31', '62', '182(심야)', '77',\n",
       "       '307', '26', '183', '26(아침)', '183(심야)', '41', '96-1', '70', '185',\n",
       "       '43', '5-1', '88(A)', '189', '189-1', '67', '87', '2', '20', '200',\n",
       "       '2000', '63', '221', '210', '96', '29', '51', '80', '22', '23',\n",
       "       '24', '27', '90', '7', '30', '30(심야)', '38', '86', '302', '36',\n",
       "       '338', '52', '39', '40', '44', '54', '46', '49', '81', '50', '506',\n",
       "       '508', '508(심야)', '51(심야)', '88-1A', '68', '555', '57', '58-1',\n",
       "       '58-1(심야)', '58-2', '58-2(심야)', '583', '59', '6', '61', '71', '8',\n",
       "       '82', '83', '83-1', '99'], dtype=object)"
      ]
     },
     "execution_count": 266,
     "metadata": {},
     "output_type": "execute_result"
    }
   ],
   "source": [
    "busstop_busan['BUSLINENUM'].unique()"
   ]
  },
  {
   "cell_type": "code",
   "execution_count": null,
   "metadata": {},
   "outputs": [],
   "source": []
  },
  {
   "cell_type": "markdown",
   "metadata": {},
   "source": [
    "###### 웹 크롤링 : 부산버스정보시스템(BIMS)에서 현재 운행 중인 시내버스 추출"
   ]
  },
  {
   "cell_type": "code",
   "execution_count": 267,
   "metadata": {},
   "outputs": [],
   "source": [
    "from selenium import webdriver as wd\n",
    "import urllib"
   ]
  },
  {
   "cell_type": "code",
   "execution_count": 268,
   "metadata": {},
   "outputs": [],
   "source": [
    "target_url = 'http://bus.busan.go.kr/busanBIMS/bus_map/map_main2.asp?menuNum=4&amp;mapGubun=daum'"
   ]
  },
  {
   "cell_type": "code",
   "execution_count": 269,
   "metadata": {},
   "outputs": [],
   "source": [
    "driver = wd.Chrome('./tool/chromedriver.exe')"
   ]
  },
  {
   "cell_type": "code",
   "execution_count": 270,
   "metadata": {},
   "outputs": [],
   "source": [
    "import time\n",
    "\n",
    "driver.get(target_url)\n",
    "time.sleep(5)"
   ]
  },
  {
   "cell_type": "code",
   "execution_count": 271,
   "metadata": {},
   "outputs": [],
   "source": [
    "# 노선 리스트 획득 (마을버스 제외, 시내버스만 해당)\n",
    "ctlList = driver.find_element_by_id('ctlList')\n",
    "ctls = [ option.text\n",
    "           for option in driver.find_elements_by_css_selector('#ctlList > option')\n",
    "           if option.get_attribute('value') ]"
   ]
  },
  {
   "cell_type": "code",
   "execution_count": 272,
   "metadata": {},
   "outputs": [
    {
     "data": {
      "text/plain": [
       "['1', '2', '3', '5-1', '6']"
      ]
     },
     "execution_count": 272,
     "metadata": {},
     "output_type": "execute_result"
    }
   ],
   "source": [
    "ctls[:5]"
   ]
  },
  {
   "cell_type": "code",
   "execution_count": 273,
   "metadata": {},
   "outputs": [
    {
     "data": {
      "text/plain": [
       "(165, 153)"
      ]
     },
     "execution_count": 273,
     "metadata": {},
     "output_type": "execute_result"
    }
   ],
   "source": [
    "# (165, 153)\n",
    "len(busstop_busan['BUSLINENUM'].unique()), len(ctls)"
   ]
  },
  {
   "cell_type": "code",
   "execution_count": 274,
   "metadata": {
    "scrolled": true
   },
   "outputs": [],
   "source": [
    "# 부산버스정보시스템(BIMS)에서 추출한 시내버스 리스트로 데이터 분석\n",
    "# for bus in busstop_busan['BUSLINENUM'].unique() :\n",
    "#     if bus not in ctls :\n",
    "#         print(bus)"
   ]
  },
  {
   "cell_type": "code",
   "execution_count": 275,
   "metadata": {},
   "outputs": [],
   "source": [
    "busstop_busan = busstop_busan[busstop_busan['BUSLINENUM'].apply(lambda x : x in ctls)]"
   ]
  },
  {
   "cell_type": "code",
   "execution_count": 276,
   "metadata": {},
   "outputs": [
    {
     "data": {
      "text/plain": [
       "153"
      ]
     },
     "execution_count": 276,
     "metadata": {},
     "output_type": "execute_result"
    }
   ],
   "source": [
    "len(busstop_busan['BUSLINENUM'].unique())"
   ]
  },
  {
   "cell_type": "code",
   "execution_count": 277,
   "metadata": {},
   "outputs": [],
   "source": [
    "busanbuses = []\n",
    "for bus in busstop_busan['BUSLINENUM'].unique() :\n",
    "    if bus in ctls :\n",
    "        busanbuses.append(bus)"
   ]
  },
  {
   "cell_type": "code",
   "execution_count": 278,
   "metadata": {},
   "outputs": [
    {
     "data": {
      "text/plain": [
       "['1', '10', '55', '103', '100']"
      ]
     },
     "execution_count": 278,
     "metadata": {},
     "output_type": "execute_result"
    }
   ],
   "source": [
    "busanbuses[:5]"
   ]
  },
  {
   "cell_type": "code",
   "execution_count": null,
   "metadata": {},
   "outputs": [],
   "source": []
  },
  {
   "cell_type": "markdown",
   "metadata": {},
   "source": [
    "### 부산에서 가장 많은 버스가 정류하는 정류장 (개별)"
   ]
  },
  {
   "cell_type": "code",
   "execution_count": 279,
   "metadata": {},
   "outputs": [
    {
     "data": {
      "text/plain": [
       "3723"
      ]
     },
     "execution_count": 279,
     "metadata": {},
     "output_type": "execute_result"
    }
   ],
   "source": [
    "# 부산 내 버스정류장 개수\n",
    "# len(set(busstop_busan['BUSSTOPID']))\n",
    "len(busstop_busan['BUSSTOPID'].unique())"
   ]
  },
  {
   "cell_type": "code",
   "execution_count": 280,
   "metadata": {
    "scrolled": true
   },
   "outputs": [
    {
     "data": {
      "text/html": [
       "<div>\n",
       "<style scoped>\n",
       "    .dataframe tbody tr th:only-of-type {\n",
       "        vertical-align: middle;\n",
       "    }\n",
       "\n",
       "    .dataframe tbody tr th {\n",
       "        vertical-align: top;\n",
       "    }\n",
       "\n",
       "    .dataframe thead th {\n",
       "        text-align: right;\n",
       "    }\n",
       "</style>\n",
       "<table border=\"1\" class=\"dataframe\">\n",
       "  <thead>\n",
       "    <tr style=\"text-align: right;\">\n",
       "      <th></th>\n",
       "      <th>BUSLINENUM</th>\n",
       "      <th>NAME</th>\n",
       "      <th>SIGUNNAME</th>\n",
       "      <th>GUNAME</th>\n",
       "      <th>X</th>\n",
       "      <th>Y</th>\n",
       "      <th>BUSSTOPID</th>\n",
       "    </tr>\n",
       "  </thead>\n",
       "  <tbody>\n",
       "    <tr>\n",
       "      <th>0</th>\n",
       "      <td>1</td>\n",
       "      <td>기점</td>\n",
       "      <td>부산광역시</td>\n",
       "      <td>수영구</td>\n",
       "      <td>129.127115</td>\n",
       "      <td>35.159515</td>\n",
       "      <td>21140601002</td>\n",
       "    </tr>\n",
       "    <tr>\n",
       "      <th>1</th>\n",
       "      <td>1</td>\n",
       "      <td>MBC방송국</td>\n",
       "      <td>부산광역시</td>\n",
       "      <td>수영구</td>\n",
       "      <td>129.126416</td>\n",
       "      <td>35.159658</td>\n",
       "      <td>21140601013</td>\n",
       "    </tr>\n",
       "    <tr>\n",
       "      <th>2</th>\n",
       "      <td>1</td>\n",
       "      <td>민락동골목시장</td>\n",
       "      <td>부산광역시</td>\n",
       "      <td>수영구</td>\n",
       "      <td>129.123045</td>\n",
       "      <td>35.158969</td>\n",
       "      <td>21140601006</td>\n",
       "    </tr>\n",
       "    <tr>\n",
       "      <th>3</th>\n",
       "      <td>1</td>\n",
       "      <td>광안농협앞</td>\n",
       "      <td>부산광역시</td>\n",
       "      <td>수영구</td>\n",
       "      <td>129.120022</td>\n",
       "      <td>35.157650</td>\n",
       "      <td>21140571002</td>\n",
       "    </tr>\n",
       "    <tr>\n",
       "      <th>4</th>\n",
       "      <td>1</td>\n",
       "      <td>광안리해수욕장</td>\n",
       "      <td>부산광역시</td>\n",
       "      <td>수영구</td>\n",
       "      <td>129.116613</td>\n",
       "      <td>35.155443</td>\n",
       "      <td>21140571001</td>\n",
       "    </tr>\n",
       "  </tbody>\n",
       "</table>\n",
       "</div>"
      ],
      "text/plain": [
       "  BUSLINENUM     NAME SIGUNNAME GUNAME           X          Y    BUSSTOPID\n",
       "0          1       기점     부산광역시    수영구  129.127115  35.159515  21140601002\n",
       "1          1   MBC방송국     부산광역시    수영구  129.126416  35.159658  21140601013\n",
       "2          1  민락동골목시장     부산광역시    수영구  129.123045  35.158969  21140601006\n",
       "3          1    광안농협앞     부산광역시    수영구  129.120022  35.157650  21140571002\n",
       "4          1  광안리해수욕장     부산광역시    수영구  129.116613  35.155443  21140571001"
      ]
     },
     "execution_count": 280,
     "metadata": {},
     "output_type": "execute_result"
    }
   ],
   "source": [
    "busstop_busan.head()"
   ]
  },
  {
   "cell_type": "code",
   "execution_count": 281,
   "metadata": {},
   "outputs": [
    {
     "data": {
      "text/html": [
       "<div>\n",
       "<style scoped>\n",
       "    .dataframe tbody tr th:only-of-type {\n",
       "        vertical-align: middle;\n",
       "    }\n",
       "\n",
       "    .dataframe tbody tr th {\n",
       "        vertical-align: top;\n",
       "    }\n",
       "\n",
       "    .dataframe thead th {\n",
       "        text-align: right;\n",
       "    }\n",
       "</style>\n",
       "<table border=\"1\" class=\"dataframe\">\n",
       "  <thead>\n",
       "    <tr style=\"text-align: right;\">\n",
       "      <th></th>\n",
       "      <th>BUSLINENUM</th>\n",
       "      <th>BUSSTOPID</th>\n",
       "    </tr>\n",
       "  </thead>\n",
       "  <tbody>\n",
       "    <tr>\n",
       "      <th>0</th>\n",
       "      <td>1</td>\n",
       "      <td>21140601002</td>\n",
       "    </tr>\n",
       "    <tr>\n",
       "      <th>1</th>\n",
       "      <td>1</td>\n",
       "      <td>21140601013</td>\n",
       "    </tr>\n",
       "    <tr>\n",
       "      <th>2</th>\n",
       "      <td>1</td>\n",
       "      <td>21140601006</td>\n",
       "    </tr>\n",
       "    <tr>\n",
       "      <th>3</th>\n",
       "      <td>1</td>\n",
       "      <td>21140571002</td>\n",
       "    </tr>\n",
       "    <tr>\n",
       "      <th>4</th>\n",
       "      <td>1</td>\n",
       "      <td>21140571001</td>\n",
       "    </tr>\n",
       "  </tbody>\n",
       "</table>\n",
       "</div>"
      ],
      "text/plain": [
       "  BUSLINENUM    BUSSTOPID\n",
       "0          1  21140601002\n",
       "1          1  21140601013\n",
       "2          1  21140601006\n",
       "3          1  21140571002\n",
       "4          1  21140571001"
      ]
     },
     "execution_count": 281,
     "metadata": {},
     "output_type": "execute_result"
    }
   ],
   "source": [
    "tmp = busstop_busan.iloc[:, [0, 6]]\n",
    "tmp.head()"
   ]
  },
  {
   "cell_type": "code",
   "execution_count": 282,
   "metadata": {},
   "outputs": [
    {
     "name": "stderr",
     "output_type": "stream",
     "text": [
      "C:\\Users\\User\\Anaconda3\\lib\\site-packages\\ipykernel_launcher.py:1: SettingWithCopyWarning: \n",
      "A value is trying to be set on a copy of a slice from a DataFrame.\n",
      "Try using .loc[row_indexer,col_indexer] = value instead\n",
      "\n",
      "See the caveats in the documentation: http://pandas.pydata.org/pandas-docs/stable/indexing.html#indexing-view-versus-copy\n",
      "  \"\"\"Entry point for launching an IPython kernel.\n"
     ]
    }
   ],
   "source": [
    "tmp['count'] = 1"
   ]
  },
  {
   "cell_type": "code",
   "execution_count": 283,
   "metadata": {},
   "outputs": [
    {
     "data": {
      "text/html": [
       "<div>\n",
       "<style scoped>\n",
       "    .dataframe tbody tr th:only-of-type {\n",
       "        vertical-align: middle;\n",
       "    }\n",
       "\n",
       "    .dataframe tbody tr th {\n",
       "        vertical-align: top;\n",
       "    }\n",
       "\n",
       "    .dataframe thead th {\n",
       "        text-align: right;\n",
       "    }\n",
       "</style>\n",
       "<table border=\"1\" class=\"dataframe\">\n",
       "  <thead>\n",
       "    <tr style=\"text-align: right;\">\n",
       "      <th></th>\n",
       "      <th>BUSLINENUM</th>\n",
       "      <th>BUSSTOPID</th>\n",
       "      <th>count</th>\n",
       "    </tr>\n",
       "  </thead>\n",
       "  <tbody>\n",
       "    <tr>\n",
       "      <th>0</th>\n",
       "      <td>1</td>\n",
       "      <td>21140601002</td>\n",
       "      <td>1</td>\n",
       "    </tr>\n",
       "    <tr>\n",
       "      <th>1</th>\n",
       "      <td>1</td>\n",
       "      <td>21140601013</td>\n",
       "      <td>1</td>\n",
       "    </tr>\n",
       "    <tr>\n",
       "      <th>2</th>\n",
       "      <td>1</td>\n",
       "      <td>21140601006</td>\n",
       "      <td>1</td>\n",
       "    </tr>\n",
       "    <tr>\n",
       "      <th>3</th>\n",
       "      <td>1</td>\n",
       "      <td>21140571002</td>\n",
       "      <td>1</td>\n",
       "    </tr>\n",
       "    <tr>\n",
       "      <th>4</th>\n",
       "      <td>1</td>\n",
       "      <td>21140571001</td>\n",
       "      <td>1</td>\n",
       "    </tr>\n",
       "  </tbody>\n",
       "</table>\n",
       "</div>"
      ],
      "text/plain": [
       "  BUSLINENUM    BUSSTOPID  count\n",
       "0          1  21140601002      1\n",
       "1          1  21140601013      1\n",
       "2          1  21140601006      1\n",
       "3          1  21140571002      1\n",
       "4          1  21140571001      1"
      ]
     },
     "execution_count": 283,
     "metadata": {},
     "output_type": "execute_result"
    }
   ],
   "source": [
    "tmp.head()"
   ]
  },
  {
   "cell_type": "code",
   "execution_count": 284,
   "metadata": {
    "scrolled": false
   },
   "outputs": [
    {
     "data": {
      "text/html": [
       "<div>\n",
       "<style scoped>\n",
       "    .dataframe tbody tr th:only-of-type {\n",
       "        vertical-align: middle;\n",
       "    }\n",
       "\n",
       "    .dataframe tbody tr th {\n",
       "        vertical-align: top;\n",
       "    }\n",
       "\n",
       "    .dataframe thead tr th {\n",
       "        text-align: left;\n",
       "    }\n",
       "\n",
       "    .dataframe thead tr:last-of-type th {\n",
       "        text-align: right;\n",
       "    }\n",
       "</style>\n",
       "<table border=\"1\" class=\"dataframe\">\n",
       "  <thead>\n",
       "    <tr>\n",
       "      <th></th>\n",
       "      <th>sum</th>\n",
       "    </tr>\n",
       "    <tr>\n",
       "      <th></th>\n",
       "      <th>count</th>\n",
       "    </tr>\n",
       "    <tr>\n",
       "      <th>BUSSTOPID</th>\n",
       "      <th></th>\n",
       "    </tr>\n",
       "  </thead>\n",
       "  <tbody>\n",
       "    <tr>\n",
       "      <th>21010511001</th>\n",
       "      <td>4</td>\n",
       "    </tr>\n",
       "    <tr>\n",
       "      <th>21010511003</th>\n",
       "      <td>6</td>\n",
       "    </tr>\n",
       "    <tr>\n",
       "      <th>21010511004</th>\n",
       "      <td>18</td>\n",
       "    </tr>\n",
       "    <tr>\n",
       "      <th>21010511005</th>\n",
       "      <td>1</td>\n",
       "    </tr>\n",
       "    <tr>\n",
       "      <th>21010511006</th>\n",
       "      <td>1</td>\n",
       "    </tr>\n",
       "  </tbody>\n",
       "</table>\n",
       "</div>"
      ],
      "text/plain": [
       "              sum\n",
       "            count\n",
       "BUSSTOPID        \n",
       "21010511001     4\n",
       "21010511003     6\n",
       "21010511004    18\n",
       "21010511005     1\n",
       "21010511006     1"
      ]
     },
     "execution_count": 284,
     "metadata": {},
     "output_type": "execute_result"
    }
   ],
   "source": [
    "import numpy as np\n",
    "# 피벗테이블로 변환\n",
    "busstopid_cnt = pd.pivot_table(tmp, index = 'BUSSTOPID', \n",
    "                               values = 'count', \n",
    "                               aggfunc = [np.sum])\n",
    "busstopid_cnt.head()"
   ]
  },
  {
   "cell_type": "code",
   "execution_count": 285,
   "metadata": {},
   "outputs": [
    {
     "data": {
      "text/plain": [
       "array([[ 4],\n",
       "       [ 6],\n",
       "       [18],\n",
       "       ...,\n",
       "       [ 1],\n",
       "       [ 1],\n",
       "       [ 1]], dtype=int64)"
      ]
     },
     "execution_count": 285,
     "metadata": {},
     "output_type": "execute_result"
    }
   ],
   "source": [
    "busstopid_cnt.values"
   ]
  },
  {
   "cell_type": "code",
   "execution_count": 286,
   "metadata": {},
   "outputs": [
    {
     "data": {
      "text/html": [
       "<div>\n",
       "<style scoped>\n",
       "    .dataframe tbody tr th:only-of-type {\n",
       "        vertical-align: middle;\n",
       "    }\n",
       "\n",
       "    .dataframe tbody tr th {\n",
       "        vertical-align: top;\n",
       "    }\n",
       "\n",
       "    .dataframe thead th {\n",
       "        text-align: right;\n",
       "    }\n",
       "</style>\n",
       "<table border=\"1\" class=\"dataframe\">\n",
       "  <thead>\n",
       "    <tr style=\"text-align: right;\">\n",
       "      <th></th>\n",
       "      <th>0</th>\n",
       "    </tr>\n",
       "    <tr>\n",
       "      <th>BUSSTOPID</th>\n",
       "      <th></th>\n",
       "    </tr>\n",
       "  </thead>\n",
       "  <tbody>\n",
       "    <tr>\n",
       "      <th>21010511001</th>\n",
       "      <td>4</td>\n",
       "    </tr>\n",
       "    <tr>\n",
       "      <th>21010511003</th>\n",
       "      <td>6</td>\n",
       "    </tr>\n",
       "    <tr>\n",
       "      <th>21010511004</th>\n",
       "      <td>18</td>\n",
       "    </tr>\n",
       "    <tr>\n",
       "      <th>21010511005</th>\n",
       "      <td>1</td>\n",
       "    </tr>\n",
       "    <tr>\n",
       "      <th>21010511006</th>\n",
       "      <td>1</td>\n",
       "    </tr>\n",
       "  </tbody>\n",
       "</table>\n",
       "</div>"
      ],
      "text/plain": [
       "              0\n",
       "BUSSTOPID      \n",
       "21010511001   4\n",
       "21010511003   6\n",
       "21010511004  18\n",
       "21010511005   1\n",
       "21010511006   1"
      ]
     },
     "execution_count": 286,
     "metadata": {},
     "output_type": "execute_result"
    }
   ],
   "source": [
    "busstopid_count = pd.DataFrame(busstopid_cnt.values, \n",
    "                               index = busstopid_cnt.index)\n",
    "busstopid_count.head()"
   ]
  },
  {
   "cell_type": "code",
   "execution_count": 287,
   "metadata": {},
   "outputs": [],
   "source": [
    "# 레벨있는 컬럼명 바로 변경하는 방법?!\n",
    "busstopid_count = busstopid_count.rename(columns={\n",
    "    0 : 'COUNT'\n",
    "})"
   ]
  },
  {
   "cell_type": "code",
   "execution_count": 288,
   "metadata": {},
   "outputs": [
    {
     "data": {
      "text/html": [
       "<div>\n",
       "<style scoped>\n",
       "    .dataframe tbody tr th:only-of-type {\n",
       "        vertical-align: middle;\n",
       "    }\n",
       "\n",
       "    .dataframe tbody tr th {\n",
       "        vertical-align: top;\n",
       "    }\n",
       "\n",
       "    .dataframe thead th {\n",
       "        text-align: right;\n",
       "    }\n",
       "</style>\n",
       "<table border=\"1\" class=\"dataframe\">\n",
       "  <thead>\n",
       "    <tr style=\"text-align: right;\">\n",
       "      <th></th>\n",
       "      <th>COUNT</th>\n",
       "    </tr>\n",
       "    <tr>\n",
       "      <th>BUSSTOPID</th>\n",
       "      <th></th>\n",
       "    </tr>\n",
       "  </thead>\n",
       "  <tbody>\n",
       "    <tr>\n",
       "      <th>21010511001</th>\n",
       "      <td>4</td>\n",
       "    </tr>\n",
       "    <tr>\n",
       "      <th>21010511003</th>\n",
       "      <td>6</td>\n",
       "    </tr>\n",
       "    <tr>\n",
       "      <th>21010511004</th>\n",
       "      <td>18</td>\n",
       "    </tr>\n",
       "    <tr>\n",
       "      <th>21010511005</th>\n",
       "      <td>1</td>\n",
       "    </tr>\n",
       "    <tr>\n",
       "      <th>21010511006</th>\n",
       "      <td>1</td>\n",
       "    </tr>\n",
       "  </tbody>\n",
       "</table>\n",
       "</div>"
      ],
      "text/plain": [
       "             COUNT\n",
       "BUSSTOPID         \n",
       "21010511001      4\n",
       "21010511003      6\n",
       "21010511004     18\n",
       "21010511005      1\n",
       "21010511006      1"
      ]
     },
     "execution_count": 288,
     "metadata": {},
     "output_type": "execute_result"
    }
   ],
   "source": [
    "busstopid_count.head()"
   ]
  },
  {
   "cell_type": "code",
   "execution_count": 289,
   "metadata": {},
   "outputs": [],
   "source": [
    "# 각 id에 해당하는 버스정류장, 위도, 경도, 자치구 찾기\n",
    "names = []\n",
    "ys = []\n",
    "xs = []\n",
    "gus = []\n",
    "for id in busstopid_count.index :\n",
    "    names.append(busstop_busan[ busstop_busan['BUSSTOPID']==id ]['NAME'].values[0])\n",
    "    ys.append(busstop_busan[ busstop_busan['BUSSTOPID']==id ]['Y'].values[0])\n",
    "    xs.append(busstop_busan[ busstop_busan['BUSSTOPID']==id ]['X'].values[0])\n",
    "    gus.append(busstop_busan[ busstop_busan['BUSSTOPID']==id ]['GUNAME'].values[0])"
   ]
  },
  {
   "cell_type": "code",
   "execution_count": 290,
   "metadata": {},
   "outputs": [
    {
     "data": {
      "text/plain": [
       "(3723, 3723, 3723, 3723, 3723)"
      ]
     },
     "execution_count": 290,
     "metadata": {},
     "output_type": "execute_result"
    }
   ],
   "source": [
    "len(busstopid_count), len(names), len(ys), len(xs), len(gus)"
   ]
  },
  {
   "cell_type": "code",
   "execution_count": 291,
   "metadata": {},
   "outputs": [],
   "source": [
    "busstopid_count['NAME'] = names\n",
    "busstopid_count['Y'] = ys\n",
    "busstopid_count['X'] = xs\n",
    "busstopid_count['GUNAME'] = gus"
   ]
  },
  {
   "cell_type": "code",
   "execution_count": 292,
   "metadata": {},
   "outputs": [
    {
     "data": {
      "text/html": [
       "<div>\n",
       "<style scoped>\n",
       "    .dataframe tbody tr th:only-of-type {\n",
       "        vertical-align: middle;\n",
       "    }\n",
       "\n",
       "    .dataframe tbody tr th {\n",
       "        vertical-align: top;\n",
       "    }\n",
       "\n",
       "    .dataframe thead th {\n",
       "        text-align: right;\n",
       "    }\n",
       "</style>\n",
       "<table border=\"1\" class=\"dataframe\">\n",
       "  <thead>\n",
       "    <tr style=\"text-align: right;\">\n",
       "      <th></th>\n",
       "      <th>COUNT</th>\n",
       "      <th>NAME</th>\n",
       "      <th>Y</th>\n",
       "      <th>X</th>\n",
       "      <th>GUNAME</th>\n",
       "    </tr>\n",
       "    <tr>\n",
       "      <th>BUSSTOPID</th>\n",
       "      <th></th>\n",
       "      <th></th>\n",
       "      <th></th>\n",
       "      <th></th>\n",
       "      <th></th>\n",
       "    </tr>\n",
       "  </thead>\n",
       "  <tbody>\n",
       "    <tr>\n",
       "      <th>21010511001</th>\n",
       "      <td>4</td>\n",
       "      <td>제일은행앞</td>\n",
       "      <td>35.103002</td>\n",
       "      <td>129.034916</td>\n",
       "      <td>중구</td>\n",
       "    </tr>\n",
       "    <tr>\n",
       "      <th>21010511003</th>\n",
       "      <td>6</td>\n",
       "      <td>중부경찰서</td>\n",
       "      <td>35.107619</td>\n",
       "      <td>129.036175</td>\n",
       "      <td>중구</td>\n",
       "    </tr>\n",
       "    <tr>\n",
       "      <th>21010511004</th>\n",
       "      <td>18</td>\n",
       "      <td>영주동</td>\n",
       "      <td>35.109653</td>\n",
       "      <td>129.037496</td>\n",
       "      <td>중구</td>\n",
       "    </tr>\n",
       "    <tr>\n",
       "      <th>21010511005</th>\n",
       "      <td>1</td>\n",
       "      <td>2부두</td>\n",
       "      <td>35.108471</td>\n",
       "      <td>129.040106</td>\n",
       "      <td>중구</td>\n",
       "    </tr>\n",
       "    <tr>\n",
       "      <th>21010511006</th>\n",
       "      <td>1</td>\n",
       "      <td>2부두</td>\n",
       "      <td>35.108364</td>\n",
       "      <td>129.040671</td>\n",
       "      <td>중구</td>\n",
       "    </tr>\n",
       "  </tbody>\n",
       "</table>\n",
       "</div>"
      ],
      "text/plain": [
       "             COUNT   NAME          Y           X GUNAME\n",
       "BUSSTOPID                                              \n",
       "21010511001      4  제일은행앞  35.103002  129.034916     중구\n",
       "21010511003      6  중부경찰서  35.107619  129.036175     중구\n",
       "21010511004     18    영주동  35.109653  129.037496     중구\n",
       "21010511005      1    2부두  35.108471  129.040106     중구\n",
       "21010511006      1    2부두  35.108364  129.040671     중구"
      ]
     },
     "execution_count": 292,
     "metadata": {},
     "output_type": "execute_result"
    }
   ],
   "source": [
    "busstopid_count.head()"
   ]
  },
  {
   "cell_type": "code",
   "execution_count": 293,
   "metadata": {},
   "outputs": [
    {
     "data": {
      "text/html": [
       "<div>\n",
       "<style scoped>\n",
       "    .dataframe tbody tr th:only-of-type {\n",
       "        vertical-align: middle;\n",
       "    }\n",
       "\n",
       "    .dataframe tbody tr th {\n",
       "        vertical-align: top;\n",
       "    }\n",
       "\n",
       "    .dataframe thead th {\n",
       "        text-align: right;\n",
       "    }\n",
       "</style>\n",
       "<table border=\"1\" class=\"dataframe\">\n",
       "  <thead>\n",
       "    <tr style=\"text-align: right;\">\n",
       "      <th></th>\n",
       "      <th>COUNT</th>\n",
       "      <th>NAME</th>\n",
       "      <th>Y</th>\n",
       "      <th>X</th>\n",
       "      <th>GUNAME</th>\n",
       "    </tr>\n",
       "    <tr>\n",
       "      <th>BUSSTOPID</th>\n",
       "      <th></th>\n",
       "      <th></th>\n",
       "      <th></th>\n",
       "      <th></th>\n",
       "      <th></th>\n",
       "    </tr>\n",
       "  </thead>\n",
       "  <tbody>\n",
       "    <tr>\n",
       "      <th>21050531008</th>\n",
       "      <td>22</td>\n",
       "      <td>송상현광장</td>\n",
       "      <td>35.166863</td>\n",
       "      <td>129.065650</td>\n",
       "      <td>부산진구</td>\n",
       "    </tr>\n",
       "    <tr>\n",
       "      <th>21010511021</th>\n",
       "      <td>20</td>\n",
       "      <td>중앙동(중앙역)</td>\n",
       "      <td>35.106675</td>\n",
       "      <td>129.036341</td>\n",
       "      <td>중구</td>\n",
       "    </tr>\n",
       "    <tr>\n",
       "      <th>21010511015</th>\n",
       "      <td>20</td>\n",
       "      <td>중앙동(중앙역)</td>\n",
       "      <td>35.105433</td>\n",
       "      <td>129.036025</td>\n",
       "      <td>중구</td>\n",
       "    </tr>\n",
       "    <tr>\n",
       "      <th>50000002293</th>\n",
       "      <td>19</td>\n",
       "      <td>동래시장</td>\n",
       "      <td>35.201016</td>\n",
       "      <td>129.088032</td>\n",
       "      <td>동래구</td>\n",
       "    </tr>\n",
       "    <tr>\n",
       "      <th>50000002294</th>\n",
       "      <td>19</td>\n",
       "      <td>동래시장</td>\n",
       "      <td>35.201035</td>\n",
       "      <td>129.087176</td>\n",
       "      <td>동래구</td>\n",
       "    </tr>\n",
       "  </tbody>\n",
       "</table>\n",
       "</div>"
      ],
      "text/plain": [
       "             COUNT      NAME          Y           X GUNAME\n",
       "BUSSTOPID                                                 \n",
       "21050531008     22     송상현광장  35.166863  129.065650   부산진구\n",
       "21010511021     20  중앙동(중앙역)  35.106675  129.036341     중구\n",
       "21010511015     20  중앙동(중앙역)  35.105433  129.036025     중구\n",
       "50000002293     19      동래시장  35.201016  129.088032    동래구\n",
       "50000002294     19      동래시장  35.201035  129.087176    동래구"
      ]
     },
     "execution_count": 293,
     "metadata": {},
     "output_type": "execute_result"
    }
   ],
   "source": [
    "sorted_busstopid_count = busstopid_count.sort_values(by = 'COUNT', ascending=False)\n",
    "# 상위 10개\n",
    "sorted_busstopid_count.head()"
   ]
  },
  {
   "cell_type": "code",
   "execution_count": 294,
   "metadata": {},
   "outputs": [
    {
     "data": {
      "text/plain": [
       "838"
      ]
     },
     "execution_count": 294,
     "metadata": {},
     "output_type": "execute_result"
    }
   ],
   "source": [
    "# 1개의 버스만 정류하는 버스정류장의 개수\n",
    "len(sorted_busstopid_count[sorted_busstopid_count['COUNT'] == 1])"
   ]
  },
  {
   "cell_type": "code",
   "execution_count": 295,
   "metadata": {},
   "outputs": [],
   "source": [
    "# 그러나 앞서 언급했듯이\n",
    "# 첫차/막차 시간 배차간격 등을 고려하지 않았기 때문에\n",
    "# 이 데이터가 가지는 의미는 크지 않다\n",
    "# '한 정류장에 버스들이 총 몇 번 정류하는지' 추가 계산할 필요가 있다 "
   ]
  },
  {
   "cell_type": "markdown",
   "metadata": {},
   "source": [
    "### → 개별 정류장으로는 '송상현광장'이 정류 횟수가 가장 많다"
   ]
  },
  {
   "cell_type": "markdown",
   "metadata": {},
   "source": [
    "###### 시각화 : 정류 횟수가 15 이상인 정류소에 마커 표시"
   ]
  },
  {
   "cell_type": "code",
   "execution_count": 296,
   "metadata": {},
   "outputs": [],
   "source": [
    "import folium\n",
    "import json\n",
    "geo_str = json.load( open('./data/busan.json', encoding = 'utf-8') )"
   ]
  },
  {
   "cell_type": "code",
   "execution_count": 297,
   "metadata": {
    "scrolled": true
   },
   "outputs": [
    {
     "data": {
      "text/html": [
       "<div>\n",
       "<style scoped>\n",
       "    .dataframe tbody tr th:only-of-type {\n",
       "        vertical-align: middle;\n",
       "    }\n",
       "\n",
       "    .dataframe tbody tr th {\n",
       "        vertical-align: top;\n",
       "    }\n",
       "\n",
       "    .dataframe thead th {\n",
       "        text-align: right;\n",
       "    }\n",
       "</style>\n",
       "<table border=\"1\" class=\"dataframe\">\n",
       "  <thead>\n",
       "    <tr style=\"text-align: right;\">\n",
       "      <th></th>\n",
       "      <th>COUNT</th>\n",
       "      <th>NAME</th>\n",
       "      <th>Y</th>\n",
       "      <th>X</th>\n",
       "      <th>GUNAME</th>\n",
       "    </tr>\n",
       "    <tr>\n",
       "      <th>BUSSTOPID</th>\n",
       "      <th></th>\n",
       "      <th></th>\n",
       "      <th></th>\n",
       "      <th></th>\n",
       "      <th></th>\n",
       "    </tr>\n",
       "  </thead>\n",
       "  <tbody>\n",
       "    <tr>\n",
       "      <th>21050531008</th>\n",
       "      <td>22</td>\n",
       "      <td>송상현광장</td>\n",
       "      <td>35.166863</td>\n",
       "      <td>129.065650</td>\n",
       "      <td>부산진구</td>\n",
       "    </tr>\n",
       "    <tr>\n",
       "      <th>21010511021</th>\n",
       "      <td>20</td>\n",
       "      <td>중앙동(중앙역)</td>\n",
       "      <td>35.106675</td>\n",
       "      <td>129.036341</td>\n",
       "      <td>중구</td>\n",
       "    </tr>\n",
       "  </tbody>\n",
       "</table>\n",
       "</div>"
      ],
      "text/plain": [
       "             COUNT      NAME          Y           X GUNAME\n",
       "BUSSTOPID                                                 \n",
       "21050531008     22     송상현광장  35.166863  129.065650   부산진구\n",
       "21010511021     20  중앙동(중앙역)  35.106675  129.036341     중구"
      ]
     },
     "execution_count": 297,
     "metadata": {},
     "output_type": "execute_result"
    }
   ],
   "source": [
    "tmp = sorted_busstopid_count[sorted_busstopid_count['COUNT']>=15]\n",
    "tmp.head(2)"
   ]
  },
  {
   "cell_type": "code",
   "execution_count": 298,
   "metadata": {},
   "outputs": [
    {
     "data": {
      "text/html": [
       "<div style=\"width:100%;\"><div style=\"position:relative;width:100%;height:0;padding-bottom:60%;\"><iframe src=\"data:text/html;charset=utf-8;base64,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\" style=\"position:absolute;width:100%;height:100%;left:0;top:0;border:none !important;\" allowfullscreen webkitallowfullscreen mozallowfullscreen></iframe></div></div>"
      ],
      "text/plain": [
       "<folium.folium.Map at 0x261fa57d780>"
      ]
     },
     "execution_count": 298,
     "metadata": {},
     "output_type": "execute_result"
    }
   ],
   "source": [
    "gps = [ 35.1564294,129.0603389 ]\n",
    "map_busan_bs_over15 = folium.Map(location = gps, zoom_start=11)\n",
    "for id in tmp.index :\n",
    "    folium.Marker([tmp['Y'][id], tmp['X'][id]],\n",
    "                 icon = folium.Icon(icon = 'info-sign', \n",
    "                                    color = 'red')).add_to(map_busan_bs_over15)\n",
    "map_busan_bs_over15"
   ]
  },
  {
   "cell_type": "code",
   "execution_count": null,
   "metadata": {},
   "outputs": [],
   "source": []
  },
  {
   "cell_type": "markdown",
   "metadata": {},
   "source": [
    "### 같은 자치구 내, 같은 이름의 정류장이 여러 개 있는 점을 고려한 경우"
   ]
  },
  {
   "cell_type": "code",
   "execution_count": 299,
   "metadata": {
    "scrolled": false
   },
   "outputs": [
    {
     "data": {
      "text/html": [
       "<div>\n",
       "<style scoped>\n",
       "    .dataframe tbody tr th:only-of-type {\n",
       "        vertical-align: middle;\n",
       "    }\n",
       "\n",
       "    .dataframe tbody tr th {\n",
       "        vertical-align: top;\n",
       "    }\n",
       "\n",
       "    .dataframe thead th {\n",
       "        text-align: right;\n",
       "    }\n",
       "</style>\n",
       "<table border=\"1\" class=\"dataframe\">\n",
       "  <thead>\n",
       "    <tr style=\"text-align: right;\">\n",
       "      <th></th>\n",
       "      <th>COUNT</th>\n",
       "      <th>NAME</th>\n",
       "      <th>Y</th>\n",
       "      <th>X</th>\n",
       "      <th>GUNAME</th>\n",
       "    </tr>\n",
       "    <tr>\n",
       "      <th>BUSSTOPID</th>\n",
       "      <th></th>\n",
       "      <th></th>\n",
       "      <th></th>\n",
       "      <th></th>\n",
       "      <th></th>\n",
       "    </tr>\n",
       "  </thead>\n",
       "  <tbody>\n",
       "    <tr>\n",
       "      <th>21010511001</th>\n",
       "      <td>4</td>\n",
       "      <td>제일은행앞</td>\n",
       "      <td>35.103002</td>\n",
       "      <td>129.034916</td>\n",
       "      <td>중구</td>\n",
       "    </tr>\n",
       "    <tr>\n",
       "      <th>21010511003</th>\n",
       "      <td>6</td>\n",
       "      <td>중부경찰서</td>\n",
       "      <td>35.107619</td>\n",
       "      <td>129.036175</td>\n",
       "      <td>중구</td>\n",
       "    </tr>\n",
       "    <tr>\n",
       "      <th>21010511004</th>\n",
       "      <td>18</td>\n",
       "      <td>영주동</td>\n",
       "      <td>35.109653</td>\n",
       "      <td>129.037496</td>\n",
       "      <td>중구</td>\n",
       "    </tr>\n",
       "    <tr>\n",
       "      <th>21010511005</th>\n",
       "      <td>1</td>\n",
       "      <td>2부두</td>\n",
       "      <td>35.108471</td>\n",
       "      <td>129.040106</td>\n",
       "      <td>중구</td>\n",
       "    </tr>\n",
       "    <tr>\n",
       "      <th>21010511006</th>\n",
       "      <td>1</td>\n",
       "      <td>2부두</td>\n",
       "      <td>35.108364</td>\n",
       "      <td>129.040671</td>\n",
       "      <td>중구</td>\n",
       "    </tr>\n",
       "  </tbody>\n",
       "</table>\n",
       "</div>"
      ],
      "text/plain": [
       "             COUNT   NAME          Y           X GUNAME\n",
       "BUSSTOPID                                              \n",
       "21010511001      4  제일은행앞  35.103002  129.034916     중구\n",
       "21010511003      6  중부경찰서  35.107619  129.036175     중구\n",
       "21010511004     18    영주동  35.109653  129.037496     중구\n",
       "21010511005      1    2부두  35.108471  129.040106     중구\n",
       "21010511006      1    2부두  35.108364  129.040671     중구"
      ]
     },
     "execution_count": 299,
     "metadata": {},
     "output_type": "execute_result"
    }
   ],
   "source": [
    "busstopid_count_2 = busstopid_count[:]\n",
    "busstopid_count_2.head()"
   ]
  },
  {
   "cell_type": "code",
   "execution_count": 300,
   "metadata": {},
   "outputs": [],
   "source": [
    "name_gu_s = []\n",
    "for id in busstopid_count_2.index :\n",
    "    name_gu_s.append(busstopid_count_2['NAME'][id] + ' ' + busstopid_count_2['GUNAME'][id])"
   ]
  },
  {
   "cell_type": "code",
   "execution_count": 301,
   "metadata": {},
   "outputs": [
    {
     "data": {
      "text/plain": [
       "(3723, 3723)"
      ]
     },
     "execution_count": 301,
     "metadata": {},
     "output_type": "execute_result"
    }
   ],
   "source": [
    "len(busstopid_count_2), len(name_gu_s)"
   ]
  },
  {
   "cell_type": "code",
   "execution_count": 302,
   "metadata": {
    "scrolled": true
   },
   "outputs": [
    {
     "name": "stderr",
     "output_type": "stream",
     "text": [
      "C:\\Users\\User\\Anaconda3\\lib\\site-packages\\ipykernel_launcher.py:1: SettingWithCopyWarning: \n",
      "A value is trying to be set on a copy of a slice from a DataFrame.\n",
      "Try using .loc[row_indexer,col_indexer] = value instead\n",
      "\n",
      "See the caveats in the documentation: http://pandas.pydata.org/pandas-docs/stable/indexing.html#indexing-view-versus-copy\n",
      "  \"\"\"Entry point for launching an IPython kernel.\n"
     ]
    },
    {
     "data": {
      "text/html": [
       "<div>\n",
       "<style scoped>\n",
       "    .dataframe tbody tr th:only-of-type {\n",
       "        vertical-align: middle;\n",
       "    }\n",
       "\n",
       "    .dataframe tbody tr th {\n",
       "        vertical-align: top;\n",
       "    }\n",
       "\n",
       "    .dataframe thead th {\n",
       "        text-align: right;\n",
       "    }\n",
       "</style>\n",
       "<table border=\"1\" class=\"dataframe\">\n",
       "  <thead>\n",
       "    <tr style=\"text-align: right;\">\n",
       "      <th></th>\n",
       "      <th>COUNT</th>\n",
       "      <th>NAME</th>\n",
       "      <th>Y</th>\n",
       "      <th>X</th>\n",
       "      <th>GUNAME</th>\n",
       "      <th>NAME_GU</th>\n",
       "    </tr>\n",
       "    <tr>\n",
       "      <th>BUSSTOPID</th>\n",
       "      <th></th>\n",
       "      <th></th>\n",
       "      <th></th>\n",
       "      <th></th>\n",
       "      <th></th>\n",
       "      <th></th>\n",
       "    </tr>\n",
       "  </thead>\n",
       "  <tbody>\n",
       "    <tr>\n",
       "      <th>21010511001</th>\n",
       "      <td>4</td>\n",
       "      <td>제일은행앞</td>\n",
       "      <td>35.103002</td>\n",
       "      <td>129.034916</td>\n",
       "      <td>중구</td>\n",
       "      <td>제일은행앞 중구</td>\n",
       "    </tr>\n",
       "    <tr>\n",
       "      <th>21010511003</th>\n",
       "      <td>6</td>\n",
       "      <td>중부경찰서</td>\n",
       "      <td>35.107619</td>\n",
       "      <td>129.036175</td>\n",
       "      <td>중구</td>\n",
       "      <td>중부경찰서 중구</td>\n",
       "    </tr>\n",
       "    <tr>\n",
       "      <th>21010511004</th>\n",
       "      <td>18</td>\n",
       "      <td>영주동</td>\n",
       "      <td>35.109653</td>\n",
       "      <td>129.037496</td>\n",
       "      <td>중구</td>\n",
       "      <td>영주동 중구</td>\n",
       "    </tr>\n",
       "    <tr>\n",
       "      <th>21010511005</th>\n",
       "      <td>1</td>\n",
       "      <td>2부두</td>\n",
       "      <td>35.108471</td>\n",
       "      <td>129.040106</td>\n",
       "      <td>중구</td>\n",
       "      <td>2부두 중구</td>\n",
       "    </tr>\n",
       "    <tr>\n",
       "      <th>21010511006</th>\n",
       "      <td>1</td>\n",
       "      <td>2부두</td>\n",
       "      <td>35.108364</td>\n",
       "      <td>129.040671</td>\n",
       "      <td>중구</td>\n",
       "      <td>2부두 중구</td>\n",
       "    </tr>\n",
       "  </tbody>\n",
       "</table>\n",
       "</div>"
      ],
      "text/plain": [
       "             COUNT   NAME          Y           X GUNAME   NAME_GU\n",
       "BUSSTOPID                                                        \n",
       "21010511001      4  제일은행앞  35.103002  129.034916     중구  제일은행앞 중구\n",
       "21010511003      6  중부경찰서  35.107619  129.036175     중구  중부경찰서 중구\n",
       "21010511004     18    영주동  35.109653  129.037496     중구    영주동 중구\n",
       "21010511005      1    2부두  35.108471  129.040106     중구    2부두 중구\n",
       "21010511006      1    2부두  35.108364  129.040671     중구    2부두 중구"
      ]
     },
     "execution_count": 302,
     "metadata": {},
     "output_type": "execute_result"
    }
   ],
   "source": [
    "busstopid_count_2['NAME_GU'] = name_gu_s\n",
    "busstopid_count_2.head()"
   ]
  },
  {
   "cell_type": "code",
   "execution_count": 303,
   "metadata": {},
   "outputs": [],
   "source": [
    "new_busstop_count = pd.pivot_table(busstopid_count_2, \n",
    "               index = 'NAME_GU', \n",
    "               values = 'COUNT',\n",
    "               aggfunc = [np.sum])"
   ]
  },
  {
   "cell_type": "code",
   "execution_count": 304,
   "metadata": {},
   "outputs": [
    {
     "data": {
      "text/plain": [
       "array([[ 2],\n",
       "       [ 8],\n",
       "       [ 3],\n",
       "       ...,\n",
       "       [ 4],\n",
       "       [ 8],\n",
       "       [18]], dtype=int64)"
      ]
     },
     "execution_count": 304,
     "metadata": {},
     "output_type": "execute_result"
    }
   ],
   "source": [
    "new_busstop_count.values"
   ]
  },
  {
   "cell_type": "code",
   "execution_count": 305,
   "metadata": {},
   "outputs": [],
   "source": [
    "new_busstop_count = pd.DataFrame(new_busstop_count.values, index = new_busstop_count.index)"
   ]
  },
  {
   "cell_type": "code",
   "execution_count": 306,
   "metadata": {},
   "outputs": [
    {
     "data": {
      "text/html": [
       "<div>\n",
       "<style scoped>\n",
       "    .dataframe tbody tr th:only-of-type {\n",
       "        vertical-align: middle;\n",
       "    }\n",
       "\n",
       "    .dataframe tbody tr th {\n",
       "        vertical-align: top;\n",
       "    }\n",
       "\n",
       "    .dataframe thead th {\n",
       "        text-align: right;\n",
       "    }\n",
       "</style>\n",
       "<table border=\"1\" class=\"dataframe\">\n",
       "  <thead>\n",
       "    <tr style=\"text-align: right;\">\n",
       "      <th></th>\n",
       "      <th>COUNT</th>\n",
       "    </tr>\n",
       "    <tr>\n",
       "      <th>NAME_GU</th>\n",
       "      <th></th>\n",
       "    </tr>\n",
       "  </thead>\n",
       "  <tbody>\n",
       "    <tr>\n",
       "      <th>(구)검문소 강서구</th>\n",
       "      <td>2</td>\n",
       "    </tr>\n",
       "    <tr>\n",
       "      <th>(구)당감4동주민센터 부산진구</th>\n",
       "      <td>8</td>\n",
       "    </tr>\n",
       "    <tr>\n",
       "      <th>(구)대우자동차 부산진구</th>\n",
       "      <td>3</td>\n",
       "    </tr>\n",
       "    <tr>\n",
       "      <th>(구)성분도병원 동구</th>\n",
       "      <td>2</td>\n",
       "    </tr>\n",
       "    <tr>\n",
       "      <th>(구)해룡약국 동구</th>\n",
       "      <td>7</td>\n",
       "    </tr>\n",
       "  </tbody>\n",
       "</table>\n",
       "</div>"
      ],
      "text/plain": [
       "                  COUNT\n",
       "NAME_GU                \n",
       "(구)검문소 강서구            2\n",
       "(구)당감4동주민센터 부산진구      8\n",
       "(구)대우자동차 부산진구         3\n",
       "(구)성분도병원 동구           2\n",
       "(구)해룡약국 동구            7"
      ]
     },
     "execution_count": 306,
     "metadata": {},
     "output_type": "execute_result"
    }
   ],
   "source": [
    "new_busstop_count = new_busstop_count.rename(columns = {\n",
    "    0 : 'COUNT'\n",
    "})\n",
    "new_busstop_count.head()"
   ]
  },
  {
   "cell_type": "code",
   "execution_count": 307,
   "metadata": {},
   "outputs": [
    {
     "data": {
      "text/html": [
       "<div>\n",
       "<style scoped>\n",
       "    .dataframe tbody tr th:only-of-type {\n",
       "        vertical-align: middle;\n",
       "    }\n",
       "\n",
       "    .dataframe tbody tr th {\n",
       "        vertical-align: top;\n",
       "    }\n",
       "\n",
       "    .dataframe thead th {\n",
       "        text-align: right;\n",
       "    }\n",
       "</style>\n",
       "<table border=\"1\" class=\"dataframe\">\n",
       "  <thead>\n",
       "    <tr style=\"text-align: right;\">\n",
       "      <th></th>\n",
       "      <th>COUNT</th>\n",
       "    </tr>\n",
       "    <tr>\n",
       "      <th>NAME_GU</th>\n",
       "      <th></th>\n",
       "    </tr>\n",
       "  </thead>\n",
       "  <tbody>\n",
       "    <tr>\n",
       "      <th>부산역 동구</th>\n",
       "      <td>60</td>\n",
       "    </tr>\n",
       "    <tr>\n",
       "      <th>롯데호텔백화점(서면역) 부산진구</th>\n",
       "      <td>55</td>\n",
       "    </tr>\n",
       "    <tr>\n",
       "      <th>부산진역 동구</th>\n",
       "      <td>52</td>\n",
       "    </tr>\n",
       "    <tr>\n",
       "      <th>영주동 중구</th>\n",
       "      <td>48</td>\n",
       "    </tr>\n",
       "    <tr>\n",
       "      <th>중앙시장 부산진구</th>\n",
       "      <td>45</td>\n",
       "    </tr>\n",
       "    <tr>\n",
       "      <th>문현교차로 남구</th>\n",
       "      <td>41</td>\n",
       "    </tr>\n",
       "    <tr>\n",
       "      <th>중앙동(중앙역) 중구</th>\n",
       "      <td>40</td>\n",
       "    </tr>\n",
       "    <tr>\n",
       "      <th>부산진시장 동구</th>\n",
       "      <td>40</td>\n",
       "    </tr>\n",
       "    <tr>\n",
       "      <th>부전시장 부산진구</th>\n",
       "      <td>40</td>\n",
       "    </tr>\n",
       "    <tr>\n",
       "      <th>낙민역(동래고등학교) 동래구</th>\n",
       "      <td>38</td>\n",
       "    </tr>\n",
       "  </tbody>\n",
       "</table>\n",
       "</div>"
      ],
      "text/plain": [
       "                   COUNT\n",
       "NAME_GU                 \n",
       "부산역 동구                60\n",
       "롯데호텔백화점(서면역) 부산진구     55\n",
       "부산진역 동구               52\n",
       "영주동 중구                48\n",
       "중앙시장 부산진구             45\n",
       "문현교차로 남구              41\n",
       "중앙동(중앙역) 중구           40\n",
       "부산진시장 동구              40\n",
       "부전시장 부산진구             40\n",
       "낙민역(동래고등학교) 동래구       38"
      ]
     },
     "execution_count": 307,
     "metadata": {},
     "output_type": "execute_result"
    }
   ],
   "source": [
    "sorted_busstop_count = new_busstop_count.sort_values(by = 'COUNT', ascending=False)\n",
    "sorted_busstop_count.head(10)"
   ]
  },
  {
   "cell_type": "markdown",
   "metadata": {},
   "source": [
    "### → 같은 자치구 내, 같은 이름의 정류장을 하나로 본다면 동구의 '부산역'이 가장 높다"
   ]
  },
  {
   "cell_type": "code",
   "execution_count": null,
   "metadata": {},
   "outputs": [],
   "source": []
  },
  {
   "cell_type": "markdown",
   "metadata": {},
   "source": [
    "### 부산광역시 자치구별 버스정류소 개수"
   ]
  },
  {
   "cell_type": "code",
   "execution_count": 308,
   "metadata": {
    "scrolled": true
   },
   "outputs": [
    {
     "data": {
      "text/html": [
       "<div>\n",
       "<style scoped>\n",
       "    .dataframe tbody tr th:only-of-type {\n",
       "        vertical-align: middle;\n",
       "    }\n",
       "\n",
       "    .dataframe tbody tr th {\n",
       "        vertical-align: top;\n",
       "    }\n",
       "\n",
       "    .dataframe thead th {\n",
       "        text-align: right;\n",
       "    }\n",
       "</style>\n",
       "<table border=\"1\" class=\"dataframe\">\n",
       "  <thead>\n",
       "    <tr style=\"text-align: right;\">\n",
       "      <th></th>\n",
       "      <th>BUSLINENUM</th>\n",
       "      <th>NAME</th>\n",
       "      <th>SIGUNNAME</th>\n",
       "      <th>GUNAME</th>\n",
       "      <th>X</th>\n",
       "      <th>Y</th>\n",
       "      <th>BUSSTOPID</th>\n",
       "    </tr>\n",
       "  </thead>\n",
       "  <tbody>\n",
       "    <tr>\n",
       "      <th>0</th>\n",
       "      <td>1</td>\n",
       "      <td>기점</td>\n",
       "      <td>부산광역시</td>\n",
       "      <td>수영구</td>\n",
       "      <td>129.127115</td>\n",
       "      <td>35.159515</td>\n",
       "      <td>21140601002</td>\n",
       "    </tr>\n",
       "    <tr>\n",
       "      <th>1</th>\n",
       "      <td>1</td>\n",
       "      <td>MBC방송국</td>\n",
       "      <td>부산광역시</td>\n",
       "      <td>수영구</td>\n",
       "      <td>129.126416</td>\n",
       "      <td>35.159658</td>\n",
       "      <td>21140601013</td>\n",
       "    </tr>\n",
       "    <tr>\n",
       "      <th>2</th>\n",
       "      <td>1</td>\n",
       "      <td>민락동골목시장</td>\n",
       "      <td>부산광역시</td>\n",
       "      <td>수영구</td>\n",
       "      <td>129.123045</td>\n",
       "      <td>35.158969</td>\n",
       "      <td>21140601006</td>\n",
       "    </tr>\n",
       "    <tr>\n",
       "      <th>3</th>\n",
       "      <td>1</td>\n",
       "      <td>광안농협앞</td>\n",
       "      <td>부산광역시</td>\n",
       "      <td>수영구</td>\n",
       "      <td>129.120022</td>\n",
       "      <td>35.157650</td>\n",
       "      <td>21140571002</td>\n",
       "    </tr>\n",
       "    <tr>\n",
       "      <th>4</th>\n",
       "      <td>1</td>\n",
       "      <td>광안리해수욕장</td>\n",
       "      <td>부산광역시</td>\n",
       "      <td>수영구</td>\n",
       "      <td>129.116613</td>\n",
       "      <td>35.155443</td>\n",
       "      <td>21140571001</td>\n",
       "    </tr>\n",
       "  </tbody>\n",
       "</table>\n",
       "</div>"
      ],
      "text/plain": [
       "  BUSLINENUM     NAME SIGUNNAME GUNAME           X          Y    BUSSTOPID\n",
       "0          1       기점     부산광역시    수영구  129.127115  35.159515  21140601002\n",
       "1          1   MBC방송국     부산광역시    수영구  129.126416  35.159658  21140601013\n",
       "2          1  민락동골목시장     부산광역시    수영구  129.123045  35.158969  21140601006\n",
       "3          1    광안농협앞     부산광역시    수영구  129.120022  35.157650  21140571002\n",
       "4          1  광안리해수욕장     부산광역시    수영구  129.116613  35.155443  21140571001"
      ]
     },
     "execution_count": 308,
     "metadata": {},
     "output_type": "execute_result"
    }
   ],
   "source": [
    "busstop_busan.head()"
   ]
  },
  {
   "cell_type": "code",
   "execution_count": 309,
   "metadata": {},
   "outputs": [
    {
     "data": {
      "text/plain": [
       "3723"
      ]
     },
     "execution_count": 309,
     "metadata": {},
     "output_type": "execute_result"
    }
   ],
   "source": [
    "# 부산광역시 내 전체 정류장 개수\n",
    "len(busstop_busan['BUSSTOPID'].unique())"
   ]
  },
  {
   "cell_type": "code",
   "execution_count": 310,
   "metadata": {},
   "outputs": [
    {
     "data": {
      "text/plain": [
       "array(['수영구', '연제구', '부산진구', '강서구', '동래구', '동구', '남구', '기장군', '해운대구',\n",
       "       '금정구', '사하구', '서구', '중구', '북구', '사상구', '영도구'], dtype=object)"
      ]
     },
     "execution_count": 310,
     "metadata": {},
     "output_type": "execute_result"
    }
   ],
   "source": [
    "busstop_busan['GUNAME'].unique()"
   ]
  },
  {
   "cell_type": "code",
   "execution_count": 311,
   "metadata": {},
   "outputs": [],
   "source": [
    "# len(set(busstop_busan[busstop_busan['GUNAME'] == '수영구']['BUSSTOPID'].values))"
   ]
  },
  {
   "cell_type": "code",
   "execution_count": 312,
   "metadata": {},
   "outputs": [],
   "source": [
    "busstop_cnt_per_gu = []\n",
    "for gu in busstop_busan['GUNAME'].unique() :\n",
    "    busstop_cnt_per_gu.append(len(set(busstop_busan[busstop_busan['GUNAME'] == gu ]['BUSSTOPID'].values)))"
   ]
  },
  {
   "cell_type": "code",
   "execution_count": 313,
   "metadata": {},
   "outputs": [
    {
     "data": {
      "text/plain": [
       "[107, 147, 317, 395, 219, 164, 187, 422, 334, 219, 261, 186, 98, 197, 261, 212]"
      ]
     },
     "execution_count": 313,
     "metadata": {},
     "output_type": "execute_result"
    }
   ],
   "source": [
    "busstop_cnt_per_gu"
   ]
  },
  {
   "cell_type": "code",
   "execution_count": 314,
   "metadata": {},
   "outputs": [
    {
     "data": {
      "text/plain": [
       "(16, 16)"
      ]
     },
     "execution_count": 314,
     "metadata": {},
     "output_type": "execute_result"
    }
   ],
   "source": [
    "len(busstop_busan['GUNAME'].unique()), len(busstop_cnt_per_gu)"
   ]
  },
  {
   "cell_type": "code",
   "execution_count": 315,
   "metadata": {},
   "outputs": [
    {
     "data": {
      "text/html": [
       "<div>\n",
       "<style scoped>\n",
       "    .dataframe tbody tr th:only-of-type {\n",
       "        vertical-align: middle;\n",
       "    }\n",
       "\n",
       "    .dataframe tbody tr th {\n",
       "        vertical-align: top;\n",
       "    }\n",
       "\n",
       "    .dataframe thead th {\n",
       "        text-align: right;\n",
       "    }\n",
       "</style>\n",
       "<table border=\"1\" class=\"dataframe\">\n",
       "  <thead>\n",
       "    <tr style=\"text-align: right;\">\n",
       "      <th></th>\n",
       "      <th>COUNT</th>\n",
       "    </tr>\n",
       "  </thead>\n",
       "  <tbody>\n",
       "    <tr>\n",
       "      <th>수영구</th>\n",
       "      <td>107</td>\n",
       "    </tr>\n",
       "    <tr>\n",
       "      <th>연제구</th>\n",
       "      <td>147</td>\n",
       "    </tr>\n",
       "    <tr>\n",
       "      <th>부산진구</th>\n",
       "      <td>317</td>\n",
       "    </tr>\n",
       "    <tr>\n",
       "      <th>강서구</th>\n",
       "      <td>395</td>\n",
       "    </tr>\n",
       "    <tr>\n",
       "      <th>동래구</th>\n",
       "      <td>219</td>\n",
       "    </tr>\n",
       "    <tr>\n",
       "      <th>동구</th>\n",
       "      <td>164</td>\n",
       "    </tr>\n",
       "    <tr>\n",
       "      <th>남구</th>\n",
       "      <td>187</td>\n",
       "    </tr>\n",
       "    <tr>\n",
       "      <th>기장군</th>\n",
       "      <td>422</td>\n",
       "    </tr>\n",
       "    <tr>\n",
       "      <th>해운대구</th>\n",
       "      <td>334</td>\n",
       "    </tr>\n",
       "    <tr>\n",
       "      <th>금정구</th>\n",
       "      <td>219</td>\n",
       "    </tr>\n",
       "    <tr>\n",
       "      <th>사하구</th>\n",
       "      <td>261</td>\n",
       "    </tr>\n",
       "    <tr>\n",
       "      <th>서구</th>\n",
       "      <td>186</td>\n",
       "    </tr>\n",
       "    <tr>\n",
       "      <th>중구</th>\n",
       "      <td>98</td>\n",
       "    </tr>\n",
       "    <tr>\n",
       "      <th>북구</th>\n",
       "      <td>197</td>\n",
       "    </tr>\n",
       "    <tr>\n",
       "      <th>사상구</th>\n",
       "      <td>261</td>\n",
       "    </tr>\n",
       "    <tr>\n",
       "      <th>영도구</th>\n",
       "      <td>212</td>\n",
       "    </tr>\n",
       "  </tbody>\n",
       "</table>\n",
       "</div>"
      ],
      "text/plain": [
       "      COUNT\n",
       "수영구     107\n",
       "연제구     147\n",
       "부산진구    317\n",
       "강서구     395\n",
       "동래구     219\n",
       "동구      164\n",
       "남구      187\n",
       "기장군     422\n",
       "해운대구    334\n",
       "금정구     219\n",
       "사하구     261\n",
       "서구      186\n",
       "중구       98\n",
       "북구      197\n",
       "사상구     261\n",
       "영도구     212"
      ]
     },
     "execution_count": 315,
     "metadata": {},
     "output_type": "execute_result"
    }
   ],
   "source": [
    "busstop_cnt_per_gu = pd.DataFrame( busstop_cnt_per_gu, index = busstop_busan['GUNAME'].unique() )\n",
    "busstop_cnt_per_gu = busstop_cnt_per_gu.rename(columns = {\n",
    "    0 : 'COUNT'\n",
    "})\n",
    "busstop_cnt_per_gu"
   ]
  },
  {
   "cell_type": "code",
   "execution_count": 316,
   "metadata": {},
   "outputs": [
    {
     "data": {
      "text/plain": [
       "COUNT    3726\n",
       "dtype: int64"
      ]
     },
     "execution_count": 316,
     "metadata": {},
     "output_type": "execute_result"
    }
   ],
   "source": [
    "np.sum(busstop_cnt_per_gu)"
   ]
  },
  {
   "cell_type": "code",
   "execution_count": 317,
   "metadata": {},
   "outputs": [
    {
     "data": {
      "text/html": [
       "<div>\n",
       "<style scoped>\n",
       "    .dataframe tbody tr th:only-of-type {\n",
       "        vertical-align: middle;\n",
       "    }\n",
       "\n",
       "    .dataframe tbody tr th {\n",
       "        vertical-align: top;\n",
       "    }\n",
       "\n",
       "    .dataframe thead th {\n",
       "        text-align: right;\n",
       "    }\n",
       "</style>\n",
       "<table border=\"1\" class=\"dataframe\">\n",
       "  <thead>\n",
       "    <tr style=\"text-align: right;\">\n",
       "      <th></th>\n",
       "      <th>BUSLINENUM</th>\n",
       "      <th>NAME</th>\n",
       "      <th>SIGUNNAME</th>\n",
       "      <th>GUNAME</th>\n",
       "      <th>X</th>\n",
       "      <th>Y</th>\n",
       "      <th>BUSSTOPID</th>\n",
       "    </tr>\n",
       "  </thead>\n",
       "  <tbody>\n",
       "    <tr>\n",
       "      <th>0</th>\n",
       "      <td>1</td>\n",
       "      <td>기점</td>\n",
       "      <td>부산광역시</td>\n",
       "      <td>수영구</td>\n",
       "      <td>129.127115</td>\n",
       "      <td>35.159515</td>\n",
       "      <td>21140601002</td>\n",
       "    </tr>\n",
       "    <tr>\n",
       "      <th>1</th>\n",
       "      <td>1</td>\n",
       "      <td>MBC방송국</td>\n",
       "      <td>부산광역시</td>\n",
       "      <td>수영구</td>\n",
       "      <td>129.126416</td>\n",
       "      <td>35.159658</td>\n",
       "      <td>21140601013</td>\n",
       "    </tr>\n",
       "    <tr>\n",
       "      <th>2</th>\n",
       "      <td>1</td>\n",
       "      <td>민락동골목시장</td>\n",
       "      <td>부산광역시</td>\n",
       "      <td>수영구</td>\n",
       "      <td>129.123045</td>\n",
       "      <td>35.158969</td>\n",
       "      <td>21140601006</td>\n",
       "    </tr>\n",
       "    <tr>\n",
       "      <th>3</th>\n",
       "      <td>1</td>\n",
       "      <td>광안농협앞</td>\n",
       "      <td>부산광역시</td>\n",
       "      <td>수영구</td>\n",
       "      <td>129.120022</td>\n",
       "      <td>35.157650</td>\n",
       "      <td>21140571002</td>\n",
       "    </tr>\n",
       "    <tr>\n",
       "      <th>4</th>\n",
       "      <td>1</td>\n",
       "      <td>광안리해수욕장</td>\n",
       "      <td>부산광역시</td>\n",
       "      <td>수영구</td>\n",
       "      <td>129.116613</td>\n",
       "      <td>35.155443</td>\n",
       "      <td>21140571001</td>\n",
       "    </tr>\n",
       "  </tbody>\n",
       "</table>\n",
       "</div>"
      ],
      "text/plain": [
       "  BUSLINENUM     NAME SIGUNNAME GUNAME           X          Y    BUSSTOPID\n",
       "0          1       기점     부산광역시    수영구  129.127115  35.159515  21140601002\n",
       "1          1   MBC방송국     부산광역시    수영구  129.126416  35.159658  21140601013\n",
       "2          1  민락동골목시장     부산광역시    수영구  129.123045  35.158969  21140601006\n",
       "3          1    광안농협앞     부산광역시    수영구  129.120022  35.157650  21140571002\n",
       "4          1  광안리해수욕장     부산광역시    수영구  129.116613  35.155443  21140571001"
      ]
     },
     "execution_count": 317,
     "metadata": {},
     "output_type": "execute_result"
    }
   ],
   "source": [
    "busstop_busan.head()"
   ]
  },
  {
   "cell_type": "code",
   "execution_count": 318,
   "metadata": {},
   "outputs": [
    {
     "name": "stdout",
     "output_type": "stream",
     "text": [
      "50000000417\n",
      "50000000483\n",
      "50000000484\n"
     ]
    }
   ],
   "source": [
    "# 왜 합계가 다른가?\n",
    "# 같은 id일 때 자치구가 다르게 지정된 것이 있나?\n",
    "for id in busstop_busan['BUSSTOPID'].unique() :\n",
    "    if len(set(busstop_busan[busstop_busan['BUSSTOPID'] == id]['GUNAME']))>1 :\n",
    "        print(id)"
   ]
  },
  {
   "cell_type": "code",
   "execution_count": 319,
   "metadata": {},
   "outputs": [
    {
     "data": {
      "text/html": [
       "<div>\n",
       "<style scoped>\n",
       "    .dataframe tbody tr th:only-of-type {\n",
       "        vertical-align: middle;\n",
       "    }\n",
       "\n",
       "    .dataframe tbody tr th {\n",
       "        vertical-align: top;\n",
       "    }\n",
       "\n",
       "    .dataframe thead th {\n",
       "        text-align: right;\n",
       "    }\n",
       "</style>\n",
       "<table border=\"1\" class=\"dataframe\">\n",
       "  <thead>\n",
       "    <tr style=\"text-align: right;\">\n",
       "      <th></th>\n",
       "      <th>BUSLINENUM</th>\n",
       "      <th>NAME</th>\n",
       "      <th>SIGUNNAME</th>\n",
       "      <th>GUNAME</th>\n",
       "      <th>X</th>\n",
       "      <th>Y</th>\n",
       "      <th>BUSSTOPID</th>\n",
       "    </tr>\n",
       "  </thead>\n",
       "  <tbody>\n",
       "    <tr>\n",
       "      <th>1356</th>\n",
       "      <td>1004(심야)</td>\n",
       "      <td>냉정고개</td>\n",
       "      <td>부산광역시</td>\n",
       "      <td>부산진구</td>\n",
       "      <td>129.017364</td>\n",
       "      <td>35.15185</td>\n",
       "      <td>50000000417</td>\n",
       "    </tr>\n",
       "    <tr>\n",
       "      <th>7122</th>\n",
       "      <td>31</td>\n",
       "      <td>냉정고개</td>\n",
       "      <td>부산광역시</td>\n",
       "      <td>사상구</td>\n",
       "      <td>129.017364</td>\n",
       "      <td>35.15185</td>\n",
       "      <td>50000000417</td>\n",
       "    </tr>\n",
       "    <tr>\n",
       "      <th>7190</th>\n",
       "      <td>33</td>\n",
       "      <td>냉정고개</td>\n",
       "      <td>부산광역시</td>\n",
       "      <td>사상구</td>\n",
       "      <td>129.017364</td>\n",
       "      <td>35.15185</td>\n",
       "      <td>50000000417</td>\n",
       "    </tr>\n",
       "    <tr>\n",
       "      <th>7191</th>\n",
       "      <td>62</td>\n",
       "      <td>냉정고개</td>\n",
       "      <td>부산광역시</td>\n",
       "      <td>사상구</td>\n",
       "      <td>129.017364</td>\n",
       "      <td>35.15185</td>\n",
       "      <td>50000000417</td>\n",
       "    </tr>\n",
       "    <tr>\n",
       "      <th>7257</th>\n",
       "      <td>77</td>\n",
       "      <td>냉정고개</td>\n",
       "      <td>부산광역시</td>\n",
       "      <td>사상구</td>\n",
       "      <td>129.017364</td>\n",
       "      <td>35.15185</td>\n",
       "      <td>50000000417</td>\n",
       "    </tr>\n",
       "  </tbody>\n",
       "</table>\n",
       "</div>"
      ],
      "text/plain": [
       "     BUSLINENUM  NAME SIGUNNAME GUNAME           X         Y    BUSSTOPID\n",
       "1356   1004(심야)  냉정고개     부산광역시   부산진구  129.017364  35.15185  50000000417\n",
       "7122         31  냉정고개     부산광역시    사상구  129.017364  35.15185  50000000417\n",
       "7190         33  냉정고개     부산광역시    사상구  129.017364  35.15185  50000000417\n",
       "7191         62  냉정고개     부산광역시    사상구  129.017364  35.15185  50000000417\n",
       "7257         77  냉정고개     부산광역시    사상구  129.017364  35.15185  50000000417"
      ]
     },
     "execution_count": 319,
     "metadata": {},
     "output_type": "execute_result"
    }
   ],
   "source": [
    "busstop_busan[busstop_busan['BUSSTOPID'] == 50000000417]"
   ]
  },
  {
   "cell_type": "code",
   "execution_count": 320,
   "metadata": {},
   "outputs": [
    {
     "data": {
      "text/html": [
       "<div>\n",
       "<style scoped>\n",
       "    .dataframe tbody tr th:only-of-type {\n",
       "        vertical-align: middle;\n",
       "    }\n",
       "\n",
       "    .dataframe tbody tr th {\n",
       "        vertical-align: top;\n",
       "    }\n",
       "\n",
       "    .dataframe thead th {\n",
       "        text-align: right;\n",
       "    }\n",
       "</style>\n",
       "<table border=\"1\" class=\"dataframe\">\n",
       "  <thead>\n",
       "    <tr style=\"text-align: right;\">\n",
       "      <th></th>\n",
       "      <th>BUSLINENUM</th>\n",
       "      <th>NAME</th>\n",
       "      <th>SIGUNNAME</th>\n",
       "      <th>GUNAME</th>\n",
       "      <th>X</th>\n",
       "      <th>Y</th>\n",
       "      <th>BUSSTOPID</th>\n",
       "    </tr>\n",
       "  </thead>\n",
       "  <tbody>\n",
       "    <tr>\n",
       "      <th>1496</th>\n",
       "      <td>1005</td>\n",
       "      <td>진성철강</td>\n",
       "      <td>부산광역시</td>\n",
       "      <td>강서구</td>\n",
       "      <td>128.971792</td>\n",
       "      <td>35.144195</td>\n",
       "      <td>50000000483</td>\n",
       "    </tr>\n",
       "    <tr>\n",
       "      <th>5336</th>\n",
       "      <td>148-1</td>\n",
       "      <td>진성철강</td>\n",
       "      <td>부산광역시</td>\n",
       "      <td>사상구</td>\n",
       "      <td>128.971792</td>\n",
       "      <td>35.144195</td>\n",
       "      <td>50000000483</td>\n",
       "    </tr>\n",
       "  </tbody>\n",
       "</table>\n",
       "</div>"
      ],
      "text/plain": [
       "     BUSLINENUM  NAME SIGUNNAME GUNAME           X          Y    BUSSTOPID\n",
       "1496       1005  진성철강     부산광역시    강서구  128.971792  35.144195  50000000483\n",
       "5336      148-1  진성철강     부산광역시    사상구  128.971792  35.144195  50000000483"
      ]
     },
     "execution_count": 320,
     "metadata": {},
     "output_type": "execute_result"
    }
   ],
   "source": [
    "busstop_busan[busstop_busan['BUSSTOPID'] == 50000000483]"
   ]
  },
  {
   "cell_type": "code",
   "execution_count": 321,
   "metadata": {
    "scrolled": true
   },
   "outputs": [
    {
     "data": {
      "text/html": [
       "<div>\n",
       "<style scoped>\n",
       "    .dataframe tbody tr th:only-of-type {\n",
       "        vertical-align: middle;\n",
       "    }\n",
       "\n",
       "    .dataframe tbody tr th {\n",
       "        vertical-align: top;\n",
       "    }\n",
       "\n",
       "    .dataframe thead th {\n",
       "        text-align: right;\n",
       "    }\n",
       "</style>\n",
       "<table border=\"1\" class=\"dataframe\">\n",
       "  <thead>\n",
       "    <tr style=\"text-align: right;\">\n",
       "      <th></th>\n",
       "      <th>BUSLINENUM</th>\n",
       "      <th>NAME</th>\n",
       "      <th>SIGUNNAME</th>\n",
       "      <th>GUNAME</th>\n",
       "      <th>X</th>\n",
       "      <th>Y</th>\n",
       "      <th>BUSSTOPID</th>\n",
       "    </tr>\n",
       "  </thead>\n",
       "  <tbody>\n",
       "    <tr>\n",
       "      <th>1530</th>\n",
       "      <td>1005</td>\n",
       "      <td>진성철강</td>\n",
       "      <td>부산광역시</td>\n",
       "      <td>강서구</td>\n",
       "      <td>128.971742</td>\n",
       "      <td>35.143962</td>\n",
       "      <td>50000000484</td>\n",
       "    </tr>\n",
       "    <tr>\n",
       "      <th>5474</th>\n",
       "      <td>148-1</td>\n",
       "      <td>진성철강</td>\n",
       "      <td>부산광역시</td>\n",
       "      <td>사상구</td>\n",
       "      <td>128.971742</td>\n",
       "      <td>35.143962</td>\n",
       "      <td>50000000484</td>\n",
       "    </tr>\n",
       "  </tbody>\n",
       "</table>\n",
       "</div>"
      ],
      "text/plain": [
       "     BUSLINENUM  NAME SIGUNNAME GUNAME           X          Y    BUSSTOPID\n",
       "1530       1005  진성철강     부산광역시    강서구  128.971742  35.143962  50000000484\n",
       "5474      148-1  진성철강     부산광역시    사상구  128.971742  35.143962  50000000484"
      ]
     },
     "execution_count": 321,
     "metadata": {},
     "output_type": "execute_result"
    }
   ],
   "source": [
    "busstop_busan[busstop_busan['BUSSTOPID'] == 50000000484]"
   ]
  },
  {
   "cell_type": "code",
   "execution_count": 322,
   "metadata": {},
   "outputs": [],
   "source": [
    "# 같은 id임에도 불구하고 자치구가 다르게 지정된 곳이 3개 있다\n",
    "# 이로 인해 합계가 3만큼 오류가 발생했다\n",
    "# -> 일단 무시한다"
   ]
  },
  {
   "cell_type": "code",
   "execution_count": null,
   "metadata": {},
   "outputs": [],
   "source": []
  },
  {
   "cell_type": "code",
   "execution_count": 323,
   "metadata": {},
   "outputs": [
    {
     "data": {
      "text/html": [
       "<div>\n",
       "<style scoped>\n",
       "    .dataframe tbody tr th:only-of-type {\n",
       "        vertical-align: middle;\n",
       "    }\n",
       "\n",
       "    .dataframe tbody tr th {\n",
       "        vertical-align: top;\n",
       "    }\n",
       "\n",
       "    .dataframe thead th {\n",
       "        text-align: right;\n",
       "    }\n",
       "</style>\n",
       "<table border=\"1\" class=\"dataframe\">\n",
       "  <thead>\n",
       "    <tr style=\"text-align: right;\">\n",
       "      <th></th>\n",
       "      <th>COUNT</th>\n",
       "    </tr>\n",
       "  </thead>\n",
       "  <tbody>\n",
       "    <tr>\n",
       "      <th>기장군</th>\n",
       "      <td>422</td>\n",
       "    </tr>\n",
       "    <tr>\n",
       "      <th>강서구</th>\n",
       "      <td>395</td>\n",
       "    </tr>\n",
       "    <tr>\n",
       "      <th>해운대구</th>\n",
       "      <td>334</td>\n",
       "    </tr>\n",
       "    <tr>\n",
       "      <th>부산진구</th>\n",
       "      <td>317</td>\n",
       "    </tr>\n",
       "    <tr>\n",
       "      <th>사하구</th>\n",
       "      <td>261</td>\n",
       "    </tr>\n",
       "    <tr>\n",
       "      <th>사상구</th>\n",
       "      <td>261</td>\n",
       "    </tr>\n",
       "    <tr>\n",
       "      <th>동래구</th>\n",
       "      <td>219</td>\n",
       "    </tr>\n",
       "    <tr>\n",
       "      <th>금정구</th>\n",
       "      <td>219</td>\n",
       "    </tr>\n",
       "    <tr>\n",
       "      <th>영도구</th>\n",
       "      <td>212</td>\n",
       "    </tr>\n",
       "    <tr>\n",
       "      <th>북구</th>\n",
       "      <td>197</td>\n",
       "    </tr>\n",
       "    <tr>\n",
       "      <th>남구</th>\n",
       "      <td>187</td>\n",
       "    </tr>\n",
       "    <tr>\n",
       "      <th>서구</th>\n",
       "      <td>186</td>\n",
       "    </tr>\n",
       "    <tr>\n",
       "      <th>동구</th>\n",
       "      <td>164</td>\n",
       "    </tr>\n",
       "    <tr>\n",
       "      <th>연제구</th>\n",
       "      <td>147</td>\n",
       "    </tr>\n",
       "    <tr>\n",
       "      <th>수영구</th>\n",
       "      <td>107</td>\n",
       "    </tr>\n",
       "    <tr>\n",
       "      <th>중구</th>\n",
       "      <td>98</td>\n",
       "    </tr>\n",
       "  </tbody>\n",
       "</table>\n",
       "</div>"
      ],
      "text/plain": [
       "      COUNT\n",
       "기장군     422\n",
       "강서구     395\n",
       "해운대구    334\n",
       "부산진구    317\n",
       "사하구     261\n",
       "사상구     261\n",
       "동래구     219\n",
       "금정구     219\n",
       "영도구     212\n",
       "북구      197\n",
       "남구      187\n",
       "서구      186\n",
       "동구      164\n",
       "연제구     147\n",
       "수영구     107\n",
       "중구       98"
      ]
     },
     "execution_count": 323,
     "metadata": {},
     "output_type": "execute_result"
    }
   ],
   "source": [
    "sorted_busstop_cnt_per_gu = busstop_cnt_per_gu.sort_values(by='COUNT', ascending=False)\n",
    "sorted_busstop_cnt_per_gu"
   ]
  },
  {
   "cell_type": "markdown",
   "metadata": {},
   "source": [
    "###### 지도에 시각화"
   ]
  },
  {
   "cell_type": "code",
   "execution_count": 324,
   "metadata": {},
   "outputs": [
    {
     "data": {
      "text/html": [
       "<div style=\"width:100%;\"><div style=\"position:relative;width:100%;height:0;padding-bottom:60%;\"><iframe src=\"data:text/html;charset=utf-8;base64,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\" style=\"position:absolute;width:100%;height:100%;left:0;top:0;border:none !important;\" allowfullscreen webkitallowfullscreen mozallowfullscreen></iframe></div></div>"
      ],
      "text/plain": [
       "<folium.folium.Map at 0x261f8d998d0>"
      ]
     },
     "execution_count": 324,
     "metadata": {},
     "output_type": "execute_result"
    }
   ],
   "source": [
    "gps = [ 35.1564294,129.0603389 ]\n",
    "map_busan_bs_cnt =  folium.Map(location = gps, zoom_start=10)\n",
    "folium.Choropleth(geo_data = geo_str, \n",
    "                 name = 'busan',\n",
    "                 data = sorted_busstop_cnt_per_gu,\n",
    "                 columns = [sorted_busstop_cnt_per_gu.index, 'COUNT'],\n",
    "                 key_on = 'feature.id',\n",
    "                 fill_color = 'PuRd',\n",
    "                 legend_name = '부산광역시 자치구별 버스정류장 수 (개)').add_to(map_busan_bs_cnt)\n",
    "map_busan_bs_cnt"
   ]
  },
  {
   "cell_type": "code",
   "execution_count": null,
   "metadata": {},
   "outputs": [],
   "source": []
  },
  {
   "cell_type": "markdown",
   "metadata": {},
   "source": [
    "### 자치구별 인구 / 면적 / 인구밀도와 버스정류소 개수와의 상관관계 "
   ]
  },
  {
   "cell_type": "code",
   "execution_count": 325,
   "metadata": {},
   "outputs": [],
   "source": [
    "# 구군별 세대 및 인구 주민등록 (2017)\n",
    "# busan_population.xlsx"
   ]
  },
  {
   "cell_type": "code",
   "execution_count": 326,
   "metadata": {},
   "outputs": [
    {
     "data": {
      "text/html": [
       "<div>\n",
       "<style scoped>\n",
       "    .dataframe tbody tr th:only-of-type {\n",
       "        vertical-align: middle;\n",
       "    }\n",
       "\n",
       "    .dataframe tbody tr th {\n",
       "        vertical-align: top;\n",
       "    }\n",
       "\n",
       "    .dataframe thead th {\n",
       "        text-align: right;\n",
       "    }\n",
       "</style>\n",
       "<table border=\"1\" class=\"dataframe\">\n",
       "  <thead>\n",
       "    <tr style=\"text-align: right;\">\n",
       "      <th></th>\n",
       "      <th>인구 (명)</th>\n",
       "      <th>인구 (명).1</th>\n",
       "      <th>인구 (명).2</th>\n",
       "      <th>한국인 (명)</th>\n",
       "      <th>한국인 (명).1</th>\n",
       "      <th>한국인 (명).2</th>\n",
       "      <th>인구밀도 (명/㎢)</th>\n",
       "      <th>면적 (㎢)</th>\n",
       "    </tr>\n",
       "    <tr>\n",
       "      <th>구군별(1)</th>\n",
       "      <th></th>\n",
       "      <th></th>\n",
       "      <th></th>\n",
       "      <th></th>\n",
       "      <th></th>\n",
       "      <th></th>\n",
       "      <th></th>\n",
       "      <th></th>\n",
       "    </tr>\n",
       "  </thead>\n",
       "  <tbody>\n",
       "    <tr>\n",
       "      <th>구군별(1)</th>\n",
       "      <td>소계</td>\n",
       "      <td>남자</td>\n",
       "      <td>여자</td>\n",
       "      <td>소계</td>\n",
       "      <td>남자</td>\n",
       "      <td>여자</td>\n",
       "      <td>소계</td>\n",
       "      <td>소계</td>\n",
       "    </tr>\n",
       "    <tr>\n",
       "      <th>합계</th>\n",
       "      <td>3520306</td>\n",
       "      <td>1736878</td>\n",
       "      <td>1783428</td>\n",
       "      <td>3470653</td>\n",
       "      <td>1709508</td>\n",
       "      <td>1761145</td>\n",
       "      <td>4572</td>\n",
       "      <td>770.04</td>\n",
       "    </tr>\n",
       "    <tr>\n",
       "      <th>중구</th>\n",
       "      <td>46066</td>\n",
       "      <td>22843</td>\n",
       "      <td>23223</td>\n",
       "      <td>44218</td>\n",
       "      <td>21662</td>\n",
       "      <td>22556</td>\n",
       "      <td>16278</td>\n",
       "      <td>2.83</td>\n",
       "    </tr>\n",
       "    <tr>\n",
       "      <th>서구</th>\n",
       "      <td>111945</td>\n",
       "      <td>55081</td>\n",
       "      <td>56864</td>\n",
       "      <td>110039</td>\n",
       "      <td>53873</td>\n",
       "      <td>56166</td>\n",
       "      <td>8008</td>\n",
       "      <td>13.98</td>\n",
       "    </tr>\n",
       "    <tr>\n",
       "      <th>동구</th>\n",
       "      <td>90856</td>\n",
       "      <td>44786</td>\n",
       "      <td>46070</td>\n",
       "      <td>88868</td>\n",
       "      <td>43927</td>\n",
       "      <td>44941</td>\n",
       "      <td>9328</td>\n",
       "      <td>9.74</td>\n",
       "    </tr>\n",
       "  </tbody>\n",
       "</table>\n",
       "</div>"
      ],
      "text/plain": [
       "         인구 (명) 인구 (명).1 인구 (명).2  한국인 (명) 한국인 (명).1 한국인 (명).2 인구밀도 (명/㎢)  \\\n",
       "구군별(1)                                                                      \n",
       "구군별(1)       소계       남자       여자       소계        남자        여자         소계   \n",
       "합계      3520306  1736878  1783428  3470653   1709508   1761145       4572   \n",
       "중구        46066    22843    23223    44218     21662     22556      16278   \n",
       "서구       111945    55081    56864   110039     53873     56166       8008   \n",
       "동구        90856    44786    46070    88868     43927     44941       9328   \n",
       "\n",
       "        면적 (㎢)  \n",
       "구군별(1)          \n",
       "구군별(1)      소계  \n",
       "합계      770.04  \n",
       "중구        2.83  \n",
       "서구       13.98  \n",
       "동구        9.74  "
      ]
     },
     "execution_count": 326,
     "metadata": {},
     "output_type": "execute_result"
    }
   ],
   "source": [
    "busan_population_raw = pd.read_excel('./data/busan_population.xlsx', header=1, index_col=0)\n",
    "busan_population_raw.head()"
   ]
  },
  {
   "cell_type": "code",
   "execution_count": 327,
   "metadata": {},
   "outputs": [
    {
     "data": {
      "text/html": [
       "<div>\n",
       "<style scoped>\n",
       "    .dataframe tbody tr th:only-of-type {\n",
       "        vertical-align: middle;\n",
       "    }\n",
       "\n",
       "    .dataframe tbody tr th {\n",
       "        vertical-align: top;\n",
       "    }\n",
       "\n",
       "    .dataframe thead th {\n",
       "        text-align: right;\n",
       "    }\n",
       "</style>\n",
       "<table border=\"1\" class=\"dataframe\">\n",
       "  <thead>\n",
       "    <tr style=\"text-align: right;\">\n",
       "      <th></th>\n",
       "      <th>인구 (명)</th>\n",
       "      <th>인구밀도 (명/㎢)</th>\n",
       "      <th>면적 (㎢)</th>\n",
       "    </tr>\n",
       "    <tr>\n",
       "      <th>구군별(1)</th>\n",
       "      <th></th>\n",
       "      <th></th>\n",
       "      <th></th>\n",
       "    </tr>\n",
       "  </thead>\n",
       "  <tbody>\n",
       "    <tr>\n",
       "      <th>합계</th>\n",
       "      <td>3520306</td>\n",
       "      <td>4572</td>\n",
       "      <td>770.04</td>\n",
       "    </tr>\n",
       "    <tr>\n",
       "      <th>중구</th>\n",
       "      <td>46066</td>\n",
       "      <td>16278</td>\n",
       "      <td>2.83</td>\n",
       "    </tr>\n",
       "    <tr>\n",
       "      <th>서구</th>\n",
       "      <td>111945</td>\n",
       "      <td>8008</td>\n",
       "      <td>13.98</td>\n",
       "    </tr>\n",
       "    <tr>\n",
       "      <th>동구</th>\n",
       "      <td>90856</td>\n",
       "      <td>9328</td>\n",
       "      <td>9.74</td>\n",
       "    </tr>\n",
       "    <tr>\n",
       "      <th>영도구</th>\n",
       "      <td>125347</td>\n",
       "      <td>8833</td>\n",
       "      <td>14.19</td>\n",
       "    </tr>\n",
       "  </tbody>\n",
       "</table>\n",
       "</div>"
      ],
      "text/plain": [
       "         인구 (명) 인구밀도 (명/㎢)  면적 (㎢)\n",
       "구군별(1)                            \n",
       "합계      3520306       4572  770.04\n",
       "중구        46066      16278    2.83\n",
       "서구       111945       8008   13.98\n",
       "동구        90856       9328    9.74\n",
       "영도구      125347       8833   14.19"
      ]
     },
     "execution_count": 327,
     "metadata": {},
     "output_type": "execute_result"
    }
   ],
   "source": [
    "busan_info = busan_population_raw.iloc[1:, [0, 6, 7]]\n",
    "busan_info.head()"
   ]
  },
  {
   "cell_type": "code",
   "execution_count": 328,
   "metadata": {},
   "outputs": [],
   "source": [
    "# 합계 제외\n",
    "busan_info = busan_info.iloc[1:,:]"
   ]
  },
  {
   "cell_type": "code",
   "execution_count": 329,
   "metadata": {},
   "outputs": [
    {
     "data": {
      "text/html": [
       "<div>\n",
       "<style scoped>\n",
       "    .dataframe tbody tr th:only-of-type {\n",
       "        vertical-align: middle;\n",
       "    }\n",
       "\n",
       "    .dataframe tbody tr th {\n",
       "        vertical-align: top;\n",
       "    }\n",
       "\n",
       "    .dataframe thead th {\n",
       "        text-align: right;\n",
       "    }\n",
       "</style>\n",
       "<table border=\"1\" class=\"dataframe\">\n",
       "  <thead>\n",
       "    <tr style=\"text-align: right;\">\n",
       "      <th></th>\n",
       "      <th>인구 (명)</th>\n",
       "      <th>인구밀도 (명/㎢)</th>\n",
       "      <th>면적 (㎢)</th>\n",
       "    </tr>\n",
       "    <tr>\n",
       "      <th>구군별(1)</th>\n",
       "      <th></th>\n",
       "      <th></th>\n",
       "      <th></th>\n",
       "    </tr>\n",
       "  </thead>\n",
       "  <tbody>\n",
       "    <tr>\n",
       "      <th>중구</th>\n",
       "      <td>46066</td>\n",
       "      <td>16278</td>\n",
       "      <td>2.83</td>\n",
       "    </tr>\n",
       "    <tr>\n",
       "      <th>서구</th>\n",
       "      <td>111945</td>\n",
       "      <td>8008</td>\n",
       "      <td>13.98</td>\n",
       "    </tr>\n",
       "    <tr>\n",
       "      <th>동구</th>\n",
       "      <td>90856</td>\n",
       "      <td>9328</td>\n",
       "      <td>9.74</td>\n",
       "    </tr>\n",
       "    <tr>\n",
       "      <th>영도구</th>\n",
       "      <td>125347</td>\n",
       "      <td>8833</td>\n",
       "      <td>14.19</td>\n",
       "    </tr>\n",
       "    <tr>\n",
       "      <th>부산진구</th>\n",
       "      <td>374504</td>\n",
       "      <td>12622</td>\n",
       "      <td>29.67</td>\n",
       "    </tr>\n",
       "    <tr>\n",
       "      <th>동래구</th>\n",
       "      <td>271967</td>\n",
       "      <td>16354</td>\n",
       "      <td>16.63</td>\n",
       "    </tr>\n",
       "    <tr>\n",
       "      <th>남구</th>\n",
       "      <td>279309</td>\n",
       "      <td>10418</td>\n",
       "      <td>26.81</td>\n",
       "    </tr>\n",
       "    <tr>\n",
       "      <th>북구</th>\n",
       "      <td>305045</td>\n",
       "      <td>7748</td>\n",
       "      <td>39.37</td>\n",
       "    </tr>\n",
       "    <tr>\n",
       "      <th>해운대구</th>\n",
       "      <td>417161</td>\n",
       "      <td>8105</td>\n",
       "      <td>51.47</td>\n",
       "    </tr>\n",
       "    <tr>\n",
       "      <th>사하구</th>\n",
       "      <td>338112</td>\n",
       "      <td>8071</td>\n",
       "      <td>41.89</td>\n",
       "    </tr>\n",
       "    <tr>\n",
       "      <th>금정구</th>\n",
       "      <td>248917</td>\n",
       "      <td>3814</td>\n",
       "      <td>65.27</td>\n",
       "    </tr>\n",
       "    <tr>\n",
       "      <th>강서구</th>\n",
       "      <td>123079</td>\n",
       "      <td>678</td>\n",
       "      <td>181.49</td>\n",
       "    </tr>\n",
       "    <tr>\n",
       "      <th>연제구</th>\n",
       "      <td>207729</td>\n",
       "      <td>17168</td>\n",
       "      <td>12.1</td>\n",
       "    </tr>\n",
       "    <tr>\n",
       "      <th>수영구</th>\n",
       "      <td>181725</td>\n",
       "      <td>17799</td>\n",
       "      <td>10.21</td>\n",
       "    </tr>\n",
       "    <tr>\n",
       "      <th>사상구</th>\n",
       "      <td>234624</td>\n",
       "      <td>6501</td>\n",
       "      <td>36.09</td>\n",
       "    </tr>\n",
       "    <tr>\n",
       "      <th>기장군</th>\n",
       "      <td>163920</td>\n",
       "      <td>751</td>\n",
       "      <td>218.3</td>\n",
       "    </tr>\n",
       "  </tbody>\n",
       "</table>\n",
       "</div>"
      ],
      "text/plain": [
       "        인구 (명) 인구밀도 (명/㎢)  면적 (㎢)\n",
       "구군별(1)                           \n",
       "중구       46066      16278    2.83\n",
       "서구      111945       8008   13.98\n",
       "동구       90856       9328    9.74\n",
       "영도구     125347       8833   14.19\n",
       "부산진구    374504      12622   29.67\n",
       "동래구     271967      16354   16.63\n",
       "남구      279309      10418   26.81\n",
       "북구      305045       7748   39.37\n",
       "해운대구    417161       8105   51.47\n",
       "사하구     338112       8071   41.89\n",
       "금정구     248917       3814   65.27\n",
       "강서구     123079        678  181.49\n",
       "연제구     207729      17168    12.1\n",
       "수영구     181725      17799   10.21\n",
       "사상구     234624       6501   36.09\n",
       "기장군     163920        751   218.3"
      ]
     },
     "execution_count": 329,
     "metadata": {},
     "output_type": "execute_result"
    }
   ],
   "source": [
    "busan_info"
   ]
  },
  {
   "cell_type": "code",
   "execution_count": null,
   "metadata": {},
   "outputs": [],
   "source": []
  },
  {
   "cell_type": "markdown",
   "metadata": {},
   "source": [
    "###### 자치구별 인구밀도 : 지도에 시각화"
   ]
  },
  {
   "cell_type": "code",
   "execution_count": 330,
   "metadata": {},
   "outputs": [
    {
     "data": {
      "text/html": [
       "<div style=\"width:100%;\"><div style=\"position:relative;width:100%;height:0;padding-bottom:60%;\"><iframe src=\"data:text/html;charset=utf-8;base64,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\" style=\"position:absolute;width:100%;height:100%;left:0;top:0;border:none !important;\" allowfullscreen webkitallowfullscreen mozallowfullscreen></iframe></div></div>"
      ],
      "text/plain": [
       "<folium.folium.Map at 0x261f8f16588>"
      ]
     },
     "execution_count": 330,
     "metadata": {},
     "output_type": "execute_result"
    }
   ],
   "source": [
    "gps = [ 35.1564294,129.0603389 ]\n",
    "map_busan_pop_density = folium.Map(location = gps, zoom_start=10)\n",
    "folium.Choropleth(geo_data = geo_str, \n",
    "                 name = 'busan',\n",
    "                 data = busan_info,\n",
    "                 columns = [busan_info.index, '인구밀도 (명/㎢)'],\n",
    "                 key_on = 'feature.id',\n",
    "                 fill_color = 'PuRd',\n",
    "                 legend_name = '부산광역시 자치구별 인구밀도 (명/㎢)').add_to(map_busan_pop_density)\n",
    "map_busan_pop_density"
   ]
  },
  {
   "cell_type": "code",
   "execution_count": null,
   "metadata": {},
   "outputs": [],
   "source": []
  },
  {
   "cell_type": "markdown",
   "metadata": {},
   "source": [
    "###### 자치구별 인구밀도(정규화) : 지도에 시각화"
   ]
  },
  {
   "cell_type": "code",
   "execution_count": 331,
   "metadata": {},
   "outputs": [],
   "source": [
    "# MinMaxScaler를 이용한 정규화\n",
    "from sklearn import preprocessing\n",
    "min_max_scaler = preprocessing.MinMaxScaler()"
   ]
  },
  {
   "cell_type": "code",
   "execution_count": 332,
   "metadata": {},
   "outputs": [
    {
     "data": {
      "text/html": [
       "<div>\n",
       "<style scoped>\n",
       "    .dataframe tbody tr th:only-of-type {\n",
       "        vertical-align: middle;\n",
       "    }\n",
       "\n",
       "    .dataframe tbody tr th {\n",
       "        vertical-align: top;\n",
       "    }\n",
       "\n",
       "    .dataframe thead th {\n",
       "        text-align: right;\n",
       "    }\n",
       "</style>\n",
       "<table border=\"1\" class=\"dataframe\">\n",
       "  <thead>\n",
       "    <tr style=\"text-align: right;\">\n",
       "      <th></th>\n",
       "      <th>인구밀도 (명/㎢)</th>\n",
       "    </tr>\n",
       "    <tr>\n",
       "      <th>구군별(1)</th>\n",
       "      <th></th>\n",
       "    </tr>\n",
       "  </thead>\n",
       "  <tbody>\n",
       "    <tr>\n",
       "      <th>중구</th>\n",
       "      <td>16278</td>\n",
       "    </tr>\n",
       "    <tr>\n",
       "      <th>서구</th>\n",
       "      <td>8008</td>\n",
       "    </tr>\n",
       "    <tr>\n",
       "      <th>동구</th>\n",
       "      <td>9328</td>\n",
       "    </tr>\n",
       "    <tr>\n",
       "      <th>영도구</th>\n",
       "      <td>8833</td>\n",
       "    </tr>\n",
       "    <tr>\n",
       "      <th>부산진구</th>\n",
       "      <td>12622</td>\n",
       "    </tr>\n",
       "    <tr>\n",
       "      <th>동래구</th>\n",
       "      <td>16354</td>\n",
       "    </tr>\n",
       "    <tr>\n",
       "      <th>남구</th>\n",
       "      <td>10418</td>\n",
       "    </tr>\n",
       "    <tr>\n",
       "      <th>북구</th>\n",
       "      <td>7748</td>\n",
       "    </tr>\n",
       "    <tr>\n",
       "      <th>해운대구</th>\n",
       "      <td>8105</td>\n",
       "    </tr>\n",
       "    <tr>\n",
       "      <th>사하구</th>\n",
       "      <td>8071</td>\n",
       "    </tr>\n",
       "    <tr>\n",
       "      <th>금정구</th>\n",
       "      <td>3814</td>\n",
       "    </tr>\n",
       "    <tr>\n",
       "      <th>강서구</th>\n",
       "      <td>678</td>\n",
       "    </tr>\n",
       "    <tr>\n",
       "      <th>연제구</th>\n",
       "      <td>17168</td>\n",
       "    </tr>\n",
       "    <tr>\n",
       "      <th>수영구</th>\n",
       "      <td>17799</td>\n",
       "    </tr>\n",
       "    <tr>\n",
       "      <th>사상구</th>\n",
       "      <td>6501</td>\n",
       "    </tr>\n",
       "    <tr>\n",
       "      <th>기장군</th>\n",
       "      <td>751</td>\n",
       "    </tr>\n",
       "  </tbody>\n",
       "</table>\n",
       "</div>"
      ],
      "text/plain": [
       "       인구밀도 (명/㎢)\n",
       "구군별(1)           \n",
       "중구          16278\n",
       "서구           8008\n",
       "동구           9328\n",
       "영도구          8833\n",
       "부산진구        12622\n",
       "동래구         16354\n",
       "남구          10418\n",
       "북구           7748\n",
       "해운대구         8105\n",
       "사하구          8071\n",
       "금정구          3814\n",
       "강서구           678\n",
       "연제구         17168\n",
       "수영구         17799\n",
       "사상구          6501\n",
       "기장군           751"
      ]
     },
     "execution_count": 332,
     "metadata": {},
     "output_type": "execute_result"
    }
   ],
   "source": [
    "pop_density = busan_info.loc[:,['인구밀도 (명/㎢)']]\n",
    "pop_density"
   ]
  },
  {
   "cell_type": "code",
   "execution_count": 333,
   "metadata": {},
   "outputs": [
    {
     "data": {
      "text/plain": [
       "array([[0.91116173],\n",
       "       [0.4281292 ],\n",
       "       [0.5052275 ],\n",
       "       [0.47631564],\n",
       "       [0.6976228 ],\n",
       "       [0.91560072],\n",
       "       [0.568892  ],\n",
       "       [0.41294317],\n",
       "       [0.43379475],\n",
       "       [0.43180889],\n",
       "       [0.18316687],\n",
       "       [0.        ],\n",
       "       [0.96314468],\n",
       "       [1.        ],\n",
       "       [0.34010864],\n",
       "       [0.00426377]])"
      ]
     },
     "execution_count": 333,
     "metadata": {},
     "output_type": "execute_result"
    }
   ],
   "source": [
    "x = pop_density.values\n",
    "x_scaled = min_max_scaler.fit_transform(x.astype(float))\n",
    "x_scaled"
   ]
  },
  {
   "cell_type": "code",
   "execution_count": 334,
   "metadata": {},
   "outputs": [
    {
     "data": {
      "text/html": [
       "<div>\n",
       "<style scoped>\n",
       "    .dataframe tbody tr th:only-of-type {\n",
       "        vertical-align: middle;\n",
       "    }\n",
       "\n",
       "    .dataframe tbody tr th {\n",
       "        vertical-align: top;\n",
       "    }\n",
       "\n",
       "    .dataframe thead th {\n",
       "        text-align: right;\n",
       "    }\n",
       "</style>\n",
       "<table border=\"1\" class=\"dataframe\">\n",
       "  <thead>\n",
       "    <tr style=\"text-align: right;\">\n",
       "      <th></th>\n",
       "      <th>인구밀도 정규화</th>\n",
       "    </tr>\n",
       "    <tr>\n",
       "      <th>구군별(1)</th>\n",
       "      <th></th>\n",
       "    </tr>\n",
       "  </thead>\n",
       "  <tbody>\n",
       "    <tr>\n",
       "      <th>중구</th>\n",
       "      <td>0.911162</td>\n",
       "    </tr>\n",
       "    <tr>\n",
       "      <th>서구</th>\n",
       "      <td>0.428129</td>\n",
       "    </tr>\n",
       "    <tr>\n",
       "      <th>동구</th>\n",
       "      <td>0.505227</td>\n",
       "    </tr>\n",
       "    <tr>\n",
       "      <th>영도구</th>\n",
       "      <td>0.476316</td>\n",
       "    </tr>\n",
       "    <tr>\n",
       "      <th>부산진구</th>\n",
       "      <td>0.697623</td>\n",
       "    </tr>\n",
       "    <tr>\n",
       "      <th>동래구</th>\n",
       "      <td>0.915601</td>\n",
       "    </tr>\n",
       "    <tr>\n",
       "      <th>남구</th>\n",
       "      <td>0.568892</td>\n",
       "    </tr>\n",
       "    <tr>\n",
       "      <th>북구</th>\n",
       "      <td>0.412943</td>\n",
       "    </tr>\n",
       "    <tr>\n",
       "      <th>해운대구</th>\n",
       "      <td>0.433795</td>\n",
       "    </tr>\n",
       "    <tr>\n",
       "      <th>사하구</th>\n",
       "      <td>0.431809</td>\n",
       "    </tr>\n",
       "    <tr>\n",
       "      <th>금정구</th>\n",
       "      <td>0.183167</td>\n",
       "    </tr>\n",
       "    <tr>\n",
       "      <th>강서구</th>\n",
       "      <td>0.000000</td>\n",
       "    </tr>\n",
       "    <tr>\n",
       "      <th>연제구</th>\n",
       "      <td>0.963145</td>\n",
       "    </tr>\n",
       "    <tr>\n",
       "      <th>수영구</th>\n",
       "      <td>1.000000</td>\n",
       "    </tr>\n",
       "    <tr>\n",
       "      <th>사상구</th>\n",
       "      <td>0.340109</td>\n",
       "    </tr>\n",
       "    <tr>\n",
       "      <th>기장군</th>\n",
       "      <td>0.004264</td>\n",
       "    </tr>\n",
       "  </tbody>\n",
       "</table>\n",
       "</div>"
      ],
      "text/plain": [
       "        인구밀도 정규화\n",
       "구군별(1)          \n",
       "중구      0.911162\n",
       "서구      0.428129\n",
       "동구      0.505227\n",
       "영도구     0.476316\n",
       "부산진구    0.697623\n",
       "동래구     0.915601\n",
       "남구      0.568892\n",
       "북구      0.412943\n",
       "해운대구    0.433795\n",
       "사하구     0.431809\n",
       "금정구     0.183167\n",
       "강서구     0.000000\n",
       "연제구     0.963145\n",
       "수영구     1.000000\n",
       "사상구     0.340109\n",
       "기장군     0.004264"
      ]
     },
     "execution_count": 334,
     "metadata": {},
     "output_type": "execute_result"
    }
   ],
   "source": [
    "pop_density_norm = pd.DataFrame(x_scaled,\n",
    "                               index = pop_density.index,\n",
    "                               columns = ['인구밀도 정규화'])\n",
    "pop_density_norm"
   ]
  },
  {
   "cell_type": "code",
   "execution_count": 335,
   "metadata": {},
   "outputs": [
    {
     "data": {
      "text/html": [
       "<div style=\"width:100%;\"><div style=\"position:relative;width:100%;height:0;padding-bottom:60%;\"><iframe src=\"data:text/html;charset=utf-8;base64,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\" style=\"position:absolute;width:100%;height:100%;left:0;top:0;border:none !important;\" allowfullscreen webkitallowfullscreen mozallowfullscreen></iframe></div></div>"
      ],
      "text/plain": [
       "<folium.folium.Map at 0x261f955d6d8>"
      ]
     },
     "execution_count": 335,
     "metadata": {},
     "output_type": "execute_result"
    }
   ],
   "source": [
    "map_busan_pop_density_norm = folium.Map(location = gps, zoom_start=10)\n",
    "folium.Choropleth(geo_data = geo_str, \n",
    "                 name = 'busan',\n",
    "                 data = pop_density_norm,\n",
    "                 columns = [pop_density_norm.index, '인구밀도 정규화'],\n",
    "                 key_on = 'feature.id',\n",
    "                 fill_color = 'PuRd',\n",
    "                 legend_name = '부산광역시 자치구별 인구밀도)').add_to(map_busan_pop_density_norm)\n",
    "map_busan_pop_density_norm"
   ]
  },
  {
   "cell_type": "code",
   "execution_count": 336,
   "metadata": {},
   "outputs": [
    {
     "name": "stdout",
     "output_type": "stream",
     "text": [
      "Malgun Gothic\n"
     ]
    }
   ],
   "source": [
    "from korea_font import initKoreaFontLoad\n",
    "initKoreaFontLoad()"
   ]
  },
  {
   "cell_type": "code",
   "execution_count": 337,
   "metadata": {},
   "outputs": [],
   "source": [
    "import matplotlib.pyplot as plt\n",
    "import matplotlib\n",
    "%matplotlib inline\n",
    "import seaborn as sns"
   ]
  },
  {
   "cell_type": "code",
   "execution_count": 338,
   "metadata": {
    "scrolled": true
   },
   "outputs": [
    {
     "data": {
      "text/plain": [
       "(16, 16)"
      ]
     },
     "execution_count": 338,
     "metadata": {},
     "output_type": "execute_result"
    }
   ],
   "source": [
    "len(sorted_busstop_cnt_per_gu), len(busan_info)"
   ]
  },
  {
   "cell_type": "code",
   "execution_count": 339,
   "metadata": {},
   "outputs": [
    {
     "data": {
      "text/html": [
       "<div>\n",
       "<style scoped>\n",
       "    .dataframe tbody tr th:only-of-type {\n",
       "        vertical-align: middle;\n",
       "    }\n",
       "\n",
       "    .dataframe tbody tr th {\n",
       "        vertical-align: top;\n",
       "    }\n",
       "\n",
       "    .dataframe thead th {\n",
       "        text-align: right;\n",
       "    }\n",
       "</style>\n",
       "<table border=\"1\" class=\"dataframe\">\n",
       "  <thead>\n",
       "    <tr style=\"text-align: right;\">\n",
       "      <th></th>\n",
       "      <th>COUNT</th>\n",
       "    </tr>\n",
       "  </thead>\n",
       "  <tbody>\n",
       "    <tr>\n",
       "      <th>기장군</th>\n",
       "      <td>422</td>\n",
       "    </tr>\n",
       "    <tr>\n",
       "      <th>강서구</th>\n",
       "      <td>395</td>\n",
       "    </tr>\n",
       "    <tr>\n",
       "      <th>해운대구</th>\n",
       "      <td>334</td>\n",
       "    </tr>\n",
       "    <tr>\n",
       "      <th>부산진구</th>\n",
       "      <td>317</td>\n",
       "    </tr>\n",
       "    <tr>\n",
       "      <th>사하구</th>\n",
       "      <td>261</td>\n",
       "    </tr>\n",
       "    <tr>\n",
       "      <th>사상구</th>\n",
       "      <td>261</td>\n",
       "    </tr>\n",
       "    <tr>\n",
       "      <th>동래구</th>\n",
       "      <td>219</td>\n",
       "    </tr>\n",
       "    <tr>\n",
       "      <th>금정구</th>\n",
       "      <td>219</td>\n",
       "    </tr>\n",
       "    <tr>\n",
       "      <th>영도구</th>\n",
       "      <td>212</td>\n",
       "    </tr>\n",
       "    <tr>\n",
       "      <th>북구</th>\n",
       "      <td>197</td>\n",
       "    </tr>\n",
       "    <tr>\n",
       "      <th>남구</th>\n",
       "      <td>187</td>\n",
       "    </tr>\n",
       "    <tr>\n",
       "      <th>서구</th>\n",
       "      <td>186</td>\n",
       "    </tr>\n",
       "    <tr>\n",
       "      <th>동구</th>\n",
       "      <td>164</td>\n",
       "    </tr>\n",
       "    <tr>\n",
       "      <th>연제구</th>\n",
       "      <td>147</td>\n",
       "    </tr>\n",
       "    <tr>\n",
       "      <th>수영구</th>\n",
       "      <td>107</td>\n",
       "    </tr>\n",
       "    <tr>\n",
       "      <th>중구</th>\n",
       "      <td>98</td>\n",
       "    </tr>\n",
       "  </tbody>\n",
       "</table>\n",
       "</div>"
      ],
      "text/plain": [
       "      COUNT\n",
       "기장군     422\n",
       "강서구     395\n",
       "해운대구    334\n",
       "부산진구    317\n",
       "사하구     261\n",
       "사상구     261\n",
       "동래구     219\n",
       "금정구     219\n",
       "영도구     212\n",
       "북구      197\n",
       "남구      187\n",
       "서구      186\n",
       "동구      164\n",
       "연제구     147\n",
       "수영구     107\n",
       "중구       98"
      ]
     },
     "execution_count": 339,
     "metadata": {},
     "output_type": "execute_result"
    }
   ],
   "source": [
    "sorted_busstop_cnt_per_gu"
   ]
  },
  {
   "cell_type": "code",
   "execution_count": 340,
   "metadata": {},
   "outputs": [
    {
     "data": {
      "text/html": [
       "<div>\n",
       "<style scoped>\n",
       "    .dataframe tbody tr th:only-of-type {\n",
       "        vertical-align: middle;\n",
       "    }\n",
       "\n",
       "    .dataframe tbody tr th {\n",
       "        vertical-align: top;\n",
       "    }\n",
       "\n",
       "    .dataframe thead th {\n",
       "        text-align: right;\n",
       "    }\n",
       "</style>\n",
       "<table border=\"1\" class=\"dataframe\">\n",
       "  <thead>\n",
       "    <tr style=\"text-align: right;\">\n",
       "      <th></th>\n",
       "      <th>인구 (명)</th>\n",
       "      <th>인구밀도 (명/㎢)</th>\n",
       "      <th>면적 (㎢)</th>\n",
       "    </tr>\n",
       "    <tr>\n",
       "      <th>구군별(1)</th>\n",
       "      <th></th>\n",
       "      <th></th>\n",
       "      <th></th>\n",
       "    </tr>\n",
       "  </thead>\n",
       "  <tbody>\n",
       "    <tr>\n",
       "      <th>중구</th>\n",
       "      <td>46066</td>\n",
       "      <td>16278</td>\n",
       "      <td>2.83</td>\n",
       "    </tr>\n",
       "    <tr>\n",
       "      <th>서구</th>\n",
       "      <td>111945</td>\n",
       "      <td>8008</td>\n",
       "      <td>13.98</td>\n",
       "    </tr>\n",
       "    <tr>\n",
       "      <th>동구</th>\n",
       "      <td>90856</td>\n",
       "      <td>9328</td>\n",
       "      <td>9.74</td>\n",
       "    </tr>\n",
       "    <tr>\n",
       "      <th>영도구</th>\n",
       "      <td>125347</td>\n",
       "      <td>8833</td>\n",
       "      <td>14.19</td>\n",
       "    </tr>\n",
       "    <tr>\n",
       "      <th>부산진구</th>\n",
       "      <td>374504</td>\n",
       "      <td>12622</td>\n",
       "      <td>29.67</td>\n",
       "    </tr>\n",
       "    <tr>\n",
       "      <th>동래구</th>\n",
       "      <td>271967</td>\n",
       "      <td>16354</td>\n",
       "      <td>16.63</td>\n",
       "    </tr>\n",
       "    <tr>\n",
       "      <th>남구</th>\n",
       "      <td>279309</td>\n",
       "      <td>10418</td>\n",
       "      <td>26.81</td>\n",
       "    </tr>\n",
       "    <tr>\n",
       "      <th>북구</th>\n",
       "      <td>305045</td>\n",
       "      <td>7748</td>\n",
       "      <td>39.37</td>\n",
       "    </tr>\n",
       "    <tr>\n",
       "      <th>해운대구</th>\n",
       "      <td>417161</td>\n",
       "      <td>8105</td>\n",
       "      <td>51.47</td>\n",
       "    </tr>\n",
       "    <tr>\n",
       "      <th>사하구</th>\n",
       "      <td>338112</td>\n",
       "      <td>8071</td>\n",
       "      <td>41.89</td>\n",
       "    </tr>\n",
       "    <tr>\n",
       "      <th>금정구</th>\n",
       "      <td>248917</td>\n",
       "      <td>3814</td>\n",
       "      <td>65.27</td>\n",
       "    </tr>\n",
       "    <tr>\n",
       "      <th>강서구</th>\n",
       "      <td>123079</td>\n",
       "      <td>678</td>\n",
       "      <td>181.49</td>\n",
       "    </tr>\n",
       "    <tr>\n",
       "      <th>연제구</th>\n",
       "      <td>207729</td>\n",
       "      <td>17168</td>\n",
       "      <td>12.1</td>\n",
       "    </tr>\n",
       "    <tr>\n",
       "      <th>수영구</th>\n",
       "      <td>181725</td>\n",
       "      <td>17799</td>\n",
       "      <td>10.21</td>\n",
       "    </tr>\n",
       "    <tr>\n",
       "      <th>사상구</th>\n",
       "      <td>234624</td>\n",
       "      <td>6501</td>\n",
       "      <td>36.09</td>\n",
       "    </tr>\n",
       "    <tr>\n",
       "      <th>기장군</th>\n",
       "      <td>163920</td>\n",
       "      <td>751</td>\n",
       "      <td>218.3</td>\n",
       "    </tr>\n",
       "  </tbody>\n",
       "</table>\n",
       "</div>"
      ],
      "text/plain": [
       "        인구 (명) 인구밀도 (명/㎢)  면적 (㎢)\n",
       "구군별(1)                           \n",
       "중구       46066      16278    2.83\n",
       "서구      111945       8008   13.98\n",
       "동구       90856       9328    9.74\n",
       "영도구     125347       8833   14.19\n",
       "부산진구    374504      12622   29.67\n",
       "동래구     271967      16354   16.63\n",
       "남구      279309      10418   26.81\n",
       "북구      305045       7748   39.37\n",
       "해운대구    417161       8105   51.47\n",
       "사하구     338112       8071   41.89\n",
       "금정구     248917       3814   65.27\n",
       "강서구     123079        678  181.49\n",
       "연제구     207729      17168    12.1\n",
       "수영구     181725      17799   10.21\n",
       "사상구     234624       6501   36.09\n",
       "기장군     163920        751   218.3"
      ]
     },
     "execution_count": 340,
     "metadata": {},
     "output_type": "execute_result"
    }
   ],
   "source": [
    "busan_info"
   ]
  },
  {
   "cell_type": "code",
   "execution_count": 341,
   "metadata": {},
   "outputs": [
    {
     "data": {
      "text/html": [
       "<div>\n",
       "<style scoped>\n",
       "    .dataframe tbody tr th:only-of-type {\n",
       "        vertical-align: middle;\n",
       "    }\n",
       "\n",
       "    .dataframe tbody tr th {\n",
       "        vertical-align: top;\n",
       "    }\n",
       "\n",
       "    .dataframe thead th {\n",
       "        text-align: right;\n",
       "    }\n",
       "</style>\n",
       "<table border=\"1\" class=\"dataframe\">\n",
       "  <thead>\n",
       "    <tr style=\"text-align: right;\">\n",
       "      <th></th>\n",
       "      <th>인구 (명)</th>\n",
       "      <th>인구밀도 (명/㎢)</th>\n",
       "      <th>면적 (㎢)</th>\n",
       "      <th>COUNT</th>\n",
       "    </tr>\n",
       "  </thead>\n",
       "  <tbody>\n",
       "    <tr>\n",
       "      <th>중구</th>\n",
       "      <td>46066</td>\n",
       "      <td>16278</td>\n",
       "      <td>2.83</td>\n",
       "      <td>98</td>\n",
       "    </tr>\n",
       "    <tr>\n",
       "      <th>서구</th>\n",
       "      <td>111945</td>\n",
       "      <td>8008</td>\n",
       "      <td>13.98</td>\n",
       "      <td>186</td>\n",
       "    </tr>\n",
       "    <tr>\n",
       "      <th>동구</th>\n",
       "      <td>90856</td>\n",
       "      <td>9328</td>\n",
       "      <td>9.74</td>\n",
       "      <td>164</td>\n",
       "    </tr>\n",
       "    <tr>\n",
       "      <th>영도구</th>\n",
       "      <td>125347</td>\n",
       "      <td>8833</td>\n",
       "      <td>14.19</td>\n",
       "      <td>212</td>\n",
       "    </tr>\n",
       "    <tr>\n",
       "      <th>부산진구</th>\n",
       "      <td>374504</td>\n",
       "      <td>12622</td>\n",
       "      <td>29.67</td>\n",
       "      <td>317</td>\n",
       "    </tr>\n",
       "    <tr>\n",
       "      <th>동래구</th>\n",
       "      <td>271967</td>\n",
       "      <td>16354</td>\n",
       "      <td>16.63</td>\n",
       "      <td>219</td>\n",
       "    </tr>\n",
       "    <tr>\n",
       "      <th>남구</th>\n",
       "      <td>279309</td>\n",
       "      <td>10418</td>\n",
       "      <td>26.81</td>\n",
       "      <td>187</td>\n",
       "    </tr>\n",
       "    <tr>\n",
       "      <th>북구</th>\n",
       "      <td>305045</td>\n",
       "      <td>7748</td>\n",
       "      <td>39.37</td>\n",
       "      <td>197</td>\n",
       "    </tr>\n",
       "    <tr>\n",
       "      <th>해운대구</th>\n",
       "      <td>417161</td>\n",
       "      <td>8105</td>\n",
       "      <td>51.47</td>\n",
       "      <td>334</td>\n",
       "    </tr>\n",
       "    <tr>\n",
       "      <th>사하구</th>\n",
       "      <td>338112</td>\n",
       "      <td>8071</td>\n",
       "      <td>41.89</td>\n",
       "      <td>261</td>\n",
       "    </tr>\n",
       "    <tr>\n",
       "      <th>금정구</th>\n",
       "      <td>248917</td>\n",
       "      <td>3814</td>\n",
       "      <td>65.27</td>\n",
       "      <td>219</td>\n",
       "    </tr>\n",
       "    <tr>\n",
       "      <th>강서구</th>\n",
       "      <td>123079</td>\n",
       "      <td>678</td>\n",
       "      <td>181.49</td>\n",
       "      <td>395</td>\n",
       "    </tr>\n",
       "    <tr>\n",
       "      <th>연제구</th>\n",
       "      <td>207729</td>\n",
       "      <td>17168</td>\n",
       "      <td>12.1</td>\n",
       "      <td>147</td>\n",
       "    </tr>\n",
       "    <tr>\n",
       "      <th>수영구</th>\n",
       "      <td>181725</td>\n",
       "      <td>17799</td>\n",
       "      <td>10.21</td>\n",
       "      <td>107</td>\n",
       "    </tr>\n",
       "    <tr>\n",
       "      <th>사상구</th>\n",
       "      <td>234624</td>\n",
       "      <td>6501</td>\n",
       "      <td>36.09</td>\n",
       "      <td>261</td>\n",
       "    </tr>\n",
       "    <tr>\n",
       "      <th>기장군</th>\n",
       "      <td>163920</td>\n",
       "      <td>751</td>\n",
       "      <td>218.3</td>\n",
       "      <td>422</td>\n",
       "    </tr>\n",
       "  </tbody>\n",
       "</table>\n",
       "</div>"
      ],
      "text/plain": [
       "      인구 (명) 인구밀도 (명/㎢)  면적 (㎢)  COUNT\n",
       "중구     46066      16278    2.83     98\n",
       "서구    111945       8008   13.98    186\n",
       "동구     90856       9328    9.74    164\n",
       "영도구   125347       8833   14.19    212\n",
       "부산진구  374504      12622   29.67    317\n",
       "동래구   271967      16354   16.63    219\n",
       "남구    279309      10418   26.81    187\n",
       "북구    305045       7748   39.37    197\n",
       "해운대구  417161       8105   51.47    334\n",
       "사하구   338112       8071   41.89    261\n",
       "금정구   248917       3814   65.27    219\n",
       "강서구   123079        678  181.49    395\n",
       "연제구   207729      17168    12.1    147\n",
       "수영구   181725      17799   10.21    107\n",
       "사상구   234624       6501   36.09    261\n",
       "기장군   163920        751   218.3    422"
      ]
     },
     "execution_count": 341,
     "metadata": {},
     "output_type": "execute_result"
    }
   ],
   "source": [
    "busan_data = pd.merge(busan_info, sorted_busstop_cnt_per_gu, left_index=True, right_index=True)\n",
    "busan_data"
   ]
  },
  {
   "cell_type": "code",
   "execution_count": 342,
   "metadata": {},
   "outputs": [
    {
     "data": {
      "image/png": "[encoded data removed]",
      "text/plain": [
       "<Figure size 432x432 with 1 Axes>"
      ]
     },
     "metadata": {},
     "output_type": "display_data"
    }
   ],
   "source": [
    "# 인구와 버스정류장 수의 상관관계\n",
    "# plt.figure()\n",
    "# sns.set_style('darkgrid')\n",
    "# sns.lmplot(x = '인구 (명)', y='COUNT', data=busan_data, size = 5)\n",
    "# plt.show()\n",
    "plt.figure( figsize = (6, 6))\n",
    "plt.scatter(np.array(busan_data['인구 (명)']), np.array(busan_data['COUNT']))\n",
    "plt.show()"
   ]
  },
  {
   "cell_type": "code",
   "execution_count": 343,
   "metadata": {},
   "outputs": [
    {
     "data": {
      "image/png": "[encoded data removed]",
      "text/plain": [
       "<Figure size 432x432 with 1 Axes>"
      ]
     },
     "metadata": {},
     "output_type": "display_data"
    }
   ],
   "source": [
    "# 인구밀도와 버스정류장 수의 상관관계\n",
    "# plt.figure()\n",
    "# sns.set_style('darkgrid')\n",
    "# sns.lmplot(x = '인구밀도 (명/㎢)', y='COUNT', data=busan_data, size = 5)\n",
    "# plt.show()\n",
    "plt.figure( figsize = (6, 6))\n",
    "plt.scatter(np.array(busan_data['인구밀도 (명/㎢)']), np.array(busan_data['COUNT']))\n",
    "plt.show()"
   ]
  },
  {
   "cell_type": "code",
   "execution_count": 344,
   "metadata": {},
   "outputs": [
    {
     "data": {
      "image/png": "[encoded data removed]",
      "text/plain": [
       "<Figure size 432x432 with 1 Axes>"
      ]
     },
     "metadata": {},
     "output_type": "display_data"
    }
   ],
   "source": [
    "# 면적과 버스정류장 수의 상관관계\n",
    "# plt.figure()\n",
    "# sns.set_style('darkgrid')\n",
    "# sns.lmplot(x = '면적 (㎢)', y='COUNT', data=busan_data, size = 5)\n",
    "# plt.show()\n",
    "plt.figure( figsize = (6, 6))\n",
    "plt.scatter(np.array(busan_data['면적 (㎢)']), np.array(busan_data['COUNT']))\n",
    "plt.show()"
   ]
  }
 ],
 "metadata": {
  "kernelspec": {
   "display_name": "Python 3",
   "language": "python",
   "name": "python3"
  },
  "language_info": {
   "codemirror_mode": {
    "name": "ipython",
    "version": 3
   },
   "file_extension": ".py",
   "mimetype": "text/x-python",
   "name": "python",
   "nbconvert_exporter": "python",
   "pygments_lexer": "ipython3",
   "version": "3.6.5"
  }
 },
 "nbformat": 4,
 "nbformat_minor": 2
}
