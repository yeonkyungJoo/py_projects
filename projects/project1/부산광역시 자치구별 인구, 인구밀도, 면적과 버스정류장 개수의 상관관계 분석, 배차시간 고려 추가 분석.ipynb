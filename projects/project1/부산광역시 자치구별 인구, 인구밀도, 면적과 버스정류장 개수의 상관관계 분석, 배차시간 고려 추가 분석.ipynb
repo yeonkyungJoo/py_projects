{
 "cells": [
  {
   "cell_type": "markdown",
   "metadata": {},
   "source": [
    "- 마을버스 제외\n",
    "- 배차시간 1단계 : 제외 / 2단계 고려"
   ]
  },
  {
   "cell_type": "code",
   "execution_count": 404,
   "metadata": {},
   "outputs": [],
   "source": [
    "import pandas as pd"
   ]
  },
  {
   "cell_type": "code",
   "execution_count": 405,
   "metadata": {},
   "outputs": [],
   "source": [
    "busstop_raw_data = pd.read_excel('./data/busan_busstop_info.xlsx',\n",
    "                                 header=4)"
   ]
  },
  {
   "cell_type": "code",
   "execution_count": 406,
   "metadata": {},
   "outputs": [
    {
     "data": {
      "text/html": [
       "<div>\n",
       "<style scoped>\n",
       "    .dataframe tbody tr th:only-of-type {\n",
       "        vertical-align: middle;\n",
       "    }\n",
       "\n",
       "    .dataframe tbody tr th {\n",
       "        vertical-align: top;\n",
       "    }\n",
       "\n",
       "    .dataframe thead th {\n",
       "        text-align: right;\n",
       "    }\n",
       "</style>\n",
       "<table border=\"1\" class=\"dataframe\">\n",
       "  <thead>\n",
       "    <tr style=\"text-align: right;\">\n",
       "      <th></th>\n",
       "      <th>BUSLINENUM</th>\n",
       "      <th>ORD</th>\n",
       "      <th>NAME</th>\n",
       "      <th>SIGUNNAME</th>\n",
       "      <th>GUNAME</th>\n",
       "      <th>DONGNAME</th>\n",
       "      <th>X</th>\n",
       "      <th>Y</th>\n",
       "      <th>UNIQUEID</th>\n",
       "      <th>BUSSTOPID</th>\n",
       "    </tr>\n",
       "  </thead>\n",
       "  <tbody>\n",
       "    <tr>\n",
       "      <th>0</th>\n",
       "      <td>1</td>\n",
       "      <td>1</td>\n",
       "      <td>기점</td>\n",
       "      <td>부산광역시</td>\n",
       "      <td>수영구</td>\n",
       "      <td>민락동</td>\n",
       "      <td>129.127115</td>\n",
       "      <td>35.159515</td>\n",
       "      <td>NaN</td>\n",
       "      <td>21140601002</td>\n",
       "    </tr>\n",
       "    <tr>\n",
       "      <th>1</th>\n",
       "      <td>1</td>\n",
       "      <td>2</td>\n",
       "      <td>MBC방송국</td>\n",
       "      <td>부산광역시</td>\n",
       "      <td>수영구</td>\n",
       "      <td>민락동</td>\n",
       "      <td>129.126416</td>\n",
       "      <td>35.159658</td>\n",
       "      <td>14034.0</td>\n",
       "      <td>21140601013</td>\n",
       "    </tr>\n",
       "    <tr>\n",
       "      <th>2</th>\n",
       "      <td>1</td>\n",
       "      <td>3</td>\n",
       "      <td>민락동골목시장</td>\n",
       "      <td>부산광역시</td>\n",
       "      <td>수영구</td>\n",
       "      <td>민락동</td>\n",
       "      <td>129.123045</td>\n",
       "      <td>35.158969</td>\n",
       "      <td>14037.0</td>\n",
       "      <td>21140601006</td>\n",
       "    </tr>\n",
       "    <tr>\n",
       "      <th>3</th>\n",
       "      <td>1</td>\n",
       "      <td>4</td>\n",
       "      <td>광안농협앞</td>\n",
       "      <td>부산광역시</td>\n",
       "      <td>수영구</td>\n",
       "      <td>광안2동</td>\n",
       "      <td>129.120022</td>\n",
       "      <td>35.157650</td>\n",
       "      <td>14067.0</td>\n",
       "      <td>21140571002</td>\n",
       "    </tr>\n",
       "    <tr>\n",
       "      <th>4</th>\n",
       "      <td>1</td>\n",
       "      <td>5</td>\n",
       "      <td>광안리해수욕장</td>\n",
       "      <td>부산광역시</td>\n",
       "      <td>수영구</td>\n",
       "      <td>광안2동</td>\n",
       "      <td>129.116613</td>\n",
       "      <td>35.155443</td>\n",
       "      <td>14065.0</td>\n",
       "      <td>21140571001</td>\n",
       "    </tr>\n",
       "  </tbody>\n",
       "</table>\n",
       "</div>"
      ],
      "text/plain": [
       "  BUSLINENUM  ORD     NAME SIGUNNAME GUNAME DONGNAME           X          Y  \\\n",
       "0          1    1       기점     부산광역시    수영구      민락동  129.127115  35.159515   \n",
       "1          1    2   MBC방송국     부산광역시    수영구      민락동  129.126416  35.159658   \n",
       "2          1    3  민락동골목시장     부산광역시    수영구      민락동  129.123045  35.158969   \n",
       "3          1    4    광안농협앞     부산광역시    수영구     광안2동  129.120022  35.157650   \n",
       "4          1    5  광안리해수욕장     부산광역시    수영구     광안2동  129.116613  35.155443   \n",
       "\n",
       "   UNIQUEID    BUSSTOPID  \n",
       "0       NaN  21140601002  \n",
       "1   14034.0  21140601013  \n",
       "2   14037.0  21140601006  \n",
       "3   14067.0  21140571002  \n",
       "4   14065.0  21140571001  "
      ]
     },
     "execution_count": 406,
     "metadata": {},
     "output_type": "execute_result"
    }
   ],
   "source": [
    "busstop_raw_data.head()"
   ]
  },
  {
   "cell_type": "code",
   "execution_count": 407,
   "metadata": {},
   "outputs": [
    {
     "data": {
      "text/html": [
       "<div>\n",
       "<style scoped>\n",
       "    .dataframe tbody tr th:only-of-type {\n",
       "        vertical-align: middle;\n",
       "    }\n",
       "\n",
       "    .dataframe tbody tr th {\n",
       "        vertical-align: top;\n",
       "    }\n",
       "\n",
       "    .dataframe thead th {\n",
       "        text-align: right;\n",
       "    }\n",
       "</style>\n",
       "<table border=\"1\" class=\"dataframe\">\n",
       "  <thead>\n",
       "    <tr style=\"text-align: right;\">\n",
       "      <th></th>\n",
       "      <th>BUSLINENUM</th>\n",
       "      <th>NAME</th>\n",
       "      <th>SIGUNNAME</th>\n",
       "      <th>GUNAME</th>\n",
       "      <th>X</th>\n",
       "      <th>Y</th>\n",
       "      <th>BUSSTOPID</th>\n",
       "    </tr>\n",
       "  </thead>\n",
       "  <tbody>\n",
       "    <tr>\n",
       "      <th>0</th>\n",
       "      <td>1</td>\n",
       "      <td>기점</td>\n",
       "      <td>부산광역시</td>\n",
       "      <td>수영구</td>\n",
       "      <td>129.127115</td>\n",
       "      <td>35.159515</td>\n",
       "      <td>21140601002</td>\n",
       "    </tr>\n",
       "    <tr>\n",
       "      <th>1</th>\n",
       "      <td>1</td>\n",
       "      <td>MBC방송국</td>\n",
       "      <td>부산광역시</td>\n",
       "      <td>수영구</td>\n",
       "      <td>129.126416</td>\n",
       "      <td>35.159658</td>\n",
       "      <td>21140601013</td>\n",
       "    </tr>\n",
       "    <tr>\n",
       "      <th>2</th>\n",
       "      <td>1</td>\n",
       "      <td>민락동골목시장</td>\n",
       "      <td>부산광역시</td>\n",
       "      <td>수영구</td>\n",
       "      <td>129.123045</td>\n",
       "      <td>35.158969</td>\n",
       "      <td>21140601006</td>\n",
       "    </tr>\n",
       "    <tr>\n",
       "      <th>3</th>\n",
       "      <td>1</td>\n",
       "      <td>광안농협앞</td>\n",
       "      <td>부산광역시</td>\n",
       "      <td>수영구</td>\n",
       "      <td>129.120022</td>\n",
       "      <td>35.157650</td>\n",
       "      <td>21140571002</td>\n",
       "    </tr>\n",
       "    <tr>\n",
       "      <th>4</th>\n",
       "      <td>1</td>\n",
       "      <td>광안리해수욕장</td>\n",
       "      <td>부산광역시</td>\n",
       "      <td>수영구</td>\n",
       "      <td>129.116613</td>\n",
       "      <td>35.155443</td>\n",
       "      <td>21140571001</td>\n",
       "    </tr>\n",
       "  </tbody>\n",
       "</table>\n",
       "</div>"
      ],
      "text/plain": [
       "  BUSLINENUM     NAME SIGUNNAME GUNAME           X          Y    BUSSTOPID\n",
       "0          1       기점     부산광역시    수영구  129.127115  35.159515  21140601002\n",
       "1          1   MBC방송국     부산광역시    수영구  129.126416  35.159658  21140601013\n",
       "2          1  민락동골목시장     부산광역시    수영구  129.123045  35.158969  21140601006\n",
       "3          1    광안농협앞     부산광역시    수영구  129.120022  35.157650  21140571002\n",
       "4          1  광안리해수욕장     부산광역시    수영구  129.116613  35.155443  21140571001"
      ]
     },
     "execution_count": 407,
     "metadata": {},
     "output_type": "execute_result"
    }
   ],
   "source": [
    "busstop_data = busstop_raw_data.iloc[:, [0, 2, 3, 4, 6, 7, 9]]\n",
    "busstop_data.head()"
   ]
  },
  {
   "cell_type": "code",
   "execution_count": 408,
   "metadata": {},
   "outputs": [
    {
     "data": {
      "text/html": [
       "<div>\n",
       "<style scoped>\n",
       "    .dataframe tbody tr th:only-of-type {\n",
       "        vertical-align: middle;\n",
       "    }\n",
       "\n",
       "    .dataframe tbody tr th {\n",
       "        vertical-align: top;\n",
       "    }\n",
       "\n",
       "    .dataframe thead th {\n",
       "        text-align: right;\n",
       "    }\n",
       "</style>\n",
       "<table border=\"1\" class=\"dataframe\">\n",
       "  <thead>\n",
       "    <tr style=\"text-align: right;\">\n",
       "      <th></th>\n",
       "      <th>BUSLINENUM</th>\n",
       "      <th>NAME</th>\n",
       "      <th>SIGUNNAME</th>\n",
       "      <th>GUNAME</th>\n",
       "      <th>X</th>\n",
       "      <th>Y</th>\n",
       "      <th>BUSSTOPID</th>\n",
       "    </tr>\n",
       "  </thead>\n",
       "  <tbody>\n",
       "    <tr>\n",
       "      <th>0</th>\n",
       "      <td>1</td>\n",
       "      <td>기점</td>\n",
       "      <td>부산광역시</td>\n",
       "      <td>수영구</td>\n",
       "      <td>129.127115</td>\n",
       "      <td>35.159515</td>\n",
       "      <td>21140601002</td>\n",
       "    </tr>\n",
       "    <tr>\n",
       "      <th>1</th>\n",
       "      <td>1</td>\n",
       "      <td>MBC방송국</td>\n",
       "      <td>부산광역시</td>\n",
       "      <td>수영구</td>\n",
       "      <td>129.126416</td>\n",
       "      <td>35.159658</td>\n",
       "      <td>21140601013</td>\n",
       "    </tr>\n",
       "    <tr>\n",
       "      <th>2</th>\n",
       "      <td>1</td>\n",
       "      <td>민락동골목시장</td>\n",
       "      <td>부산광역시</td>\n",
       "      <td>수영구</td>\n",
       "      <td>129.123045</td>\n",
       "      <td>35.158969</td>\n",
       "      <td>21140601006</td>\n",
       "    </tr>\n",
       "    <tr>\n",
       "      <th>3</th>\n",
       "      <td>1</td>\n",
       "      <td>광안농협앞</td>\n",
       "      <td>부산광역시</td>\n",
       "      <td>수영구</td>\n",
       "      <td>129.120022</td>\n",
       "      <td>35.157650</td>\n",
       "      <td>21140571002</td>\n",
       "    </tr>\n",
       "    <tr>\n",
       "      <th>4</th>\n",
       "      <td>1</td>\n",
       "      <td>광안리해수욕장</td>\n",
       "      <td>부산광역시</td>\n",
       "      <td>수영구</td>\n",
       "      <td>129.116613</td>\n",
       "      <td>35.155443</td>\n",
       "      <td>21140571001</td>\n",
       "    </tr>\n",
       "  </tbody>\n",
       "</table>\n",
       "</div>"
      ],
      "text/plain": [
       "  BUSLINENUM     NAME SIGUNNAME GUNAME           X          Y    BUSSTOPID\n",
       "0          1       기점     부산광역시    수영구  129.127115  35.159515  21140601002\n",
       "1          1   MBC방송국     부산광역시    수영구  129.126416  35.159658  21140601013\n",
       "2          1  민락동골목시장     부산광역시    수영구  129.123045  35.158969  21140601006\n",
       "3          1    광안농협앞     부산광역시    수영구  129.120022  35.157650  21140571002\n",
       "4          1  광안리해수욕장     부산광역시    수영구  129.116613  35.155443  21140571001"
      ]
     },
     "execution_count": 408,
     "metadata": {},
     "output_type": "execute_result"
    }
   ],
   "source": [
    "# 부산광역시 시내버스 정류소만 추출(경상남도 제외)\n",
    "busstop_busan = busstop_data[busstop_data['SIGUNNAME']=='부산광역시']\n",
    "busstop_busan.head()"
   ]
  },
  {
   "cell_type": "code",
   "execution_count": 409,
   "metadata": {},
   "outputs": [
    {
     "data": {
      "text/plain": [
       "(15624, 7)"
      ]
     },
     "execution_count": 409,
     "metadata": {},
     "output_type": "execute_result"
    }
   ],
   "source": [
    "busstop_busan.shape"
   ]
  },
  {
   "cell_type": "code",
   "execution_count": 410,
   "metadata": {},
   "outputs": [
    {
     "data": {
      "text/plain": [
       "array(['부산광역시'], dtype=object)"
      ]
     },
     "execution_count": 410,
     "metadata": {},
     "output_type": "execute_result"
    }
   ],
   "source": [
    "busstop_busan['SIGUNNAME'].unique()"
   ]
  },
  {
   "cell_type": "code",
   "execution_count": 411,
   "metadata": {},
   "outputs": [
    {
     "data": {
      "text/plain": [
       "array(['수영구', '연제구', '부산진구', '강서구', '동래구', '동구', '남구', '기장군', '해운대구',\n",
       "       '금정구', '사하구', '서구', '중구', '북구', '사상구', '영도구'], dtype=object)"
      ]
     },
     "execution_count": 411,
     "metadata": {},
     "output_type": "execute_result"
    }
   ],
   "source": [
    "busstop_busan['GUNAME'].unique()"
   ]
  },
  {
   "cell_type": "code",
   "execution_count": 412,
   "metadata": {},
   "outputs": [
    {
     "data": {
      "text/plain": [
       "array(['1', '10', '55', '103', '100', '100-1', '1000', '1000(심야)', '1001',\n",
       "       '1001(심야)', '1002', '1002(심야)', '1003', '1003(심야)', '1004',\n",
       "       '1004(심야)', '1005', '58', '1006', '1008', '1008(심야)', '138-1',\n",
       "       '1009', '101', '85', '1010', '1010(심야)', '1011', '105', '107',\n",
       "       '108', '11', '110', '110-1', '111', '111-1', '113', '115', '184',\n",
       "       '115-1', '188', '121', '123', '124', '125', '126', '127', '128-1',\n",
       "       '129-1', '131', '133', '73', '134', '73(아침)', '9', '138', '139',\n",
       "       '187', '42', '190', '203', '300', '141', '141(심야)', '144', '148',\n",
       "       '148-1', '15', '15(심야)', '155', '33', '186', '16', '160', '161',\n",
       "       '66', '168', '167', '3', '520', '37', '301', '169', '169-1', '17',\n",
       "       '179', '180', '180(아침)', '181', '182', '31', '62', '182(심야)', '77',\n",
       "       '307', '26', '183', '26(아침)', '183(심야)', '41', '96-1', '70', '185',\n",
       "       '43', '5-1', '88(A)', '189', '189-1', '67', '87', '2', '20', '200',\n",
       "       '2000', '63', '221', '210', '96', '29', '51', '80', '22', '23',\n",
       "       '24', '27', '90', '7', '30', '30(심야)', '38', '86', '302', '36',\n",
       "       '338', '52', '39', '40', '44', '54', '46', '49', '81', '50', '506',\n",
       "       '508', '508(심야)', '51(심야)', '88-1A', '68', '555', '57', '58-1',\n",
       "       '58-1(심야)', '58-2', '58-2(심야)', '583', '59', '6', '61', '71', '8',\n",
       "       '82', '83', '83-1', '99'], dtype=object)"
      ]
     },
     "execution_count": 412,
     "metadata": {},
     "output_type": "execute_result"
    }
   ],
   "source": [
    "busstop_busan['BUSLINENUM'].unique()"
   ]
  },
  {
   "cell_type": "code",
   "execution_count": null,
   "metadata": {},
   "outputs": [],
   "source": []
  },
  {
   "cell_type": "markdown",
   "metadata": {},
   "source": [
    "###### 웹 크롤링 : 부산버스정보시스템(BIMS)에서 현재 운행 중인 시내버스 추출"
   ]
  },
  {
   "cell_type": "code",
   "execution_count": 413,
   "metadata": {},
   "outputs": [],
   "source": [
    "from selenium import webdriver as wd\n",
    "import urllib"
   ]
  },
  {
   "cell_type": "code",
   "execution_count": 414,
   "metadata": {},
   "outputs": [],
   "source": [
    "target_url = 'http://bus.busan.go.kr/busanBIMS/bus_map/map_main2.asp?menuNum=4&amp;mapGubun=daum'"
   ]
  },
  {
   "cell_type": "code",
   "execution_count": 415,
   "metadata": {},
   "outputs": [],
   "source": [
    "driver = wd.Chrome('./tool/chromedriver.exe')"
   ]
  },
  {
   "cell_type": "code",
   "execution_count": 416,
   "metadata": {},
   "outputs": [],
   "source": [
    "import time\n",
    "\n",
    "driver.get(target_url)\n",
    "time.sleep(5)"
   ]
  },
  {
   "cell_type": "code",
   "execution_count": 417,
   "metadata": {},
   "outputs": [],
   "source": [
    "# 노선 리스트 획득 (마을버스 제외, 시내버스만 해당)\n",
    "ctlList = driver.find_element_by_id('ctlList')\n",
    "ctls = [ option.text\n",
    "           for option in driver.find_elements_by_css_selector('#ctlList > option')\n",
    "           if option.get_attribute('value') ]"
   ]
  },
  {
   "cell_type": "code",
   "execution_count": 418,
   "metadata": {},
   "outputs": [
    {
     "data": {
      "text/plain": [
       "['1', '2', '3', '5-1', '6']"
      ]
     },
     "execution_count": 418,
     "metadata": {},
     "output_type": "execute_result"
    }
   ],
   "source": [
    "ctls[:5]"
   ]
  },
  {
   "cell_type": "code",
   "execution_count": 419,
   "metadata": {},
   "outputs": [
    {
     "data": {
      "text/plain": [
       "(165, 153)"
      ]
     },
     "execution_count": 419,
     "metadata": {},
     "output_type": "execute_result"
    }
   ],
   "source": [
    "# (165, 153)\n",
    "len(busstop_busan['BUSLINENUM'].unique()), len(ctls)"
   ]
  },
  {
   "cell_type": "code",
   "execution_count": 420,
   "metadata": {
    "scrolled": false
   },
   "outputs": [],
   "source": [
    "# 부산버스정보시스템(BIMS)에서 추출한 시내버스 리스트로 데이터 분석\n",
    "# for bus in busstop_busan['BUSLINENUM'].unique() :\n",
    "#     if bus not in ctls :\n",
    "#         print(bus)"
   ]
  },
  {
   "cell_type": "code",
   "execution_count": 421,
   "metadata": {},
   "outputs": [],
   "source": [
    "busstop_busan = busstop_busan[busstop_busan['BUSLINENUM'].apply(lambda x : x in ctls)]"
   ]
  },
  {
   "cell_type": "code",
   "execution_count": 422,
   "metadata": {},
   "outputs": [
    {
     "data": {
      "text/plain": [
       "153"
      ]
     },
     "execution_count": 422,
     "metadata": {},
     "output_type": "execute_result"
    }
   ],
   "source": [
    "len(busstop_busan['BUSLINENUM'].unique())"
   ]
  },
  {
   "cell_type": "code",
   "execution_count": 423,
   "metadata": {},
   "outputs": [],
   "source": [
    "busanbuses = []\n",
    "for bus in busstop_busan['BUSLINENUM'].unique() :\n",
    "    if bus in ctls :\n",
    "        busanbuses.append(bus)"
   ]
  },
  {
   "cell_type": "code",
   "execution_count": 424,
   "metadata": {},
   "outputs": [
    {
     "data": {
      "text/plain": [
       "['1', '10', '55', '103', '100']"
      ]
     },
     "execution_count": 424,
     "metadata": {},
     "output_type": "execute_result"
    }
   ],
   "source": [
    "busanbuses[:5]"
   ]
  },
  {
   "cell_type": "markdown",
   "metadata": {},
   "source": [
    "### 부산에서 가장 많은 버스가 정류하는 정류장 (개별)"
   ]
  },
  {
   "cell_type": "code",
   "execution_count": 425,
   "metadata": {},
   "outputs": [
    {
     "data": {
      "text/plain": [
       "3723"
      ]
     },
     "execution_count": 425,
     "metadata": {},
     "output_type": "execute_result"
    }
   ],
   "source": [
    "# 부산 내 버스정류장 개수\n",
    "# len(set(busstop_busan['BUSSTOPID']))\n",
    "len(busstop_busan['BUSSTOPID'].unique())"
   ]
  },
  {
   "cell_type": "code",
   "execution_count": 426,
   "metadata": {
    "scrolled": true
   },
   "outputs": [
    {
     "data": {
      "text/html": [
       "<div>\n",
       "<style scoped>\n",
       "    .dataframe tbody tr th:only-of-type {\n",
       "        vertical-align: middle;\n",
       "    }\n",
       "\n",
       "    .dataframe tbody tr th {\n",
       "        vertical-align: top;\n",
       "    }\n",
       "\n",
       "    .dataframe thead th {\n",
       "        text-align: right;\n",
       "    }\n",
       "</style>\n",
       "<table border=\"1\" class=\"dataframe\">\n",
       "  <thead>\n",
       "    <tr style=\"text-align: right;\">\n",
       "      <th></th>\n",
       "      <th>BUSLINENUM</th>\n",
       "      <th>NAME</th>\n",
       "      <th>SIGUNNAME</th>\n",
       "      <th>GUNAME</th>\n",
       "      <th>X</th>\n",
       "      <th>Y</th>\n",
       "      <th>BUSSTOPID</th>\n",
       "    </tr>\n",
       "  </thead>\n",
       "  <tbody>\n",
       "    <tr>\n",
       "      <th>0</th>\n",
       "      <td>1</td>\n",
       "      <td>기점</td>\n",
       "      <td>부산광역시</td>\n",
       "      <td>수영구</td>\n",
       "      <td>129.127115</td>\n",
       "      <td>35.159515</td>\n",
       "      <td>21140601002</td>\n",
       "    </tr>\n",
       "    <tr>\n",
       "      <th>1</th>\n",
       "      <td>1</td>\n",
       "      <td>MBC방송국</td>\n",
       "      <td>부산광역시</td>\n",
       "      <td>수영구</td>\n",
       "      <td>129.126416</td>\n",
       "      <td>35.159658</td>\n",
       "      <td>21140601013</td>\n",
       "    </tr>\n",
       "    <tr>\n",
       "      <th>2</th>\n",
       "      <td>1</td>\n",
       "      <td>민락동골목시장</td>\n",
       "      <td>부산광역시</td>\n",
       "      <td>수영구</td>\n",
       "      <td>129.123045</td>\n",
       "      <td>35.158969</td>\n",
       "      <td>21140601006</td>\n",
       "    </tr>\n",
       "    <tr>\n",
       "      <th>3</th>\n",
       "      <td>1</td>\n",
       "      <td>광안농협앞</td>\n",
       "      <td>부산광역시</td>\n",
       "      <td>수영구</td>\n",
       "      <td>129.120022</td>\n",
       "      <td>35.157650</td>\n",
       "      <td>21140571002</td>\n",
       "    </tr>\n",
       "    <tr>\n",
       "      <th>4</th>\n",
       "      <td>1</td>\n",
       "      <td>광안리해수욕장</td>\n",
       "      <td>부산광역시</td>\n",
       "      <td>수영구</td>\n",
       "      <td>129.116613</td>\n",
       "      <td>35.155443</td>\n",
       "      <td>21140571001</td>\n",
       "    </tr>\n",
       "  </tbody>\n",
       "</table>\n",
       "</div>"
      ],
      "text/plain": [
       "  BUSLINENUM     NAME SIGUNNAME GUNAME           X          Y    BUSSTOPID\n",
       "0          1       기점     부산광역시    수영구  129.127115  35.159515  21140601002\n",
       "1          1   MBC방송국     부산광역시    수영구  129.126416  35.159658  21140601013\n",
       "2          1  민락동골목시장     부산광역시    수영구  129.123045  35.158969  21140601006\n",
       "3          1    광안농협앞     부산광역시    수영구  129.120022  35.157650  21140571002\n",
       "4          1  광안리해수욕장     부산광역시    수영구  129.116613  35.155443  21140571001"
      ]
     },
     "execution_count": 426,
     "metadata": {},
     "output_type": "execute_result"
    }
   ],
   "source": [
    "busstop_busan.head()"
   ]
  },
  {
   "cell_type": "code",
   "execution_count": 427,
   "metadata": {},
   "outputs": [
    {
     "data": {
      "text/html": [
       "<div>\n",
       "<style scoped>\n",
       "    .dataframe tbody tr th:only-of-type {\n",
       "        vertical-align: middle;\n",
       "    }\n",
       "\n",
       "    .dataframe tbody tr th {\n",
       "        vertical-align: top;\n",
       "    }\n",
       "\n",
       "    .dataframe thead th {\n",
       "        text-align: right;\n",
       "    }\n",
       "</style>\n",
       "<table border=\"1\" class=\"dataframe\">\n",
       "  <thead>\n",
       "    <tr style=\"text-align: right;\">\n",
       "      <th></th>\n",
       "      <th>BUSLINENUM</th>\n",
       "      <th>BUSSTOPID</th>\n",
       "    </tr>\n",
       "  </thead>\n",
       "  <tbody>\n",
       "    <tr>\n",
       "      <th>0</th>\n",
       "      <td>1</td>\n",
       "      <td>21140601002</td>\n",
       "    </tr>\n",
       "    <tr>\n",
       "      <th>1</th>\n",
       "      <td>1</td>\n",
       "      <td>21140601013</td>\n",
       "    </tr>\n",
       "    <tr>\n",
       "      <th>2</th>\n",
       "      <td>1</td>\n",
       "      <td>21140601006</td>\n",
       "    </tr>\n",
       "    <tr>\n",
       "      <th>3</th>\n",
       "      <td>1</td>\n",
       "      <td>21140571002</td>\n",
       "    </tr>\n",
       "    <tr>\n",
       "      <th>4</th>\n",
       "      <td>1</td>\n",
       "      <td>21140571001</td>\n",
       "    </tr>\n",
       "  </tbody>\n",
       "</table>\n",
       "</div>"
      ],
      "text/plain": [
       "  BUSLINENUM    BUSSTOPID\n",
       "0          1  21140601002\n",
       "1          1  21140601013\n",
       "2          1  21140601006\n",
       "3          1  21140571002\n",
       "4          1  21140571001"
      ]
     },
     "execution_count": 427,
     "metadata": {},
     "output_type": "execute_result"
    }
   ],
   "source": [
    "tmp = busstop_busan.iloc[:, [0, 6]]\n",
    "tmp.head()"
   ]
  },
  {
   "cell_type": "code",
   "execution_count": 428,
   "metadata": {},
   "outputs": [
    {
     "name": "stderr",
     "output_type": "stream",
     "text": [
      "C:\\Users\\User\\Anaconda3\\lib\\site-packages\\ipykernel_launcher.py:1: SettingWithCopyWarning: \n",
      "A value is trying to be set on a copy of a slice from a DataFrame.\n",
      "Try using .loc[row_indexer,col_indexer] = value instead\n",
      "\n",
      "See the caveats in the documentation: http://pandas.pydata.org/pandas-docs/stable/indexing.html#indexing-view-versus-copy\n",
      "  \"\"\"Entry point for launching an IPython kernel.\n"
     ]
    }
   ],
   "source": [
    "tmp['count'] = 1"
   ]
  },
  {
   "cell_type": "code",
   "execution_count": 429,
   "metadata": {},
   "outputs": [
    {
     "data": {
      "text/html": [
       "<div>\n",
       "<style scoped>\n",
       "    .dataframe tbody tr th:only-of-type {\n",
       "        vertical-align: middle;\n",
       "    }\n",
       "\n",
       "    .dataframe tbody tr th {\n",
       "        vertical-align: top;\n",
       "    }\n",
       "\n",
       "    .dataframe thead th {\n",
       "        text-align: right;\n",
       "    }\n",
       "</style>\n",
       "<table border=\"1\" class=\"dataframe\">\n",
       "  <thead>\n",
       "    <tr style=\"text-align: right;\">\n",
       "      <th></th>\n",
       "      <th>BUSLINENUM</th>\n",
       "      <th>BUSSTOPID</th>\n",
       "      <th>count</th>\n",
       "    </tr>\n",
       "  </thead>\n",
       "  <tbody>\n",
       "    <tr>\n",
       "      <th>0</th>\n",
       "      <td>1</td>\n",
       "      <td>21140601002</td>\n",
       "      <td>1</td>\n",
       "    </tr>\n",
       "    <tr>\n",
       "      <th>1</th>\n",
       "      <td>1</td>\n",
       "      <td>21140601013</td>\n",
       "      <td>1</td>\n",
       "    </tr>\n",
       "    <tr>\n",
       "      <th>2</th>\n",
       "      <td>1</td>\n",
       "      <td>21140601006</td>\n",
       "      <td>1</td>\n",
       "    </tr>\n",
       "    <tr>\n",
       "      <th>3</th>\n",
       "      <td>1</td>\n",
       "      <td>21140571002</td>\n",
       "      <td>1</td>\n",
       "    </tr>\n",
       "    <tr>\n",
       "      <th>4</th>\n",
       "      <td>1</td>\n",
       "      <td>21140571001</td>\n",
       "      <td>1</td>\n",
       "    </tr>\n",
       "  </tbody>\n",
       "</table>\n",
       "</div>"
      ],
      "text/plain": [
       "  BUSLINENUM    BUSSTOPID  count\n",
       "0          1  21140601002      1\n",
       "1          1  21140601013      1\n",
       "2          1  21140601006      1\n",
       "3          1  21140571002      1\n",
       "4          1  21140571001      1"
      ]
     },
     "execution_count": 429,
     "metadata": {},
     "output_type": "execute_result"
    }
   ],
   "source": [
    "tmp.head()"
   ]
  },
  {
   "cell_type": "code",
   "execution_count": 430,
   "metadata": {
    "scrolled": false
   },
   "outputs": [
    {
     "data": {
      "text/html": [
       "<div>\n",
       "<style scoped>\n",
       "    .dataframe tbody tr th:only-of-type {\n",
       "        vertical-align: middle;\n",
       "    }\n",
       "\n",
       "    .dataframe tbody tr th {\n",
       "        vertical-align: top;\n",
       "    }\n",
       "\n",
       "    .dataframe thead tr th {\n",
       "        text-align: left;\n",
       "    }\n",
       "\n",
       "    .dataframe thead tr:last-of-type th {\n",
       "        text-align: right;\n",
       "    }\n",
       "</style>\n",
       "<table border=\"1\" class=\"dataframe\">\n",
       "  <thead>\n",
       "    <tr>\n",
       "      <th></th>\n",
       "      <th>sum</th>\n",
       "    </tr>\n",
       "    <tr>\n",
       "      <th></th>\n",
       "      <th>count</th>\n",
       "    </tr>\n",
       "    <tr>\n",
       "      <th>BUSSTOPID</th>\n",
       "      <th></th>\n",
       "    </tr>\n",
       "  </thead>\n",
       "  <tbody>\n",
       "    <tr>\n",
       "      <th>21010511001</th>\n",
       "      <td>4</td>\n",
       "    </tr>\n",
       "    <tr>\n",
       "      <th>21010511003</th>\n",
       "      <td>6</td>\n",
       "    </tr>\n",
       "    <tr>\n",
       "      <th>21010511004</th>\n",
       "      <td>18</td>\n",
       "    </tr>\n",
       "    <tr>\n",
       "      <th>21010511005</th>\n",
       "      <td>1</td>\n",
       "    </tr>\n",
       "    <tr>\n",
       "      <th>21010511006</th>\n",
       "      <td>1</td>\n",
       "    </tr>\n",
       "  </tbody>\n",
       "</table>\n",
       "</div>"
      ],
      "text/plain": [
       "              sum\n",
       "            count\n",
       "BUSSTOPID        \n",
       "21010511001     4\n",
       "21010511003     6\n",
       "21010511004    18\n",
       "21010511005     1\n",
       "21010511006     1"
      ]
     },
     "execution_count": 430,
     "metadata": {},
     "output_type": "execute_result"
    }
   ],
   "source": [
    "import numpy as np\n",
    "# 피벗테이블로 변환\n",
    "busstopid_cnt = pd.pivot_table(tmp, index = 'BUSSTOPID', \n",
    "                               values = 'count', \n",
    "                               aggfunc = [np.sum])\n",
    "busstopid_cnt.head()"
   ]
  },
  {
   "cell_type": "code",
   "execution_count": 431,
   "metadata": {},
   "outputs": [
    {
     "data": {
      "text/plain": [
       "array([[ 4],\n",
       "       [ 6],\n",
       "       [18],\n",
       "       ...,\n",
       "       [ 1],\n",
       "       [ 1],\n",
       "       [ 1]], dtype=int64)"
      ]
     },
     "execution_count": 431,
     "metadata": {},
     "output_type": "execute_result"
    }
   ],
   "source": [
    "busstopid_cnt.values"
   ]
  },
  {
   "cell_type": "code",
   "execution_count": 432,
   "metadata": {},
   "outputs": [
    {
     "data": {
      "text/html": [
       "<div>\n",
       "<style scoped>\n",
       "    .dataframe tbody tr th:only-of-type {\n",
       "        vertical-align: middle;\n",
       "    }\n",
       "\n",
       "    .dataframe tbody tr th {\n",
       "        vertical-align: top;\n",
       "    }\n",
       "\n",
       "    .dataframe thead th {\n",
       "        text-align: right;\n",
       "    }\n",
       "</style>\n",
       "<table border=\"1\" class=\"dataframe\">\n",
       "  <thead>\n",
       "    <tr style=\"text-align: right;\">\n",
       "      <th></th>\n",
       "      <th>0</th>\n",
       "    </tr>\n",
       "    <tr>\n",
       "      <th>BUSSTOPID</th>\n",
       "      <th></th>\n",
       "    </tr>\n",
       "  </thead>\n",
       "  <tbody>\n",
       "    <tr>\n",
       "      <th>21010511001</th>\n",
       "      <td>4</td>\n",
       "    </tr>\n",
       "    <tr>\n",
       "      <th>21010511003</th>\n",
       "      <td>6</td>\n",
       "    </tr>\n",
       "    <tr>\n",
       "      <th>21010511004</th>\n",
       "      <td>18</td>\n",
       "    </tr>\n",
       "    <tr>\n",
       "      <th>21010511005</th>\n",
       "      <td>1</td>\n",
       "    </tr>\n",
       "    <tr>\n",
       "      <th>21010511006</th>\n",
       "      <td>1</td>\n",
       "    </tr>\n",
       "  </tbody>\n",
       "</table>\n",
       "</div>"
      ],
      "text/plain": [
       "              0\n",
       "BUSSTOPID      \n",
       "21010511001   4\n",
       "21010511003   6\n",
       "21010511004  18\n",
       "21010511005   1\n",
       "21010511006   1"
      ]
     },
     "execution_count": 432,
     "metadata": {},
     "output_type": "execute_result"
    }
   ],
   "source": [
    "busstopid_count = pd.DataFrame(busstopid_cnt.values, \n",
    "                               index = busstopid_cnt.index)\n",
    "busstopid_count.head()"
   ]
  },
  {
   "cell_type": "code",
   "execution_count": 433,
   "metadata": {},
   "outputs": [],
   "source": [
    "# 레벨있는 컬럼명 바로 변경하는 방법?!\n",
    "busstopid_count = busstopid_count.rename(columns={\n",
    "    0 : 'COUNT'\n",
    "})"
   ]
  },
  {
   "cell_type": "code",
   "execution_count": 434,
   "metadata": {},
   "outputs": [
    {
     "data": {
      "text/html": [
       "<div>\n",
       "<style scoped>\n",
       "    .dataframe tbody tr th:only-of-type {\n",
       "        vertical-align: middle;\n",
       "    }\n",
       "\n",
       "    .dataframe tbody tr th {\n",
       "        vertical-align: top;\n",
       "    }\n",
       "\n",
       "    .dataframe thead th {\n",
       "        text-align: right;\n",
       "    }\n",
       "</style>\n",
       "<table border=\"1\" class=\"dataframe\">\n",
       "  <thead>\n",
       "    <tr style=\"text-align: right;\">\n",
       "      <th></th>\n",
       "      <th>COUNT</th>\n",
       "    </tr>\n",
       "    <tr>\n",
       "      <th>BUSSTOPID</th>\n",
       "      <th></th>\n",
       "    </tr>\n",
       "  </thead>\n",
       "  <tbody>\n",
       "    <tr>\n",
       "      <th>21010511001</th>\n",
       "      <td>4</td>\n",
       "    </tr>\n",
       "    <tr>\n",
       "      <th>21010511003</th>\n",
       "      <td>6</td>\n",
       "    </tr>\n",
       "    <tr>\n",
       "      <th>21010511004</th>\n",
       "      <td>18</td>\n",
       "    </tr>\n",
       "    <tr>\n",
       "      <th>21010511005</th>\n",
       "      <td>1</td>\n",
       "    </tr>\n",
       "    <tr>\n",
       "      <th>21010511006</th>\n",
       "      <td>1</td>\n",
       "    </tr>\n",
       "  </tbody>\n",
       "</table>\n",
       "</div>"
      ],
      "text/plain": [
       "             COUNT\n",
       "BUSSTOPID         \n",
       "21010511001      4\n",
       "21010511003      6\n",
       "21010511004     18\n",
       "21010511005      1\n",
       "21010511006      1"
      ]
     },
     "execution_count": 434,
     "metadata": {},
     "output_type": "execute_result"
    }
   ],
   "source": [
    "busstopid_count.head()"
   ]
  },
  {
   "cell_type": "code",
   "execution_count": 435,
   "metadata": {},
   "outputs": [],
   "source": [
    "# 각 id에 해당하는 버스정류장, 위도, 경도, 자치구 찾기\n",
    "names = []\n",
    "ys = []\n",
    "xs = []\n",
    "gus = []\n",
    "for id in busstopid_count.index :\n",
    "    names.append(busstop_busan[ busstop_busan['BUSSTOPID']==id ]['NAME'].values[0])\n",
    "    ys.append(busstop_busan[ busstop_busan['BUSSTOPID']==id ]['Y'].values[0])\n",
    "    xs.append(busstop_busan[ busstop_busan['BUSSTOPID']==id ]['X'].values[0])\n",
    "    gus.append(busstop_busan[ busstop_busan['BUSSTOPID']==id ]['GUNAME'].values[0])"
   ]
  },
  {
   "cell_type": "code",
   "execution_count": 436,
   "metadata": {},
   "outputs": [
    {
     "data": {
      "text/plain": [
       "(3723, 3723, 3723, 3723, 3723)"
      ]
     },
     "execution_count": 436,
     "metadata": {},
     "output_type": "execute_result"
    }
   ],
   "source": [
    "len(busstopid_count), len(names), len(ys), len(xs), len(gus)"
   ]
  },
  {
   "cell_type": "code",
   "execution_count": 437,
   "metadata": {},
   "outputs": [],
   "source": [
    "busstopid_count['NAME'] = names\n",
    "busstopid_count['Y'] = ys\n",
    "busstopid_count['X'] = xs\n",
    "busstopid_count['GUNAME'] = gus"
   ]
  },
  {
   "cell_type": "code",
   "execution_count": 438,
   "metadata": {},
   "outputs": [
    {
     "data": {
      "text/html": [
       "<div>\n",
       "<style scoped>\n",
       "    .dataframe tbody tr th:only-of-type {\n",
       "        vertical-align: middle;\n",
       "    }\n",
       "\n",
       "    .dataframe tbody tr th {\n",
       "        vertical-align: top;\n",
       "    }\n",
       "\n",
       "    .dataframe thead th {\n",
       "        text-align: right;\n",
       "    }\n",
       "</style>\n",
       "<table border=\"1\" class=\"dataframe\">\n",
       "  <thead>\n",
       "    <tr style=\"text-align: right;\">\n",
       "      <th></th>\n",
       "      <th>COUNT</th>\n",
       "      <th>NAME</th>\n",
       "      <th>Y</th>\n",
       "      <th>X</th>\n",
       "      <th>GUNAME</th>\n",
       "    </tr>\n",
       "    <tr>\n",
       "      <th>BUSSTOPID</th>\n",
       "      <th></th>\n",
       "      <th></th>\n",
       "      <th></th>\n",
       "      <th></th>\n",
       "      <th></th>\n",
       "    </tr>\n",
       "  </thead>\n",
       "  <tbody>\n",
       "    <tr>\n",
       "      <th>21010511001</th>\n",
       "      <td>4</td>\n",
       "      <td>제일은행앞</td>\n",
       "      <td>35.103002</td>\n",
       "      <td>129.034916</td>\n",
       "      <td>중구</td>\n",
       "    </tr>\n",
       "    <tr>\n",
       "      <th>21010511003</th>\n",
       "      <td>6</td>\n",
       "      <td>중부경찰서</td>\n",
       "      <td>35.107619</td>\n",
       "      <td>129.036175</td>\n",
       "      <td>중구</td>\n",
       "    </tr>\n",
       "    <tr>\n",
       "      <th>21010511004</th>\n",
       "      <td>18</td>\n",
       "      <td>영주동</td>\n",
       "      <td>35.109653</td>\n",
       "      <td>129.037496</td>\n",
       "      <td>중구</td>\n",
       "    </tr>\n",
       "    <tr>\n",
       "      <th>21010511005</th>\n",
       "      <td>1</td>\n",
       "      <td>2부두</td>\n",
       "      <td>35.108471</td>\n",
       "      <td>129.040106</td>\n",
       "      <td>중구</td>\n",
       "    </tr>\n",
       "    <tr>\n",
       "      <th>21010511006</th>\n",
       "      <td>1</td>\n",
       "      <td>2부두</td>\n",
       "      <td>35.108364</td>\n",
       "      <td>129.040671</td>\n",
       "      <td>중구</td>\n",
       "    </tr>\n",
       "  </tbody>\n",
       "</table>\n",
       "</div>"
      ],
      "text/plain": [
       "             COUNT   NAME          Y           X GUNAME\n",
       "BUSSTOPID                                              \n",
       "21010511001      4  제일은행앞  35.103002  129.034916     중구\n",
       "21010511003      6  중부경찰서  35.107619  129.036175     중구\n",
       "21010511004     18    영주동  35.109653  129.037496     중구\n",
       "21010511005      1    2부두  35.108471  129.040106     중구\n",
       "21010511006      1    2부두  35.108364  129.040671     중구"
      ]
     },
     "execution_count": 438,
     "metadata": {},
     "output_type": "execute_result"
    }
   ],
   "source": [
    "busstopid_count.head()"
   ]
  },
  {
   "cell_type": "code",
   "execution_count": 439,
   "metadata": {},
   "outputs": [
    {
     "data": {
      "text/html": [
       "<div>\n",
       "<style scoped>\n",
       "    .dataframe tbody tr th:only-of-type {\n",
       "        vertical-align: middle;\n",
       "    }\n",
       "\n",
       "    .dataframe tbody tr th {\n",
       "        vertical-align: top;\n",
       "    }\n",
       "\n",
       "    .dataframe thead th {\n",
       "        text-align: right;\n",
       "    }\n",
       "</style>\n",
       "<table border=\"1\" class=\"dataframe\">\n",
       "  <thead>\n",
       "    <tr style=\"text-align: right;\">\n",
       "      <th></th>\n",
       "      <th>COUNT</th>\n",
       "      <th>NAME</th>\n",
       "      <th>Y</th>\n",
       "      <th>X</th>\n",
       "      <th>GUNAME</th>\n",
       "    </tr>\n",
       "    <tr>\n",
       "      <th>BUSSTOPID</th>\n",
       "      <th></th>\n",
       "      <th></th>\n",
       "      <th></th>\n",
       "      <th></th>\n",
       "      <th></th>\n",
       "    </tr>\n",
       "  </thead>\n",
       "  <tbody>\n",
       "    <tr>\n",
       "      <th>21050531008</th>\n",
       "      <td>22</td>\n",
       "      <td>송상현광장</td>\n",
       "      <td>35.166863</td>\n",
       "      <td>129.065650</td>\n",
       "      <td>부산진구</td>\n",
       "    </tr>\n",
       "    <tr>\n",
       "      <th>21010511021</th>\n",
       "      <td>20</td>\n",
       "      <td>중앙동(중앙역)</td>\n",
       "      <td>35.106675</td>\n",
       "      <td>129.036341</td>\n",
       "      <td>중구</td>\n",
       "    </tr>\n",
       "    <tr>\n",
       "      <th>21010511015</th>\n",
       "      <td>20</td>\n",
       "      <td>중앙동(중앙역)</td>\n",
       "      <td>35.105433</td>\n",
       "      <td>129.036025</td>\n",
       "      <td>중구</td>\n",
       "    </tr>\n",
       "    <tr>\n",
       "      <th>50000002293</th>\n",
       "      <td>19</td>\n",
       "      <td>동래시장</td>\n",
       "      <td>35.201016</td>\n",
       "      <td>129.088032</td>\n",
       "      <td>동래구</td>\n",
       "    </tr>\n",
       "    <tr>\n",
       "      <th>50000002294</th>\n",
       "      <td>19</td>\n",
       "      <td>동래시장</td>\n",
       "      <td>35.201035</td>\n",
       "      <td>129.087176</td>\n",
       "      <td>동래구</td>\n",
       "    </tr>\n",
       "  </tbody>\n",
       "</table>\n",
       "</div>"
      ],
      "text/plain": [
       "             COUNT      NAME          Y           X GUNAME\n",
       "BUSSTOPID                                                 \n",
       "21050531008     22     송상현광장  35.166863  129.065650   부산진구\n",
       "21010511021     20  중앙동(중앙역)  35.106675  129.036341     중구\n",
       "21010511015     20  중앙동(중앙역)  35.105433  129.036025     중구\n",
       "50000002293     19      동래시장  35.201016  129.088032    동래구\n",
       "50000002294     19      동래시장  35.201035  129.087176    동래구"
      ]
     },
     "execution_count": 439,
     "metadata": {},
     "output_type": "execute_result"
    }
   ],
   "source": [
    "sorted_busstopid_count = busstopid_count.sort_values(by = 'COUNT', ascending=False)\n",
    "# 상위 10개\n",
    "sorted_busstopid_count.head()"
   ]
  },
  {
   "cell_type": "code",
   "execution_count": 440,
   "metadata": {},
   "outputs": [
    {
     "data": {
      "text/plain": [
       "838"
      ]
     },
     "execution_count": 440,
     "metadata": {},
     "output_type": "execute_result"
    }
   ],
   "source": [
    "# 1개의 버스만 정류하는 버스정류장의 개수\n",
    "len(sorted_busstopid_count[sorted_busstopid_count['COUNT'] == 1])"
   ]
  },
  {
   "cell_type": "code",
   "execution_count": 441,
   "metadata": {},
   "outputs": [],
   "source": [
    "# 그러나 앞서 언급했듯이\n",
    "# 첫차/막차 시간 배차간격 등을 고려하지 않았기 때문에\n",
    "# 이 데이터가 가지는 의미는 크지 않다\n",
    "# '1일 동안 한 정류장에 버스들이 총 몇 번 정류하는지' 추가 계산할 필요가 있다 "
   ]
  },
  {
   "cell_type": "markdown",
   "metadata": {},
   "source": [
    "### → 개별 정류장으로는 '송상현광장'이 정류 횟수가 가장 많다"
   ]
  },
  {
   "cell_type": "markdown",
   "metadata": {},
   "source": [
    "###### 시각화 : 정류하는 버스가 15대 이상인 정류소에 마커 표시"
   ]
  },
  {
   "cell_type": "code",
   "execution_count": 442,
   "metadata": {},
   "outputs": [],
   "source": [
    "import folium\n",
    "import json\n",
    "geo_str = json.load( open('./data/busan.json', encoding = 'utf-8') )"
   ]
  },
  {
   "cell_type": "code",
   "execution_count": 443,
   "metadata": {
    "scrolled": true
   },
   "outputs": [
    {
     "data": {
      "text/html": [
       "<div>\n",
       "<style scoped>\n",
       "    .dataframe tbody tr th:only-of-type {\n",
       "        vertical-align: middle;\n",
       "    }\n",
       "\n",
       "    .dataframe tbody tr th {\n",
       "        vertical-align: top;\n",
       "    }\n",
       "\n",
       "    .dataframe thead th {\n",
       "        text-align: right;\n",
       "    }\n",
       "</style>\n",
       "<table border=\"1\" class=\"dataframe\">\n",
       "  <thead>\n",
       "    <tr style=\"text-align: right;\">\n",
       "      <th></th>\n",
       "      <th>COUNT</th>\n",
       "      <th>NAME</th>\n",
       "      <th>Y</th>\n",
       "      <th>X</th>\n",
       "      <th>GUNAME</th>\n",
       "    </tr>\n",
       "    <tr>\n",
       "      <th>BUSSTOPID</th>\n",
       "      <th></th>\n",
       "      <th></th>\n",
       "      <th></th>\n",
       "      <th></th>\n",
       "      <th></th>\n",
       "    </tr>\n",
       "  </thead>\n",
       "  <tbody>\n",
       "    <tr>\n",
       "      <th>21050531008</th>\n",
       "      <td>22</td>\n",
       "      <td>송상현광장</td>\n",
       "      <td>35.166863</td>\n",
       "      <td>129.065650</td>\n",
       "      <td>부산진구</td>\n",
       "    </tr>\n",
       "    <tr>\n",
       "      <th>21010511021</th>\n",
       "      <td>20</td>\n",
       "      <td>중앙동(중앙역)</td>\n",
       "      <td>35.106675</td>\n",
       "      <td>129.036341</td>\n",
       "      <td>중구</td>\n",
       "    </tr>\n",
       "  </tbody>\n",
       "</table>\n",
       "</div>"
      ],
      "text/plain": [
       "             COUNT      NAME          Y           X GUNAME\n",
       "BUSSTOPID                                                 \n",
       "21050531008     22     송상현광장  35.166863  129.065650   부산진구\n",
       "21010511021     20  중앙동(중앙역)  35.106675  129.036341     중구"
      ]
     },
     "execution_count": 443,
     "metadata": {},
     "output_type": "execute_result"
    }
   ],
   "source": [
    "tmp = sorted_busstopid_count[sorted_busstopid_count['COUNT']>=15]\n",
    "tmp.head(2)"
   ]
  },
  {
   "cell_type": "code",
   "execution_count": 444,
   "metadata": {},
   "outputs": [
    {
     "data": {
      "text/html": [
       "<div style=\"width:100%;\"><div style=\"position:relative;width:100%;height:0;padding-bottom:60%;\"><iframe src=\"data:text/html;charset=utf-8;base64,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\" style=\"position:absolute;width:100%;height:100%;left:0;top:0;border:none !important;\" allowfullscreen webkitallowfullscreen mozallowfullscreen></iframe></div></div>"
      ],
      "text/plain": [
       "<folium.folium.Map at 0x14b026a8390>"
      ]
     },
     "execution_count": 444,
     "metadata": {},
     "output_type": "execute_result"
    }
   ],
   "source": [
    "gps = [ 35.1564294,129.0603389 ]\n",
    "map_busan_bs_over15 = folium.Map(location = gps, zoom_start=11)\n",
    "for id in tmp.index :\n",
    "    folium.Marker([tmp['Y'][id], tmp['X'][id]],\n",
    "                 icon = folium.Icon(icon = 'info-sign', \n",
    "                                    color = 'red')).add_to(map_busan_bs_over15)\n",
    "map_busan_bs_over15"
   ]
  },
  {
   "cell_type": "code",
   "execution_count": null,
   "metadata": {},
   "outputs": [],
   "source": []
  },
  {
   "cell_type": "markdown",
   "metadata": {},
   "source": [
    "### 같은 자치구 내, 같은 이름의 정류장이 여러 개 있는 점을 고려한 경우"
   ]
  },
  {
   "cell_type": "code",
   "execution_count": 445,
   "metadata": {
    "scrolled": false
   },
   "outputs": [
    {
     "data": {
      "text/html": [
       "<div>\n",
       "<style scoped>\n",
       "    .dataframe tbody tr th:only-of-type {\n",
       "        vertical-align: middle;\n",
       "    }\n",
       "\n",
       "    .dataframe tbody tr th {\n",
       "        vertical-align: top;\n",
       "    }\n",
       "\n",
       "    .dataframe thead th {\n",
       "        text-align: right;\n",
       "    }\n",
       "</style>\n",
       "<table border=\"1\" class=\"dataframe\">\n",
       "  <thead>\n",
       "    <tr style=\"text-align: right;\">\n",
       "      <th></th>\n",
       "      <th>COUNT</th>\n",
       "      <th>NAME</th>\n",
       "      <th>Y</th>\n",
       "      <th>X</th>\n",
       "      <th>GUNAME</th>\n",
       "    </tr>\n",
       "    <tr>\n",
       "      <th>BUSSTOPID</th>\n",
       "      <th></th>\n",
       "      <th></th>\n",
       "      <th></th>\n",
       "      <th></th>\n",
       "      <th></th>\n",
       "    </tr>\n",
       "  </thead>\n",
       "  <tbody>\n",
       "    <tr>\n",
       "      <th>21010511001</th>\n",
       "      <td>4</td>\n",
       "      <td>제일은행앞</td>\n",
       "      <td>35.103002</td>\n",
       "      <td>129.034916</td>\n",
       "      <td>중구</td>\n",
       "    </tr>\n",
       "    <tr>\n",
       "      <th>21010511003</th>\n",
       "      <td>6</td>\n",
       "      <td>중부경찰서</td>\n",
       "      <td>35.107619</td>\n",
       "      <td>129.036175</td>\n",
       "      <td>중구</td>\n",
       "    </tr>\n",
       "    <tr>\n",
       "      <th>21010511004</th>\n",
       "      <td>18</td>\n",
       "      <td>영주동</td>\n",
       "      <td>35.109653</td>\n",
       "      <td>129.037496</td>\n",
       "      <td>중구</td>\n",
       "    </tr>\n",
       "    <tr>\n",
       "      <th>21010511005</th>\n",
       "      <td>1</td>\n",
       "      <td>2부두</td>\n",
       "      <td>35.108471</td>\n",
       "      <td>129.040106</td>\n",
       "      <td>중구</td>\n",
       "    </tr>\n",
       "    <tr>\n",
       "      <th>21010511006</th>\n",
       "      <td>1</td>\n",
       "      <td>2부두</td>\n",
       "      <td>35.108364</td>\n",
       "      <td>129.040671</td>\n",
       "      <td>중구</td>\n",
       "    </tr>\n",
       "  </tbody>\n",
       "</table>\n",
       "</div>"
      ],
      "text/plain": [
       "             COUNT   NAME          Y           X GUNAME\n",
       "BUSSTOPID                                              \n",
       "21010511001      4  제일은행앞  35.103002  129.034916     중구\n",
       "21010511003      6  중부경찰서  35.107619  129.036175     중구\n",
       "21010511004     18    영주동  35.109653  129.037496     중구\n",
       "21010511005      1    2부두  35.108471  129.040106     중구\n",
       "21010511006      1    2부두  35.108364  129.040671     중구"
      ]
     },
     "execution_count": 445,
     "metadata": {},
     "output_type": "execute_result"
    }
   ],
   "source": [
    "busstopid_count_2 = busstopid_count[:]\n",
    "busstopid_count_2.head()"
   ]
  },
  {
   "cell_type": "code",
   "execution_count": 446,
   "metadata": {},
   "outputs": [],
   "source": [
    "name_gu_s = []\n",
    "for id in busstopid_count_2.index :\n",
    "    name_gu_s.append(busstopid_count_2['NAME'][id] + ' ' + busstopid_count_2['GUNAME'][id])"
   ]
  },
  {
   "cell_type": "code",
   "execution_count": 447,
   "metadata": {},
   "outputs": [
    {
     "data": {
      "text/plain": [
       "(3723, 3723)"
      ]
     },
     "execution_count": 447,
     "metadata": {},
     "output_type": "execute_result"
    }
   ],
   "source": [
    "len(busstopid_count_2), len(name_gu_s)"
   ]
  },
  {
   "cell_type": "code",
   "execution_count": 448,
   "metadata": {
    "scrolled": true
   },
   "outputs": [
    {
     "name": "stderr",
     "output_type": "stream",
     "text": [
      "C:\\Users\\User\\Anaconda3\\lib\\site-packages\\ipykernel_launcher.py:1: SettingWithCopyWarning: \n",
      "A value is trying to be set on a copy of a slice from a DataFrame.\n",
      "Try using .loc[row_indexer,col_indexer] = value instead\n",
      "\n",
      "See the caveats in the documentation: http://pandas.pydata.org/pandas-docs/stable/indexing.html#indexing-view-versus-copy\n",
      "  \"\"\"Entry point for launching an IPython kernel.\n"
     ]
    },
    {
     "data": {
      "text/html": [
       "<div>\n",
       "<style scoped>\n",
       "    .dataframe tbody tr th:only-of-type {\n",
       "        vertical-align: middle;\n",
       "    }\n",
       "\n",
       "    .dataframe tbody tr th {\n",
       "        vertical-align: top;\n",
       "    }\n",
       "\n",
       "    .dataframe thead th {\n",
       "        text-align: right;\n",
       "    }\n",
       "</style>\n",
       "<table border=\"1\" class=\"dataframe\">\n",
       "  <thead>\n",
       "    <tr style=\"text-align: right;\">\n",
       "      <th></th>\n",
       "      <th>COUNT</th>\n",
       "      <th>NAME</th>\n",
       "      <th>Y</th>\n",
       "      <th>X</th>\n",
       "      <th>GUNAME</th>\n",
       "      <th>NAME_GU</th>\n",
       "    </tr>\n",
       "    <tr>\n",
       "      <th>BUSSTOPID</th>\n",
       "      <th></th>\n",
       "      <th></th>\n",
       "      <th></th>\n",
       "      <th></th>\n",
       "      <th></th>\n",
       "      <th></th>\n",
       "    </tr>\n",
       "  </thead>\n",
       "  <tbody>\n",
       "    <tr>\n",
       "      <th>21010511001</th>\n",
       "      <td>4</td>\n",
       "      <td>제일은행앞</td>\n",
       "      <td>35.103002</td>\n",
       "      <td>129.034916</td>\n",
       "      <td>중구</td>\n",
       "      <td>제일은행앞 중구</td>\n",
       "    </tr>\n",
       "    <tr>\n",
       "      <th>21010511003</th>\n",
       "      <td>6</td>\n",
       "      <td>중부경찰서</td>\n",
       "      <td>35.107619</td>\n",
       "      <td>129.036175</td>\n",
       "      <td>중구</td>\n",
       "      <td>중부경찰서 중구</td>\n",
       "    </tr>\n",
       "    <tr>\n",
       "      <th>21010511004</th>\n",
       "      <td>18</td>\n",
       "      <td>영주동</td>\n",
       "      <td>35.109653</td>\n",
       "      <td>129.037496</td>\n",
       "      <td>중구</td>\n",
       "      <td>영주동 중구</td>\n",
       "    </tr>\n",
       "    <tr>\n",
       "      <th>21010511005</th>\n",
       "      <td>1</td>\n",
       "      <td>2부두</td>\n",
       "      <td>35.108471</td>\n",
       "      <td>129.040106</td>\n",
       "      <td>중구</td>\n",
       "      <td>2부두 중구</td>\n",
       "    </tr>\n",
       "    <tr>\n",
       "      <th>21010511006</th>\n",
       "      <td>1</td>\n",
       "      <td>2부두</td>\n",
       "      <td>35.108364</td>\n",
       "      <td>129.040671</td>\n",
       "      <td>중구</td>\n",
       "      <td>2부두 중구</td>\n",
       "    </tr>\n",
       "  </tbody>\n",
       "</table>\n",
       "</div>"
      ],
      "text/plain": [
       "             COUNT   NAME          Y           X GUNAME   NAME_GU\n",
       "BUSSTOPID                                                        \n",
       "21010511001      4  제일은행앞  35.103002  129.034916     중구  제일은행앞 중구\n",
       "21010511003      6  중부경찰서  35.107619  129.036175     중구  중부경찰서 중구\n",
       "21010511004     18    영주동  35.109653  129.037496     중구    영주동 중구\n",
       "21010511005      1    2부두  35.108471  129.040106     중구    2부두 중구\n",
       "21010511006      1    2부두  35.108364  129.040671     중구    2부두 중구"
      ]
     },
     "execution_count": 448,
     "metadata": {},
     "output_type": "execute_result"
    }
   ],
   "source": [
    "busstopid_count_2['NAME_GU'] = name_gu_s\n",
    "busstopid_count_2.head()"
   ]
  },
  {
   "cell_type": "code",
   "execution_count": 449,
   "metadata": {},
   "outputs": [],
   "source": [
    "new_busstop_count = pd.pivot_table(busstopid_count_2, \n",
    "               index = 'NAME_GU', \n",
    "               values = 'COUNT',\n",
    "               aggfunc = [np.sum])"
   ]
  },
  {
   "cell_type": "code",
   "execution_count": 450,
   "metadata": {},
   "outputs": [
    {
     "data": {
      "text/plain": [
       "array([[ 2],\n",
       "       [ 8],\n",
       "       [ 3],\n",
       "       ...,\n",
       "       [ 4],\n",
       "       [ 8],\n",
       "       [18]], dtype=int64)"
      ]
     },
     "execution_count": 450,
     "metadata": {},
     "output_type": "execute_result"
    }
   ],
   "source": [
    "new_busstop_count.values"
   ]
  },
  {
   "cell_type": "code",
   "execution_count": 451,
   "metadata": {},
   "outputs": [],
   "source": [
    "new_busstop_count = pd.DataFrame(new_busstop_count.values, index = new_busstop_count.index)"
   ]
  },
  {
   "cell_type": "code",
   "execution_count": 452,
   "metadata": {},
   "outputs": [
    {
     "data": {
      "text/html": [
       "<div>\n",
       "<style scoped>\n",
       "    .dataframe tbody tr th:only-of-type {\n",
       "        vertical-align: middle;\n",
       "    }\n",
       "\n",
       "    .dataframe tbody tr th {\n",
       "        vertical-align: top;\n",
       "    }\n",
       "\n",
       "    .dataframe thead th {\n",
       "        text-align: right;\n",
       "    }\n",
       "</style>\n",
       "<table border=\"1\" class=\"dataframe\">\n",
       "  <thead>\n",
       "    <tr style=\"text-align: right;\">\n",
       "      <th></th>\n",
       "      <th>COUNT</th>\n",
       "    </tr>\n",
       "    <tr>\n",
       "      <th>NAME_GU</th>\n",
       "      <th></th>\n",
       "    </tr>\n",
       "  </thead>\n",
       "  <tbody>\n",
       "    <tr>\n",
       "      <th>(구)검문소 강서구</th>\n",
       "      <td>2</td>\n",
       "    </tr>\n",
       "    <tr>\n",
       "      <th>(구)당감4동주민센터 부산진구</th>\n",
       "      <td>8</td>\n",
       "    </tr>\n",
       "    <tr>\n",
       "      <th>(구)대우자동차 부산진구</th>\n",
       "      <td>3</td>\n",
       "    </tr>\n",
       "    <tr>\n",
       "      <th>(구)성분도병원 동구</th>\n",
       "      <td>2</td>\n",
       "    </tr>\n",
       "    <tr>\n",
       "      <th>(구)해룡약국 동구</th>\n",
       "      <td>7</td>\n",
       "    </tr>\n",
       "  </tbody>\n",
       "</table>\n",
       "</div>"
      ],
      "text/plain": [
       "                  COUNT\n",
       "NAME_GU                \n",
       "(구)검문소 강서구            2\n",
       "(구)당감4동주민센터 부산진구      8\n",
       "(구)대우자동차 부산진구         3\n",
       "(구)성분도병원 동구           2\n",
       "(구)해룡약국 동구            7"
      ]
     },
     "execution_count": 452,
     "metadata": {},
     "output_type": "execute_result"
    }
   ],
   "source": [
    "new_busstop_count = new_busstop_count.rename(columns = {\n",
    "    0 : 'COUNT'\n",
    "})\n",
    "new_busstop_count.head()"
   ]
  },
  {
   "cell_type": "code",
   "execution_count": 453,
   "metadata": {},
   "outputs": [
    {
     "data": {
      "text/html": [
       "<div>\n",
       "<style scoped>\n",
       "    .dataframe tbody tr th:only-of-type {\n",
       "        vertical-align: middle;\n",
       "    }\n",
       "\n",
       "    .dataframe tbody tr th {\n",
       "        vertical-align: top;\n",
       "    }\n",
       "\n",
       "    .dataframe thead th {\n",
       "        text-align: right;\n",
       "    }\n",
       "</style>\n",
       "<table border=\"1\" class=\"dataframe\">\n",
       "  <thead>\n",
       "    <tr style=\"text-align: right;\">\n",
       "      <th></th>\n",
       "      <th>COUNT</th>\n",
       "    </tr>\n",
       "    <tr>\n",
       "      <th>NAME_GU</th>\n",
       "      <th></th>\n",
       "    </tr>\n",
       "  </thead>\n",
       "  <tbody>\n",
       "    <tr>\n",
       "      <th>부산역 동구</th>\n",
       "      <td>60</td>\n",
       "    </tr>\n",
       "    <tr>\n",
       "      <th>롯데호텔백화점(서면역) 부산진구</th>\n",
       "      <td>55</td>\n",
       "    </tr>\n",
       "    <tr>\n",
       "      <th>부산진역 동구</th>\n",
       "      <td>52</td>\n",
       "    </tr>\n",
       "    <tr>\n",
       "      <th>영주동 중구</th>\n",
       "      <td>48</td>\n",
       "    </tr>\n",
       "    <tr>\n",
       "      <th>중앙시장 부산진구</th>\n",
       "      <td>45</td>\n",
       "    </tr>\n",
       "    <tr>\n",
       "      <th>문현교차로 남구</th>\n",
       "      <td>41</td>\n",
       "    </tr>\n",
       "    <tr>\n",
       "      <th>중앙동(중앙역) 중구</th>\n",
       "      <td>40</td>\n",
       "    </tr>\n",
       "    <tr>\n",
       "      <th>부산진시장 동구</th>\n",
       "      <td>40</td>\n",
       "    </tr>\n",
       "    <tr>\n",
       "      <th>부전시장 부산진구</th>\n",
       "      <td>40</td>\n",
       "    </tr>\n",
       "    <tr>\n",
       "      <th>낙민역(동래고등학교) 동래구</th>\n",
       "      <td>38</td>\n",
       "    </tr>\n",
       "  </tbody>\n",
       "</table>\n",
       "</div>"
      ],
      "text/plain": [
       "                   COUNT\n",
       "NAME_GU                 \n",
       "부산역 동구                60\n",
       "롯데호텔백화점(서면역) 부산진구     55\n",
       "부산진역 동구               52\n",
       "영주동 중구                48\n",
       "중앙시장 부산진구             45\n",
       "문현교차로 남구              41\n",
       "중앙동(중앙역) 중구           40\n",
       "부산진시장 동구              40\n",
       "부전시장 부산진구             40\n",
       "낙민역(동래고등학교) 동래구       38"
      ]
     },
     "execution_count": 453,
     "metadata": {},
     "output_type": "execute_result"
    }
   ],
   "source": [
    "sorted_busstop_count = new_busstop_count.sort_values(by = 'COUNT', ascending=False)\n",
    "sorted_busstop_count.head(10)"
   ]
  },
  {
   "cell_type": "markdown",
   "metadata": {},
   "source": [
    "### → 같은 자치구 내, 같은 이름의 정류장을 하나로 본다면 동구의 '부산역'이 가장 높다"
   ]
  },
  {
   "cell_type": "code",
   "execution_count": null,
   "metadata": {},
   "outputs": [],
   "source": []
  },
  {
   "cell_type": "markdown",
   "metadata": {},
   "source": [
    "### 부산광역시 자치구별 버스정류소 개수"
   ]
  },
  {
   "cell_type": "code",
   "execution_count": 454,
   "metadata": {
    "scrolled": true
   },
   "outputs": [
    {
     "data": {
      "text/html": [
       "<div>\n",
       "<style scoped>\n",
       "    .dataframe tbody tr th:only-of-type {\n",
       "        vertical-align: middle;\n",
       "    }\n",
       "\n",
       "    .dataframe tbody tr th {\n",
       "        vertical-align: top;\n",
       "    }\n",
       "\n",
       "    .dataframe thead th {\n",
       "        text-align: right;\n",
       "    }\n",
       "</style>\n",
       "<table border=\"1\" class=\"dataframe\">\n",
       "  <thead>\n",
       "    <tr style=\"text-align: right;\">\n",
       "      <th></th>\n",
       "      <th>BUSLINENUM</th>\n",
       "      <th>NAME</th>\n",
       "      <th>SIGUNNAME</th>\n",
       "      <th>GUNAME</th>\n",
       "      <th>X</th>\n",
       "      <th>Y</th>\n",
       "      <th>BUSSTOPID</th>\n",
       "    </tr>\n",
       "  </thead>\n",
       "  <tbody>\n",
       "    <tr>\n",
       "      <th>0</th>\n",
       "      <td>1</td>\n",
       "      <td>기점</td>\n",
       "      <td>부산광역시</td>\n",
       "      <td>수영구</td>\n",
       "      <td>129.127115</td>\n",
       "      <td>35.159515</td>\n",
       "      <td>21140601002</td>\n",
       "    </tr>\n",
       "    <tr>\n",
       "      <th>1</th>\n",
       "      <td>1</td>\n",
       "      <td>MBC방송국</td>\n",
       "      <td>부산광역시</td>\n",
       "      <td>수영구</td>\n",
       "      <td>129.126416</td>\n",
       "      <td>35.159658</td>\n",
       "      <td>21140601013</td>\n",
       "    </tr>\n",
       "    <tr>\n",
       "      <th>2</th>\n",
       "      <td>1</td>\n",
       "      <td>민락동골목시장</td>\n",
       "      <td>부산광역시</td>\n",
       "      <td>수영구</td>\n",
       "      <td>129.123045</td>\n",
       "      <td>35.158969</td>\n",
       "      <td>21140601006</td>\n",
       "    </tr>\n",
       "    <tr>\n",
       "      <th>3</th>\n",
       "      <td>1</td>\n",
       "      <td>광안농협앞</td>\n",
       "      <td>부산광역시</td>\n",
       "      <td>수영구</td>\n",
       "      <td>129.120022</td>\n",
       "      <td>35.157650</td>\n",
       "      <td>21140571002</td>\n",
       "    </tr>\n",
       "    <tr>\n",
       "      <th>4</th>\n",
       "      <td>1</td>\n",
       "      <td>광안리해수욕장</td>\n",
       "      <td>부산광역시</td>\n",
       "      <td>수영구</td>\n",
       "      <td>129.116613</td>\n",
       "      <td>35.155443</td>\n",
       "      <td>21140571001</td>\n",
       "    </tr>\n",
       "  </tbody>\n",
       "</table>\n",
       "</div>"
      ],
      "text/plain": [
       "  BUSLINENUM     NAME SIGUNNAME GUNAME           X          Y    BUSSTOPID\n",
       "0          1       기점     부산광역시    수영구  129.127115  35.159515  21140601002\n",
       "1          1   MBC방송국     부산광역시    수영구  129.126416  35.159658  21140601013\n",
       "2          1  민락동골목시장     부산광역시    수영구  129.123045  35.158969  21140601006\n",
       "3          1    광안농협앞     부산광역시    수영구  129.120022  35.157650  21140571002\n",
       "4          1  광안리해수욕장     부산광역시    수영구  129.116613  35.155443  21140571001"
      ]
     },
     "execution_count": 454,
     "metadata": {},
     "output_type": "execute_result"
    }
   ],
   "source": [
    "busstop_busan.head()"
   ]
  },
  {
   "cell_type": "code",
   "execution_count": 455,
   "metadata": {},
   "outputs": [
    {
     "data": {
      "text/plain": [
       "3723"
      ]
     },
     "execution_count": 455,
     "metadata": {},
     "output_type": "execute_result"
    }
   ],
   "source": [
    "# 부산광역시 내 전체 정류장 개수\n",
    "len(busstop_busan['BUSSTOPID'].unique())"
   ]
  },
  {
   "cell_type": "code",
   "execution_count": 456,
   "metadata": {},
   "outputs": [
    {
     "data": {
      "text/plain": [
       "array(['수영구', '연제구', '부산진구', '강서구', '동래구', '동구', '남구', '기장군', '해운대구',\n",
       "       '금정구', '사하구', '서구', '중구', '북구', '사상구', '영도구'], dtype=object)"
      ]
     },
     "execution_count": 456,
     "metadata": {},
     "output_type": "execute_result"
    }
   ],
   "source": [
    "busstop_busan['GUNAME'].unique()"
   ]
  },
  {
   "cell_type": "code",
   "execution_count": 457,
   "metadata": {},
   "outputs": [],
   "source": [
    "# len(set(busstop_busan[busstop_busan['GUNAME'] == '수영구']['BUSSTOPID'].values))"
   ]
  },
  {
   "cell_type": "code",
   "execution_count": 458,
   "metadata": {},
   "outputs": [],
   "source": [
    "busstop_cnt_per_gu = []\n",
    "for gu in busstop_busan['GUNAME'].unique() :\n",
    "    busstop_cnt_per_gu.append(len(set(busstop_busan[busstop_busan['GUNAME'] == gu ]['BUSSTOPID'].values)))"
   ]
  },
  {
   "cell_type": "code",
   "execution_count": 459,
   "metadata": {},
   "outputs": [
    {
     "data": {
      "text/plain": [
       "[107, 147, 317, 395, 219, 164, 187, 422, 334, 219, 261, 186, 98, 197, 261, 212]"
      ]
     },
     "execution_count": 459,
     "metadata": {},
     "output_type": "execute_result"
    }
   ],
   "source": [
    "busstop_cnt_per_gu"
   ]
  },
  {
   "cell_type": "code",
   "execution_count": 460,
   "metadata": {},
   "outputs": [
    {
     "data": {
      "text/plain": [
       "(16, 16)"
      ]
     },
     "execution_count": 460,
     "metadata": {},
     "output_type": "execute_result"
    }
   ],
   "source": [
    "len(busstop_busan['GUNAME'].unique()), len(busstop_cnt_per_gu)"
   ]
  },
  {
   "cell_type": "code",
   "execution_count": 461,
   "metadata": {},
   "outputs": [
    {
     "data": {
      "text/html": [
       "<div>\n",
       "<style scoped>\n",
       "    .dataframe tbody tr th:only-of-type {\n",
       "        vertical-align: middle;\n",
       "    }\n",
       "\n",
       "    .dataframe tbody tr th {\n",
       "        vertical-align: top;\n",
       "    }\n",
       "\n",
       "    .dataframe thead th {\n",
       "        text-align: right;\n",
       "    }\n",
       "</style>\n",
       "<table border=\"1\" class=\"dataframe\">\n",
       "  <thead>\n",
       "    <tr style=\"text-align: right;\">\n",
       "      <th></th>\n",
       "      <th>COUNT</th>\n",
       "    </tr>\n",
       "  </thead>\n",
       "  <tbody>\n",
       "    <tr>\n",
       "      <th>수영구</th>\n",
       "      <td>107</td>\n",
       "    </tr>\n",
       "    <tr>\n",
       "      <th>연제구</th>\n",
       "      <td>147</td>\n",
       "    </tr>\n",
       "    <tr>\n",
       "      <th>부산진구</th>\n",
       "      <td>317</td>\n",
       "    </tr>\n",
       "    <tr>\n",
       "      <th>강서구</th>\n",
       "      <td>395</td>\n",
       "    </tr>\n",
       "    <tr>\n",
       "      <th>동래구</th>\n",
       "      <td>219</td>\n",
       "    </tr>\n",
       "    <tr>\n",
       "      <th>동구</th>\n",
       "      <td>164</td>\n",
       "    </tr>\n",
       "    <tr>\n",
       "      <th>남구</th>\n",
       "      <td>187</td>\n",
       "    </tr>\n",
       "    <tr>\n",
       "      <th>기장군</th>\n",
       "      <td>422</td>\n",
       "    </tr>\n",
       "    <tr>\n",
       "      <th>해운대구</th>\n",
       "      <td>334</td>\n",
       "    </tr>\n",
       "    <tr>\n",
       "      <th>금정구</th>\n",
       "      <td>219</td>\n",
       "    </tr>\n",
       "    <tr>\n",
       "      <th>사하구</th>\n",
       "      <td>261</td>\n",
       "    </tr>\n",
       "    <tr>\n",
       "      <th>서구</th>\n",
       "      <td>186</td>\n",
       "    </tr>\n",
       "    <tr>\n",
       "      <th>중구</th>\n",
       "      <td>98</td>\n",
       "    </tr>\n",
       "    <tr>\n",
       "      <th>북구</th>\n",
       "      <td>197</td>\n",
       "    </tr>\n",
       "    <tr>\n",
       "      <th>사상구</th>\n",
       "      <td>261</td>\n",
       "    </tr>\n",
       "    <tr>\n",
       "      <th>영도구</th>\n",
       "      <td>212</td>\n",
       "    </tr>\n",
       "  </tbody>\n",
       "</table>\n",
       "</div>"
      ],
      "text/plain": [
       "      COUNT\n",
       "수영구     107\n",
       "연제구     147\n",
       "부산진구    317\n",
       "강서구     395\n",
       "동래구     219\n",
       "동구      164\n",
       "남구      187\n",
       "기장군     422\n",
       "해운대구    334\n",
       "금정구     219\n",
       "사하구     261\n",
       "서구      186\n",
       "중구       98\n",
       "북구      197\n",
       "사상구     261\n",
       "영도구     212"
      ]
     },
     "execution_count": 461,
     "metadata": {},
     "output_type": "execute_result"
    }
   ],
   "source": [
    "busstop_cnt_per_gu = pd.DataFrame( busstop_cnt_per_gu, index = busstop_busan['GUNAME'].unique() )\n",
    "busstop_cnt_per_gu = busstop_cnt_per_gu.rename(columns = {\n",
    "    0 : 'COUNT'\n",
    "})\n",
    "busstop_cnt_per_gu"
   ]
  },
  {
   "cell_type": "code",
   "execution_count": 462,
   "metadata": {},
   "outputs": [
    {
     "data": {
      "text/plain": [
       "COUNT    3726\n",
       "dtype: int64"
      ]
     },
     "execution_count": 462,
     "metadata": {},
     "output_type": "execute_result"
    }
   ],
   "source": [
    "np.sum(busstop_cnt_per_gu)"
   ]
  },
  {
   "cell_type": "code",
   "execution_count": 463,
   "metadata": {},
   "outputs": [
    {
     "data": {
      "text/html": [
       "<div>\n",
       "<style scoped>\n",
       "    .dataframe tbody tr th:only-of-type {\n",
       "        vertical-align: middle;\n",
       "    }\n",
       "\n",
       "    .dataframe tbody tr th {\n",
       "        vertical-align: top;\n",
       "    }\n",
       "\n",
       "    .dataframe thead th {\n",
       "        text-align: right;\n",
       "    }\n",
       "</style>\n",
       "<table border=\"1\" class=\"dataframe\">\n",
       "  <thead>\n",
       "    <tr style=\"text-align: right;\">\n",
       "      <th></th>\n",
       "      <th>BUSLINENUM</th>\n",
       "      <th>NAME</th>\n",
       "      <th>SIGUNNAME</th>\n",
       "      <th>GUNAME</th>\n",
       "      <th>X</th>\n",
       "      <th>Y</th>\n",
       "      <th>BUSSTOPID</th>\n",
       "    </tr>\n",
       "  </thead>\n",
       "  <tbody>\n",
       "    <tr>\n",
       "      <th>0</th>\n",
       "      <td>1</td>\n",
       "      <td>기점</td>\n",
       "      <td>부산광역시</td>\n",
       "      <td>수영구</td>\n",
       "      <td>129.127115</td>\n",
       "      <td>35.159515</td>\n",
       "      <td>21140601002</td>\n",
       "    </tr>\n",
       "    <tr>\n",
       "      <th>1</th>\n",
       "      <td>1</td>\n",
       "      <td>MBC방송국</td>\n",
       "      <td>부산광역시</td>\n",
       "      <td>수영구</td>\n",
       "      <td>129.126416</td>\n",
       "      <td>35.159658</td>\n",
       "      <td>21140601013</td>\n",
       "    </tr>\n",
       "    <tr>\n",
       "      <th>2</th>\n",
       "      <td>1</td>\n",
       "      <td>민락동골목시장</td>\n",
       "      <td>부산광역시</td>\n",
       "      <td>수영구</td>\n",
       "      <td>129.123045</td>\n",
       "      <td>35.158969</td>\n",
       "      <td>21140601006</td>\n",
       "    </tr>\n",
       "    <tr>\n",
       "      <th>3</th>\n",
       "      <td>1</td>\n",
       "      <td>광안농협앞</td>\n",
       "      <td>부산광역시</td>\n",
       "      <td>수영구</td>\n",
       "      <td>129.120022</td>\n",
       "      <td>35.157650</td>\n",
       "      <td>21140571002</td>\n",
       "    </tr>\n",
       "    <tr>\n",
       "      <th>4</th>\n",
       "      <td>1</td>\n",
       "      <td>광안리해수욕장</td>\n",
       "      <td>부산광역시</td>\n",
       "      <td>수영구</td>\n",
       "      <td>129.116613</td>\n",
       "      <td>35.155443</td>\n",
       "      <td>21140571001</td>\n",
       "    </tr>\n",
       "  </tbody>\n",
       "</table>\n",
       "</div>"
      ],
      "text/plain": [
       "  BUSLINENUM     NAME SIGUNNAME GUNAME           X          Y    BUSSTOPID\n",
       "0          1       기점     부산광역시    수영구  129.127115  35.159515  21140601002\n",
       "1          1   MBC방송국     부산광역시    수영구  129.126416  35.159658  21140601013\n",
       "2          1  민락동골목시장     부산광역시    수영구  129.123045  35.158969  21140601006\n",
       "3          1    광안농협앞     부산광역시    수영구  129.120022  35.157650  21140571002\n",
       "4          1  광안리해수욕장     부산광역시    수영구  129.116613  35.155443  21140571001"
      ]
     },
     "execution_count": 463,
     "metadata": {},
     "output_type": "execute_result"
    }
   ],
   "source": [
    "busstop_busan.head()"
   ]
  },
  {
   "cell_type": "code",
   "execution_count": 464,
   "metadata": {},
   "outputs": [
    {
     "name": "stdout",
     "output_type": "stream",
     "text": [
      "50000000417\n",
      "50000000483\n",
      "50000000484\n"
     ]
    }
   ],
   "source": [
    "# 왜 합계가 다른가?\n",
    "# 같은 id일 때 자치구가 다르게 지정된 것이 있나?\n",
    "for id in busstop_busan['BUSSTOPID'].unique() :\n",
    "    if len(set(busstop_busan[busstop_busan['BUSSTOPID'] == id]['GUNAME']))>1 :\n",
    "        print(id)"
   ]
  },
  {
   "cell_type": "code",
   "execution_count": 465,
   "metadata": {},
   "outputs": [
    {
     "data": {
      "text/html": [
       "<div>\n",
       "<style scoped>\n",
       "    .dataframe tbody tr th:only-of-type {\n",
       "        vertical-align: middle;\n",
       "    }\n",
       "\n",
       "    .dataframe tbody tr th {\n",
       "        vertical-align: top;\n",
       "    }\n",
       "\n",
       "    .dataframe thead th {\n",
       "        text-align: right;\n",
       "    }\n",
       "</style>\n",
       "<table border=\"1\" class=\"dataframe\">\n",
       "  <thead>\n",
       "    <tr style=\"text-align: right;\">\n",
       "      <th></th>\n",
       "      <th>BUSLINENUM</th>\n",
       "      <th>NAME</th>\n",
       "      <th>SIGUNNAME</th>\n",
       "      <th>GUNAME</th>\n",
       "      <th>X</th>\n",
       "      <th>Y</th>\n",
       "      <th>BUSSTOPID</th>\n",
       "    </tr>\n",
       "  </thead>\n",
       "  <tbody>\n",
       "    <tr>\n",
       "      <th>1356</th>\n",
       "      <td>1004(심야)</td>\n",
       "      <td>냉정고개</td>\n",
       "      <td>부산광역시</td>\n",
       "      <td>부산진구</td>\n",
       "      <td>129.017364</td>\n",
       "      <td>35.15185</td>\n",
       "      <td>50000000417</td>\n",
       "    </tr>\n",
       "    <tr>\n",
       "      <th>7122</th>\n",
       "      <td>31</td>\n",
       "      <td>냉정고개</td>\n",
       "      <td>부산광역시</td>\n",
       "      <td>사상구</td>\n",
       "      <td>129.017364</td>\n",
       "      <td>35.15185</td>\n",
       "      <td>50000000417</td>\n",
       "    </tr>\n",
       "    <tr>\n",
       "      <th>7190</th>\n",
       "      <td>33</td>\n",
       "      <td>냉정고개</td>\n",
       "      <td>부산광역시</td>\n",
       "      <td>사상구</td>\n",
       "      <td>129.017364</td>\n",
       "      <td>35.15185</td>\n",
       "      <td>50000000417</td>\n",
       "    </tr>\n",
       "    <tr>\n",
       "      <th>7191</th>\n",
       "      <td>62</td>\n",
       "      <td>냉정고개</td>\n",
       "      <td>부산광역시</td>\n",
       "      <td>사상구</td>\n",
       "      <td>129.017364</td>\n",
       "      <td>35.15185</td>\n",
       "      <td>50000000417</td>\n",
       "    </tr>\n",
       "    <tr>\n",
       "      <th>7257</th>\n",
       "      <td>77</td>\n",
       "      <td>냉정고개</td>\n",
       "      <td>부산광역시</td>\n",
       "      <td>사상구</td>\n",
       "      <td>129.017364</td>\n",
       "      <td>35.15185</td>\n",
       "      <td>50000000417</td>\n",
       "    </tr>\n",
       "  </tbody>\n",
       "</table>\n",
       "</div>"
      ],
      "text/plain": [
       "     BUSLINENUM  NAME SIGUNNAME GUNAME           X         Y    BUSSTOPID\n",
       "1356   1004(심야)  냉정고개     부산광역시   부산진구  129.017364  35.15185  50000000417\n",
       "7122         31  냉정고개     부산광역시    사상구  129.017364  35.15185  50000000417\n",
       "7190         33  냉정고개     부산광역시    사상구  129.017364  35.15185  50000000417\n",
       "7191         62  냉정고개     부산광역시    사상구  129.017364  35.15185  50000000417\n",
       "7257         77  냉정고개     부산광역시    사상구  129.017364  35.15185  50000000417"
      ]
     },
     "execution_count": 465,
     "metadata": {},
     "output_type": "execute_result"
    }
   ],
   "source": [
    "busstop_busan[busstop_busan['BUSSTOPID'] == 50000000417]"
   ]
  },
  {
   "cell_type": "code",
   "execution_count": 466,
   "metadata": {},
   "outputs": [
    {
     "data": {
      "text/html": [
       "<div>\n",
       "<style scoped>\n",
       "    .dataframe tbody tr th:only-of-type {\n",
       "        vertical-align: middle;\n",
       "    }\n",
       "\n",
       "    .dataframe tbody tr th {\n",
       "        vertical-align: top;\n",
       "    }\n",
       "\n",
       "    .dataframe thead th {\n",
       "        text-align: right;\n",
       "    }\n",
       "</style>\n",
       "<table border=\"1\" class=\"dataframe\">\n",
       "  <thead>\n",
       "    <tr style=\"text-align: right;\">\n",
       "      <th></th>\n",
       "      <th>BUSLINENUM</th>\n",
       "      <th>NAME</th>\n",
       "      <th>SIGUNNAME</th>\n",
       "      <th>GUNAME</th>\n",
       "      <th>X</th>\n",
       "      <th>Y</th>\n",
       "      <th>BUSSTOPID</th>\n",
       "    </tr>\n",
       "  </thead>\n",
       "  <tbody>\n",
       "    <tr>\n",
       "      <th>1496</th>\n",
       "      <td>1005</td>\n",
       "      <td>진성철강</td>\n",
       "      <td>부산광역시</td>\n",
       "      <td>강서구</td>\n",
       "      <td>128.971792</td>\n",
       "      <td>35.144195</td>\n",
       "      <td>50000000483</td>\n",
       "    </tr>\n",
       "    <tr>\n",
       "      <th>5336</th>\n",
       "      <td>148-1</td>\n",
       "      <td>진성철강</td>\n",
       "      <td>부산광역시</td>\n",
       "      <td>사상구</td>\n",
       "      <td>128.971792</td>\n",
       "      <td>35.144195</td>\n",
       "      <td>50000000483</td>\n",
       "    </tr>\n",
       "  </tbody>\n",
       "</table>\n",
       "</div>"
      ],
      "text/plain": [
       "     BUSLINENUM  NAME SIGUNNAME GUNAME           X          Y    BUSSTOPID\n",
       "1496       1005  진성철강     부산광역시    강서구  128.971792  35.144195  50000000483\n",
       "5336      148-1  진성철강     부산광역시    사상구  128.971792  35.144195  50000000483"
      ]
     },
     "execution_count": 466,
     "metadata": {},
     "output_type": "execute_result"
    }
   ],
   "source": [
    "busstop_busan[busstop_busan['BUSSTOPID'] == 50000000483]"
   ]
  },
  {
   "cell_type": "code",
   "execution_count": 467,
   "metadata": {
    "scrolled": true
   },
   "outputs": [
    {
     "data": {
      "text/html": [
       "<div>\n",
       "<style scoped>\n",
       "    .dataframe tbody tr th:only-of-type {\n",
       "        vertical-align: middle;\n",
       "    }\n",
       "\n",
       "    .dataframe tbody tr th {\n",
       "        vertical-align: top;\n",
       "    }\n",
       "\n",
       "    .dataframe thead th {\n",
       "        text-align: right;\n",
       "    }\n",
       "</style>\n",
       "<table border=\"1\" class=\"dataframe\">\n",
       "  <thead>\n",
       "    <tr style=\"text-align: right;\">\n",
       "      <th></th>\n",
       "      <th>BUSLINENUM</th>\n",
       "      <th>NAME</th>\n",
       "      <th>SIGUNNAME</th>\n",
       "      <th>GUNAME</th>\n",
       "      <th>X</th>\n",
       "      <th>Y</th>\n",
       "      <th>BUSSTOPID</th>\n",
       "    </tr>\n",
       "  </thead>\n",
       "  <tbody>\n",
       "    <tr>\n",
       "      <th>1530</th>\n",
       "      <td>1005</td>\n",
       "      <td>진성철강</td>\n",
       "      <td>부산광역시</td>\n",
       "      <td>강서구</td>\n",
       "      <td>128.971742</td>\n",
       "      <td>35.143962</td>\n",
       "      <td>50000000484</td>\n",
       "    </tr>\n",
       "    <tr>\n",
       "      <th>5474</th>\n",
       "      <td>148-1</td>\n",
       "      <td>진성철강</td>\n",
       "      <td>부산광역시</td>\n",
       "      <td>사상구</td>\n",
       "      <td>128.971742</td>\n",
       "      <td>35.143962</td>\n",
       "      <td>50000000484</td>\n",
       "    </tr>\n",
       "  </tbody>\n",
       "</table>\n",
       "</div>"
      ],
      "text/plain": [
       "     BUSLINENUM  NAME SIGUNNAME GUNAME           X          Y    BUSSTOPID\n",
       "1530       1005  진성철강     부산광역시    강서구  128.971742  35.143962  50000000484\n",
       "5474      148-1  진성철강     부산광역시    사상구  128.971742  35.143962  50000000484"
      ]
     },
     "execution_count": 467,
     "metadata": {},
     "output_type": "execute_result"
    }
   ],
   "source": [
    "busstop_busan[busstop_busan['BUSSTOPID'] == 50000000484]"
   ]
  },
  {
   "cell_type": "code",
   "execution_count": 468,
   "metadata": {},
   "outputs": [],
   "source": [
    "# 같은 id임에도 불구하고 자치구가 다르게 지정된 곳이 3개 있다\n",
    "# 이로 인해 합계가 3만큼 오류가 발생했다\n",
    "# -> 일단 무시한다"
   ]
  },
  {
   "cell_type": "code",
   "execution_count": null,
   "metadata": {},
   "outputs": [],
   "source": []
  },
  {
   "cell_type": "code",
   "execution_count": 539,
   "metadata": {},
   "outputs": [
    {
     "data": {
      "text/html": [
       "<div>\n",
       "<style scoped>\n",
       "    .dataframe tbody tr th:only-of-type {\n",
       "        vertical-align: middle;\n",
       "    }\n",
       "\n",
       "    .dataframe tbody tr th {\n",
       "        vertical-align: top;\n",
       "    }\n",
       "\n",
       "    .dataframe thead th {\n",
       "        text-align: right;\n",
       "    }\n",
       "</style>\n",
       "<table border=\"1\" class=\"dataframe\">\n",
       "  <thead>\n",
       "    <tr style=\"text-align: right;\">\n",
       "      <th></th>\n",
       "      <th>COUNT</th>\n",
       "    </tr>\n",
       "  </thead>\n",
       "  <tbody>\n",
       "    <tr>\n",
       "      <th>기장군</th>\n",
       "      <td>422</td>\n",
       "    </tr>\n",
       "    <tr>\n",
       "      <th>강서구</th>\n",
       "      <td>395</td>\n",
       "    </tr>\n",
       "    <tr>\n",
       "      <th>해운대구</th>\n",
       "      <td>334</td>\n",
       "    </tr>\n",
       "    <tr>\n",
       "      <th>부산진구</th>\n",
       "      <td>317</td>\n",
       "    </tr>\n",
       "    <tr>\n",
       "      <th>사하구</th>\n",
       "      <td>261</td>\n",
       "    </tr>\n",
       "    <tr>\n",
       "      <th>사상구</th>\n",
       "      <td>261</td>\n",
       "    </tr>\n",
       "    <tr>\n",
       "      <th>동래구</th>\n",
       "      <td>219</td>\n",
       "    </tr>\n",
       "    <tr>\n",
       "      <th>금정구</th>\n",
       "      <td>219</td>\n",
       "    </tr>\n",
       "    <tr>\n",
       "      <th>영도구</th>\n",
       "      <td>212</td>\n",
       "    </tr>\n",
       "    <tr>\n",
       "      <th>북구</th>\n",
       "      <td>197</td>\n",
       "    </tr>\n",
       "    <tr>\n",
       "      <th>남구</th>\n",
       "      <td>187</td>\n",
       "    </tr>\n",
       "    <tr>\n",
       "      <th>서구</th>\n",
       "      <td>186</td>\n",
       "    </tr>\n",
       "    <tr>\n",
       "      <th>동구</th>\n",
       "      <td>164</td>\n",
       "    </tr>\n",
       "    <tr>\n",
       "      <th>연제구</th>\n",
       "      <td>147</td>\n",
       "    </tr>\n",
       "    <tr>\n",
       "      <th>수영구</th>\n",
       "      <td>107</td>\n",
       "    </tr>\n",
       "    <tr>\n",
       "      <th>중구</th>\n",
       "      <td>98</td>\n",
       "    </tr>\n",
       "  </tbody>\n",
       "</table>\n",
       "</div>"
      ],
      "text/plain": [
       "      COUNT\n",
       "기장군     422\n",
       "강서구     395\n",
       "해운대구    334\n",
       "부산진구    317\n",
       "사하구     261\n",
       "사상구     261\n",
       "동래구     219\n",
       "금정구     219\n",
       "영도구     212\n",
       "북구      197\n",
       "남구      187\n",
       "서구      186\n",
       "동구      164\n",
       "연제구     147\n",
       "수영구     107\n",
       "중구       98"
      ]
     },
     "execution_count": 539,
     "metadata": {},
     "output_type": "execute_result"
    }
   ],
   "source": [
    "sorted_busstop_cnt_per_gu = busstop_cnt_per_gu.sort_values(by='COUNT', ascending=False)\n",
    "sorted_busstop_cnt_per_gu"
   ]
  },
  {
   "cell_type": "markdown",
   "metadata": {},
   "source": [
    "###### 지도에 시각화"
   ]
  },
  {
   "cell_type": "code",
   "execution_count": 470,
   "metadata": {},
   "outputs": [
    {
     "data": {
      "text/html": [
       "<div style=\"width:100%;\"><div style=\"position:relative;width:100%;height:0;padding-bottom:60%;\"><iframe src=\"data:text/html;charset=utf-8;base64,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\" style=\"position:absolute;width:100%;height:100%;left:0;top:0;border:none !important;\" allowfullscreen webkitallowfullscreen mozallowfullscreen></iframe></div></div>"
      ],
      "text/plain": [
       "<folium.folium.Map at 0x14b03e1c978>"
      ]
     },
     "execution_count": 470,
     "metadata": {},
     "output_type": "execute_result"
    }
   ],
   "source": [
    "gps = [ 35.1564294,129.0603389 ]\n",
    "map_busan_bs_cnt =  folium.Map(location = gps, zoom_start=10)\n",
    "folium.Choropleth(geo_data = geo_str, \n",
    "                 name = 'busan',\n",
    "                 data = sorted_busstop_cnt_per_gu,\n",
    "                 columns = [sorted_busstop_cnt_per_gu.index, 'COUNT'],\n",
    "                 key_on = 'feature.id',\n",
    "                 fill_color = 'PuRd',\n",
    "                 legend_name = '부산광역시 자치구별 버스정류장 수 (개)').add_to(map_busan_bs_cnt)\n",
    "map_busan_bs_cnt"
   ]
  },
  {
   "cell_type": "code",
   "execution_count": null,
   "metadata": {},
   "outputs": [],
   "source": []
  },
  {
   "cell_type": "markdown",
   "metadata": {},
   "source": [
    "### 자치구별 인구 / 면적 / 인구밀도와 버스정류소 개수와의 상관관계 "
   ]
  },
  {
   "cell_type": "code",
   "execution_count": 471,
   "metadata": {},
   "outputs": [],
   "source": [
    "# 구군별 세대 및 인구 주민등록 (2017)\n",
    "# busan_population.xlsx"
   ]
  },
  {
   "cell_type": "code",
   "execution_count": 472,
   "metadata": {},
   "outputs": [
    {
     "data": {
      "text/html": [
       "<div>\n",
       "<style scoped>\n",
       "    .dataframe tbody tr th:only-of-type {\n",
       "        vertical-align: middle;\n",
       "    }\n",
       "\n",
       "    .dataframe tbody tr th {\n",
       "        vertical-align: top;\n",
       "    }\n",
       "\n",
       "    .dataframe thead th {\n",
       "        text-align: right;\n",
       "    }\n",
       "</style>\n",
       "<table border=\"1\" class=\"dataframe\">\n",
       "  <thead>\n",
       "    <tr style=\"text-align: right;\">\n",
       "      <th></th>\n",
       "      <th>인구 (명)</th>\n",
       "      <th>인구 (명).1</th>\n",
       "      <th>인구 (명).2</th>\n",
       "      <th>한국인 (명)</th>\n",
       "      <th>한국인 (명).1</th>\n",
       "      <th>한국인 (명).2</th>\n",
       "      <th>인구밀도 (명/㎢)</th>\n",
       "      <th>면적 (㎢)</th>\n",
       "    </tr>\n",
       "    <tr>\n",
       "      <th>구군별(1)</th>\n",
       "      <th></th>\n",
       "      <th></th>\n",
       "      <th></th>\n",
       "      <th></th>\n",
       "      <th></th>\n",
       "      <th></th>\n",
       "      <th></th>\n",
       "      <th></th>\n",
       "    </tr>\n",
       "  </thead>\n",
       "  <tbody>\n",
       "    <tr>\n",
       "      <th>구군별(1)</th>\n",
       "      <td>소계</td>\n",
       "      <td>남자</td>\n",
       "      <td>여자</td>\n",
       "      <td>소계</td>\n",
       "      <td>남자</td>\n",
       "      <td>여자</td>\n",
       "      <td>소계</td>\n",
       "      <td>소계</td>\n",
       "    </tr>\n",
       "    <tr>\n",
       "      <th>합계</th>\n",
       "      <td>3520306</td>\n",
       "      <td>1736878</td>\n",
       "      <td>1783428</td>\n",
       "      <td>3470653</td>\n",
       "      <td>1709508</td>\n",
       "      <td>1761145</td>\n",
       "      <td>4572</td>\n",
       "      <td>770.04</td>\n",
       "    </tr>\n",
       "    <tr>\n",
       "      <th>중구</th>\n",
       "      <td>46066</td>\n",
       "      <td>22843</td>\n",
       "      <td>23223</td>\n",
       "      <td>44218</td>\n",
       "      <td>21662</td>\n",
       "      <td>22556</td>\n",
       "      <td>16278</td>\n",
       "      <td>2.83</td>\n",
       "    </tr>\n",
       "    <tr>\n",
       "      <th>서구</th>\n",
       "      <td>111945</td>\n",
       "      <td>55081</td>\n",
       "      <td>56864</td>\n",
       "      <td>110039</td>\n",
       "      <td>53873</td>\n",
       "      <td>56166</td>\n",
       "      <td>8008</td>\n",
       "      <td>13.98</td>\n",
       "    </tr>\n",
       "    <tr>\n",
       "      <th>동구</th>\n",
       "      <td>90856</td>\n",
       "      <td>44786</td>\n",
       "      <td>46070</td>\n",
       "      <td>88868</td>\n",
       "      <td>43927</td>\n",
       "      <td>44941</td>\n",
       "      <td>9328</td>\n",
       "      <td>9.74</td>\n",
       "    </tr>\n",
       "  </tbody>\n",
       "</table>\n",
       "</div>"
      ],
      "text/plain": [
       "         인구 (명) 인구 (명).1 인구 (명).2  한국인 (명) 한국인 (명).1 한국인 (명).2 인구밀도 (명/㎢)  \\\n",
       "구군별(1)                                                                      \n",
       "구군별(1)       소계       남자       여자       소계        남자        여자         소계   \n",
       "합계      3520306  1736878  1783428  3470653   1709508   1761145       4572   \n",
       "중구        46066    22843    23223    44218     21662     22556      16278   \n",
       "서구       111945    55081    56864   110039     53873     56166       8008   \n",
       "동구        90856    44786    46070    88868     43927     44941       9328   \n",
       "\n",
       "        면적 (㎢)  \n",
       "구군별(1)          \n",
       "구군별(1)      소계  \n",
       "합계      770.04  \n",
       "중구        2.83  \n",
       "서구       13.98  \n",
       "동구        9.74  "
      ]
     },
     "execution_count": 472,
     "metadata": {},
     "output_type": "execute_result"
    }
   ],
   "source": [
    "busan_population_raw = pd.read_excel('./data/busan_population.xlsx', header=1, index_col=0)\n",
    "busan_population_raw.head()"
   ]
  },
  {
   "cell_type": "code",
   "execution_count": 473,
   "metadata": {},
   "outputs": [
    {
     "data": {
      "text/html": [
       "<div>\n",
       "<style scoped>\n",
       "    .dataframe tbody tr th:only-of-type {\n",
       "        vertical-align: middle;\n",
       "    }\n",
       "\n",
       "    .dataframe tbody tr th {\n",
       "        vertical-align: top;\n",
       "    }\n",
       "\n",
       "    .dataframe thead th {\n",
       "        text-align: right;\n",
       "    }\n",
       "</style>\n",
       "<table border=\"1\" class=\"dataframe\">\n",
       "  <thead>\n",
       "    <tr style=\"text-align: right;\">\n",
       "      <th></th>\n",
       "      <th>인구 (명)</th>\n",
       "      <th>인구밀도 (명/㎢)</th>\n",
       "      <th>면적 (㎢)</th>\n",
       "    </tr>\n",
       "    <tr>\n",
       "      <th>구군별(1)</th>\n",
       "      <th></th>\n",
       "      <th></th>\n",
       "      <th></th>\n",
       "    </tr>\n",
       "  </thead>\n",
       "  <tbody>\n",
       "    <tr>\n",
       "      <th>합계</th>\n",
       "      <td>3520306</td>\n",
       "      <td>4572</td>\n",
       "      <td>770.04</td>\n",
       "    </tr>\n",
       "    <tr>\n",
       "      <th>중구</th>\n",
       "      <td>46066</td>\n",
       "      <td>16278</td>\n",
       "      <td>2.83</td>\n",
       "    </tr>\n",
       "    <tr>\n",
       "      <th>서구</th>\n",
       "      <td>111945</td>\n",
       "      <td>8008</td>\n",
       "      <td>13.98</td>\n",
       "    </tr>\n",
       "    <tr>\n",
       "      <th>동구</th>\n",
       "      <td>90856</td>\n",
       "      <td>9328</td>\n",
       "      <td>9.74</td>\n",
       "    </tr>\n",
       "    <tr>\n",
       "      <th>영도구</th>\n",
       "      <td>125347</td>\n",
       "      <td>8833</td>\n",
       "      <td>14.19</td>\n",
       "    </tr>\n",
       "  </tbody>\n",
       "</table>\n",
       "</div>"
      ],
      "text/plain": [
       "         인구 (명) 인구밀도 (명/㎢)  면적 (㎢)\n",
       "구군별(1)                            \n",
       "합계      3520306       4572  770.04\n",
       "중구        46066      16278    2.83\n",
       "서구       111945       8008   13.98\n",
       "동구        90856       9328    9.74\n",
       "영도구      125347       8833   14.19"
      ]
     },
     "execution_count": 473,
     "metadata": {},
     "output_type": "execute_result"
    }
   ],
   "source": [
    "busan_info = busan_population_raw.iloc[1:, [0, 6, 7]]\n",
    "busan_info.head()"
   ]
  },
  {
   "cell_type": "code",
   "execution_count": 474,
   "metadata": {},
   "outputs": [],
   "source": [
    "# 합계 제외\n",
    "busan_info = busan_info.iloc[1:,:]"
   ]
  },
  {
   "cell_type": "code",
   "execution_count": 475,
   "metadata": {},
   "outputs": [
    {
     "data": {
      "text/html": [
       "<div>\n",
       "<style scoped>\n",
       "    .dataframe tbody tr th:only-of-type {\n",
       "        vertical-align: middle;\n",
       "    }\n",
       "\n",
       "    .dataframe tbody tr th {\n",
       "        vertical-align: top;\n",
       "    }\n",
       "\n",
       "    .dataframe thead th {\n",
       "        text-align: right;\n",
       "    }\n",
       "</style>\n",
       "<table border=\"1\" class=\"dataframe\">\n",
       "  <thead>\n",
       "    <tr style=\"text-align: right;\">\n",
       "      <th></th>\n",
       "      <th>인구 (명)</th>\n",
       "      <th>인구밀도 (명/㎢)</th>\n",
       "      <th>면적 (㎢)</th>\n",
       "    </tr>\n",
       "    <tr>\n",
       "      <th>구군별(1)</th>\n",
       "      <th></th>\n",
       "      <th></th>\n",
       "      <th></th>\n",
       "    </tr>\n",
       "  </thead>\n",
       "  <tbody>\n",
       "    <tr>\n",
       "      <th>중구</th>\n",
       "      <td>46066</td>\n",
       "      <td>16278</td>\n",
       "      <td>2.83</td>\n",
       "    </tr>\n",
       "    <tr>\n",
       "      <th>서구</th>\n",
       "      <td>111945</td>\n",
       "      <td>8008</td>\n",
       "      <td>13.98</td>\n",
       "    </tr>\n",
       "    <tr>\n",
       "      <th>동구</th>\n",
       "      <td>90856</td>\n",
       "      <td>9328</td>\n",
       "      <td>9.74</td>\n",
       "    </tr>\n",
       "    <tr>\n",
       "      <th>영도구</th>\n",
       "      <td>125347</td>\n",
       "      <td>8833</td>\n",
       "      <td>14.19</td>\n",
       "    </tr>\n",
       "    <tr>\n",
       "      <th>부산진구</th>\n",
       "      <td>374504</td>\n",
       "      <td>12622</td>\n",
       "      <td>29.67</td>\n",
       "    </tr>\n",
       "    <tr>\n",
       "      <th>동래구</th>\n",
       "      <td>271967</td>\n",
       "      <td>16354</td>\n",
       "      <td>16.63</td>\n",
       "    </tr>\n",
       "    <tr>\n",
       "      <th>남구</th>\n",
       "      <td>279309</td>\n",
       "      <td>10418</td>\n",
       "      <td>26.81</td>\n",
       "    </tr>\n",
       "    <tr>\n",
       "      <th>북구</th>\n",
       "      <td>305045</td>\n",
       "      <td>7748</td>\n",
       "      <td>39.37</td>\n",
       "    </tr>\n",
       "    <tr>\n",
       "      <th>해운대구</th>\n",
       "      <td>417161</td>\n",
       "      <td>8105</td>\n",
       "      <td>51.47</td>\n",
       "    </tr>\n",
       "    <tr>\n",
       "      <th>사하구</th>\n",
       "      <td>338112</td>\n",
       "      <td>8071</td>\n",
       "      <td>41.89</td>\n",
       "    </tr>\n",
       "    <tr>\n",
       "      <th>금정구</th>\n",
       "      <td>248917</td>\n",
       "      <td>3814</td>\n",
       "      <td>65.27</td>\n",
       "    </tr>\n",
       "    <tr>\n",
       "      <th>강서구</th>\n",
       "      <td>123079</td>\n",
       "      <td>678</td>\n",
       "      <td>181.49</td>\n",
       "    </tr>\n",
       "    <tr>\n",
       "      <th>연제구</th>\n",
       "      <td>207729</td>\n",
       "      <td>17168</td>\n",
       "      <td>12.1</td>\n",
       "    </tr>\n",
       "    <tr>\n",
       "      <th>수영구</th>\n",
       "      <td>181725</td>\n",
       "      <td>17799</td>\n",
       "      <td>10.21</td>\n",
       "    </tr>\n",
       "    <tr>\n",
       "      <th>사상구</th>\n",
       "      <td>234624</td>\n",
       "      <td>6501</td>\n",
       "      <td>36.09</td>\n",
       "    </tr>\n",
       "    <tr>\n",
       "      <th>기장군</th>\n",
       "      <td>163920</td>\n",
       "      <td>751</td>\n",
       "      <td>218.3</td>\n",
       "    </tr>\n",
       "  </tbody>\n",
       "</table>\n",
       "</div>"
      ],
      "text/plain": [
       "        인구 (명) 인구밀도 (명/㎢)  면적 (㎢)\n",
       "구군별(1)                           \n",
       "중구       46066      16278    2.83\n",
       "서구      111945       8008   13.98\n",
       "동구       90856       9328    9.74\n",
       "영도구     125347       8833   14.19\n",
       "부산진구    374504      12622   29.67\n",
       "동래구     271967      16354   16.63\n",
       "남구      279309      10418   26.81\n",
       "북구      305045       7748   39.37\n",
       "해운대구    417161       8105   51.47\n",
       "사하구     338112       8071   41.89\n",
       "금정구     248917       3814   65.27\n",
       "강서구     123079        678  181.49\n",
       "연제구     207729      17168    12.1\n",
       "수영구     181725      17799   10.21\n",
       "사상구     234624       6501   36.09\n",
       "기장군     163920        751   218.3"
      ]
     },
     "execution_count": 475,
     "metadata": {},
     "output_type": "execute_result"
    }
   ],
   "source": [
    "busan_info"
   ]
  },
  {
   "cell_type": "code",
   "execution_count": null,
   "metadata": {},
   "outputs": [],
   "source": []
  },
  {
   "cell_type": "markdown",
   "metadata": {},
   "source": [
    "###### 자치구별 인구밀도 : 지도에 시각화"
   ]
  },
  {
   "cell_type": "code",
   "execution_count": 540,
   "metadata": {
    "scrolled": true
   },
   "outputs": [
    {
     "data": {
      "text/html": [
       "<div style=\"width:100%;\"><div style=\"position:relative;width:100%;height:0;padding-bottom:60%;\"><iframe src=\"data:text/html;charset=utf-8;base64,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\" style=\"position:absolute;width:100%;height:100%;left:0;top:0;border:none !important;\" allowfullscreen webkitallowfullscreen mozallowfullscreen></iframe></div></div>"
      ],
      "text/plain": [
       "<folium.folium.Map at 0x14b044d9048>"
      ]
     },
     "execution_count": 540,
     "metadata": {},
     "output_type": "execute_result"
    }
   ],
   "source": [
    "gps = [ 35.1564294,129.0603389 ]\n",
    "map_busan_pop_density = folium.Map(location = gps, zoom_start=10)\n",
    "folium.Choropleth(geo_data = geo_str, \n",
    "                 name = 'busan',\n",
    "                 data = busan_info,\n",
    "                 columns = [busan_info.index, '인구밀도 (명/㎢)'],\n",
    "                 key_on = 'feature.id',\n",
    "                 fill_color = 'PuRd',\n",
    "                 legend_name = '부산광역시 자치구별 인구밀도 (명/㎢)').add_to(map_busan_pop_density)\n",
    "map_busan_pop_density"
   ]
  },
  {
   "cell_type": "code",
   "execution_count": null,
   "metadata": {},
   "outputs": [],
   "source": []
  },
  {
   "cell_type": "markdown",
   "metadata": {},
   "source": [
    "###### 자치구별 인구밀도(정규화) : 지도에 시각화"
   ]
  },
  {
   "cell_type": "code",
   "execution_count": 477,
   "metadata": {},
   "outputs": [],
   "source": [
    "# MinMaxScaler를 이용한 정규화\n",
    "from sklearn import preprocessing\n",
    "min_max_scaler = preprocessing.MinMaxScaler()"
   ]
  },
  {
   "cell_type": "code",
   "execution_count": 478,
   "metadata": {},
   "outputs": [
    {
     "data": {
      "text/html": [
       "<div>\n",
       "<style scoped>\n",
       "    .dataframe tbody tr th:only-of-type {\n",
       "        vertical-align: middle;\n",
       "    }\n",
       "\n",
       "    .dataframe tbody tr th {\n",
       "        vertical-align: top;\n",
       "    }\n",
       "\n",
       "    .dataframe thead th {\n",
       "        text-align: right;\n",
       "    }\n",
       "</style>\n",
       "<table border=\"1\" class=\"dataframe\">\n",
       "  <thead>\n",
       "    <tr style=\"text-align: right;\">\n",
       "      <th></th>\n",
       "      <th>인구밀도 (명/㎢)</th>\n",
       "    </tr>\n",
       "    <tr>\n",
       "      <th>구군별(1)</th>\n",
       "      <th></th>\n",
       "    </tr>\n",
       "  </thead>\n",
       "  <tbody>\n",
       "    <tr>\n",
       "      <th>중구</th>\n",
       "      <td>16278</td>\n",
       "    </tr>\n",
       "    <tr>\n",
       "      <th>서구</th>\n",
       "      <td>8008</td>\n",
       "    </tr>\n",
       "    <tr>\n",
       "      <th>동구</th>\n",
       "      <td>9328</td>\n",
       "    </tr>\n",
       "    <tr>\n",
       "      <th>영도구</th>\n",
       "      <td>8833</td>\n",
       "    </tr>\n",
       "    <tr>\n",
       "      <th>부산진구</th>\n",
       "      <td>12622</td>\n",
       "    </tr>\n",
       "    <tr>\n",
       "      <th>동래구</th>\n",
       "      <td>16354</td>\n",
       "    </tr>\n",
       "    <tr>\n",
       "      <th>남구</th>\n",
       "      <td>10418</td>\n",
       "    </tr>\n",
       "    <tr>\n",
       "      <th>북구</th>\n",
       "      <td>7748</td>\n",
       "    </tr>\n",
       "    <tr>\n",
       "      <th>해운대구</th>\n",
       "      <td>8105</td>\n",
       "    </tr>\n",
       "    <tr>\n",
       "      <th>사하구</th>\n",
       "      <td>8071</td>\n",
       "    </tr>\n",
       "    <tr>\n",
       "      <th>금정구</th>\n",
       "      <td>3814</td>\n",
       "    </tr>\n",
       "    <tr>\n",
       "      <th>강서구</th>\n",
       "      <td>678</td>\n",
       "    </tr>\n",
       "    <tr>\n",
       "      <th>연제구</th>\n",
       "      <td>17168</td>\n",
       "    </tr>\n",
       "    <tr>\n",
       "      <th>수영구</th>\n",
       "      <td>17799</td>\n",
       "    </tr>\n",
       "    <tr>\n",
       "      <th>사상구</th>\n",
       "      <td>6501</td>\n",
       "    </tr>\n",
       "    <tr>\n",
       "      <th>기장군</th>\n",
       "      <td>751</td>\n",
       "    </tr>\n",
       "  </tbody>\n",
       "</table>\n",
       "</div>"
      ],
      "text/plain": [
       "       인구밀도 (명/㎢)\n",
       "구군별(1)           \n",
       "중구          16278\n",
       "서구           8008\n",
       "동구           9328\n",
       "영도구          8833\n",
       "부산진구        12622\n",
       "동래구         16354\n",
       "남구          10418\n",
       "북구           7748\n",
       "해운대구         8105\n",
       "사하구          8071\n",
       "금정구          3814\n",
       "강서구           678\n",
       "연제구         17168\n",
       "수영구         17799\n",
       "사상구          6501\n",
       "기장군           751"
      ]
     },
     "execution_count": 478,
     "metadata": {},
     "output_type": "execute_result"
    }
   ],
   "source": [
    "pop_density = busan_info.loc[:,['인구밀도 (명/㎢)']]\n",
    "pop_density"
   ]
  },
  {
   "cell_type": "code",
   "execution_count": 479,
   "metadata": {},
   "outputs": [
    {
     "data": {
      "text/plain": [
       "array([[0.91116173],\n",
       "       [0.4281292 ],\n",
       "       [0.5052275 ],\n",
       "       [0.47631564],\n",
       "       [0.6976228 ],\n",
       "       [0.91560072],\n",
       "       [0.568892  ],\n",
       "       [0.41294317],\n",
       "       [0.43379475],\n",
       "       [0.43180889],\n",
       "       [0.18316687],\n",
       "       [0.        ],\n",
       "       [0.96314468],\n",
       "       [1.        ],\n",
       "       [0.34010864],\n",
       "       [0.00426377]])"
      ]
     },
     "execution_count": 479,
     "metadata": {},
     "output_type": "execute_result"
    }
   ],
   "source": [
    "x = pop_density.values\n",
    "x_scaled = min_max_scaler.fit_transform(x.astype(float))\n",
    "x_scaled"
   ]
  },
  {
   "cell_type": "code",
   "execution_count": 480,
   "metadata": {},
   "outputs": [
    {
     "data": {
      "text/html": [
       "<div>\n",
       "<style scoped>\n",
       "    .dataframe tbody tr th:only-of-type {\n",
       "        vertical-align: middle;\n",
       "    }\n",
       "\n",
       "    .dataframe tbody tr th {\n",
       "        vertical-align: top;\n",
       "    }\n",
       "\n",
       "    .dataframe thead th {\n",
       "        text-align: right;\n",
       "    }\n",
       "</style>\n",
       "<table border=\"1\" class=\"dataframe\">\n",
       "  <thead>\n",
       "    <tr style=\"text-align: right;\">\n",
       "      <th></th>\n",
       "      <th>인구밀도 정규화</th>\n",
       "    </tr>\n",
       "    <tr>\n",
       "      <th>구군별(1)</th>\n",
       "      <th></th>\n",
       "    </tr>\n",
       "  </thead>\n",
       "  <tbody>\n",
       "    <tr>\n",
       "      <th>중구</th>\n",
       "      <td>0.911162</td>\n",
       "    </tr>\n",
       "    <tr>\n",
       "      <th>서구</th>\n",
       "      <td>0.428129</td>\n",
       "    </tr>\n",
       "    <tr>\n",
       "      <th>동구</th>\n",
       "      <td>0.505227</td>\n",
       "    </tr>\n",
       "    <tr>\n",
       "      <th>영도구</th>\n",
       "      <td>0.476316</td>\n",
       "    </tr>\n",
       "    <tr>\n",
       "      <th>부산진구</th>\n",
       "      <td>0.697623</td>\n",
       "    </tr>\n",
       "    <tr>\n",
       "      <th>동래구</th>\n",
       "      <td>0.915601</td>\n",
       "    </tr>\n",
       "    <tr>\n",
       "      <th>남구</th>\n",
       "      <td>0.568892</td>\n",
       "    </tr>\n",
       "    <tr>\n",
       "      <th>북구</th>\n",
       "      <td>0.412943</td>\n",
       "    </tr>\n",
       "    <tr>\n",
       "      <th>해운대구</th>\n",
       "      <td>0.433795</td>\n",
       "    </tr>\n",
       "    <tr>\n",
       "      <th>사하구</th>\n",
       "      <td>0.431809</td>\n",
       "    </tr>\n",
       "    <tr>\n",
       "      <th>금정구</th>\n",
       "      <td>0.183167</td>\n",
       "    </tr>\n",
       "    <tr>\n",
       "      <th>강서구</th>\n",
       "      <td>0.000000</td>\n",
       "    </tr>\n",
       "    <tr>\n",
       "      <th>연제구</th>\n",
       "      <td>0.963145</td>\n",
       "    </tr>\n",
       "    <tr>\n",
       "      <th>수영구</th>\n",
       "      <td>1.000000</td>\n",
       "    </tr>\n",
       "    <tr>\n",
       "      <th>사상구</th>\n",
       "      <td>0.340109</td>\n",
       "    </tr>\n",
       "    <tr>\n",
       "      <th>기장군</th>\n",
       "      <td>0.004264</td>\n",
       "    </tr>\n",
       "  </tbody>\n",
       "</table>\n",
       "</div>"
      ],
      "text/plain": [
       "        인구밀도 정규화\n",
       "구군별(1)          \n",
       "중구      0.911162\n",
       "서구      0.428129\n",
       "동구      0.505227\n",
       "영도구     0.476316\n",
       "부산진구    0.697623\n",
       "동래구     0.915601\n",
       "남구      0.568892\n",
       "북구      0.412943\n",
       "해운대구    0.433795\n",
       "사하구     0.431809\n",
       "금정구     0.183167\n",
       "강서구     0.000000\n",
       "연제구     0.963145\n",
       "수영구     1.000000\n",
       "사상구     0.340109\n",
       "기장군     0.004264"
      ]
     },
     "execution_count": 480,
     "metadata": {},
     "output_type": "execute_result"
    }
   ],
   "source": [
    "pop_density_norm = pd.DataFrame(x_scaled,\n",
    "                               index = pop_density.index,\n",
    "                               columns = ['인구밀도 정규화'])\n",
    "pop_density_norm"
   ]
  },
  {
   "cell_type": "code",
   "execution_count": 481,
   "metadata": {},
   "outputs": [
    {
     "data": {
      "text/html": [
       "<div style=\"width:100%;\"><div style=\"position:relative;width:100%;height:0;padding-bottom:60%;\"><iframe src=\"data:text/html;charset=utf-8;base64,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\" style=\"position:absolute;width:100%;height:100%;left:0;top:0;border:none !important;\" allowfullscreen webkitallowfullscreen mozallowfullscreen></iframe></div></div>"
      ],
      "text/plain": [
       "<folium.folium.Map at 0x14b04960f60>"
      ]
     },
     "execution_count": 481,
     "metadata": {},
     "output_type": "execute_result"
    }
   ],
   "source": [
    "map_busan_pop_density_norm = folium.Map(location = gps, zoom_start=10)\n",
    "folium.Choropleth(geo_data = geo_str, \n",
    "                 name = 'busan',\n",
    "                 data = pop_density_norm,\n",
    "                 columns = [pop_density_norm.index, '인구밀도 정규화'],\n",
    "                 key_on = 'feature.id',\n",
    "                 fill_color = 'PuRd',\n",
    "                 legend_name = '부산광역시 자치구별 인구밀도)').add_to(map_busan_pop_density_norm)\n",
    "map_busan_pop_density_norm"
   ]
  },
  {
   "cell_type": "code",
   "execution_count": 482,
   "metadata": {},
   "outputs": [
    {
     "name": "stdout",
     "output_type": "stream",
     "text": [
      "Malgun Gothic\n"
     ]
    }
   ],
   "source": [
    "from korea_font import initKoreaFontLoad\n",
    "initKoreaFontLoad()"
   ]
  },
  {
   "cell_type": "code",
   "execution_count": 483,
   "metadata": {},
   "outputs": [],
   "source": [
    "import matplotlib.pyplot as plt\n",
    "import matplotlib\n",
    "%matplotlib inline\n",
    "import seaborn as sns"
   ]
  },
  {
   "cell_type": "code",
   "execution_count": 484,
   "metadata": {
    "scrolled": true
   },
   "outputs": [
    {
     "data": {
      "text/plain": [
       "(16, 16)"
      ]
     },
     "execution_count": 484,
     "metadata": {},
     "output_type": "execute_result"
    }
   ],
   "source": [
    "len(sorted_busstop_cnt_per_gu), len(busan_info)"
   ]
  },
  {
   "cell_type": "code",
   "execution_count": 485,
   "metadata": {},
   "outputs": [
    {
     "data": {
      "text/html": [
       "<div>\n",
       "<style scoped>\n",
       "    .dataframe tbody tr th:only-of-type {\n",
       "        vertical-align: middle;\n",
       "    }\n",
       "\n",
       "    .dataframe tbody tr th {\n",
       "        vertical-align: top;\n",
       "    }\n",
       "\n",
       "    .dataframe thead th {\n",
       "        text-align: right;\n",
       "    }\n",
       "</style>\n",
       "<table border=\"1\" class=\"dataframe\">\n",
       "  <thead>\n",
       "    <tr style=\"text-align: right;\">\n",
       "      <th></th>\n",
       "      <th>COUNT</th>\n",
       "    </tr>\n",
       "  </thead>\n",
       "  <tbody>\n",
       "    <tr>\n",
       "      <th>기장군</th>\n",
       "      <td>422</td>\n",
       "    </tr>\n",
       "    <tr>\n",
       "      <th>강서구</th>\n",
       "      <td>395</td>\n",
       "    </tr>\n",
       "    <tr>\n",
       "      <th>해운대구</th>\n",
       "      <td>334</td>\n",
       "    </tr>\n",
       "    <tr>\n",
       "      <th>부산진구</th>\n",
       "      <td>317</td>\n",
       "    </tr>\n",
       "    <tr>\n",
       "      <th>사하구</th>\n",
       "      <td>261</td>\n",
       "    </tr>\n",
       "    <tr>\n",
       "      <th>사상구</th>\n",
       "      <td>261</td>\n",
       "    </tr>\n",
       "    <tr>\n",
       "      <th>동래구</th>\n",
       "      <td>219</td>\n",
       "    </tr>\n",
       "    <tr>\n",
       "      <th>금정구</th>\n",
       "      <td>219</td>\n",
       "    </tr>\n",
       "    <tr>\n",
       "      <th>영도구</th>\n",
       "      <td>212</td>\n",
       "    </tr>\n",
       "    <tr>\n",
       "      <th>북구</th>\n",
       "      <td>197</td>\n",
       "    </tr>\n",
       "    <tr>\n",
       "      <th>남구</th>\n",
       "      <td>187</td>\n",
       "    </tr>\n",
       "    <tr>\n",
       "      <th>서구</th>\n",
       "      <td>186</td>\n",
       "    </tr>\n",
       "    <tr>\n",
       "      <th>동구</th>\n",
       "      <td>164</td>\n",
       "    </tr>\n",
       "    <tr>\n",
       "      <th>연제구</th>\n",
       "      <td>147</td>\n",
       "    </tr>\n",
       "    <tr>\n",
       "      <th>수영구</th>\n",
       "      <td>107</td>\n",
       "    </tr>\n",
       "    <tr>\n",
       "      <th>중구</th>\n",
       "      <td>98</td>\n",
       "    </tr>\n",
       "  </tbody>\n",
       "</table>\n",
       "</div>"
      ],
      "text/plain": [
       "      COUNT\n",
       "기장군     422\n",
       "강서구     395\n",
       "해운대구    334\n",
       "부산진구    317\n",
       "사하구     261\n",
       "사상구     261\n",
       "동래구     219\n",
       "금정구     219\n",
       "영도구     212\n",
       "북구      197\n",
       "남구      187\n",
       "서구      186\n",
       "동구      164\n",
       "연제구     147\n",
       "수영구     107\n",
       "중구       98"
      ]
     },
     "execution_count": 485,
     "metadata": {},
     "output_type": "execute_result"
    }
   ],
   "source": [
    "sorted_busstop_cnt_per_gu"
   ]
  },
  {
   "cell_type": "code",
   "execution_count": 486,
   "metadata": {},
   "outputs": [
    {
     "data": {
      "text/html": [
       "<div>\n",
       "<style scoped>\n",
       "    .dataframe tbody tr th:only-of-type {\n",
       "        vertical-align: middle;\n",
       "    }\n",
       "\n",
       "    .dataframe tbody tr th {\n",
       "        vertical-align: top;\n",
       "    }\n",
       "\n",
       "    .dataframe thead th {\n",
       "        text-align: right;\n",
       "    }\n",
       "</style>\n",
       "<table border=\"1\" class=\"dataframe\">\n",
       "  <thead>\n",
       "    <tr style=\"text-align: right;\">\n",
       "      <th></th>\n",
       "      <th>인구 (명)</th>\n",
       "      <th>인구밀도 (명/㎢)</th>\n",
       "      <th>면적 (㎢)</th>\n",
       "    </tr>\n",
       "    <tr>\n",
       "      <th>구군별(1)</th>\n",
       "      <th></th>\n",
       "      <th></th>\n",
       "      <th></th>\n",
       "    </tr>\n",
       "  </thead>\n",
       "  <tbody>\n",
       "    <tr>\n",
       "      <th>중구</th>\n",
       "      <td>46066</td>\n",
       "      <td>16278</td>\n",
       "      <td>2.83</td>\n",
       "    </tr>\n",
       "    <tr>\n",
       "      <th>서구</th>\n",
       "      <td>111945</td>\n",
       "      <td>8008</td>\n",
       "      <td>13.98</td>\n",
       "    </tr>\n",
       "    <tr>\n",
       "      <th>동구</th>\n",
       "      <td>90856</td>\n",
       "      <td>9328</td>\n",
       "      <td>9.74</td>\n",
       "    </tr>\n",
       "    <tr>\n",
       "      <th>영도구</th>\n",
       "      <td>125347</td>\n",
       "      <td>8833</td>\n",
       "      <td>14.19</td>\n",
       "    </tr>\n",
       "    <tr>\n",
       "      <th>부산진구</th>\n",
       "      <td>374504</td>\n",
       "      <td>12622</td>\n",
       "      <td>29.67</td>\n",
       "    </tr>\n",
       "    <tr>\n",
       "      <th>동래구</th>\n",
       "      <td>271967</td>\n",
       "      <td>16354</td>\n",
       "      <td>16.63</td>\n",
       "    </tr>\n",
       "    <tr>\n",
       "      <th>남구</th>\n",
       "      <td>279309</td>\n",
       "      <td>10418</td>\n",
       "      <td>26.81</td>\n",
       "    </tr>\n",
       "    <tr>\n",
       "      <th>북구</th>\n",
       "      <td>305045</td>\n",
       "      <td>7748</td>\n",
       "      <td>39.37</td>\n",
       "    </tr>\n",
       "    <tr>\n",
       "      <th>해운대구</th>\n",
       "      <td>417161</td>\n",
       "      <td>8105</td>\n",
       "      <td>51.47</td>\n",
       "    </tr>\n",
       "    <tr>\n",
       "      <th>사하구</th>\n",
       "      <td>338112</td>\n",
       "      <td>8071</td>\n",
       "      <td>41.89</td>\n",
       "    </tr>\n",
       "    <tr>\n",
       "      <th>금정구</th>\n",
       "      <td>248917</td>\n",
       "      <td>3814</td>\n",
       "      <td>65.27</td>\n",
       "    </tr>\n",
       "    <tr>\n",
       "      <th>강서구</th>\n",
       "      <td>123079</td>\n",
       "      <td>678</td>\n",
       "      <td>181.49</td>\n",
       "    </tr>\n",
       "    <tr>\n",
       "      <th>연제구</th>\n",
       "      <td>207729</td>\n",
       "      <td>17168</td>\n",
       "      <td>12.1</td>\n",
       "    </tr>\n",
       "    <tr>\n",
       "      <th>수영구</th>\n",
       "      <td>181725</td>\n",
       "      <td>17799</td>\n",
       "      <td>10.21</td>\n",
       "    </tr>\n",
       "    <tr>\n",
       "      <th>사상구</th>\n",
       "      <td>234624</td>\n",
       "      <td>6501</td>\n",
       "      <td>36.09</td>\n",
       "    </tr>\n",
       "    <tr>\n",
       "      <th>기장군</th>\n",
       "      <td>163920</td>\n",
       "      <td>751</td>\n",
       "      <td>218.3</td>\n",
       "    </tr>\n",
       "  </tbody>\n",
       "</table>\n",
       "</div>"
      ],
      "text/plain": [
       "        인구 (명) 인구밀도 (명/㎢)  면적 (㎢)\n",
       "구군별(1)                           \n",
       "중구       46066      16278    2.83\n",
       "서구      111945       8008   13.98\n",
       "동구       90856       9328    9.74\n",
       "영도구     125347       8833   14.19\n",
       "부산진구    374504      12622   29.67\n",
       "동래구     271967      16354   16.63\n",
       "남구      279309      10418   26.81\n",
       "북구      305045       7748   39.37\n",
       "해운대구    417161       8105   51.47\n",
       "사하구     338112       8071   41.89\n",
       "금정구     248917       3814   65.27\n",
       "강서구     123079        678  181.49\n",
       "연제구     207729      17168    12.1\n",
       "수영구     181725      17799   10.21\n",
       "사상구     234624       6501   36.09\n",
       "기장군     163920        751   218.3"
      ]
     },
     "execution_count": 486,
     "metadata": {},
     "output_type": "execute_result"
    }
   ],
   "source": [
    "busan_info"
   ]
  },
  {
   "cell_type": "code",
   "execution_count": 487,
   "metadata": {},
   "outputs": [
    {
     "data": {
      "text/html": [
       "<div>\n",
       "<style scoped>\n",
       "    .dataframe tbody tr th:only-of-type {\n",
       "        vertical-align: middle;\n",
       "    }\n",
       "\n",
       "    .dataframe tbody tr th {\n",
       "        vertical-align: top;\n",
       "    }\n",
       "\n",
       "    .dataframe thead th {\n",
       "        text-align: right;\n",
       "    }\n",
       "</style>\n",
       "<table border=\"1\" class=\"dataframe\">\n",
       "  <thead>\n",
       "    <tr style=\"text-align: right;\">\n",
       "      <th></th>\n",
       "      <th>인구 (명)</th>\n",
       "      <th>인구밀도 (명/㎢)</th>\n",
       "      <th>면적 (㎢)</th>\n",
       "      <th>COUNT</th>\n",
       "    </tr>\n",
       "  </thead>\n",
       "  <tbody>\n",
       "    <tr>\n",
       "      <th>중구</th>\n",
       "      <td>46066</td>\n",
       "      <td>16278</td>\n",
       "      <td>2.83</td>\n",
       "      <td>98</td>\n",
       "    </tr>\n",
       "    <tr>\n",
       "      <th>서구</th>\n",
       "      <td>111945</td>\n",
       "      <td>8008</td>\n",
       "      <td>13.98</td>\n",
       "      <td>186</td>\n",
       "    </tr>\n",
       "    <tr>\n",
       "      <th>동구</th>\n",
       "      <td>90856</td>\n",
       "      <td>9328</td>\n",
       "      <td>9.74</td>\n",
       "      <td>164</td>\n",
       "    </tr>\n",
       "    <tr>\n",
       "      <th>영도구</th>\n",
       "      <td>125347</td>\n",
       "      <td>8833</td>\n",
       "      <td>14.19</td>\n",
       "      <td>212</td>\n",
       "    </tr>\n",
       "    <tr>\n",
       "      <th>부산진구</th>\n",
       "      <td>374504</td>\n",
       "      <td>12622</td>\n",
       "      <td>29.67</td>\n",
       "      <td>317</td>\n",
       "    </tr>\n",
       "    <tr>\n",
       "      <th>동래구</th>\n",
       "      <td>271967</td>\n",
       "      <td>16354</td>\n",
       "      <td>16.63</td>\n",
       "      <td>219</td>\n",
       "    </tr>\n",
       "    <tr>\n",
       "      <th>남구</th>\n",
       "      <td>279309</td>\n",
       "      <td>10418</td>\n",
       "      <td>26.81</td>\n",
       "      <td>187</td>\n",
       "    </tr>\n",
       "    <tr>\n",
       "      <th>북구</th>\n",
       "      <td>305045</td>\n",
       "      <td>7748</td>\n",
       "      <td>39.37</td>\n",
       "      <td>197</td>\n",
       "    </tr>\n",
       "    <tr>\n",
       "      <th>해운대구</th>\n",
       "      <td>417161</td>\n",
       "      <td>8105</td>\n",
       "      <td>51.47</td>\n",
       "      <td>334</td>\n",
       "    </tr>\n",
       "    <tr>\n",
       "      <th>사하구</th>\n",
       "      <td>338112</td>\n",
       "      <td>8071</td>\n",
       "      <td>41.89</td>\n",
       "      <td>261</td>\n",
       "    </tr>\n",
       "    <tr>\n",
       "      <th>금정구</th>\n",
       "      <td>248917</td>\n",
       "      <td>3814</td>\n",
       "      <td>65.27</td>\n",
       "      <td>219</td>\n",
       "    </tr>\n",
       "    <tr>\n",
       "      <th>강서구</th>\n",
       "      <td>123079</td>\n",
       "      <td>678</td>\n",
       "      <td>181.49</td>\n",
       "      <td>395</td>\n",
       "    </tr>\n",
       "    <tr>\n",
       "      <th>연제구</th>\n",
       "      <td>207729</td>\n",
       "      <td>17168</td>\n",
       "      <td>12.1</td>\n",
       "      <td>147</td>\n",
       "    </tr>\n",
       "    <tr>\n",
       "      <th>수영구</th>\n",
       "      <td>181725</td>\n",
       "      <td>17799</td>\n",
       "      <td>10.21</td>\n",
       "      <td>107</td>\n",
       "    </tr>\n",
       "    <tr>\n",
       "      <th>사상구</th>\n",
       "      <td>234624</td>\n",
       "      <td>6501</td>\n",
       "      <td>36.09</td>\n",
       "      <td>261</td>\n",
       "    </tr>\n",
       "    <tr>\n",
       "      <th>기장군</th>\n",
       "      <td>163920</td>\n",
       "      <td>751</td>\n",
       "      <td>218.3</td>\n",
       "      <td>422</td>\n",
       "    </tr>\n",
       "  </tbody>\n",
       "</table>\n",
       "</div>"
      ],
      "text/plain": [
       "      인구 (명) 인구밀도 (명/㎢)  면적 (㎢)  COUNT\n",
       "중구     46066      16278    2.83     98\n",
       "서구    111945       8008   13.98    186\n",
       "동구     90856       9328    9.74    164\n",
       "영도구   125347       8833   14.19    212\n",
       "부산진구  374504      12622   29.67    317\n",
       "동래구   271967      16354   16.63    219\n",
       "남구    279309      10418   26.81    187\n",
       "북구    305045       7748   39.37    197\n",
       "해운대구  417161       8105   51.47    334\n",
       "사하구   338112       8071   41.89    261\n",
       "금정구   248917       3814   65.27    219\n",
       "강서구   123079        678  181.49    395\n",
       "연제구   207729      17168    12.1    147\n",
       "수영구   181725      17799   10.21    107\n",
       "사상구   234624       6501   36.09    261\n",
       "기장군   163920        751   218.3    422"
      ]
     },
     "execution_count": 487,
     "metadata": {},
     "output_type": "execute_result"
    }
   ],
   "source": [
    "busan_data = pd.merge(busan_info, sorted_busstop_cnt_per_gu, left_index=True, right_index=True)\n",
    "busan_data"
   ]
  },
  {
   "cell_type": "code",
   "execution_count": 544,
   "metadata": {},
   "outputs": [
    {
     "ename": "TypeError",
     "evalue": "No loop matching the specified signature and casting\nwas found for ufunc svd_n_s",
     "output_type": "error",
     "traceback": [
      "\u001b[1;31m---------------------------------------------------------------------------\u001b[0m",
      "\u001b[1;31mTypeError\u001b[0m                                 Traceback (most recent call last)",
      "\u001b[1;32m<ipython-input-544-001e404b8a5b>\u001b[0m in \u001b[0;36m<module>\u001b[1;34m()\u001b[0m\n\u001b[0;32m      2\u001b[0m \u001b[0mplt\u001b[0m\u001b[1;33m.\u001b[0m\u001b[0mfigure\u001b[0m\u001b[1;33m(\u001b[0m\u001b[1;33m)\u001b[0m\u001b[1;33m\u001b[0m\u001b[0m\n\u001b[0;32m      3\u001b[0m \u001b[0msns\u001b[0m\u001b[1;33m.\u001b[0m\u001b[0mset_style\u001b[0m\u001b[1;33m(\u001b[0m\u001b[1;34m'darkgrid'\u001b[0m\u001b[1;33m)\u001b[0m\u001b[1;33m\u001b[0m\u001b[0m\n\u001b[1;32m----> 4\u001b[1;33m \u001b[0msns\u001b[0m\u001b[1;33m.\u001b[0m\u001b[0mlmplot\u001b[0m\u001b[1;33m(\u001b[0m\u001b[0mx\u001b[0m \u001b[1;33m=\u001b[0m \u001b[1;34m'인구 (명)'\u001b[0m\u001b[1;33m,\u001b[0m \u001b[0my\u001b[0m\u001b[1;33m=\u001b[0m\u001b[1;34m'COUNT'\u001b[0m\u001b[1;33m,\u001b[0m \u001b[0mdata\u001b[0m\u001b[1;33m=\u001b[0m\u001b[0mbusan_data\u001b[0m\u001b[1;33m,\u001b[0m \u001b[0msize\u001b[0m \u001b[1;33m=\u001b[0m \u001b[1;36m5\u001b[0m\u001b[1;33m)\u001b[0m\u001b[1;33m\u001b[0m\u001b[0m\n\u001b[0m\u001b[0;32m      5\u001b[0m \u001b[0mplt\u001b[0m\u001b[1;33m.\u001b[0m\u001b[0mshow\u001b[0m\u001b[1;33m(\u001b[0m\u001b[1;33m)\u001b[0m\u001b[1;33m\u001b[0m\u001b[0m\n\u001b[0;32m      6\u001b[0m \u001b[1;31m# plt.figure( figsize = (6, 6))\u001b[0m\u001b[1;33m\u001b[0m\u001b[1;33m\u001b[0m\u001b[0m\n",
      "\u001b[1;32m~\\Anaconda3\\lib\\site-packages\\seaborn\\regression.py\u001b[0m in \u001b[0;36mlmplot\u001b[1;34m(x, y, data, hue, col, row, palette, col_wrap, size, aspect, markers, sharex, sharey, hue_order, col_order, row_order, legend, legend_out, x_estimator, x_bins, x_ci, scatter, fit_reg, ci, n_boot, units, order, logistic, lowess, robust, logx, x_partial, y_partial, truncate, x_jitter, y_jitter, scatter_kws, line_kws)\u001b[0m\n\u001b[0;32m    588\u001b[0m         \u001b[0mscatter_kws\u001b[0m\u001b[1;33m=\u001b[0m\u001b[0mscatter_kws\u001b[0m\u001b[1;33m,\u001b[0m \u001b[0mline_kws\u001b[0m\u001b[1;33m=\u001b[0m\u001b[0mline_kws\u001b[0m\u001b[1;33m,\u001b[0m\u001b[1;33m\u001b[0m\u001b[0m\n\u001b[0;32m    589\u001b[0m         )\n\u001b[1;32m--> 590\u001b[1;33m     \u001b[0mfacets\u001b[0m\u001b[1;33m.\u001b[0m\u001b[0mmap_dataframe\u001b[0m\u001b[1;33m(\u001b[0m\u001b[0mregplot\u001b[0m\u001b[1;33m,\u001b[0m \u001b[0mx\u001b[0m\u001b[1;33m,\u001b[0m \u001b[0my\u001b[0m\u001b[1;33m,\u001b[0m \u001b[1;33m**\u001b[0m\u001b[0mregplot_kws\u001b[0m\u001b[1;33m)\u001b[0m\u001b[1;33m\u001b[0m\u001b[0m\n\u001b[0m\u001b[0;32m    591\u001b[0m \u001b[1;33m\u001b[0m\u001b[0m\n\u001b[0;32m    592\u001b[0m     \u001b[1;31m# Add a legend\u001b[0m\u001b[1;33m\u001b[0m\u001b[1;33m\u001b[0m\u001b[0m\n",
      "\u001b[1;32m~\\Anaconda3\\lib\\site-packages\\seaborn\\axisgrid.py\u001b[0m in \u001b[0;36mmap_dataframe\u001b[1;34m(self, func, *args, **kwargs)\u001b[0m\n\u001b[0;32m    807\u001b[0m \u001b[1;33m\u001b[0m\u001b[0m\n\u001b[0;32m    808\u001b[0m             \u001b[1;31m# Draw the plot\u001b[0m\u001b[1;33m\u001b[0m\u001b[1;33m\u001b[0m\u001b[0m\n\u001b[1;32m--> 809\u001b[1;33m             \u001b[0mself\u001b[0m\u001b[1;33m.\u001b[0m\u001b[0m_facet_plot\u001b[0m\u001b[1;33m(\u001b[0m\u001b[0mfunc\u001b[0m\u001b[1;33m,\u001b[0m \u001b[0max\u001b[0m\u001b[1;33m,\u001b[0m \u001b[0margs\u001b[0m\u001b[1;33m,\u001b[0m \u001b[0mkwargs\u001b[0m\u001b[1;33m)\u001b[0m\u001b[1;33m\u001b[0m\u001b[0m\n\u001b[0m\u001b[0;32m    810\u001b[0m \u001b[1;33m\u001b[0m\u001b[0m\n\u001b[0;32m    811\u001b[0m         \u001b[1;31m# Finalize the annotations and layout\u001b[0m\u001b[1;33m\u001b[0m\u001b[1;33m\u001b[0m\u001b[0m\n",
      "\u001b[1;32m~\\Anaconda3\\lib\\site-packages\\seaborn\\axisgrid.py\u001b[0m in \u001b[0;36m_facet_plot\u001b[1;34m(self, func, ax, plot_args, plot_kwargs)\u001b[0m\n\u001b[0;32m    825\u001b[0m \u001b[1;33m\u001b[0m\u001b[0m\n\u001b[0;32m    826\u001b[0m         \u001b[1;31m# Draw the plot\u001b[0m\u001b[1;33m\u001b[0m\u001b[1;33m\u001b[0m\u001b[0m\n\u001b[1;32m--> 827\u001b[1;33m         \u001b[0mfunc\u001b[0m\u001b[1;33m(\u001b[0m\u001b[1;33m*\u001b[0m\u001b[0mplot_args\u001b[0m\u001b[1;33m,\u001b[0m \u001b[1;33m**\u001b[0m\u001b[0mplot_kwargs\u001b[0m\u001b[1;33m)\u001b[0m\u001b[1;33m\u001b[0m\u001b[0m\n\u001b[0m\u001b[0;32m    828\u001b[0m \u001b[1;33m\u001b[0m\u001b[0m\n\u001b[0;32m    829\u001b[0m         \u001b[1;31m# Sort out the supporting information\u001b[0m\u001b[1;33m\u001b[0m\u001b[1;33m\u001b[0m\u001b[0m\n",
      "\u001b[1;32m~\\Anaconda3\\lib\\site-packages\\seaborn\\regression.py\u001b[0m in \u001b[0;36mregplot\u001b[1;34m(x, y, data, x_estimator, x_bins, x_ci, scatter, fit_reg, ci, n_boot, units, order, logistic, lowess, robust, logx, x_partial, y_partial, truncate, dropna, x_jitter, y_jitter, label, color, marker, scatter_kws, line_kws, ax)\u001b[0m\n\u001b[0;32m    788\u001b[0m     \u001b[0mscatter_kws\u001b[0m\u001b[1;33m[\u001b[0m\u001b[1;34m\"marker\"\u001b[0m\u001b[1;33m]\u001b[0m \u001b[1;33m=\u001b[0m \u001b[0mmarker\u001b[0m\u001b[1;33m\u001b[0m\u001b[0m\n\u001b[0;32m    789\u001b[0m     \u001b[0mline_kws\u001b[0m \u001b[1;33m=\u001b[0m \u001b[1;33m{\u001b[0m\u001b[1;33m}\u001b[0m \u001b[1;32mif\u001b[0m \u001b[0mline_kws\u001b[0m \u001b[1;32mis\u001b[0m \u001b[1;32mNone\u001b[0m \u001b[1;32melse\u001b[0m \u001b[0mcopy\u001b[0m\u001b[1;33m.\u001b[0m\u001b[0mcopy\u001b[0m\u001b[1;33m(\u001b[0m\u001b[0mline_kws\u001b[0m\u001b[1;33m)\u001b[0m\u001b[1;33m\u001b[0m\u001b[0m\n\u001b[1;32m--> 790\u001b[1;33m     \u001b[0mplotter\u001b[0m\u001b[1;33m.\u001b[0m\u001b[0mplot\u001b[0m\u001b[1;33m(\u001b[0m\u001b[0max\u001b[0m\u001b[1;33m,\u001b[0m \u001b[0mscatter_kws\u001b[0m\u001b[1;33m,\u001b[0m \u001b[0mline_kws\u001b[0m\u001b[1;33m)\u001b[0m\u001b[1;33m\u001b[0m\u001b[0m\n\u001b[0m\u001b[0;32m    791\u001b[0m     \u001b[1;32mreturn\u001b[0m \u001b[0max\u001b[0m\u001b[1;33m\u001b[0m\u001b[0m\n\u001b[0;32m    792\u001b[0m \u001b[1;33m\u001b[0m\u001b[0m\n",
      "\u001b[1;32m~\\Anaconda3\\lib\\site-packages\\seaborn\\regression.py\u001b[0m in \u001b[0;36mplot\u001b[1;34m(self, ax, scatter_kws, line_kws)\u001b[0m\n\u001b[0;32m    340\u001b[0m             \u001b[0mself\u001b[0m\u001b[1;33m.\u001b[0m\u001b[0mscatterplot\u001b[0m\u001b[1;33m(\u001b[0m\u001b[0max\u001b[0m\u001b[1;33m,\u001b[0m \u001b[0mscatter_kws\u001b[0m\u001b[1;33m)\u001b[0m\u001b[1;33m\u001b[0m\u001b[0m\n\u001b[0;32m    341\u001b[0m         \u001b[1;32mif\u001b[0m \u001b[0mself\u001b[0m\u001b[1;33m.\u001b[0m\u001b[0mfit_reg\u001b[0m\u001b[1;33m:\u001b[0m\u001b[1;33m\u001b[0m\u001b[0m\n\u001b[1;32m--> 342\u001b[1;33m             \u001b[0mself\u001b[0m\u001b[1;33m.\u001b[0m\u001b[0mlineplot\u001b[0m\u001b[1;33m(\u001b[0m\u001b[0max\u001b[0m\u001b[1;33m,\u001b[0m \u001b[0mline_kws\u001b[0m\u001b[1;33m)\u001b[0m\u001b[1;33m\u001b[0m\u001b[0m\n\u001b[0m\u001b[0;32m    343\u001b[0m \u001b[1;33m\u001b[0m\u001b[0m\n\u001b[0;32m    344\u001b[0m         \u001b[1;31m# Label the axes\u001b[0m\u001b[1;33m\u001b[0m\u001b[1;33m\u001b[0m\u001b[0m\n",
      "\u001b[1;32m~\\Anaconda3\\lib\\site-packages\\seaborn\\regression.py\u001b[0m in \u001b[0;36mlineplot\u001b[1;34m(self, ax, kws)\u001b[0m\n\u001b[0;32m    385\u001b[0m \u001b[1;33m\u001b[0m\u001b[0m\n\u001b[0;32m    386\u001b[0m         \u001b[1;31m# Fit the regression model\u001b[0m\u001b[1;33m\u001b[0m\u001b[1;33m\u001b[0m\u001b[0m\n\u001b[1;32m--> 387\u001b[1;33m         \u001b[0mgrid\u001b[0m\u001b[1;33m,\u001b[0m \u001b[0myhat\u001b[0m\u001b[1;33m,\u001b[0m \u001b[0merr_bands\u001b[0m \u001b[1;33m=\u001b[0m \u001b[0mself\u001b[0m\u001b[1;33m.\u001b[0m\u001b[0mfit_regression\u001b[0m\u001b[1;33m(\u001b[0m\u001b[0max\u001b[0m\u001b[1;33m)\u001b[0m\u001b[1;33m\u001b[0m\u001b[0m\n\u001b[0m\u001b[0;32m    388\u001b[0m \u001b[1;33m\u001b[0m\u001b[0m\n\u001b[0;32m    389\u001b[0m         \u001b[1;31m# Get set default aesthetics\u001b[0m\u001b[1;33m\u001b[0m\u001b[1;33m\u001b[0m\u001b[0m\n",
      "\u001b[1;32m~\\Anaconda3\\lib\\site-packages\\seaborn\\regression.py\u001b[0m in \u001b[0;36mfit_regression\u001b[1;34m(self, ax, x_range, grid)\u001b[0m\n\u001b[0;32m    208\u001b[0m             \u001b[0myhat\u001b[0m\u001b[1;33m,\u001b[0m \u001b[0myhat_boots\u001b[0m \u001b[1;33m=\u001b[0m \u001b[0mself\u001b[0m\u001b[1;33m.\u001b[0m\u001b[0mfit_logx\u001b[0m\u001b[1;33m(\u001b[0m\u001b[0mgrid\u001b[0m\u001b[1;33m)\u001b[0m\u001b[1;33m\u001b[0m\u001b[0m\n\u001b[0;32m    209\u001b[0m         \u001b[1;32melse\u001b[0m\u001b[1;33m:\u001b[0m\u001b[1;33m\u001b[0m\u001b[0m\n\u001b[1;32m--> 210\u001b[1;33m             \u001b[0myhat\u001b[0m\u001b[1;33m,\u001b[0m \u001b[0myhat_boots\u001b[0m \u001b[1;33m=\u001b[0m \u001b[0mself\u001b[0m\u001b[1;33m.\u001b[0m\u001b[0mfit_fast\u001b[0m\u001b[1;33m(\u001b[0m\u001b[0mgrid\u001b[0m\u001b[1;33m)\u001b[0m\u001b[1;33m\u001b[0m\u001b[0m\n\u001b[0m\u001b[0;32m    211\u001b[0m \u001b[1;33m\u001b[0m\u001b[0m\n\u001b[0;32m    212\u001b[0m         \u001b[1;31m# Compute the confidence interval at each grid point\u001b[0m\u001b[1;33m\u001b[0m\u001b[1;33m\u001b[0m\u001b[0m\n",
      "\u001b[1;32m~\\Anaconda3\\lib\\site-packages\\seaborn\\regression.py\u001b[0m in \u001b[0;36mfit_fast\u001b[1;34m(self, grid)\u001b[0m\n\u001b[0;32m    223\u001b[0m         \u001b[0mgrid\u001b[0m \u001b[1;33m=\u001b[0m \u001b[0mnp\u001b[0m\u001b[1;33m.\u001b[0m\u001b[0mc_\u001b[0m\u001b[1;33m[\u001b[0m\u001b[0mnp\u001b[0m\u001b[1;33m.\u001b[0m\u001b[0mones\u001b[0m\u001b[1;33m(\u001b[0m\u001b[0mlen\u001b[0m\u001b[1;33m(\u001b[0m\u001b[0mgrid\u001b[0m\u001b[1;33m)\u001b[0m\u001b[1;33m)\u001b[0m\u001b[1;33m,\u001b[0m \u001b[0mgrid\u001b[0m\u001b[1;33m]\u001b[0m\u001b[1;33m\u001b[0m\u001b[0m\n\u001b[0;32m    224\u001b[0m         \u001b[0mreg_func\u001b[0m \u001b[1;33m=\u001b[0m \u001b[1;32mlambda\u001b[0m \u001b[0m_x\u001b[0m\u001b[1;33m,\u001b[0m \u001b[0m_y\u001b[0m\u001b[1;33m:\u001b[0m \u001b[0mnp\u001b[0m\u001b[1;33m.\u001b[0m\u001b[0mlinalg\u001b[0m\u001b[1;33m.\u001b[0m\u001b[0mpinv\u001b[0m\u001b[1;33m(\u001b[0m\u001b[0m_x\u001b[0m\u001b[1;33m)\u001b[0m\u001b[1;33m.\u001b[0m\u001b[0mdot\u001b[0m\u001b[1;33m(\u001b[0m\u001b[0m_y\u001b[0m\u001b[1;33m)\u001b[0m\u001b[1;33m\u001b[0m\u001b[0m\n\u001b[1;32m--> 225\u001b[1;33m         \u001b[0myhat\u001b[0m \u001b[1;33m=\u001b[0m \u001b[0mgrid\u001b[0m\u001b[1;33m.\u001b[0m\u001b[0mdot\u001b[0m\u001b[1;33m(\u001b[0m\u001b[0mreg_func\u001b[0m\u001b[1;33m(\u001b[0m\u001b[0mX\u001b[0m\u001b[1;33m,\u001b[0m \u001b[0my\u001b[0m\u001b[1;33m)\u001b[0m\u001b[1;33m)\u001b[0m\u001b[1;33m\u001b[0m\u001b[0m\n\u001b[0m\u001b[0;32m    226\u001b[0m         \u001b[1;32mif\u001b[0m \u001b[0mself\u001b[0m\u001b[1;33m.\u001b[0m\u001b[0mci\u001b[0m \u001b[1;32mis\u001b[0m \u001b[1;32mNone\u001b[0m\u001b[1;33m:\u001b[0m\u001b[1;33m\u001b[0m\u001b[0m\n\u001b[0;32m    227\u001b[0m             \u001b[1;32mreturn\u001b[0m \u001b[0myhat\u001b[0m\u001b[1;33m,\u001b[0m \u001b[1;32mNone\u001b[0m\u001b[1;33m\u001b[0m\u001b[0m\n",
      "\u001b[1;32m~\\Anaconda3\\lib\\site-packages\\seaborn\\regression.py\u001b[0m in \u001b[0;36m<lambda>\u001b[1;34m(_x, _y)\u001b[0m\n\u001b[0;32m    222\u001b[0m         \u001b[0mX\u001b[0m\u001b[1;33m,\u001b[0m \u001b[0my\u001b[0m \u001b[1;33m=\u001b[0m \u001b[0mnp\u001b[0m\u001b[1;33m.\u001b[0m\u001b[0mc_\u001b[0m\u001b[1;33m[\u001b[0m\u001b[0mnp\u001b[0m\u001b[1;33m.\u001b[0m\u001b[0mones\u001b[0m\u001b[1;33m(\u001b[0m\u001b[0mlen\u001b[0m\u001b[1;33m(\u001b[0m\u001b[0mself\u001b[0m\u001b[1;33m.\u001b[0m\u001b[0mx\u001b[0m\u001b[1;33m)\u001b[0m\u001b[1;33m)\u001b[0m\u001b[1;33m,\u001b[0m \u001b[0mself\u001b[0m\u001b[1;33m.\u001b[0m\u001b[0mx\u001b[0m\u001b[1;33m]\u001b[0m\u001b[1;33m,\u001b[0m \u001b[0mself\u001b[0m\u001b[1;33m.\u001b[0m\u001b[0my\u001b[0m\u001b[1;33m\u001b[0m\u001b[0m\n\u001b[0;32m    223\u001b[0m         \u001b[0mgrid\u001b[0m \u001b[1;33m=\u001b[0m \u001b[0mnp\u001b[0m\u001b[1;33m.\u001b[0m\u001b[0mc_\u001b[0m\u001b[1;33m[\u001b[0m\u001b[0mnp\u001b[0m\u001b[1;33m.\u001b[0m\u001b[0mones\u001b[0m\u001b[1;33m(\u001b[0m\u001b[0mlen\u001b[0m\u001b[1;33m(\u001b[0m\u001b[0mgrid\u001b[0m\u001b[1;33m)\u001b[0m\u001b[1;33m)\u001b[0m\u001b[1;33m,\u001b[0m \u001b[0mgrid\u001b[0m\u001b[1;33m]\u001b[0m\u001b[1;33m\u001b[0m\u001b[0m\n\u001b[1;32m--> 224\u001b[1;33m         \u001b[0mreg_func\u001b[0m \u001b[1;33m=\u001b[0m \u001b[1;32mlambda\u001b[0m \u001b[0m_x\u001b[0m\u001b[1;33m,\u001b[0m \u001b[0m_y\u001b[0m\u001b[1;33m:\u001b[0m \u001b[0mnp\u001b[0m\u001b[1;33m.\u001b[0m\u001b[0mlinalg\u001b[0m\u001b[1;33m.\u001b[0m\u001b[0mpinv\u001b[0m\u001b[1;33m(\u001b[0m\u001b[0m_x\u001b[0m\u001b[1;33m)\u001b[0m\u001b[1;33m.\u001b[0m\u001b[0mdot\u001b[0m\u001b[1;33m(\u001b[0m\u001b[0m_y\u001b[0m\u001b[1;33m)\u001b[0m\u001b[1;33m\u001b[0m\u001b[0m\n\u001b[0m\u001b[0;32m    225\u001b[0m         \u001b[0myhat\u001b[0m \u001b[1;33m=\u001b[0m \u001b[0mgrid\u001b[0m\u001b[1;33m.\u001b[0m\u001b[0mdot\u001b[0m\u001b[1;33m(\u001b[0m\u001b[0mreg_func\u001b[0m\u001b[1;33m(\u001b[0m\u001b[0mX\u001b[0m\u001b[1;33m,\u001b[0m \u001b[0my\u001b[0m\u001b[1;33m)\u001b[0m\u001b[1;33m)\u001b[0m\u001b[1;33m\u001b[0m\u001b[0m\n\u001b[0;32m    226\u001b[0m         \u001b[1;32mif\u001b[0m \u001b[0mself\u001b[0m\u001b[1;33m.\u001b[0m\u001b[0mci\u001b[0m \u001b[1;32mis\u001b[0m \u001b[1;32mNone\u001b[0m\u001b[1;33m:\u001b[0m\u001b[1;33m\u001b[0m\u001b[0m\n",
      "\u001b[1;32m~\\Anaconda3\\lib\\site-packages\\numpy\\linalg\\linalg.py\u001b[0m in \u001b[0;36mpinv\u001b[1;34m(a, rcond)\u001b[0m\n\u001b[0;32m   1722\u001b[0m         \u001b[1;32mreturn\u001b[0m \u001b[0mwrap\u001b[0m\u001b[1;33m(\u001b[0m\u001b[0mres\u001b[0m\u001b[1;33m)\u001b[0m\u001b[1;33m\u001b[0m\u001b[0m\n\u001b[0;32m   1723\u001b[0m     \u001b[0ma\u001b[0m \u001b[1;33m=\u001b[0m \u001b[0ma\u001b[0m\u001b[1;33m.\u001b[0m\u001b[0mconjugate\u001b[0m\u001b[1;33m(\u001b[0m\u001b[1;33m)\u001b[0m\u001b[1;33m\u001b[0m\u001b[0m\n\u001b[1;32m-> 1724\u001b[1;33m     \u001b[0mu\u001b[0m\u001b[1;33m,\u001b[0m \u001b[0ms\u001b[0m\u001b[1;33m,\u001b[0m \u001b[0mvt\u001b[0m \u001b[1;33m=\u001b[0m \u001b[0msvd\u001b[0m\u001b[1;33m(\u001b[0m\u001b[0ma\u001b[0m\u001b[1;33m,\u001b[0m \u001b[0mfull_matrices\u001b[0m\u001b[1;33m=\u001b[0m\u001b[1;32mFalse\u001b[0m\u001b[1;33m)\u001b[0m\u001b[1;33m\u001b[0m\u001b[0m\n\u001b[0m\u001b[0;32m   1725\u001b[0m \u001b[1;33m\u001b[0m\u001b[0m\n\u001b[0;32m   1726\u001b[0m     \u001b[1;31m# discard small singular values\u001b[0m\u001b[1;33m\u001b[0m\u001b[1;33m\u001b[0m\u001b[0m\n",
      "\u001b[1;32m~\\Anaconda3\\lib\\site-packages\\numpy\\linalg\\linalg.py\u001b[0m in \u001b[0;36msvd\u001b[1;34m(a, full_matrices, compute_uv)\u001b[0m\n\u001b[0;32m   1442\u001b[0m \u001b[1;33m\u001b[0m\u001b[0m\n\u001b[0;32m   1443\u001b[0m         \u001b[0msignature\u001b[0m \u001b[1;33m=\u001b[0m \u001b[1;34m'D->DdD'\u001b[0m \u001b[1;32mif\u001b[0m \u001b[0misComplexType\u001b[0m\u001b[1;33m(\u001b[0m\u001b[0mt\u001b[0m\u001b[1;33m)\u001b[0m \u001b[1;32melse\u001b[0m \u001b[1;34m'd->ddd'\u001b[0m\u001b[1;33m\u001b[0m\u001b[0m\n\u001b[1;32m-> 1444\u001b[1;33m         \u001b[0mu\u001b[0m\u001b[1;33m,\u001b[0m \u001b[0ms\u001b[0m\u001b[1;33m,\u001b[0m \u001b[0mvh\u001b[0m \u001b[1;33m=\u001b[0m \u001b[0mgufunc\u001b[0m\u001b[1;33m(\u001b[0m\u001b[0ma\u001b[0m\u001b[1;33m,\u001b[0m \u001b[0msignature\u001b[0m\u001b[1;33m=\u001b[0m\u001b[0msignature\u001b[0m\u001b[1;33m,\u001b[0m \u001b[0mextobj\u001b[0m\u001b[1;33m=\u001b[0m\u001b[0mextobj\u001b[0m\u001b[1;33m)\u001b[0m\u001b[1;33m\u001b[0m\u001b[0m\n\u001b[0m\u001b[0;32m   1445\u001b[0m         \u001b[0mu\u001b[0m \u001b[1;33m=\u001b[0m \u001b[0mu\u001b[0m\u001b[1;33m.\u001b[0m\u001b[0mastype\u001b[0m\u001b[1;33m(\u001b[0m\u001b[0mresult_t\u001b[0m\u001b[1;33m,\u001b[0m \u001b[0mcopy\u001b[0m\u001b[1;33m=\u001b[0m\u001b[1;32mFalse\u001b[0m\u001b[1;33m)\u001b[0m\u001b[1;33m\u001b[0m\u001b[0m\n\u001b[0;32m   1446\u001b[0m         \u001b[0ms\u001b[0m \u001b[1;33m=\u001b[0m \u001b[0ms\u001b[0m\u001b[1;33m.\u001b[0m\u001b[0mastype\u001b[0m\u001b[1;33m(\u001b[0m\u001b[0m_realType\u001b[0m\u001b[1;33m(\u001b[0m\u001b[0mresult_t\u001b[0m\u001b[1;33m)\u001b[0m\u001b[1;33m,\u001b[0m \u001b[0mcopy\u001b[0m\u001b[1;33m=\u001b[0m\u001b[1;32mFalse\u001b[0m\u001b[1;33m)\u001b[0m\u001b[1;33m\u001b[0m\u001b[0m\n",
      "\u001b[1;31mTypeError\u001b[0m: No loop matching the specified signature and casting\nwas found for ufunc svd_n_s"
     ]
    },
    {
     "data": {
      "text/plain": [
       "<Figure size 432x288 with 0 Axes>"
      ]
     },
     "metadata": {},
     "output_type": "display_data"
    },
    {
     "data": {
      "image/png": "[encoded data removed]",
      "text/plain": [
       "<Figure size 360x360 with 1 Axes>"
      ]
     },
     "metadata": {},
     "output_type": "display_data"
    }
   ],
   "source": [
    "# 인구와 버스정류장 수의 상관관계\n",
    "plt.figure()\n",
    "sns.set_style('darkgrid')\n",
    "sns.lmplot(x = '인구 (명)', y='COUNT', data=busan_data, size = 5)\n",
    "plt.show()\n",
    "# plt.figure( figsize = (6, 6))\n",
    "# plt.scatter(np.array(busan_data['인구 (명)']), np.array(busan_data['COUNT']))\n",
    "# plt.show()"
   ]
  },
  {
   "cell_type": "code",
   "execution_count": 489,
   "metadata": {},
   "outputs": [
    {
     "data": {
      "image/png": "[encoded data removed]",
      "text/plain": [
       "<Figure size 432x432 with 1 Axes>"
      ]
     },
     "metadata": {},
     "output_type": "display_data"
    }
   ],
   "source": [
    "# 인구밀도와 버스정류장 수의 상관관계\n",
    "# plt.figure()\n",
    "# sns.set_style('darkgrid')\n",
    "# sns.lmplot(x = '인구밀도 (명/㎢)', y='COUNT', data=busan_data, size = 5)\n",
    "# plt.show()\n",
    "plt.figure( figsize = (6, 6))\n",
    "plt.scatter(np.array(busan_data['인구밀도 (명/㎢)']), np.array(busan_data['COUNT']))\n",
    "plt.show()"
   ]
  },
  {
   "cell_type": "code",
   "execution_count": 490,
   "metadata": {},
   "outputs": [
    {
     "data": {
      "image/png": "[encoded data removed]",
      "text/plain": [
       "<Figure size 432x432 with 1 Axes>"
      ]
     },
     "metadata": {},
     "output_type": "display_data"
    }
   ],
   "source": [
    "# 면적과 버스정류장 수의 상관관계\n",
    "# plt.figure()\n",
    "# sns.set_style('darkgrid')\n",
    "# sns.lmplot(x = '면적 (㎢)', y='COUNT', data=busan_data, size = 5)\n",
    "# plt.show()\n",
    "plt.figure( figsize = (6, 6))\n",
    "plt.scatter(np.array(busan_data['면적 (㎢)']), np.array(busan_data['COUNT']))\n",
    "plt.show()"
   ]
  },
  {
   "cell_type": "code",
   "execution_count": null,
   "metadata": {},
   "outputs": [],
   "source": []
  },
  {
   "cell_type": "markdown",
   "metadata": {},
   "source": [
    "## 배차시간(1일 정류 횟수) 고려한 분석"
   ]
  },
  {
   "cell_type": "code",
   "execution_count": 491,
   "metadata": {
    "scrolled": true
   },
   "outputs": [
    {
     "data": {
      "text/html": [
       "<div>\n",
       "<style scoped>\n",
       "    .dataframe tbody tr th:only-of-type {\n",
       "        vertical-align: middle;\n",
       "    }\n",
       "\n",
       "    .dataframe tbody tr th {\n",
       "        vertical-align: top;\n",
       "    }\n",
       "\n",
       "    .dataframe thead th {\n",
       "        text-align: right;\n",
       "    }\n",
       "</style>\n",
       "<table border=\"1\" class=\"dataframe\">\n",
       "  <thead>\n",
       "    <tr style=\"text-align: right;\">\n",
       "      <th></th>\n",
       "      <th>버스 번호</th>\n",
       "      <th>버스 종류</th>\n",
       "      <th>버스 회사명</th>\n",
       "      <th>기점명</th>\n",
       "      <th>종점명</th>\n",
       "      <th>첫차 시간</th>\n",
       "      <th>막차 시간</th>\n",
       "      <th>노선ID</th>\n",
       "      <th>배차간격</th>\n",
       "      <th>배차간격(일반)</th>\n",
       "      <th>배차간격(출퇴근)</th>\n",
       "      <th>배차간격(휴일)</th>\n",
       "    </tr>\n",
       "  </thead>\n",
       "  <tbody>\n",
       "    <tr>\n",
       "      <th>0</th>\n",
       "      <td>1</td>\n",
       "      <td>일반버스</td>\n",
       "      <td>오성</td>\n",
       "      <td>민락동</td>\n",
       "      <td>부암역</td>\n",
       "      <td>05:05</td>\n",
       "      <td>22:40</td>\n",
       "      <td>5200001000</td>\n",
       "      <td>NaN</td>\n",
       "      <td>21</td>\n",
       "      <td>21</td>\n",
       "      <td>21</td>\n",
       "    </tr>\n",
       "    <tr>\n",
       "      <th>1</th>\n",
       "      <td>10</td>\n",
       "      <td>일반버스</td>\n",
       "      <td>국제</td>\n",
       "      <td>연제공용차고지</td>\n",
       "      <td>동명오거리</td>\n",
       "      <td>04:30</td>\n",
       "      <td>22:15</td>\n",
       "      <td>5200010000</td>\n",
       "      <td>7</td>\n",
       "      <td>9-10</td>\n",
       "      <td>8</td>\n",
       "      <td>10-12</td>\n",
       "    </tr>\n",
       "    <tr>\n",
       "      <th>2</th>\n",
       "      <td>100</td>\n",
       "      <td>일반버스</td>\n",
       "      <td>해동</td>\n",
       "      <td>청강리</td>\n",
       "      <td>장전역</td>\n",
       "      <td>04:50</td>\n",
       "      <td>21:50</td>\n",
       "      <td>5200100000</td>\n",
       "      <td>8</td>\n",
       "      <td>15</td>\n",
       "      <td>10</td>\n",
       "      <td>12</td>\n",
       "    </tr>\n",
       "    <tr>\n",
       "      <th>3</th>\n",
       "      <td>100-1</td>\n",
       "      <td>일반버스</td>\n",
       "      <td>해동</td>\n",
       "      <td>송정</td>\n",
       "      <td>부산대</td>\n",
       "      <td>05:00</td>\n",
       "      <td>22:10</td>\n",
       "      <td>5200100100</td>\n",
       "      <td>8</td>\n",
       "      <td>10</td>\n",
       "      <td>9</td>\n",
       "      <td>11</td>\n",
       "    </tr>\n",
       "    <tr>\n",
       "      <th>4</th>\n",
       "      <td>1000</td>\n",
       "      <td>급행버스</td>\n",
       "      <td>동원</td>\n",
       "      <td>다대포</td>\n",
       "      <td>서면</td>\n",
       "      <td>05:00</td>\n",
       "      <td>22:15</td>\n",
       "      <td>5201000000</td>\n",
       "      <td>10</td>\n",
       "      <td>13</td>\n",
       "      <td>10</td>\n",
       "      <td>14</td>\n",
       "    </tr>\n",
       "  </tbody>\n",
       "</table>\n",
       "</div>"
      ],
      "text/plain": [
       "   버스 번호 버스 종류 버스 회사명      기점명    종점명  첫차 시간  막차 시간        노선ID 배차간격 배차간격(일반)  \\\n",
       "0      1  일반버스     오성      민락동    부암역  05:05  22:40  5200001000  NaN       21   \n",
       "1     10  일반버스     국제  연제공용차고지  동명오거리  04:30  22:15  5200010000    7     9-10   \n",
       "2    100  일반버스     해동      청강리    장전역  04:50  21:50  5200100000    8       15   \n",
       "3  100-1  일반버스     해동       송정    부산대  05:00  22:10  5200100100    8       10   \n",
       "4   1000  급행버스     동원      다대포     서면  05:00  22:15  5201000000   10       13   \n",
       "\n",
       "  배차간격(출퇴근) 배차간격(휴일)  \n",
       "0        21       21  \n",
       "1         8    10-12  \n",
       "2        10       12  \n",
       "3         9       11  \n",
       "4        10       14  "
      ]
     },
     "execution_count": 491,
     "metadata": {},
     "output_type": "execute_result"
    }
   ],
   "source": [
    "# 부산시 시내버스 운행정보 서비스\n",
    "bus_raw_data = pd.read_excel('./data/busan_bus_information.xlsx')\n",
    "bus_raw_data.head()"
   ]
  },
  {
   "cell_type": "code",
   "execution_count": 492,
   "metadata": {},
   "outputs": [
    {
     "data": {
      "text/plain": [
       "285"
      ]
     },
     "execution_count": 492,
     "metadata": {},
     "output_type": "execute_result"
    }
   ],
   "source": [
    "len(bus_raw_data['버스 번호'])"
   ]
  },
  {
   "cell_type": "code",
   "execution_count": 493,
   "metadata": {},
   "outputs": [
    {
     "data": {
      "text/plain": [
       "(153, 153)"
      ]
     },
     "execution_count": 493,
     "metadata": {},
     "output_type": "execute_result"
    }
   ],
   "source": [
    "# 마을버스 제외\n",
    "bus_data = bus_raw_data[bus_raw_data['버스 종류'] != '마을버스']\n",
    "len(bus_data), len(busanbuses)"
   ]
  },
  {
   "cell_type": "code",
   "execution_count": 494,
   "metadata": {},
   "outputs": [],
   "source": [
    "for bus in bus_data['버스 번호'].unique() :\n",
    "    if bus not in busanbuses :\n",
    "        print(bus)"
   ]
  },
  {
   "cell_type": "code",
   "execution_count": 495,
   "metadata": {},
   "outputs": [],
   "source": [
    "for bus in busanbuses :\n",
    "    if bus not in bus_data['버스 번호'].unique() :\n",
    "        print(bus)"
   ]
  },
  {
   "cell_type": "code",
   "execution_count": 496,
   "metadata": {},
   "outputs": [],
   "source": [
    "# 데이터 완전히 일치"
   ]
  },
  {
   "cell_type": "code",
   "execution_count": 497,
   "metadata": {},
   "outputs": [],
   "source": [
    "bus_time_data = bus_data.iloc[:, [0, 5, 6, 8, 9, 10, 11]]"
   ]
  },
  {
   "cell_type": "code",
   "execution_count": 498,
   "metadata": {
    "scrolled": true
   },
   "outputs": [
    {
     "data": {
      "text/html": [
       "<div>\n",
       "<style scoped>\n",
       "    .dataframe tbody tr th:only-of-type {\n",
       "        vertical-align: middle;\n",
       "    }\n",
       "\n",
       "    .dataframe tbody tr th {\n",
       "        vertical-align: top;\n",
       "    }\n",
       "\n",
       "    .dataframe thead th {\n",
       "        text-align: right;\n",
       "    }\n",
       "</style>\n",
       "<table border=\"1\" class=\"dataframe\">\n",
       "  <thead>\n",
       "    <tr style=\"text-align: right;\">\n",
       "      <th></th>\n",
       "      <th>버스 번호</th>\n",
       "      <th>첫차 시간</th>\n",
       "      <th>막차 시간</th>\n",
       "      <th>배차간격</th>\n",
       "      <th>배차간격(일반)</th>\n",
       "      <th>배차간격(출퇴근)</th>\n",
       "      <th>배차간격(휴일)</th>\n",
       "    </tr>\n",
       "  </thead>\n",
       "  <tbody>\n",
       "    <tr>\n",
       "      <th>0</th>\n",
       "      <td>1</td>\n",
       "      <td>05:05</td>\n",
       "      <td>22:40</td>\n",
       "      <td>NaN</td>\n",
       "      <td>21</td>\n",
       "      <td>21</td>\n",
       "      <td>21</td>\n",
       "    </tr>\n",
       "    <tr>\n",
       "      <th>1</th>\n",
       "      <td>10</td>\n",
       "      <td>04:30</td>\n",
       "      <td>22:15</td>\n",
       "      <td>7</td>\n",
       "      <td>9-10</td>\n",
       "      <td>8</td>\n",
       "      <td>10-12</td>\n",
       "    </tr>\n",
       "    <tr>\n",
       "      <th>2</th>\n",
       "      <td>100</td>\n",
       "      <td>04:50</td>\n",
       "      <td>21:50</td>\n",
       "      <td>8</td>\n",
       "      <td>15</td>\n",
       "      <td>10</td>\n",
       "      <td>12</td>\n",
       "    </tr>\n",
       "    <tr>\n",
       "      <th>3</th>\n",
       "      <td>100-1</td>\n",
       "      <td>05:00</td>\n",
       "      <td>22:10</td>\n",
       "      <td>8</td>\n",
       "      <td>10</td>\n",
       "      <td>9</td>\n",
       "      <td>11</td>\n",
       "    </tr>\n",
       "    <tr>\n",
       "      <th>4</th>\n",
       "      <td>1000</td>\n",
       "      <td>05:00</td>\n",
       "      <td>22:15</td>\n",
       "      <td>10</td>\n",
       "      <td>13</td>\n",
       "      <td>10</td>\n",
       "      <td>14</td>\n",
       "    </tr>\n",
       "  </tbody>\n",
       "</table>\n",
       "</div>"
      ],
      "text/plain": [
       "   버스 번호  첫차 시간  막차 시간 배차간격 배차간격(일반) 배차간격(출퇴근) 배차간격(휴일)\n",
       "0      1  05:05  22:40  NaN       21        21       21\n",
       "1     10  04:30  22:15    7     9-10         8    10-12\n",
       "2    100  04:50  21:50    8       15        10       12\n",
       "3  100-1  05:00  22:10    8       10         9       11\n",
       "4   1000  05:00  22:15   10       13        10       14"
      ]
     },
     "execution_count": 498,
     "metadata": {},
     "output_type": "execute_result"
    }
   ],
   "source": [
    "bus_time_data.head()"
   ]
  },
  {
   "cell_type": "code",
   "execution_count": 499,
   "metadata": {},
   "outputs": [],
   "source": [
    "# 배차간격을 대표할 데이터 정하기"
   ]
  },
  {
   "cell_type": "code",
   "execution_count": 500,
   "metadata": {},
   "outputs": [
    {
     "data": {
      "text/html": [
       "<div>\n",
       "<style scoped>\n",
       "    .dataframe tbody tr th:only-of-type {\n",
       "        vertical-align: middle;\n",
       "    }\n",
       "\n",
       "    .dataframe tbody tr th {\n",
       "        vertical-align: top;\n",
       "    }\n",
       "\n",
       "    .dataframe thead th {\n",
       "        text-align: right;\n",
       "    }\n",
       "</style>\n",
       "<table border=\"1\" class=\"dataframe\">\n",
       "  <thead>\n",
       "    <tr style=\"text-align: right;\">\n",
       "      <th></th>\n",
       "      <th>버스 번호</th>\n",
       "      <th>첫차 시간</th>\n",
       "      <th>막차 시간</th>\n",
       "      <th>배차간격</th>\n",
       "      <th>배차간격(일반)</th>\n",
       "      <th>배차간격(출퇴근)</th>\n",
       "      <th>배차간격(휴일)</th>\n",
       "    </tr>\n",
       "  </thead>\n",
       "  <tbody>\n",
       "    <tr>\n",
       "      <th>0</th>\n",
       "      <td>1</td>\n",
       "      <td>05:05</td>\n",
       "      <td>22:40</td>\n",
       "      <td>NaN</td>\n",
       "      <td>21</td>\n",
       "      <td>21</td>\n",
       "      <td>21</td>\n",
       "    </tr>\n",
       "    <tr>\n",
       "      <th>15</th>\n",
       "      <td>1008</td>\n",
       "      <td>05:20</td>\n",
       "      <td>23:10</td>\n",
       "      <td>NaN</td>\n",
       "      <td>12</td>\n",
       "      <td>10</td>\n",
       "      <td>13</td>\n",
       "    </tr>\n",
       "    <tr>\n",
       "      <th>16</th>\n",
       "      <td>1009</td>\n",
       "      <td>05:20</td>\n",
       "      <td>20:50</td>\n",
       "      <td>NaN</td>\n",
       "      <td>40</td>\n",
       "      <td>40</td>\n",
       "      <td>40</td>\n",
       "    </tr>\n",
       "    <tr>\n",
       "      <th>18</th>\n",
       "      <td>1010</td>\n",
       "      <td>04:55</td>\n",
       "      <td>21:45</td>\n",
       "      <td>NaN</td>\n",
       "      <td>12</td>\n",
       "      <td>9</td>\n",
       "      <td>11</td>\n",
       "    </tr>\n",
       "    <tr>\n",
       "      <th>19</th>\n",
       "      <td>1011</td>\n",
       "      <td>05:00</td>\n",
       "      <td>21:00</td>\n",
       "      <td>NaN</td>\n",
       "      <td>25</td>\n",
       "      <td>10~15</td>\n",
       "      <td>25</td>\n",
       "    </tr>\n",
       "  </tbody>\n",
       "</table>\n",
       "</div>"
      ],
      "text/plain": [
       "   버스 번호  첫차 시간  막차 시간 배차간격 배차간격(일반) 배차간격(출퇴근) 배차간격(휴일)\n",
       "0      1  05:05  22:40  NaN       21        21       21\n",
       "15  1008  05:20  23:10  NaN       12        10       13\n",
       "16  1009  05:20  20:50  NaN       40        40       40\n",
       "18  1010  04:55  21:45  NaN       12         9       11\n",
       "19  1011  05:00  21:00  NaN       25     10~15       25"
      ]
     },
     "execution_count": 500,
     "metadata": {},
     "output_type": "execute_result"
    }
   ],
   "source": [
    "bus_time_data[bus_time_data['배차간격'].isnull()].head()"
   ]
  },
  {
   "cell_type": "code",
   "execution_count": 501,
   "metadata": {},
   "outputs": [
    {
     "data": {
      "text/html": [
       "<div>\n",
       "<style scoped>\n",
       "    .dataframe tbody tr th:only-of-type {\n",
       "        vertical-align: middle;\n",
       "    }\n",
       "\n",
       "    .dataframe tbody tr th {\n",
       "        vertical-align: top;\n",
       "    }\n",
       "\n",
       "    .dataframe thead th {\n",
       "        text-align: right;\n",
       "    }\n",
       "</style>\n",
       "<table border=\"1\" class=\"dataframe\">\n",
       "  <thead>\n",
       "    <tr style=\"text-align: right;\">\n",
       "      <th></th>\n",
       "      <th>버스 번호</th>\n",
       "      <th>첫차 시간</th>\n",
       "      <th>막차 시간</th>\n",
       "      <th>배차간격</th>\n",
       "      <th>배차간격(일반)</th>\n",
       "      <th>배차간격(출퇴근)</th>\n",
       "      <th>배차간격(휴일)</th>\n",
       "    </tr>\n",
       "  </thead>\n",
       "  <tbody>\n",
       "    <tr>\n",
       "      <th>117</th>\n",
       "      <td>555</td>\n",
       "      <td>06:20</td>\n",
       "      <td>17:20</td>\n",
       "      <td>NaN</td>\n",
       "      <td>NaN</td>\n",
       "      <td>10</td>\n",
       "      <td>NaN</td>\n",
       "    </tr>\n",
       "  </tbody>\n",
       "</table>\n",
       "</div>"
      ],
      "text/plain": [
       "    버스 번호  첫차 시간  막차 시간 배차간격 배차간격(일반) 배차간격(출퇴근) 배차간격(휴일)\n",
       "117   555  06:20  17:20  NaN      NaN        10      NaN"
      ]
     },
     "execution_count": 501,
     "metadata": {},
     "output_type": "execute_result"
    }
   ],
   "source": [
    "bus_time_data[bus_time_data['배차간격(일반)'].isnull()]"
   ]
  },
  {
   "cell_type": "code",
   "execution_count": 502,
   "metadata": {},
   "outputs": [
    {
     "data": {
      "text/html": [
       "<div>\n",
       "<style scoped>\n",
       "    .dataframe tbody tr th:only-of-type {\n",
       "        vertical-align: middle;\n",
       "    }\n",
       "\n",
       "    .dataframe tbody tr th {\n",
       "        vertical-align: top;\n",
       "    }\n",
       "\n",
       "    .dataframe thead th {\n",
       "        text-align: right;\n",
       "    }\n",
       "</style>\n",
       "<table border=\"1\" class=\"dataframe\">\n",
       "  <thead>\n",
       "    <tr style=\"text-align: right;\">\n",
       "      <th></th>\n",
       "      <th>버스 번호</th>\n",
       "      <th>첫차 시간</th>\n",
       "      <th>막차 시간</th>\n",
       "      <th>배차간격</th>\n",
       "      <th>배차간격(일반)</th>\n",
       "      <th>배차간격(출퇴근)</th>\n",
       "      <th>배차간격(휴일)</th>\n",
       "    </tr>\n",
       "  </thead>\n",
       "  <tbody>\n",
       "  </tbody>\n",
       "</table>\n",
       "</div>"
      ],
      "text/plain": [
       "Empty DataFrame\n",
       "Columns: [버스 번호, 첫차 시간, 막차 시간, 배차간격, 배차간격(일반), 배차간격(출퇴근), 배차간격(휴일)]\n",
       "Index: []"
      ]
     },
     "execution_count": 502,
     "metadata": {},
     "output_type": "execute_result"
    }
   ],
   "source": [
    "bus_time_data[bus_time_data['배차간격(출퇴근)'].isnull()]"
   ]
  },
  {
   "cell_type": "code",
   "execution_count": 503,
   "metadata": {},
   "outputs": [
    {
     "data": {
      "text/html": [
       "<div>\n",
       "<style scoped>\n",
       "    .dataframe tbody tr th:only-of-type {\n",
       "        vertical-align: middle;\n",
       "    }\n",
       "\n",
       "    .dataframe tbody tr th {\n",
       "        vertical-align: top;\n",
       "    }\n",
       "\n",
       "    .dataframe thead th {\n",
       "        text-align: right;\n",
       "    }\n",
       "</style>\n",
       "<table border=\"1\" class=\"dataframe\">\n",
       "  <thead>\n",
       "    <tr style=\"text-align: right;\">\n",
       "      <th></th>\n",
       "      <th>버스 번호</th>\n",
       "      <th>첫차 시간</th>\n",
       "      <th>막차 시간</th>\n",
       "      <th>배차간격</th>\n",
       "      <th>배차간격(일반)</th>\n",
       "      <th>배차간격(출퇴근)</th>\n",
       "      <th>배차간격(휴일)</th>\n",
       "    </tr>\n",
       "  </thead>\n",
       "  <tbody>\n",
       "    <tr>\n",
       "      <th>117</th>\n",
       "      <td>555</td>\n",
       "      <td>06:20</td>\n",
       "      <td>17:20</td>\n",
       "      <td>NaN</td>\n",
       "      <td>NaN</td>\n",
       "      <td>10</td>\n",
       "      <td>NaN</td>\n",
       "    </tr>\n",
       "  </tbody>\n",
       "</table>\n",
       "</div>"
      ],
      "text/plain": [
       "    버스 번호  첫차 시간  막차 시간 배차간격 배차간격(일반) 배차간격(출퇴근) 배차간격(휴일)\n",
       "117   555  06:20  17:20  NaN      NaN        10      NaN"
      ]
     },
     "execution_count": 503,
     "metadata": {},
     "output_type": "execute_result"
    }
   ],
   "source": [
    "bus_time_data[bus_time_data['배차간격(휴일)'].isnull()]"
   ]
  },
  {
   "cell_type": "code",
   "execution_count": 504,
   "metadata": {},
   "outputs": [],
   "source": [
    "# '배차간격(출퇴근)' 데이터에는 null이 없지만\n",
    "# '배차간격(일반)' 데이터로 분석\n",
    "# -> null값 채운다"
   ]
  },
  {
   "cell_type": "code",
   "execution_count": 505,
   "metadata": {},
   "outputs": [
    {
     "name": "stderr",
     "output_type": "stream",
     "text": [
      "C:\\Users\\User\\Anaconda3\\lib\\site-packages\\pandas\\core\\indexing.py:189: SettingWithCopyWarning: \n",
      "A value is trying to be set on a copy of a slice from a DataFrame\n",
      "\n",
      "See the caveats in the documentation: http://pandas.pydata.org/pandas-docs/stable/indexing.html#indexing-view-versus-copy\n",
      "  self._setitem_with_indexer(indexer, value)\n",
      "C:\\Users\\User\\Anaconda3\\lib\\site-packages\\ipykernel_launcher.py:3: SettingWithCopyWarning: \n",
      "A value is trying to be set on a copy of a slice from a DataFrame\n",
      "\n",
      "See the caveats in the documentation: http://pandas.pydata.org/pandas-docs/stable/indexing.html#indexing-view-versus-copy\n",
      "  This is separate from the ipykernel package so we can avoid doing imports until\n"
     ]
    }
   ],
   "source": [
    "# bus_time_data[bus_time_data['배차간격(일반)'].isnull()]['배차간격(일반)'] = 10\n",
    "# 위 문장은 왜 안 되는가?\n",
    "bus_time_data.loc[bus_time_data['배차간격(일반)'].isnull(), '배차간격(일반)'] = '10'"
   ]
  },
  {
   "cell_type": "code",
   "execution_count": 506,
   "metadata": {},
   "outputs": [
    {
     "data": {
      "text/html": [
       "<div>\n",
       "<style scoped>\n",
       "    .dataframe tbody tr th:only-of-type {\n",
       "        vertical-align: middle;\n",
       "    }\n",
       "\n",
       "    .dataframe tbody tr th {\n",
       "        vertical-align: top;\n",
       "    }\n",
       "\n",
       "    .dataframe thead th {\n",
       "        text-align: right;\n",
       "    }\n",
       "</style>\n",
       "<table border=\"1\" class=\"dataframe\">\n",
       "  <thead>\n",
       "    <tr style=\"text-align: right;\">\n",
       "      <th></th>\n",
       "      <th>버스 번호</th>\n",
       "      <th>첫차 시간</th>\n",
       "      <th>막차 시간</th>\n",
       "      <th>배차간격</th>\n",
       "      <th>배차간격(일반)</th>\n",
       "      <th>배차간격(출퇴근)</th>\n",
       "      <th>배차간격(휴일)</th>\n",
       "    </tr>\n",
       "  </thead>\n",
       "  <tbody>\n",
       "  </tbody>\n",
       "</table>\n",
       "</div>"
      ],
      "text/plain": [
       "Empty DataFrame\n",
       "Columns: [버스 번호, 첫차 시간, 막차 시간, 배차간격, 배차간격(일반), 배차간격(출퇴근), 배차간격(휴일)]\n",
       "Index: []"
      ]
     },
     "execution_count": 506,
     "metadata": {},
     "output_type": "execute_result"
    }
   ],
   "source": [
    "bus_time_data[bus_time_data['배차간격(일반)'].isnull()]"
   ]
  },
  {
   "cell_type": "code",
   "execution_count": 507,
   "metadata": {},
   "outputs": [
    {
     "data": {
      "text/plain": [
       "array(['05:05', '04:30', '04:50', '05:00', '22:28', '22:20', '04:20',\n",
       "       '22:30', '22:00', '06:00', '05:20', '04:45', '04:55', '04:40',\n",
       "       '22:40', '05:30', '22:45', '05:10', '05:35', '04:35', '04:25',\n",
       "       '06:20', '05:15', '04:56', '04:48', '04:46', '07:50'], dtype=object)"
      ]
     },
     "execution_count": 507,
     "metadata": {},
     "output_type": "execute_result"
    }
   ],
   "source": [
    "bus_time_data['첫차 시간'].unique()"
   ]
  },
  {
   "cell_type": "code",
   "execution_count": 508,
   "metadata": {},
   "outputs": [
    {
     "data": {
      "text/plain": [
       "array(['22:40', '22:15', '21:50', '22:10', '23:55', '22:00', '23:00',\n",
       "       '22:20', '23:45', '21:40', '23:40', '20:20', '22:05', '23:10',\n",
       "       '20:50', '22:25', '21:45', '21:00', '22:30', '22:50', '22:19',\n",
       "       '21:20', '22:35', '21:55', '22:56', '22:06', '22:55', '23:05',\n",
       "       '23:35', '20:00', '22:45', '22:28', '23:52', '21:30', '17:20',\n",
       "       '22:24', '22:37', '22:43', nan, '22:13', '22:53'], dtype=object)"
      ]
     },
     "execution_count": 508,
     "metadata": {},
     "output_type": "execute_result"
    }
   ],
   "source": [
    "bus_time_data['막차 시간'].unique()"
   ]
  },
  {
   "cell_type": "code",
   "execution_count": 509,
   "metadata": {},
   "outputs": [
    {
     "data": {
      "text/html": [
       "<div>\n",
       "<style scoped>\n",
       "    .dataframe tbody tr th:only-of-type {\n",
       "        vertical-align: middle;\n",
       "    }\n",
       "\n",
       "    .dataframe tbody tr th {\n",
       "        vertical-align: top;\n",
       "    }\n",
       "\n",
       "    .dataframe thead th {\n",
       "        text-align: right;\n",
       "    }\n",
       "</style>\n",
       "<table border=\"1\" class=\"dataframe\">\n",
       "  <thead>\n",
       "    <tr style=\"text-align: right;\">\n",
       "      <th></th>\n",
       "      <th>버스 번호</th>\n",
       "      <th>첫차 시간</th>\n",
       "      <th>막차 시간</th>\n",
       "      <th>배차간격</th>\n",
       "      <th>배차간격(일반)</th>\n",
       "      <th>배차간격(출퇴근)</th>\n",
       "      <th>배차간격(휴일)</th>\n",
       "    </tr>\n",
       "  </thead>\n",
       "  <tbody>\n",
       "    <tr>\n",
       "      <th>135</th>\n",
       "      <td>73(아침)</td>\n",
       "      <td>05:00</td>\n",
       "      <td>NaN</td>\n",
       "      <td>NaN</td>\n",
       "      <td>60</td>\n",
       "      <td>60</td>\n",
       "      <td>60</td>\n",
       "    </tr>\n",
       "  </tbody>\n",
       "</table>\n",
       "</div>"
      ],
      "text/plain": [
       "      버스 번호  첫차 시간 막차 시간 배차간격 배차간격(일반) 배차간격(출퇴근) 배차간격(휴일)\n",
       "135  73(아침)  05:00   NaN  NaN       60        60       60"
      ]
     },
     "execution_count": 509,
     "metadata": {},
     "output_type": "execute_result"
    }
   ],
   "source": [
    "# 막차 시간 nan값 처리 & 첫차 값 수정\n",
    "bus_time_data[bus_time_data['막차 시간'].isnull()]"
   ]
  },
  {
   "cell_type": "code",
   "execution_count": 510,
   "metadata": {},
   "outputs": [
    {
     "name": "stderr",
     "output_type": "stream",
     "text": [
      "C:\\Users\\User\\Anaconda3\\lib\\site-packages\\pandas\\core\\indexing.py:189: SettingWithCopyWarning: \n",
      "A value is trying to be set on a copy of a slice from a DataFrame\n",
      "\n",
      "See the caveats in the documentation: http://pandas.pydata.org/pandas-docs/stable/indexing.html#indexing-view-versus-copy\n",
      "  self._setitem_with_indexer(indexer, value)\n",
      "C:\\Users\\User\\Anaconda3\\lib\\site-packages\\ipykernel_launcher.py:3: SettingWithCopyWarning: \n",
      "A value is trying to be set on a copy of a slice from a DataFrame\n",
      "\n",
      "See the caveats in the documentation: http://pandas.pydata.org/pandas-docs/stable/indexing.html#indexing-view-versus-copy\n",
      "  This is separate from the ipykernel package so we can avoid doing imports until\n",
      "C:\\Users\\User\\Anaconda3\\lib\\site-packages\\ipykernel_launcher.py:4: SettingWithCopyWarning: \n",
      "A value is trying to be set on a copy of a slice from a DataFrame\n",
      "\n",
      "See the caveats in the documentation: http://pandas.pydata.org/pandas-docs/stable/indexing.html#indexing-view-versus-copy\n",
      "  after removing the cwd from sys.path.\n"
     ]
    }
   ],
   "source": [
    "# 73(아침) 실제 첫차 시간 07:00\n",
    "# 73(아침) 실제 막차 시간 09:00\n",
    "bus_time_data.loc[bus_time_data['막차 시간'].isnull(), '첫차 시간'] = '07:00'\n",
    "bus_time_data.loc[bus_time_data['막차 시간'].isnull(), '막차 시간'] = '09:00'"
   ]
  },
  {
   "cell_type": "code",
   "execution_count": 511,
   "metadata": {},
   "outputs": [
    {
     "data": {
      "text/html": [
       "<div>\n",
       "<style scoped>\n",
       "    .dataframe tbody tr th:only-of-type {\n",
       "        vertical-align: middle;\n",
       "    }\n",
       "\n",
       "    .dataframe tbody tr th {\n",
       "        vertical-align: top;\n",
       "    }\n",
       "\n",
       "    .dataframe thead th {\n",
       "        text-align: right;\n",
       "    }\n",
       "</style>\n",
       "<table border=\"1\" class=\"dataframe\">\n",
       "  <thead>\n",
       "    <tr style=\"text-align: right;\">\n",
       "      <th></th>\n",
       "      <th>버스 번호</th>\n",
       "      <th>첫차 시간</th>\n",
       "      <th>막차 시간</th>\n",
       "      <th>배차간격</th>\n",
       "      <th>배차간격(일반)</th>\n",
       "      <th>배차간격(출퇴근)</th>\n",
       "      <th>배차간격(휴일)</th>\n",
       "    </tr>\n",
       "  </thead>\n",
       "  <tbody>\n",
       "    <tr>\n",
       "      <th>135</th>\n",
       "      <td>73(아침)</td>\n",
       "      <td>07:00</td>\n",
       "      <td>09:00</td>\n",
       "      <td>NaN</td>\n",
       "      <td>60</td>\n",
       "      <td>60</td>\n",
       "      <td>60</td>\n",
       "    </tr>\n",
       "  </tbody>\n",
       "</table>\n",
       "</div>"
      ],
      "text/plain": [
       "      버스 번호  첫차 시간  막차 시간 배차간격 배차간격(일반) 배차간격(출퇴근) 배차간격(휴일)\n",
       "135  73(아침)  07:00  09:00  NaN       60        60       60"
      ]
     },
     "execution_count": 511,
     "metadata": {},
     "output_type": "execute_result"
    }
   ],
   "source": [
    "bus_time_data[bus_time_data['버스 번호']=='73(아침)']"
   ]
  },
  {
   "cell_type": "code",
   "execution_count": 512,
   "metadata": {},
   "outputs": [],
   "source": [
    "bus_time_data = bus_time_data.iloc[:, [0, 1, 2, 4]]"
   ]
  },
  {
   "cell_type": "code",
   "execution_count": 513,
   "metadata": {},
   "outputs": [
    {
     "data": {
      "text/html": [
       "<div>\n",
       "<style scoped>\n",
       "    .dataframe tbody tr th:only-of-type {\n",
       "        vertical-align: middle;\n",
       "    }\n",
       "\n",
       "    .dataframe tbody tr th {\n",
       "        vertical-align: top;\n",
       "    }\n",
       "\n",
       "    .dataframe thead th {\n",
       "        text-align: right;\n",
       "    }\n",
       "</style>\n",
       "<table border=\"1\" class=\"dataframe\">\n",
       "  <thead>\n",
       "    <tr style=\"text-align: right;\">\n",
       "      <th></th>\n",
       "      <th>버스 번호</th>\n",
       "      <th>첫차 시간</th>\n",
       "      <th>막차 시간</th>\n",
       "      <th>배차간격(일반)</th>\n",
       "    </tr>\n",
       "  </thead>\n",
       "  <tbody>\n",
       "    <tr>\n",
       "      <th>0</th>\n",
       "      <td>1</td>\n",
       "      <td>05:05</td>\n",
       "      <td>22:40</td>\n",
       "      <td>21</td>\n",
       "    </tr>\n",
       "    <tr>\n",
       "      <th>1</th>\n",
       "      <td>10</td>\n",
       "      <td>04:30</td>\n",
       "      <td>22:15</td>\n",
       "      <td>9-10</td>\n",
       "    </tr>\n",
       "    <tr>\n",
       "      <th>2</th>\n",
       "      <td>100</td>\n",
       "      <td>04:50</td>\n",
       "      <td>21:50</td>\n",
       "      <td>15</td>\n",
       "    </tr>\n",
       "    <tr>\n",
       "      <th>3</th>\n",
       "      <td>100-1</td>\n",
       "      <td>05:00</td>\n",
       "      <td>22:10</td>\n",
       "      <td>10</td>\n",
       "    </tr>\n",
       "    <tr>\n",
       "      <th>4</th>\n",
       "      <td>1000</td>\n",
       "      <td>05:00</td>\n",
       "      <td>22:15</td>\n",
       "      <td>13</td>\n",
       "    </tr>\n",
       "  </tbody>\n",
       "</table>\n",
       "</div>"
      ],
      "text/plain": [
       "   버스 번호  첫차 시간  막차 시간 배차간격(일반)\n",
       "0      1  05:05  22:40       21\n",
       "1     10  04:30  22:15     9-10\n",
       "2    100  04:50  21:50       15\n",
       "3  100-1  05:00  22:10       10\n",
       "4   1000  05:00  22:15       13"
      ]
     },
     "execution_count": 513,
     "metadata": {},
     "output_type": "execute_result"
    }
   ],
   "source": [
    "bus_time_data.head()"
   ]
  },
  {
   "cell_type": "code",
   "execution_count": 514,
   "metadata": {},
   "outputs": [],
   "source": [
    "# 정규표현식 사용해서 계산\n",
    "import re"
   ]
  },
  {
   "cell_type": "code",
   "execution_count": 515,
   "metadata": {},
   "outputs": [],
   "source": [
    "# 시간 → 분 변경 함수\n",
    "p = re.compile('(\\d+):(\\d+)')\n",
    "def changeToMin(x) :\n",
    "    m = p.match(x)\n",
    "    return int(m.groups()[0])*60+int(m.groups()[1])"
   ]
  },
  {
   "cell_type": "code",
   "execution_count": 516,
   "metadata": {},
   "outputs": [],
   "source": [
    "bus_time_data['계산'] = bus_time_data['막차 시간'].apply( changeToMin ) - bus_time_data['첫차 시간'].apply( changeToMin )"
   ]
  },
  {
   "cell_type": "code",
   "execution_count": 517,
   "metadata": {
    "scrolled": true
   },
   "outputs": [
    {
     "data": {
      "text/html": [
       "<div>\n",
       "<style scoped>\n",
       "    .dataframe tbody tr th:only-of-type {\n",
       "        vertical-align: middle;\n",
       "    }\n",
       "\n",
       "    .dataframe tbody tr th {\n",
       "        vertical-align: top;\n",
       "    }\n",
       "\n",
       "    .dataframe thead th {\n",
       "        text-align: right;\n",
       "    }\n",
       "</style>\n",
       "<table border=\"1\" class=\"dataframe\">\n",
       "  <thead>\n",
       "    <tr style=\"text-align: right;\">\n",
       "      <th></th>\n",
       "      <th>버스 번호</th>\n",
       "      <th>첫차 시간</th>\n",
       "      <th>막차 시간</th>\n",
       "      <th>배차간격(일반)</th>\n",
       "      <th>계산</th>\n",
       "    </tr>\n",
       "  </thead>\n",
       "  <tbody>\n",
       "    <tr>\n",
       "      <th>0</th>\n",
       "      <td>1</td>\n",
       "      <td>05:05</td>\n",
       "      <td>22:40</td>\n",
       "      <td>21</td>\n",
       "      <td>1055</td>\n",
       "    </tr>\n",
       "    <tr>\n",
       "      <th>1</th>\n",
       "      <td>10</td>\n",
       "      <td>04:30</td>\n",
       "      <td>22:15</td>\n",
       "      <td>9-10</td>\n",
       "      <td>1065</td>\n",
       "    </tr>\n",
       "    <tr>\n",
       "      <th>2</th>\n",
       "      <td>100</td>\n",
       "      <td>04:50</td>\n",
       "      <td>21:50</td>\n",
       "      <td>15</td>\n",
       "      <td>1020</td>\n",
       "    </tr>\n",
       "    <tr>\n",
       "      <th>3</th>\n",
       "      <td>100-1</td>\n",
       "      <td>05:00</td>\n",
       "      <td>22:10</td>\n",
       "      <td>10</td>\n",
       "      <td>1030</td>\n",
       "    </tr>\n",
       "    <tr>\n",
       "      <th>4</th>\n",
       "      <td>1000</td>\n",
       "      <td>05:00</td>\n",
       "      <td>22:15</td>\n",
       "      <td>13</td>\n",
       "      <td>1035</td>\n",
       "    </tr>\n",
       "  </tbody>\n",
       "</table>\n",
       "</div>"
      ],
      "text/plain": [
       "   버스 번호  첫차 시간  막차 시간 배차간격(일반)    계산\n",
       "0      1  05:05  22:40       21  1055\n",
       "1     10  04:30  22:15     9-10  1065\n",
       "2    100  04:50  21:50       15  1020\n",
       "3  100-1  05:00  22:10       10  1030\n",
       "4   1000  05:00  22:15       13  1035"
      ]
     },
     "execution_count": 517,
     "metadata": {},
     "output_type": "execute_result"
    }
   ],
   "source": [
    "bus_time_data.head()"
   ]
  },
  {
   "cell_type": "code",
   "execution_count": 518,
   "metadata": {},
   "outputs": [
    {
     "data": {
      "text/plain": [
       "array(['21', '9-10', '15', '10', '13', '9', '18', '11', '30', '32', '27',\n",
       "       '12', '40', '8', '25', '14', '7', '20', '6~8', '23', '6', '12~13',\n",
       "       '16', '22', '5', '5~6', '17', '45', '50', '10~12', '16~18',\n",
       "       '11~12', '4~5', '52', '29', '19', '56', '21~24', '8~10', '24',\n",
       "       '60', '6~7', '28'], dtype=object)"
      ]
     },
     "execution_count": 518,
     "metadata": {},
     "output_type": "execute_result"
    }
   ],
   "source": [
    "bus_time_data['배차간격(일반)'].unique()"
   ]
  },
  {
   "cell_type": "code",
   "execution_count": 519,
   "metadata": {},
   "outputs": [],
   "source": [
    "# '배차간격(일반)' 데이터\n",
    "# 정규식으로 나눌 수 있는 숫자로 변환\n",
    "p = re.compile('(\\d+)\\s*')"
   ]
  },
  {
   "cell_type": "code",
   "execution_count": 520,
   "metadata": {},
   "outputs": [],
   "source": [
    "tmp = []\n",
    "for minute in bus_time_data['배차간격(일반)'] :\n",
    "    m = p.findall(minute)\n",
    "    tmp.append(int(m[0]))"
   ]
  },
  {
   "cell_type": "code",
   "execution_count": 521,
   "metadata": {},
   "outputs": [],
   "source": [
    "bus_time_data['배차간격_수정'] = tmp"
   ]
  },
  {
   "cell_type": "code",
   "execution_count": 522,
   "metadata": {
    "scrolled": true
   },
   "outputs": [
    {
     "data": {
      "text/html": [
       "<div>\n",
       "<style scoped>\n",
       "    .dataframe tbody tr th:only-of-type {\n",
       "        vertical-align: middle;\n",
       "    }\n",
       "\n",
       "    .dataframe tbody tr th {\n",
       "        vertical-align: top;\n",
       "    }\n",
       "\n",
       "    .dataframe thead th {\n",
       "        text-align: right;\n",
       "    }\n",
       "</style>\n",
       "<table border=\"1\" class=\"dataframe\">\n",
       "  <thead>\n",
       "    <tr style=\"text-align: right;\">\n",
       "      <th></th>\n",
       "      <th>버스 번호</th>\n",
       "      <th>첫차 시간</th>\n",
       "      <th>막차 시간</th>\n",
       "      <th>배차간격(일반)</th>\n",
       "      <th>계산</th>\n",
       "      <th>배차간격_수정</th>\n",
       "    </tr>\n",
       "  </thead>\n",
       "  <tbody>\n",
       "    <tr>\n",
       "      <th>0</th>\n",
       "      <td>1</td>\n",
       "      <td>05:05</td>\n",
       "      <td>22:40</td>\n",
       "      <td>21</td>\n",
       "      <td>1055</td>\n",
       "      <td>21</td>\n",
       "    </tr>\n",
       "    <tr>\n",
       "      <th>1</th>\n",
       "      <td>10</td>\n",
       "      <td>04:30</td>\n",
       "      <td>22:15</td>\n",
       "      <td>9-10</td>\n",
       "      <td>1065</td>\n",
       "      <td>9</td>\n",
       "    </tr>\n",
       "    <tr>\n",
       "      <th>2</th>\n",
       "      <td>100</td>\n",
       "      <td>04:50</td>\n",
       "      <td>21:50</td>\n",
       "      <td>15</td>\n",
       "      <td>1020</td>\n",
       "      <td>15</td>\n",
       "    </tr>\n",
       "    <tr>\n",
       "      <th>3</th>\n",
       "      <td>100-1</td>\n",
       "      <td>05:00</td>\n",
       "      <td>22:10</td>\n",
       "      <td>10</td>\n",
       "      <td>1030</td>\n",
       "      <td>10</td>\n",
       "    </tr>\n",
       "    <tr>\n",
       "      <th>4</th>\n",
       "      <td>1000</td>\n",
       "      <td>05:00</td>\n",
       "      <td>22:15</td>\n",
       "      <td>13</td>\n",
       "      <td>1035</td>\n",
       "      <td>13</td>\n",
       "    </tr>\n",
       "  </tbody>\n",
       "</table>\n",
       "</div>"
      ],
      "text/plain": [
       "   버스 번호  첫차 시간  막차 시간 배차간격(일반)    계산  배차간격_수정\n",
       "0      1  05:05  22:40       21  1055       21\n",
       "1     10  04:30  22:15     9-10  1065        9\n",
       "2    100  04:50  21:50       15  1020       15\n",
       "3  100-1  05:00  22:10       10  1030       10\n",
       "4   1000  05:00  22:15       13  1035       13"
      ]
     },
     "execution_count": 522,
     "metadata": {},
     "output_type": "execute_result"
    }
   ],
   "source": [
    "bus_time_data.head()"
   ]
  },
  {
   "cell_type": "code",
   "execution_count": 523,
   "metadata": {},
   "outputs": [],
   "source": [
    "bus_time_data['1일 정류횟수'] = (bus_time_data['계산'] // bus_time_data['배차간격_수정']) +1"
   ]
  },
  {
   "cell_type": "code",
   "execution_count": 524,
   "metadata": {
    "scrolled": true
   },
   "outputs": [
    {
     "data": {
      "text/html": [
       "<div>\n",
       "<style scoped>\n",
       "    .dataframe tbody tr th:only-of-type {\n",
       "        vertical-align: middle;\n",
       "    }\n",
       "\n",
       "    .dataframe tbody tr th {\n",
       "        vertical-align: top;\n",
       "    }\n",
       "\n",
       "    .dataframe thead th {\n",
       "        text-align: right;\n",
       "    }\n",
       "</style>\n",
       "<table border=\"1\" class=\"dataframe\">\n",
       "  <thead>\n",
       "    <tr style=\"text-align: right;\">\n",
       "      <th></th>\n",
       "      <th>버스 번호</th>\n",
       "      <th>첫차 시간</th>\n",
       "      <th>막차 시간</th>\n",
       "      <th>배차간격(일반)</th>\n",
       "      <th>계산</th>\n",
       "      <th>배차간격_수정</th>\n",
       "      <th>1일 정류횟수</th>\n",
       "    </tr>\n",
       "  </thead>\n",
       "  <tbody>\n",
       "    <tr>\n",
       "      <th>0</th>\n",
       "      <td>1</td>\n",
       "      <td>05:05</td>\n",
       "      <td>22:40</td>\n",
       "      <td>21</td>\n",
       "      <td>1055</td>\n",
       "      <td>21</td>\n",
       "      <td>51</td>\n",
       "    </tr>\n",
       "    <tr>\n",
       "      <th>1</th>\n",
       "      <td>10</td>\n",
       "      <td>04:30</td>\n",
       "      <td>22:15</td>\n",
       "      <td>9-10</td>\n",
       "      <td>1065</td>\n",
       "      <td>9</td>\n",
       "      <td>119</td>\n",
       "    </tr>\n",
       "    <tr>\n",
       "      <th>2</th>\n",
       "      <td>100</td>\n",
       "      <td>04:50</td>\n",
       "      <td>21:50</td>\n",
       "      <td>15</td>\n",
       "      <td>1020</td>\n",
       "      <td>15</td>\n",
       "      <td>69</td>\n",
       "    </tr>\n",
       "    <tr>\n",
       "      <th>3</th>\n",
       "      <td>100-1</td>\n",
       "      <td>05:00</td>\n",
       "      <td>22:10</td>\n",
       "      <td>10</td>\n",
       "      <td>1030</td>\n",
       "      <td>10</td>\n",
       "      <td>104</td>\n",
       "    </tr>\n",
       "    <tr>\n",
       "      <th>4</th>\n",
       "      <td>1000</td>\n",
       "      <td>05:00</td>\n",
       "      <td>22:15</td>\n",
       "      <td>13</td>\n",
       "      <td>1035</td>\n",
       "      <td>13</td>\n",
       "      <td>80</td>\n",
       "    </tr>\n",
       "  </tbody>\n",
       "</table>\n",
       "</div>"
      ],
      "text/plain": [
       "   버스 번호  첫차 시간  막차 시간 배차간격(일반)    계산  배차간격_수정  1일 정류횟수\n",
       "0      1  05:05  22:40       21  1055       21       51\n",
       "1     10  04:30  22:15     9-10  1065        9      119\n",
       "2    100  04:50  21:50       15  1020       15       69\n",
       "3  100-1  05:00  22:10       10  1030       10      104\n",
       "4   1000  05:00  22:15       13  1035       13       80"
      ]
     },
     "execution_count": 524,
     "metadata": {},
     "output_type": "execute_result"
    }
   ],
   "source": [
    "bus_time_data.head()"
   ]
  },
  {
   "cell_type": "code",
   "execution_count": 525,
   "metadata": {},
   "outputs": [
    {
     "data": {
      "text/html": [
       "<div>\n",
       "<style scoped>\n",
       "    .dataframe tbody tr th:only-of-type {\n",
       "        vertical-align: middle;\n",
       "    }\n",
       "\n",
       "    .dataframe tbody tr th {\n",
       "        vertical-align: top;\n",
       "    }\n",
       "\n",
       "    .dataframe thead th {\n",
       "        text-align: right;\n",
       "    }\n",
       "</style>\n",
       "<table border=\"1\" class=\"dataframe\">\n",
       "  <thead>\n",
       "    <tr style=\"text-align: right;\">\n",
       "      <th></th>\n",
       "      <th>BUSLINENUM</th>\n",
       "      <th>NAME</th>\n",
       "      <th>SIGUNNAME</th>\n",
       "      <th>GUNAME</th>\n",
       "      <th>X</th>\n",
       "      <th>Y</th>\n",
       "      <th>BUSSTOPID</th>\n",
       "    </tr>\n",
       "  </thead>\n",
       "  <tbody>\n",
       "    <tr>\n",
       "      <th>0</th>\n",
       "      <td>1</td>\n",
       "      <td>기점</td>\n",
       "      <td>부산광역시</td>\n",
       "      <td>수영구</td>\n",
       "      <td>129.127115</td>\n",
       "      <td>35.159515</td>\n",
       "      <td>21140601002</td>\n",
       "    </tr>\n",
       "    <tr>\n",
       "      <th>1</th>\n",
       "      <td>1</td>\n",
       "      <td>MBC방송국</td>\n",
       "      <td>부산광역시</td>\n",
       "      <td>수영구</td>\n",
       "      <td>129.126416</td>\n",
       "      <td>35.159658</td>\n",
       "      <td>21140601013</td>\n",
       "    </tr>\n",
       "    <tr>\n",
       "      <th>2</th>\n",
       "      <td>1</td>\n",
       "      <td>민락동골목시장</td>\n",
       "      <td>부산광역시</td>\n",
       "      <td>수영구</td>\n",
       "      <td>129.123045</td>\n",
       "      <td>35.158969</td>\n",
       "      <td>21140601006</td>\n",
       "    </tr>\n",
       "    <tr>\n",
       "      <th>3</th>\n",
       "      <td>1</td>\n",
       "      <td>광안농협앞</td>\n",
       "      <td>부산광역시</td>\n",
       "      <td>수영구</td>\n",
       "      <td>129.120022</td>\n",
       "      <td>35.157650</td>\n",
       "      <td>21140571002</td>\n",
       "    </tr>\n",
       "    <tr>\n",
       "      <th>4</th>\n",
       "      <td>1</td>\n",
       "      <td>광안리해수욕장</td>\n",
       "      <td>부산광역시</td>\n",
       "      <td>수영구</td>\n",
       "      <td>129.116613</td>\n",
       "      <td>35.155443</td>\n",
       "      <td>21140571001</td>\n",
       "    </tr>\n",
       "  </tbody>\n",
       "</table>\n",
       "</div>"
      ],
      "text/plain": [
       "  BUSLINENUM     NAME SIGUNNAME GUNAME           X          Y    BUSSTOPID\n",
       "0          1       기점     부산광역시    수영구  129.127115  35.159515  21140601002\n",
       "1          1   MBC방송국     부산광역시    수영구  129.126416  35.159658  21140601013\n",
       "2          1  민락동골목시장     부산광역시    수영구  129.123045  35.158969  21140601006\n",
       "3          1    광안농협앞     부산광역시    수영구  129.120022  35.157650  21140571002\n",
       "4          1  광안리해수욕장     부산광역시    수영구  129.116613  35.155443  21140571001"
      ]
     },
     "execution_count": 525,
     "metadata": {},
     "output_type": "execute_result"
    }
   ],
   "source": [
    "busstop_busan_oneday = busstop_busan[:]\n",
    "busstop_busan_oneday.head()"
   ]
  },
  {
   "cell_type": "code",
   "execution_count": 526,
   "metadata": {
    "scrolled": false
   },
   "outputs": [],
   "source": [
    "bus_cnt_per_day = []\n",
    "for busnum in busstop_busan['BUSLINENUM'] :\n",
    "    bus_cnt_per_day.append(bus_time_data[bus_time_data['버스 번호'] == busnum]['1일 정류횟수'].values[0])"
   ]
  },
  {
   "cell_type": "code",
   "execution_count": 527,
   "metadata": {},
   "outputs": [
    {
     "name": "stderr",
     "output_type": "stream",
     "text": [
      "C:\\Users\\User\\Anaconda3\\lib\\site-packages\\ipykernel_launcher.py:1: SettingWithCopyWarning: \n",
      "A value is trying to be set on a copy of a slice from a DataFrame.\n",
      "Try using .loc[row_indexer,col_indexer] = value instead\n",
      "\n",
      "See the caveats in the documentation: http://pandas.pydata.org/pandas-docs/stable/indexing.html#indexing-view-versus-copy\n",
      "  \"\"\"Entry point for launching an IPython kernel.\n"
     ]
    }
   ],
   "source": [
    "busstop_busan_oneday['COUNT'] =  bus_cnt_per_day"
   ]
  },
  {
   "cell_type": "code",
   "execution_count": 528,
   "metadata": {},
   "outputs": [
    {
     "data": {
      "text/html": [
       "<div>\n",
       "<style scoped>\n",
       "    .dataframe tbody tr th:only-of-type {\n",
       "        vertical-align: middle;\n",
       "    }\n",
       "\n",
       "    .dataframe tbody tr th {\n",
       "        vertical-align: top;\n",
       "    }\n",
       "\n",
       "    .dataframe thead th {\n",
       "        text-align: right;\n",
       "    }\n",
       "</style>\n",
       "<table border=\"1\" class=\"dataframe\">\n",
       "  <thead>\n",
       "    <tr style=\"text-align: right;\">\n",
       "      <th></th>\n",
       "      <th>BUSLINENUM</th>\n",
       "      <th>NAME</th>\n",
       "      <th>SIGUNNAME</th>\n",
       "      <th>GUNAME</th>\n",
       "      <th>X</th>\n",
       "      <th>Y</th>\n",
       "      <th>BUSSTOPID</th>\n",
       "      <th>COUNT</th>\n",
       "    </tr>\n",
       "  </thead>\n",
       "  <tbody>\n",
       "    <tr>\n",
       "      <th>0</th>\n",
       "      <td>1</td>\n",
       "      <td>기점</td>\n",
       "      <td>부산광역시</td>\n",
       "      <td>수영구</td>\n",
       "      <td>129.127115</td>\n",
       "      <td>35.159515</td>\n",
       "      <td>21140601002</td>\n",
       "      <td>51</td>\n",
       "    </tr>\n",
       "    <tr>\n",
       "      <th>1</th>\n",
       "      <td>1</td>\n",
       "      <td>MBC방송국</td>\n",
       "      <td>부산광역시</td>\n",
       "      <td>수영구</td>\n",
       "      <td>129.126416</td>\n",
       "      <td>35.159658</td>\n",
       "      <td>21140601013</td>\n",
       "      <td>51</td>\n",
       "    </tr>\n",
       "    <tr>\n",
       "      <th>2</th>\n",
       "      <td>1</td>\n",
       "      <td>민락동골목시장</td>\n",
       "      <td>부산광역시</td>\n",
       "      <td>수영구</td>\n",
       "      <td>129.123045</td>\n",
       "      <td>35.158969</td>\n",
       "      <td>21140601006</td>\n",
       "      <td>51</td>\n",
       "    </tr>\n",
       "    <tr>\n",
       "      <th>3</th>\n",
       "      <td>1</td>\n",
       "      <td>광안농협앞</td>\n",
       "      <td>부산광역시</td>\n",
       "      <td>수영구</td>\n",
       "      <td>129.120022</td>\n",
       "      <td>35.157650</td>\n",
       "      <td>21140571002</td>\n",
       "      <td>51</td>\n",
       "    </tr>\n",
       "    <tr>\n",
       "      <th>4</th>\n",
       "      <td>1</td>\n",
       "      <td>광안리해수욕장</td>\n",
       "      <td>부산광역시</td>\n",
       "      <td>수영구</td>\n",
       "      <td>129.116613</td>\n",
       "      <td>35.155443</td>\n",
       "      <td>21140571001</td>\n",
       "      <td>51</td>\n",
       "    </tr>\n",
       "    <tr>\n",
       "      <th>5</th>\n",
       "      <td>1</td>\n",
       "      <td>광안리입구</td>\n",
       "      <td>부산광역시</td>\n",
       "      <td>수영구</td>\n",
       "      <td>129.114244</td>\n",
       "      <td>35.156937</td>\n",
       "      <td>21140571008</td>\n",
       "      <td>51</td>\n",
       "    </tr>\n",
       "    <tr>\n",
       "      <th>6</th>\n",
       "      <td>1</td>\n",
       "      <td>광안역</td>\n",
       "      <td>부산광역시</td>\n",
       "      <td>수영구</td>\n",
       "      <td>129.113388</td>\n",
       "      <td>35.158245</td>\n",
       "      <td>21140571010</td>\n",
       "      <td>51</td>\n",
       "    </tr>\n",
       "    <tr>\n",
       "      <th>7</th>\n",
       "      <td>1</td>\n",
       "      <td>수영역</td>\n",
       "      <td>부산광역시</td>\n",
       "      <td>수영구</td>\n",
       "      <td>129.114436</td>\n",
       "      <td>35.163282</td>\n",
       "      <td>21140561008</td>\n",
       "      <td>51</td>\n",
       "    </tr>\n",
       "    <tr>\n",
       "      <th>8</th>\n",
       "      <td>1</td>\n",
       "      <td>수영사적공원</td>\n",
       "      <td>부산광역시</td>\n",
       "      <td>수영구</td>\n",
       "      <td>129.113046</td>\n",
       "      <td>35.168964</td>\n",
       "      <td>21140531010</td>\n",
       "      <td>51</td>\n",
       "    </tr>\n",
       "    <tr>\n",
       "      <th>9</th>\n",
       "      <td>1</td>\n",
       "      <td>수영아파트</td>\n",
       "      <td>부산광역시</td>\n",
       "      <td>수영구</td>\n",
       "      <td>129.110794</td>\n",
       "      <td>35.170500</td>\n",
       "      <td>21140531012</td>\n",
       "      <td>51</td>\n",
       "    </tr>\n",
       "  </tbody>\n",
       "</table>\n",
       "</div>"
      ],
      "text/plain": [
       "  BUSLINENUM     NAME SIGUNNAME GUNAME           X          Y    BUSSTOPID  \\\n",
       "0          1       기점     부산광역시    수영구  129.127115  35.159515  21140601002   \n",
       "1          1   MBC방송국     부산광역시    수영구  129.126416  35.159658  21140601013   \n",
       "2          1  민락동골목시장     부산광역시    수영구  129.123045  35.158969  21140601006   \n",
       "3          1    광안농협앞     부산광역시    수영구  129.120022  35.157650  21140571002   \n",
       "4          1  광안리해수욕장     부산광역시    수영구  129.116613  35.155443  21140571001   \n",
       "5          1    광안리입구     부산광역시    수영구  129.114244  35.156937  21140571008   \n",
       "6          1      광안역     부산광역시    수영구  129.113388  35.158245  21140571010   \n",
       "7          1      수영역     부산광역시    수영구  129.114436  35.163282  21140561008   \n",
       "8          1   수영사적공원     부산광역시    수영구  129.113046  35.168964  21140531010   \n",
       "9          1    수영아파트     부산광역시    수영구  129.110794  35.170500  21140531012   \n",
       "\n",
       "   COUNT  \n",
       "0     51  \n",
       "1     51  \n",
       "2     51  \n",
       "3     51  \n",
       "4     51  \n",
       "5     51  \n",
       "6     51  \n",
       "7     51  \n",
       "8     51  \n",
       "9     51  "
      ]
     },
     "execution_count": 528,
     "metadata": {},
     "output_type": "execute_result"
    }
   ],
   "source": [
    "busstop_busan_oneday.head(10)"
   ]
  },
  {
   "cell_type": "code",
   "execution_count": 529,
   "metadata": {},
   "outputs": [
    {
     "data": {
      "text/html": [
       "<div>\n",
       "<style scoped>\n",
       "    .dataframe tbody tr th:only-of-type {\n",
       "        vertical-align: middle;\n",
       "    }\n",
       "\n",
       "    .dataframe tbody tr th {\n",
       "        vertical-align: top;\n",
       "    }\n",
       "\n",
       "    .dataframe thead th {\n",
       "        text-align: right;\n",
       "    }\n",
       "</style>\n",
       "<table border=\"1\" class=\"dataframe\">\n",
       "  <thead>\n",
       "    <tr style=\"text-align: right;\">\n",
       "      <th></th>\n",
       "      <th>BUSSTOPID</th>\n",
       "      <th>COUNT</th>\n",
       "    </tr>\n",
       "  </thead>\n",
       "  <tbody>\n",
       "    <tr>\n",
       "      <th>0</th>\n",
       "      <td>21140601002</td>\n",
       "      <td>51</td>\n",
       "    </tr>\n",
       "    <tr>\n",
       "      <th>1</th>\n",
       "      <td>21140601013</td>\n",
       "      <td>51</td>\n",
       "    </tr>\n",
       "    <tr>\n",
       "      <th>2</th>\n",
       "      <td>21140601006</td>\n",
       "      <td>51</td>\n",
       "    </tr>\n",
       "    <tr>\n",
       "      <th>3</th>\n",
       "      <td>21140571002</td>\n",
       "      <td>51</td>\n",
       "    </tr>\n",
       "    <tr>\n",
       "      <th>4</th>\n",
       "      <td>21140571001</td>\n",
       "      <td>51</td>\n",
       "    </tr>\n",
       "  </tbody>\n",
       "</table>\n",
       "</div>"
      ],
      "text/plain": [
       "     BUSSTOPID  COUNT\n",
       "0  21140601002     51\n",
       "1  21140601013     51\n",
       "2  21140601006     51\n",
       "3  21140571002     51\n",
       "4  21140571001     51"
      ]
     },
     "execution_count": 529,
     "metadata": {},
     "output_type": "execute_result"
    }
   ],
   "source": [
    "busstop_busan_oneday = busstop_busan_oneday.iloc[:, -2:]\n",
    "busstop_busan_oneday.head()"
   ]
  },
  {
   "cell_type": "code",
   "execution_count": 530,
   "metadata": {},
   "outputs": [],
   "source": [
    "busstop_busan_oneday = pd.pivot_table(busstop_busan_oneday, index = 'BUSSTOPID', values = 'COUNT', aggfunc = [np.sum])"
   ]
  },
  {
   "cell_type": "code",
   "execution_count": 531,
   "metadata": {},
   "outputs": [
    {
     "data": {
      "text/html": [
       "<div>\n",
       "<style scoped>\n",
       "    .dataframe tbody tr th:only-of-type {\n",
       "        vertical-align: middle;\n",
       "    }\n",
       "\n",
       "    .dataframe tbody tr th {\n",
       "        vertical-align: top;\n",
       "    }\n",
       "\n",
       "    .dataframe thead th {\n",
       "        text-align: right;\n",
       "    }\n",
       "</style>\n",
       "<table border=\"1\" class=\"dataframe\">\n",
       "  <thead>\n",
       "    <tr style=\"text-align: right;\">\n",
       "      <th></th>\n",
       "      <th>COUNT</th>\n",
       "    </tr>\n",
       "    <tr>\n",
       "      <th>BUSSTOPID</th>\n",
       "      <th></th>\n",
       "    </tr>\n",
       "  </thead>\n",
       "  <tbody>\n",
       "    <tr>\n",
       "      <th>21010511001</th>\n",
       "      <td>467</td>\n",
       "    </tr>\n",
       "    <tr>\n",
       "      <th>21010511003</th>\n",
       "      <td>508</td>\n",
       "    </tr>\n",
       "    <tr>\n",
       "      <th>21010511004</th>\n",
       "      <td>2009</td>\n",
       "    </tr>\n",
       "    <tr>\n",
       "      <th>21010511005</th>\n",
       "      <td>81</td>\n",
       "    </tr>\n",
       "    <tr>\n",
       "      <th>21010511006</th>\n",
       "      <td>81</td>\n",
       "    </tr>\n",
       "  </tbody>\n",
       "</table>\n",
       "</div>"
      ],
      "text/plain": [
       "             COUNT\n",
       "BUSSTOPID         \n",
       "21010511001    467\n",
       "21010511003    508\n",
       "21010511004   2009\n",
       "21010511005     81\n",
       "21010511006     81"
      ]
     },
     "execution_count": 531,
     "metadata": {},
     "output_type": "execute_result"
    }
   ],
   "source": [
    "busstop_busan_oneday = pd.DataFrame(busstop_busan_oneday.values, index = busstop_busan_oneday.index)\n",
    "busstop_busan_oneday = busstop_busan_oneday.rename(columns={\n",
    "    0 : 'COUNT'\n",
    "})\n",
    "busstop_busan_oneday.head()"
   ]
  },
  {
   "cell_type": "code",
   "execution_count": 532,
   "metadata": {},
   "outputs": [],
   "source": [
    "# 각 id에 해당하는 버스정류장, 위도, 경도, 자치구 찾기\n",
    "names = []\n",
    "ys = []\n",
    "xs = []\n",
    "gus = []\n",
    "for id in busstop_busan_oneday.index :\n",
    "    names.append(busstop_busan[ busstop_busan['BUSSTOPID']==id ]['NAME'].values[0])\n",
    "    ys.append(busstop_busan[ busstop_busan['BUSSTOPID']==id ]['Y'].values[0])\n",
    "    xs.append(busstop_busan[ busstop_busan['BUSSTOPID']==id ]['X'].values[0])\n",
    "    gus.append(busstop_busan[ busstop_busan['BUSSTOPID']==id ]['GUNAME'].values[0])"
   ]
  },
  {
   "cell_type": "code",
   "execution_count": 533,
   "metadata": {},
   "outputs": [],
   "source": [
    "busstop_busan_oneday['NAME'] = names\n",
    "busstop_busan_oneday['Y'] = ys\n",
    "busstop_busan_oneday['X'] = xs\n",
    "busstop_busan_oneday['GUNAME'] = gus"
   ]
  },
  {
   "cell_type": "code",
   "execution_count": 534,
   "metadata": {},
   "outputs": [
    {
     "data": {
      "text/html": [
       "<div>\n",
       "<style scoped>\n",
       "    .dataframe tbody tr th:only-of-type {\n",
       "        vertical-align: middle;\n",
       "    }\n",
       "\n",
       "    .dataframe tbody tr th {\n",
       "        vertical-align: top;\n",
       "    }\n",
       "\n",
       "    .dataframe thead th {\n",
       "        text-align: right;\n",
       "    }\n",
       "</style>\n",
       "<table border=\"1\" class=\"dataframe\">\n",
       "  <thead>\n",
       "    <tr style=\"text-align: right;\">\n",
       "      <th></th>\n",
       "      <th>COUNT</th>\n",
       "      <th>NAME</th>\n",
       "      <th>Y</th>\n",
       "      <th>X</th>\n",
       "      <th>GUNAME</th>\n",
       "    </tr>\n",
       "    <tr>\n",
       "      <th>BUSSTOPID</th>\n",
       "      <th></th>\n",
       "      <th></th>\n",
       "      <th></th>\n",
       "      <th></th>\n",
       "      <th></th>\n",
       "    </tr>\n",
       "  </thead>\n",
       "  <tbody>\n",
       "    <tr>\n",
       "      <th>21010511001</th>\n",
       "      <td>467</td>\n",
       "      <td>제일은행앞</td>\n",
       "      <td>35.103002</td>\n",
       "      <td>129.034916</td>\n",
       "      <td>중구</td>\n",
       "    </tr>\n",
       "    <tr>\n",
       "      <th>21010511003</th>\n",
       "      <td>508</td>\n",
       "      <td>중부경찰서</td>\n",
       "      <td>35.107619</td>\n",
       "      <td>129.036175</td>\n",
       "      <td>중구</td>\n",
       "    </tr>\n",
       "    <tr>\n",
       "      <th>21010511004</th>\n",
       "      <td>2009</td>\n",
       "      <td>영주동</td>\n",
       "      <td>35.109653</td>\n",
       "      <td>129.037496</td>\n",
       "      <td>중구</td>\n",
       "    </tr>\n",
       "    <tr>\n",
       "      <th>21010511005</th>\n",
       "      <td>81</td>\n",
       "      <td>2부두</td>\n",
       "      <td>35.108471</td>\n",
       "      <td>129.040106</td>\n",
       "      <td>중구</td>\n",
       "    </tr>\n",
       "    <tr>\n",
       "      <th>21010511006</th>\n",
       "      <td>81</td>\n",
       "      <td>2부두</td>\n",
       "      <td>35.108364</td>\n",
       "      <td>129.040671</td>\n",
       "      <td>중구</td>\n",
       "    </tr>\n",
       "  </tbody>\n",
       "</table>\n",
       "</div>"
      ],
      "text/plain": [
       "             COUNT   NAME          Y           X GUNAME\n",
       "BUSSTOPID                                              \n",
       "21010511001    467  제일은행앞  35.103002  129.034916     중구\n",
       "21010511003    508  중부경찰서  35.107619  129.036175     중구\n",
       "21010511004   2009    영주동  35.109653  129.037496     중구\n",
       "21010511005     81    2부두  35.108471  129.040106     중구\n",
       "21010511006     81    2부두  35.108364  129.040671     중구"
      ]
     },
     "execution_count": 534,
     "metadata": {},
     "output_type": "execute_result"
    }
   ],
   "source": [
    "busstop_busan_oneday.head()"
   ]
  },
  {
   "cell_type": "code",
   "execution_count": 535,
   "metadata": {},
   "outputs": [],
   "source": [
    "sorted_busstop_busan_oneday = busstop_busan_oneday.sort_values(by='COUNT', ascending=False)"
   ]
  },
  {
   "cell_type": "code",
   "execution_count": 536,
   "metadata": {
    "scrolled": false
   },
   "outputs": [
    {
     "data": {
      "text/html": [
       "<div>\n",
       "<style scoped>\n",
       "    .dataframe tbody tr th:only-of-type {\n",
       "        vertical-align: middle;\n",
       "    }\n",
       "\n",
       "    .dataframe tbody tr th {\n",
       "        vertical-align: top;\n",
       "    }\n",
       "\n",
       "    .dataframe thead th {\n",
       "        text-align: right;\n",
       "    }\n",
       "</style>\n",
       "<table border=\"1\" class=\"dataframe\">\n",
       "  <thead>\n",
       "    <tr style=\"text-align: right;\">\n",
       "      <th></th>\n",
       "      <th>COUNT</th>\n",
       "      <th>NAME</th>\n",
       "      <th>Y</th>\n",
       "      <th>X</th>\n",
       "      <th>GUNAME</th>\n",
       "    </tr>\n",
       "    <tr>\n",
       "      <th>BUSSTOPID</th>\n",
       "      <th></th>\n",
       "      <th></th>\n",
       "      <th></th>\n",
       "      <th></th>\n",
       "      <th></th>\n",
       "    </tr>\n",
       "  </thead>\n",
       "  <tbody>\n",
       "    <tr>\n",
       "      <th>21050531008</th>\n",
       "      <td>2534</td>\n",
       "      <td>송상현광장</td>\n",
       "      <td>35.166863</td>\n",
       "      <td>129.065650</td>\n",
       "      <td>부산진구</td>\n",
       "    </tr>\n",
       "    <tr>\n",
       "      <th>21010511021</th>\n",
       "      <td>2102</td>\n",
       "      <td>중앙동(중앙역)</td>\n",
       "      <td>35.106675</td>\n",
       "      <td>129.036341</td>\n",
       "      <td>중구</td>\n",
       "    </tr>\n",
       "    <tr>\n",
       "      <th>21010511015</th>\n",
       "      <td>2085</td>\n",
       "      <td>중앙동(중앙역)</td>\n",
       "      <td>35.105433</td>\n",
       "      <td>129.036025</td>\n",
       "      <td>중구</td>\n",
       "    </tr>\n",
       "    <tr>\n",
       "      <th>21010511004</th>\n",
       "      <td>2009</td>\n",
       "      <td>영주동</td>\n",
       "      <td>35.109653</td>\n",
       "      <td>129.037496</td>\n",
       "      <td>중구</td>\n",
       "    </tr>\n",
       "    <tr>\n",
       "      <th>21050521024</th>\n",
       "      <td>1983</td>\n",
       "      <td>롯데호텔백화점(서면역)</td>\n",
       "      <td>35.157375</td>\n",
       "      <td>129.056778</td>\n",
       "      <td>부산진구</td>\n",
       "    </tr>\n",
       "    <tr>\n",
       "      <th>50000002293</th>\n",
       "      <td>1973</td>\n",
       "      <td>동래시장</td>\n",
       "      <td>35.201016</td>\n",
       "      <td>129.088032</td>\n",
       "      <td>동래구</td>\n",
       "    </tr>\n",
       "    <tr>\n",
       "      <th>50000002294</th>\n",
       "      <td>1973</td>\n",
       "      <td>동래시장</td>\n",
       "      <td>35.201035</td>\n",
       "      <td>129.087176</td>\n",
       "      <td>동래구</td>\n",
       "    </tr>\n",
       "    <tr>\n",
       "      <th>21050711001</th>\n",
       "      <td>1924</td>\n",
       "      <td>가야시장(가야역)</td>\n",
       "      <td>35.155910</td>\n",
       "      <td>129.044520</td>\n",
       "      <td>부산진구</td>\n",
       "    </tr>\n",
       "    <tr>\n",
       "      <th>21050711004</th>\n",
       "      <td>1924</td>\n",
       "      <td>가야시장(가야역)</td>\n",
       "      <td>35.156237</td>\n",
       "      <td>129.043532</td>\n",
       "      <td>부산진구</td>\n",
       "    </tr>\n",
       "    <tr>\n",
       "      <th>21080511007</th>\n",
       "      <td>1910</td>\n",
       "      <td>구포시장</td>\n",
       "      <td>35.209685</td>\n",
       "      <td>129.003119</td>\n",
       "      <td>북구</td>\n",
       "    </tr>\n",
       "    <tr>\n",
       "      <th>21050791011</th>\n",
       "      <td>1897</td>\n",
       "      <td>부암역</td>\n",
       "      <td>35.156667</td>\n",
       "      <td>129.048345</td>\n",
       "      <td>부산진구</td>\n",
       "    </tr>\n",
       "    <tr>\n",
       "      <th>21050791010</th>\n",
       "      <td>1897</td>\n",
       "      <td>부암역</td>\n",
       "      <td>35.157337</td>\n",
       "      <td>129.048988</td>\n",
       "      <td>부산진구</td>\n",
       "    </tr>\n",
       "    <tr>\n",
       "      <th>21030531017</th>\n",
       "      <td>1888</td>\n",
       "      <td>부산역</td>\n",
       "      <td>35.115702</td>\n",
       "      <td>129.040147</td>\n",
       "      <td>동구</td>\n",
       "    </tr>\n",
       "    <tr>\n",
       "      <th>21050711003</th>\n",
       "      <td>1769</td>\n",
       "      <td>가야1치안센터</td>\n",
       "      <td>35.154553</td>\n",
       "      <td>129.036941</td>\n",
       "      <td>부산진구</td>\n",
       "    </tr>\n",
       "    <tr>\n",
       "      <th>21050711002</th>\n",
       "      <td>1769</td>\n",
       "      <td>가야1치안센터</td>\n",
       "      <td>35.155002</td>\n",
       "      <td>129.036657</td>\n",
       "      <td>부산진구</td>\n",
       "    </tr>\n",
       "    <tr>\n",
       "      <th>21030661016</th>\n",
       "      <td>1759</td>\n",
       "      <td>자성대</td>\n",
       "      <td>35.137371</td>\n",
       "      <td>129.062420</td>\n",
       "      <td>동구</td>\n",
       "    </tr>\n",
       "    <tr>\n",
       "      <th>21050511015</th>\n",
       "      <td>1724</td>\n",
       "      <td>롯데호텔백화점(서면역)</td>\n",
       "      <td>35.157856</td>\n",
       "      <td>129.055561</td>\n",
       "      <td>부산진구</td>\n",
       "    </tr>\n",
       "    <tr>\n",
       "      <th>21050771008</th>\n",
       "      <td>1707</td>\n",
       "      <td>범내골</td>\n",
       "      <td>35.148739</td>\n",
       "      <td>129.059434</td>\n",
       "      <td>부산진구</td>\n",
       "    </tr>\n",
       "    <tr>\n",
       "      <th>21050721009</th>\n",
       "      <td>1691</td>\n",
       "      <td>동의대학교입구(동의대역)</td>\n",
       "      <td>35.153594</td>\n",
       "      <td>129.031391</td>\n",
       "      <td>부산진구</td>\n",
       "    </tr>\n",
       "    <tr>\n",
       "      <th>21050771001</th>\n",
       "      <td>1679</td>\n",
       "      <td>중앙시장</td>\n",
       "      <td>35.144075</td>\n",
       "      <td>129.059103</td>\n",
       "      <td>부산진구</td>\n",
       "    </tr>\n",
       "  </tbody>\n",
       "</table>\n",
       "</div>"
      ],
      "text/plain": [
       "             COUNT           NAME          Y           X GUNAME\n",
       "BUSSTOPID                                                      \n",
       "21050531008   2534          송상현광장  35.166863  129.065650   부산진구\n",
       "21010511021   2102       중앙동(중앙역)  35.106675  129.036341     중구\n",
       "21010511015   2085       중앙동(중앙역)  35.105433  129.036025     중구\n",
       "21010511004   2009            영주동  35.109653  129.037496     중구\n",
       "21050521024   1983   롯데호텔백화점(서면역)  35.157375  129.056778   부산진구\n",
       "50000002293   1973           동래시장  35.201016  129.088032    동래구\n",
       "50000002294   1973           동래시장  35.201035  129.087176    동래구\n",
       "21050711001   1924      가야시장(가야역)  35.155910  129.044520   부산진구\n",
       "21050711004   1924      가야시장(가야역)  35.156237  129.043532   부산진구\n",
       "21080511007   1910           구포시장  35.209685  129.003119     북구\n",
       "21050791011   1897            부암역  35.156667  129.048345   부산진구\n",
       "21050791010   1897            부암역  35.157337  129.048988   부산진구\n",
       "21030531017   1888            부산역  35.115702  129.040147     동구\n",
       "21050711003   1769        가야1치안센터  35.154553  129.036941   부산진구\n",
       "21050711002   1769        가야1치안센터  35.155002  129.036657   부산진구\n",
       "21030661016   1759            자성대  35.137371  129.062420     동구\n",
       "21050511015   1724   롯데호텔백화점(서면역)  35.157856  129.055561   부산진구\n",
       "21050771008   1707            범내골  35.148739  129.059434   부산진구\n",
       "21050721009   1691  동의대학교입구(동의대역)  35.153594  129.031391   부산진구\n",
       "21050771001   1679           중앙시장  35.144075  129.059103   부산진구"
      ]
     },
     "execution_count": 536,
     "metadata": {},
     "output_type": "execute_result"
    }
   ],
   "source": [
    "sorted_busstop_busan_oneday.head(20)"
   ]
  },
  {
   "cell_type": "code",
   "execution_count": 537,
   "metadata": {
    "scrolled": false
   },
   "outputs": [
    {
     "data": {
      "text/html": [
       "<div>\n",
       "<style scoped>\n",
       "    .dataframe tbody tr th:only-of-type {\n",
       "        vertical-align: middle;\n",
       "    }\n",
       "\n",
       "    .dataframe tbody tr th {\n",
       "        vertical-align: top;\n",
       "    }\n",
       "\n",
       "    .dataframe thead th {\n",
       "        text-align: right;\n",
       "    }\n",
       "</style>\n",
       "<table border=\"1\" class=\"dataframe\">\n",
       "  <thead>\n",
       "    <tr style=\"text-align: right;\">\n",
       "      <th></th>\n",
       "      <th>COUNT</th>\n",
       "      <th>NAME</th>\n",
       "      <th>Y</th>\n",
       "      <th>X</th>\n",
       "      <th>GUNAME</th>\n",
       "    </tr>\n",
       "    <tr>\n",
       "      <th>BUSSTOPID</th>\n",
       "      <th></th>\n",
       "      <th></th>\n",
       "      <th></th>\n",
       "      <th></th>\n",
       "      <th></th>\n",
       "    </tr>\n",
       "  </thead>\n",
       "  <tbody>\n",
       "    <tr>\n",
       "      <th>21310321016</th>\n",
       "      <td>21</td>\n",
       "      <td>기장실버홈</td>\n",
       "      <td>35.314141</td>\n",
       "      <td>129.169947</td>\n",
       "      <td>기장군</td>\n",
       "    </tr>\n",
       "    <tr>\n",
       "      <th>50000000744</th>\n",
       "      <td>21</td>\n",
       "      <td>에스아이시스템</td>\n",
       "      <td>35.377056</td>\n",
       "      <td>129.256313</td>\n",
       "      <td>기장군</td>\n",
       "    </tr>\n",
       "    <tr>\n",
       "      <th>50000000492</th>\n",
       "      <td>21</td>\n",
       "      <td>연꽃공원앞</td>\n",
       "      <td>35.295744</td>\n",
       "      <td>129.170136</td>\n",
       "      <td>기장군</td>\n",
       "    </tr>\n",
       "    <tr>\n",
       "      <th>21310331041</th>\n",
       "      <td>21</td>\n",
       "      <td>구림마을</td>\n",
       "      <td>35.272205</td>\n",
       "      <td>129.157703</td>\n",
       "      <td>기장군</td>\n",
       "    </tr>\n",
       "    <tr>\n",
       "      <th>21310331042</th>\n",
       "      <td>21</td>\n",
       "      <td>구림마을</td>\n",
       "      <td>35.272057</td>\n",
       "      <td>129.157649</td>\n",
       "      <td>기장군</td>\n",
       "    </tr>\n",
       "    <tr>\n",
       "      <th>21310321015</th>\n",
       "      <td>21</td>\n",
       "      <td>형제복지지원재단</td>\n",
       "      <td>35.306610</td>\n",
       "      <td>129.172391</td>\n",
       "      <td>기장군</td>\n",
       "    </tr>\n",
       "    <tr>\n",
       "      <th>21120561111</th>\n",
       "      <td>19</td>\n",
       "      <td>가동마을입구</td>\n",
       "      <td>35.165314</td>\n",
       "      <td>128.885053</td>\n",
       "      <td>강서구</td>\n",
       "    </tr>\n",
       "    <tr>\n",
       "      <th>21120561113</th>\n",
       "      <td>19</td>\n",
       "      <td>녹산동행정복지센터</td>\n",
       "      <td>35.154740</td>\n",
       "      <td>128.884338</td>\n",
       "      <td>강서구</td>\n",
       "    </tr>\n",
       "    <tr>\n",
       "      <th>21120561116</th>\n",
       "      <td>19</td>\n",
       "      <td>녹산동행정복지센터</td>\n",
       "      <td>35.154367</td>\n",
       "      <td>128.883444</td>\n",
       "      <td>강서구</td>\n",
       "    </tr>\n",
       "    <tr>\n",
       "      <th>21120561118</th>\n",
       "      <td>19</td>\n",
       "      <td>가동마을입구</td>\n",
       "      <td>35.165255</td>\n",
       "      <td>128.884807</td>\n",
       "      <td>강서구</td>\n",
       "    </tr>\n",
       "    <tr>\n",
       "      <th>21120561110</th>\n",
       "      <td>19</td>\n",
       "      <td>조만포</td>\n",
       "      <td>35.163518</td>\n",
       "      <td>128.889898</td>\n",
       "      <td>강서구</td>\n",
       "    </tr>\n",
       "    <tr>\n",
       "      <th>21120561109</th>\n",
       "      <td>19</td>\n",
       "      <td>조만포</td>\n",
       "      <td>35.163731</td>\n",
       "      <td>128.890107</td>\n",
       "      <td>강서구</td>\n",
       "    </tr>\n",
       "    <tr>\n",
       "      <th>21120561119</th>\n",
       "      <td>19</td>\n",
       "      <td>가동마을</td>\n",
       "      <td>35.166951</td>\n",
       "      <td>128.881965</td>\n",
       "      <td>강서구</td>\n",
       "    </tr>\n",
       "    <tr>\n",
       "      <th>21120561120</th>\n",
       "      <td>19</td>\n",
       "      <td>가리새마을</td>\n",
       "      <td>35.134625</td>\n",
       "      <td>128.897168</td>\n",
       "      <td>강서구</td>\n",
       "    </tr>\n",
       "    <tr>\n",
       "      <th>21120561087</th>\n",
       "      <td>19</td>\n",
       "      <td>세산삼거리</td>\n",
       "      <td>35.141764</td>\n",
       "      <td>128.874666</td>\n",
       "      <td>강서구</td>\n",
       "    </tr>\n",
       "    <tr>\n",
       "      <th>21120561123</th>\n",
       "      <td>19</td>\n",
       "      <td>가리새마을</td>\n",
       "      <td>35.134244</td>\n",
       "      <td>128.897021</td>\n",
       "      <td>강서구</td>\n",
       "    </tr>\n",
       "    <tr>\n",
       "      <th>50000000490</th>\n",
       "      <td>18</td>\n",
       "      <td>한성기린아파트</td>\n",
       "      <td>35.092838</td>\n",
       "      <td>128.978054</td>\n",
       "      <td>사하구</td>\n",
       "    </tr>\n",
       "    <tr>\n",
       "      <th>50000001862</th>\n",
       "      <td>18</td>\n",
       "      <td>신평시장</td>\n",
       "      <td>35.090483</td>\n",
       "      <td>128.977967</td>\n",
       "      <td>사하구</td>\n",
       "    </tr>\n",
       "    <tr>\n",
       "      <th>50000000569</th>\n",
       "      <td>18</td>\n",
       "      <td>보람공원</td>\n",
       "      <td>35.088773</td>\n",
       "      <td>128.847448</td>\n",
       "      <td>강서구</td>\n",
       "    </tr>\n",
       "    <tr>\n",
       "      <th>50000000570</th>\n",
       "      <td>18</td>\n",
       "      <td>보람공원</td>\n",
       "      <td>35.089146</td>\n",
       "      <td>128.847867</td>\n",
       "      <td>강서구</td>\n",
       "    </tr>\n",
       "  </tbody>\n",
       "</table>\n",
       "</div>"
      ],
      "text/plain": [
       "             COUNT       NAME          Y           X GUNAME\n",
       "BUSSTOPID                                                  \n",
       "21310321016     21      기장실버홈  35.314141  129.169947    기장군\n",
       "50000000744     21    에스아이시스템  35.377056  129.256313    기장군\n",
       "50000000492     21      연꽃공원앞  35.295744  129.170136    기장군\n",
       "21310331041     21       구림마을  35.272205  129.157703    기장군\n",
       "21310331042     21       구림마을  35.272057  129.157649    기장군\n",
       "21310321015     21   형제복지지원재단  35.306610  129.172391    기장군\n",
       "21120561111     19     가동마을입구  35.165314  128.885053    강서구\n",
       "21120561113     19  녹산동행정복지센터  35.154740  128.884338    강서구\n",
       "21120561116     19  녹산동행정복지센터  35.154367  128.883444    강서구\n",
       "21120561118     19     가동마을입구  35.165255  128.884807    강서구\n",
       "21120561110     19        조만포  35.163518  128.889898    강서구\n",
       "21120561109     19        조만포  35.163731  128.890107    강서구\n",
       "21120561119     19       가동마을  35.166951  128.881965    강서구\n",
       "21120561120     19      가리새마을  35.134625  128.897168    강서구\n",
       "21120561087     19      세산삼거리  35.141764  128.874666    강서구\n",
       "21120561123     19      가리새마을  35.134244  128.897021    강서구\n",
       "50000000490     18    한성기린아파트  35.092838  128.978054    사하구\n",
       "50000001862     18       신평시장  35.090483  128.977967    사하구\n",
       "50000000569     18       보람공원  35.088773  128.847448    강서구\n",
       "50000000570     18       보람공원  35.089146  128.847867    강서구"
      ]
     },
     "execution_count": 537,
     "metadata": {},
     "output_type": "execute_result"
    }
   ],
   "source": [
    "sorted_busstop_busan_oneday.tail(20)"
   ]
  },
  {
   "cell_type": "markdown",
   "metadata": {},
   "source": [
    "### → 배차시간 고려 후에도, '송상현광장'의 1일 정류횟수가 가장 많다"
   ]
  },
  {
   "cell_type": "markdown",
   "metadata": {},
   "source": [
    "###### 지도에 시각화"
   ]
  },
  {
   "cell_type": "code",
   "execution_count": 546,
   "metadata": {
    "scrolled": true
   },
   "outputs": [
    {
     "data": {
      "text/html": [
       "<div style=\"width:100%;\"><div style=\"position:relative;width:100%;height:0;padding-bottom:60%;\"><iframe src=\"data:text/html;charset=utf-8;base64,PCFET0NUWVBFIGh0bWw+CjxoZWFkPiAgICAKICAgIDxtZXRhIGh0dHAtZXF1aXY9ImNvbnRlbnQtdHlwZSIgY29udGVudD0idGV4dC9odG1sOyBjaGFyc2V0PVVURi04IiAvPgogICAgCiAgICAgICAgPHNjcmlwdD4KICAgICAgICAgICAgTF9OT19UT1VDSCA9IGZhbHNlOwogICAgICAgICAgICBMX0RJU0FCTEVfM0QgPSBmYWxzZTsKICAgICAgICA8L3NjcmlwdD4KICAgIAogICAgPHNjcmlwdCBzcmM9Imh0dHBzOi8vY2RuLmpzZGVsaXZyLm5ldC9ucG0vbGVhZmxldEAxLjUuMS9kaXN0L2xlYWZsZXQuanMiPjwvc2NyaXB0PgogICAgPHNjcmlwdCBzcmM9Imh0dHBzOi8vY29kZS5qcXVlcnkuY29tL2pxdWVyeS0xLjEyLjQubWluLmpzIj48L3NjcmlwdD4KICAgIDxzY3JpcHQgc3JjPSJodHRwczovL21heGNkbi5ib290c3RyYXBjZG4uY29tL2Jvb3RzdHJhcC8zLjIuMC9qcy9ib290c3RyYXAubWluLmpzIj48L3NjcmlwdD4KICAgIDxzY3JpcHQgc3JjPSJodHRwczovL2NkbmpzLmNsb3VkZmxhcmUuY29tL2FqYXgvbGlicy9MZWFmbGV0LmF3ZXNvbWUtbWFya2Vycy8yLjAuMi9sZWFmbGV0LmF3ZXNvbWUtbWFya2Vycy5qcyI+PC9zY3JpcHQ+CiAgICA8bGluayByZWw9InN0eWxlc2hlZXQiIGhyZWY9Imh0dHBzOi8vY2RuLmpzZGVsaXZyLm5ldC9ucG0vbGVhZmxldEAxLjUuMS9kaXN0L2xlYWZsZXQuY3NzIi8+CiAgICA8bGluayByZWw9InN0eWxlc2hlZXQiIGhyZWY9Imh0dHBzOi8vbWF4Y2RuLmJvb3RzdHJhcGNkbi5jb20vYm9vdHN0cmFwLzMuMi4wL2Nzcy9ib290c3RyYXAubWluLmNzcyIvPgogICAgPGxpbmsgcmVsPSJzdHlsZXNoZWV0IiBocmVmPSJodHRwczovL21heGNkbi5ib290c3RyYXBjZG4uY29tL2Jvb3RzdHJhcC8zLjIuMC9jc3MvYm9vdHN0cmFwLXRoZW1lLm1pbi5jc3MiLz4KICAgIDxsaW5rIHJlbD0ic3R5bGVzaGVldCIgaHJlZj0iaHR0cHM6Ly9tYXhjZG4uYm9vdHN0cmFwY2RuLmNvbS9mb250LWF3ZXNvbWUvNC42LjMvY3NzL2ZvbnQtYXdlc29tZS5taW4uY3NzIi8+CiAgICA8bGluayByZWw9InN0eWxlc2hlZXQiIGhyZWY9Imh0dHBzOi8vY2RuanMuY2xvdWRmbGFyZS5jb20vYWpheC9saWJzL0xlYWZsZXQuYXdlc29tZS1tYXJrZXJzLzIuMC4yL2xlYWZsZXQuYXdlc29tZS1tYXJrZXJzLmNzcyIvPgogICAgPGxpbmsgcmVsPSJzdHlsZXNoZWV0IiBocmVmPSJodHRwczovL3Jhd2Nkbi5naXRoYWNrLmNvbS9weXRob24tdmlzdWFsaXphdGlvbi9mb2xpdW0vbWFzdGVyL2ZvbGl1bS90ZW1wbGF0ZXMvbGVhZmxldC5hd2Vzb21lLnJvdGF0ZS5jc3MiLz4KICAgIDxzdHlsZT5odG1sLCBib2R5IHt3aWR0aDogMTAwJTtoZWlnaHQ6IDEwMCU7bWFyZ2luOiAwO3BhZGRpbmc6IDA7fTwvc3R5bGU+CiAgICA8c3R5bGU+I21hcCB7cG9zaXRpb246YWJzb2x1dGU7dG9wOjA7Ym90dG9tOjA7cmlnaHQ6MDtsZWZ0OjA7fTwvc3R5bGU+CiAgICAKICAgICAgICAgICAgPG1ldGEgbmFtZT0idmlld3BvcnQiIGNvbnRlbnQ9IndpZHRoPWRldmljZS13aWR0aCwKICAgICAgICAgICAgICAgIGluaXRpYWwtc2NhbGU9MS4wLCBtYXhpbXVtLXNjYWxlPTEuMCwgdXNlci1zY2FsYWJsZT1ubyIgLz4KICAgICAgICAgICAgPHN0eWxlPgogICAgICAgICAgICAgICAgI21hcF81ZDJmYjk0MmY0Njk0ZDZiOWUzMmVjZjZlNGEyMWVhMyB7CiAgICAgICAgICAgICAgICAgICAgcG9zaXRpb246IHJlbGF0aXZlOwogICAgICAgICAgICAgICAgICAgIHdpZHRoOiAxMDAuMCU7CiAgICAgICAgICAgICAgICAgICAgaGVpZ2h0OiAxMDAuMCU7CiAgICAgICAgICAgICAgICAgICAgbGVmdDogMC4wJTsKICAgICAgICAgICAgICAgICAgICB0b3A6IDAuMCU7CiAgICAgICAgICAgICAgICB9CiAgICAgICAgICAgIDwvc3R5bGU+CiAgICAgICAgCjwvaGVhZD4KPGJvZHk+ICAgIAogICAgCiAgICAgICAgICAgIDxkaXYgY2xhc3M9ImZvbGl1bS1tYXAiIGlkPSJtYXBfNWQyZmI5NDJmNDY5NGQ2YjllMzJlY2Y2ZTRhMjFlYTMiID48L2Rpdj4KICAgICAgICAKPC9ib2R5Pgo8c2NyaXB0PiAgICAKICAgIAogICAgICAgICAgICB2YXIgbWFwXzVkMmZiOTQyZjQ2OTRkNmI5ZTMyZWNmNmU0YTIxZWEzID0gTC5tYXAoCiAgICAgICAgICAgICAgICAibWFwXzVkMmZiOTQyZjQ2OTRkNmI5ZTMyZWNmNmU0YTIxZWEzIiwKICAgICAgICAgICAgICAgIHsKICAgICAgICAgICAgICAgICAgICBjZW50ZXI6IFszNS4xNTY0Mjk0LCAxMjkuMDYwMzM4OV0sCiAgICAgICAgICAgICAgICAgICAgY3JzOiBMLkNSUy5FUFNHMzg1NywKICAgICAgICAgICAgICAgICAgICB6b29tOiAxMSwKICAgICAgICAgICAgICAgICAgICB6b29tQ29udHJvbDogdHJ1ZSwKICAgICAgICAgICAgICAgICAgICBwcmVmZXJDYW52YXM6IGZhbHNlLAogICAgICAgICAgICAgICAgfQogICAgICAgICAgICApOwoKICAgICAgICAgICAgCgogICAgICAgIAogICAgCiAgICAgICAgICAgIHZhciB0aWxlX2xheWVyXzRiNTdhMDE2ODkxODQ1NTc4NWNlZWQ0Mzc3MjdiM2Q3ID0gTC50aWxlTGF5ZXIoCiAgICAgICAgICAgICAgICAiaHR0cHM6Ly97c30udGlsZS5vcGVuc3RyZWV0bWFwLm9yZy97en0ve3h9L3t5fS5wbmciLAogICAgICAgICAgICAgICAgeyJhdHRyaWJ1dGlvbiI6ICJEYXRhIGJ5IFx1MDAyNmNvcHk7IFx1MDAzY2EgaHJlZj1cImh0dHA6Ly9vcGVuc3RyZWV0bWFwLm9yZ1wiXHUwMDNlT3BlblN0cmVldE1hcFx1MDAzYy9hXHUwMDNlLCB1bmRlciBcdTAwM2NhIGhyZWY9XCJodHRwOi8vd3d3Lm9wZW5zdHJlZXRtYXAub3JnL2NvcHlyaWdodFwiXHUwMDNlT0RiTFx1MDAzYy9hXHUwMDNlLiIsICJkZXRlY3RSZXRpbmEiOiBmYWxzZSwgIm1heE5hdGl2ZVpvb20iOiAxOCwgIm1heFpvb20iOiAxOCwgIm1pblpvb20iOiAwLCAibm9XcmFwIjogZmFsc2UsICJvcGFjaXR5IjogMSwgInN1YmRvbWFpbnMiOiAiYWJjIiwgInRtcyI6IGZhbHNlfQogICAgICAgICAgICApLmFkZFRvKG1hcF81ZDJmYjk0MmY0Njk0ZDZiOWUzMmVjZjZlNGEyMWVhMyk7CiAgICAgICAgCiAgICAKICAgICAgICAgICAgdmFyIG1hcmtlcl9iOGU4M2Q4NDE3YTg0ZmM0OGUxMzFmNjYwNzE2Mjk4OSA9IEwubWFya2VyKAogICAgICAgICAgICAgICAgWzM1LjE2Njg2MjY0OTM2NCwgMTI5LjA2NTY1MDEyNTUxNF0sCiAgICAgICAgICAgICAgICB7fQogICAgICAgICAgICApLmFkZFRvKG1hcF81ZDJmYjk0MmY0Njk0ZDZiOWUzMmVjZjZlNGEyMWVhMyk7CiAgICAgICAgCiAgICAKICAgICAgICAgICAgdmFyIGljb25fZjU2NTcwZmZiMGRhNDA0ZWFlNzZkYTZiOGJiNmViODEgPSBMLkF3ZXNvbWVNYXJrZXJzLmljb24oCiAgICAgICAgICAgICAgICB7ImV4dHJhQ2xhc3NlcyI6ICJmYS1yb3RhdGUtMCIsICJpY29uIjogImluZm8tc2lnbiIsICJpY29uQ29sb3IiOiAid2hpdGUiLCAibWFya2VyQ29sb3IiOiAicmVkIiwgInByZWZpeCI6ICJnbHlwaGljb24ifQogICAgICAgICAgICApOwogICAgICAgICAgICBtYXJrZXJfYjhlODNkODQxN2E4NGZjNDhlMTMxZjY2MDcxNjI5ODkuc2V0SWNvbihpY29uX2Y1NjU3MGZmYjBkYTQwNGVhZTc2ZGE2YjhiYjZlYjgxKTsKICAgICAgICAKICAgIAogICAgICAgICAgICB2YXIgbWFya2VyX2JlMjIwOTVhYzNkOTQ4MTY5MjVjMDI4Y2QzYWIwNDgyID0gTC5tYXJrZXIoCiAgICAgICAgICAgICAgICBbMzUuMTA2Njc0ODk5MTM0LCAxMjkuMDM2MzQwNzYyNTE5XSwKICAgICAgICAgICAgICAgIHt9CiAgICAgICAgICAgICkuYWRkVG8obWFwXzVkMmZiOTQyZjQ2OTRkNmI5ZTMyZWNmNmU0YTIxZWEzKTsKICAgICAgICAKICAgIAogICAgICAgICAgICB2YXIgaWNvbl84MjBhY2EyZjMyM2Q0NjIyYjQzYjZhNmY3MTIxM2E2NCA9IEwuQXdlc29tZU1hcmtlcnMuaWNvbigKICAgICAgICAgICAgICAgIHsiZXh0cmFDbGFzc2VzIjogImZhLXJvdGF0ZS0wIiwgImljb24iOiAiaW5mby1zaWduIiwgImljb25Db2xvciI6ICJ3aGl0ZSIsICJtYXJrZXJDb2xvciI6ICJyZWQiLCAicHJlZml4IjogImdseXBoaWNvbiJ9CiAgICAgICAgICAgICk7CiAgICAgICAgICAgIG1hcmtlcl9iZTIyMDk1YWMzZDk0ODE2OTI1YzAyOGNkM2FiMDQ4Mi5zZXRJY29uKGljb25fODIwYWNhMmYzMjNkNDYyMmI0M2I2YTZmNzEyMTNhNjQpOwogICAgICAgIAogICAgCiAgICAgICAgICAgIHZhciBtYXJrZXJfMjMxNGJhZTE1ZjdjNDUyNmI4NDYwMzc3M2YwN2JlNmMgPSBMLm1hcmtlcigKICAgICAgICAgICAgICAgIFszNS4xMDU0MzI4MjEwMDcsIDEyOS4wMzYwMjQ2NjM3MjVdLAogICAgICAgICAgICAgICAge30KICAgICAgICAgICAgKS5hZGRUbyhtYXBfNWQyZmI5NDJmNDY5NGQ2YjllMzJlY2Y2ZTRhMjFlYTMpOwogICAgICAgIAogICAgCiAgICAgICAgICAgIHZhciBpY29uX2ZlYzM4MjEwMjU2ZTRjYTBiYTMzOTg2NjI3YTcxYTcyID0gTC5Bd2Vzb21lTWFya2Vycy5pY29uKAogICAgICAgICAgICAgICAgeyJleHRyYUNsYXNzZXMiOiAiZmEtcm90YXRlLTAiLCAiaWNvbiI6ICJpbmZvLXNpZ24iLCAiaWNvbkNvbG9yIjogIndoaXRlIiwgIm1hcmtlckNvbG9yIjogInJlZCIsICJwcmVmaXgiOiAiZ2x5cGhpY29uIn0KICAgICAgICAgICAgKTsKICAgICAgICAgICAgbWFya2VyXzIzMTRiYWUxNWY3YzQ1MjZiODQ2MDM3NzNmMDdiZTZjLnNldEljb24oaWNvbl9mZWMzODIxMDI1NmU0Y2EwYmEzMzk4NjYyN2E3MWE3Mik7CiAgICAgICAgCiAgICAKICAgICAgICAgICAgdmFyIG1hcmtlcl8zMzBhOTU4MDM4M2Q0NGFlYWYyMjhmM2Y1ZWJkZGM3YyA9IEwubWFya2VyKAogICAgICAgICAgICAgICAgWzM1LjEwOTY1Mjg4MTkwNSwgMTI5LjAzNzQ5NTkyMDg1NF0sCiAgICAgICAgICAgICAgICB7fQogICAgICAgICAgICApLmFkZFRvKG1hcF81ZDJmYjk0MmY0Njk0ZDZiOWUzMmVjZjZlNGEyMWVhMyk7CiAgICAgICAgCiAgICAKICAgICAgICAgICAgdmFyIGljb25fY2YxYzEzN2EwNzk5NDVjN2FjZDM3OGNiNjc2MjE4MzEgPSBMLkF3ZXNvbWVNYXJrZXJzLmljb24oCiAgICAgICAgICAgICAgICB7ImV4dHJhQ2xhc3NlcyI6ICJmYS1yb3RhdGUtMCIsICJpY29uIjogImluZm8tc2lnbiIsICJpY29uQ29sb3IiOiAid2hpdGUiLCAibWFya2VyQ29sb3IiOiAicmVkIiwgInByZWZpeCI6ICJnbHlwaGljb24ifQogICAgICAgICAgICApOwogICAgICAgICAgICBtYXJrZXJfMzMwYTk1ODAzODNkNDRhZWFmMjI4ZjNmNWViZGRjN2Muc2V0SWNvbihpY29uX2NmMWMxMzdhMDc5OTQ1YzdhY2QzNzhjYjY3NjIxODMxKTsKICAgICAgICAKICAgIAogICAgICAgICAgICB2YXIgbWFya2VyXzMzNTFlNTYzZTg0MjQ2N2M5OGVlMmUyOTJmNjdkZjkwID0gTC5tYXJrZXIoCiAgICAgICAgICAgICAgICBbMzUuMTU3Mzc1MTQ2OTk4LCAxMjkuMDU2Nzc3Nzg4OTY1XSwKICAgICAgICAgICAgICAgIHt9CiAgICAgICAgICAgICkuYWRkVG8obWFwXzVkMmZiOTQyZjQ2OTRkNmI5ZTMyZWNmNmU0YTIxZWEzKTsKICAgICAgICAKICAgIAogICAgICAgICAgICB2YXIgaWNvbl9mYTZmNjVjYjM5NDc0YTMxYjdiNTFiYWYyYzBmNDljOCA9IEwuQXdlc29tZU1hcmtlcnMuaWNvbigKICAgICAgICAgICAgICAgIHsiZXh0cmFDbGFzc2VzIjogImZhLXJvdGF0ZS0wIiwgImljb24iOiAiaW5mby1zaWduIiwgImljb25Db2xvciI6ICJ3aGl0ZSIsICJtYXJrZXJDb2xvciI6ICJyZWQiLCAicHJlZml4IjogImdseXBoaWNvbiJ9CiAgICAgICAgICAgICk7CiAgICAgICAgICAgIG1hcmtlcl8zMzUxZTU2M2U4NDI0NjdjOThlZTJlMjkyZjY3ZGY5MC5zZXRJY29uKGljb25fZmE2ZjY1Y2IzOTQ3NGEzMWI3YjUxYmFmMmMwZjQ5YzgpOwogICAgICAgIAogICAgCiAgICAgICAgICAgIHZhciBtYXJrZXJfZGI5ZTE5YTU2Yzk4NGFiMjkwMTlkNzRlNTJkZGNjODQgPSBMLm1hcmtlcigKICAgICAgICAgICAgICAgIFszNS4yMDEwMTU4NzcwNCwgMTI5LjA4ODAzMTY1NDMwNF0sCiAgICAgICAgICAgICAgICB7fQogICAgICAgICAgICApLmFkZFRvKG1hcF81ZDJmYjk0MmY0Njk0ZDZiOWUzMmVjZjZlNGEyMWVhMyk7CiAgICAgICAgCiAgICAKICAgICAgICAgICAgdmFyIGljb25fNWFlYTBkY2I2YzU0NDc4MjlhODk3ODhhYjQyN2NjZjggPSBMLkF3ZXNvbWVNYXJrZXJzLmljb24oCiAgICAgICAgICAgICAgICB7ImV4dHJhQ2xhc3NlcyI6ICJmYS1yb3RhdGUtMCIsICJpY29uIjogImluZm8tc2lnbiIsICJpY29uQ29sb3IiOiAid2hpdGUiLCAibWFya2VyQ29sb3IiOiAicmVkIiwgInByZWZpeCI6ICJnbHlwaGljb24ifQogICAgICAgICAgICApOwogICAgICAgICAgICBtYXJrZXJfZGI5ZTE5YTU2Yzk4NGFiMjkwMTlkNzRlNTJkZGNjODQuc2V0SWNvbihpY29uXzVhZWEwZGNiNmM1NDQ3ODI5YTg5Nzg4YWI0MjdjY2Y4KTsKICAgICAgICAKICAgIAogICAgICAgICAgICB2YXIgbWFya2VyX2M4MGUyYzFjMWMzNjQzYWJhMGJlODg3ZmZiM2QwMWVjID0gTC5tYXJrZXIoCiAgICAgICAgICAgICAgICBbMzUuMjAxMDM1MTQzOTY2LCAxMjkuMDg3MTc1ODAyNjA1XSwKICAgICAgICAgICAgICAgIHt9CiAgICAgICAgICAgICkuYWRkVG8obWFwXzVkMmZiOTQyZjQ2OTRkNmI5ZTMyZWNmNmU0YTIxZWEzKTsKICAgICAgICAKICAgIAogICAgICAgICAgICB2YXIgaWNvbl83MjkwYjdiMWUxY2Y0NzMxOTBhNDA1N2IwYjMyNGZkNSA9IEwuQXdlc29tZU1hcmtlcnMuaWNvbigKICAgICAgICAgICAgICAgIHsiZXh0cmFDbGFzc2VzIjogImZhLXJvdGF0ZS0wIiwgImljb24iOiAiaW5mby1zaWduIiwgImljb25Db2xvciI6ICJ3aGl0ZSIsICJtYXJrZXJDb2xvciI6ICJyZWQiLCAicHJlZml4IjogImdseXBoaWNvbiJ9CiAgICAgICAgICAgICk7CiAgICAgICAgICAgIG1hcmtlcl9jODBlMmMxYzFjMzY0M2FiYTBiZTg4N2ZmYjNkMDFlYy5zZXRJY29uKGljb25fNzI5MGI3YjFlMWNmNDczMTkwYTQwNTdiMGIzMjRmZDUpOwogICAgICAgIAogICAgCiAgICAgICAgICAgIHZhciBtYXJrZXJfMzI1Y2NiODk2MjJkNDQ1NDljMjgyY2YwYmEwODU3MmUgPSBMLm1hcmtlcigKICAgICAgICAgICAgICAgIFszNS4xNTU5MDk2MDA3NzcsIDEyOS4wNDQ1MTk1NjMyNDFdLAogICAgICAgICAgICAgICAge30KICAgICAgICAgICAgKS5hZGRUbyhtYXBfNWQyZmI5NDJmNDY5NGQ2YjllMzJlY2Y2ZTRhMjFlYTMpOwogICAgICAgIAogICAgCiAgICAgICAgICAgIHZhciBpY29uXzY3MGE1ODYyMjNkNDQ2MGQ4MGU4YjAzYmIxNzhkMTM2ID0gTC5Bd2Vzb21lTWFya2Vycy5pY29uKAogICAgICAgICAgICAgICAgeyJleHRyYUNsYXNzZXMiOiAiZmEtcm90YXRlLTAiLCAiaWNvbiI6ICJpbmZvLXNpZ24iLCAiaWNvbkNvbG9yIjogIndoaXRlIiwgIm1hcmtlckNvbG9yIjogInJlZCIsICJwcmVmaXgiOiAiZ2x5cGhpY29uIn0KICAgICAgICAgICAgKTsKICAgICAgICAgICAgbWFya2VyXzMyNWNjYjg5NjIyZDQ0NTQ5YzI4MmNmMGJhMDg1NzJlLnNldEljb24oaWNvbl82NzBhNTg2MjIzZDQ0NjBkODBlOGIwM2JiMTc4ZDEzNik7CiAgICAgICAgCiAgICAKICAgICAgICAgICAgdmFyIG1hcmtlcl80NDcxY2Q3NzMwZjI0Y2M0YTFjZjIxMjNiNmMzZTkzNCA9IEwubWFya2VyKAogICAgICAgICAgICAgICAgWzM1LjE1NjIzNzM2NjgyOCwgMTI5LjA0MzUzMTg3NTYwOV0sCiAgICAgICAgICAgICAgICB7fQogICAgICAgICAgICApLmFkZFRvKG1hcF81ZDJmYjk0MmY0Njk0ZDZiOWUzMmVjZjZlNGEyMWVhMyk7CiAgICAgICAgCiAgICAKICAgICAgICAgICAgdmFyIGljb25fZmE1ZDA0Y2FiMmYzNDVlNThiZmM5OTA2ZjFhNmJjYTQgPSBMLkF3ZXNvbWVNYXJrZXJzLmljb24oCiAgICAgICAgICAgICAgICB7ImV4dHJhQ2xhc3NlcyI6ICJmYS1yb3RhdGUtMCIsICJpY29uIjogImluZm8tc2lnbiIsICJpY29uQ29sb3IiOiAid2hpdGUiLCAibWFya2VyQ29sb3IiOiAicmVkIiwgInByZWZpeCI6ICJnbHlwaGljb24ifQogICAgICAgICAgICApOwogICAgICAgICAgICBtYXJrZXJfNDQ3MWNkNzczMGYyNGNjNGExY2YyMTIzYjZjM2U5MzQuc2V0SWNvbihpY29uX2ZhNWQwNGNhYjJmMzQ1ZTU4YmZjOTkwNmYxYTZiY2E0KTsKICAgICAgICAKICAgIAogICAgICAgICAgICB2YXIgbWFya2VyX2JjMGYxNzQ4MGIwYjQ2NTk5NjU5NGUxYjI1MGU5YTAxID0gTC5tYXJrZXIoCiAgICAgICAgICAgICAgICBbMzUuMjA5Njg0ODg5MTg3LCAxMjkuMDAzMTE4Nzg1Mzc1XSwKICAgICAgICAgICAgICAgIHt9CiAgICAgICAgICAgICkuYWRkVG8obWFwXzVkMmZiOTQyZjQ2OTRkNmI5ZTMyZWNmNmU0YTIxZWEzKTsKICAgICAgICAKICAgIAogICAgICAgICAgICB2YXIgaWNvbl81MGQ0ZDgwYjg5ZjE0YzlmOGM1YWZlMGFiZGJlNDBjYyA9IEwuQXdlc29tZU1hcmtlcnMuaWNvbigKICAgICAgICAgICAgICAgIHsiZXh0cmFDbGFzc2VzIjogImZhLXJvdGF0ZS0wIiwgImljb24iOiAiaW5mby1zaWduIiwgImljb25Db2xvciI6ICJ3aGl0ZSIsICJtYXJrZXJDb2xvciI6ICJyZWQiLCAicHJlZml4IjogImdseXBoaWNvbiJ9CiAgICAgICAgICAgICk7CiAgICAgICAgICAgIG1hcmtlcl9iYzBmMTc0ODBiMGI0NjU5OTY1OTRlMWIyNTBlOWEwMS5zZXRJY29uKGljb25fNTBkNGQ4MGI4OWYxNGM5ZjhjNWFmZTBhYmRiZTQwY2MpOwogICAgICAgIAogICAgCiAgICAgICAgICAgIHZhciBtYXJrZXJfZmMwYmNhOGI4ODg2NDg1NDkyNTc1ZWU4NjBlZjI2ZWYgPSBMLm1hcmtlcigKICAgICAgICAgICAgICAgIFszNS4xNTY2Njc0MTIyMDIsIDEyOS4wNDgzNDUzODkzMzFdLAogICAgICAgICAgICAgICAge30KICAgICAgICAgICAgKS5hZGRUbyhtYXBfNWQyZmI5NDJmNDY5NGQ2YjllMzJlY2Y2ZTRhMjFlYTMpOwogICAgICAgIAogICAgCiAgICAgICAgICAgIHZhciBpY29uXzczMzczZDJmMzMxZTRiZmM4N2UyZTNkMTY3ZDVlYWE5ID0gTC5Bd2Vzb21lTWFya2Vycy5pY29uKAogICAgICAgICAgICAgICAgeyJleHRyYUNsYXNzZXMiOiAiZmEtcm90YXRlLTAiLCAiaWNvbiI6ICJpbmZvLXNpZ24iLCAiaWNvbkNvbG9yIjogIndoaXRlIiwgIm1hcmtlckNvbG9yIjogInJlZCIsICJwcmVmaXgiOiAiZ2x5cGhpY29uIn0KICAgICAgICAgICAgKTsKICAgICAgICAgICAgbWFya2VyX2ZjMGJjYThiODg4NjQ4NTQ5MjU3NWVlODYwZWYyNmVmLnNldEljb24oaWNvbl83MzM3M2QyZjMzMWU0YmZjODdlMmUzZDE2N2Q1ZWFhOSk7CiAgICAgICAgCiAgICAKICAgICAgICAgICAgdmFyIG1hcmtlcl8xOTg4YjIzYzQ3NDE0YzA4YjEwZDNlMGRlMDFmMWI1ZCA9IEwubWFya2VyKAogICAgICAgICAgICAgICAgWzM1LjE1NzMzNjkzNzc5LCAxMjkuMDQ4OTg3NjE2NDkyXSwKICAgICAgICAgICAgICAgIHt9CiAgICAgICAgICAgICkuYWRkVG8obWFwXzVkMmZiOTQyZjQ2OTRkNmI5ZTMyZWNmNmU0YTIxZWEzKTsKICAgICAgICAKICAgIAogICAgICAgICAgICB2YXIgaWNvbl9kMzY1MmY5Njg3YjQ0ODdmYjBkMjE0M2Q3NDNiMGZkZSA9IEwuQXdlc29tZU1hcmtlcnMuaWNvbigKICAgICAgICAgICAgICAgIHsiZXh0cmFDbGFzc2VzIjogImZhLXJvdGF0ZS0wIiwgImljb24iOiAiaW5mby1zaWduIiwgImljb25Db2xvciI6ICJ3aGl0ZSIsICJtYXJrZXJDb2xvciI6ICJyZWQiLCAicHJlZml4IjogImdseXBoaWNvbiJ9CiAgICAgICAgICAgICk7CiAgICAgICAgICAgIG1hcmtlcl8xOTg4YjIzYzQ3NDE0YzA4YjEwZDNlMGRlMDFmMWI1ZC5zZXRJY29uKGljb25fZDM2NTJmOTY4N2I0NDg3ZmIwZDIxNDNkNzQzYjBmZGUpOwogICAgICAgIAogICAgCiAgICAgICAgICAgIHZhciBtYXJrZXJfZTYyYzI2ZDlmYWQzNGM5ZTlhZTlhNzdlYTZlNGM4YjkgPSBMLm1hcmtlcigKICAgICAgICAgICAgICAgIFszNS4xMTU3MDE3NDM3MjUsIDEyOS4wNDAxNDcyNjUyOTddLAogICAgICAgICAgICAgICAge30KICAgICAgICAgICAgKS5hZGRUbyhtYXBfNWQyZmI5NDJmNDY5NGQ2YjllMzJlY2Y2ZTRhMjFlYTMpOwogICAgICAgIAogICAgCiAgICAgICAgICAgIHZhciBpY29uXzFiNGY2ZTg3MDk5MjQzNzVhZGI1N2U5MWFiMjkxNWVjID0gTC5Bd2Vzb21lTWFya2Vycy5pY29uKAogICAgICAgICAgICAgICAgeyJleHRyYUNsYXNzZXMiOiAiZmEtcm90YXRlLTAiLCAiaWNvbiI6ICJpbmZvLXNpZ24iLCAiaWNvbkNvbG9yIjogIndoaXRlIiwgIm1hcmtlckNvbG9yIjogInJlZCIsICJwcmVmaXgiOiAiZ2x5cGhpY29uIn0KICAgICAgICAgICAgKTsKICAgICAgICAgICAgbWFya2VyX2U2MmMyNmQ5ZmFkMzRjOWU5YWU5YTc3ZWE2ZTRjOGI5LnNldEljb24oaWNvbl8xYjRmNmU4NzA5OTI0Mzc1YWRiNTdlOTFhYjI5MTVlYyk7CiAgICAgICAgCiAgICAKICAgICAgICAgICAgdmFyIG1hcmtlcl85YjZiODIwNTU4Zjg0ODVmYjEzZjM4MzQzMDQ1NjFjNyA9IEwubWFya2VyKAogICAgICAgICAgICAgICAgWzM1LjE1NDU1MjU0ODA5OCwgMTI5LjAzNjk0MTQ1ODA3XSwKICAgICAgICAgICAgICAgIHt9CiAgICAgICAgICAgICkuYWRkVG8obWFwXzVkMmZiOTQyZjQ2OTRkNmI5ZTMyZWNmNmU0YTIxZWEzKTsKICAgICAgICAKICAgIAogICAgICAgICAgICB2YXIgaWNvbl9hY2RlMzg5ZTY1MDQ0ZGNlOWMyNDQyMWU4YjI2MDlhZCA9IEwuQXdlc29tZU1hcmtlcnMuaWNvbigKICAgICAgICAgICAgICAgIHsiZXh0cmFDbGFzc2VzIjogImZhLXJvdGF0ZS0wIiwgImljb24iOiAiaW5mby1zaWduIiwgImljb25Db2xvciI6ICJ3aGl0ZSIsICJtYXJrZXJDb2xvciI6ICJyZWQiLCAicHJlZml4IjogImdseXBoaWNvbiJ9CiAgICAgICAgICAgICk7CiAgICAgICAgICAgIG1hcmtlcl85YjZiODIwNTU4Zjg0ODVmYjEzZjM4MzQzMDQ1NjFjNy5zZXRJY29uKGljb25fYWNkZTM4OWU2NTA0NGRjZTljMjQ0MjFlOGIyNjA5YWQpOwogICAgICAgIAogICAgCiAgICAgICAgICAgIHZhciBtYXJrZXJfYWM2ZTdiZGRjZmFlNDEwNWFmZGRhNTEzZmZhZTQyMDUgPSBMLm1hcmtlcigKICAgICAgICAgICAgICAgIFszNS4xNTUwMDIxODMzMSwgMTI5LjAzNjY1NzQyMTk1OV0sCiAgICAgICAgICAgICAgICB7fQogICAgICAgICAgICApLmFkZFRvKG1hcF81ZDJmYjk0MmY0Njk0ZDZiOWUzMmVjZjZlNGEyMWVhMyk7CiAgICAgICAgCiAgICAKICAgICAgICAgICAgdmFyIGljb25fNjUyNDc1MzNmODEyNDhlMzg1NmExYjk5MThlMmJlMjEgPSBMLkF3ZXNvbWVNYXJrZXJzLmljb24oCiAgICAgICAgICAgICAgICB7ImV4dHJhQ2xhc3NlcyI6ICJmYS1yb3RhdGUtMCIsICJpY29uIjogImluZm8tc2lnbiIsICJpY29uQ29sb3IiOiAid2hpdGUiLCAibWFya2VyQ29sb3IiOiAicmVkIiwgInByZWZpeCI6ICJnbHlwaGljb24ifQogICAgICAgICAgICApOwogICAgICAgICAgICBtYXJrZXJfYWM2ZTdiZGRjZmFlNDEwNWFmZGRhNTEzZmZhZTQyMDUuc2V0SWNvbihpY29uXzY1MjQ3NTMzZjgxMjQ4ZTM4NTZhMWI5OTE4ZTJiZTIxKTsKICAgICAgICAKICAgIAogICAgICAgICAgICB2YXIgbWFya2VyX2JiN2IyNzgxZGNkNzRkOGQ5NTUwMTM4OTYyMjAyMGFiID0gTC5tYXJrZXIoCiAgICAgICAgICAgICAgICBbMzUuMTM3MzcwNzQxNTU0LCAxMjkuMDYyNDIwMjAxMjQ3XSwKICAgICAgICAgICAgICAgIHt9CiAgICAgICAgICAgICkuYWRkVG8obWFwXzVkMmZiOTQyZjQ2OTRkNmI5ZTMyZWNmNmU0YTIxZWEzKTsKICAgICAgICAKICAgIAogICAgICAgICAgICB2YXIgaWNvbl84MGE2YjFlNWFmNzY0YTY3YWI3NzU3MDc1NDMzMDNiOSA9IEwuQXdlc29tZU1hcmtlcnMuaWNvbigKICAgICAgICAgICAgICAgIHsiZXh0cmFDbGFzc2VzIjogImZhLXJvdGF0ZS0wIiwgImljb24iOiAiaW5mby1zaWduIiwgImljb25Db2xvciI6ICJ3aGl0ZSIsICJtYXJrZXJDb2xvciI6ICJyZWQiLCAicHJlZml4IjogImdseXBoaWNvbiJ9CiAgICAgICAgICAgICk7CiAgICAgICAgICAgIG1hcmtlcl9iYjdiMjc4MWRjZDc0ZDhkOTU1MDEzODk2MjIwMjBhYi5zZXRJY29uKGljb25fODBhNmIxZTVhZjc2NGE2N2FiNzc1NzA3NTQzMzAzYjkpOwogICAgICAgIAogICAgCiAgICAgICAgICAgIHZhciBtYXJrZXJfNTEzMzU2NDBiMzY4NGE0M2EyZjk3Y2I1ZjViOGM2ZmUgPSBMLm1hcmtlcigKICAgICAgICAgICAgICAgIFszNS4xNTc4NTYyMDQ3MjEsIDEyOS4wNTU1NjA2ODk2MzFdLAogICAgICAgICAgICAgICAge30KICAgICAgICAgICAgKS5hZGRUbyhtYXBfNWQyZmI5NDJmNDY5NGQ2YjllMzJlY2Y2ZTRhMjFlYTMpOwogICAgICAgIAogICAgCiAgICAgICAgICAgIHZhciBpY29uX2ZlN2E4NjFhNzA3NjQ2OTFiMDBkMGYyOWM4YTFhZTdjID0gTC5Bd2Vzb21lTWFya2Vycy5pY29uKAogICAgICAgICAgICAgICAgeyJleHRyYUNsYXNzZXMiOiAiZmEtcm90YXRlLTAiLCAiaWNvbiI6ICJpbmZvLXNpZ24iLCAiaWNvbkNvbG9yIjogIndoaXRlIiwgIm1hcmtlckNvbG9yIjogInJlZCIsICJwcmVmaXgiOiAiZ2x5cGhpY29uIn0KICAgICAgICAgICAgKTsKICAgICAgICAgICAgbWFya2VyXzUxMzM1NjQwYjM2ODRhNDNhMmY5N2NiNWY1YjhjNmZlLnNldEljb24oaWNvbl9mZTdhODYxYTcwNzY0NjkxYjAwZDBmMjljOGExYWU3Yyk7CiAgICAgICAgCiAgICAKICAgICAgICAgICAgdmFyIG1hcmtlcl82NjUwYWNiZjkwZDA0NWRjYTkyNGMzODhjNjI2NzlhNyA9IEwubWFya2VyKAogICAgICAgICAgICAgICAgWzM1LjE0ODczODU1OTM4NiwgMTI5LjA1OTQzMzk5NDA5OV0sCiAgICAgICAgICAgICAgICB7fQogICAgICAgICAgICApLmFkZFRvKG1hcF81ZDJmYjk0MmY0Njk0ZDZiOWUzMmVjZjZlNGEyMWVhMyk7CiAgICAgICAgCiAgICAKICAgICAgICAgICAgdmFyIGljb25fMDJjOTUyNDYyMGI3NGY3MzliMWU5Y2ZlZGEzYzgzNGQgPSBMLkF3ZXNvbWVNYXJrZXJzLmljb24oCiAgICAgICAgICAgICAgICB7ImV4dHJhQ2xhc3NlcyI6ICJmYS1yb3RhdGUtMCIsICJpY29uIjogImluZm8tc2lnbiIsICJpY29uQ29sb3IiOiAid2hpdGUiLCAibWFya2VyQ29sb3IiOiAicmVkIiwgInByZWZpeCI6ICJnbHlwaGljb24ifQogICAgICAgICAgICApOwogICAgICAgICAgICBtYXJrZXJfNjY1MGFjYmY5MGQwNDVkY2E5MjRjMzg4YzYyNjc5YTcuc2V0SWNvbihpY29uXzAyYzk1MjQ2MjBiNzRmNzM5YjFlOWNmZWRhM2M4MzRkKTsKICAgICAgICAKICAgIAogICAgICAgICAgICB2YXIgbWFya2VyXzZhMjkxY2UwZTM2MzQ2ZGU5ZTI4ODg3ODZlNjk0MTYyID0gTC5tYXJrZXIoCiAgICAgICAgICAgICAgICBbMzUuMTUzNTkzODUwNDI4LCAxMjkuMDMxMzkwODk1NDQxXSwKICAgICAgICAgICAgICAgIHt9CiAgICAgICAgICAgICkuYWRkVG8obWFwXzVkMmZiOTQyZjQ2OTRkNmI5ZTMyZWNmNmU0YTIxZWEzKTsKICAgICAgICAKICAgIAogICAgICAgICAgICB2YXIgaWNvbl8wODJkOTE0ZmEyNmM0MTYwOTYwY2ZkZjEwYzE3NWM5MiA9IEwuQXdlc29tZU1hcmtlcnMuaWNvbigKICAgICAgICAgICAgICAgIHsiZXh0cmFDbGFzc2VzIjogImZhLXJvdGF0ZS0wIiwgImljb24iOiAiaW5mby1zaWduIiwgImljb25Db2xvciI6ICJ3aGl0ZSIsICJtYXJrZXJDb2xvciI6ICJyZWQiLCAicHJlZml4IjogImdseXBoaWNvbiJ9CiAgICAgICAgICAgICk7CiAgICAgICAgICAgIG1hcmtlcl82YTI5MWNlMGUzNjM0NmRlOWUyODg4Nzg2ZTY5NDE2Mi5zZXRJY29uKGljb25fMDgyZDkxNGZhMjZjNDE2MDk2MGNmZGYxMGMxNzVjOTIpOwogICAgICAgIAogICAgCiAgICAgICAgICAgIHZhciBtYXJrZXJfNjI1NjFhYjJiMDNhNGM3NGFiM2U3YTMwMDkyMDM0ZGEgPSBMLm1hcmtlcigKICAgICAgICAgICAgICAgIFszNS4xNDQwNzQ2NDczODUsIDEyOS4wNTkxMDM0MzA1ODhdLAogICAgICAgICAgICAgICAge30KICAgICAgICAgICAgKS5hZGRUbyhtYXBfNWQyZmI5NDJmNDY5NGQ2YjllMzJlY2Y2ZTRhMjFlYTMpOwogICAgICAgIAogICAgCiAgICAgICAgICAgIHZhciBpY29uX2QwNGRiNzcxZjU1MTQxZjA5M2M4YjVhYTk2YTIwYjk4ID0gTC5Bd2Vzb21lTWFya2Vycy5pY29uKAogICAgICAgICAgICAgICAgeyJleHRyYUNsYXNzZXMiOiAiZmEtcm90YXRlLTAiLCAiaWNvbiI6ICJpbmZvLXNpZ24iLCAiaWNvbkNvbG9yIjogIndoaXRlIiwgIm1hcmtlckNvbG9yIjogInJlZCIsICJwcmVmaXgiOiAiZ2x5cGhpY29uIn0KICAgICAgICAgICAgKTsKICAgICAgICAgICAgbWFya2VyXzYyNTYxYWIyYjAzYTRjNzRhYjNlN2EzMDA5MjAzNGRhLnNldEljb24oaWNvbl9kMDRkYjc3MWY1NTE0MWYwOTNjOGI1YWE5NmEyMGI5OCk7CiAgICAgICAgCiAgICAKICAgICAgICAgICAgdmFyIG1hcmtlcl9hYWFiMTM3ODY5YjA0NGNiOTZhNGQ4MWY4NzAwY2RhNSA9IEwubWFya2VyKAogICAgICAgICAgICAgICAgWzM1LjMxNDE0MTIzNjk4NCwgMTI5LjE2OTk0NzA4Nzc5Ml0sCiAgICAgICAgICAgICAgICB7fQogICAgICAgICAgICApLmFkZFRvKG1hcF81ZDJmYjk0MmY0Njk0ZDZiOWUzMmVjZjZlNGEyMWVhMyk7CiAgICAgICAgCiAgICAKICAgICAgICAgICAgdmFyIGljb25fMTFmNjdmYzg0N2JjNDMwOTkyYzdlMTdkNjA2M2UzYTAgPSBMLkF3ZXNvbWVNYXJrZXJzLmljb24oCiAgICAgICAgICAgICAgICB7ImV4dHJhQ2xhc3NlcyI6ICJmYS1yb3RhdGUtMCIsICJpY29uIjogImluZm8tc2lnbiIsICJpY29uQ29sb3IiOiAid2hpdGUiLCAibWFya2VyQ29sb3IiOiAiYmx1ZSIsICJwcmVmaXgiOiAiZ2x5cGhpY29uIn0KICAgICAgICAgICAgKTsKICAgICAgICAgICAgbWFya2VyX2FhYWIxMzc4NjliMDQ0Y2I5NmE0ZDgxZjg3MDBjZGE1LnNldEljb24oaWNvbl8xMWY2N2ZjODQ3YmM0MzA5OTJjN2UxN2Q2MDYzZTNhMCk7CiAgICAgICAgCiAgICAKICAgICAgICAgICAgdmFyIG1hcmtlcl8wMmQyNDRkNTRhNjA0ZjliOTE2ZTY1ZjUxNTllNDgwMiA9IEwubWFya2VyKAogICAgICAgICAgICAgICAgWzM1LjM3NzA1NTg5OTAxNCwgMTI5LjI1NjMxMzIxMDA5N10sCiAgICAgICAgICAgICAgICB7fQogICAgICAgICAgICApLmFkZFRvKG1hcF81ZDJmYjk0MmY0Njk0ZDZiOWUzMmVjZjZlNGEyMWVhMyk7CiAgICAgICAgCiAgICAKICAgICAgICAgICAgdmFyIGljb25fN2YwMzZiYjZjZjg5NDYzNmI5NDA4NDdkM2ZjMjNiNGUgPSBMLkF3ZXNvbWVNYXJrZXJzLmljb24oCiAgICAgICAgICAgICAgICB7ImV4dHJhQ2xhc3NlcyI6ICJmYS1yb3RhdGUtMCIsICJpY29uIjogImluZm8tc2lnbiIsICJpY29uQ29sb3IiOiAid2hpdGUiLCAibWFya2VyQ29sb3IiOiAiYmx1ZSIsICJwcmVmaXgiOiAiZ2x5cGhpY29uIn0KICAgICAgICAgICAgKTsKICAgICAgICAgICAgbWFya2VyXzAyZDI0NGQ1NGE2MDRmOWI5MTZlNjVmNTE1OWU0ODAyLnNldEljb24oaWNvbl83ZjAzNmJiNmNmODk0NjM2Yjk0MDg0N2QzZmMyM2I0ZSk7CiAgICAgICAgCiAgICAKICAgICAgICAgICAgdmFyIG1hcmtlcl9hZGQ3OGNlZmJiMGQ0MDBlOTRmNGZiM2I4YzEzMjhiZCA9IEwubWFya2VyKAogICAgICAgICAgICAgICAgWzM1LjI5NTc0NDExOTM4OSwgMTI5LjE3MDEzNjQ2NzE2Ml0sCiAgICAgICAgICAgICAgICB7fQogICAgICAgICAgICApLmFkZFRvKG1hcF81ZDJmYjk0MmY0Njk0ZDZiOWUzMmVjZjZlNGEyMWVhMyk7CiAgICAgICAgCiAgICAKICAgICAgICAgICAgdmFyIGljb25fYmRiODU1MGI3YmY0NDU5MDk1YTM1Yjg3ZGYwOWU4ZTkgPSBMLkF3ZXNvbWVNYXJrZXJzLmljb24oCiAgICAgICAgICAgICAgICB7ImV4dHJhQ2xhc3NlcyI6ICJmYS1yb3RhdGUtMCIsICJpY29uIjogImluZm8tc2lnbiIsICJpY29uQ29sb3IiOiAid2hpdGUiLCAibWFya2VyQ29sb3IiOiAiYmx1ZSIsICJwcmVmaXgiOiAiZ2x5cGhpY29uIn0KICAgICAgICAgICAgKTsKICAgICAgICAgICAgbWFya2VyX2FkZDc4Y2VmYmIwZDQwMGU5NGY0ZmIzYjhjMTMyOGJkLnNldEljb24oaWNvbl9iZGI4NTUwYjdiZjQ0NTkwOTVhMzViODdkZjA5ZThlOSk7CiAgICAgICAgCiAgICAKICAgICAgICAgICAgdmFyIG1hcmtlcl8zOTVlZjVjN2ZmZWI0YWFjODUyMDRmYjYyY2VlOWJiYiA9IEwubWFya2VyKAogICAgICAgICAgICAgICAgWzM1LjI3MjIwNTMyNjc2MSwgMTI5LjE1NzcwMzE5MDkyOV0sCiAgICAgICAgICAgICAgICB7fQogICAgICAgICAgICApLmFkZFRvKG1hcF81ZDJmYjk0MmY0Njk0ZDZiOWUzMmVjZjZlNGEyMWVhMyk7CiAgICAgICAgCiAgICAKICAgICAgICAgICAgdmFyIGljb25fYzUwZDM2NjY1MGRjNGJhMmFhYjMwN2U2YTEwNjQzMTkgPSBMLkF3ZXNvbWVNYXJrZXJzLmljb24oCiAgICAgICAgICAgICAgICB7ImV4dHJhQ2xhc3NlcyI6ICJmYS1yb3RhdGUtMCIsICJpY29uIjogImluZm8tc2lnbiIsICJpY29uQ29sb3IiOiAid2hpdGUiLCAibWFya2VyQ29sb3IiOiAiYmx1ZSIsICJwcmVmaXgiOiAiZ2x5cGhpY29uIn0KICAgICAgICAgICAgKTsKICAgICAgICAgICAgbWFya2VyXzM5NWVmNWM3ZmZlYjRhYWM4NTIwNGZiNjJjZWU5YmJiLnNldEljb24oaWNvbl9jNTBkMzY2NjUwZGM0YmEyYWFiMzA3ZTZhMTA2NDMxOSk7CiAgICAgICAgCiAgICAKICAgICAgICAgICAgdmFyIG1hcmtlcl9hMjU0YjY5NmYzMTI0NjhlOTVmNzg4ODNmMzM2ZWM2YSA9IEwubWFya2VyKAogICAgICAgICAgICAgICAgWzM1LjI3MjA1NzE2MTIzOCwgMTI5LjE1NzY0OTAyODkzNl0sCiAgICAgICAgICAgICAgICB7fQogICAgICAgICAgICApLmFkZFRvKG1hcF81ZDJmYjk0MmY0Njk0ZDZiOWUzMmVjZjZlNGEyMWVhMyk7CiAgICAgICAgCiAgICAKICAgICAgICAgICAgdmFyIGljb25fZTNmZjdhZWYxOTQ1NDBhOWFkOTY4OWUzZTgzNzgyNGQgPSBMLkF3ZXNvbWVNYXJrZXJzLmljb24oCiAgICAgICAgICAgICAgICB7ImV4dHJhQ2xhc3NlcyI6ICJmYS1yb3RhdGUtMCIsICJpY29uIjogImluZm8tc2lnbiIsICJpY29uQ29sb3IiOiAid2hpdGUiLCAibWFya2VyQ29sb3IiOiAiYmx1ZSIsICJwcmVmaXgiOiAiZ2x5cGhpY29uIn0KICAgICAgICAgICAgKTsKICAgICAgICAgICAgbWFya2VyX2EyNTRiNjk2ZjMxMjQ2OGU5NWY3ODg4M2YzMzZlYzZhLnNldEljb24oaWNvbl9lM2ZmN2FlZjE5NDU0MGE5YWQ5Njg5ZTNlODM3ODI0ZCk7CiAgICAgICAgCiAgICAKICAgICAgICAgICAgdmFyIG1hcmtlcl9iOWE2ZTc4YjBlODk0YmQ4OThjMjdjMzhiNjNkMTg5MSA9IEwubWFya2VyKAogICAgICAgICAgICAgICAgWzM1LjMwNjYxMDI1MTQ2NCwgMTI5LjE3MjM5MTQ2ODcxNF0sCiAgICAgICAgICAgICAgICB7fQogICAgICAgICAgICApLmFkZFRvKG1hcF81ZDJmYjk0MmY0Njk0ZDZiOWUzMmVjZjZlNGEyMWVhMyk7CiAgICAgICAgCiAgICAKICAgICAgICAgICAgdmFyIGljb25fY2I4YmNiNDE5NDFlNDdhZjlkYWMxMGM5YzBmZTAyYmEgPSBMLkF3ZXNvbWVNYXJrZXJzLmljb24oCiAgICAgICAgICAgICAgICB7ImV4dHJhQ2xhc3NlcyI6ICJmYS1yb3RhdGUtMCIsICJpY29uIjogImluZm8tc2lnbiIsICJpY29uQ29sb3IiOiAid2hpdGUiLCAibWFya2VyQ29sb3IiOiAiYmx1ZSIsICJwcmVmaXgiOiAiZ2x5cGhpY29uIn0KICAgICAgICAgICAgKTsKICAgICAgICAgICAgbWFya2VyX2I5YTZlNzhiMGU4OTRiZDg5OGMyN2MzOGI2M2QxODkxLnNldEljb24oaWNvbl9jYjhiY2I0MTk0MWU0N2FmOWRhYzEwYzljMGZlMDJiYSk7CiAgICAgICAgCiAgICAKICAgICAgICAgICAgdmFyIG1hcmtlcl85ZWY5NjM4N2EyYzY0NjEyOTVhMThkOTlmZTIzZjgzZCA9IEwubWFya2VyKAogICAgICAgICAgICAgICAgWzM1LjE2NTMxMzgzMzU4MSwgMTI4Ljg4NTA1MzE0MTE0NV0sCiAgICAgICAgICAgICAgICB7fQogICAgICAgICAgICApLmFkZFRvKG1hcF81ZDJmYjk0MmY0Njk0ZDZiOWUzMmVjZjZlNGEyMWVhMyk7CiAgICAgICAgCiAgICAKICAgICAgICAgICAgdmFyIGljb25fMTZkNzBhYTQ1Y2M4NDk3NTk4YjMzZDZhYThlZDFhM2MgPSBMLkF3ZXNvbWVNYXJrZXJzLmljb24oCiAgICAgICAgICAgICAgICB7ImV4dHJhQ2xhc3NlcyI6ICJmYS1yb3RhdGUtMCIsICJpY29uIjogImluZm8tc2lnbiIsICJpY29uQ29sb3IiOiAid2hpdGUiLCAibWFya2VyQ29sb3IiOiAiYmx1ZSIsICJwcmVmaXgiOiAiZ2x5cGhpY29uIn0KICAgICAgICAgICAgKTsKICAgICAgICAgICAgbWFya2VyXzllZjk2Mzg3YTJjNjQ2MTI5NWExOGQ5OWZlMjNmODNkLnNldEljb24oaWNvbl8xNmQ3MGFhNDVjYzg0OTc1OThiMzNkNmFhOGVkMWEzYyk7CiAgICAgICAgCiAgICAKICAgICAgICAgICAgdmFyIG1hcmtlcl83MmNjNjNhMDM2NTg0Njc1YTZkN2E5MDI5YWViMjc0MSA9IEwubWFya2VyKAogICAgICAgICAgICAgICAgWzM1LjE1NDczOTY0NDAxMSwgMTI4Ljg4NDMzNzgwODUzNl0sCiAgICAgICAgICAgICAgICB7fQogICAgICAgICAgICApLmFkZFRvKG1hcF81ZDJmYjk0MmY0Njk0ZDZiOWUzMmVjZjZlNGEyMWVhMyk7CiAgICAgICAgCiAgICAKICAgICAgICAgICAgdmFyIGljb25fMmExOWEwYWM5MWIxNDcwZGFlZWY3MzQyNjhiZWFlNDEgPSBMLkF3ZXNvbWVNYXJrZXJzLmljb24oCiAgICAgICAgICAgICAgICB7ImV4dHJhQ2xhc3NlcyI6ICJmYS1yb3RhdGUtMCIsICJpY29uIjogImluZm8tc2lnbiIsICJpY29uQ29sb3IiOiAid2hpdGUiLCAibWFya2VyQ29sb3IiOiAiYmx1ZSIsICJwcmVmaXgiOiAiZ2x5cGhpY29uIn0KICAgICAgICAgICAgKTsKICAgICAgICAgICAgbWFya2VyXzcyY2M2M2EwMzY1ODQ2NzVhNmQ3YTkwMjlhZWIyNzQxLnNldEljb24oaWNvbl8yYTE5YTBhYzkxYjE0NzBkYWVlZjczNDI2OGJlYWU0MSk7CiAgICAgICAgCiAgICAKICAgICAgICAgICAgdmFyIG1hcmtlcl8xMTA0ZDQ5NzQ4ZmI0YWQzYmFkYTdjNzU3NzYzZDVlMCA9IEwubWFya2VyKAogICAgICAgICAgICAgICAgWzM1LjE1NDM2NzM3MjY5OCwgMTI4Ljg4MzQ0NDAxNjkyN10sCiAgICAgICAgICAgICAgICB7fQogICAgICAgICAgICApLmFkZFRvKG1hcF81ZDJmYjk0MmY0Njk0ZDZiOWUzMmVjZjZlNGEyMWVhMyk7CiAgICAgICAgCiAgICAKICAgICAgICAgICAgdmFyIGljb25fOWExOGZiYWU1YWRiNDliOWJjOWI3ZTJlNjEzNjFkNzYgPSBMLkF3ZXNvbWVNYXJrZXJzLmljb24oCiAgICAgICAgICAgICAgICB7ImV4dHJhQ2xhc3NlcyI6ICJmYS1yb3RhdGUtMCIsICJpY29uIjogImluZm8tc2lnbiIsICJpY29uQ29sb3IiOiAid2hpdGUiLCAibWFya2VyQ29sb3IiOiAiYmx1ZSIsICJwcmVmaXgiOiAiZ2x5cGhpY29uIn0KICAgICAgICAgICAgKTsKICAgICAgICAgICAgbWFya2VyXzExMDRkNDk3NDhmYjRhZDNiYWRhN2M3NTc3NjNkNWUwLnNldEljb24oaWNvbl85YTE4ZmJhZTVhZGI0OWI5YmM5YjdlMmU2MTM2MWQ3Nik7CiAgICAgICAgCiAgICAKICAgICAgICAgICAgdmFyIG1hcmtlcl8xMmViMzg2N2Q5ZmM0NmQ0YTMwODE4NWQzMTk5ZjQ2ZCA9IEwubWFya2VyKAogICAgICAgICAgICAgICAgWzM1LjE2NTI1NTM1OTY2OCwgMTI4Ljg4NDgwNzM0NDczOF0sCiAgICAgICAgICAgICAgICB7fQogICAgICAgICAgICApLmFkZFRvKG1hcF81ZDJmYjk0MmY0Njk0ZDZiOWUzMmVjZjZlNGEyMWVhMyk7CiAgICAgICAgCiAgICAKICAgICAgICAgICAgdmFyIGljb25fNDJmMTYyOTk4MmI4NDJlYTgzZGZhNmVkYTdiYjk4N2EgPSBMLkF3ZXNvbWVNYXJrZXJzLmljb24oCiAgICAgICAgICAgICAgICB7ImV4dHJhQ2xhc3NlcyI6ICJmYS1yb3RhdGUtMCIsICJpY29uIjogImluZm8tc2lnbiIsICJpY29uQ29sb3IiOiAid2hpdGUiLCAibWFya2VyQ29sb3IiOiAiYmx1ZSIsICJwcmVmaXgiOiAiZ2x5cGhpY29uIn0KICAgICAgICAgICAgKTsKICAgICAgICAgICAgbWFya2VyXzEyZWIzODY3ZDlmYzQ2ZDRhMzA4MTg1ZDMxOTlmNDZkLnNldEljb24oaWNvbl80MmYxNjI5OTgyYjg0MmVhODNkZmE2ZWRhN2JiOTg3YSk7CiAgICAgICAgCiAgICAKICAgICAgICAgICAgdmFyIG1hcmtlcl80YjVmYzg3ZmM3NTM0ZmJlODQ1NTQ0NDVhOTBiZjk0ZiA9IEwubWFya2VyKAogICAgICAgICAgICAgICAgWzM1LjE2MzUxODI2ODQ3NCwgMTI4Ljg4OTg5NzY2NDE4Ml0sCiAgICAgICAgICAgICAgICB7fQogICAgICAgICAgICApLmFkZFRvKG1hcF81ZDJmYjk0MmY0Njk0ZDZiOWUzMmVjZjZlNGEyMWVhMyk7CiAgICAgICAgCiAgICAKICAgICAgICAgICAgdmFyIGljb25fMTYzNjRkOGQ1ZDM0NGJkN2E4OGQxNmI2YzYxNGVjMjIgPSBMLkF3ZXNvbWVNYXJrZXJzLmljb24oCiAgICAgICAgICAgICAgICB7ImV4dHJhQ2xhc3NlcyI6ICJmYS1yb3RhdGUtMCIsICJpY29uIjogImluZm8tc2lnbiIsICJpY29uQ29sb3IiOiAid2hpdGUiLCAibWFya2VyQ29sb3IiOiAiYmx1ZSIsICJwcmVmaXgiOiAiZ2x5cGhpY29uIn0KICAgICAgICAgICAgKTsKICAgICAgICAgICAgbWFya2VyXzRiNWZjODdmYzc1MzRmYmU4NDU1NDQ0NWE5MGJmOTRmLnNldEljb24oaWNvbl8xNjM2NGQ4ZDVkMzQ0YmQ3YTg4ZDE2YjZjNjE0ZWMyMik7CiAgICAgICAgCiAgICAKICAgICAgICAgICAgdmFyIG1hcmtlcl9iNGU0MzZjYThiMzY0NTcwOTE4MWQ4YzkwMGYzOTY0MSA9IEwubWFya2VyKAogICAgICAgICAgICAgICAgWzM1LjE2MzczMDg0NjU4OCwgMTI4Ljg5MDEwNjkxNTUyOF0sCiAgICAgICAgICAgICAgICB7fQogICAgICAgICAgICApLmFkZFRvKG1hcF81ZDJmYjk0MmY0Njk0ZDZiOWUzMmVjZjZlNGEyMWVhMyk7CiAgICAgICAgCiAgICAKICAgICAgICAgICAgdmFyIGljb25fNGIzMmJiYmI3ZjI1NDdiYmI3MGNmZjIwODUwY2I2YmQgPSBMLkF3ZXNvbWVNYXJrZXJzLmljb24oCiAgICAgICAgICAgICAgICB7ImV4dHJhQ2xhc3NlcyI6ICJmYS1yb3RhdGUtMCIsICJpY29uIjogImluZm8tc2lnbiIsICJpY29uQ29sb3IiOiAid2hpdGUiLCAibWFya2VyQ29sb3IiOiAiYmx1ZSIsICJwcmVmaXgiOiAiZ2x5cGhpY29uIn0KICAgICAgICAgICAgKTsKICAgICAgICAgICAgbWFya2VyX2I0ZTQzNmNhOGIzNjQ1NzA5MTgxZDhjOTAwZjM5NjQxLnNldEljb24oaWNvbl80YjMyYmJiYjdmMjU0N2JiYjcwY2ZmMjA4NTBjYjZiZCk7CiAgICAgICAgCiAgICAKICAgICAgICAgICAgdmFyIG1hcmtlcl9lYWI3NzkwNjY5ZDk0ZTAzYjg4NWQ0ZmE4OGFhZDc0ZiA9IEwubWFya2VyKAogICAgICAgICAgICAgICAgWzM1LjE2Njk1MDY0OTQzNCwgMTI4Ljg4MTk2NDY3NDQ5OV0sCiAgICAgICAgICAgICAgICB7fQogICAgICAgICAgICApLmFkZFRvKG1hcF81ZDJmYjk0MmY0Njk0ZDZiOWUzMmVjZjZlNGEyMWVhMyk7CiAgICAgICAgCiAgICAKICAgICAgICAgICAgdmFyIGljb25fZmVkMTYwMzI4OTg0NDM2ZjkxYzJkNjBkMDI4MWZiOGMgPSBMLkF3ZXNvbWVNYXJrZXJzLmljb24oCiAgICAgICAgICAgICAgICB7ImV4dHJhQ2xhc3NlcyI6ICJmYS1yb3RhdGUtMCIsICJpY29uIjogImluZm8tc2lnbiIsICJpY29uQ29sb3IiOiAid2hpdGUiLCAibWFya2VyQ29sb3IiOiAiYmx1ZSIsICJwcmVmaXgiOiAiZ2x5cGhpY29uIn0KICAgICAgICAgICAgKTsKICAgICAgICAgICAgbWFya2VyX2VhYjc3OTA2NjlkOTRlMDNiODg1ZDRmYTg4YWFkNzRmLnNldEljb24oaWNvbl9mZWQxNjAzMjg5ODQ0MzZmOTFjMmQ2MGQwMjgxZmI4Yyk7CiAgICAgICAgCiAgICAKICAgICAgICAgICAgdmFyIG1hcmtlcl8zZGNlNmJlNWFiZjc0YTk5OTBiY2FhOGZmZGJlMjJiZiA9IEwubWFya2VyKAogICAgICAgICAgICAgICAgWzM1LjEzNDYyNTQwNTQ3MywgMTI4Ljg5NzE2ODM4MTkxM10sCiAgICAgICAgICAgICAgICB7fQogICAgICAgICAgICApLmFkZFRvKG1hcF81ZDJmYjk0MmY0Njk0ZDZiOWUzMmVjZjZlNGEyMWVhMyk7CiAgICAgICAgCiAgICAKICAgICAgICAgICAgdmFyIGljb25fYjk2NjBiYzc3MWEzNDhhMWI4ZGRmMGI3MWVhZWRlNzkgPSBMLkF3ZXNvbWVNYXJrZXJzLmljb24oCiAgICAgICAgICAgICAgICB7ImV4dHJhQ2xhc3NlcyI6ICJmYS1yb3RhdGUtMCIsICJpY29uIjogImluZm8tc2lnbiIsICJpY29uQ29sb3IiOiAid2hpdGUiLCAibWFya2VyQ29sb3IiOiAiYmx1ZSIsICJwcmVmaXgiOiAiZ2x5cGhpY29uIn0KICAgICAgICAgICAgKTsKICAgICAgICAgICAgbWFya2VyXzNkY2U2YmU1YWJmNzRhOTk5MGJjYWE4ZmZkYmUyMmJmLnNldEljb24oaWNvbl9iOTY2MGJjNzcxYTM0OGExYjhkZGYwYjcxZWFlZGU3OSk7CiAgICAgICAgCiAgICAKICAgICAgICAgICAgdmFyIG1hcmtlcl81ZjExMWRlZTZmZmM0MDJiOGIxMjEwOGU2NjU5OTNiOSA9IEwubWFya2VyKAogICAgICAgICAgICAgICAgWzM1LjE0MTc2NDAxMjE2MywgMTI4Ljg3NDY2NTk4Njc1OF0sCiAgICAgICAgICAgICAgICB7fQogICAgICAgICAgICApLmFkZFRvKG1hcF81ZDJmYjk0MmY0Njk0ZDZiOWUzMmVjZjZlNGEyMWVhMyk7CiAgICAgICAgCiAgICAKICAgICAgICAgICAgdmFyIGljb25fMjgzMzgxOWU4MzNiNDNlOTgzNjhhNWEzZDQxODNlMmUgPSBMLkF3ZXNvbWVNYXJrZXJzLmljb24oCiAgICAgICAgICAgICAgICB7ImV4dHJhQ2xhc3NlcyI6ICJmYS1yb3RhdGUtMCIsICJpY29uIjogImluZm8tc2lnbiIsICJpY29uQ29sb3IiOiAid2hpdGUiLCAibWFya2VyQ29sb3IiOiAiYmx1ZSIsICJwcmVmaXgiOiAiZ2x5cGhpY29uIn0KICAgICAgICAgICAgKTsKICAgICAgICAgICAgbWFya2VyXzVmMTExZGVlNmZmYzQwMmI4YjEyMTA4ZTY2NTk5M2I5LnNldEljb24oaWNvbl8yODMzODE5ZTgzM2I0M2U5ODM2OGE1YTNkNDE4M2UyZSk7CiAgICAgICAgCiAgICAKICAgICAgICAgICAgdmFyIG1hcmtlcl8yZDNmMWNjMmE4M2Y0Mjc2YTI3ODJlM2I2NmRmNWM5ZCA9IEwubWFya2VyKAogICAgICAgICAgICAgICAgWzM1LjEzNDI0NDI3NzQ5OSwgMTI4Ljg5NzAyMDg2OTE2MV0sCiAgICAgICAgICAgICAgICB7fQogICAgICAgICAgICApLmFkZFRvKG1hcF81ZDJmYjk0MmY0Njk0ZDZiOWUzMmVjZjZlNGEyMWVhMyk7CiAgICAgICAgCiAgICAKICAgICAgICAgICAgdmFyIGljb25fMjVlY2U4MWNkNmI2NDhlMDg5YmMyNmJiYTQ3NzM0MmQgPSBMLkF3ZXNvbWVNYXJrZXJzLmljb24oCiAgICAgICAgICAgICAgICB7ImV4dHJhQ2xhc3NlcyI6ICJmYS1yb3RhdGUtMCIsICJpY29uIjogImluZm8tc2lnbiIsICJpY29uQ29sb3IiOiAid2hpdGUiLCAibWFya2VyQ29sb3IiOiAiYmx1ZSIsICJwcmVmaXgiOiAiZ2x5cGhpY29uIn0KICAgICAgICAgICAgKTsKICAgICAgICAgICAgbWFya2VyXzJkM2YxY2MyYTgzZjQyNzZhMjc4MmUzYjY2ZGY1YzlkLnNldEljb24oaWNvbl8yNWVjZTgxY2Q2YjY0OGUwODliYzI2YmJhNDc3MzQyZCk7CiAgICAgICAgCiAgICAKICAgICAgICAgICAgdmFyIG1hcmtlcl9mZjAzN2VmMGE2YWE0ZTg5OTg1YjMxNDhjYmVlMDY1OCA9IEwubWFya2VyKAogICAgICAgICAgICAgICAgWzM1LjA5MjgzODM4MTE2MSwgMTI4Ljk3ODA1NDExMjMxM10sCiAgICAgICAgICAgICAgICB7fQogICAgICAgICAgICApLmFkZFRvKG1hcF81ZDJmYjk0MmY0Njk0ZDZiOWUzMmVjZjZlNGEyMWVhMyk7CiAgICAgICAgCiAgICAKICAgICAgICAgICAgdmFyIGljb25fMmRhYjBlNDliY2I4NDFiY2FkNGZjMzU0NThlMGI4ZTMgPSBMLkF3ZXNvbWVNYXJrZXJzLmljb24oCiAgICAgICAgICAgICAgICB7ImV4dHJhQ2xhc3NlcyI6ICJmYS1yb3RhdGUtMCIsICJpY29uIjogImluZm8tc2lnbiIsICJpY29uQ29sb3IiOiAid2hpdGUiLCAibWFya2VyQ29sb3IiOiAiYmx1ZSIsICJwcmVmaXgiOiAiZ2x5cGhpY29uIn0KICAgICAgICAgICAgKTsKICAgICAgICAgICAgbWFya2VyX2ZmMDM3ZWYwYTZhYTRlODk5ODViMzE0OGNiZWUwNjU4LnNldEljb24oaWNvbl8yZGFiMGU0OWJjYjg0MWJjYWQ0ZmMzNTQ1OGUwYjhlMyk7CiAgICAgICAgCiAgICAKICAgICAgICAgICAgdmFyIG1hcmtlcl85ZjkwYmQzNjgyYTM0NzYyOTEwZjY4ZGU0OWUzZjJhOSA9IEwubWFya2VyKAogICAgICAgICAgICAgICAgWzM1LjA5MDQ4MzE5OTY0NSwgMTI4Ljk3Nzk2NzA2ODAzMV0sCiAgICAgICAgICAgICAgICB7fQogICAgICAgICAgICApLmFkZFRvKG1hcF81ZDJmYjk0MmY0Njk0ZDZiOWUzMmVjZjZlNGEyMWVhMyk7CiAgICAgICAgCiAgICAKICAgICAgICAgICAgdmFyIGljb25fNThjNDAzMjNkYzdmNGE2YTg5ZWVhY2VkMjJlZWFjOWYgPSBMLkF3ZXNvbWVNYXJrZXJzLmljb24oCiAgICAgICAgICAgICAgICB7ImV4dHJhQ2xhc3NlcyI6ICJmYS1yb3RhdGUtMCIsICJpY29uIjogImluZm8tc2lnbiIsICJpY29uQ29sb3IiOiAid2hpdGUiLCAibWFya2VyQ29sb3IiOiAiYmx1ZSIsICJwcmVmaXgiOiAiZ2x5cGhpY29uIn0KICAgICAgICAgICAgKTsKICAgICAgICAgICAgbWFya2VyXzlmOTBiZDM2ODJhMzQ3NjI5MTBmNjhkZTQ5ZTNmMmE5LnNldEljb24oaWNvbl81OGM0MDMyM2RjN2Y0YTZhODllZWFjZWQyMmVlYWM5Zik7CiAgICAgICAgCiAgICAKICAgICAgICAgICAgdmFyIG1hcmtlcl83ZjJkMmQyMGI1NGE0YTA0OGZkYzgyZjU3ZWJlNzM5ZiA9IEwubWFya2VyKAogICAgICAgICAgICAgICAgWzM1LjA4ODc3MzQ2NDIzOSwgMTI4Ljg0NzQ0NzYzMzk1OV0sCiAgICAgICAgICAgICAgICB7fQogICAgICAgICAgICApLmFkZFRvKG1hcF81ZDJmYjk0MmY0Njk0ZDZiOWUzMmVjZjZlNGEyMWVhMyk7CiAgICAgICAgCiAgICAKICAgICAgICAgICAgdmFyIGljb25fNDk4NzlkNGJlNmRmNDZjNThiMGEzYTVhZGNlOTQ3OTcgPSBMLkF3ZXNvbWVNYXJrZXJzLmljb24oCiAgICAgICAgICAgICAgICB7ImV4dHJhQ2xhc3NlcyI6ICJmYS1yb3RhdGUtMCIsICJpY29uIjogImluZm8tc2lnbiIsICJpY29uQ29sb3IiOiAid2hpdGUiLCAibWFya2VyQ29sb3IiOiAiYmx1ZSIsICJwcmVmaXgiOiAiZ2x5cGhpY29uIn0KICAgICAgICAgICAgKTsKICAgICAgICAgICAgbWFya2VyXzdmMmQyZDIwYjU0YTRhMDQ4ZmRjODJmNTdlYmU3MzlmLnNldEljb24oaWNvbl80OTg3OWQ0YmU2ZGY0NmM1OGIwYTNhNWFkY2U5NDc5Nyk7CiAgICAgICAgCiAgICAKICAgICAgICAgICAgdmFyIG1hcmtlcl82ZmYyYzFmYzQ3MjE0NmEwOGYzMTRhZmE3YTNhNzllNCA9IEwubWFya2VyKAogICAgICAgICAgICAgICAgWzM1LjA4OTE0NTU3NzQ1MywgMTI4Ljg0Nzg2NzE4ODY5OF0sCiAgICAgICAgICAgICAgICB7fQogICAgICAgICAgICApLmFkZFRvKG1hcF81ZDJmYjk0MmY0Njk0ZDZiOWUzMmVjZjZlNGEyMWVhMyk7CiAgICAgICAgCiAgICAKICAgICAgICAgICAgdmFyIGljb25fYzY3YmVmNWVmN2VlNDMzMDk4NGFjMzMzMmE2NjY5YWMgPSBMLkF3ZXNvbWVNYXJrZXJzLmljb24oCiAgICAgICAgICAgICAgICB7ImV4dHJhQ2xhc3NlcyI6ICJmYS1yb3RhdGUtMCIsICJpY29uIjogImluZm8tc2lnbiIsICJpY29uQ29sb3IiOiAid2hpdGUiLCAibWFya2VyQ29sb3IiOiAiYmx1ZSIsICJwcmVmaXgiOiAiZ2x5cGhpY29uIn0KICAgICAgICAgICAgKTsKICAgICAgICAgICAgbWFya2VyXzZmZjJjMWZjNDcyMTQ2YTA4ZjMxNGFmYTdhM2E3OWU0LnNldEljb24oaWNvbl9jNjdiZWY1ZWY3ZWU0MzMwOTg0YWMzMzMyYTY2NjlhYyk7CiAgICAgICAgCjwvc2NyaXB0Pg==\" style=\"position:absolute;width:100%;height:100%;left:0;top:0;border:none !important;\" allowfullscreen webkitallowfullscreen mozallowfullscreen></iframe></div></div>"
      ],
      "text/plain": [
       "<folium.folium.Map at 0x14b03f1de10>"
      ]
     },
     "execution_count": 546,
     "metadata": {},
     "output_type": "execute_result"
    }
   ],
   "source": [
    "gps = [ 35.1564294,129.0603389 ]\n",
    "map_busan_bs_oneday = folium.Map(location = gps, zoom_start=11)\n",
    "for id in sorted_busstop_busan_oneday.index[:20] :\n",
    "    folium.Marker([sorted_busstop_busan_oneday['Y'][id], sorted_busstop_busan_oneday['X'][id]],\n",
    "                 icon = folium.Icon(icon = 'info-sign', \n",
    "                                    color = 'red')).add_to(map_busan_bs_oneday)\n",
    "for id in sorted_busstop_busan_oneday.index[-20:] :\n",
    "    folium.Marker([sorted_busstop_busan_oneday['Y'][id], sorted_busstop_busan_oneday['X'][id]],\n",
    "                 icon = folium.Icon(icon = 'info-sign', \n",
    "                                    color = 'blue')).add_to(map_busan_bs_oneday)\n",
    "map_busan_bs_oneday"
   ]
  },
  {
   "cell_type": "code",
   "execution_count": null,
   "metadata": {},
   "outputs": [],
   "source": []
  },
  {
   "cell_type": "code",
   "execution_count": null,
   "metadata": {},
   "outputs": [],
   "source": []
  },
  {
   "cell_type": "code",
   "execution_count": null,
   "metadata": {},
   "outputs": [],
   "source": []
  },
  {
   "cell_type": "code",
   "execution_count": null,
   "metadata": {},
   "outputs": [],
   "source": []
  }
 ],
 "metadata": {
  "kernelspec": {
   "display_name": "Python 3",
   "language": "python",
   "name": "python3"
  },
  "language_info": {
   "codemirror_mode": {
    "name": "ipython",
    "version": 3
   },
   "file_extension": ".py",
   "mimetype": "text/x-python",
   "name": "python",
   "nbconvert_exporter": "python",
   "pygments_lexer": "ipython3",
   "version": "3.6.5"
  }
 },
 "nbformat": 4,
 "nbformat_minor": 2
}
