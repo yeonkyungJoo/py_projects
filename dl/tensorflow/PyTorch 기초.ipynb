{
 "cells": [
  {
   "cell_type": "markdown",
   "metadata": {},
   "source": [
    "### 설치\n",
    "\n",
    "- conda install pytorch-cpu torchvision-cpu -c pytorch"
   ]
  },
  {
   "cell_type": "markdown",
   "metadata": {},
   "source": [
    "### PyTorch(파이토치)\n",
    "\n",
    "- 딥러닝 프레임워크(엔진)\n",
    "- Lua(루아) 언어로 만든 오픈소스 라이브러리\n",
    "- 뉴욕대 + 페이스북 공동 개발\n",
    "- 루아 버전은 인기가 별로 없었다(접근성이 낮음), 파이썬 버전으로 나오고 나서(1.0 발표 후) 급격히 증가\n",
    "- 딥러닝 프레임워크의 특성\n",
    "    - 복잡한, 큰 계산 그래프를 손쉽게 개발\n",
    "    - 계산 그래프를 이용하여 미적분 같은 연산도 쉽게 처리\n",
    "    - GPU 연산을 효율적으로 수행\n",
    "- 파이토치 특징\n",
    "    - Numpy 기반 Tensor 연산을 GPU로 수행 가능\n",
    "    - 자동미분시스템을 이용하여 모델을 쉽게 구성한다\n",
    "    - 파이썬과 같이 활용\n",
    "        - Scipy : 과학 컴퓨팅과 기술 컴퓨팅에 사용\n",
    "        - Numpy : 행렬, 대규모의 다차원 배열을 쉽게 처리(수학/과학용 라이브러리)\n",
    "        - Cython : 파이썬의 빠른 생산성, 외부 C의 강력한 처리속도를 연동하여 수행\n",
    "    - Dynamic Graph Define : 변수 선언 동시에 그래프를 그리고 연산을 가능하게 만든다"
   ]
  },
  {
   "cell_type": "markdown",
   "metadata": {},
   "source": [
    "### Tensorflow vs PyTorch\n",
    "**장르의 경계는 없다**\n",
    "- Tensorflow : 산업용\n",
    "    - Define-and-Run 방식\n",
    "        - 계산 그래프를 그림\n",
    "        - 세션 그래프에 들어갈 수치를 대입\n",
    "- PyTorch : 학계용\n",
    "    - Define-by-Run 방식\n",
    "        - 계산 그래프를 그리는 동시에\n",
    "        - 그래프에 들어간 숫자를 보관하고 있고\n",
    "        - 연산 바로 수행 가능\n",
    "    - 2018.10 이후 산업용으로 확산되고 있다 (제품화 솔루션을 지원)"
   ]
  },
  {
   "cell_type": "code",
   "execution_count": 1,
   "metadata": {},
   "outputs": [],
   "source": [
    "import torch"
   ]
  },
  {
   "cell_type": "code",
   "execution_count": 5,
   "metadata": {},
   "outputs": [
    {
     "data": {
      "text/plain": [
       "tensor([[1., 2., 3.],\n",
       "        [4., 5., 6.]])"
      ]
     },
     "execution_count": 5,
     "metadata": {},
     "output_type": "execute_result"
    }
   ],
   "source": [
    "# 리스트로부터 텐서 생성\n",
    "tmp_list = [ [1, 2, 3], [4, 5, 6] ]\n",
    "x_list_tensor = torch.Tensor( tmp_list )\n",
    "# 텐서를 생성하면 정수값도 float로 변환된다\n",
    "x_list_tensor"
   ]
  },
  {
   "cell_type": "code",
   "execution_count": 6,
   "metadata": {},
   "outputs": [
    {
     "data": {
      "text/plain": [
       "[[1.0, 2.0, 3.0], [4.0, 5.0, 6.0]]"
      ]
     },
     "execution_count": 6,
     "metadata": {},
     "output_type": "execute_result"
    }
   ],
   "source": [
    "# 원복 : Tensor에서 리스트 추출\n",
    "x_list_tensor.tolist()"
   ]
  },
  {
   "cell_type": "code",
   "execution_count": 4,
   "metadata": {},
   "outputs": [],
   "source": [
    "import numpy as np"
   ]
  },
  {
   "cell_type": "code",
   "execution_count": 7,
   "metadata": {},
   "outputs": [
    {
     "data": {
      "text/plain": [
       "array([[1, 2, 3],\n",
       "       [4, 5, 6]])"
      ]
     },
     "execution_count": 7,
     "metadata": {},
     "output_type": "execute_result"
    }
   ],
   "source": [
    "# 배열 (numpy ndarray) :\n",
    "x_numpy_array = np.array( tmp_list )\n",
    "x_numpy_array"
   ]
  },
  {
   "cell_type": "code",
   "execution_count": 8,
   "metadata": {},
   "outputs": [
    {
     "data": {
      "text/plain": [
       "tensor([[1., 2., 3.],\n",
       "        [4., 5., 6.]])"
      ]
     },
     "execution_count": 8,
     "metadata": {},
     "output_type": "execute_result"
    }
   ],
   "source": [
    "x = torch.Tensor( x_numpy_array )\n",
    "x"
   ]
  },
  {
   "cell_type": "code",
   "execution_count": 9,
   "metadata": {},
   "outputs": [
    {
     "data": {
      "text/plain": [
       "array([[1., 2., 3.],\n",
       "       [4., 5., 6.]], dtype=float32)"
      ]
     },
     "execution_count": 9,
     "metadata": {},
     "output_type": "execute_result"
    }
   ],
   "source": [
    "# 원복\n",
    "x.numpy()"
   ]
  },
  {
   "cell_type": "markdown",
   "metadata": {},
   "source": [
    "- GPU 사용"
   ]
  },
  {
   "cell_type": "code",
   "execution_count": 10,
   "metadata": {},
   "outputs": [
    {
     "data": {
      "text/plain": [
       "device(type='cpu')"
      ]
     },
     "execution_count": 10,
     "metadata": {},
     "output_type": "execute_result"
    }
   ],
   "source": [
    "x.device"
   ]
  },
  {
   "cell_type": "code",
   "execution_count": 11,
   "metadata": {},
   "outputs": [
    {
     "name": "stdout",
     "output_type": "stream",
     "text": [
      "cuda 미지원 Torch not compiled with CUDA enabled\n"
     ]
    }
   ],
   "source": [
    "# NVIDIA의 cuda 지원 여부\n",
    "device = 'cuda'\n",
    "try : \n",
    "    x.to(device)\n",
    "    print('%s 지원' % device, x)\n",
    "except Exception as e :\n",
    "    print('%s 미지원' % device, e)"
   ]
  },
  {
   "cell_type": "code",
   "execution_count": 12,
   "metadata": {},
   "outputs": [
    {
     "name": "stdout",
     "output_type": "stream",
     "text": [
      "cpu 지원 tensor([[1., 2., 3.],\n",
      "        [4., 5., 6.]])\n"
     ]
    }
   ],
   "source": [
    "device = 'cpu'\n",
    "try : \n",
    "    x.to(device)\n",
    "    print('%s 지원' % device, x)\n",
    "except Exception as e :\n",
    "    print('%s 미지원' % device, e)"
   ]
  },
  {
   "cell_type": "markdown",
   "metadata": {},
   "source": [
    "- 랜덤 텐서 생성"
   ]
  },
  {
   "cell_type": "code",
   "execution_count": 28,
   "metadata": {},
   "outputs": [
    {
     "data": {
      "text/plain": [
       "tensor([[0.8650, 0.4916, 0.9829],\n",
       "        [0.5351, 0.1912, 0.8132]])"
      ]
     },
     "execution_count": 28,
     "metadata": {},
     "output_type": "execute_result"
    }
   ],
   "source": [
    "# 2x3 행렬 생성, 난수값 0 ~ 1 사이\n",
    "torch.rand( 2, 3 )"
   ]
  },
  {
   "cell_type": "code",
   "execution_count": 29,
   "metadata": {},
   "outputs": [
    {
     "data": {
      "text/plain": [
       "tensor([[1, 3, 4],\n",
       "        [3, 2, 2]])"
      ]
     },
     "execution_count": 29,
     "metadata": {},
     "output_type": "execute_result"
    }
   ],
   "source": [
    "# 0<=x<5 랜덤값\n",
    "# 2x3 행렬 생성\n",
    "torch.randint(low = 0, high = 5, size = (2, 3))"
   ]
  },
  {
   "cell_type": "code",
   "execution_count": 30,
   "metadata": {},
   "outputs": [
    {
     "data": {
      "text/plain": [
       "tensor([[0., 0.],\n",
       "        [0., 0.]])"
      ]
     },
     "execution_count": 30,
     "metadata": {},
     "output_type": "execute_result"
    }
   ],
   "source": [
    "# 영행렬\n",
    "torch.zeros( 2, 2 )"
   ]
  },
  {
   "cell_type": "code",
   "execution_count": 31,
   "metadata": {},
   "outputs": [
    {
     "data": {
      "text/plain": [
       "tensor([[1., 1.],\n",
       "        [1., 1.]])"
      ]
     },
     "execution_count": 31,
     "metadata": {},
     "output_type": "execute_result"
    }
   ],
   "source": [
    "# 구성원이 1인 행렬\n",
    "torch.ones( 2, 2 )"
   ]
  },
  {
   "cell_type": "code",
   "execution_count": 32,
   "metadata": {},
   "outputs": [
    {
     "data": {
      "text/plain": [
       "tensor([[0., 0., 0.],\n",
       "        [0., 0., 0.]])"
      ]
     },
     "execution_count": 32,
     "metadata": {},
     "output_type": "execute_result"
    }
   ],
   "source": [
    "# 특정 텐서의 크기와 동일한 영행렬을 만들어라\n",
    "torch.zeros_like( x )"
   ]
  },
  {
   "cell_type": "code",
   "execution_count": 33,
   "metadata": {},
   "outputs": [
    {
     "data": {
      "text/plain": [
       "tensor([[1., 1., 1.],\n",
       "        [1., 1., 1.]])"
      ]
     },
     "execution_count": 33,
     "metadata": {},
     "output_type": "execute_result"
    }
   ],
   "source": [
    "torch.ones_like( x )"
   ]
  },
  {
   "cell_type": "code",
   "execution_count": 34,
   "metadata": {},
   "outputs": [],
   "source": [
    "# GPU를 이용하여 동일 크기의 영행렬 생성\n",
    "try : \n",
    "    torch.ones_like( x.cuda() )\n",
    "except Exception as e : pass"
   ]
  },
  {
   "cell_type": "markdown",
   "metadata": {},
   "source": [
    "- 텐서의 타입"
   ]
  },
  {
   "cell_type": "code",
   "execution_count": 35,
   "metadata": {},
   "outputs": [],
   "source": [
    "# 실수형 텐서\n",
    "a = torch.FloatTensor( x_numpy_array )"
   ]
  },
  {
   "cell_type": "code",
   "execution_count": 36,
   "metadata": {},
   "outputs": [
    {
     "data": {
      "text/plain": [
       "('torch.FloatTensor', torch.Tensor, tensor([[1., 2., 3.],\n",
       "         [4., 5., 6.]]))"
      ]
     },
     "execution_count": 36,
     "metadata": {},
     "output_type": "execute_result"
    }
   ],
   "source": [
    "# 타입 확인은 텐서.type()\n",
    "a.type(), type(a), a"
   ]
  },
  {
   "cell_type": "code",
   "execution_count": 38,
   "metadata": {},
   "outputs": [],
   "source": [
    "# 정수형 텐서\n",
    "b = torch.IntTensor( x_numpy_array )"
   ]
  },
  {
   "cell_type": "code",
   "execution_count": 39,
   "metadata": {},
   "outputs": [
    {
     "data": {
      "text/plain": [
       "('torch.IntTensor', torch.Tensor, tensor([[1, 2, 3],\n",
       "         [4, 5, 6]], dtype=torch.int32))"
      ]
     },
     "execution_count": 39,
     "metadata": {},
     "output_type": "execute_result"
    }
   ],
   "source": [
    "b.type(), type(b), b"
   ]
  },
  {
   "cell_type": "code",
   "execution_count": null,
   "metadata": {},
   "outputs": [],
   "source": [
    "# numpy ndarray → 행렬 구성의 모든 타입은 동일하다"
   ]
  },
  {
   "cell_type": "code",
   "execution_count": 40,
   "metadata": {},
   "outputs": [
    {
     "data": {
      "text/plain": [
       "('torch.ByteTensor', tensor([1, 0, 1, 0], dtype=torch.uint8))"
      ]
     },
     "execution_count": 40,
     "metadata": {},
     "output_type": "execute_result"
    }
   ],
   "source": [
    "# 8-bit unsigned ByteTensor, 이진 데이터\n",
    "c = torch.ByteTensor( [ True, False, True, False ] )\n",
    "c.type(), c"
   ]
  },
  {
   "cell_type": "markdown",
   "metadata": {},
   "source": [
    "- 텐서 오퍼레이션\n",
    "    - 슬라이싱\n",
    "    - 뷰\n",
    "    - 트랜스포즈\n",
    "    - 스퀴즈, 언스퀴즈\n",
    "    - 캣, 스택\n",
    "    - 기본연산 (더하기, 빼기, 곱하기, 나누기)\n",
    "    - 합, 평균\n",
    "    - 최대, 최소\n",
    "    - 논리 연산"
   ]
  },
  {
   "cell_type": "markdown",
   "metadata": {},
   "source": [
    "- slicing, indexing"
   ]
  },
  {
   "cell_type": "code",
   "execution_count": 41,
   "metadata": {},
   "outputs": [
    {
     "data": {
      "text/plain": [
       "<torch._C.Generator at 0x192fe654fd0>"
      ]
     },
     "execution_count": 41,
     "metadata": {},
     "output_type": "execute_result"
    }
   ],
   "source": [
    "# 작업의 일관성을 주기 위해 → 씨드\n",
    "torch.manual_seed( 555 )"
   ]
  },
  {
   "cell_type": "code",
   "execution_count": 43,
   "metadata": {},
   "outputs": [
    {
     "data": {
      "text/plain": [
       "tensor([[[1, 7, 0, 0],\n",
       "         [7, 8, 7, 5],\n",
       "         [9, 1, 3, 5]],\n",
       "\n",
       "        [[8, 7, 6, 5],\n",
       "         [5, 2, 7, 8],\n",
       "         [5, 9, 2, 8]]])"
      ]
     },
     "execution_count": 43,
     "metadata": {},
     "output_type": "execute_result"
    }
   ],
   "source": [
    "# 크기가 2, 3, 4, \n",
    "# 3차원 텐서(큐브)를 생성하시오.\n",
    "# 값은 0 <= n <= 9, 변수는 x\n",
    "x = torch.randint(low = 0, high = 10, size = (2, 3, 4))\n",
    "x"
   ]
  },
  {
   "cell_type": "code",
   "execution_count": 44,
   "metadata": {},
   "outputs": [
    {
     "data": {
      "text/plain": [
       "tensor([[1, 7, 0, 0],\n",
       "        [7, 8, 7, 5],\n",
       "        [9, 1, 3, 5]])"
      ]
     },
     "execution_count": 44,
     "metadata": {},
     "output_type": "execute_result"
    }
   ],
   "source": [
    "x[0]"
   ]
  },
  {
   "cell_type": "code",
   "execution_count": 46,
   "metadata": {},
   "outputs": [
    {
     "data": {
      "text/plain": [
       "tensor([9, 1, 3, 5])"
      ]
     },
     "execution_count": 46,
     "metadata": {},
     "output_type": "execute_result"
    }
   ],
   "source": [
    "x[0][2]"
   ]
  },
  {
   "cell_type": "code",
   "execution_count": 47,
   "metadata": {},
   "outputs": [
    {
     "data": {
      "text/plain": [
       "tensor(5)"
      ]
     },
     "execution_count": 47,
     "metadata": {},
     "output_type": "execute_result"
    }
   ],
   "source": [
    "# 차원 축소하는 방식은 \n",
    "# 1) 차원별로 []를 사용하는 방법\n",
    "x[0][2][3]"
   ]
  },
  {
   "cell_type": "code",
   "execution_count": 48,
   "metadata": {},
   "outputs": [
    {
     "data": {
      "text/plain": [
       "tensor(5)"
      ]
     },
     "execution_count": 48,
     "metadata": {},
     "output_type": "execute_result"
    }
   ],
   "source": [
    "# 2) 차원별로 인덱스를 나열하는 방법 \n",
    "x[0, 2, 3]"
   ]
  },
  {
   "cell_type": "code",
   "execution_count": 50,
   "metadata": {},
   "outputs": [],
   "source": [
    "# 텐서 시각화\n",
    "import matplotlib.pyplot as plt"
   ]
  },
  {
   "cell_type": "code",
   "execution_count": 52,
   "metadata": {},
   "outputs": [
    {
     "data": {
      "text/plain": [
       "(2, 3)"
      ]
     },
     "execution_count": 52,
     "metadata": {},
     "output_type": "execute_result"
    }
   ],
   "source": [
    "# 크기가 2, 3, 4\n",
    "# 3차원\n",
    "len(x), len(x[0])"
   ]
  },
  {
   "cell_type": "code",
   "execution_count": 58,
   "metadata": {},
   "outputs": [],
   "source": [
    "# 텐서 시각화 함수\n",
    "def tensor_draw( tmp ) :\n",
    "    fig, axes = plt.subplots( len(tmp), 1 )\n",
    "    for i in range( len(tmp) ) :\n",
    "        # 차트의 최대값 1, 최소값 0\n",
    "        # 배열의 1차원의 첫번째, 두번째, ...를 각각 그린다\n",
    "        # 값이 0 또는 1이므로 연산의 결과를 필터를 통과시켜 \n",
    "        # 영향 받는 부분을 0으로 표시하여 \n",
    "        # 시각화 시 검은색으로 표현된 부분이 연산의 영향받은 부분으로 판단\n",
    "        axes[i].matshow( tmp.numpy()[i], vmin = 0, vmax = 1, cmap = 'gray'  )\n",
    "    plt.show()"
   ]
  },
  {
   "cell_type": "code",
   "execution_count": 54,
   "metadata": {},
   "outputs": [
    {
     "data": {
      "text/plain": [
       "tensor([[[1, 1, 1, 1],\n",
       "         [1, 1, 1, 1],\n",
       "         [1, 1, 1, 1]],\n",
       "\n",
       "        [[1, 1, 1, 1],\n",
       "         [1, 1, 1, 1],\n",
       "         [1, 1, 1, 1]]])"
      ]
     },
     "execution_count": 54,
     "metadata": {},
     "output_type": "execute_result"
    }
   ],
   "source": [
    "# x와 동일한 크기의 텐서인 1로 채워진 큐브를 구성하시오\n",
    "tmp = torch.ones_like(x)\n",
    "tmp"
   ]
  },
  {
   "cell_type": "code",
   "execution_count": 55,
   "metadata": {},
   "outputs": [],
   "source": [
    "# x[0, 2, 3] 값은?\n",
    "# 시각적으로 위치가 어디인가?\n",
    "tmp[0, 2, 3] = 0"
   ]
  },
  {
   "cell_type": "code",
   "execution_count": 59,
   "metadata": {},
   "outputs": [
    {
     "data": {
      "image/png": "[encoded data removed]",
      "text/plain": [
       "<Figure size 432x288 with 2 Axes>"
      ]
     },
     "metadata": {},
     "output_type": "display_data"
    }
   ],
   "source": [
    "tensor_draw(tmp)"
   ]
  },
  {
   "cell_type": "code",
   "execution_count": 60,
   "metadata": {},
   "outputs": [
    {
     "data": {
      "text/plain": [
       "tensor([[[0, 0, 0, 0],\n",
       "         [0, 0, 0, 0],\n",
       "         [0, 0, 0, 0]],\n",
       "\n",
       "        [[0, 0, 0, 0],\n",
       "         [0, 0, 0, 0],\n",
       "         [0, 0, 0, 0]]])"
      ]
     },
     "execution_count": 60,
     "metadata": {},
     "output_type": "execute_result"
    }
   ],
   "source": [
    "tmp1 = torch.zeros_like(x)\n",
    "tmp1"
   ]
  },
  {
   "cell_type": "code",
   "execution_count": 63,
   "metadata": {},
   "outputs": [
    {
     "data": {
      "text/plain": [
       "tensor([[[0, 0, 0, 0],\n",
       "         [0, 0, 0, 0],\n",
       "         [0, 0, 0, 0]],\n",
       "\n",
       "        [[0, 0, 0, 0],\n",
       "         [0, 0, 0, 0],\n",
       "         [0, 0, 0, 0]]])"
      ]
     },
     "execution_count": 63,
     "metadata": {},
     "output_type": "execute_result"
    }
   ],
   "source": [
    "x * tmp1"
   ]
  },
  {
   "cell_type": "code",
   "execution_count": 64,
   "metadata": {},
   "outputs": [
    {
     "data": {
      "image/png": "[encoded data removed]",
      "text/plain": [
       "<Figure size 432x288 with 2 Axes>"
      ]
     },
     "metadata": {},
     "output_type": "display_data"
    }
   ],
   "source": [
    "tensor_draw( x * tmp1 )"
   ]
  },
  {
   "cell_type": "code",
   "execution_count": 65,
   "metadata": {},
   "outputs": [
    {
     "data": {
      "text/plain": [
       "tensor([0, 5])"
      ]
     },
     "execution_count": 65,
     "metadata": {},
     "output_type": "execute_result"
    }
   ],
   "source": [
    "x[0, :2, 3]"
   ]
  },
  {
   "cell_type": "code",
   "execution_count": null,
   "metadata": {},
   "outputs": [],
   "source": [
    "tmp1 = torch.zeros_like(x)"
   ]
  },
  {
   "cell_type": "code",
   "execution_count": 66,
   "metadata": {},
   "outputs": [
    {
     "data": {
      "text/plain": [
       "tensor([[[0, 0, 0, 1],\n",
       "         [0, 0, 0, 1],\n",
       "         [0, 0, 0, 0]],\n",
       "\n",
       "        [[0, 0, 0, 0],\n",
       "         [0, 0, 0, 0],\n",
       "         [0, 0, 0, 0]]])"
      ]
     },
     "execution_count": 66,
     "metadata": {},
     "output_type": "execute_result"
    }
   ],
   "source": [
    "tmp1[0, :2, 3] = 1\n",
    "tmp1"
   ]
  },
  {
   "cell_type": "code",
   "execution_count": 67,
   "metadata": {},
   "outputs": [
    {
     "data": {
      "image/png": "[encoded data removed]",
      "text/plain": [
       "<Figure size 432x288 with 2 Axes>"
      ]
     },
     "metadata": {},
     "output_type": "display_data"
    }
   ],
   "source": [
    "tensor_draw( x * tmp1 )"
   ]
  },
  {
   "cell_type": "markdown",
   "metadata": {},
   "source": [
    "- view\n",
    "    - shape의 변경\n",
    "    - numpy.reshape()과 동일, 실제도 그 함수 존재"
   ]
  },
  {
   "cell_type": "code",
   "execution_count": 70,
   "metadata": {},
   "outputs": [
    {
     "data": {
      "text/plain": [
       "tensor([[[1, 7, 0, 0],\n",
       "         [7, 8, 7, 5],\n",
       "         [9, 1, 3, 5]],\n",
       "\n",
       "        [[8, 7, 6, 5],\n",
       "         [5, 2, 7, 8],\n",
       "         [5, 9, 2, 8]]])"
      ]
     },
     "execution_count": 70,
     "metadata": {},
     "output_type": "execute_result"
    }
   ],
   "source": [
    "x"
   ]
  },
  {
   "cell_type": "code",
   "execution_count": 68,
   "metadata": {},
   "outputs": [
    {
     "data": {
      "text/plain": [
       "torch.Size([2, 3, 4])"
      ]
     },
     "execution_count": 68,
     "metadata": {},
     "output_type": "execute_result"
    }
   ],
   "source": [
    "x.shape"
   ]
  },
  {
   "cell_type": "code",
   "execution_count": null,
   "metadata": {},
   "outputs": [],
   "source": [
    "# x = 2*3*4 => 24"
   ]
  },
  {
   "cell_type": "code",
   "execution_count": 69,
   "metadata": {},
   "outputs": [
    {
     "data": {
      "text/plain": [
       "tensor([[[1, 7, 0, 0, 7, 8],\n",
       "         [7, 5, 9, 1, 3, 5]],\n",
       "\n",
       "        [[8, 7, 6, 5, 5, 2],\n",
       "         [7, 8, 5, 9, 2, 8]]])"
      ]
     },
     "execution_count": 69,
     "metadata": {},
     "output_type": "execute_result"
    }
   ],
   "source": [
    "# 2*2*6 = 24\n",
    "# 순차적으로 6개를 맞추고,\n",
    "# 부족하면 다음 차원에서 당겨\n",
    "# 다음 번은 사용한 다음부터 차례대로 개수를 맞춰서 차원을 구성\n",
    "x.view( 2, 2, 6 )"
   ]
  },
  {
   "cell_type": "code",
   "execution_count": 71,
   "metadata": {},
   "outputs": [
    {
     "data": {
      "text/plain": [
       "tensor([[[1, 7, 0, 0, 7, 8],\n",
       "         [7, 5, 9, 1, 3, 5]],\n",
       "\n",
       "        [[8, 7, 6, 5, 5, 2],\n",
       "         [7, 8, 5, 9, 2, 8]]])"
      ]
     },
     "execution_count": 71,
     "metadata": {},
     "output_type": "execute_result"
    }
   ],
   "source": [
    "x.reshape(2, 2, 6)"
   ]
  },
  {
   "cell_type": "code",
   "execution_count": 72,
   "metadata": {},
   "outputs": [
    {
     "data": {
      "text/plain": [
       "tensor([[[1, 7, 0, 0, 7, 8, 7, 5, 9, 1, 3, 5]],\n",
       "\n",
       "        [[8, 7, 6, 5, 5, 2, 7, 8, 5, 9, 2, 8]]])"
      ]
     },
     "execution_count": 72,
     "metadata": {},
     "output_type": "execute_result"
    }
   ],
   "source": [
    "# -1 : 몇 개가 될 지 모른다 → 뒤를 먼저 맞추고 나오는대로 앞을 세팅\n",
    "x.view(-1, 1, 12)"
   ]
  },
  {
   "cell_type": "markdown",
   "metadata": {},
   "source": [
    "- transpose : 차원 맞교환"
   ]
  },
  {
   "cell_type": "code",
   "execution_count": 73,
   "metadata": {},
   "outputs": [
    {
     "data": {
      "text/plain": [
       "(tensor([[[1, 7, 0, 0],\n",
       "          [7, 8, 7, 5],\n",
       "          [9, 1, 3, 5]],\n",
       " \n",
       "         [[8, 7, 6, 5],\n",
       "          [5, 2, 7, 8],\n",
       "          [5, 9, 2, 8]]]), torch.Size([2, 3, 4]))"
      ]
     },
     "execution_count": 73,
     "metadata": {},
     "output_type": "execute_result"
    }
   ],
   "source": [
    "x, x.shape"
   ]
  },
  {
   "cell_type": "code",
   "execution_count": 74,
   "metadata": {},
   "outputs": [
    {
     "data": {
      "text/plain": [
       "torch.Size([3, 2, 4])"
      ]
     },
     "execution_count": 74,
     "metadata": {},
     "output_type": "execute_result"
    }
   ],
   "source": [
    "# 0차원과 1차원을 맞교환\n",
    "# 2*3*4 → 3*2*4\n",
    "x_trans = x.transpose(0, 1)\n",
    "x_trans.size()"
   ]
  },
  {
   "cell_type": "code",
   "execution_count": 75,
   "metadata": {},
   "outputs": [
    {
     "data": {
      "text/plain": [
       "tensor([[[1, 7, 0, 0],\n",
       "         [8, 7, 6, 5]],\n",
       "\n",
       "        [[7, 8, 7, 5],\n",
       "         [5, 2, 7, 8]],\n",
       "\n",
       "        [[9, 1, 3, 5],\n",
       "         [5, 9, 2, 8]]])"
      ]
     },
     "execution_count": 75,
     "metadata": {},
     "output_type": "execute_result"
    }
   ],
   "source": [
    "x_trans"
   ]
  },
  {
   "cell_type": "markdown",
   "metadata": {},
   "source": [
    "- squeeze, unsqueeze"
   ]
  },
  {
   "cell_type": "code",
   "execution_count": 77,
   "metadata": {},
   "outputs": [
    {
     "data": {
      "text/plain": [
       "tensor([[[[[0.9927],\n",
       "           [0.4962],\n",
       "           [0.0208],\n",
       "           [0.0421],\n",
       "           [0.2089]],\n",
       "\n",
       "          [[0.1371],\n",
       "           [0.7273],\n",
       "           [0.9909],\n",
       "           [0.7605],\n",
       "           [0.7611]],\n",
       "\n",
       "          [[0.3737],\n",
       "           [0.3049],\n",
       "           [0.3840],\n",
       "           [0.9543],\n",
       "           [0.1674]]]],\n",
       "\n",
       "\n",
       "\n",
       "        [[[[0.8694],\n",
       "           [0.3368],\n",
       "           [0.9035],\n",
       "           [0.9918],\n",
       "           [0.5059]],\n",
       "\n",
       "          [[0.7320],\n",
       "           [0.1798],\n",
       "           [0.3124],\n",
       "           [0.4157],\n",
       "           [0.2395]],\n",
       "\n",
       "          [[0.6522],\n",
       "           [0.1130],\n",
       "           [0.7938],\n",
       "           [0.3567],\n",
       "           [0.6564]]]]])"
      ]
     },
     "execution_count": 77,
     "metadata": {},
     "output_type": "execute_result"
    }
   ],
   "source": [
    "x = torch.rand( ( 2, 1, 3, 5, 1 ) )\n",
    "x"
   ]
  },
  {
   "cell_type": "code",
   "execution_count": 78,
   "metadata": {},
   "outputs": [
    {
     "data": {
      "text/plain": [
       "tensor([[[0.9927, 0.4962, 0.0208, 0.0421, 0.2089],\n",
       "         [0.1371, 0.7273, 0.9909, 0.7605, 0.7611],\n",
       "         [0.3737, 0.3049, 0.3840, 0.9543, 0.1674]],\n",
       "\n",
       "        [[0.8694, 0.3368, 0.9035, 0.9918, 0.5059],\n",
       "         [0.7320, 0.1798, 0.3124, 0.4157, 0.2395],\n",
       "         [0.6522, 0.1130, 0.7938, 0.3567, 0.6564]]])"
      ]
     },
     "execution_count": 78,
     "metadata": {},
     "output_type": "execute_result"
    }
   ],
   "source": [
    "# 모든 차원에서 1차값을 가진 차원을 제거 → 2, 3, 5\n",
    "x.squeeze()"
   ]
  },
  {
   "cell_type": "code",
   "execution_count": 79,
   "metadata": {},
   "outputs": [
    {
     "data": {
      "text/plain": [
       "torch.Size([2, 3, 5])"
      ]
     },
     "execution_count": 79,
     "metadata": {},
     "output_type": "execute_result"
    }
   ],
   "source": [
    "x.squeeze().size()"
   ]
  },
  {
   "cell_type": "code",
   "execution_count": 80,
   "metadata": {},
   "outputs": [
    {
     "data": {
      "text/plain": [
       "tensor([[[[0.9927],\n",
       "          [0.4962],\n",
       "          [0.0208],\n",
       "          [0.0421],\n",
       "          [0.2089]],\n",
       "\n",
       "         [[0.1371],\n",
       "          [0.7273],\n",
       "          [0.9909],\n",
       "          [0.7605],\n",
       "          [0.7611]],\n",
       "\n",
       "         [[0.3737],\n",
       "          [0.3049],\n",
       "          [0.3840],\n",
       "          [0.9543],\n",
       "          [0.1674]]],\n",
       "\n",
       "\n",
       "        [[[0.8694],\n",
       "          [0.3368],\n",
       "          [0.9035],\n",
       "          [0.9918],\n",
       "          [0.5059]],\n",
       "\n",
       "         [[0.7320],\n",
       "          [0.1798],\n",
       "          [0.3124],\n",
       "          [0.4157],\n",
       "          [0.2395]],\n",
       "\n",
       "         [[0.6522],\n",
       "          [0.1130],\n",
       "          [0.7938],\n",
       "          [0.3567],\n",
       "          [0.6564]]]])"
      ]
     },
     "execution_count": 80,
     "metadata": {},
     "output_type": "execute_result"
    }
   ],
   "source": [
    "x.squeeze(1)"
   ]
  },
  {
   "cell_type": "code",
   "execution_count": 81,
   "metadata": {},
   "outputs": [
    {
     "data": {
      "text/plain": [
       "torch.Size([2, 3, 5, 1])"
      ]
     },
     "execution_count": 81,
     "metadata": {},
     "output_type": "execute_result"
    }
   ],
   "source": [
    "# 행렬의 두번째 차원(인덱스로는 1)을 스퀴즈 한다\n",
    "# 스퀴즈는 차원이 1일 경우에만\n",
    "x.squeeze(1).size()"
   ]
  },
  {
   "cell_type": "code",
   "execution_count": 83,
   "metadata": {},
   "outputs": [
    {
     "data": {
      "text/plain": [
       "torch.Size([2, 1, 3, 1, 5, 1])"
      ]
     },
     "execution_count": 83,
     "metadata": {},
     "output_type": "execute_result"
    }
   ],
   "source": [
    "# 인덱스 3번 4차원 자리에 차원의 크기 1인 행렬을 삽입\n",
    "x.unsqueeze(3).size()"
   ]
  },
  {
   "cell_type": "markdown",
   "metadata": {},
   "source": [
    "- cat, stack"
   ]
  },
  {
   "cell_type": "code",
   "execution_count": 84,
   "metadata": {},
   "outputs": [
    {
     "data": {
      "text/plain": [
       "(tensor([[8.0876e-01, 1.4668e-01, 2.6317e-01],\n",
       "         [3.6335e-01, 7.1981e-01, 2.4021e-04]]),\n",
       " tensor([[0.2001, 0.7263, 0.3462],\n",
       "         [0.3878, 0.2292, 0.2740]]))"
      ]
     },
     "execution_count": 84,
     "metadata": {},
     "output_type": "execute_result"
    }
   ],
   "source": [
    "A = torch.rand( (2, 3) )\n",
    "B = torch.rand( (2, 3) )\n",
    "A, B"
   ]
  },
  {
   "cell_type": "code",
   "execution_count": 85,
   "metadata": {},
   "outputs": [
    {
     "data": {
      "text/plain": [
       "tensor([[8.0876e-01, 1.4668e-01, 2.6317e-01],\n",
       "        [3.6335e-01, 7.1981e-01, 2.4021e-04],\n",
       "        [2.0007e-01, 7.2630e-01, 3.4620e-01],\n",
       "        [3.8779e-01, 2.2924e-01, 2.7402e-01]])"
      ]
     },
     "execution_count": 85,
     "metadata": {},
     "output_type": "execute_result"
    }
   ],
   "source": [
    "AB_cat = torch.cat( [A, B], dim = 0 )\n",
    "AB_cat"
   ]
  },
  {
   "cell_type": "code",
   "execution_count": 86,
   "metadata": {},
   "outputs": [
    {
     "data": {
      "text/plain": [
       "torch.Size([4, 3])"
      ]
     },
     "execution_count": 86,
     "metadata": {},
     "output_type": "execute_result"
    }
   ],
   "source": [
    "AB_cat.size()"
   ]
  },
  {
   "cell_type": "code",
   "execution_count": 87,
   "metadata": {},
   "outputs": [
    {
     "data": {
      "text/plain": [
       "tensor([[8.0876e-01, 1.4668e-01, 2.6317e-01, 2.0007e-01, 7.2630e-01, 3.4620e-01],\n",
       "        [3.6335e-01, 7.1981e-01, 2.4021e-04, 3.8779e-01, 2.2924e-01, 2.7402e-01]])"
      ]
     },
     "execution_count": 87,
     "metadata": {},
     "output_type": "execute_result"
    }
   ],
   "source": [
    "AB_cat = torch.cat( [A, B], dim = 1 )\n",
    "AB_cat"
   ]
  },
  {
   "cell_type": "code",
   "execution_count": 88,
   "metadata": {},
   "outputs": [
    {
     "data": {
      "text/plain": [
       "torch.Size([2, 6])"
      ]
     },
     "execution_count": 88,
     "metadata": {},
     "output_type": "execute_result"
    }
   ],
   "source": [
    "AB_cat.size()"
   ]
  },
  {
   "cell_type": "code",
   "execution_count": 90,
   "metadata": {},
   "outputs": [
    {
     "data": {
      "text/plain": [
       "torch.Size([2, 2, 3])"
      ]
     },
     "execution_count": 90,
     "metadata": {},
     "output_type": "execute_result"
    }
   ],
   "source": [
    "# 0차에 A와 B를 차례대로 쌓는다 → 차원이 하나 더 생긴다\n",
    "AB_stack = torch.stack( [A, B], dim = 0 )\n",
    "AB_stack.size()"
   ]
  },
  {
   "cell_type": "code",
   "execution_count": 91,
   "metadata": {},
   "outputs": [
    {
     "data": {
      "text/plain": [
       "tensor([[[8.0876e-01, 1.4668e-01, 2.6317e-01],\n",
       "         [3.6335e-01, 7.1981e-01, 2.4021e-04]],\n",
       "\n",
       "        [[2.0007e-01, 7.2630e-01, 3.4620e-01],\n",
       "         [3.8779e-01, 2.2924e-01, 2.7402e-01]]])"
      ]
     },
     "execution_count": 91,
     "metadata": {},
     "output_type": "execute_result"
    }
   ],
   "source": [
    "AB_stack"
   ]
  },
  {
   "cell_type": "markdown",
   "metadata": {},
   "source": [
    "- 사칙연산"
   ]
  },
  {
   "cell_type": "code",
   "execution_count": 97,
   "metadata": {},
   "outputs": [],
   "source": [
    "x = torch.Tensor( [1, 2, -3] )\n",
    "y = torch.Tensor( [4, -3, 2] )"
   ]
  },
  {
   "cell_type": "code",
   "execution_count": 98,
   "metadata": {},
   "outputs": [
    {
     "data": {
      "text/plain": [
       "(torch.Size([3]), torch.Size([3]), torch.Size([3]), torch.Size([3]))"
      ]
     },
     "execution_count": 98,
     "metadata": {},
     "output_type": "execute_result"
    }
   ],
   "source": [
    "x.shape, y.shape, x.size(), y.size()"
   ]
  },
  {
   "cell_type": "code",
   "execution_count": 99,
   "metadata": {},
   "outputs": [
    {
     "data": {
      "text/plain": [
       "tensor([ 5., -1., -1.])"
      ]
     },
     "execution_count": 99,
     "metadata": {},
     "output_type": "execute_result"
    }
   ],
   "source": [
    "# 더하기\n",
    "x + y"
   ]
  },
  {
   "cell_type": "code",
   "execution_count": 100,
   "metadata": {},
   "outputs": [
    {
     "data": {
      "text/plain": [
       "tensor([ 5., -1., -1.])"
      ]
     },
     "execution_count": 100,
     "metadata": {},
     "output_type": "execute_result"
    }
   ],
   "source": [
    "y + x"
   ]
  },
  {
   "cell_type": "code",
   "execution_count": 101,
   "metadata": {},
   "outputs": [
    {
     "data": {
      "text/plain": [
       "tensor([-3.,  5., -5.])"
      ]
     },
     "execution_count": 101,
     "metadata": {},
     "output_type": "execute_result"
    }
   ],
   "source": [
    "# 빼기\n",
    "x - y"
   ]
  },
  {
   "cell_type": "code",
   "execution_count": 102,
   "metadata": {},
   "outputs": [
    {
     "data": {
      "text/plain": [
       "tensor([ 3., -5.,  5.])"
      ]
     },
     "execution_count": 102,
     "metadata": {},
     "output_type": "execute_result"
    }
   ],
   "source": [
    "y - x"
   ]
  },
  {
   "cell_type": "code",
   "execution_count": 103,
   "metadata": {},
   "outputs": [
    {
     "data": {
      "text/plain": [
       "tensor([ 4., -6., -6.])"
      ]
     },
     "execution_count": 103,
     "metadata": {},
     "output_type": "execute_result"
    }
   ],
   "source": [
    "# x와 y의 shape은 동일\n",
    "x * y"
   ]
  },
  {
   "cell_type": "code",
   "execution_count": 106,
   "metadata": {},
   "outputs": [
    {
     "data": {
      "text/plain": [
       "tensor(-8.)"
      ]
     },
     "execution_count": 106,
     "metadata": {},
     "output_type": "execute_result"
    }
   ],
   "source": [
    "x.matmul(y)"
   ]
  },
  {
   "cell_type": "code",
   "execution_count": 104,
   "metadata": {},
   "outputs": [
    {
     "data": {
      "text/plain": [
       "tensor([ 0.2500, -0.6667, -1.5000])"
      ]
     },
     "execution_count": 104,
     "metadata": {},
     "output_type": "execute_result"
    }
   ],
   "source": [
    "x / y"
   ]
  },
  {
   "cell_type": "code",
   "execution_count": 105,
   "metadata": {},
   "outputs": [
    {
     "data": {
      "text/plain": [
       "tensor([ 4.0000, -1.5000, -0.6667])"
      ]
     },
     "execution_count": 105,
     "metadata": {},
     "output_type": "execute_result"
    }
   ],
   "source": [
    "y / x"
   ]
  },
  {
   "cell_type": "code",
   "execution_count": 107,
   "metadata": {},
   "outputs": [
    {
     "data": {
      "text/plain": [
       "tensor(-8.)"
      ]
     },
     "execution_count": 107,
     "metadata": {},
     "output_type": "execute_result"
    }
   ],
   "source": [
    "# x1*y1 + x2*y2 + ... \n",
    "# 값(한 점)으로 수렴\n",
    "torch.dot( x, y )"
   ]
  },
  {
   "cell_type": "markdown",
   "metadata": {},
   "source": [
    "- sum, mean"
   ]
  },
  {
   "cell_type": "code",
   "execution_count": 108,
   "metadata": {},
   "outputs": [
    {
     "data": {
      "text/plain": [
       "tensor([[[1., 2.],\n",
       "         [3., 4.]],\n",
       "\n",
       "        [[5., 6.],\n",
       "         [7., 8.]]])"
      ]
     },
     "execution_count": 108,
     "metadata": {},
     "output_type": "execute_result"
    }
   ],
   "source": [
    "# 2*2*2\n",
    "z = torch.Tensor( [ [ [1, 2], [3, 4] ], [ [5, 6], [7, 8] ] ] )\n",
    "z"
   ]
  },
  {
   "cell_type": "code",
   "execution_count": 109,
   "metadata": {},
   "outputs": [
    {
     "data": {
      "text/plain": [
       "tensor(36.)"
      ]
     },
     "execution_count": 109,
     "metadata": {},
     "output_type": "execute_result"
    }
   ],
   "source": [
    "torch.sum( z )"
   ]
  },
  {
   "cell_type": "code",
   "execution_count": 110,
   "metadata": {},
   "outputs": [
    {
     "data": {
      "text/plain": [
       "tensor(4.5000)"
      ]
     },
     "execution_count": 110,
     "metadata": {},
     "output_type": "execute_result"
    }
   ],
   "source": [
    "torch.mean( z )"
   ]
  },
  {
   "cell_type": "code",
   "execution_count": 111,
   "metadata": {},
   "outputs": [
    {
     "data": {
      "text/plain": [
       "tensor([[ 6.,  8.],\n",
       "        [10., 12.]])"
      ]
     },
     "execution_count": 111,
     "metadata": {},
     "output_type": "execute_result"
    }
   ],
   "source": [
    "# 같은 위치끼리 합산\n",
    "torch.sum( z, dim = 0 )"
   ]
  },
  {
   "cell_type": "code",
   "execution_count": 112,
   "metadata": {},
   "outputs": [
    {
     "data": {
      "text/plain": [
       "tensor([[3., 4.],\n",
       "        [5., 6.]])"
      ]
     },
     "execution_count": 112,
     "metadata": {},
     "output_type": "execute_result"
    }
   ],
   "source": [
    "torch.mean( z, dim = 0 )"
   ]
  },
  {
   "cell_type": "markdown",
   "metadata": {},
   "source": [
    "- max, argmax, min, argmin"
   ]
  },
  {
   "cell_type": "code",
   "execution_count": 113,
   "metadata": {},
   "outputs": [
    {
     "data": {
      "text/plain": [
       "(tensor(8.), tensor(7))"
      ]
     },
     "execution_count": 113,
     "metadata": {},
     "output_type": "execute_result"
    }
   ],
   "source": [
    "# 텐서의 요소들 중 최대값과 그 최대값의 위치\n",
    "torch.max( z ), torch.argmax( z )"
   ]
  },
  {
   "cell_type": "code",
   "execution_count": 114,
   "metadata": {},
   "outputs": [
    {
     "data": {
      "text/plain": [
       "(tensor(1.), tensor(0))"
      ]
     },
     "execution_count": 114,
     "metadata": {},
     "output_type": "execute_result"
    }
   ],
   "source": [
    "# 텐서의 요소들 중 최소값과 그 최소값의 위치\n",
    "torch.min( z ), torch.argmin( z )"
   ]
  },
  {
   "cell_type": "code",
   "execution_count": 115,
   "metadata": {},
   "outputs": [
    {
     "data": {
      "text/plain": [
       "torch.return_types.max(\n",
       "values=tensor([[5., 6.],\n",
       "        [7., 8.]]),\n",
       "indices=tensor([[1, 1],\n",
       "        [1, 1]]))"
      ]
     },
     "execution_count": 115,
     "metadata": {},
     "output_type": "execute_result"
    }
   ],
   "source": [
    "torch.max( z, dim = 0 )"
   ]
  },
  {
   "cell_type": "code",
   "execution_count": 116,
   "metadata": {},
   "outputs": [
    {
     "data": {
      "text/plain": [
       "torch.return_types.min(\n",
       "values=tensor([[1., 2.],\n",
       "        [3., 4.]]),\n",
       "indices=tensor([[0, 0],\n",
       "        [0, 0]]))"
      ]
     },
     "execution_count": 116,
     "metadata": {},
     "output_type": "execute_result"
    }
   ],
   "source": [
    "torch.min( z, dim = 0 )"
   ]
  },
  {
   "cell_type": "markdown",
   "metadata": {},
   "source": [
    "- 논리연산 → True/False → 이진데이터의 텐서"
   ]
  },
  {
   "cell_type": "code",
   "execution_count": 119,
   "metadata": {},
   "outputs": [],
   "source": [
    "z = torch.Tensor( [-3, 2, 1, 0] )"
   ]
  },
  {
   "cell_type": "code",
   "execution_count": 124,
   "metadata": {},
   "outputs": [
    {
     "data": {
      "text/plain": [
       "tensor([0, 0, 0, 1], dtype=torch.uint8)"
      ]
     },
     "execution_count": 124,
     "metadata": {},
     "output_type": "execute_result"
    }
   ],
   "source": [
    "z == 0"
   ]
  },
  {
   "cell_type": "code",
   "execution_count": 121,
   "metadata": {},
   "outputs": [
    {
     "data": {
      "text/plain": [
       "tensor([0, 0, 0, 1], dtype=torch.uint8)"
      ]
     },
     "execution_count": 121,
     "metadata": {},
     "output_type": "execute_result"
    }
   ],
   "source": [
    "z.eq(0)"
   ]
  },
  {
   "cell_type": "code",
   "execution_count": 122,
   "metadata": {},
   "outputs": [
    {
     "data": {
      "text/plain": [
       "(tensor([0, 1, 1, 1], dtype=torch.uint8),\n",
       " tensor([0, 1, 1, 1], dtype=torch.uint8))"
      ]
     },
     "execution_count": 122,
     "metadata": {},
     "output_type": "execute_result"
    }
   ],
   "source": [
    "z.ge(0), z >= 0"
   ]
  },
  {
   "cell_type": "code",
   "execution_count": 125,
   "metadata": {},
   "outputs": [
    {
     "data": {
      "text/plain": [
       "(tensor([0, 1, 1, 0], dtype=torch.uint8),\n",
       " tensor([0, 1, 1, 0], dtype=torch.uint8))"
      ]
     },
     "execution_count": 125,
     "metadata": {},
     "output_type": "execute_result"
    }
   ],
   "source": [
    "z.gt(0), z > 0"
   ]
  },
  {
   "cell_type": "code",
   "execution_count": 126,
   "metadata": {},
   "outputs": [
    {
     "data": {
      "text/plain": [
       "(tensor([1, 0, 0, 0], dtype=torch.uint8),\n",
       " tensor([1, 0, 0, 0], dtype=torch.uint8))"
      ]
     },
     "execution_count": 126,
     "metadata": {},
     "output_type": "execute_result"
    }
   ],
   "source": [
    "z.lt(0), z < 0"
   ]
  },
  {
   "cell_type": "code",
   "execution_count": 127,
   "metadata": {},
   "outputs": [
    {
     "data": {
      "text/plain": [
       "(tensor([1, 0, 0, 1], dtype=torch.uint8),\n",
       " tensor([1, 0, 0, 1], dtype=torch.uint8))"
      ]
     },
     "execution_count": 127,
     "metadata": {},
     "output_type": "execute_result"
    }
   ],
   "source": [
    "z.le(0), z <= 0"
   ]
  },
  {
   "cell_type": "code",
   "execution_count": null,
   "metadata": {},
   "outputs": [],
   "source": []
  },
  {
   "cell_type": "code",
   "execution_count": null,
   "metadata": {},
   "outputs": [],
   "source": []
  },
  {
   "cell_type": "code",
   "execution_count": null,
   "metadata": {},
   "outputs": [],
   "source": []
  },
  {
   "cell_type": "code",
   "execution_count": null,
   "metadata": {},
   "outputs": [],
   "source": []
  },
  {
   "cell_type": "code",
   "execution_count": null,
   "metadata": {},
   "outputs": [],
   "source": []
  },
  {
   "cell_type": "code",
   "execution_count": null,
   "metadata": {},
   "outputs": [],
   "source": []
  }
 ],
 "metadata": {
  "kernelspec": {
   "display_name": "Python 3",
   "language": "python",
   "name": "python3"
  },
  "language_info": {
   "codemirror_mode": {
    "name": "ipython",
    "version": 3
   },
   "file_extension": ".py",
   "mimetype": "text/x-python",
   "name": "python",
   "nbconvert_exporter": "python",
   "pygments_lexer": "ipython3",
   "version": "3.6.5"
  }
 },
 "nbformat": 4,
 "nbformat_minor": 2
}
