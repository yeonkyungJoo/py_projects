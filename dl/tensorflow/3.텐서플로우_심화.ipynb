{
 "cells": [
  {
   "cell_type": "markdown",
   "metadata": {},
   "source": [
    "### 텐서플로우를 이용하여 ML 구현"
   ]
  },
  {
   "cell_type": "markdown",
   "metadata": {},
   "source": [
    "- 알고리즘 SVM을 이용하여 BMI를 학습시키고, 비만도 판정\n",
    "- BMI 지수 = (몸무게/키)*키\n",
    "- 데이터 : 3_bmi.csv"
   ]
  },
  {
   "cell_type": "markdown",
   "metadata": {},
   "source": [
    "<img src = './data/텐서용어.png'>"
   ]
  },
  {
   "cell_type": "code",
   "execution_count": 2,
   "metadata": {},
   "outputs": [
    {
     "name": "stderr",
     "output_type": "stream",
     "text": [
      "C:\\Users\\User\\Anaconda3\\lib\\site-packages\\h5py\\__init__.py:36: FutureWarning: Conversion of the second argument of issubdtype from `float` to `np.floating` is deprecated. In future, it will be treated as `np.float64 == np.dtype(float).type`.\n",
      "  from ._conv import register_converters as _register_converters\n"
     ]
    }
   ],
   "source": [
    "# 사용 패키지\n",
    "import pandas as pd\n",
    "import numpy as np\n",
    "import tensorflow as tf"
   ]
  },
  {
   "cell_type": "code",
   "execution_count": 3,
   "metadata": {},
   "outputs": [
    {
     "data": {
      "text/html": [
       "<div>\n",
       "<style scoped>\n",
       "    .dataframe tbody tr th:only-of-type {\n",
       "        vertical-align: middle;\n",
       "    }\n",
       "\n",
       "    .dataframe tbody tr th {\n",
       "        vertical-align: top;\n",
       "    }\n",
       "\n",
       "    .dataframe thead th {\n",
       "        text-align: right;\n",
       "    }\n",
       "</style>\n",
       "<table border=\"1\" class=\"dataframe\">\n",
       "  <thead>\n",
       "    <tr style=\"text-align: right;\">\n",
       "      <th></th>\n",
       "      <th>height</th>\n",
       "      <th>weight</th>\n",
       "      <th>label</th>\n",
       "    </tr>\n",
       "  </thead>\n",
       "  <tbody>\n",
       "    <tr>\n",
       "      <th>0</th>\n",
       "      <td>178</td>\n",
       "      <td>69</td>\n",
       "      <td>normal</td>\n",
       "    </tr>\n",
       "    <tr>\n",
       "      <th>1</th>\n",
       "      <td>190</td>\n",
       "      <td>62</td>\n",
       "      <td>thin</td>\n",
       "    </tr>\n",
       "    <tr>\n",
       "      <th>2</th>\n",
       "      <td>134</td>\n",
       "      <td>61</td>\n",
       "      <td>fat</td>\n",
       "    </tr>\n",
       "    <tr>\n",
       "      <th>3</th>\n",
       "      <td>144</td>\n",
       "      <td>43</td>\n",
       "      <td>normal</td>\n",
       "    </tr>\n",
       "    <tr>\n",
       "      <th>4</th>\n",
       "      <td>149</td>\n",
       "      <td>40</td>\n",
       "      <td>thin</td>\n",
       "    </tr>\n",
       "  </tbody>\n",
       "</table>\n",
       "</div>"
      ],
      "text/plain": [
       "   height  weight   label\n",
       "0     178      69  normal\n",
       "1     190      62    thin\n",
       "2     134      61     fat\n",
       "3     144      43  normal\n",
       "4     149      40    thin"
      ]
     },
     "execution_count": 3,
     "metadata": {},
     "output_type": "execute_result"
    }
   ],
   "source": [
    "# 데이터 로드\n",
    "csv = pd.read_csv('./data/3_bmi.csv')\n",
    "csv.head()"
   ]
  },
  {
   "cell_type": "code",
   "execution_count": 4,
   "metadata": {},
   "outputs": [
    {
     "data": {
      "text/plain": [
       "(20000, 3)"
      ]
     },
     "execution_count": 4,
     "metadata": {},
     "output_type": "execute_result"
    }
   ],
   "source": [
    "csv.shape"
   ]
  },
  {
   "cell_type": "code",
   "execution_count": 5,
   "metadata": {},
   "outputs": [
    {
     "data": {
      "text/plain": [
       "(200, 80)"
      ]
     },
     "execution_count": 5,
     "metadata": {},
     "output_type": "execute_result"
    }
   ],
   "source": [
    "# 데이터 전처리\n",
    "# height\tweight의 최대값 기준 정규화\n",
    "csv['height'].max(), csv['weight'].max()"
   ]
  },
  {
   "cell_type": "code",
   "execution_count": 6,
   "metadata": {},
   "outputs": [],
   "source": [
    "csv['height'] = csv['height'] / csv['height'].max()\n",
    "csv['weight'] = csv['weight'] / csv['weight'].max()"
   ]
  },
  {
   "cell_type": "code",
   "execution_count": 7,
   "metadata": {},
   "outputs": [
    {
     "data": {
      "text/html": [
       "<div>\n",
       "<style scoped>\n",
       "    .dataframe tbody tr th:only-of-type {\n",
       "        vertical-align: middle;\n",
       "    }\n",
       "\n",
       "    .dataframe tbody tr th {\n",
       "        vertical-align: top;\n",
       "    }\n",
       "\n",
       "    .dataframe thead th {\n",
       "        text-align: right;\n",
       "    }\n",
       "</style>\n",
       "<table border=\"1\" class=\"dataframe\">\n",
       "  <thead>\n",
       "    <tr style=\"text-align: right;\">\n",
       "      <th></th>\n",
       "      <th>height</th>\n",
       "      <th>weight</th>\n",
       "      <th>label</th>\n",
       "    </tr>\n",
       "  </thead>\n",
       "  <tbody>\n",
       "    <tr>\n",
       "      <th>0</th>\n",
       "      <td>0.890</td>\n",
       "      <td>0.8625</td>\n",
       "      <td>normal</td>\n",
       "    </tr>\n",
       "    <tr>\n",
       "      <th>1</th>\n",
       "      <td>0.950</td>\n",
       "      <td>0.7750</td>\n",
       "      <td>thin</td>\n",
       "    </tr>\n",
       "    <tr>\n",
       "      <th>2</th>\n",
       "      <td>0.670</td>\n",
       "      <td>0.7625</td>\n",
       "      <td>fat</td>\n",
       "    </tr>\n",
       "    <tr>\n",
       "      <th>3</th>\n",
       "      <td>0.720</td>\n",
       "      <td>0.5375</td>\n",
       "      <td>normal</td>\n",
       "    </tr>\n",
       "    <tr>\n",
       "      <th>4</th>\n",
       "      <td>0.745</td>\n",
       "      <td>0.5000</td>\n",
       "      <td>thin</td>\n",
       "    </tr>\n",
       "  </tbody>\n",
       "</table>\n",
       "</div>"
      ],
      "text/plain": [
       "   height  weight   label\n",
       "0   0.890  0.8625  normal\n",
       "1   0.950  0.7750    thin\n",
       "2   0.670  0.7625     fat\n",
       "3   0.720  0.5375  normal\n",
       "4   0.745  0.5000    thin"
      ]
     },
     "execution_count": 7,
     "metadata": {},
     "output_type": "execute_result"
    }
   ],
   "source": [
    "csv.head()"
   ]
  },
  {
   "cell_type": "code",
   "execution_count": 8,
   "metadata": {},
   "outputs": [
    {
     "data": {
      "text/plain": [
       "array(['normal', 'thin', 'fat'], dtype=object)"
      ]
     },
     "execution_count": 8,
     "metadata": {},
     "output_type": "execute_result"
    }
   ],
   "source": [
    "csv['label'].unique()"
   ]
  },
  {
   "cell_type": "code",
   "execution_count": 9,
   "metadata": {},
   "outputs": [
    {
     "data": {
      "text/plain": [
       "{'thin': [1, 0, 0], 'normal': [0, 1, 0], 'fat': [0, 0, 1]}"
      ]
     },
     "execution_count": 9,
     "metadata": {},
     "output_type": "execute_result"
    }
   ],
   "source": [
    "# csv['label']의 벡터화 → 분류변수\n",
    "labelClass = {\n",
    "    'thin' : [1, 0, 0],\n",
    "    'normal' : [0, 1, 0],\n",
    "    'fat' : [0, 0, 1]\n",
    "}\n",
    "labelClass"
   ]
  },
  {
   "cell_type": "code",
   "execution_count": 10,
   "metadata": {},
   "outputs": [
    {
     "data": {
      "text/plain": [
       "[1, 0, 0]"
      ]
     },
     "execution_count": 10,
     "metadata": {},
     "output_type": "execute_result"
    }
   ],
   "source": [
    "# 딕셔너리 값 추출\n",
    "labelClass['thin']"
   ]
  },
  {
   "cell_type": "code",
   "execution_count": 16,
   "metadata": {},
   "outputs": [],
   "source": [
    "# csv['label'].apply(lambda x : labelClass[x])[:5]\n",
    "# print( csv['label'].apply(lambda x : labelClass[x])[:5] )\n",
    "# csv['label'].apply(lambda x : np.array(labelClass[x]))[:5]\n",
    "# print( csv['label'].apply(lambda x : np.array(labelClass[x]))[:5] )"
   ]
  },
  {
   "cell_type": "code",
   "execution_count": 17,
   "metadata": {},
   "outputs": [],
   "source": [
    "# 데이터 전환\n",
    "# → 값으로 배열을 넣는다 \n",
    "# → np.array(리스트)\n",
    "csv['label_bmi'] = csv['label'].apply(lambda x : np.array(labelClass[x])) "
   ]
  },
  {
   "cell_type": "code",
   "execution_count": 18,
   "metadata": {},
   "outputs": [
    {
     "data": {
      "text/html": [
       "<div>\n",
       "<style scoped>\n",
       "    .dataframe tbody tr th:only-of-type {\n",
       "        vertical-align: middle;\n",
       "    }\n",
       "\n",
       "    .dataframe tbody tr th {\n",
       "        vertical-align: top;\n",
       "    }\n",
       "\n",
       "    .dataframe thead th {\n",
       "        text-align: right;\n",
       "    }\n",
       "</style>\n",
       "<table border=\"1\" class=\"dataframe\">\n",
       "  <thead>\n",
       "    <tr style=\"text-align: right;\">\n",
       "      <th></th>\n",
       "      <th>height</th>\n",
       "      <th>weight</th>\n",
       "      <th>label</th>\n",
       "      <th>label_bmi</th>\n",
       "    </tr>\n",
       "  </thead>\n",
       "  <tbody>\n",
       "    <tr>\n",
       "      <th>0</th>\n",
       "      <td>0.890</td>\n",
       "      <td>0.8625</td>\n",
       "      <td>normal</td>\n",
       "      <td>[0, 1, 0]</td>\n",
       "    </tr>\n",
       "    <tr>\n",
       "      <th>1</th>\n",
       "      <td>0.950</td>\n",
       "      <td>0.7750</td>\n",
       "      <td>thin</td>\n",
       "      <td>[1, 0, 0]</td>\n",
       "    </tr>\n",
       "    <tr>\n",
       "      <th>2</th>\n",
       "      <td>0.670</td>\n",
       "      <td>0.7625</td>\n",
       "      <td>fat</td>\n",
       "      <td>[0, 0, 1]</td>\n",
       "    </tr>\n",
       "    <tr>\n",
       "      <th>3</th>\n",
       "      <td>0.720</td>\n",
       "      <td>0.5375</td>\n",
       "      <td>normal</td>\n",
       "      <td>[0, 1, 0]</td>\n",
       "    </tr>\n",
       "    <tr>\n",
       "      <th>4</th>\n",
       "      <td>0.745</td>\n",
       "      <td>0.5000</td>\n",
       "      <td>thin</td>\n",
       "      <td>[1, 0, 0]</td>\n",
       "    </tr>\n",
       "  </tbody>\n",
       "</table>\n",
       "</div>"
      ],
      "text/plain": [
       "   height  weight   label  label_bmi\n",
       "0   0.890  0.8625  normal  [0, 1, 0]\n",
       "1   0.950  0.7750    thin  [1, 0, 0]\n",
       "2   0.670  0.7625     fat  [0, 0, 1]\n",
       "3   0.720  0.5375  normal  [0, 1, 0]\n",
       "4   0.745  0.5000    thin  [1, 0, 0]"
      ]
     },
     "execution_count": 18,
     "metadata": {},
     "output_type": "execute_result"
    }
   ],
   "source": [
    "csv.head()"
   ]
  },
  {
   "cell_type": "code",
   "execution_count": 19,
   "metadata": {},
   "outputs": [],
   "source": [
    "# 데이터 준비 → 훈련용 데이터, 검증용 데이터로 분류\n",
    "from sklearn.model_selection import train_test_split"
   ]
  },
  {
   "cell_type": "code",
   "execution_count": 21,
   "metadata": {},
   "outputs": [
    {
     "data": {
      "text/html": [
       "<div>\n",
       "<style scoped>\n",
       "    .dataframe tbody tr th:only-of-type {\n",
       "        vertical-align: middle;\n",
       "    }\n",
       "\n",
       "    .dataframe tbody tr th {\n",
       "        vertical-align: top;\n",
       "    }\n",
       "\n",
       "    .dataframe thead th {\n",
       "        text-align: right;\n",
       "    }\n",
       "</style>\n",
       "<table border=\"1\" class=\"dataframe\">\n",
       "  <thead>\n",
       "    <tr style=\"text-align: right;\">\n",
       "      <th></th>\n",
       "      <th>height</th>\n",
       "      <th>weight</th>\n",
       "    </tr>\n",
       "  </thead>\n",
       "  <tbody>\n",
       "    <tr>\n",
       "      <th>0</th>\n",
       "      <td>0.890</td>\n",
       "      <td>0.8625</td>\n",
       "    </tr>\n",
       "    <tr>\n",
       "      <th>1</th>\n",
       "      <td>0.950</td>\n",
       "      <td>0.7750</td>\n",
       "    </tr>\n",
       "    <tr>\n",
       "      <th>2</th>\n",
       "      <td>0.670</td>\n",
       "      <td>0.7625</td>\n",
       "    </tr>\n",
       "    <tr>\n",
       "      <th>3</th>\n",
       "      <td>0.720</td>\n",
       "      <td>0.5375</td>\n",
       "    </tr>\n",
       "    <tr>\n",
       "      <th>4</th>\n",
       "      <td>0.745</td>\n",
       "      <td>0.5000</td>\n",
       "    </tr>\n",
       "  </tbody>\n",
       "</table>\n",
       "</div>"
      ],
      "text/plain": [
       "   height  weight\n",
       "0   0.890  0.8625\n",
       "1   0.950  0.7750\n",
       "2   0.670  0.7625\n",
       "3   0.720  0.5375\n",
       "4   0.745  0.5000"
      ]
     },
     "execution_count": 21,
     "metadata": {},
     "output_type": "execute_result"
    }
   ],
   "source": [
    "# DataFrame : 차원유지\n",
    "csv[ ['height', 'weight'] ][:5]"
   ]
  },
  {
   "cell_type": "code",
   "execution_count": 22,
   "metadata": {},
   "outputs": [
    {
     "data": {
      "text/plain": [
       "0    [0, 1, 0]\n",
       "1    [1, 0, 0]\n",
       "2    [0, 0, 1]\n",
       "3    [0, 1, 0]\n",
       "4    [1, 0, 0]\n",
       "Name: label_bmi, dtype: object"
      ]
     },
     "execution_count": 22,
     "metadata": {},
     "output_type": "execute_result"
    }
   ],
   "source": [
    "# Series : 차원축소\n",
    "csv['label_bmi'][:5]"
   ]
  },
  {
   "cell_type": "code",
   "execution_count": 23,
   "metadata": {},
   "outputs": [],
   "source": [
    "X_train, X_test, y_train, y_test = train_test_split(\n",
    "    csv[ ['height', 'weight'] ],  # DataFrame : 차원유지\n",
    "    csv['label_bmi'],  # Series : 차원축소\n",
    "    test_size = 0.25,\n",
    "    random_state = 0   # 일관성 있는 결과를 얻고 싶다면, 난수의 시드를 고정\n",
    ")"
   ]
  },
  {
   "cell_type": "code",
   "execution_count": 38,
   "metadata": {},
   "outputs": [
    {
     "data": {
      "text/plain": [
       "((15000, 2), (5000, 2), (15000,), (5000,))"
      ]
     },
     "execution_count": 38,
     "metadata": {},
     "output_type": "execute_result"
    }
   ],
   "source": [
    "X_train.shape, X_test.shape, y_train.shape, y_test.shape"
   ]
  },
  {
   "cell_type": "code",
   "execution_count": 39,
   "metadata": {},
   "outputs": [
    {
     "data": {
      "text/html": [
       "<div>\n",
       "<style scoped>\n",
       "    .dataframe tbody tr th:only-of-type {\n",
       "        vertical-align: middle;\n",
       "    }\n",
       "\n",
       "    .dataframe tbody tr th {\n",
       "        vertical-align: top;\n",
       "    }\n",
       "\n",
       "    .dataframe thead th {\n",
       "        text-align: right;\n",
       "    }\n",
       "</style>\n",
       "<table border=\"1\" class=\"dataframe\">\n",
       "  <thead>\n",
       "    <tr style=\"text-align: right;\">\n",
       "      <th></th>\n",
       "      <th>height</th>\n",
       "      <th>weight</th>\n",
       "    </tr>\n",
       "  </thead>\n",
       "  <tbody>\n",
       "    <tr>\n",
       "      <th>16152</th>\n",
       "      <td>0.91</td>\n",
       "      <td>0.8125</td>\n",
       "    </tr>\n",
       "    <tr>\n",
       "      <th>17768</th>\n",
       "      <td>0.75</td>\n",
       "      <td>0.8375</td>\n",
       "    </tr>\n",
       "  </tbody>\n",
       "</table>\n",
       "</div>"
      ],
      "text/plain": [
       "       height  weight\n",
       "16152    0.91  0.8125\n",
       "17768    0.75  0.8375"
      ]
     },
     "execution_count": 39,
     "metadata": {},
     "output_type": "execute_result"
    }
   ],
   "source": [
    "X_train[:2]"
   ]
  },
  {
   "cell_type": "code",
   "execution_count": 40,
   "metadata": {},
   "outputs": [
    {
     "data": {
      "text/plain": [
       "16152    [0, 1, 0]\n",
       "17768    [0, 0, 1]\n",
       "Name: label_bmi, dtype: object"
      ]
     },
     "execution_count": 40,
     "metadata": {},
     "output_type": "execute_result"
    }
   ],
   "source": [
    "y_train[:2]"
   ]
  },
  {
   "cell_type": "code",
   "execution_count": null,
   "metadata": {},
   "outputs": [],
   "source": []
  },
  {
   "cell_type": "markdown",
   "metadata": {},
   "source": [
    "- 텐서플로우 등장\n",
    "- 소프트맥스 회귀라는 알고리즘을 사용 → DL 수행 시 자주 사용하는 활성화 함수 중에 하나\n",
    "- softmax(), sigmod(), ... \n",
    "- 인공신경망과 아주 유사"
   ]
  },
  {
   "cell_type": "markdown",
   "metadata": {},
   "source": [
    "<img src = './data/sm0.png' width = '200'>"
   ]
  },
  {
   "cell_type": "markdown",
   "metadata": {},
   "source": [
    "- 각각의 입력값에 가중치(W)를 곱하고, bias(b)를 더하고 나서 sortmax() 함수를 통과시키면, 출력값이 나타나게 된다"
   ]
  },
  {
   "cell_type": "markdown",
   "metadata": {},
   "source": [
    "<img src = './data/sm1.png' width = '500'>"
   ]
  },
  {
   "cell_type": "markdown",
   "metadata": {},
   "source": [
    "<img src = './data/sm2.png' width = '500'>"
   ]
  },
  {
   "cell_type": "markdown",
   "metadata": {},
   "source": [
    "<img src = './data/sm3.png' width = '500'>"
   ]
  },
  {
   "cell_type": "markdown",
   "metadata": {},
   "source": [
    "- **y = softmax(Wx+b)**\n",
    "- 실제 텐서플로우로 구현 시, 차원유지를 위해서 Wx는 xW로 구현할 수 있다 → 행렬곱"
   ]
  },
  {
   "cell_type": "code",
   "execution_count": 27,
   "metadata": {},
   "outputs": [],
   "source": [
    "# 소프트맥스 회귀 식을 텐서플로우로 구현하기 위해 구성요소 정의\n",
    "# 입력(x) → 키, 몸무게\n",
    "# 입력 데이터 N개\n",
    "x = tf.placeholder( tf.float32, [None, 2] )"
   ]
  },
  {
   "cell_type": "code",
   "execution_count": 28,
   "metadata": {},
   "outputs": [],
   "source": [
    "# 출력 y_ → 1.0.0 or 0.1.0 or 0.0.1 → [None, 3]\n",
    "y_ = tf.placeholder( tf.float32, [None, 3] )"
   ]
  },
  {
   "cell_type": "code",
   "execution_count": 29,
   "metadata": {},
   "outputs": [
    {
     "name": "stdout",
     "output_type": "stream",
     "text": [
      "WARNING:tensorflow:From C:\\Users\\User\\Anaconda3\\lib\\site-packages\\tensorflow\\python\\framework\\op_def_library.py:263: colocate_with (from tensorflow.python.framework.ops) is deprecated and will be removed in a future version.\n",
      "Instructions for updating:\n",
      "Colocations handled automatically by placer.\n"
     ]
    }
   ],
   "source": [
    "# bias(편향)\n",
    "# tf.zeros()를 통해서 해당 행렬에 기본값을 0으로 세팅\n",
    "b = tf.Variable( tf.zeros([3]) )"
   ]
  },
  {
   "cell_type": "code",
   "execution_count": 30,
   "metadata": {},
   "outputs": [],
   "source": [
    "# 가중치 : W → 필터, 커널로 표현\n",
    "# [None, 2]*W + b = [None, 3]\n",
    "# [None, 2]*[2, 3] + [3] = [None, 3]\n",
    "# tf.zeros()를 통해서 해당 행렬에 기본값을 0으로 세팅\n",
    "W = tf.Variable( tf.zeros([2, 3]) )"
   ]
  },
  {
   "cell_type": "code",
   "execution_count": 31,
   "metadata": {},
   "outputs": [],
   "source": [
    "# 데이터 플로우 그래프 y\n",
    "y = tf.nn.softmax( tf.matmul( x, W ) + b )"
   ]
  },
  {
   "cell_type": "code",
   "execution_count": 41,
   "metadata": {},
   "outputs": [
    {
     "data": {
      "text/plain": [
       "'(?, 2) x (2, 3) + (3,) = (?, 3)'"
      ]
     },
     "execution_count": 41,
     "metadata": {},
     "output_type": "execute_result"
    }
   ],
   "source": [
    "'%s x %s + %s = %s' % (x.shape, W.shape, b.shape, y.shape)"
   ]
  },
  {
   "cell_type": "markdown",
   "metadata": {},
   "source": [
    "#### 학습\n",
    "\n",
    "- 좋은 모델에 대한 정의\n",
    "- 기준\n",
    "    - 비용(cost), 손실(loss) 등 원하는 결과에서 얼마나 떨어져 있는지 보여주는 지표\n",
    "    - 이런 격차를 줄이는 방향으로 내용 전개\n",
    "    - 이를 위해서 통상 '크로스 엔트로피' 알고리즘을 적용\n",
    "    - 정보 이론 분야에 정보 압축 알고리즘으로 고안\n",
    "    - 도박, 머신러닝 등에 중요한 아이디어로 사용\n",
    "    <img src = './data/sm4.png' width='200'>"
   ]
  },
  {
   "cell_type": "code",
   "execution_count": 42,
   "metadata": {},
   "outputs": [],
   "source": [
    "# 텐서플로우로 크로스 엔트로피 구성\n",
    "# y_ : 정답 레이블, y : 예측 레이블\n",
    "cross_entropy = -tf.reduce_sum(y_ * tf.log(y))"
   ]
  },
  {
   "cell_type": "code",
   "execution_count": 43,
   "metadata": {},
   "outputs": [],
   "source": [
    "# 크로스 엔트로피 값을 최소화하도록 작업이 진행\n",
    "# → 경사 하강법(gradient descent algorithm)으로 수행\n",
    "# 경사하강법을 적용하면 \n",
    "# 텐서플로우가 각각의 변수를 비용을 줄이는 방향으로 조금씩 이동시켜서 연산\n",
    "# → 오차율이 최소가 되도록\n",
    "\n",
    "# 경사 하강법 알고리즘 생성\n",
    "# 하이퍼파라미터 0.01\n",
    "optimizer = tf.train.GradientDescentOptimizer( 0.01 )"
   ]
  },
  {
   "cell_type": "code",
   "execution_count": 44,
   "metadata": {},
   "outputs": [
    {
     "data": {
      "text/plain": [
       "<tf.Operation 'GradientDescent_1' type=NoOp>"
      ]
     },
     "execution_count": 44,
     "metadata": {},
     "output_type": "execute_result"
    }
   ],
   "source": [
    "# 훈련 정의\n",
    "train = optimizer.minimize( cross_entropy )\n",
    "train"
   ]
  },
  {
   "cell_type": "code",
   "execution_count": 49,
   "metadata": {},
   "outputs": [],
   "source": [
    "# tf.argmax( y, 1 ), tf.argmax(y_, 1)"
   ]
  },
  {
   "cell_type": "code",
   "execution_count": 36,
   "metadata": {},
   "outputs": [
    {
     "data": {
      "text/plain": [
       "<tf.Tensor 'Equal:0' shape=(?,) dtype=bool>"
      ]
     },
     "execution_count": 36,
     "metadata": {},
     "output_type": "execute_result"
    }
   ],
   "source": [
    "# 정답률 예측 정의\n",
    "# y_ : 정답 레이블\n",
    "# y : 예측 레이블\n",
    "# tf.argmax( y, 1 ) : 모델이 판단하기에 각 데이터별로 가장 적합하다고 판단되는 라벨\n",
    "predict = tf.equal(tf.argmax( y, 1 ), tf.argmax(y_, 1))\n",
    "predict"
   ]
  },
  {
   "cell_type": "code",
   "execution_count": 50,
   "metadata": {},
   "outputs": [],
   "source": [
    "# 정확도 정의\n",
    "# predict(불린형 리스트) → 부동소수로 변환 → 평균\n",
    "accuracy = tf.reduce_mean( tf.cast(predict, tf.float32) )"
   ]
  },
  {
   "cell_type": "markdown",
   "metadata": {},
   "source": [
    "- 세션 가동 → 실제 연산 수행 → 결과 획득"
   ]
  },
  {
   "cell_type": "code",
   "execution_count": 51,
   "metadata": {
    "scrolled": true
   },
   "outputs": [
    {
     "data": {
      "text/html": [
       "<div>\n",
       "<style scoped>\n",
       "    .dataframe tbody tr th:only-of-type {\n",
       "        vertical-align: middle;\n",
       "    }\n",
       "\n",
       "    .dataframe tbody tr th {\n",
       "        vertical-align: top;\n",
       "    }\n",
       "\n",
       "    .dataframe thead th {\n",
       "        text-align: right;\n",
       "    }\n",
       "</style>\n",
       "<table border=\"1\" class=\"dataframe\">\n",
       "  <thead>\n",
       "    <tr style=\"text-align: right;\">\n",
       "      <th></th>\n",
       "      <th>height</th>\n",
       "      <th>weight</th>\n",
       "    </tr>\n",
       "  </thead>\n",
       "  <tbody>\n",
       "    <tr>\n",
       "      <th>16152</th>\n",
       "      <td>0.91</td>\n",
       "      <td>0.8125</td>\n",
       "    </tr>\n",
       "    <tr>\n",
       "      <th>17768</th>\n",
       "      <td>0.75</td>\n",
       "      <td>0.8375</td>\n",
       "    </tr>\n",
       "  </tbody>\n",
       "</table>\n",
       "</div>"
      ],
      "text/plain": [
       "       height  weight\n",
       "16152    0.91  0.8125\n",
       "17768    0.75  0.8375"
      ]
     },
     "execution_count": 51,
     "metadata": {},
     "output_type": "execute_result"
    }
   ],
   "source": [
    "X_train[ 0 : 100 ][['height', 'weight']].head(2)"
   ]
  },
  {
   "cell_type": "code",
   "execution_count": 81,
   "metadata": {},
   "outputs": [],
   "source": [
    "# y_train[0 : 100]"
   ]
  },
  {
   "cell_type": "code",
   "execution_count": 82,
   "metadata": {},
   "outputs": [],
   "source": [
    "# list(y_train[0 : 100])"
   ]
  },
  {
   "cell_type": "code",
   "execution_count": 80,
   "metadata": {},
   "outputs": [
    {
     "name": "stdout",
     "output_type": "stream",
     "text": [
      "0 100\n",
      "10 110\n",
      "20 120\n",
      "30 130\n",
      "40 140\n",
      "50 150\n",
      "60 160\n",
      "70 170\n",
      "80 180\n",
      "90 190\n",
      "10\n"
     ]
    }
   ],
   "source": [
    "TERM = 100\n",
    "size = int(150/TERM)\n",
    "# print(size)\n",
    "\n",
    "startIdxs = []\n",
    "for step in range(size * 10) :\n",
    "    startIdx = int(step * TERM / 10)\n",
    "    startIdxs.append(startIdx)\n",
    "    print(startIdx, startIdx+TERM)\n",
    "\n",
    "print(len(startIdxs))"
   ]
  },
  {
   "cell_type": "code",
   "execution_count": 83,
   "metadata": {},
   "outputs": [
    {
     "name": "stdout",
     "output_type": "stream",
     "text": [
      "W <tf.Variable 'Variable_1:0' shape=(2, 3) dtype=float32_ref>\n",
      "b <tf.Variable 'Variable:0' shape=(3,) dtype=float32_ref>\n",
      "b 150\n",
      "step = 0, cre = 106.28908, acc = 0.3788\n",
      "step = 15, cre = 98.79806, acc = 0.3968\n",
      "step = 30, cre = 94.22411, acc = 0.6388\n",
      "step = 45, cre = 91.32673, acc = 0.7412\n",
      "step = 60, cre = 89.753494, acc = 0.793\n",
      "step = 75, cre = 84.77294, acc = 0.5854\n",
      "step = 90, cre = 80.034706, acc = 0.6806\n",
      "step = 105, cre = 78.591446, acc = 0.6886\n",
      "step = 120, cre = 75.05971, acc = 0.8148\n",
      "step = 135, cre = 75.22493, acc = 0.7664\n",
      "step = 150, cre = 75.71864, acc = 0.8212\n",
      "step = 165, cre = 60.266014, acc = 0.6856\n",
      "step = 180, cre = 68.56894, acc = 0.6824\n",
      "step = 195, cre = 65.36645, acc = 0.6894\n",
      "step = 210, cre = 67.419556, acc = 0.7324\n",
      "step = 225, cre = 63.54231, acc = 0.7344\n",
      "step = 240, cre = 65.125626, acc = 0.8458\n",
      "step = 255, cre = 68.07184, acc = 0.8666\n",
      "step = 270, cre = 60.797073, acc = 0.715\n",
      "step = 285, cre = 59.59044, acc = 0.7498\n",
      "step = 300, cre = 56.079666, acc = 0.704\n",
      "step = 315, cre = 61.3898, acc = 0.7476\n",
      "step = 330, cre = 59.13226, acc = 0.8612\n",
      "step = 345, cre = 57.764496, acc = 0.866\n",
      "step = 360, cre = 60.702667, acc = 0.8748\n",
      "step = 375, cre = 57.307632, acc = 0.8146\n",
      "step = 390, cre = 56.104683, acc = 0.8772\n",
      "step = 405, cre = 58.298874, acc = 0.8408\n",
      "step = 420, cre = 56.528984, acc = 0.8582\n",
      "step = 435, cre = 53.7404, acc = 0.8662\n",
      "step = 450, cre = 53.247734, acc = 0.7836\n",
      "step = 465, cre = 52.278656, acc = 0.7814\n",
      "step = 480, cre = 51.642174, acc = 0.8814\n",
      "step = 495, cre = 50.399445, acc = 0.825\n",
      "step = 510, cre = 50.98936, acc = 0.8158\n",
      "step = 525, cre = 51.16976, acc = 0.8396\n",
      "step = 540, cre = 53.85205, acc = 0.8312\n",
      "step = 555, cre = 46.367355, acc = 0.8342\n",
      "step = 570, cre = 50.952026, acc = 0.8486\n",
      "step = 585, cre = 50.607803, acc = 0.8924\n",
      "step = 600, cre = 47.296772, acc = 0.8024\n",
      "step = 615, cre = 53.398376, acc = 0.8892\n",
      "step = 630, cre = 49.343044, acc = 0.8296\n",
      "step = 645, cre = 47.061882, acc = 0.8432\n",
      "step = 660, cre = 49.153706, acc = 0.8976\n",
      "step = 675, cre = 51.744106, acc = 0.8632\n",
      "step = 690, cre = 48.465473, acc = 0.904\n",
      "step = 705, cre = 48.803978, acc = 0.8964\n",
      "step = 720, cre = 44.001717, acc = 0.883\n",
      "step = 735, cre = 43.392178, acc = 0.8894\n",
      "step = 750, cre = 43.458794, acc = 0.8424\n",
      "step = 765, cre = 51.977802, acc = 0.904\n",
      "step = 780, cre = 46.747223, acc = 0.9078\n",
      "step = 795, cre = 52.635822, acc = 0.883\n",
      "step = 810, cre = 45.1127, acc = 0.8642\n",
      "step = 825, cre = 44.70475, acc = 0.8926\n",
      "step = 840, cre = 40.155937, acc = 0.8698\n",
      "step = 855, cre = 48.442947, acc = 0.8838\n",
      "step = 870, cre = 44.74459, acc = 0.891\n",
      "step = 885, cre = 40.97728, acc = 0.8064\n",
      "step = 900, cre = 48.980057, acc = 0.9154\n",
      "step = 915, cre = 41.19356, acc = 0.8562\n",
      "step = 930, cre = 44.84306, acc = 0.9084\n",
      "step = 945, cre = 36.879395, acc = 0.872\n",
      "step = 960, cre = 38.20339, acc = 0.8532\n",
      "step = 975, cre = 38.91755, acc = 0.8516\n",
      "step = 990, cre = 42.741867, acc = 0.9022\n",
      "step = 1005, cre = 35.939484, acc = 0.85\n",
      "step = 1020, cre = 43.366135, acc = 0.9168\n",
      "step = 1035, cre = 40.36989, acc = 0.9156\n",
      "step = 1050, cre = 41.92138, acc = 0.9134\n",
      "step = 1065, cre = 41.23909, acc = 0.8946\n",
      "step = 1080, cre = 42.441242, acc = 0.887\n",
      "step = 1095, cre = 38.610157, acc = 0.8966\n",
      "step = 1110, cre = 40.074303, acc = 0.8852\n",
      "step = 1125, cre = 41.438934, acc = 0.9188\n",
      "step = 1140, cre = 41.464836, acc = 0.9204\n",
      "step = 1155, cre = 42.545, acc = 0.915\n",
      "step = 1170, cre = 39.5695, acc = 0.921\n",
      "step = 1185, cre = 39.39919, acc = 0.8984\n",
      "step = 1200, cre = 34.898888, acc = 0.807\n",
      "step = 1215, cre = 42.69639, acc = 0.9194\n",
      "step = 1230, cre = 41.804226, acc = 0.9248\n",
      "step = 1245, cre = 41.459465, acc = 0.9198\n",
      "step = 1260, cre = 34.002743, acc = 0.8316\n",
      "step = 1275, cre = 38.18553, acc = 0.8766\n",
      "step = 1290, cre = 37.971184, acc = 0.924\n",
      "step = 1305, cre = 45.169033, acc = 0.8924\n",
      "step = 1320, cre = 42.06356, acc = 0.9158\n",
      "step = 1335, cre = 37.5085, acc = 0.9024\n",
      "step = 1350, cre = 36.007065, acc = 0.9278\n",
      "step = 1365, cre = 40.271763, acc = 0.9206\n",
      "step = 1380, cre = 36.569077, acc = 0.8792\n",
      "step = 1395, cre = 37.12388, acc = 0.9246\n",
      "step = 1410, cre = 35.828896, acc = 0.9272\n",
      "step = 1425, cre = 40.498516, acc = 0.9254\n",
      "step = 1440, cre = 40.022167, acc = 0.894\n",
      "step = 1455, cre = 38.58776, acc = 0.9332\n",
      "step = 1470, cre = 37.221943, acc = 0.931\n",
      "step = 1485, cre = 38.88752, acc = 0.9368\n",
      "step = 1500, cre = 41.24356, acc = 0.9206\n",
      "step = 1515, cre = 37.172127, acc = 0.918\n",
      "step = 1530, cre = 31.133781, acc = 0.8566\n",
      "step = 1545, cre = 34.058594, acc = 0.8984\n",
      "step = 1560, cre = 38.25596, acc = 0.9146\n",
      "step = 1575, cre = 38.707733, acc = 0.9356\n",
      "step = 1590, cre = 37.52201, acc = 0.935\n",
      "step = 1605, cre = 36.3469, acc = 0.9252\n",
      "step = 1620, cre = 37.224148, acc = 0.9254\n",
      "step = 1635, cre = 36.119564, acc = 0.8822\n",
      "step = 1650, cre = 37.417435, acc = 0.9412\n",
      "step = 1665, cre = 36.647564, acc = 0.9408\n",
      "step = 1680, cre = 32.623573, acc = 0.9104\n",
      "step = 1695, cre = 36.59855, acc = 0.9376\n",
      "step = 1710, cre = 38.893784, acc = 0.9284\n",
      "step = 1725, cre = 31.352436, acc = 0.9392\n",
      "step = 1740, cre = 40.007835, acc = 0.9268\n",
      "step = 1755, cre = 34.58413, acc = 0.871\n",
      "step = 1770, cre = 38.158928, acc = 0.9408\n",
      "step = 1785, cre = 36.896915, acc = 0.9388\n",
      "step = 1800, cre = 37.167965, acc = 0.9396\n",
      "step = 1815, cre = 36.16378, acc = 0.9442\n",
      "step = 1830, cre = 36.205116, acc = 0.9268\n",
      "step = 1845, cre = 36.07282, acc = 0.924\n",
      "step = 1860, cre = 38.48079, acc = 0.9384\n",
      "step = 1875, cre = 34.034225, acc = 0.9516\n",
      "step = 1890, cre = 35.940243, acc = 0.9414\n",
      "step = 1905, cre = 36.483467, acc = 0.9098\n",
      "step = 1920, cre = 33.478714, acc = 0.9398\n",
      "step = 1935, cre = 36.298897, acc = 0.9466\n",
      "step = 1950, cre = 38.16385, acc = 0.9444\n",
      "step = 1965, cre = 34.1153, acc = 0.9454\n",
      "step = 1980, cre = 30.913746, acc = 0.9478\n",
      "step = 1995, cre = 35.50835, acc = 0.9386\n",
      "step = 2010, cre = 35.637833, acc = 0.9468\n",
      "step = 2025, cre = 30.041409, acc = 0.8976\n",
      "step = 2040, cre = 30.129732, acc = 0.9484\n",
      "step = 2055, cre = 31.030071, acc = 0.941\n",
      "step = 2070, cre = 33.354042, acc = 0.9532\n",
      "step = 2085, cre = 37.888145, acc = 0.9488\n",
      "step = 2100, cre = 30.251896, acc = 0.9516\n",
      "step = 2115, cre = 29.693336, acc = 0.9186\n",
      "step = 2130, cre = 31.660978, acc = 0.9438\n",
      "step = 2145, cre = 30.48014, acc = 0.9218\n",
      "step = 2160, cre = 33.175873, acc = 0.9494\n",
      "step = 2175, cre = 36.372437, acc = 0.9542\n",
      "step = 2190, cre = 31.309204, acc = 0.9536\n",
      "step = 2205, cre = 32.428696, acc = 0.9514\n",
      "step = 2220, cre = 30.666676, acc = 0.9224\n",
      "step = 2235, cre = 31.996525, acc = 0.9362\n",
      "step = 2250, cre = 28.756718, acc = 0.9482\n",
      "step = 2265, cre = 30.504406, acc = 0.9336\n",
      "step = 2280, cre = 35.64096, acc = 0.9406\n",
      "step = 2295, cre = 32.15384, acc = 0.9544\n",
      "step = 2310, cre = 31.88501, acc = 0.9506\n",
      "step = 2325, cre = 34.48358, acc = 0.9552\n",
      "step = 2340, cre = 31.415833, acc = 0.9364\n",
      "step = 2355, cre = 34.078636, acc = 0.942\n",
      "step = 2370, cre = 29.318602, acc = 0.9402\n",
      "step = 2385, cre = 26.749979, acc = 0.956\n",
      "정답률 0.9344\n"
     ]
    }
   ],
   "source": [
    "# 구동을 반복해서 시키면 학습량이 증가해서\n",
    "# 정확도가 상승한다\n",
    "with tf.Session() as sess :\n",
    "    \n",
    "    # 변수 초기화\n",
    "    sess.run( tf.global_variables_initializer() )\n",
    "    print( 'W', W )\n",
    "    print( 'b', b )\n",
    "    \n",
    "    TERM = 100\n",
    "    size = int(X_train.shape[0]/TERM)  \n",
    "    print('b', size)\n",
    "    \n",
    "    # 학습\n",
    "    # 성능 향상(일반적)\n",
    "    for step in range( size * 16 ) :\n",
    "        # X_train에서 데이터를 추출 → 시작 위치\n",
    "        startIdx = int(step * TERM / 16)\n",
    "        # 앞에서부터 TERM 단위로 훈련 데이터를 추출하겠다\n",
    "        rows = X_train[ startIdx : startIdx + TERM ]\n",
    "        \n",
    "        # 학습 데이터 구성\n",
    "        x_pat = rows[ ['height', 'weight'] ]\n",
    "        y_ans = list(y_train[ startIdx : startIdx + TERM ])\n",
    "        \n",
    "        # 평가를 위한 구조\n",
    "        fd = { x : x_pat, y_ : y_ans }\n",
    "        \n",
    "        # 학습 세트 훈련\n",
    "        # sess.run 구동 시 데이터를 전달 → feed_dict\n",
    "        sess.run( train, feed_dict=fd )\n",
    "        \n",
    "        # 중간 확인\n",
    "        if step % 15 == 0 :\n",
    "            # 크로스 엔트로피값 획득\n",
    "            cre = sess.run(cross_entropy, feed_dict = fd)\n",
    "            # 정확도\n",
    "            acc = sess.run(accuracy, feed_dict = {x:X_test, y_: list(y_test)})\n",
    "            print('step = %s, cre = %s, acc = %s' %(step, cre, acc))\n",
    "    \n",
    "    # 최종적인 정답값 확인\n",
    "    acc = sess.run(accuracy, feed_dict = {x:X_test, y_:list(y_test)})\n",
    "    print('정답률', acc)\n",
    "    \n",
    "    # 텐서들의 관계 및 흐름을 보기 위해 지원 : 텐서보드\n",
    "    tf.summary.FileWriter('./bmi_tf_log', graph=sess.graph)"
   ]
  },
  {
   "cell_type": "code",
   "execution_count": null,
   "metadata": {},
   "outputs": [],
   "source": [
    "# 텐서보드 가동\n",
    "# shell을 가동\n",
    "# !tensorboard --logdir=bmi_tf_log\n",
    "\n",
    "# 컴퓨터에 따라서 실행이 안 될 수 있으니\n",
    "$ tensorboard --logdir = bmi_tf_log"
   ]
  },
  {
   "cell_type": "code",
   "execution_count": null,
   "metadata": {},
   "outputs": [],
   "source": []
  },
  {
   "cell_type": "code",
   "execution_count": null,
   "metadata": {},
   "outputs": [],
   "source": []
  },
  {
   "cell_type": "code",
   "execution_count": null,
   "metadata": {},
   "outputs": [],
   "source": []
  },
  {
   "cell_type": "code",
   "execution_count": null,
   "metadata": {},
   "outputs": [],
   "source": []
  }
 ],
 "metadata": {
  "kernelspec": {
   "display_name": "Python 3",
   "language": "python",
   "name": "python3"
  },
  "language_info": {
   "codemirror_mode": {
    "name": "ipython",
    "version": 3
   },
   "file_extension": ".py",
   "mimetype": "text/x-python",
   "name": "python",
   "nbconvert_exporter": "python",
   "pygments_lexer": "ipython3",
   "version": "3.6.5"
  }
 },
 "nbformat": 4,
 "nbformat_minor": 2
}
