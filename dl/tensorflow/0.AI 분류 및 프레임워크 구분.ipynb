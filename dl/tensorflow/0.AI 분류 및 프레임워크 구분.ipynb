{
 "cells": [
  {
   "cell_type": "markdown",
   "metadata": {},
   "source": [
    "### AI : Artificial Intelligence\n",
    "\n",
    "- AI\n",
    "    - AGI : Artificial General Intelligence\n",
    "        - 인공일반지능\n",
    "        - 영화에서 보는 AI, 여러가지 일을 다 처리\n",
    "        - 인간이 할 수 있는 어떤 지적 업무도 다 성공적으로 수행해내는 기계의 지능\n",
    "        - 대화, 판단, 게임 등 인간이 하는 모든 것을 그 이상으로 수행\n",
    "    - ANI : Artificial Narrow Intelligence\n",
    "        - 좁은 AI\n",
    "        - 하나의 작업에 초점을 맞춘 인공지능\n",
    "        - 한 개만 잘한다. 하나의 작업 외에는 아무것도 못한다\n",
    "        - 얼굴인식(페이스북) 등\n",
    "        - 이런 AI를 학습하기 위한 작업 → Machine Learning\n",
    "            1. supervised learning : label이 존재, 데이터를 분류해서 제공\n",
    "            2. unsupervised learning : label이 없다. 특성 추출, 군집\n",
    "            3. semi-supervised learning : 일부만 label 존재\n",
    "            4. reinforcement learning : 행동심리학에서 영감을 얻고, 어떤 환경에서 정의된 에이전트(agent)가 최대화 행동, 행동 순서들을 선택하는 방법(DQN, 알파고)\n",
    "        - 머신러닝을 달성하기 위한 방법 중에 하나, 딥러닝(Deep Learning)\n",
    "            - Neural Network : (인공) 신경망을 이용하여 학습 수행\n",
    "            - 대규모 데이터, 프로세스 필요, GPU 연산(CUDA, ROCM)\n",
    "            - 이를 위한 대표적인 언어 : 파이썬\n",
    "            - 이를 위한 프레임워크(엔진)\n",
    "                - 텐서플로우 : Tensorflow → 구글의 백업, 거대 커뮤니티\n",
    "                - 케라스 : Keras → 쉬워서 딥러닝 입문 시 좋다. 여러 엔진 사용 가능(사실상 엔진이 아닌 '인터페이스')\n",
    "                - 파이토치 : PyTorch → 페이스북 백업, 2019년도 엔진 2위\n",
    "            - bit.ly/2kIVBGh : 딥러닝 프레임워크 scores\n",
    "                - Tensorflow > PyTorch > Keras (2019년 기준)"
   ]
  },
  {
   "cell_type": "markdown",
   "metadata": {},
   "source": [
    "<img src='./data/0.dl_framework.png'>\n",
    "<img src='./data/0.dl_job_rank.png'>\n",
    "<img src='./data/0.dl_science_rank.png'>\n",
    "<img src='./data/0.dl_rank_2019.png'>"
   ]
  },
  {
   "cell_type": "code",
   "execution_count": null,
   "metadata": {},
   "outputs": [],
   "source": []
  },
  {
   "cell_type": "code",
   "execution_count": null,
   "metadata": {},
   "outputs": [],
   "source": []
  }
 ],
 "metadata": {
  "kernelspec": {
   "display_name": "Python 3",
   "language": "python",
   "name": "python3"
  },
  "language_info": {
   "codemirror_mode": {
    "name": "ipython",
    "version": 3
   },
   "file_extension": ".py",
   "mimetype": "text/x-python",
   "name": "python",
   "nbconvert_exporter": "python",
   "pygments_lexer": "ipython3",
   "version": "3.6.5"
  }
 },
 "nbformat": 4,
 "nbformat_minor": 2
}
