{
 "cells": [
  {
   "cell_type": "markdown",
   "metadata": {},
   "source": [
    "- 설치\n",
    "    - GPU가 있는 경우\n",
    "        - conda install keras-gpu  \n",
    "        - (텐서플로우인 경우) conda install tensorflow-gpu  \n",
    "    - 일반적인 경우\n",
    "        - conda install keras"
   ]
  },
  {
   "cell_type": "markdown",
   "metadata": {},
   "source": [
    "- keras는 API 기반 인터페이스이다\n",
    "- 엔진을 교체하고 싶다면\n",
    "    - 사용자계정/.keras/keras.json  \n",
    "    {  \n",
    "        \"floatx\": \"float32\",  \n",
    "        \"epsilon\": 1e-07,  \n",
    "        \"backend\": \"tensorflow\", ← 사용 엔진(프레임워크)  \n",
    "        \"image_data_format\": \"channels_last\"  \n",
    "    }  "
   ]
  },
  {
   "cell_type": "code",
   "execution_count": 46,
   "metadata": {},
   "outputs": [],
   "source": [
    "import keras"
   ]
  },
  {
   "cell_type": "markdown",
   "metadata": {},
   "source": [
    "### 간단한 루틴으로 케라스 확인"
   ]
  },
  {
   "cell_type": "code",
   "execution_count": 47,
   "metadata": {},
   "outputs": [],
   "source": [
    "import numpy"
   ]
  },
  {
   "cell_type": "code",
   "execution_count": 48,
   "metadata": {},
   "outputs": [
    {
     "name": "stdout",
     "output_type": "stream",
     "text": [
      "[0 1 2 3 4]\n"
     ]
    }
   ],
   "source": [
    "# 더미 데이터 구성\n",
    "x = numpy.array( [0, 1, 2, 3, 4] )\n",
    "print(x)"
   ]
  },
  {
   "cell_type": "code",
   "execution_count": 49,
   "metadata": {},
   "outputs": [
    {
     "name": "stdout",
     "output_type": "stream",
     "text": [
      "[1 3 5 7 9]\n"
     ]
    }
   ],
   "source": [
    "# 2 → 가중치\n",
    "# 1 → 편향\n",
    "y = x * 2 + 1\n",
    "print(y)"
   ]
  },
  {
   "cell_type": "code",
   "execution_count": 50,
   "metadata": {},
   "outputs": [
    {
     "data": {
      "text/plain": [
       "(array([0, 1, 2, 3, 4]), array([1, 3, 5, 7, 9]))"
      ]
     },
     "execution_count": 50,
     "metadata": {},
     "output_type": "execute_result"
    }
   ],
   "source": [
    "x, y"
   ]
  },
  {
   "cell_type": "code",
   "execution_count": 51,
   "metadata": {},
   "outputs": [],
   "source": [
    "# 인공 신경망 모델링\n",
    "# 인공 신경망을 만들기 시작했음을 알린다 (파이썬 프로세스에게)\n",
    "model = keras.models.Sequential()\n",
    "\n",
    "# add()를 이용하여 인공지능 계층(layer)를 추가\n",
    "# 추가된 계층은 입력 노드와 가중치 등을 가지는 선형처리 계층이다\n",
    "model.add( keras.layers.Dense(1, input_shape=(1, )) )"
   ]
  },
  {
   "cell_type": "code",
   "execution_count": 52,
   "metadata": {},
   "outputs": [],
   "source": [
    "# 모델 학습 → 최적화 알고리즘 : SGD, 손실함수 : 평균제곱근오차(mse)\n",
    "model.compile('SGD', 'mse')"
   ]
  },
  {
   "cell_type": "code",
   "execution_count": 53,
   "metadata": {},
   "outputs": [
    {
     "data": {
      "text/plain": [
       "<keras.callbacks.History at 0x1e96492b518>"
      ]
     },
     "execution_count": 53,
     "metadata": {},
     "output_type": "execute_result"
    }
   ],
   "source": [
    "# 훈련\n",
    "# epochs : 인공신경망 학습시 학습 데이터 전체가 사용된 한 세대, 반복 횟수, 세대 수\n",
    "# verbose : 학습 진행 사항의 표시, 0 : 표시 안 함\n",
    "model.fit( x[:2], y[:2], epochs = 1000, verbose = 0 )"
   ]
  },
  {
   "cell_type": "code",
   "execution_count": 54,
   "metadata": {},
   "outputs": [
    {
     "data": {
      "text/plain": [
       "array([[4.986677],\n",
       "       [6.977037],\n",
       "       [8.967397]], dtype=float32)"
      ]
     },
     "execution_count": 54,
     "metadata": {},
     "output_type": "execute_result"
    }
   ],
   "source": [
    "model.predict( x[2:] )"
   ]
  },
  {
   "cell_type": "code",
   "execution_count": 55,
   "metadata": {},
   "outputs": [
    {
     "data": {
      "text/plain": [
       "array([4.986677, 6.977037, 8.967397], dtype=float32)"
      ]
     },
     "execution_count": 55,
     "metadata": {},
     "output_type": "execute_result"
    }
   ],
   "source": [
    "# 예측\n",
    "model.predict( x[2:] ).flatten()"
   ]
  },
  {
   "cell_type": "code",
   "execution_count": 56,
   "metadata": {},
   "outputs": [
    {
     "data": {
      "text/plain": [
       "array([5, 7, 9])"
      ]
     },
     "execution_count": 56,
     "metadata": {},
     "output_type": "execute_result"
    }
   ],
   "source": [
    "y[2:]"
   ]
  },
  {
   "cell_type": "code",
   "execution_count": null,
   "metadata": {},
   "outputs": [],
   "source": []
  }
 ],
 "metadata": {
  "kernelspec": {
   "display_name": "Python 3",
   "language": "python",
   "name": "python3"
  },
  "language_info": {
   "codemirror_mode": {
    "name": "ipython",
    "version": 3
   },
   "file_extension": ".py",
   "mimetype": "text/x-python",
   "name": "python",
   "nbconvert_exporter": "python",
   "pygments_lexer": "ipython3",
   "version": "3.6.5"
  }
 },
 "nbformat": 4,
 "nbformat_minor": 2
}
