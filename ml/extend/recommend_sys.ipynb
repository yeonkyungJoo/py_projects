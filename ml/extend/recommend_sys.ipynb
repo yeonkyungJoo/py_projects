{
 "cells": [
  {
   "cell_type": "markdown",
   "metadata": {},
   "source": [
    "#### 데이터 로드 및 살펴보기"
   ]
  },
  {
   "cell_type": "code",
   "execution_count": 1,
   "metadata": {},
   "outputs": [],
   "source": [
    "import pandas as pd"
   ]
  },
  {
   "cell_type": "raw",
   "metadata": {},
   "source": [
    "- u.user : 고객 정보\n",
    "- u.item : 영화 정보\n",
    "- u.data : 평점 정보"
   ]
  },
  {
   "cell_type": "code",
   "execution_count": 2,
   "metadata": {},
   "outputs": [
    {
     "data": {
      "text/plain": [
       "(943, 5)"
      ]
     },
     "execution_count": 2,
     "metadata": {},
     "output_type": "execute_result"
    }
   ],
   "source": [
    "# 고객 정보 로드\n",
    "# 고객 정보 컬럼 : 아이디, 나이, 성별, 직업, 주소(우편번호)\n",
    "cols = ['uid', 'age', 'sex', 'job', 'zip_code']\n",
    "users = pd.read_csv('./ml-100k/u.user', sep='|', names = cols)\n",
    "users.shape"
   ]
  },
  {
   "cell_type": "code",
   "execution_count": 5,
   "metadata": {},
   "outputs": [
    {
     "data": {
      "text/html": [
       "<div>\n",
       "<style scoped>\n",
       "    .dataframe tbody tr th:only-of-type {\n",
       "        vertical-align: middle;\n",
       "    }\n",
       "\n",
       "    .dataframe tbody tr th {\n",
       "        vertical-align: top;\n",
       "    }\n",
       "\n",
       "    .dataframe thead th {\n",
       "        text-align: right;\n",
       "    }\n",
       "</style>\n",
       "<table border=\"1\" class=\"dataframe\">\n",
       "  <thead>\n",
       "    <tr style=\"text-align: right;\">\n",
       "      <th></th>\n",
       "      <th>uid</th>\n",
       "      <th>age</th>\n",
       "      <th>sex</th>\n",
       "      <th>job</th>\n",
       "      <th>zip_code</th>\n",
       "    </tr>\n",
       "  </thead>\n",
       "  <tbody>\n",
       "    <tr>\n",
       "      <th>0</th>\n",
       "      <td>1</td>\n",
       "      <td>24</td>\n",
       "      <td>M</td>\n",
       "      <td>technician</td>\n",
       "      <td>85711</td>\n",
       "    </tr>\n",
       "    <tr>\n",
       "      <th>1</th>\n",
       "      <td>2</td>\n",
       "      <td>53</td>\n",
       "      <td>F</td>\n",
       "      <td>other</td>\n",
       "      <td>94043</td>\n",
       "    </tr>\n",
       "    <tr>\n",
       "      <th>2</th>\n",
       "      <td>3</td>\n",
       "      <td>23</td>\n",
       "      <td>M</td>\n",
       "      <td>writer</td>\n",
       "      <td>32067</td>\n",
       "    </tr>\n",
       "    <tr>\n",
       "      <th>3</th>\n",
       "      <td>4</td>\n",
       "      <td>24</td>\n",
       "      <td>M</td>\n",
       "      <td>technician</td>\n",
       "      <td>43537</td>\n",
       "    </tr>\n",
       "    <tr>\n",
       "      <th>4</th>\n",
       "      <td>5</td>\n",
       "      <td>33</td>\n",
       "      <td>F</td>\n",
       "      <td>other</td>\n",
       "      <td>15213</td>\n",
       "    </tr>\n",
       "  </tbody>\n",
       "</table>\n",
       "</div>"
      ],
      "text/plain": [
       "   uid  age sex         job zip_code\n",
       "0    1   24   M  technician    85711\n",
       "1    2   53   F       other    94043\n",
       "2    3   23   M      writer    32067\n",
       "3    4   24   M  technician    43537\n",
       "4    5   33   F       other    15213"
      ]
     },
     "execution_count": 5,
     "metadata": {},
     "output_type": "execute_result"
    }
   ],
   "source": [
    "users.head()"
   ]
  },
  {
   "cell_type": "code",
   "execution_count": 3,
   "metadata": {},
   "outputs": [
    {
     "data": {
      "text/plain": [
       "(1682, 5)"
      ]
     },
     "execution_count": 3,
     "metadata": {},
     "output_type": "execute_result"
    }
   ],
   "source": [
    "# 영화 정보 로드\n",
    "# 영화 정보 컬럼 : 영화 ID, 제목, 개봉일, 비디오개봉일, imdb 주소\n",
    "m_cols = ['mid', 'title', 'release_date', 'video_release_date', 'imdb_url']\n",
    "# 실제 데이터에 컬럼이 더 많으므로, 앞에서부터 잘라서 적용 → usecols\n",
    "movies = pd.read_csv('./ml-100k/u.item', sep = '|', names = m_cols,\n",
    "                        encoding = 'latin1', usecols = range(5))\n",
    "movies.shape"
   ]
  },
  {
   "cell_type": "code",
   "execution_count": 4,
   "metadata": {},
   "outputs": [
    {
     "data": {
      "text/plain": [
       "mid                      0\n",
       "title                    0\n",
       "release_date             1\n",
       "video_release_date    1682\n",
       "imdb_url                 3\n",
       "dtype: int64"
      ]
     },
     "execution_count": 4,
     "metadata": {},
     "output_type": "execute_result"
    }
   ],
   "source": [
    "movies.isna().sum()"
   ]
  },
  {
   "cell_type": "code",
   "execution_count": 6,
   "metadata": {},
   "outputs": [
    {
     "data": {
      "text/html": [
       "<div>\n",
       "<style scoped>\n",
       "    .dataframe tbody tr th:only-of-type {\n",
       "        vertical-align: middle;\n",
       "    }\n",
       "\n",
       "    .dataframe tbody tr th {\n",
       "        vertical-align: top;\n",
       "    }\n",
       "\n",
       "    .dataframe thead th {\n",
       "        text-align: right;\n",
       "    }\n",
       "</style>\n",
       "<table border=\"1\" class=\"dataframe\">\n",
       "  <thead>\n",
       "    <tr style=\"text-align: right;\">\n",
       "      <th></th>\n",
       "      <th>mid</th>\n",
       "      <th>title</th>\n",
       "      <th>release_date</th>\n",
       "      <th>video_release_date</th>\n",
       "      <th>imdb_url</th>\n",
       "    </tr>\n",
       "  </thead>\n",
       "  <tbody>\n",
       "    <tr>\n",
       "      <th>0</th>\n",
       "      <td>1</td>\n",
       "      <td>Toy Story (1995)</td>\n",
       "      <td>01-Jan-1995</td>\n",
       "      <td>NaN</td>\n",
       "      <td>http://us.imdb.com/M/title-exact?Toy%20Story%2...</td>\n",
       "    </tr>\n",
       "    <tr>\n",
       "      <th>1</th>\n",
       "      <td>2</td>\n",
       "      <td>GoldenEye (1995)</td>\n",
       "      <td>01-Jan-1995</td>\n",
       "      <td>NaN</td>\n",
       "      <td>http://us.imdb.com/M/title-exact?GoldenEye%20(...</td>\n",
       "    </tr>\n",
       "    <tr>\n",
       "      <th>2</th>\n",
       "      <td>3</td>\n",
       "      <td>Four Rooms (1995)</td>\n",
       "      <td>01-Jan-1995</td>\n",
       "      <td>NaN</td>\n",
       "      <td>http://us.imdb.com/M/title-exact?Four%20Rooms%...</td>\n",
       "    </tr>\n",
       "    <tr>\n",
       "      <th>3</th>\n",
       "      <td>4</td>\n",
       "      <td>Get Shorty (1995)</td>\n",
       "      <td>01-Jan-1995</td>\n",
       "      <td>NaN</td>\n",
       "      <td>http://us.imdb.com/M/title-exact?Get%20Shorty%...</td>\n",
       "    </tr>\n",
       "    <tr>\n",
       "      <th>4</th>\n",
       "      <td>5</td>\n",
       "      <td>Copycat (1995)</td>\n",
       "      <td>01-Jan-1995</td>\n",
       "      <td>NaN</td>\n",
       "      <td>http://us.imdb.com/M/title-exact?Copycat%20(1995)</td>\n",
       "    </tr>\n",
       "  </tbody>\n",
       "</table>\n",
       "</div>"
      ],
      "text/plain": [
       "   mid              title release_date  video_release_date  \\\n",
       "0    1   Toy Story (1995)  01-Jan-1995                 NaN   \n",
       "1    2   GoldenEye (1995)  01-Jan-1995                 NaN   \n",
       "2    3  Four Rooms (1995)  01-Jan-1995                 NaN   \n",
       "3    4  Get Shorty (1995)  01-Jan-1995                 NaN   \n",
       "4    5     Copycat (1995)  01-Jan-1995                 NaN   \n",
       "\n",
       "                                            imdb_url  \n",
       "0  http://us.imdb.com/M/title-exact?Toy%20Story%2...  \n",
       "1  http://us.imdb.com/M/title-exact?GoldenEye%20(...  \n",
       "2  http://us.imdb.com/M/title-exact?Four%20Rooms%...  \n",
       "3  http://us.imdb.com/M/title-exact?Get%20Shorty%...  \n",
       "4  http://us.imdb.com/M/title-exact?Copycat%20(1995)  "
      ]
     },
     "execution_count": 6,
     "metadata": {},
     "output_type": "execute_result"
    }
   ],
   "source": [
    "movies.head()"
   ]
  },
  {
   "cell_type": "code",
   "execution_count": 7,
   "metadata": {},
   "outputs": [
    {
     "data": {
      "text/plain": [
       "(100000, 4)"
      ]
     },
     "execution_count": 7,
     "metadata": {},
     "output_type": "execute_result"
    }
   ],
   "source": [
    "# 평점 정보 로드\n",
    "ratings_cols = ['uid', 'mid', 'rating', 'unix_timestamp']\n",
    "ratings = pd.read_csv('./ml-100k/u.data', sep = '\\t', names = ratings_cols)\n",
    "ratings.shape"
   ]
  },
  {
   "cell_type": "code",
   "execution_count": 13,
   "metadata": {},
   "outputs": [],
   "source": [
    "# unix_timestamp 칼럼의 데이터를 \n",
    "# 우리가 알 수 있는 형태로 변경\n",
    "# YYYY-mm-dd hh:mm:ss\n",
    "# date 칼럼 생성\n",
    "ratings['date'] = pd.to_datetime(ratings['unix_timestamp'], unit = 's')"
   ]
  },
  {
   "cell_type": "code",
   "execution_count": 14,
   "metadata": {},
   "outputs": [
    {
     "data": {
      "text/html": [
       "<div>\n",
       "<style scoped>\n",
       "    .dataframe tbody tr th:only-of-type {\n",
       "        vertical-align: middle;\n",
       "    }\n",
       "\n",
       "    .dataframe tbody tr th {\n",
       "        vertical-align: top;\n",
       "    }\n",
       "\n",
       "    .dataframe thead th {\n",
       "        text-align: right;\n",
       "    }\n",
       "</style>\n",
       "<table border=\"1\" class=\"dataframe\">\n",
       "  <thead>\n",
       "    <tr style=\"text-align: right;\">\n",
       "      <th></th>\n",
       "      <th>uid</th>\n",
       "      <th>mid</th>\n",
       "      <th>rating</th>\n",
       "      <th>unix_timestamp</th>\n",
       "      <th>date</th>\n",
       "    </tr>\n",
       "  </thead>\n",
       "  <tbody>\n",
       "    <tr>\n",
       "      <th>0</th>\n",
       "      <td>196</td>\n",
       "      <td>242</td>\n",
       "      <td>3</td>\n",
       "      <td>881250949</td>\n",
       "      <td>1997-12-04 15:55:49</td>\n",
       "    </tr>\n",
       "    <tr>\n",
       "      <th>1</th>\n",
       "      <td>186</td>\n",
       "      <td>302</td>\n",
       "      <td>3</td>\n",
       "      <td>891717742</td>\n",
       "      <td>1998-04-04 19:22:22</td>\n",
       "    </tr>\n",
       "    <tr>\n",
       "      <th>2</th>\n",
       "      <td>22</td>\n",
       "      <td>377</td>\n",
       "      <td>1</td>\n",
       "      <td>878887116</td>\n",
       "      <td>1997-11-07 07:18:36</td>\n",
       "    </tr>\n",
       "    <tr>\n",
       "      <th>3</th>\n",
       "      <td>244</td>\n",
       "      <td>51</td>\n",
       "      <td>2</td>\n",
       "      <td>880606923</td>\n",
       "      <td>1997-11-27 05:02:03</td>\n",
       "    </tr>\n",
       "    <tr>\n",
       "      <th>4</th>\n",
       "      <td>166</td>\n",
       "      <td>346</td>\n",
       "      <td>1</td>\n",
       "      <td>886397596</td>\n",
       "      <td>1998-02-02 05:33:16</td>\n",
       "    </tr>\n",
       "  </tbody>\n",
       "</table>\n",
       "</div>"
      ],
      "text/plain": [
       "   uid  mid  rating  unix_timestamp                date\n",
       "0  196  242       3       881250949 1997-12-04 15:55:49\n",
       "1  186  302       3       891717742 1998-04-04 19:22:22\n",
       "2   22  377       1       878887116 1997-11-07 07:18:36\n",
       "3  244   51       2       880606923 1997-11-27 05:02:03\n",
       "4  166  346       1       886397596 1998-02-02 05:33:16"
      ]
     },
     "execution_count": 14,
     "metadata": {},
     "output_type": "execute_result"
    }
   ],
   "source": [
    "ratings.head()"
   ]
  },
  {
   "cell_type": "code",
   "execution_count": null,
   "metadata": {},
   "outputs": [],
   "source": []
  },
  {
   "cell_type": "markdown",
   "metadata": {},
   "source": [
    "#### 데이터 준비/시각화/통찰"
   ]
  },
  {
   "cell_type": "code",
   "execution_count": 15,
   "metadata": {},
   "outputs": [
    {
     "data": {
      "text/html": [
       "<div>\n",
       "<style scoped>\n",
       "    .dataframe tbody tr th:only-of-type {\n",
       "        vertical-align: middle;\n",
       "    }\n",
       "\n",
       "    .dataframe tbody tr th {\n",
       "        vertical-align: top;\n",
       "    }\n",
       "\n",
       "    .dataframe thead th {\n",
       "        text-align: right;\n",
       "    }\n",
       "</style>\n",
       "<table border=\"1\" class=\"dataframe\">\n",
       "  <thead>\n",
       "    <tr style=\"text-align: right;\">\n",
       "      <th></th>\n",
       "      <th>mid</th>\n",
       "      <th>title</th>\n",
       "      <th>release_date</th>\n",
       "      <th>video_release_date</th>\n",
       "      <th>imdb_url</th>\n",
       "      <th>uid</th>\n",
       "      <th>rating</th>\n",
       "      <th>unix_timestamp</th>\n",
       "      <th>date</th>\n",
       "    </tr>\n",
       "  </thead>\n",
       "  <tbody>\n",
       "    <tr>\n",
       "      <th>0</th>\n",
       "      <td>1</td>\n",
       "      <td>Toy Story (1995)</td>\n",
       "      <td>01-Jan-1995</td>\n",
       "      <td>NaN</td>\n",
       "      <td>http://us.imdb.com/M/title-exact?Toy%20Story%2...</td>\n",
       "      <td>308</td>\n",
       "      <td>4</td>\n",
       "      <td>887736532</td>\n",
       "      <td>1998-02-17 17:28:52</td>\n",
       "    </tr>\n",
       "    <tr>\n",
       "      <th>1</th>\n",
       "      <td>1</td>\n",
       "      <td>Toy Story (1995)</td>\n",
       "      <td>01-Jan-1995</td>\n",
       "      <td>NaN</td>\n",
       "      <td>http://us.imdb.com/M/title-exact?Toy%20Story%2...</td>\n",
       "      <td>287</td>\n",
       "      <td>5</td>\n",
       "      <td>875334088</td>\n",
       "      <td>1997-09-27 04:21:28</td>\n",
       "    </tr>\n",
       "    <tr>\n",
       "      <th>2</th>\n",
       "      <td>1</td>\n",
       "      <td>Toy Story (1995)</td>\n",
       "      <td>01-Jan-1995</td>\n",
       "      <td>NaN</td>\n",
       "      <td>http://us.imdb.com/M/title-exact?Toy%20Story%2...</td>\n",
       "      <td>148</td>\n",
       "      <td>4</td>\n",
       "      <td>877019411</td>\n",
       "      <td>1997-10-16 16:30:11</td>\n",
       "    </tr>\n",
       "    <tr>\n",
       "      <th>3</th>\n",
       "      <td>1</td>\n",
       "      <td>Toy Story (1995)</td>\n",
       "      <td>01-Jan-1995</td>\n",
       "      <td>NaN</td>\n",
       "      <td>http://us.imdb.com/M/title-exact?Toy%20Story%2...</td>\n",
       "      <td>280</td>\n",
       "      <td>4</td>\n",
       "      <td>891700426</td>\n",
       "      <td>1998-04-04 14:33:46</td>\n",
       "    </tr>\n",
       "    <tr>\n",
       "      <th>4</th>\n",
       "      <td>1</td>\n",
       "      <td>Toy Story (1995)</td>\n",
       "      <td>01-Jan-1995</td>\n",
       "      <td>NaN</td>\n",
       "      <td>http://us.imdb.com/M/title-exact?Toy%20Story%2...</td>\n",
       "      <td>66</td>\n",
       "      <td>3</td>\n",
       "      <td>883601324</td>\n",
       "      <td>1997-12-31 20:48:44</td>\n",
       "    </tr>\n",
       "  </tbody>\n",
       "</table>\n",
       "</div>"
      ],
      "text/plain": [
       "   mid             title release_date  video_release_date  \\\n",
       "0    1  Toy Story (1995)  01-Jan-1995                 NaN   \n",
       "1    1  Toy Story (1995)  01-Jan-1995                 NaN   \n",
       "2    1  Toy Story (1995)  01-Jan-1995                 NaN   \n",
       "3    1  Toy Story (1995)  01-Jan-1995                 NaN   \n",
       "4    1  Toy Story (1995)  01-Jan-1995                 NaN   \n",
       "\n",
       "                                            imdb_url  uid  rating  \\\n",
       "0  http://us.imdb.com/M/title-exact?Toy%20Story%2...  308       4   \n",
       "1  http://us.imdb.com/M/title-exact?Toy%20Story%2...  287       5   \n",
       "2  http://us.imdb.com/M/title-exact?Toy%20Story%2...  148       4   \n",
       "3  http://us.imdb.com/M/title-exact?Toy%20Story%2...  280       4   \n",
       "4  http://us.imdb.com/M/title-exact?Toy%20Story%2...   66       3   \n",
       "\n",
       "   unix_timestamp                date  \n",
       "0       887736532 1998-02-17 17:28:52  \n",
       "1       875334088 1997-09-27 04:21:28  \n",
       "2       877019411 1997-10-16 16:30:11  \n",
       "3       891700426 1998-04-04 14:33:46  \n",
       "4       883601324 1997-12-31 20:48:44  "
      ]
     },
     "execution_count": 15,
     "metadata": {},
     "output_type": "execute_result"
    }
   ],
   "source": [
    "# movies, users, ratings 정보 병합\n",
    "# movies, ratings 병합 → movies_ratings\n",
    "# mid 기준\n",
    "movies_ratings = pd.merge(movies, ratings)\n",
    "movies_ratings.head()"
   ]
  },
  {
   "cell_type": "code",
   "execution_count": 16,
   "metadata": {},
   "outputs": [
    {
     "data": {
      "text/plain": [
       "(100000, 9)"
      ]
     },
     "execution_count": 16,
     "metadata": {},
     "output_type": "execute_result"
    }
   ],
   "source": [
    "movies_ratings.shape"
   ]
  },
  {
   "cell_type": "code",
   "execution_count": 17,
   "metadata": {},
   "outputs": [
    {
     "data": {
      "text/html": [
       "<div>\n",
       "<style scoped>\n",
       "    .dataframe tbody tr th:only-of-type {\n",
       "        vertical-align: middle;\n",
       "    }\n",
       "\n",
       "    .dataframe tbody tr th {\n",
       "        vertical-align: top;\n",
       "    }\n",
       "\n",
       "    .dataframe thead th {\n",
       "        text-align: right;\n",
       "    }\n",
       "</style>\n",
       "<table border=\"1\" class=\"dataframe\">\n",
       "  <thead>\n",
       "    <tr style=\"text-align: right;\">\n",
       "      <th></th>\n",
       "      <th>mid</th>\n",
       "      <th>title</th>\n",
       "      <th>release_date</th>\n",
       "      <th>video_release_date</th>\n",
       "      <th>imdb_url</th>\n",
       "      <th>uid</th>\n",
       "      <th>rating</th>\n",
       "      <th>unix_timestamp</th>\n",
       "      <th>date</th>\n",
       "      <th>age</th>\n",
       "      <th>sex</th>\n",
       "      <th>job</th>\n",
       "      <th>zip_code</th>\n",
       "    </tr>\n",
       "  </thead>\n",
       "  <tbody>\n",
       "    <tr>\n",
       "      <th>0</th>\n",
       "      <td>1</td>\n",
       "      <td>Toy Story (1995)</td>\n",
       "      <td>01-Jan-1995</td>\n",
       "      <td>NaN</td>\n",
       "      <td>http://us.imdb.com/M/title-exact?Toy%20Story%2...</td>\n",
       "      <td>308</td>\n",
       "      <td>4</td>\n",
       "      <td>887736532</td>\n",
       "      <td>1998-02-17 17:28:52</td>\n",
       "      <td>60</td>\n",
       "      <td>M</td>\n",
       "      <td>retired</td>\n",
       "      <td>95076</td>\n",
       "    </tr>\n",
       "    <tr>\n",
       "      <th>1</th>\n",
       "      <td>4</td>\n",
       "      <td>Get Shorty (1995)</td>\n",
       "      <td>01-Jan-1995</td>\n",
       "      <td>NaN</td>\n",
       "      <td>http://us.imdb.com/M/title-exact?Get%20Shorty%...</td>\n",
       "      <td>308</td>\n",
       "      <td>5</td>\n",
       "      <td>887737890</td>\n",
       "      <td>1998-02-17 17:51:30</td>\n",
       "      <td>60</td>\n",
       "      <td>M</td>\n",
       "      <td>retired</td>\n",
       "      <td>95076</td>\n",
       "    </tr>\n",
       "    <tr>\n",
       "      <th>2</th>\n",
       "      <td>5</td>\n",
       "      <td>Copycat (1995)</td>\n",
       "      <td>01-Jan-1995</td>\n",
       "      <td>NaN</td>\n",
       "      <td>http://us.imdb.com/M/title-exact?Copycat%20(1995)</td>\n",
       "      <td>308</td>\n",
       "      <td>4</td>\n",
       "      <td>887739608</td>\n",
       "      <td>1998-02-17 18:20:08</td>\n",
       "      <td>60</td>\n",
       "      <td>M</td>\n",
       "      <td>retired</td>\n",
       "      <td>95076</td>\n",
       "    </tr>\n",
       "    <tr>\n",
       "      <th>3</th>\n",
       "      <td>7</td>\n",
       "      <td>Twelve Monkeys (1995)</td>\n",
       "      <td>01-Jan-1995</td>\n",
       "      <td>NaN</td>\n",
       "      <td>http://us.imdb.com/M/title-exact?Twelve%20Monk...</td>\n",
       "      <td>308</td>\n",
       "      <td>4</td>\n",
       "      <td>887738847</td>\n",
       "      <td>1998-02-17 18:07:27</td>\n",
       "      <td>60</td>\n",
       "      <td>M</td>\n",
       "      <td>retired</td>\n",
       "      <td>95076</td>\n",
       "    </tr>\n",
       "    <tr>\n",
       "      <th>4</th>\n",
       "      <td>8</td>\n",
       "      <td>Babe (1995)</td>\n",
       "      <td>01-Jan-1995</td>\n",
       "      <td>NaN</td>\n",
       "      <td>http://us.imdb.com/M/title-exact?Babe%20(1995)</td>\n",
       "      <td>308</td>\n",
       "      <td>5</td>\n",
       "      <td>887736696</td>\n",
       "      <td>1998-02-17 17:31:36</td>\n",
       "      <td>60</td>\n",
       "      <td>M</td>\n",
       "      <td>retired</td>\n",
       "      <td>95076</td>\n",
       "    </tr>\n",
       "  </tbody>\n",
       "</table>\n",
       "</div>"
      ],
      "text/plain": [
       "   mid                  title release_date  video_release_date  \\\n",
       "0    1       Toy Story (1995)  01-Jan-1995                 NaN   \n",
       "1    4      Get Shorty (1995)  01-Jan-1995                 NaN   \n",
       "2    5         Copycat (1995)  01-Jan-1995                 NaN   \n",
       "3    7  Twelve Monkeys (1995)  01-Jan-1995                 NaN   \n",
       "4    8            Babe (1995)  01-Jan-1995                 NaN   \n",
       "\n",
       "                                            imdb_url  uid  rating  \\\n",
       "0  http://us.imdb.com/M/title-exact?Toy%20Story%2...  308       4   \n",
       "1  http://us.imdb.com/M/title-exact?Get%20Shorty%...  308       5   \n",
       "2  http://us.imdb.com/M/title-exact?Copycat%20(1995)  308       4   \n",
       "3  http://us.imdb.com/M/title-exact?Twelve%20Monk...  308       4   \n",
       "4     http://us.imdb.com/M/title-exact?Babe%20(1995)  308       5   \n",
       "\n",
       "   unix_timestamp                date  age sex      job zip_code  \n",
       "0       887736532 1998-02-17 17:28:52   60   M  retired    95076  \n",
       "1       887737890 1998-02-17 17:51:30   60   M  retired    95076  \n",
       "2       887739608 1998-02-17 18:20:08   60   M  retired    95076  \n",
       "3       887738847 1998-02-17 18:07:27   60   M  retired    95076  \n",
       "4       887736696 1998-02-17 17:31:36   60   M  retired    95076  "
      ]
     },
     "execution_count": 17,
     "metadata": {},
     "output_type": "execute_result"
    }
   ],
   "source": [
    "# uid 기준\n",
    "movie_lens = pd.merge(movies_ratings, users)\n",
    "movie_lens.head()"
   ]
  },
  {
   "cell_type": "code",
   "execution_count": 18,
   "metadata": {},
   "outputs": [
    {
     "data": {
      "text/plain": [
       "(100000, 13)"
      ]
     },
     "execution_count": 18,
     "metadata": {},
     "output_type": "execute_result"
    }
   ],
   "source": [
    "movie_lens.shape"
   ]
  },
  {
   "cell_type": "code",
   "execution_count": 21,
   "metadata": {},
   "outputs": [
    {
     "data": {
      "text/plain": [
       "Star Wars (1977)                 583\n",
       "Contact (1997)                   509\n",
       "Fargo (1996)                     508\n",
       "Return of the Jedi (1983)        507\n",
       "Liar Liar (1997)                 485\n",
       "English Patient, The (1996)      481\n",
       "Scream (1996)                    478\n",
       "Toy Story (1995)                 452\n",
       "Air Force One (1997)             431\n",
       "Independence Day (ID4) (1996)    429\n",
       "Name: title, dtype: int64"
      ]
     },
     "execution_count": 21,
     "metadata": {},
     "output_type": "execute_result"
    }
   ],
   "source": [
    "# 평가를 가장 많이 받은 작품 상위 10개\n",
    "# value_counts()\n",
    "movie_lens['title'].value_counts()[:10]\n",
    "\n",
    "# 인기가 아주 없는 영화는 제외하고(평점 특정 개수 이하는 제외)\n",
    "# 보여지는 데이터를 보면, 영화가 오래 될수록 평가를 많이 받는 경향"
   ]
  },
  {
   "cell_type": "code",
   "execution_count": 22,
   "metadata": {},
   "outputs": [
    {
     "data": {
      "text/plain": [
       "Brothers in Trouble (1995)                    1\n",
       "Death in Brunswick (1991)                     1\n",
       "Leopard Son, The (1996)                       1\n",
       "Lashou shentan (1992)                         1\n",
       "Very Natural Thing, A (1974)                  1\n",
       "Coldblooded (1995)                            1\n",
       "Reluctant Debutante, The (1958)               1\n",
       "Nemesis 2: Nebula (1995)                      1\n",
       "Daens (1992)                                  1\n",
       "Nobody Loves Me (Keiner liebt mich) (1994)    1\n",
       "Name: title, dtype: int64"
      ]
     },
     "execution_count": 22,
     "metadata": {},
     "output_type": "execute_result"
    }
   ],
   "source": [
    "movie_lens['title'].value_counts()[-10:]"
   ]
  },
  {
   "cell_type": "code",
   "execution_count": 24,
   "metadata": {},
   "outputs": [
    {
     "data": {
      "text/html": [
       "<div>\n",
       "<style scoped>\n",
       "    .dataframe tbody tr th:only-of-type {\n",
       "        vertical-align: middle;\n",
       "    }\n",
       "\n",
       "    .dataframe tbody tr th {\n",
       "        vertical-align: top;\n",
       "    }\n",
       "\n",
       "    .dataframe thead tr th {\n",
       "        text-align: left;\n",
       "    }\n",
       "\n",
       "    .dataframe thead tr:last-of-type th {\n",
       "        text-align: right;\n",
       "    }\n",
       "</style>\n",
       "<table border=\"1\" class=\"dataframe\">\n",
       "  <thead>\n",
       "    <tr>\n",
       "      <th></th>\n",
       "      <th>size</th>\n",
       "      <th>mean</th>\n",
       "    </tr>\n",
       "    <tr>\n",
       "      <th></th>\n",
       "      <th>rating</th>\n",
       "      <th>rating</th>\n",
       "    </tr>\n",
       "    <tr>\n",
       "      <th>title</th>\n",
       "      <th></th>\n",
       "      <th></th>\n",
       "    </tr>\n",
       "  </thead>\n",
       "  <tbody>\n",
       "    <tr>\n",
       "      <th>'Til There Was You (1997)</th>\n",
       "      <td>9</td>\n",
       "      <td>2.333333</td>\n",
       "    </tr>\n",
       "    <tr>\n",
       "      <th>1-900 (1994)</th>\n",
       "      <td>5</td>\n",
       "      <td>2.600000</td>\n",
       "    </tr>\n",
       "    <tr>\n",
       "      <th>101 Dalmatians (1996)</th>\n",
       "      <td>109</td>\n",
       "      <td>2.908257</td>\n",
       "    </tr>\n",
       "    <tr>\n",
       "      <th>12 Angry Men (1957)</th>\n",
       "      <td>125</td>\n",
       "      <td>4.344000</td>\n",
       "    </tr>\n",
       "    <tr>\n",
       "      <th>187 (1997)</th>\n",
       "      <td>41</td>\n",
       "      <td>3.024390</td>\n",
       "    </tr>\n",
       "  </tbody>\n",
       "</table>\n",
       "</div>"
      ],
      "text/plain": [
       "                            size      mean\n",
       "                          rating    rating\n",
       "title                                     \n",
       "'Til There Was You (1997)      9  2.333333\n",
       "1-900 (1994)                   5  2.600000\n",
       "101 Dalmatians (1996)        109  2.908257\n",
       "12 Angry Men (1957)          125  4.344000\n",
       "187 (1997)                    41  3.024390"
      ]
     },
     "execution_count": 24,
     "metadata": {},
     "output_type": "execute_result"
    }
   ],
   "source": [
    "# 제목을 기준으로 데이터를 나눈다\n",
    "# 평가 개수, 평점 평균\n",
    "# 인덱스에 title, 컬럼에 평가 개수 size, 평점 평균 mean\n",
    "import numpy as np\n",
    "pd.pivot_table(movie_lens, index = 'title', \n",
    "               values = 'rating', aggfunc = [np.size, np.mean]).head()"
   ]
  },
  {
   "cell_type": "code",
   "execution_count": 26,
   "metadata": {},
   "outputs": [
    {
     "data": {
      "text/html": [
       "<div>\n",
       "<style scoped>\n",
       "    .dataframe tbody tr th:only-of-type {\n",
       "        vertical-align: middle;\n",
       "    }\n",
       "\n",
       "    .dataframe tbody tr th {\n",
       "        vertical-align: top;\n",
       "    }\n",
       "\n",
       "    .dataframe thead tr th {\n",
       "        text-align: left;\n",
       "    }\n",
       "\n",
       "    .dataframe thead tr:last-of-type th {\n",
       "        text-align: right;\n",
       "    }\n",
       "</style>\n",
       "<table border=\"1\" class=\"dataframe\">\n",
       "  <thead>\n",
       "    <tr>\n",
       "      <th></th>\n",
       "      <th colspan=\"2\" halign=\"left\">rating</th>\n",
       "    </tr>\n",
       "    <tr>\n",
       "      <th></th>\n",
       "      <th>size</th>\n",
       "      <th>mean</th>\n",
       "    </tr>\n",
       "    <tr>\n",
       "      <th>title</th>\n",
       "      <th></th>\n",
       "      <th></th>\n",
       "    </tr>\n",
       "  </thead>\n",
       "  <tbody>\n",
       "    <tr>\n",
       "      <th>'Til There Was You (1997)</th>\n",
       "      <td>9</td>\n",
       "      <td>2.333333</td>\n",
       "    </tr>\n",
       "    <tr>\n",
       "      <th>1-900 (1994)</th>\n",
       "      <td>5</td>\n",
       "      <td>2.600000</td>\n",
       "    </tr>\n",
       "    <tr>\n",
       "      <th>101 Dalmatians (1996)</th>\n",
       "      <td>109</td>\n",
       "      <td>2.908257</td>\n",
       "    </tr>\n",
       "    <tr>\n",
       "      <th>12 Angry Men (1957)</th>\n",
       "      <td>125</td>\n",
       "      <td>4.344000</td>\n",
       "    </tr>\n",
       "    <tr>\n",
       "      <th>187 (1997)</th>\n",
       "      <td>41</td>\n",
       "      <td>3.024390</td>\n",
       "    </tr>\n",
       "  </tbody>\n",
       "</table>\n",
       "</div>"
      ],
      "text/plain": [
       "                          rating          \n",
       "                            size      mean\n",
       "title                                     \n",
       "'Til There Was You (1997)      9  2.333333\n",
       "1-900 (1994)                   5  2.600000\n",
       "101 Dalmatians (1996)        109  2.908257\n",
       "12 Angry Men (1957)          125  4.344000\n",
       "187 (1997)                    41  3.024390"
      ]
     },
     "execution_count": 26,
     "metadata": {},
     "output_type": "execute_result"
    }
   ],
   "source": [
    "# 피벗 없이 수행\n",
    "# rating : 1차 레벨 컬럼\n",
    "# np.size, np.mean : 2차 레벨 컬럼\n",
    "movie_state = movie_lens.groupby('title').agg({ 'rating' : [np.size, np.mean] })\n",
    "movie_state.head()"
   ]
  },
  {
   "cell_type": "code",
   "execution_count": null,
   "metadata": {},
   "outputs": [],
   "source": [
    "# 평점을 받은 개수가 1개인 영화, 즉 소수의 평가를 받은 영화가 많다\n",
    "# → 노이즈가 개입되기 쉽다\n",
    "# 일정 횟수 이상인 경우, 여기서는 100건 기준만 대상으로 처리하겠다"
   ]
  },
  {
   "cell_type": "code",
   "execution_count": 29,
   "metadata": {},
   "outputs": [
    {
     "data": {
      "text/html": [
       "<div>\n",
       "<style scoped>\n",
       "    .dataframe tbody tr th:only-of-type {\n",
       "        vertical-align: middle;\n",
       "    }\n",
       "\n",
       "    .dataframe tbody tr th {\n",
       "        vertical-align: top;\n",
       "    }\n",
       "\n",
       "    .dataframe thead tr th {\n",
       "        text-align: left;\n",
       "    }\n",
       "\n",
       "    .dataframe thead tr:last-of-type th {\n",
       "        text-align: right;\n",
       "    }\n",
       "</style>\n",
       "<table border=\"1\" class=\"dataframe\">\n",
       "  <thead>\n",
       "    <tr>\n",
       "      <th></th>\n",
       "      <th colspan=\"2\" halign=\"left\">rating</th>\n",
       "    </tr>\n",
       "    <tr>\n",
       "      <th></th>\n",
       "      <th>size</th>\n",
       "      <th>mean</th>\n",
       "    </tr>\n",
       "    <tr>\n",
       "      <th>title</th>\n",
       "      <th></th>\n",
       "      <th></th>\n",
       "    </tr>\n",
       "  </thead>\n",
       "  <tbody>\n",
       "    <tr>\n",
       "      <th>Close Shave, A (1995)</th>\n",
       "      <td>112</td>\n",
       "      <td>4.491071</td>\n",
       "    </tr>\n",
       "    <tr>\n",
       "      <th>Schindler's List (1993)</th>\n",
       "      <td>298</td>\n",
       "      <td>4.466443</td>\n",
       "    </tr>\n",
       "    <tr>\n",
       "      <th>Wrong Trousers, The (1993)</th>\n",
       "      <td>118</td>\n",
       "      <td>4.466102</td>\n",
       "    </tr>\n",
       "    <tr>\n",
       "      <th>Casablanca (1942)</th>\n",
       "      <td>243</td>\n",
       "      <td>4.456790</td>\n",
       "    </tr>\n",
       "    <tr>\n",
       "      <th>Shawshank Redemption, The (1994)</th>\n",
       "      <td>283</td>\n",
       "      <td>4.445230</td>\n",
       "    </tr>\n",
       "  </tbody>\n",
       "</table>\n",
       "</div>"
      ],
      "text/plain": [
       "                                 rating          \n",
       "                                   size      mean\n",
       "title                                            \n",
       "Close Shave, A (1995)               112  4.491071\n",
       "Schindler's List (1993)             298  4.466443\n",
       "Wrong Trousers, The (1993)          118  4.466102\n",
       "Casablanca (1942)                   243  4.456790\n",
       "Shawshank Redemption, The (1994)    283  4.445230"
      ]
     },
     "execution_count": 29,
     "metadata": {},
     "output_type": "execute_result"
    }
   ],
   "source": [
    "# 평가의 개수가 100개 이상인 데이터만 대상으로 \n",
    "# 평균 평점 상위 5개\n",
    "tmp = movie_state[movie_state['rating']['size'] >= 100].sort_values(by = [('rating', 'mean')],\n",
    "                                                             ascending = False)\n",
    "tmp.head()"
   ]
  },
  {
   "cell_type": "code",
   "execution_count": 30,
   "metadata": {},
   "outputs": [
    {
     "data": {
      "text/plain": [
       "(338, 2)"
      ]
     },
     "execution_count": 30,
     "metadata": {},
     "output_type": "execute_result"
    }
   ],
   "source": [
    "tmp.shape"
   ]
  },
  {
   "cell_type": "code",
   "execution_count": 31,
   "metadata": {
    "scrolled": true
   },
   "outputs": [
    {
     "name": "stdout",
     "output_type": "stream",
     "text": [
      "Malgun Gothic\n"
     ]
    }
   ],
   "source": [
    "# 간단한 시각화\n",
    "from matplotlib import pyplot as plt\n",
    "from korea_font import initKoreaFontLoad\n",
    "initKoreaFontLoad()"
   ]
  },
  {
   "cell_type": "code",
   "execution_count": 36,
   "metadata": {
    "scrolled": true
   },
   "outputs": [
    {
     "data": {
      "text/plain": [
       "uid\n",
       "1     272\n",
       "2      62\n",
       "3      54\n",
       "4      24\n",
       "5     175\n",
       "6     211\n",
       "7     403\n",
       "8      59\n",
       "9      22\n",
       "10    184\n",
       "dtype: int64"
      ]
     },
     "execution_count": 36,
     "metadata": {},
     "output_type": "execute_result"
    }
   ],
   "source": [
    "# 사용자별 평점을 내린 개수\n",
    "movie_lens.groupby('uid').size()[:10]"
   ]
  },
  {
   "cell_type": "code",
   "execution_count": 38,
   "metadata": {},
   "outputs": [
    {
     "data": {
      "text/plain": [
       "uid\n",
       "405    737\n",
       "655    685\n",
       "13     636\n",
       "450    540\n",
       "276    518\n",
       "416    493\n",
       "537    490\n",
       "303    484\n",
       "234    480\n",
       "393    448\n",
       "dtype: int64"
      ]
     },
     "execution_count": 38,
     "metadata": {},
     "output_type": "execute_result"
    }
   ],
   "source": [
    "movie_lens.groupby('uid').size().sort_values(ascending = False)[:10]"
   ]
  },
  {
   "cell_type": "code",
   "execution_count": 40,
   "metadata": {},
   "outputs": [
    {
     "data": {
      "text/plain": [
       "<matplotlib.axes._subplots.AxesSubplot at 0x12465b8a080>"
      ]
     },
     "execution_count": 40,
     "metadata": {},
     "output_type": "execute_result"
    },
    {
     "data": {
      "image/png": "[encoded data removed]",
      "text/plain": [
       "<Figure size 432x288 with 1 Axes>"
      ]
     },
     "metadata": {},
     "output_type": "display_data"
    }
   ],
   "source": [
    "# 히스토그램\n",
    "# 영화별 평점 개수 : x축\n",
    "# 사용자별 평가 횟수 : y축\n",
    "plt.style.use('ggplot')\n",
    "movie_lens.groupby('uid').size().sort_values(ascending = False).hist()\n",
    "# 빈도가 낮아지는 그래프 모양 → 길게 꼬리를 늘어뜨리는 모양 => 롱테일분포\n",
    "# '지프의 법칙'을 따르는 굴곡 모양\n",
    "# 자연어 말뭉치 표현에 나타나는 단어들을 그 사용 빈도가 높은 순으로 나열하면\n",
    "# 모든 단어의 사용 빈도는 해당 단어의 빈도 순위에 반비례한다\n",
    "# 영화의 평가가 많으면, 그 사용자들 중에는 1회성 평가 횟수도 많다"
   ]
  },
  {
   "cell_type": "code",
   "execution_count": 42,
   "metadata": {},
   "outputs": [
    {
     "data": {
      "text/html": [
       "<div>\n",
       "<style scoped>\n",
       "    .dataframe tbody tr th:only-of-type {\n",
       "        vertical-align: middle;\n",
       "    }\n",
       "\n",
       "    .dataframe tbody tr th {\n",
       "        vertical-align: top;\n",
       "    }\n",
       "\n",
       "    .dataframe thead tr th {\n",
       "        text-align: left;\n",
       "    }\n",
       "\n",
       "    .dataframe thead tr:last-of-type th {\n",
       "        text-align: right;\n",
       "    }\n",
       "</style>\n",
       "<table border=\"1\" class=\"dataframe\">\n",
       "  <thead>\n",
       "    <tr>\n",
       "      <th></th>\n",
       "      <th colspan=\"2\" halign=\"left\">rating</th>\n",
       "    </tr>\n",
       "    <tr>\n",
       "      <th></th>\n",
       "      <th>size</th>\n",
       "      <th>mean</th>\n",
       "    </tr>\n",
       "    <tr>\n",
       "      <th>uid</th>\n",
       "      <th></th>\n",
       "      <th></th>\n",
       "    </tr>\n",
       "  </thead>\n",
       "  <tbody>\n",
       "    <tr>\n",
       "      <th>1</th>\n",
       "      <td>272</td>\n",
       "      <td>3.610294</td>\n",
       "    </tr>\n",
       "    <tr>\n",
       "      <th>2</th>\n",
       "      <td>62</td>\n",
       "      <td>3.709677</td>\n",
       "    </tr>\n",
       "    <tr>\n",
       "      <th>3</th>\n",
       "      <td>54</td>\n",
       "      <td>2.796296</td>\n",
       "    </tr>\n",
       "    <tr>\n",
       "      <th>4</th>\n",
       "      <td>24</td>\n",
       "      <td>4.333333</td>\n",
       "    </tr>\n",
       "    <tr>\n",
       "      <th>5</th>\n",
       "      <td>175</td>\n",
       "      <td>2.874286</td>\n",
       "    </tr>\n",
       "  </tbody>\n",
       "</table>\n",
       "</div>"
      ],
      "text/plain": [
       "    rating          \n",
       "      size      mean\n",
       "uid                 \n",
       "1      272  3.610294\n",
       "2       62  3.709677\n",
       "3       54  2.796296\n",
       "4       24  4.333333\n",
       "5      175  2.874286"
      ]
     },
     "execution_count": 42,
     "metadata": {},
     "output_type": "execute_result"
    }
   ],
   "source": [
    "# 사용자별 평가 횟수, 평균\n",
    "user_state = movie_lens.groupby('uid').agg({'rating' : [np.size, np.mean]})\n",
    "user_state.head()"
   ]
  },
  {
   "cell_type": "code",
   "execution_count": 43,
   "metadata": {},
   "outputs": [
    {
     "data": {
      "text/plain": [
       "(943, 2)"
      ]
     },
     "execution_count": 43,
     "metadata": {},
     "output_type": "execute_result"
    }
   ],
   "source": [
    "user_state.shape"
   ]
  },
  {
   "cell_type": "code",
   "execution_count": 44,
   "metadata": {},
   "outputs": [
    {
     "data": {
      "text/html": [
       "<div>\n",
       "<style scoped>\n",
       "    .dataframe tbody tr th:only-of-type {\n",
       "        vertical-align: middle;\n",
       "    }\n",
       "\n",
       "    .dataframe tbody tr th {\n",
       "        vertical-align: top;\n",
       "    }\n",
       "\n",
       "    .dataframe thead th {\n",
       "        text-align: right;\n",
       "    }\n",
       "</style>\n",
       "<table border=\"1\" class=\"dataframe\">\n",
       "  <thead>\n",
       "    <tr style=\"text-align: right;\">\n",
       "      <th></th>\n",
       "      <th>size</th>\n",
       "      <th>mean</th>\n",
       "    </tr>\n",
       "  </thead>\n",
       "  <tbody>\n",
       "    <tr>\n",
       "      <th>count</th>\n",
       "      <td>943.000000</td>\n",
       "      <td>943.000000</td>\n",
       "    </tr>\n",
       "    <tr>\n",
       "      <th>mean</th>\n",
       "      <td>106.044539</td>\n",
       "      <td>3.588191</td>\n",
       "    </tr>\n",
       "    <tr>\n",
       "      <th>std</th>\n",
       "      <td>100.931743</td>\n",
       "      <td>0.445233</td>\n",
       "    </tr>\n",
       "    <tr>\n",
       "      <th>min</th>\n",
       "      <td>20.000000</td>\n",
       "      <td>1.491954</td>\n",
       "    </tr>\n",
       "    <tr>\n",
       "      <th>25%</th>\n",
       "      <td>33.000000</td>\n",
       "      <td>3.323054</td>\n",
       "    </tr>\n",
       "    <tr>\n",
       "      <th>50%</th>\n",
       "      <td>65.000000</td>\n",
       "      <td>3.620690</td>\n",
       "    </tr>\n",
       "    <tr>\n",
       "      <th>75%</th>\n",
       "      <td>148.000000</td>\n",
       "      <td>3.869565</td>\n",
       "    </tr>\n",
       "    <tr>\n",
       "      <th>max</th>\n",
       "      <td>737.000000</td>\n",
       "      <td>4.869565</td>\n",
       "    </tr>\n",
       "  </tbody>\n",
       "</table>\n",
       "</div>"
      ],
      "text/plain": [
       "             size        mean\n",
       "count  943.000000  943.000000\n",
       "mean   106.044539    3.588191\n",
       "std    100.931743    0.445233\n",
       "min     20.000000    1.491954\n",
       "25%     33.000000    3.323054\n",
       "50%     65.000000    3.620690\n",
       "75%    148.000000    3.869565\n",
       "max    737.000000    4.869565"
      ]
     },
     "execution_count": 44,
     "metadata": {},
     "output_type": "execute_result"
    }
   ],
   "source": [
    "user_state['rating'].describe()\n",
    "# 평균값 데이터를 보면\n",
    "# 최저 1.49점, 최대 4.87점, 25~75% 지점은 모두 다 3점대\n",
    "# → 일반적으로(평균적으로) 3.59 정도는 받는다\n",
    "# → 최대 점수와 최저 점수는 편중된 것으로 보인다"
   ]
  },
  {
   "cell_type": "code",
   "execution_count": null,
   "metadata": {},
   "outputs": [],
   "source": []
  },
  {
   "cell_type": "markdown",
   "metadata": {},
   "source": [
    "#### 인수분해 머신을 이용한 추천 시스템 구성\n",
    "\n",
    "- 행렬 인수분해라는 기능을 일반화한 알고리즘 → 차원축소 기법\n",
    "- 희소 행렬을 다룰 수 있는 알고리즘\n",
    "- 특징끼리 영향을 주고 받는 상호작용 개념을 계산에 적용 가능\n",
    "- 범주형 변수를 더미 변수(파생 변수)로 변환하여 범주 간 상호작용성도 계산 가능\n",
    "- 알고리즘은 회귀, 분류, 학습 등도 가능\n",
    "- C++로 만들어진 libFM 알고리즘이 가장 유명 → 파이썬으로 구성된 fastFM"
   ]
  },
  {
   "cell_type": "markdown",
   "metadata": {},
   "source": [
    "###### fastFM 제공 알고리즘\n",
    "- ALS : 교대 최소 제곱법\n",
    " > 장점 : 예측 시간 빠르다, SGD보다 하이퍼파라미터가 적다  \n",
    " > 단점 : 규제 필수\n",
    "- SGD : 확률 경사하강법\n",
    " > 장점 : 예측 시간 빠르다, 대규모 데이터(빅데이터)를 빠르게 학습할 수 있다  \n",
    " > 단점 : 규제 필수, SGD보다 하이퍼파라미터가 많다\n",
    "- MCMC : 마르코프 연쇄 몬테카를로\n",
    " > 장점 : 하이퍼파라미터가 작다  \n",
    " > 단점 : 학습시간이 다소 느리다"
   ]
  },
  {
   "cell_type": "markdown",
   "metadata": {},
   "source": [
    "### 도커 도입\n",
    "\n",
    "- 사용하고자 하는 오픈소스 알고리즘(모듈) 중에는 윈도우에서 수행이 불가능한 경우가 많다\n",
    "- 도커를 이용하여 리눅스 생태계를 만들고, 거기서 fastFM 설치 후 주피터 연결"
   ]
  },
  {
   "cell_type": "code",
   "execution_count": null,
   "metadata": {},
   "outputs": [],
   "source": [
    "# 도커 설치\n",
    "# 1. 도커 가입\n",
    "- docker.com\n",
    "\n",
    "# 2. 도커 다운로드 및 설치(윈도우용)\n",
    "- https://www.docker.com/products/docker-desktop\n",
    "- 다운로드 및 설치\n",
    "or\n",
    "[공식적으로는 window 10 home 에디션 이하]\n",
    "- https://github.com/docker/toolbox/releases\n",
    "- 다운로드 및 설치 (별도의 체크박스 수정없이 모두 긍정/확인)\n",
    "\n",
    "# 3. 도커 콘솔 가동(docker desktop)\n",
    "$ docker version\n",
    "\n",
    "# 4. 컨테이너 이미지 다운로드 (도커 허브에서 다운로드)\n",
    "$ docker pull ubuntu:latest\n",
    "$ dockerCli.exe -SwitchDaemon\n",
    "$ docker version\n",
    "→ 위 명령 수행 후 확인\n",
    "→ 그래도 안 되면, 도커 툴 설치 후 도커 툴에서 진행\n",
    "or \n",
    "$ docker pull ubuntu:18.04\n",
    "    \n",
    "# 5. 다운로드한 이미지 확인\n",
    "$ docker images\n",
    "\n",
    "# 6. 다운로드한 이미지 제거\n",
    "$ docker rmi ubuntu:latest\n",
    "- 확인\n",
    "$ docker images\n",
    "\n",
    "# 7. 컨테이너 이미지를 이용하여 컨테이너 생성 및 로그인\n",
    "# 단, 포트는 컨테이너를 생성할 때 단 한번 세팅 가능\n",
    "$ docker run -p 8888:8888 -p 8123:8123 --name ml -i -t ubuntu:latest /bin/bash\n",
    "→ -p 인바운드포트:아웃바운드포트, 1회만 세팅, 필요한만큼 추가\n",
    "→ --name 컨테이너 인스턴스의 이름\n",
    "→ -ㅑ(interactive), -t(Psuedo-tty) 이 옵션 추가하면 Bash shell에 입력 및 출력을 수행할 수 있다\n",
    "→ ubuntu:latest 설치할 이미지\n",
    "→ /bin/bash는 커맨드 쉘의 한 종류, 이를 사용하기 위해 명령어 입력\n",
    "\n",
    "# 8. 리눅스에서 빠져나가기\n",
    "root@$ exit\n",
    "\n",
    "# 9. 컨테이너 인스턴스의 목록\n",
    "$ docker ps -a\n",
    "\n",
    "# 10. 컨테이너 인스턴스 가동\n",
    "$ docker start ml\n",
    "$ docker ps -a\n",
    "\n",
    "# 11. 재가동\n",
    "$ docker restart ml\n",
    "\n",
    "# 12. 접속\n",
    "$ docker attach ml\n",
    "\n",
    "# 13. 리눅스 나가서, 컨테이너 인스턴스 제거\n",
    "root@$ exit\n",
    "$ docker rm ml\n",
    "$ docker ps -a\n",
    "\n",
    "# 14. 리눅스 상에서 환경 구축\n",
    "root@$ apt-get update && apt-get -y upgrade\n",
    "\n",
    "→ https://github.com/ibayer/fastFM\n",
    "\n",
    "- 패키지 설치\n",
    "root@$ apt-get -y install python3-dev libopenblas-dev git python3-pip nano wget unzip\n",
    "\n",
    "- fastFM 소스 다운로드\n",
    "root@$ cd home\n",
    "root@$ git clone --recursive https://github.com/ibayer/fastFM.git\n",
    "root@$ cd fastFM\n",
    "\n",
    "- 파이썬 라이브러리 설치\n",
    "root@$ pip3 install -r ./requirements.txt\n",
    "\n",
    "- 빌드(중간이나 끝부분에 error 보여도 무시)\n",
    "root@$ PYTHON=python3 make\n",
    "\n",
    "- 패키지 설치\n",
    "root@$ pip3 install\n",
    "root@$ python3\n",
    ">>> from fastFM import als\n",
    ">>>\n",
    ">>> exit()\n",
    "root@$ pip3 install pandas matplotlib jupyter\n",
    "\n",
    "- 주피터 노트북 가동\n",
    "root@$ jupyter notebook --ip=0.0.0.0 --port=8123 --allow-root --no-browser\n",
    "or\n",
    "root@$ jupyter notebook --ip=0.0.0.0 --allow-root (기본 포트 8888)\n",
    "\n",
    "- 기본 PC에서 브라우저 접속\n",
    "[toolbox 사용자] - 도커 구동 시 IP 사용\n",
    "docker is configured to use the default machine with IP 192.168.99.100\n",
    "http://192.168.99.100:8123/?token=c4a28a0fec6d6eff0d3d28a9a0d62838f5f7a188cdedf686\n",
    "\n",
    "[일반 사용자]\n",
    "http://127.0.0.1:8123/?token=c4a28a0fec6d6eff0d3d28a9a0d62838f5f7a188cdedf686"
   ]
  },
  {
   "cell_type": "code",
   "execution_count": null,
   "metadata": {},
   "outputs": [],
   "source": [
    "- 사용자가 커스텀한 이미지를 도커 허브에 업로드\n",
    "- 도커 컨테이너의 이미지화 및 배포\n",
    "$ docker commit --help\n",
    "\n",
    "- 1단계 도커 컨테이너 인스턴스 가동을 중단(가동중인 경우에만)\n",
    "root@$ exit\n",
    "$ docker stop ml\n",
    "\n",
    "- 2단계 도커 컨테이너 인스턴스 아이디 확인\n",
    "$ docker ps -a\n",
    "CONTAINER ID        IMAGE               COMMAND             CREATED             STATUS                    PORTS               NAMES\n",
    "b5881a744df7        ubuntu:latest       \"/bin/bash\"         18 hours ago        Exited (0) 16 hours ago                       ml\n",
    "\n",
    "- 3단계 이미지 생성\n",
    "- CONTAINER ID 복사\n",
    "- tag는 생략하면 무조건 latest 자동으로 붙는다\n",
    "$ docker commit -a 'kenshi@nate.com' b5881a744df7 kenshi0216/ub_ju_base:0.1\n",
    "- 확인\n",
    "$ docker images\n",
    "\n",
    "- 4단계 로그인\n",
    "$ docker login\n",
    "\n",
    "- 5단계 배포\n",
    "$ docker push kenshi0216/ub_ju_base:0.1"
   ]
  },
  {
   "cell_type": "code",
   "execution_count": null,
   "metadata": {},
   "outputs": [],
   "source": [
    "- 컨테이너 인스턴스에 작업 파일 전송을 통해 작업을 이어간다\n",
    "$ docker start ml\n",
    "$ docker attach ml\n",
    "root@$ cd home\n",
    "root@$ mkdir dev && cd dev\n",
    "root@$ jupyter notebook --ip=0.0.0.0 --port=8123 --allow-root --no-browser"
   ]
  },
  {
   "cell_type": "code",
   "execution_count": null,
   "metadata": {},
   "outputs": [],
   "source": []
  },
  {
   "cell_type": "code",
   "execution_count": null,
   "metadata": {},
   "outputs": [],
   "source": []
  },
  {
   "cell_type": "code",
   "execution_count": null,
   "metadata": {},
   "outputs": [],
   "source": []
  },
  {
   "cell_type": "code",
   "execution_count": null,
   "metadata": {},
   "outputs": [],
   "source": []
  },
  {
   "cell_type": "code",
   "execution_count": null,
   "metadata": {},
   "outputs": [],
   "source": []
  },
  {
   "cell_type": "code",
   "execution_count": null,
   "metadata": {},
   "outputs": [],
   "source": []
  },
  {
   "cell_type": "code",
   "execution_count": null,
   "metadata": {},
   "outputs": [],
   "source": []
  },
  {
   "cell_type": "code",
   "execution_count": null,
   "metadata": {},
   "outputs": [],
   "source": []
  }
 ],
 "metadata": {
  "kernelspec": {
   "display_name": "Python 3",
   "language": "python",
   "name": "python3"
  },
  "language_info": {
   "codemirror_mode": {
    "name": "ipython",
    "version": 3
   },
   "file_extension": ".py",
   "mimetype": "text/x-python",
   "name": "python",
   "nbconvert_exporter": "python",
   "pygments_lexer": "ipython3",
   "version": "3.6.5"
  }
 },
 "nbformat": 4,
 "nbformat_minor": 2
}
