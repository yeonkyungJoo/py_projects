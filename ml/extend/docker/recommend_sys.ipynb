{
 "cells": [
  {
   "cell_type": "markdown",
   "metadata": {},
   "source": [
    "#### 데이터 로드 및 살펴보기"
   ]
  },
  {
   "cell_type": "code",
   "execution_count": 112,
   "metadata": {},
   "outputs": [],
   "source": [
    "import pandas as pd"
   ]
  },
  {
   "cell_type": "raw",
   "metadata": {},
   "source": [
    "- u.user : 고객 정보\n",
    "- u.item : 영화 정보\n",
    "- u.data : 평점 정보"
   ]
  },
  {
   "cell_type": "code",
   "execution_count": 113,
   "metadata": {},
   "outputs": [
    {
     "data": {
      "text/plain": [
       "(943, 5)"
      ]
     },
     "execution_count": 113,
     "metadata": {},
     "output_type": "execute_result"
    }
   ],
   "source": [
    "# 고객 정보 로드\n",
    "# 고객 정보 컬럼 : 아이디, 나이, 성별, 직업, 주소(우편번호)\n",
    "cols = ['uid', 'age', 'sex', 'job', 'zip_code']\n",
    "users = pd.read_csv('./ml-100k/u.user', sep='|', names = cols)\n",
    "users.shape"
   ]
  },
  {
   "cell_type": "code",
   "execution_count": 114,
   "metadata": {},
   "outputs": [
    {
     "data": {
      "text/html": [
       "<div>\n",
       "<style scoped>\n",
       "    .dataframe tbody tr th:only-of-type {\n",
       "        vertical-align: middle;\n",
       "    }\n",
       "\n",
       "    .dataframe tbody tr th {\n",
       "        vertical-align: top;\n",
       "    }\n",
       "\n",
       "    .dataframe thead th {\n",
       "        text-align: right;\n",
       "    }\n",
       "</style>\n",
       "<table border=\"1\" class=\"dataframe\">\n",
       "  <thead>\n",
       "    <tr style=\"text-align: right;\">\n",
       "      <th></th>\n",
       "      <th>uid</th>\n",
       "      <th>age</th>\n",
       "      <th>sex</th>\n",
       "      <th>job</th>\n",
       "      <th>zip_code</th>\n",
       "    </tr>\n",
       "  </thead>\n",
       "  <tbody>\n",
       "    <tr>\n",
       "      <td>0</td>\n",
       "      <td>1</td>\n",
       "      <td>24</td>\n",
       "      <td>M</td>\n",
       "      <td>technician</td>\n",
       "      <td>85711</td>\n",
       "    </tr>\n",
       "    <tr>\n",
       "      <td>1</td>\n",
       "      <td>2</td>\n",
       "      <td>53</td>\n",
       "      <td>F</td>\n",
       "      <td>other</td>\n",
       "      <td>94043</td>\n",
       "    </tr>\n",
       "    <tr>\n",
       "      <td>2</td>\n",
       "      <td>3</td>\n",
       "      <td>23</td>\n",
       "      <td>M</td>\n",
       "      <td>writer</td>\n",
       "      <td>32067</td>\n",
       "    </tr>\n",
       "    <tr>\n",
       "      <td>3</td>\n",
       "      <td>4</td>\n",
       "      <td>24</td>\n",
       "      <td>M</td>\n",
       "      <td>technician</td>\n",
       "      <td>43537</td>\n",
       "    </tr>\n",
       "    <tr>\n",
       "      <td>4</td>\n",
       "      <td>5</td>\n",
       "      <td>33</td>\n",
       "      <td>F</td>\n",
       "      <td>other</td>\n",
       "      <td>15213</td>\n",
       "    </tr>\n",
       "  </tbody>\n",
       "</table>\n",
       "</div>"
      ],
      "text/plain": [
       "   uid  age sex         job zip_code\n",
       "0    1   24   M  technician    85711\n",
       "1    2   53   F       other    94043\n",
       "2    3   23   M      writer    32067\n",
       "3    4   24   M  technician    43537\n",
       "4    5   33   F       other    15213"
      ]
     },
     "execution_count": 114,
     "metadata": {},
     "output_type": "execute_result"
    }
   ],
   "source": [
    "users.head()"
   ]
  },
  {
   "cell_type": "code",
   "execution_count": 115,
   "metadata": {},
   "outputs": [
    {
     "data": {
      "text/plain": [
       "(1682, 5)"
      ]
     },
     "execution_count": 115,
     "metadata": {},
     "output_type": "execute_result"
    }
   ],
   "source": [
    "# 영화 정보 로드\n",
    "# 영화 정보 컬럼 : 영화 ID, 제목, 개봉일, 비디오개봉일, imdb 주소\n",
    "m_cols = ['mid', 'title', 'release_date', 'video_release_date', 'imdb_url']\n",
    "# 실제 데이터에 컬럼이 더 많으므로, 앞에서부터 잘라서 적용 → usecols\n",
    "movies = pd.read_csv('./ml-100k/u.item', sep = '|', names = m_cols,\n",
    "                        encoding = 'latin1', usecols = range(5))\n",
    "movies.shape"
   ]
  },
  {
   "cell_type": "code",
   "execution_count": 116,
   "metadata": {},
   "outputs": [
    {
     "data": {
      "text/plain": [
       "mid                      0\n",
       "title                    0\n",
       "release_date             1\n",
       "video_release_date    1682\n",
       "imdb_url                 3\n",
       "dtype: int64"
      ]
     },
     "execution_count": 116,
     "metadata": {},
     "output_type": "execute_result"
    }
   ],
   "source": [
    "movies.isna().sum()"
   ]
  },
  {
   "cell_type": "code",
   "execution_count": 117,
   "metadata": {},
   "outputs": [
    {
     "data": {
      "text/html": [
       "<div>\n",
       "<style scoped>\n",
       "    .dataframe tbody tr th:only-of-type {\n",
       "        vertical-align: middle;\n",
       "    }\n",
       "\n",
       "    .dataframe tbody tr th {\n",
       "        vertical-align: top;\n",
       "    }\n",
       "\n",
       "    .dataframe thead th {\n",
       "        text-align: right;\n",
       "    }\n",
       "</style>\n",
       "<table border=\"1\" class=\"dataframe\">\n",
       "  <thead>\n",
       "    <tr style=\"text-align: right;\">\n",
       "      <th></th>\n",
       "      <th>mid</th>\n",
       "      <th>title</th>\n",
       "      <th>release_date</th>\n",
       "      <th>video_release_date</th>\n",
       "      <th>imdb_url</th>\n",
       "    </tr>\n",
       "  </thead>\n",
       "  <tbody>\n",
       "    <tr>\n",
       "      <td>0</td>\n",
       "      <td>1</td>\n",
       "      <td>Toy Story (1995)</td>\n",
       "      <td>01-Jan-1995</td>\n",
       "      <td>NaN</td>\n",
       "      <td>http://us.imdb.com/M/title-exact?Toy%20Story%2...</td>\n",
       "    </tr>\n",
       "    <tr>\n",
       "      <td>1</td>\n",
       "      <td>2</td>\n",
       "      <td>GoldenEye (1995)</td>\n",
       "      <td>01-Jan-1995</td>\n",
       "      <td>NaN</td>\n",
       "      <td>http://us.imdb.com/M/title-exact?GoldenEye%20(...</td>\n",
       "    </tr>\n",
       "    <tr>\n",
       "      <td>2</td>\n",
       "      <td>3</td>\n",
       "      <td>Four Rooms (1995)</td>\n",
       "      <td>01-Jan-1995</td>\n",
       "      <td>NaN</td>\n",
       "      <td>http://us.imdb.com/M/title-exact?Four%20Rooms%...</td>\n",
       "    </tr>\n",
       "    <tr>\n",
       "      <td>3</td>\n",
       "      <td>4</td>\n",
       "      <td>Get Shorty (1995)</td>\n",
       "      <td>01-Jan-1995</td>\n",
       "      <td>NaN</td>\n",
       "      <td>http://us.imdb.com/M/title-exact?Get%20Shorty%...</td>\n",
       "    </tr>\n",
       "    <tr>\n",
       "      <td>4</td>\n",
       "      <td>5</td>\n",
       "      <td>Copycat (1995)</td>\n",
       "      <td>01-Jan-1995</td>\n",
       "      <td>NaN</td>\n",
       "      <td>http://us.imdb.com/M/title-exact?Copycat%20(1995)</td>\n",
       "    </tr>\n",
       "  </tbody>\n",
       "</table>\n",
       "</div>"
      ],
      "text/plain": [
       "   mid              title release_date  video_release_date  \\\n",
       "0    1   Toy Story (1995)  01-Jan-1995                 NaN   \n",
       "1    2   GoldenEye (1995)  01-Jan-1995                 NaN   \n",
       "2    3  Four Rooms (1995)  01-Jan-1995                 NaN   \n",
       "3    4  Get Shorty (1995)  01-Jan-1995                 NaN   \n",
       "4    5     Copycat (1995)  01-Jan-1995                 NaN   \n",
       "\n",
       "                                            imdb_url  \n",
       "0  http://us.imdb.com/M/title-exact?Toy%20Story%2...  \n",
       "1  http://us.imdb.com/M/title-exact?GoldenEye%20(...  \n",
       "2  http://us.imdb.com/M/title-exact?Four%20Rooms%...  \n",
       "3  http://us.imdb.com/M/title-exact?Get%20Shorty%...  \n",
       "4  http://us.imdb.com/M/title-exact?Copycat%20(1995)  "
      ]
     },
     "execution_count": 117,
     "metadata": {},
     "output_type": "execute_result"
    }
   ],
   "source": [
    "movies.head()"
   ]
  },
  {
   "cell_type": "code",
   "execution_count": 118,
   "metadata": {},
   "outputs": [
    {
     "data": {
      "text/plain": [
       "(100000, 4)"
      ]
     },
     "execution_count": 118,
     "metadata": {},
     "output_type": "execute_result"
    }
   ],
   "source": [
    "# 평점 정보 로드\n",
    "ratings_cols = ['uid', 'mid', 'rating', 'unix_timestamp']\n",
    "ratings = pd.read_csv('./ml-100k/u.data', sep = '\\t', names = ratings_cols)\n",
    "ratings.shape"
   ]
  },
  {
   "cell_type": "code",
   "execution_count": 119,
   "metadata": {},
   "outputs": [],
   "source": [
    "# unix_timestamp 칼럼의 데이터를 \n",
    "# 우리가 알 수 있는 형태로 변경\n",
    "# YYYY-mm-dd hh:mm:ss\n",
    "# date 칼럼 생성\n",
    "ratings['date'] = pd.to_datetime(ratings['unix_timestamp'], unit = 's')"
   ]
  },
  {
   "cell_type": "code",
   "execution_count": 120,
   "metadata": {},
   "outputs": [
    {
     "data": {
      "text/html": [
       "<div>\n",
       "<style scoped>\n",
       "    .dataframe tbody tr th:only-of-type {\n",
       "        vertical-align: middle;\n",
       "    }\n",
       "\n",
       "    .dataframe tbody tr th {\n",
       "        vertical-align: top;\n",
       "    }\n",
       "\n",
       "    .dataframe thead th {\n",
       "        text-align: right;\n",
       "    }\n",
       "</style>\n",
       "<table border=\"1\" class=\"dataframe\">\n",
       "  <thead>\n",
       "    <tr style=\"text-align: right;\">\n",
       "      <th></th>\n",
       "      <th>uid</th>\n",
       "      <th>mid</th>\n",
       "      <th>rating</th>\n",
       "      <th>unix_timestamp</th>\n",
       "      <th>date</th>\n",
       "    </tr>\n",
       "  </thead>\n",
       "  <tbody>\n",
       "    <tr>\n",
       "      <td>0</td>\n",
       "      <td>196</td>\n",
       "      <td>242</td>\n",
       "      <td>3</td>\n",
       "      <td>881250949</td>\n",
       "      <td>1997-12-04 15:55:49</td>\n",
       "    </tr>\n",
       "    <tr>\n",
       "      <td>1</td>\n",
       "      <td>186</td>\n",
       "      <td>302</td>\n",
       "      <td>3</td>\n",
       "      <td>891717742</td>\n",
       "      <td>1998-04-04 19:22:22</td>\n",
       "    </tr>\n",
       "    <tr>\n",
       "      <td>2</td>\n",
       "      <td>22</td>\n",
       "      <td>377</td>\n",
       "      <td>1</td>\n",
       "      <td>878887116</td>\n",
       "      <td>1997-11-07 07:18:36</td>\n",
       "    </tr>\n",
       "    <tr>\n",
       "      <td>3</td>\n",
       "      <td>244</td>\n",
       "      <td>51</td>\n",
       "      <td>2</td>\n",
       "      <td>880606923</td>\n",
       "      <td>1997-11-27 05:02:03</td>\n",
       "    </tr>\n",
       "    <tr>\n",
       "      <td>4</td>\n",
       "      <td>166</td>\n",
       "      <td>346</td>\n",
       "      <td>1</td>\n",
       "      <td>886397596</td>\n",
       "      <td>1998-02-02 05:33:16</td>\n",
       "    </tr>\n",
       "  </tbody>\n",
       "</table>\n",
       "</div>"
      ],
      "text/plain": [
       "   uid  mid  rating  unix_timestamp                date\n",
       "0  196  242       3       881250949 1997-12-04 15:55:49\n",
       "1  186  302       3       891717742 1998-04-04 19:22:22\n",
       "2   22  377       1       878887116 1997-11-07 07:18:36\n",
       "3  244   51       2       880606923 1997-11-27 05:02:03\n",
       "4  166  346       1       886397596 1998-02-02 05:33:16"
      ]
     },
     "execution_count": 120,
     "metadata": {},
     "output_type": "execute_result"
    }
   ],
   "source": [
    "ratings.head()"
   ]
  },
  {
   "cell_type": "code",
   "execution_count": null,
   "metadata": {},
   "outputs": [],
   "source": []
  },
  {
   "cell_type": "markdown",
   "metadata": {},
   "source": [
    "#### 데이터 준비/시각화/통찰"
   ]
  },
  {
   "cell_type": "code",
   "execution_count": 121,
   "metadata": {},
   "outputs": [
    {
     "data": {
      "text/html": [
       "<div>\n",
       "<style scoped>\n",
       "    .dataframe tbody tr th:only-of-type {\n",
       "        vertical-align: middle;\n",
       "    }\n",
       "\n",
       "    .dataframe tbody tr th {\n",
       "        vertical-align: top;\n",
       "    }\n",
       "\n",
       "    .dataframe thead th {\n",
       "        text-align: right;\n",
       "    }\n",
       "</style>\n",
       "<table border=\"1\" class=\"dataframe\">\n",
       "  <thead>\n",
       "    <tr style=\"text-align: right;\">\n",
       "      <th></th>\n",
       "      <th>mid</th>\n",
       "      <th>title</th>\n",
       "      <th>release_date</th>\n",
       "      <th>video_release_date</th>\n",
       "      <th>imdb_url</th>\n",
       "      <th>uid</th>\n",
       "      <th>rating</th>\n",
       "      <th>unix_timestamp</th>\n",
       "      <th>date</th>\n",
       "    </tr>\n",
       "  </thead>\n",
       "  <tbody>\n",
       "    <tr>\n",
       "      <td>0</td>\n",
       "      <td>1</td>\n",
       "      <td>Toy Story (1995)</td>\n",
       "      <td>01-Jan-1995</td>\n",
       "      <td>NaN</td>\n",
       "      <td>http://us.imdb.com/M/title-exact?Toy%20Story%2...</td>\n",
       "      <td>308</td>\n",
       "      <td>4</td>\n",
       "      <td>887736532</td>\n",
       "      <td>1998-02-17 17:28:52</td>\n",
       "    </tr>\n",
       "    <tr>\n",
       "      <td>1</td>\n",
       "      <td>1</td>\n",
       "      <td>Toy Story (1995)</td>\n",
       "      <td>01-Jan-1995</td>\n",
       "      <td>NaN</td>\n",
       "      <td>http://us.imdb.com/M/title-exact?Toy%20Story%2...</td>\n",
       "      <td>287</td>\n",
       "      <td>5</td>\n",
       "      <td>875334088</td>\n",
       "      <td>1997-09-27 04:21:28</td>\n",
       "    </tr>\n",
       "    <tr>\n",
       "      <td>2</td>\n",
       "      <td>1</td>\n",
       "      <td>Toy Story (1995)</td>\n",
       "      <td>01-Jan-1995</td>\n",
       "      <td>NaN</td>\n",
       "      <td>http://us.imdb.com/M/title-exact?Toy%20Story%2...</td>\n",
       "      <td>148</td>\n",
       "      <td>4</td>\n",
       "      <td>877019411</td>\n",
       "      <td>1997-10-16 16:30:11</td>\n",
       "    </tr>\n",
       "    <tr>\n",
       "      <td>3</td>\n",
       "      <td>1</td>\n",
       "      <td>Toy Story (1995)</td>\n",
       "      <td>01-Jan-1995</td>\n",
       "      <td>NaN</td>\n",
       "      <td>http://us.imdb.com/M/title-exact?Toy%20Story%2...</td>\n",
       "      <td>280</td>\n",
       "      <td>4</td>\n",
       "      <td>891700426</td>\n",
       "      <td>1998-04-04 14:33:46</td>\n",
       "    </tr>\n",
       "    <tr>\n",
       "      <td>4</td>\n",
       "      <td>1</td>\n",
       "      <td>Toy Story (1995)</td>\n",
       "      <td>01-Jan-1995</td>\n",
       "      <td>NaN</td>\n",
       "      <td>http://us.imdb.com/M/title-exact?Toy%20Story%2...</td>\n",
       "      <td>66</td>\n",
       "      <td>3</td>\n",
       "      <td>883601324</td>\n",
       "      <td>1997-12-31 20:48:44</td>\n",
       "    </tr>\n",
       "  </tbody>\n",
       "</table>\n",
       "</div>"
      ],
      "text/plain": [
       "   mid             title release_date  video_release_date  \\\n",
       "0    1  Toy Story (1995)  01-Jan-1995                 NaN   \n",
       "1    1  Toy Story (1995)  01-Jan-1995                 NaN   \n",
       "2    1  Toy Story (1995)  01-Jan-1995                 NaN   \n",
       "3    1  Toy Story (1995)  01-Jan-1995                 NaN   \n",
       "4    1  Toy Story (1995)  01-Jan-1995                 NaN   \n",
       "\n",
       "                                            imdb_url  uid  rating  \\\n",
       "0  http://us.imdb.com/M/title-exact?Toy%20Story%2...  308       4   \n",
       "1  http://us.imdb.com/M/title-exact?Toy%20Story%2...  287       5   \n",
       "2  http://us.imdb.com/M/title-exact?Toy%20Story%2...  148       4   \n",
       "3  http://us.imdb.com/M/title-exact?Toy%20Story%2...  280       4   \n",
       "4  http://us.imdb.com/M/title-exact?Toy%20Story%2...   66       3   \n",
       "\n",
       "   unix_timestamp                date  \n",
       "0       887736532 1998-02-17 17:28:52  \n",
       "1       875334088 1997-09-27 04:21:28  \n",
       "2       877019411 1997-10-16 16:30:11  \n",
       "3       891700426 1998-04-04 14:33:46  \n",
       "4       883601324 1997-12-31 20:48:44  "
      ]
     },
     "execution_count": 121,
     "metadata": {},
     "output_type": "execute_result"
    }
   ],
   "source": [
    "# movies, users, ratings 정보 병합\n",
    "# movies, ratings 병합 → movies_ratings\n",
    "# mid 기준\n",
    "movies_ratings = pd.merge(movies, ratings)\n",
    "movies_ratings.head()"
   ]
  },
  {
   "cell_type": "code",
   "execution_count": 122,
   "metadata": {},
   "outputs": [
    {
     "data": {
      "text/plain": [
       "(100000, 9)"
      ]
     },
     "execution_count": 122,
     "metadata": {},
     "output_type": "execute_result"
    }
   ],
   "source": [
    "movies_ratings.shape"
   ]
  },
  {
   "cell_type": "code",
   "execution_count": 123,
   "metadata": {},
   "outputs": [
    {
     "data": {
      "text/html": [
       "<div>\n",
       "<style scoped>\n",
       "    .dataframe tbody tr th:only-of-type {\n",
       "        vertical-align: middle;\n",
       "    }\n",
       "\n",
       "    .dataframe tbody tr th {\n",
       "        vertical-align: top;\n",
       "    }\n",
       "\n",
       "    .dataframe thead th {\n",
       "        text-align: right;\n",
       "    }\n",
       "</style>\n",
       "<table border=\"1\" class=\"dataframe\">\n",
       "  <thead>\n",
       "    <tr style=\"text-align: right;\">\n",
       "      <th></th>\n",
       "      <th>mid</th>\n",
       "      <th>title</th>\n",
       "      <th>release_date</th>\n",
       "      <th>video_release_date</th>\n",
       "      <th>imdb_url</th>\n",
       "      <th>uid</th>\n",
       "      <th>rating</th>\n",
       "      <th>unix_timestamp</th>\n",
       "      <th>date</th>\n",
       "      <th>age</th>\n",
       "      <th>sex</th>\n",
       "      <th>job</th>\n",
       "      <th>zip_code</th>\n",
       "    </tr>\n",
       "  </thead>\n",
       "  <tbody>\n",
       "    <tr>\n",
       "      <td>0</td>\n",
       "      <td>1</td>\n",
       "      <td>Toy Story (1995)</td>\n",
       "      <td>01-Jan-1995</td>\n",
       "      <td>NaN</td>\n",
       "      <td>http://us.imdb.com/M/title-exact?Toy%20Story%2...</td>\n",
       "      <td>308</td>\n",
       "      <td>4</td>\n",
       "      <td>887736532</td>\n",
       "      <td>1998-02-17 17:28:52</td>\n",
       "      <td>60</td>\n",
       "      <td>M</td>\n",
       "      <td>retired</td>\n",
       "      <td>95076</td>\n",
       "    </tr>\n",
       "    <tr>\n",
       "      <td>1</td>\n",
       "      <td>4</td>\n",
       "      <td>Get Shorty (1995)</td>\n",
       "      <td>01-Jan-1995</td>\n",
       "      <td>NaN</td>\n",
       "      <td>http://us.imdb.com/M/title-exact?Get%20Shorty%...</td>\n",
       "      <td>308</td>\n",
       "      <td>5</td>\n",
       "      <td>887737890</td>\n",
       "      <td>1998-02-17 17:51:30</td>\n",
       "      <td>60</td>\n",
       "      <td>M</td>\n",
       "      <td>retired</td>\n",
       "      <td>95076</td>\n",
       "    </tr>\n",
       "    <tr>\n",
       "      <td>2</td>\n",
       "      <td>5</td>\n",
       "      <td>Copycat (1995)</td>\n",
       "      <td>01-Jan-1995</td>\n",
       "      <td>NaN</td>\n",
       "      <td>http://us.imdb.com/M/title-exact?Copycat%20(1995)</td>\n",
       "      <td>308</td>\n",
       "      <td>4</td>\n",
       "      <td>887739608</td>\n",
       "      <td>1998-02-17 18:20:08</td>\n",
       "      <td>60</td>\n",
       "      <td>M</td>\n",
       "      <td>retired</td>\n",
       "      <td>95076</td>\n",
       "    </tr>\n",
       "    <tr>\n",
       "      <td>3</td>\n",
       "      <td>7</td>\n",
       "      <td>Twelve Monkeys (1995)</td>\n",
       "      <td>01-Jan-1995</td>\n",
       "      <td>NaN</td>\n",
       "      <td>http://us.imdb.com/M/title-exact?Twelve%20Monk...</td>\n",
       "      <td>308</td>\n",
       "      <td>4</td>\n",
       "      <td>887738847</td>\n",
       "      <td>1998-02-17 18:07:27</td>\n",
       "      <td>60</td>\n",
       "      <td>M</td>\n",
       "      <td>retired</td>\n",
       "      <td>95076</td>\n",
       "    </tr>\n",
       "    <tr>\n",
       "      <td>4</td>\n",
       "      <td>8</td>\n",
       "      <td>Babe (1995)</td>\n",
       "      <td>01-Jan-1995</td>\n",
       "      <td>NaN</td>\n",
       "      <td>http://us.imdb.com/M/title-exact?Babe%20(1995)</td>\n",
       "      <td>308</td>\n",
       "      <td>5</td>\n",
       "      <td>887736696</td>\n",
       "      <td>1998-02-17 17:31:36</td>\n",
       "      <td>60</td>\n",
       "      <td>M</td>\n",
       "      <td>retired</td>\n",
       "      <td>95076</td>\n",
       "    </tr>\n",
       "  </tbody>\n",
       "</table>\n",
       "</div>"
      ],
      "text/plain": [
       "   mid                  title release_date  video_release_date  \\\n",
       "0    1       Toy Story (1995)  01-Jan-1995                 NaN   \n",
       "1    4      Get Shorty (1995)  01-Jan-1995                 NaN   \n",
       "2    5         Copycat (1995)  01-Jan-1995                 NaN   \n",
       "3    7  Twelve Monkeys (1995)  01-Jan-1995                 NaN   \n",
       "4    8            Babe (1995)  01-Jan-1995                 NaN   \n",
       "\n",
       "                                            imdb_url  uid  rating  \\\n",
       "0  http://us.imdb.com/M/title-exact?Toy%20Story%2...  308       4   \n",
       "1  http://us.imdb.com/M/title-exact?Get%20Shorty%...  308       5   \n",
       "2  http://us.imdb.com/M/title-exact?Copycat%20(1995)  308       4   \n",
       "3  http://us.imdb.com/M/title-exact?Twelve%20Monk...  308       4   \n",
       "4     http://us.imdb.com/M/title-exact?Babe%20(1995)  308       5   \n",
       "\n",
       "   unix_timestamp                date  age sex      job zip_code  \n",
       "0       887736532 1998-02-17 17:28:52   60   M  retired    95076  \n",
       "1       887737890 1998-02-17 17:51:30   60   M  retired    95076  \n",
       "2       887739608 1998-02-17 18:20:08   60   M  retired    95076  \n",
       "3       887738847 1998-02-17 18:07:27   60   M  retired    95076  \n",
       "4       887736696 1998-02-17 17:31:36   60   M  retired    95076  "
      ]
     },
     "execution_count": 123,
     "metadata": {},
     "output_type": "execute_result"
    }
   ],
   "source": [
    "# uid 기준\n",
    "movie_lens = pd.merge(movies_ratings, users)\n",
    "movie_lens.head()"
   ]
  },
  {
   "cell_type": "code",
   "execution_count": 124,
   "metadata": {},
   "outputs": [
    {
     "data": {
      "text/plain": [
       "(100000, 13)"
      ]
     },
     "execution_count": 124,
     "metadata": {},
     "output_type": "execute_result"
    }
   ],
   "source": [
    "movie_lens.shape"
   ]
  },
  {
   "cell_type": "code",
   "execution_count": 125,
   "metadata": {},
   "outputs": [
    {
     "data": {
      "text/plain": [
       "Star Wars (1977)                 583\n",
       "Contact (1997)                   509\n",
       "Fargo (1996)                     508\n",
       "Return of the Jedi (1983)        507\n",
       "Liar Liar (1997)                 485\n",
       "English Patient, The (1996)      481\n",
       "Scream (1996)                    478\n",
       "Toy Story (1995)                 452\n",
       "Air Force One (1997)             431\n",
       "Independence Day (ID4) (1996)    429\n",
       "Name: title, dtype: int64"
      ]
     },
     "execution_count": 125,
     "metadata": {},
     "output_type": "execute_result"
    }
   ],
   "source": [
    "# 평가를 가장 많이 받은 작품 상위 10개\n",
    "# value_counts()\n",
    "movie_lens['title'].value_counts()[:10]\n",
    "\n",
    "# 인기가 아주 없는 영화는 제외하고(평점 특정 개수 이하는 제외)\n",
    "# 보여지는 데이터를 보면, 영화가 오래 될수록 평가를 많이 받는 경향"
   ]
  },
  {
   "cell_type": "code",
   "execution_count": 126,
   "metadata": {},
   "outputs": [
    {
     "data": {
      "text/plain": [
       "Hedd Wyn (1992)                                       1\n",
       "Land and Freedom (Tierra y libertad) (1995)           1\n",
       "Modern Affair, A (1995)                               1\n",
       "Shopping (1994)                                       1\n",
       "Two Friends (1986)                                    1\n",
       "Getting Away With Murder (1996)                       1\n",
       "Wings of Courage (1995)                               1\n",
       "Death in the Garden (Mort en ce jardin, La) (1956)    1\n",
       "Scream of Stone (Schrei aus Stein) (1991)             1\n",
       "August (1996)                                         1\n",
       "Name: title, dtype: int64"
      ]
     },
     "execution_count": 126,
     "metadata": {},
     "output_type": "execute_result"
    }
   ],
   "source": [
    "movie_lens['title'].value_counts()[-10:]"
   ]
  },
  {
   "cell_type": "code",
   "execution_count": 127,
   "metadata": {},
   "outputs": [
    {
     "data": {
      "text/html": [
       "<div>\n",
       "<style scoped>\n",
       "    .dataframe tbody tr th:only-of-type {\n",
       "        vertical-align: middle;\n",
       "    }\n",
       "\n",
       "    .dataframe tbody tr th {\n",
       "        vertical-align: top;\n",
       "    }\n",
       "\n",
       "    .dataframe thead tr th {\n",
       "        text-align: left;\n",
       "    }\n",
       "\n",
       "    .dataframe thead tr:last-of-type th {\n",
       "        text-align: right;\n",
       "    }\n",
       "</style>\n",
       "<table border=\"1\" class=\"dataframe\">\n",
       "  <thead>\n",
       "    <tr>\n",
       "      <th></th>\n",
       "      <th>size</th>\n",
       "      <th>mean</th>\n",
       "    </tr>\n",
       "    <tr>\n",
       "      <th></th>\n",
       "      <th>rating</th>\n",
       "      <th>rating</th>\n",
       "    </tr>\n",
       "    <tr>\n",
       "      <th>title</th>\n",
       "      <th></th>\n",
       "      <th></th>\n",
       "    </tr>\n",
       "  </thead>\n",
       "  <tbody>\n",
       "    <tr>\n",
       "      <td>'Til There Was You (1997)</td>\n",
       "      <td>9</td>\n",
       "      <td>2.333333</td>\n",
       "    </tr>\n",
       "    <tr>\n",
       "      <td>1-900 (1994)</td>\n",
       "      <td>5</td>\n",
       "      <td>2.600000</td>\n",
       "    </tr>\n",
       "    <tr>\n",
       "      <td>101 Dalmatians (1996)</td>\n",
       "      <td>109</td>\n",
       "      <td>2.908257</td>\n",
       "    </tr>\n",
       "    <tr>\n",
       "      <td>12 Angry Men (1957)</td>\n",
       "      <td>125</td>\n",
       "      <td>4.344000</td>\n",
       "    </tr>\n",
       "    <tr>\n",
       "      <td>187 (1997)</td>\n",
       "      <td>41</td>\n",
       "      <td>3.024390</td>\n",
       "    </tr>\n",
       "  </tbody>\n",
       "</table>\n",
       "</div>"
      ],
      "text/plain": [
       "                            size      mean\n",
       "                          rating    rating\n",
       "title                                     \n",
       "'Til There Was You (1997)      9  2.333333\n",
       "1-900 (1994)                   5  2.600000\n",
       "101 Dalmatians (1996)        109  2.908257\n",
       "12 Angry Men (1957)          125  4.344000\n",
       "187 (1997)                    41  3.024390"
      ]
     },
     "execution_count": 127,
     "metadata": {},
     "output_type": "execute_result"
    }
   ],
   "source": [
    "# 제목을 기준으로 데이터를 나눈다\n",
    "# 평가 개수, 평점 평균\n",
    "# 인덱스에 title, 컬럼에 평가 개수 size, 평점 평균 mean\n",
    "import numpy as np\n",
    "pd.pivot_table(movie_lens, index = 'title', \n",
    "               values = 'rating', aggfunc = [np.size, np.mean]).head()"
   ]
  },
  {
   "cell_type": "code",
   "execution_count": 128,
   "metadata": {},
   "outputs": [
    {
     "data": {
      "text/html": [
       "<div>\n",
       "<style scoped>\n",
       "    .dataframe tbody tr th:only-of-type {\n",
       "        vertical-align: middle;\n",
       "    }\n",
       "\n",
       "    .dataframe tbody tr th {\n",
       "        vertical-align: top;\n",
       "    }\n",
       "\n",
       "    .dataframe thead tr th {\n",
       "        text-align: left;\n",
       "    }\n",
       "\n",
       "    .dataframe thead tr:last-of-type th {\n",
       "        text-align: right;\n",
       "    }\n",
       "</style>\n",
       "<table border=\"1\" class=\"dataframe\">\n",
       "  <thead>\n",
       "    <tr>\n",
       "      <th></th>\n",
       "      <th colspan=\"2\" halign=\"left\">rating</th>\n",
       "    </tr>\n",
       "    <tr>\n",
       "      <th></th>\n",
       "      <th>size</th>\n",
       "      <th>mean</th>\n",
       "    </tr>\n",
       "    <tr>\n",
       "      <th>title</th>\n",
       "      <th></th>\n",
       "      <th></th>\n",
       "    </tr>\n",
       "  </thead>\n",
       "  <tbody>\n",
       "    <tr>\n",
       "      <td>'Til There Was You (1997)</td>\n",
       "      <td>9</td>\n",
       "      <td>2.333333</td>\n",
       "    </tr>\n",
       "    <tr>\n",
       "      <td>1-900 (1994)</td>\n",
       "      <td>5</td>\n",
       "      <td>2.600000</td>\n",
       "    </tr>\n",
       "    <tr>\n",
       "      <td>101 Dalmatians (1996)</td>\n",
       "      <td>109</td>\n",
       "      <td>2.908257</td>\n",
       "    </tr>\n",
       "    <tr>\n",
       "      <td>12 Angry Men (1957)</td>\n",
       "      <td>125</td>\n",
       "      <td>4.344000</td>\n",
       "    </tr>\n",
       "    <tr>\n",
       "      <td>187 (1997)</td>\n",
       "      <td>41</td>\n",
       "      <td>3.024390</td>\n",
       "    </tr>\n",
       "  </tbody>\n",
       "</table>\n",
       "</div>"
      ],
      "text/plain": [
       "                          rating          \n",
       "                            size      mean\n",
       "title                                     \n",
       "'Til There Was You (1997)      9  2.333333\n",
       "1-900 (1994)                   5  2.600000\n",
       "101 Dalmatians (1996)        109  2.908257\n",
       "12 Angry Men (1957)          125  4.344000\n",
       "187 (1997)                    41  3.024390"
      ]
     },
     "execution_count": 128,
     "metadata": {},
     "output_type": "execute_result"
    }
   ],
   "source": [
    "# 피벗 없이 수행\n",
    "# rating : 1차 레벨 컬럼\n",
    "# np.size, np.mean : 2차 레벨 컬럼\n",
    "movie_state = movie_lens.groupby('title').agg({ 'rating' : [np.size, np.mean] })\n",
    "movie_state.head()"
   ]
  },
  {
   "cell_type": "code",
   "execution_count": 129,
   "metadata": {},
   "outputs": [],
   "source": [
    "# 평점을 받은 개수가 1개인 영화, 즉 소수의 평가를 받은 영화가 많다\n",
    "# → 노이즈가 개입되기 쉽다\n",
    "# 일정 횟수 이상인 경우, 여기서는 100건 기준만 대상으로 처리하겠다"
   ]
  },
  {
   "cell_type": "code",
   "execution_count": 130,
   "metadata": {},
   "outputs": [
    {
     "data": {
      "text/html": [
       "<div>\n",
       "<style scoped>\n",
       "    .dataframe tbody tr th:only-of-type {\n",
       "        vertical-align: middle;\n",
       "    }\n",
       "\n",
       "    .dataframe tbody tr th {\n",
       "        vertical-align: top;\n",
       "    }\n",
       "\n",
       "    .dataframe thead tr th {\n",
       "        text-align: left;\n",
       "    }\n",
       "\n",
       "    .dataframe thead tr:last-of-type th {\n",
       "        text-align: right;\n",
       "    }\n",
       "</style>\n",
       "<table border=\"1\" class=\"dataframe\">\n",
       "  <thead>\n",
       "    <tr>\n",
       "      <th></th>\n",
       "      <th colspan=\"2\" halign=\"left\">rating</th>\n",
       "    </tr>\n",
       "    <tr>\n",
       "      <th></th>\n",
       "      <th>size</th>\n",
       "      <th>mean</th>\n",
       "    </tr>\n",
       "    <tr>\n",
       "      <th>title</th>\n",
       "      <th></th>\n",
       "      <th></th>\n",
       "    </tr>\n",
       "  </thead>\n",
       "  <tbody>\n",
       "    <tr>\n",
       "      <td>Close Shave, A (1995)</td>\n",
       "      <td>112</td>\n",
       "      <td>4.491071</td>\n",
       "    </tr>\n",
       "    <tr>\n",
       "      <td>Schindler's List (1993)</td>\n",
       "      <td>298</td>\n",
       "      <td>4.466443</td>\n",
       "    </tr>\n",
       "    <tr>\n",
       "      <td>Wrong Trousers, The (1993)</td>\n",
       "      <td>118</td>\n",
       "      <td>4.466102</td>\n",
       "    </tr>\n",
       "    <tr>\n",
       "      <td>Casablanca (1942)</td>\n",
       "      <td>243</td>\n",
       "      <td>4.456790</td>\n",
       "    </tr>\n",
       "    <tr>\n",
       "      <td>Shawshank Redemption, The (1994)</td>\n",
       "      <td>283</td>\n",
       "      <td>4.445230</td>\n",
       "    </tr>\n",
       "  </tbody>\n",
       "</table>\n",
       "</div>"
      ],
      "text/plain": [
       "                                 rating          \n",
       "                                   size      mean\n",
       "title                                            \n",
       "Close Shave, A (1995)               112  4.491071\n",
       "Schindler's List (1993)             298  4.466443\n",
       "Wrong Trousers, The (1993)          118  4.466102\n",
       "Casablanca (1942)                   243  4.456790\n",
       "Shawshank Redemption, The (1994)    283  4.445230"
      ]
     },
     "execution_count": 130,
     "metadata": {},
     "output_type": "execute_result"
    }
   ],
   "source": [
    "# 평가의 개수가 100개 이상인 데이터만 대상으로 \n",
    "# 평균 평점 상위 5개\n",
    "tmp = movie_state[movie_state['rating']['size'] >= 100].sort_values(by = [('rating', 'mean')],\n",
    "                                                             ascending = False)\n",
    "tmp.head()"
   ]
  },
  {
   "cell_type": "code",
   "execution_count": 131,
   "metadata": {},
   "outputs": [
    {
     "data": {
      "text/plain": [
       "(338, 2)"
      ]
     },
     "execution_count": 131,
     "metadata": {},
     "output_type": "execute_result"
    }
   ],
   "source": [
    "tmp.shape"
   ]
  },
  {
   "cell_type": "code",
   "execution_count": 132,
   "metadata": {
    "scrolled": true
   },
   "outputs": [
    {
     "name": "stdout",
     "output_type": "stream",
     "text": [
      "알 수 없는 시스템\n"
     ]
    }
   ],
   "source": [
    "# 간단한 시각화\n",
    "from matplotlib import pyplot as plt\n",
    "from korea_font import initKoreaFontLoad\n",
    "initKoreaFontLoad()"
   ]
  },
  {
   "cell_type": "code",
   "execution_count": 133,
   "metadata": {
    "scrolled": true
   },
   "outputs": [
    {
     "data": {
      "text/plain": [
       "uid\n",
       "1     272\n",
       "2      62\n",
       "3      54\n",
       "4      24\n",
       "5     175\n",
       "6     211\n",
       "7     403\n",
       "8      59\n",
       "9      22\n",
       "10    184\n",
       "dtype: int64"
      ]
     },
     "execution_count": 133,
     "metadata": {},
     "output_type": "execute_result"
    }
   ],
   "source": [
    "# 사용자별 평점을 내린 개수\n",
    "movie_lens.groupby('uid').size()[:10]"
   ]
  },
  {
   "cell_type": "code",
   "execution_count": 134,
   "metadata": {},
   "outputs": [
    {
     "data": {
      "text/plain": [
       "uid\n",
       "405    737\n",
       "655    685\n",
       "13     636\n",
       "450    540\n",
       "276    518\n",
       "416    493\n",
       "537    490\n",
       "303    484\n",
       "234    480\n",
       "393    448\n",
       "dtype: int64"
      ]
     },
     "execution_count": 134,
     "metadata": {},
     "output_type": "execute_result"
    }
   ],
   "source": [
    "movie_lens.groupby('uid').size().sort_values(ascending = False)[:10]"
   ]
  },
  {
   "cell_type": "code",
   "execution_count": 135,
   "metadata": {},
   "outputs": [
    {
     "data": {
      "text/plain": [
       "<matplotlib.axes._subplots.AxesSubplot at 0x7f1fb176d278>"
      ]
     },
     "execution_count": 135,
     "metadata": {},
     "output_type": "execute_result"
    },
    {
     "data": {
      "image/png": "[encoded data removed]",
      "text/plain": [
       "<Figure size 432x288 with 1 Axes>"
      ]
     },
     "metadata": {},
     "output_type": "display_data"
    }
   ],
   "source": [
    "# 히스토그램\n",
    "# 영화별 평점 개수 : x축\n",
    "# 사용자별 평가 횟수 : y축\n",
    "plt.style.use('ggplot')\n",
    "movie_lens.groupby('uid').size().sort_values(ascending = False).hist()\n",
    "# 빈도가 낮아지는 그래프 모양 → 길게 꼬리를 늘어뜨리는 모양 => 롱테일분포\n",
    "# '지프의 법칙'을 따르는 굴곡 모양\n",
    "# 자연어 말뭉치 표현에 나타나는 단어들을 그 사용 빈도가 높은 순으로 나열하면\n",
    "# 모든 단어의 사용 빈도는 해당 단어의 빈도 순위에 반비례한다\n",
    "# 영화의 평가가 많으면, 그 사용자들 중에는 1회성 평가 횟수도 많다"
   ]
  },
  {
   "cell_type": "code",
   "execution_count": 136,
   "metadata": {},
   "outputs": [
    {
     "data": {
      "text/html": [
       "<div>\n",
       "<style scoped>\n",
       "    .dataframe tbody tr th:only-of-type {\n",
       "        vertical-align: middle;\n",
       "    }\n",
       "\n",
       "    .dataframe tbody tr th {\n",
       "        vertical-align: top;\n",
       "    }\n",
       "\n",
       "    .dataframe thead tr th {\n",
       "        text-align: left;\n",
       "    }\n",
       "\n",
       "    .dataframe thead tr:last-of-type th {\n",
       "        text-align: right;\n",
       "    }\n",
       "</style>\n",
       "<table border=\"1\" class=\"dataframe\">\n",
       "  <thead>\n",
       "    <tr>\n",
       "      <th></th>\n",
       "      <th colspan=\"2\" halign=\"left\">rating</th>\n",
       "    </tr>\n",
       "    <tr>\n",
       "      <th></th>\n",
       "      <th>size</th>\n",
       "      <th>mean</th>\n",
       "    </tr>\n",
       "    <tr>\n",
       "      <th>uid</th>\n",
       "      <th></th>\n",
       "      <th></th>\n",
       "    </tr>\n",
       "  </thead>\n",
       "  <tbody>\n",
       "    <tr>\n",
       "      <td>1</td>\n",
       "      <td>272</td>\n",
       "      <td>3.610294</td>\n",
       "    </tr>\n",
       "    <tr>\n",
       "      <td>2</td>\n",
       "      <td>62</td>\n",
       "      <td>3.709677</td>\n",
       "    </tr>\n",
       "    <tr>\n",
       "      <td>3</td>\n",
       "      <td>54</td>\n",
       "      <td>2.796296</td>\n",
       "    </tr>\n",
       "    <tr>\n",
       "      <td>4</td>\n",
       "      <td>24</td>\n",
       "      <td>4.333333</td>\n",
       "    </tr>\n",
       "    <tr>\n",
       "      <td>5</td>\n",
       "      <td>175</td>\n",
       "      <td>2.874286</td>\n",
       "    </tr>\n",
       "  </tbody>\n",
       "</table>\n",
       "</div>"
      ],
      "text/plain": [
       "    rating          \n",
       "      size      mean\n",
       "uid                 \n",
       "1      272  3.610294\n",
       "2       62  3.709677\n",
       "3       54  2.796296\n",
       "4       24  4.333333\n",
       "5      175  2.874286"
      ]
     },
     "execution_count": 136,
     "metadata": {},
     "output_type": "execute_result"
    }
   ],
   "source": [
    "# 사용자별 평가 횟수, 평균\n",
    "user_state = movie_lens.groupby('uid').agg({'rating' : [np.size, np.mean]})\n",
    "user_state.head()"
   ]
  },
  {
   "cell_type": "code",
   "execution_count": 138,
   "metadata": {},
   "outputs": [
    {
     "data": {
      "text/plain": [
       "(943, 2)"
      ]
     },
     "execution_count": 138,
     "metadata": {},
     "output_type": "execute_result"
    }
   ],
   "source": [
    "user_state.shape"
   ]
  },
  {
   "cell_type": "code",
   "execution_count": 44,
   "metadata": {},
   "outputs": [
    {
     "data": {
      "text/html": [
       "<div>\n",
       "<style scoped>\n",
       "    .dataframe tbody tr th:only-of-type {\n",
       "        vertical-align: middle;\n",
       "    }\n",
       "\n",
       "    .dataframe tbody tr th {\n",
       "        vertical-align: top;\n",
       "    }\n",
       "\n",
       "    .dataframe thead th {\n",
       "        text-align: right;\n",
       "    }\n",
       "</style>\n",
       "<table border=\"1\" class=\"dataframe\">\n",
       "  <thead>\n",
       "    <tr style=\"text-align: right;\">\n",
       "      <th></th>\n",
       "      <th>size</th>\n",
       "      <th>mean</th>\n",
       "    </tr>\n",
       "  </thead>\n",
       "  <tbody>\n",
       "    <tr>\n",
       "      <th>count</th>\n",
       "      <td>943.000000</td>\n",
       "      <td>943.000000</td>\n",
       "    </tr>\n",
       "    <tr>\n",
       "      <th>mean</th>\n",
       "      <td>106.044539</td>\n",
       "      <td>3.588191</td>\n",
       "    </tr>\n",
       "    <tr>\n",
       "      <th>std</th>\n",
       "      <td>100.931743</td>\n",
       "      <td>0.445233</td>\n",
       "    </tr>\n",
       "    <tr>\n",
       "      <th>min</th>\n",
       "      <td>20.000000</td>\n",
       "      <td>1.491954</td>\n",
       "    </tr>\n",
       "    <tr>\n",
       "      <th>25%</th>\n",
       "      <td>33.000000</td>\n",
       "      <td>3.323054</td>\n",
       "    </tr>\n",
       "    <tr>\n",
       "      <th>50%</th>\n",
       "      <td>65.000000</td>\n",
       "      <td>3.620690</td>\n",
       "    </tr>\n",
       "    <tr>\n",
       "      <th>75%</th>\n",
       "      <td>148.000000</td>\n",
       "      <td>3.869565</td>\n",
       "    </tr>\n",
       "    <tr>\n",
       "      <th>max</th>\n",
       "      <td>737.000000</td>\n",
       "      <td>4.869565</td>\n",
       "    </tr>\n",
       "  </tbody>\n",
       "</table>\n",
       "</div>"
      ],
      "text/plain": [
       "             size        mean\n",
       "count  943.000000  943.000000\n",
       "mean   106.044539    3.588191\n",
       "std    100.931743    0.445233\n",
       "min     20.000000    1.491954\n",
       "25%     33.000000    3.323054\n",
       "50%     65.000000    3.620690\n",
       "75%    148.000000    3.869565\n",
       "max    737.000000    4.869565"
      ]
     },
     "execution_count": 44,
     "metadata": {},
     "output_type": "execute_result"
    }
   ],
   "source": [
    "user_state['rating'].describe()\n",
    "# 평균값 데이터를 보면\n",
    "# 최저 1.49점, 최대 4.87점, 25~75% 지점은 모두 다 3점대\n",
    "# → 일반적으로(평균적으로) 3.59 정도는 받는다\n",
    "# → 최대 점수와 최저 점수는 편중된 것으로 보인다"
   ]
  },
  {
   "cell_type": "code",
   "execution_count": null,
   "metadata": {},
   "outputs": [],
   "source": []
  },
  {
   "cell_type": "markdown",
   "metadata": {},
   "source": [
    "#### 인수분해 머신을 이용한 추천 시스템 구성\n",
    "\n",
    "- 행렬 인수분해라는 기능을 일반화한 알고리즘 → 차원축소 기법\n",
    "- 희소 행렬을 다룰 수 있는 알고리즘\n",
    "- 특징끼리 영향을 주고 받는 상호작용 개념을 계산에 적용 가능\n",
    "- 범주형 변수를 더미 변수(파생 변수)로 변환하여 범주 간 상호작용성도 계산 가능\n",
    "- 알고리즘은 회귀, 분류, 학습 등도 가능\n",
    "- C++로 만들어진 libFM 알고리즘이 가장 유명 → 파이썬으로 구성된 fastFM"
   ]
  },
  {
   "cell_type": "markdown",
   "metadata": {},
   "source": [
    "###### fastFM 제공 알고리즘\n",
    "- ALS : 교대 최소 제곱법\n",
    " > 장점 : 예측 시간 빠르다, SGD보다 하이퍼파라미터가 적다  \n",
    " > 단점 : 규제 필수\n",
    "- SGD : 확률 경사하강법\n",
    " > 장점 : 예측 시간 빠르다, 대규모 데이터(빅데이터)를 빠르게 학습할 수 있다  \n",
    " > 단점 : 규제 필수, SGD보다 하이퍼파라미터가 많다\n",
    "- MCMC : 마르코프 연쇄 몬테카를로\n",
    " > 장점 : 하이퍼파라미터가 작다  \n",
    " > 단점 : 학습시간이 다소 느리다"
   ]
  },
  {
   "cell_type": "markdown",
   "metadata": {},
   "source": [
    "### 도커 도입\n",
    "\n",
    "- 사용하고자 하는 오픈소스 알고리즘(모듈) 중에는 윈도우에서 수행이 불가능한 경우가 많다\n",
    "- 도커를 이용하여 리눅스 생태계를 만들고, 거기서 fastFM 설치 후 주피터 연결"
   ]
  },
  {
   "cell_type": "code",
   "execution_count": null,
   "metadata": {},
   "outputs": [],
   "source": [
    "# 도커 설치\n",
    "# 1. 도커 가입\n",
    "- docker.com\n",
    "\n",
    "# 2. 도커 다운로드 및 설치(윈도우용)\n",
    "- https://www.docker.com/products/docker-desktop\n",
    "- 다운로드 및 설치\n",
    "or\n",
    "[공식적으로는 window 10 home 에디션 이하]\n",
    "- https://github.com/docker/toolbox/releases\n",
    "- 다운로드 및 설치 (별도의 체크박스 수정없이 모두 긍정/확인)\n",
    "\n",
    "# 3. 도커 콘솔 가동(docker desktop)\n",
    "$ docker version\n",
    "\n",
    "# 4. 컨테이너 이미지 다운로드 (도커 허브에서 다운로드)\n",
    "$ docker pull ubuntu:latest\n",
    "$ dockerCli.exe -SwitchDaemon\n",
    "$ docker version\n",
    "→ 위 명령 수행 후 확인\n",
    "→ 그래도 안 되면, 도커 툴 설치 후 도커 툴에서 진행\n",
    "or \n",
    "$ docker pull ubuntu:18.04\n",
    "    \n",
    "# 5. 다운로드한 이미지 확인\n",
    "$ docker images\n",
    "\n",
    "# 6. 다운로드한 이미지 제거\n",
    "$ docker rmi ubuntu:latest\n",
    "- 확인\n",
    "$ docker images\n",
    "\n",
    "# 7. 컨테이너 이미지를 이용하여 컨테이너 생성 및 로그인\n",
    "# 단, 포트는 컨테이너를 생성할 때 단 한번 세팅 가능\n",
    "$ docker run -p 8888:8888 -p 8123:8123 --name ml -i -t ubuntu:latest /bin/bash\n",
    "→ -p 인바운드포트:아웃바운드포트, 1회만 세팅, 필요한만큼 추가\n",
    "→ --name 컨테이너 인스턴스의 이름\n",
    "→ -ㅑ(interactive), -t(Psuedo-tty) 이 옵션 추가하면 Bash shell에 입력 및 출력을 수행할 수 있다\n",
    "→ ubuntu:latest 설치할 이미지\n",
    "→ /bin/bash는 커맨드 쉘의 한 종류, 이를 사용하기 위해 명령어 입력\n",
    "\n",
    "# 8. 리눅스에서 빠져나가기\n",
    "root@$ exit\n",
    "\n",
    "# 9. 컨테이너 인스턴스의 목록\n",
    "$ docker ps -a\n",
    "\n",
    "# 10. 컨테이너 인스턴스 가동\n",
    "$ docker start ml\n",
    "$ docker ps -a\n",
    "\n",
    "# 11. 재가동\n",
    "$ docker restart ml\n",
    "\n",
    "# 12. 접속\n",
    "$ docker attach ml\n",
    "\n",
    "# 13. 리눅스 나가서, 컨테이너 인스턴스 제거\n",
    "root@$ exit\n",
    "$ docker rm ml\n",
    "$ docker ps -a\n",
    "\n",
    "# 14. 리눅스 상에서 환경 구축\n",
    "root@$ apt-get update && apt-get -y upgrade\n",
    "\n",
    "→ https://github.com/ibayer/fastFM\n",
    "\n",
    "- 패키지 설치\n",
    "root@$ apt-get -y install python3-dev libopenblas-dev git python3-pip nano wget unzip\n",
    "\n",
    "- fastFM 소스 다운로드\n",
    "root@$ cd home\n",
    "root@$ git clone --recursive https://github.com/ibayer/fastFM.git\n",
    "root@$ cd fastFM\n",
    "\n",
    "- 파이썬 라이브러리 설치\n",
    "root@$ pip3 install -r ./requirements.txt\n",
    "\n",
    "- 빌드(중간이나 끝부분에 error 보여도 무시)\n",
    "root@$ PYTHON=python3 make\n",
    "\n",
    "- 패키지 설치\n",
    "root@$ pip3 install\n",
    "root@$ python3\n",
    ">>> from fastFM import als\n",
    ">>>\n",
    ">>> exit()\n",
    "root@$ pip3 install pandas matplotlib jupyter\n",
    "\n",
    "- 주피터 노트북 가동\n",
    "root@$ jupyter notebook --ip=0.0.0.0 --port=8123 --allow-root --no-browser\n",
    "or\n",
    "root@$ jupyter notebook --ip=0.0.0.0 --allow-root (기본 포트 8888)\n",
    "\n",
    "- 기본 PC에서 브라우저 접속\n",
    "[toolbox 사용자] - 도커 구동 시 IP 사용\n",
    "docker is configured to use the default machine with IP 192.168.99.100\n",
    "http://192.168.99.100:8123/?token=c4a28a0fec6d6eff0d3d28a9a0d62838f5f7a188cdedf686\n",
    "\n",
    "[일반 사용자]\n",
    "http://127.0.0.1:8123/?token=c4a28a0fec6d6eff0d3d28a9a0d62838f5f7a188cdedf686"
   ]
  },
  {
   "cell_type": "code",
   "execution_count": null,
   "metadata": {},
   "outputs": [],
   "source": [
    "- 사용자가 커스텀한 이미지를 도커 허브에 업로드\n",
    "- 도커 컨테이너의 이미지화 및 배포\n",
    "$ docker commit --help\n",
    "\n",
    "- 1단계 도커 컨테이너 인스턴스 가동을 중단(가동중인 경우에만)\n",
    "root@$ exit\n",
    "$ docker stop ml\n",
    "\n",
    "- 2단계 도커 컨테이너 인스턴스 아이디 확인\n",
    "$ docker ps -a\n",
    "CONTAINER ID        IMAGE               COMMAND             CREATED             STATUS                    PORTS               NAMES\n",
    "b5881a744df7        ubuntu:latest       \"/bin/bash\"         18 hours ago        Exited (0) 16 hours ago                       ml\n",
    "\n",
    "- 3단계 이미지 생성\n",
    "- CONTAINER ID 복사\n",
    "- tag는 생략하면 무조건 latest 자동으로 붙는다\n",
    "$ docker commit -a 'kenshi@nate.com' b5881a744df7 kenshi0216/ub_ju_base:0.1\n",
    "- 확인\n",
    "$ docker images\n",
    "\n",
    "- 4단계 로그인\n",
    "$ docker login\n",
    "\n",
    "- 5단계 배포\n",
    "$ docker push kenshi0216/ub_ju_base:0.1"
   ]
  },
  {
   "cell_type": "code",
   "execution_count": null,
   "metadata": {},
   "outputs": [],
   "source": [
    "- 컨테이너 인스턴스에 작업 파일 전송을 통해 작업을 이어간다\n",
    "$ docker start ml\n",
    "$ docker attach ml\n",
    "root@$ cd home\n",
    "root@$ mkdir dev && cd dev\n",
    "root@$ jupyter notebook --ip=0.0.0.0 --port=8123 --allow-root --no-browser"
   ]
  },
  {
   "cell_type": "code",
   "execution_count": null,
   "metadata": {},
   "outputs": [],
   "source": [
    "- 로컬 PC ↔ Docker 인스턴스에 파일 보내는 방법\n",
    "- 주피터를 사용할 경우 주피터 업로드를 통해 수행\n",
    "- 순수 도커 명령 이용\n",
    "$ docker cp 로컬pc파일경로 인스턴스네임:인스턴스상경로\n",
    "$ docker cp cp C:\\Users\\User\\Documents\\Dropbox\\busan\\py_projects\\ml\\extend\\korea_font.py ml:/home/dev"
   ]
  },
  {
   "cell_type": "code",
   "execution_count": 1,
   "metadata": {},
   "outputs": [],
   "source": [
    "# 모듈 사용 확인\n",
    "from fastFM import als"
   ]
  },
  {
   "cell_type": "markdown",
   "metadata": {},
   "source": [
    "#### 가상(더미) 데이터를 이용하여 기능 처리 확인"
   ]
  },
  {
   "cell_type": "code",
   "execution_count": 7,
   "metadata": {},
   "outputs": [],
   "source": [
    "# DictVectorizer : 딕셔너리의 벡터화 → 딕셔너리의 값이 문자열인 경우 벡터화 처리\n",
    "from sklearn.feature_extraction import DictVectorizer\n",
    "import numpy as np"
   ]
  },
  {
   "cell_type": "code",
   "execution_count": 10,
   "metadata": {},
   "outputs": [],
   "source": [
    "v = DictVectorizer()"
   ]
  },
  {
   "cell_type": "code",
   "execution_count": 8,
   "metadata": {
    "scrolled": true
   },
   "outputs": [
    {
     "data": {
      "text/plain": [
       "[{'uid': '1', 'item': '5', 'age': 19},\n",
       " {'uid': '2', 'item': '43', 'age': 33},\n",
       " {'uid': '3', 'item': '20', 'age': 55},\n",
       " {'uid': '4', 'item': '10', 'age': 20},\n",
       " {'uid': '5', 'item': '9', 'age': 44}]"
      ]
     },
     "execution_count": 8,
     "metadata": {},
     "output_type": "execute_result"
    }
   ],
   "source": [
    "# 더미 데이터\n",
    "train = [\n",
    "    { 'uid' : '1', 'item' : '5', 'age' : 19 }, \n",
    "    { 'uid' : '2', 'item' : '43', 'age' : 33 }, \n",
    "    { 'uid' : '3', 'item' : '20', 'age' : 55 }, \n",
    "    { 'uid' : '4', 'item' : '10', 'age' : 20 }, \n",
    "    { 'uid' : '5', 'item' : '9', 'age' : 44 }\n",
    "]\n",
    "train"
   ]
  },
  {
   "cell_type": "code",
   "execution_count": 11,
   "metadata": {},
   "outputs": [
    {
     "data": {
      "text/plain": [
       "array([[19.,  0.,  0.,  0.,  1.,  0.,  1.,  0.,  0.,  0.,  0.],\n",
       "       [33.,  0.,  0.,  1.,  0.,  0.,  0.,  1.,  0.,  0.,  0.],\n",
       "       [55.,  0.,  1.,  0.,  0.,  0.,  0.,  0.,  1.,  0.,  0.],\n",
       "       [20.,  1.,  0.,  0.,  0.,  0.,  0.,  0.,  0.,  1.,  0.],\n",
       "       [44.,  0.,  0.,  0.,  0.,  1.,  0.,  0.,  0.,  0.,  1.]])"
      ]
     },
     "execution_count": 11,
     "metadata": {},
     "output_type": "execute_result"
    }
   ],
   "source": [
    "# 수치는 그대로 두고, 문자열만 벡터화 진행\n",
    "# 문자열은 범주형으로 인식하고 처리\n",
    "X = v.fit_transform(train)\n",
    "X.toarray()"
   ]
  },
  {
   "cell_type": "code",
   "execution_count": null,
   "metadata": {},
   "outputs": [],
   "source": [
    "# 위의 벡터화의 방식은 중복되지 않는 값의 개수만큼 변수(컬럼)을 만들고\n",
    "# 0, 1의 이진 데이터로 그 값들을 분류하는 방식으로 벡터화 처리를 한다\n",
    "# 0, 1의 이진 데이터는 학습 성능이 우수하기 때문에 컬럼의 수가 많아진다는 문제점이 있지만, 시도해볼만한 방법"
   ]
  },
  {
   "cell_type": "code",
   "execution_count": 12,
   "metadata": {},
   "outputs": [],
   "source": [
    "# 학습 → 이들이 평가한 점수\n",
    "# 평점 순서대로\n",
    "y = np.array( [5.0, 1.0, 2.0, 4.0, 4.4] )"
   ]
  },
  {
   "cell_type": "code",
   "execution_count": 13,
   "metadata": {},
   "outputs": [],
   "source": [
    "# 알고리즘 생성\n",
    "fm = als.FMRegression( n_iter=1000, init_stdev=0.1, \n",
    "                      rank=2, l2_reg_w=0.1, l2_reg_V = 0.5 )"
   ]
  },
  {
   "cell_type": "code",
   "execution_count": 14,
   "metadata": {},
   "outputs": [
    {
     "data": {
      "text/plain": [
       "FMRegression(init_stdev=0.1, l2_reg=0, l2_reg_V=0.5, l2_reg_w=0.1, n_iter=1000,\n",
       "             random_state=123, rank=2)"
      ]
     },
     "execution_count": 14,
     "metadata": {},
     "output_type": "execute_result"
    }
   ],
   "source": [
    "# 학습\n",
    "fm.fit(X, y)"
   ]
  },
  {
   "cell_type": "code",
   "execution_count": 16,
   "metadata": {},
   "outputs": [
    {
     "data": {
      "text/plain": [
       "array([3.78469444])"
      ]
     },
     "execution_count": 16,
     "metadata": {},
     "output_type": "execute_result"
    }
   ],
   "source": [
    "# 예측\n",
    "# 나이가 24세, 유저번호 6, 아이템 10번, 내릴 평점은?\n",
    "tmp_dic = { 'uid' : '6', 'item' : '10', 'age' : 24 }\n",
    "# tmp_dic 벡터화\n",
    "fm.predict( v.transform(tmp_dic) )"
   ]
  },
  {
   "cell_type": "code",
   "execution_count": null,
   "metadata": {},
   "outputs": [],
   "source": [
    "# 위의 예측값이 나왔으나, 향후 데이터가 늘어나고 모델이 갱신되는 상황이 오면\n",
    "# 성능이 개선되었는지 판단하는 근거가 필요하다\n",
    "# 또한, 하이퍼파라미터 튜닝을 수행하지 않아서\n",
    "# 성능을 극대화하는 성능 평가가 필요\n",
    "\n",
    "# 회귀모델 → 평균 제곱근 오차를 이용 → 손실함수를 통해서 판단을 줄이는 방향으로 개선\n",
    "\n",
    "# 손실함수\n",
    "# - 정답에 대한 오류를 숫자로 나타내는 것\n",
    "# - 오답에 가까우면 값이 크고, 정답에 가까우면 작은 값으로 나오는 경향\n",
    "# - np.sqrt( mean_squard_error() )\n",
    "\n",
    "# 평균 제곱근 오차\n",
    "# - RMSE : root mean squard error\n",
    "# - RMSE : 예측값과 실제값을 배열로 만들어서 차이를 제곱으로 합하고, \n",
    "#          이것을 다시 배열의 요솟수로 나눈 값의 제곱근"
   ]
  },
  {
   "cell_type": "markdown",
   "metadata": {},
   "source": [
    "#### 성능 평가 → 회귀"
   ]
  },
  {
   "cell_type": "code",
   "execution_count": 57,
   "metadata": {},
   "outputs": [],
   "source": [
    "def loadData( fileName, path='./ml-100k/' ) :\n",
    "    # print( path + fileName )\n",
    "    # 훈련 데이터를 담는 그릇\n",
    "    data = []\n",
    "    # 평점 데이터를 담는 그릇\n",
    "    y = []\n",
    "    users = set()\n",
    "    items = set()\n",
    "    # ua.base 컬럼 : uid, mid, rating, unix_timestamp\n",
    "    with open( path + fileName ) as f :\n",
    "        # 파일 포인터를 for문에 넣으면 한 줄씩 리딩\n",
    "        for line in f :\n",
    "            # print( line.split('\\t') )\n",
    "            # 리스트를 튜플로 분해해서 변수로 받는 형식을 동일하게 적용하면\n",
    "            # 리스트의 각 멤버들이 변수에 순서대로 들어가서 변수가 생성된다\n",
    "            (uid, mid, rating, ts) = line.split('\\t')\n",
    "            # print(uid, mid, rating, ts)\n",
    "            # 훈련용 데이터를 받아줘야 한다 → [ {}, {} .. ] 형태\n",
    "            # uid, mid는 벡터화 해야하므로 문자열이어야 한다 \n",
    "            data.append( {'uid' : uid, 'mid' : mid} )\n",
    "            y.append( float(rating) )\n",
    "            users.add(uid)\n",
    "            items.add(mid)\n",
    "            \n",
    "    # users, items : 현 데이터의 유저 목록, 아이템 목록만 모은 것, 중복 제거 → set\n",
    "    return ( data, np.array(y), users, items )"
   ]
  },
  {
   "cell_type": "code",
   "execution_count": 58,
   "metadata": {},
   "outputs": [
    {
     "data": {
      "text/plain": [
       "([{'uid': '1', 'mid': '1'},\n",
       "  {'uid': '1', 'mid': '2'},\n",
       "  {'uid': '1', 'mid': '3'},\n",
       "  {'uid': '1', 'mid': '4'},\n",
       "  {'uid': '1', 'mid': '5'}],\n",
       " array([5., 3., 4., 3., 3.]),\n",
       " 943,\n",
       " 1680)"
      ]
     },
     "execution_count": 58,
     "metadata": {},
     "output_type": "execute_result"
    }
   ],
   "source": [
    "# 데이터 로드 및 원하는 자료구조로 편성 → 함수\n",
    "( dev_data, y_dev, dev_users, dev_items ) = loadData('ua.base')\n",
    "dev_data[:5], y_dev[:5], len(dev_users), len(dev_items)"
   ]
  },
  {
   "cell_type": "code",
   "execution_count": 59,
   "metadata": {},
   "outputs": [
    {
     "data": {
      "text/plain": [
       "([{'uid': '1', 'mid': '20'},\n",
       "  {'uid': '1', 'mid': '33'},\n",
       "  {'uid': '1', 'mid': '61'},\n",
       "  {'uid': '1', 'mid': '117'},\n",
       "  {'uid': '1', 'mid': '155'}],\n",
       " array([4., 4., 4., 3., 2.]),\n",
       " 943,\n",
       " 1129)"
      ]
     },
     "execution_count": 59,
     "metadata": {},
     "output_type": "execute_result"
    }
   ],
   "source": [
    "( test_data, y_test, test_users, test_items ) = loadData('ua.test')\n",
    "test_data[:5], y_test[:5], len(test_users), len(test_items)"
   ]
  },
  {
   "cell_type": "code",
   "execution_count": 60,
   "metadata": {},
   "outputs": [
    {
     "data": {
      "text/plain": [
       "array([[1., 0., 0., ..., 0., 0., 0.],\n",
       "       [0., 0., 0., ..., 0., 0., 0.],\n",
       "       [0., 0., 0., ..., 0., 0., 0.],\n",
       "       ...,\n",
       "       [0., 0., 0., ..., 0., 0., 0.],\n",
       "       [0., 0., 0., ..., 0., 0., 0.],\n",
       "       [0., 0., 0., ..., 0., 0., 0.]])"
      ]
     },
     "execution_count": 60,
     "metadata": {},
     "output_type": "execute_result"
    }
   ],
   "source": [
    "# dev_data 벡터화 : X_dev(변수명)\n",
    "v = DictVectorizer()\n",
    "# 훈련용 데이터의 벡터화\n",
    "X_dev = v.fit_transform(dev_data)\n",
    "X_dev.toarray()"
   ]
  },
  {
   "cell_type": "code",
   "execution_count": 61,
   "metadata": {},
   "outputs": [
    {
     "data": {
      "text/plain": [
       "(90570, 2623)"
      ]
     },
     "execution_count": 61,
     "metadata": {},
     "output_type": "execute_result"
    }
   ],
   "source": [
    "X_dev.shape"
   ]
  },
  {
   "cell_type": "code",
   "execution_count": 62,
   "metadata": {},
   "outputs": [],
   "source": [
    "# 테스트용 데이터의 벡터화\n",
    "X_test = v.transform(test_data) "
   ]
  },
  {
   "cell_type": "code",
   "execution_count": 63,
   "metadata": {},
   "outputs": [
    {
     "data": {
      "text/plain": [
       "(9430, 2623)"
      ]
     },
     "execution_count": 63,
     "metadata": {},
     "output_type": "execute_result"
    }
   ],
   "source": [
    "X_test.shape"
   ]
  },
  {
   "cell_type": "code",
   "execution_count": 64,
   "metadata": {},
   "outputs": [
    {
     "data": {
      "text/plain": [
       "1.120180145761465"
      ]
     },
     "execution_count": 64,
     "metadata": {},
     "output_type": "execute_result"
    }
   ],
   "source": [
    "# y_test(평점)의 표준편차 현재값 기억(맨 처음 기준치)\n",
    "# → 이 값을 하이퍼파라미터 튜닝을 통해서 예측을 수행  \n",
    "# → 평균제곱 오차에 대한 값이 이것보다 작아지면 성능이 개선된 것\n",
    "np.std(y_test)"
   ]
  },
  {
   "cell_type": "code",
   "execution_count": 65,
   "metadata": {},
   "outputs": [],
   "source": [
    "# 훈련 → 훈련용 + 검증용 분리\n",
    "# X_dev → 훈련용 → 훈련용, 검증용 분리\n",
    "# X_test → 예측용 및 성능평가 수행\n",
    "from sklearn.model_selection import train_test_split"
   ]
  },
  {
   "cell_type": "code",
   "execution_count": 66,
   "metadata": {},
   "outputs": [],
   "source": [
    "# 실험이나 테스트 수행 시 랜덤값을 지정하면 시드가 고정되서\n",
    "# 항상 같은 분류로 섞인다\n",
    "X_train, X_dev_test, y_train, y_dev_test = train_test_split(X_dev, y_dev, test_size = 0.1, random_state = 42)"
   ]
  },
  {
   "cell_type": "code",
   "execution_count": null,
   "metadata": {},
   "outputs": [],
   "source": [
    "# 데이터 준비 완료"
   ]
  },
  {
   "cell_type": "markdown",
   "metadata": {},
   "source": [
    "- MCMC\n",
    " > - 하이퍼파라미터가 작다  \n",
    " > - 학습 시간이 많이 걸려서, 실시간 처리를 원한다면 SGD를 사용  \n",
    " > - 학습 후 예측을 동시에 수행 → 함수도 제공"
   ]
  },
  {
   "cell_type": "code",
   "execution_count": 93,
   "metadata": {},
   "outputs": [],
   "source": [
    "from sklearn.metrics import mean_squared_error\n",
    "from fastFM import mcmc"
   ]
  },
  {
   "cell_type": "code",
   "execution_count": 94,
   "metadata": {},
   "outputs": [],
   "source": [
    "# 하이퍼파라미터\n",
    "n_iter = 300   # 테스트의 총 시도횟수\n",
    "step_size = 1  # 예측 및 평가 수행시 데이터를 사용하는 간격\n",
    "seed = 123\n",
    "rank = 4"
   ]
  },
  {
   "cell_type": "code",
   "execution_count": 95,
   "metadata": {},
   "outputs": [],
   "source": [
    "# mcmc 알고리즘 생성\n",
    "fm = mcmc.FMRegression( n_iter=0, rank = rank, random_state = seed ) "
   ]
  },
  {
   "cell_type": "code",
   "execution_count": 96,
   "metadata": {
    "scrolled": true
   },
   "outputs": [
    {
     "data": {
      "text/plain": [
       "array([0., 0., 0., ..., 0., 0., 0.])"
      ]
     },
     "execution_count": 96,
     "metadata": {},
     "output_type": "execute_result"
    }
   ],
   "source": [
    "# 학습 및 예측\n",
    "fm.fit_predict( X_train, y_train, X_dev_test )"
   ]
  },
  {
   "cell_type": "code",
   "execution_count": 97,
   "metadata": {},
   "outputs": [],
   "source": [
    "# 하이퍼파라미터 값들을 받을 배열\n",
    "hyper_params_storage = np.zeros( (n_iter, (3 + 2*rank)), dtype=np.float64 )"
   ]
  },
  {
   "cell_type": "code",
   "execution_count": 98,
   "metadata": {},
   "outputs": [
    {
     "name": "stdout",
     "output_type": "stream",
     "text": [
      "[ 7.29936807e-02  1.01534507e+02  1.09545845e+02  1.00682624e+02\n",
      "  9.07375308e+01  1.01817181e+02  1.43406954e-03 -1.17820912e-03\n",
      " -2.64130136e-04 -1.52355401e-03 -1.94369678e-03] <class 'numpy.ndarray'> (11,)\n",
      "[ 8.36490856e-01  1.00123392e+02  1.05959358e+02  9.41424772e+01\n",
      "  8.48872557e+01  9.63430325e+01 -1.97714841e-03 -1.57690950e-03\n",
      "  6.35869726e-04 -3.12144587e-03 -2.98777035e-03] <class 'numpy.ndarray'> (11,)\n",
      "[ 1.02700665e+00  3.23757929e+01  1.01870475e+02  9.20991603e+01\n",
      "  8.16298813e+01  9.22876603e+01 -7.80849132e-03 -6.54788806e-03\n",
      "  1.30186941e-03 -1.33292961e-03 -3.37801855e-03] <class 'numpy.ndarray'> (11,)\n",
      "[ 1.11296461e+00  1.24257802e+01  1.00969880e+02  8.78492782e+01\n",
      "  8.14037474e+01  8.35890933e+01 -3.60037498e-02 -4.29896035e-03\n",
      "  5.23633472e-03  2.54055699e-03 -3.26100245e-03] <class 'numpy.ndarray'> (11,)\n",
      "[ 1.15833652e+00  6.99396391e+00  9.90697250e+01  8.56177836e+01\n",
      "  8.08977017e+01  7.68142612e+01 -5.06494647e-02  9.64403894e-04\n",
      "  7.33988909e-03  6.68585270e-04  6.23401524e-04] <class 'numpy.ndarray'> (11,)\n",
      "[ 1.17739514e+00  5.06085027e+00  9.90995026e+01  8.74856741e+01\n",
      "  7.36044323e+01  7.73558549e+01 -7.39532108e-02  1.61133358e-03\n",
      "  8.94782586e-03  3.89742969e-03  2.43497681e-03] <class 'numpy.ndarray'> (11,)\n",
      "[ 1.17828984e+00  4.37248296e+00  9.76007549e+01  8.57505712e+01\n",
      "  7.13411105e+01  7.26796644e+01 -1.07619256e-01  2.01683417e-03\n",
      "  8.09836720e-03  3.58386936e-03  3.23320485e-03] <class 'numpy.ndarray'> (11,)\n",
      "[ 1.18609944e+00  4.04277534e+00  9.90905447e+01  8.12515608e+01\n",
      "  6.76887043e+01  7.17928031e+01 -1.19449808e-01 -9.07817220e-04\n",
      "  5.40546909e-03  3.05576264e-03  2.90861099e-03] <class 'numpy.ndarray'> (11,)\n",
      "[ 1.16276263e+00  4.29115658e+00  9.18015326e+01  7.60181963e+01\n",
      "  6.04036715e+01  7.33724192e+01 -1.20022252e-01 -1.48021545e-03\n",
      " -4.99391642e-04 -9.66665859e-04  4.12940573e-03] <class 'numpy.ndarray'> (11,)\n",
      "[ 1.17474193e+00  4.09064072e+00  9.30210890e+01  7.23280362e+01\n",
      "  5.91281207e+01  7.73108138e+01 -1.11855525e-01 -2.48676324e-03\n",
      " -2.09199773e-03 -9.04154527e-03  6.83036329e-03] <class 'numpy.ndarray'> (11,)\n",
      "[ 1.17351329e+00  3.90373653e+00  9.89015706e+01  7.32816197e+01\n",
      "  5.95804318e+01  7.75600875e+01 -1.05528558e-01 -6.35067049e-03\n",
      "  6.58259318e-05 -6.72327495e-03  1.95025035e-03] <class 'numpy.ndarray'> (11,)\n",
      "[ 1.16701279e+00  4.21134626e+00  9.43533807e+01  7.31139150e+01\n",
      "  5.70322241e+01  6.99153708e+01 -1.09748544e-01 -5.17316607e-03\n",
      " -1.07811211e-02 -5.85963165e-03  1.12877000e-03] <class 'numpy.ndarray'> (11,)\n",
      "[ 1.17788280e+00  4.06711454e+00  8.96488149e+01  6.91540909e+01\n",
      "  5.59794284e+01  6.65682799e+01 -9.68841701e-02 -1.14661020e-02\n",
      " -3.43835084e-03 -1.35353890e-02  5.02355990e-03] <class 'numpy.ndarray'> (11,)\n",
      "[ 1.16328388e+00  3.84211388e+00  8.31246579e+01  6.86426251e+01\n",
      "  5.36665702e+01  6.31546581e+01 -1.14692370e-01 -1.43439669e-02\n",
      " -1.92154978e-03 -6.01231574e-03  3.74754528e-03] <class 'numpy.ndarray'> (11,)\n",
      "[ 1.16574266e+00  4.18955555e+00  7.31509338e+01  6.64501154e+01\n",
      "  5.20002562e+01  6.32494150e+01 -1.20533133e-01 -1.73543886e-02\n",
      " -9.14108344e-03 -8.34682227e-03  5.24385628e-03] <class 'numpy.ndarray'> (11,)\n",
      "[ 1.16562655e+00  4.20639752e+00  6.76116771e+01  6.94164288e+01\n",
      "  5.12613041e+01  6.25838139e+01 -1.21366509e-01 -2.26893550e-02\n",
      " -1.12635249e-02 -5.69857406e-03  4.83290119e-03] <class 'numpy.ndarray'> (11,)\n",
      "[ 1.16495579e+00  3.80918579e+00  6.41226019e+01  6.92530468e+01\n",
      "  4.88880028e+01  6.00079885e+01 -1.16283410e-01 -2.62951306e-02\n",
      " -1.06505243e-02  1.56829635e-03  5.27541762e-03] <class 'numpy.ndarray'> (11,)\n",
      "[ 1.17845826e+00  3.93001168e+00  6.13246522e+01  6.29761971e+01\n",
      "  4.94271817e+01  5.93516441e+01 -9.44660475e-02 -3.44334469e-02\n",
      " -1.10426362e-02 -6.02205584e-03  9.46788915e-03] <class 'numpy.ndarray'> (11,)\n",
      "[ 1.16912731e+00  4.07675375e+00  5.95882631e+01  6.23299667e+01\n",
      "  4.98420964e+01  5.40850203e+01 -1.11727981e-01 -3.58854563e-02\n",
      " -1.70019046e-02 -3.13026447e-03  6.15816123e-03] <class 'numpy.ndarray'> (11,)\n",
      "[ 1.17310756e+00  3.92368220e+00  5.93757238e+01  6.49173554e+01\n",
      "  4.72817831e+01  5.19897020e+01 -1.04619228e-01 -3.95144364e-02\n",
      " -9.40563185e-03 -6.49697661e-03  4.19852840e-03] <class 'numpy.ndarray'> (11,)\n",
      "[ 1.17475617e+00  4.19155388e+00  5.76492251e+01  6.51274180e+01\n",
      "  4.50971243e+01  5.07637376e+01 -1.01907685e-01 -3.90205032e-02\n",
      " -1.86630485e-02 -1.17255711e-02  7.89407319e-03] <class 'numpy.ndarray'> (11,)\n",
      "[ 1.16508679e+00  4.24271362e+00  5.84242449e+01  6.02698101e+01\n",
      "  4.52700840e+01  5.24432646e+01 -1.12145292e-01 -4.03963341e-02\n",
      " -2.56781894e-02 -1.15325228e-02  5.20249278e-03] <class 'numpy.ndarray'> (11,)\n",
      "[ 1.18842221e+00  3.89967483e+00  5.97592304e+01  5.48807793e+01\n",
      "  4.13784571e+01  5.33645729e+01 -1.10237931e-01 -4.42335772e-02\n",
      " -2.74158201e-02 -1.38172535e-02  9.75028269e-03] <class 'numpy.ndarray'> (11,)\n",
      "[ 1.18324614e+00  4.02518006e+00  5.73257343e+01  5.47552575e+01\n",
      "  3.74911741e+01  5.27802743e+01 -1.14774502e-01 -4.29371323e-02\n",
      " -3.27381807e-02 -1.46125810e-02  1.26529814e-02] <class 'numpy.ndarray'> (11,)\n",
      "[ 1.18746845e+00  4.03481446e+00  5.87272080e+01  5.57685697e+01\n",
      "  3.62645902e+01  5.29116772e+01 -1.01224778e-01 -4.61600466e-02\n",
      " -3.39588336e-02 -9.77193242e-03  9.62096158e-03] <class 'numpy.ndarray'> (11,)\n",
      "[ 1.18308610e+00  4.24743071e+00  6.11245020e+01  5.59493753e+01\n",
      "  3.54067864e+01  5.12719457e+01 -8.77473114e-02 -4.30085069e-02\n",
      " -3.02150446e-02 -1.59926730e-02  1.19809068e-02] <class 'numpy.ndarray'> (11,)\n",
      "[ 1.17627245e+00  4.24602585e+00  6.10476890e+01  5.57865004e+01\n",
      "  3.28257623e+01  4.90809958e+01 -1.05958816e-01 -4.08303834e-02\n",
      " -2.31820392e-02 -1.27831221e-02  1.42330914e-02] <class 'numpy.ndarray'> (11,)\n",
      "[ 1.18089824e+00  4.09925227e+00  6.02890259e+01  5.30043537e+01\n",
      "  3.04891382e+01  4.45931083e+01 -9.37904795e-02 -4.64521986e-02\n",
      " -2.45639586e-02 -7.77679279e-03  1.52705238e-02] <class 'numpy.ndarray'> (11,)\n",
      "[ 1.18552244e+00  4.24503989e+00  6.15481223e+01  5.09557318e+01\n",
      "  2.72340466e+01  4.17490826e+01 -1.16244160e-01 -4.52406298e-02\n",
      " -2.33564116e-02 -8.89313618e-03  1.49902843e-02] <class 'numpy.ndarray'> (11,)\n",
      "[ 1.17992785e+00  4.10940905e+00  6.23985713e+01  5.25019850e+01\n",
      "  2.30018348e+01  4.20068016e+01 -1.03270779e-01 -4.32892717e-02\n",
      " -2.22300389e-02 -1.35800616e-02  1.71496119e-02] <class 'numpy.ndarray'> (11,)\n",
      "[ 1.18867148e+00  4.14027970e+00  5.83965730e+01  4.89028713e+01\n",
      "  1.87313661e+01  4.06064704e+01 -1.10653240e-01 -4.13054827e-02\n",
      " -2.36285138e-02 -1.68978903e-02  1.51495613e-02] <class 'numpy.ndarray'> (11,)\n",
      "[ 1.20784003e+00  4.27644676e+00  6.26637995e+01  5.10521248e+01\n",
      "  1.25284953e+01  3.96869861e+01 -9.13765855e-02 -3.87618770e-02\n",
      " -2.49355541e-02 -2.71386103e-02  1.21801820e-02] <class 'numpy.ndarray'> (11,)\n",
      "[ 1.23873325e+00  4.44990365e+00  6.13203195e+01  4.81171614e+01\n",
      "  8.26193657e+00  3.78724560e+01 -1.14329349e-01 -3.89100321e-02\n",
      " -2.37158217e-02 -3.07269784e-02  9.64640006e-03] <class 'numpy.ndarray'> (11,)\n",
      "[ 1.25664131e+00  4.17765778e+00  5.92687284e+01  4.82361422e+01\n",
      "  5.96037290e+00  3.66985349e+01 -9.22060360e-02 -4.50317555e-02\n",
      " -2.20693821e-02 -1.58942712e-02  7.94081883e-03] <class 'numpy.ndarray'> (11,)\n",
      "[ 1.26259225e+00  4.29719197e+00  5.98861888e+01  4.62613216e+01\n",
      "  5.09335751e+00  3.37487960e+01 -1.03656425e-01 -4.18908478e-02\n",
      " -1.67933714e-02 -1.35514330e-02  8.98831217e-03] <class 'numpy.ndarray'> (11,)\n",
      "[ 1.27413232e+00  4.32571103e+00  5.94743424e+01  4.56721202e+01\n",
      "  4.50157952e+00  3.14561488e+01 -8.47270296e-02 -3.53612814e-02\n",
      " -1.41955619e-02 -3.85684051e-02  1.45572435e-02] <class 'numpy.ndarray'> (11,)\n",
      "[ 1.28467112e+00  4.17415288e+00  6.03716087e+01  4.73236972e+01\n",
      "  3.81155172e+00  3.21547147e+01 -8.98868574e-02 -3.47794050e-02\n",
      " -1.21445761e-02 -2.48305617e-02  1.67449740e-02] <class 'numpy.ndarray'> (11,)\n",
      "[ 1.28544414e+00  4.14278762e+00  6.02719040e+01  4.69244173e+01\n",
      "  3.54514961e+00  3.01921795e+01 -1.15086678e-01 -3.44872608e-02\n",
      " -1.34873495e-02 -4.05447447e-02  1.80454799e-02] <class 'numpy.ndarray'> (11,)\n",
      "[ 1.29471159e+00  4.05102142e+00  6.18558949e+01  4.47447124e+01\n",
      "  3.31106099e+00  2.97604774e+01 -1.22913797e-01 -3.89595343e-02\n",
      " -1.70826668e-02 -4.00534711e-02  1.75476166e-02] <class 'numpy.ndarray'> (11,)\n",
      "[ 1.26810403e+00  4.43920573e+00  5.81169145e+01  4.24815296e+01\n",
      "  3.12297683e+00  3.08295270e+01 -1.19865927e-01 -3.96530576e-02\n",
      " -2.49598471e-02 -6.72388195e-02  1.82673083e-02] <class 'numpy.ndarray'> (11,)\n",
      "[ 1.28007515e+00  4.28805530e+00  5.98805460e+01  4.10893553e+01\n",
      "  3.23835107e+00  3.24952353e+01 -1.11849797e-01 -4.07014266e-02\n",
      " -2.67627500e-02 -9.84953035e-02  2.29033418e-02] <class 'numpy.ndarray'> (11,)\n",
      "[ 1.27931407e+00  4.11264396e+00  6.42465235e+01  4.23221288e+01\n",
      "  3.22174596e+00  3.27145542e+01 -1.07755529e-01 -4.55544625e-02\n",
      " -2.38784937e-02 -7.75895377e-02  1.45012452e-02] <class 'numpy.ndarray'> (11,)\n",
      "[ 1.27251501e+00  4.44321943e+00  6.20646010e+01  4.28247708e+01\n",
      "  3.33743579e+00  2.93933457e+01 -1.11187179e-01 -4.39787310e-02\n",
      " -3.80792207e-02 -6.99467597e-02  1.33395406e-02] <class 'numpy.ndarray'> (11,)\n",
      "[ 1.28518280e+00  4.32448812e+00  5.99986961e+01  4.06392624e+01\n",
      "  3.36075554e+00  2.75527880e+01 -9.68721037e-02 -5.14617353e-02\n",
      " -2.80111452e-02 -9.01552134e-02  1.97822241e-02] <class 'numpy.ndarray'> (11,)\n",
      "[ 1.26928184e+00  4.07892839e+00  5.60956621e+01  4.07591714e+01\n",
      "  3.34689934e+00  2.61154261e+01 -1.14077966e-01 -5.48341290e-02\n",
      " -2.61729858e-02 -6.41529220e-02  1.60450119e-02] <class 'numpy.ndarray'> (11,)\n",
      "[ 1.27383031e+00  4.50375361e+00  4.99032366e+01  3.95921841e+01\n",
      "  3.17716276e+00  2.59160750e+01 -1.19079233e-01 -5.81691197e-02\n",
      " -3.51571446e-02 -8.51433955e-02  1.93738853e-02] <class 'numpy.ndarray'> (11,)\n",
      "[ 1.27387495e+00  4.54852596e+00  4.67150016e+01  4.16390823e+01\n",
      "  3.17471262e+00  2.50313117e+01 -1.20229049e-01 -6.41975292e-02\n",
      " -3.72872360e-02 -8.62067106e-02  1.86675008e-02] <class 'numpy.ndarray'> (11,)\n",
      "[ 1.27566619e+00  4.05772470e+00  4.31714940e+01  4.02219853e+01\n",
      "  2.98639504e+00  2.12437288e+01 -1.15263396e-01 -6.93891011e-02\n",
      " -3.70924373e-02 -6.98478853e-02  2.12116184e-02] <class 'numpy.ndarray'> (11,)\n",
      "[ 1.29327881e+00  4.25943173e+00  4.15650271e+01  3.64275043e+01\n",
      "  3.06811427e+00  1.93254772e+01 -9.44899464e-02 -7.92908472e-02\n",
      " -3.73335220e-02 -1.19025328e-01  3.00990789e-02] <class 'numpy.ndarray'> (11,)\n",
      "[ 1.28429617e+00  4.45032710e+00  4.04509280e+01  3.60004598e+01\n",
      "  3.28511544e+00  1.64626351e+01 -1.11035445e-01 -8.09559738e-02\n",
      " -4.59611202e-02 -1.10539439e-01  2.36615933e-02] <class 'numpy.ndarray'> (11,)\n",
      "[ 1.29343990e+00  4.31140357e+00  4.05202027e+01  3.77413845e+01\n",
      "  3.18699023e+00  1.43772743e+01 -1.03664527e-01 -8.50224828e-02\n",
      " -3.56318385e-02 -1.14827294e-01  2.23856763e-02] <class 'numpy.ndarray'> (11,)\n",
      "[ 1.30301595e+00  4.61293636e+00  3.97211892e+01  3.78226332e+01\n",
      "  3.22703901e+00  1.21800052e+01 -1.00705564e-01 -8.44102735e-02\n",
      " -4.83256249e-02 -1.40903181e-01  3.27653966e-02] <class 'numpy.ndarray'> (11,)\n",
      "[ 1.29897213e+00  4.76376043e+00  4.05685239e+01  3.49919169e+01\n",
      "  3.12927400e+00  1.07635152e+01 -1.08946295e-01 -8.53784597e-02\n",
      " -5.72997305e-02 -1.37787401e-01  2.68131177e-02] <class 'numpy.ndarray'> (11,)\n",
      "[ 1.32674161e+00  4.34993055e+00  4.14792796e+01  3.24302013e+01\n",
      "  3.06091038e+00  9.46738182e+00 -1.06438897e-01 -8.95791717e-02\n",
      " -5.88147092e-02 -1.36579595e-01  3.91360204e-02] <class 'numpy.ndarray'> (11,)\n",
      "[ 1.32339468e+00  4.47807954e+00  3.99641544e+01  3.27470383e+01\n",
      "  3.03373888e+00  8.55925370e+00 -1.11796697e-01 -8.81367737e-02\n",
      " -6.58557545e-02 -1.38834406e-01  3.37556812e-02] <class 'numpy.ndarray'> (11,)\n",
      "[ 1.33200710e+00  4.52903688e+00  4.08894736e+01  3.31567400e+01\n",
      "  3.06934807e+00  8.07175469e+00 -9.89229100e-02 -9.24268931e-02\n",
      " -6.70525040e-02 -1.13262476e-01  2.87142199e-02] <class 'numpy.ndarray'> (11,)\n",
      "[ 1.32733931e+00  4.75822661e+00  4.26601256e+01  3.32048077e+01\n",
      "  3.21709892e+00  7.40747924e+00 -8.25004206e-02 -8.84855408e-02\n",
      " -6.23527424e-02 -1.49505554e-01  3.76603899e-02] <class 'numpy.ndarray'> (11,)\n",
      "[ 1.32059920e+00  4.79281048e+00  4.28917149e+01  3.33187559e+01\n",
      "  3.16763027e+00  6.82858864e+00 -1.00894567e-01 -8.63913585e-02\n",
      " -5.30894210e-02 -1.28961472e-01  3.82792256e-02] <class 'numpy.ndarray'> (11,)\n",
      "[ 1.32439225e+00  4.68155291e+00  4.24853845e+01  3.15406946e+01\n",
      "  3.13959291e+00  6.29298035e+00 -8.90563904e-02 -9.42147926e-02\n",
      " -5.54545013e-02 -1.25709131e-01  3.29323741e-02] <class 'numpy.ndarray'> (11,)\n",
      "[ 1.32752091e+00  4.84062096e+00  4.37776610e+01  3.04733891e+01\n",
      "  3.14130161e+00  6.05014342e+00 -1.08482615e-01 -9.24291899e-02\n",
      " -5.41328101e-02 -1.49435174e-01  3.62762190e-02] <class 'numpy.ndarray'> (11,)\n",
      "[ 1.32204225e+00  4.68764160e+00  4.44796083e+01  3.16353977e+01\n",
      "  3.02689353e+00  6.14519150e+00 -9.71697168e-02 -8.95499623e-02\n",
      " -5.28169157e-02 -1.58226457e-01  3.71534172e-02] <class 'numpy.ndarray'> (11,)\n",
      "[ 1.32151497e+00  4.77234750e+00  4.19001587e+01  2.95990766e+01\n",
      "  3.21316283e+00  5.91290981e+00 -1.05340031e-01 -8.73041089e-02\n",
      " -5.49290612e-02 -1.59572741e-01  2.99241660e-02] <class 'numpy.ndarray'> (11,)\n",
      "[ 1.32419813e+00  4.92548979e+00  4.49682185e+01  3.11317653e+01\n",
      "  2.98887266e+00  5.85135773e+00 -8.76281029e-02 -8.49665618e-02\n",
      " -5.76152518e-02 -1.67652668e-01  2.10349525e-02] <class 'numpy.ndarray'> (11,)\n",
      "[ 1.33507937e+00  5.10891296e+00  4.38226350e+01  2.87777008e+01\n",
      "  2.90780777e+00  5.37645820e+00 -1.08189776e-01 -8.52522260e-02\n",
      " -5.65651997e-02 -1.71459323e-01  1.79198018e-02] <class 'numpy.ndarray'> (11,)\n",
      "[ 1.33428731e+00  4.80741890e+00  4.21294948e+01  2.88926768e+01\n",
      "  2.90519977e+00  5.30594736e+00 -8.95180499e-02 -9.17248664e-02\n",
      " -5.44999248e-02 -1.39813963e-01  9.29715703e-03] <class 'numpy.ndarray'> (11,)\n",
      "[ 1.32804745e+00  4.97417570e+00  4.26451962e+01  2.73526921e+01\n",
      "  3.21066488e+00  5.13846121e+00 -9.97703010e-02 -8.74371335e-02\n",
      " -4.70772016e-02 -1.30355476e-01  2.05717680e-02] <class 'numpy.ndarray'> (11,)\n",
      "[ 1.33394539e+00  4.94621377e+00  4.25930926e+01  2.67624038e+01\n",
      "  3.32263883e+00  5.13542857e+00 -8.06941268e-02 -8.01469234e-02\n",
      " -4.42181216e-02 -1.60236955e-01  2.55099554e-02] <class 'numpy.ndarray'> (11,)\n",
      "[ 1.34541082e+00  4.76776174e+00  4.34363517e+01  2.74077060e+01\n",
      "  3.07486799e+00  5.26669349e+00 -8.19942265e-02 -7.99927244e-02\n",
      " -4.19251673e-02 -1.41490616e-01  2.37123195e-02] <class 'numpy.ndarray'> (11,)\n",
      "[ 1.34048417e+00  4.77172987e+00  4.34728953e+01  2.68774458e+01\n",
      "  3.04924672e+00  5.12430325e+00 -1.03182098e-01 -8.00236620e-02\n",
      " -4.38408185e-02 -1.55303209e-01  2.51520951e-02] <class 'numpy.ndarray'> (11,)\n",
      "[ 1.34869358e+00  4.65429806e+00  4.48501719e+01  2.54695314e+01\n",
      "  2.96280243e+00  5.26543851e+00 -1.09472898e-01 -8.62092605e-02\n",
      " -4.86407581e-02 -1.54527253e-01  2.13996396e-02] <class 'numpy.ndarray'> (11,)\n",
      "[ 1.31979523e+00  5.13590730e+00  4.24539051e+01  2.41970560e+01\n",
      "  2.87335143e+00  5.50716474e+00 -1.03103899e-01 -8.69491936e-02\n",
      " -5.85564012e-02 -1.78413902e-01  3.23533664e-03] <class 'numpy.ndarray'> (11,)\n",
      "[ 1.33328135e+00  4.92597484e+00  4.41226687e+01  2.31305761e+01\n",
      "  3.03000475e+00  5.74112087e+00 -9.69777866e-02 -8.75254462e-02\n",
      " -6.01591792e-02 -2.06343196e-01  9.39051689e-03] <class 'numpy.ndarray'> (11,)\n",
      "[ 1.33410150e+00  4.64447220e+00  4.76969262e+01  2.36628169e+01\n",
      "  3.04540819e+00  5.41874678e+00 -9.27501786e-02 -9.29484946e-02\n",
      " -5.52639725e-02 -1.86201230e-01 -1.82610521e-02] <class 'numpy.ndarray'> (11,)\n",
      "[ 1.32892752e+00  5.04735262e+00  4.62820082e+01  2.37758577e+01\n",
      "  3.14649480e+00  4.77854943e+00 -9.41513049e-02 -9.08014701e-02\n",
      " -7.39008546e-02 -1.70318367e-01 -1.52636773e-02] <class 'numpy.ndarray'> (11,)\n",
      "[ 1.33785007e+00  4.89038958e+00  4.54327082e+01  2.18404889e+01\n",
      "  3.23279347e+00  4.90664392e+00 -7.98797123e-02 -9.89513079e-02\n",
      " -5.90516856e-02 -1.86853517e-01  5.76905231e-03] <class 'numpy.ndarray'> (11,)\n",
      "[ 1.32153260e+00  4.58301043e+00  4.26363630e+01  2.14534694e+01\n",
      "  3.24251004e+00  4.98603104e+00 -9.50513569e-02 -1.02429442e-01\n",
      " -5.79241249e-02 -1.57373987e-01 -1.28973002e-02] <class 'numpy.ndarray'> (11,)\n",
      "[ 1.32770089e+00  5.03831753e+00  3.81922981e+01  2.04762899e+01\n",
      "  3.10082978e+00  5.13302928e+00 -1.02014804e-01 -1.05731431e-01\n",
      " -7.06323749e-02 -1.73112819e-01 -6.22326737e-03] <class 'numpy.ndarray'> (11,)\n",
      "[ 1.32885120e+00  5.07665582e+00  3.60791633e+01  2.06524378e+01\n",
      "  3.11141190e+00  5.03792856e+00 -1.02459356e-01 -1.11969966e-01\n",
      " -7.21367497e-02 -1.71543451e-01 -1.27769750e-02] <class 'numpy.ndarray'> (11,)\n",
      "[ 1.32837730e+00  4.40582180e+00  3.20270736e+01  1.77930739e+01\n",
      "  2.90318399e+00  4.57734035e+00 -9.74227883e-02 -1.19410823e-01\n",
      " -7.27411543e-02 -1.53653255e-01 -1.14094700e-02] <class 'numpy.ndarray'> (11,)\n",
      "[ 1.34417540e+00  4.62778259e+00  3.07108058e+01  1.51925825e+01\n",
      "  2.99573416e+00  4.74180094e+00 -7.67322533e-02 -1.31005775e-01\n",
      " -7.41598702e-02 -1.99103138e-01  5.38131357e-03] <class 'numpy.ndarray'> (11,)\n",
      "[ 1.33545958e+00  4.89687140e+00  2.96529675e+01  1.45308736e+01\n",
      "  3.21009721e+00  4.62580908e+00 -9.19595501e-02 -1.32393922e-01\n",
      " -8.86456993e-02 -1.87839931e-01 -1.14265746e-02] <class 'numpy.ndarray'> (11,)\n",
      "[ 1.34195637e+00  4.73627420e+00  2.97859244e+01  1.45719907e+01\n",
      "  3.15714890e+00  4.77371207e+00 -8.68263566e-02 -1.37063591e-01\n",
      " -7.09608127e-02 -1.89689361e-01 -1.21446422e-02] <class 'numpy.ndarray'> (11,)\n",
      "[ 1.35141576e+00  5.05295544e+00  2.92638663e+01  1.33327404e+01\n",
      "  3.18091782e+00  4.75792465e+00 -8.30172975e-02 -1.36409017e-01\n",
      " -9.47360532e-02 -2.12982636e-01  1.48093278e-03] <class 'numpy.ndarray'> (11,)\n",
      "[ 1.34485067e+00  5.21120568e+00  3.01888893e+01  1.14543121e+01\n",
      "  3.10714596e+00  4.80419692e+00 -9.21880177e-02 -1.36547907e-01\n",
      " -1.09560847e-01 -2.10910628e-01 -1.66677652e-02] <class 'numpy.ndarray'> (11,)\n",
      "[ 1.37169143e+00  4.75215186e+00  3.09237531e+01  9.81494097e+00\n",
      "  3.04166975e+00  4.96734409e+00 -9.04122863e-02 -1.40282802e-01\n",
      " -1.10390881e-01 -2.05316074e-01 -7.95473819e-03] <class 'numpy.ndarray'> (11,)\n",
      "[ 1.37113287e+00  4.85903366e+00  2.98273826e+01  9.22178153e+00\n",
      "  3.04181062e+00  4.99758433e+00 -9.55502327e-02 -1.38794793e-01\n",
      " -1.19932027e-01 -2.06336404e-01 -2.32389095e-02] <class 'numpy.ndarray'> (11,)\n",
      "[ 1.38185888  4.93918886 30.43103798  8.59657691  3.05797321  5.29212898\n",
      " -0.08385811 -0.1441011  -0.11400595 -0.17936961 -0.0315819 ] <class 'numpy.ndarray'> (11,)\n",
      "[ 1.37641492e+00  5.18513507e+00  3.17240007e+01  8.00840778e+00\n",
      "  3.20759129e+00  5.17525725e+00 -6.60813306e-02 -1.39019375e-01\n",
      " -1.09697500e-01 -2.13612645e-01 -2.18335224e-02] <class 'numpy.ndarray'> (11,)\n",
      "[ 1.37085328e+00  5.20067140e+00  3.18361877e+01  7.49350833e+00\n",
      "  3.17197214e+00  4.96749412e+00 -8.40880502e-02 -1.37191984e-01\n",
      " -9.52626752e-02 -1.91858442e-01 -2.45148043e-02] <class 'numpy.ndarray'> (11,)\n",
      "[ 1.37523604  5.04096138 31.57326528  6.96059163  3.14603564  4.77189443\n",
      " -0.0723525  -0.14756965 -0.10525851 -0.19154578 -0.03725008] <class 'numpy.ndarray'> (11,)\n",
      "[ 1.37957331  5.18168424 32.65141024  6.6054909   3.15317579  4.74122759\n",
      " -0.09162125 -0.14555004 -0.09935993 -0.21364278 -0.03359501] <class 'numpy.ndarray'> (11,)\n",
      "[ 1.37410228  5.01608427 33.40394424  6.76657176  3.04234536  5.00329184\n",
      " -0.08108303 -0.14110494 -0.10324526 -0.2226248  -0.03489419] <class 'numpy.ndarray'> (11,)\n",
      "[ 1.37370491  5.13933307 31.54773383  6.26875043  3.22960725  4.87151446\n",
      " -0.08953025 -0.13864794 -0.10524611 -0.22257546 -0.04133405] <class 'numpy.ndarray'> (11,)\n",
      "[ 1.37676333  5.31047224 33.58891555  6.55294573  3.00057012  4.84928716\n",
      " -0.07295317 -0.13704046 -0.10896739 -0.22984258 -0.04986833] <class 'numpy.ndarray'> (11,)\n",
      "[ 1.38768759  5.45082035 31.97888099  5.89522973  2.92138809  4.51307294\n",
      " -0.09293518 -0.13783918 -0.10689642 -0.2334151  -0.0499882 ] <class 'numpy.ndarray'> (11,)\n",
      "[ 1.38666328  5.11141826 30.56539069  5.93342334  2.93479554  4.49976648\n",
      " -0.07540125 -0.14413912 -0.11159655 -0.20035692 -0.06017335] <class 'numpy.ndarray'> (11,)\n",
      "[ 1.37965849  5.2850559  30.7717717   5.77763504  3.24288976  4.44955238\n",
      " -0.08581306 -0.13820166 -0.09642723 -0.18832957 -0.04862871] <class 'numpy.ndarray'> (11,)\n",
      "[ 1.38497864  5.2364064  30.79914217  5.76026645  3.36601777  4.5738771\n",
      " -0.06647439 -0.13003157 -0.09765195 -0.2181514  -0.04463195] <class 'numpy.ndarray'> (11,)\n",
      "[ 1.39717205  5.04609326 31.24422469  5.89395989  3.13349185  4.7377924\n",
      " -0.06712122 -0.13083563 -0.09979576 -0.19750013 -0.04442521] <class 'numpy.ndarray'> (11,)\n",
      "[ 1.39368416  5.04269265 31.10030885  5.69950054  3.12832622  4.66759123\n",
      " -0.08573696 -0.13140142 -0.10746306 -0.21019112 -0.04247534] <class 'numpy.ndarray'> (11,)\n",
      "[ 1.40284544  4.94321245 32.2299103   5.39819677  3.01355636  4.8320051\n",
      " -0.09116847 -0.13998006 -0.10980186 -0.20848642 -0.04458543] <class 'numpy.ndarray'> (11,)\n",
      "[ 1.37245801  5.49557614 30.88023545  5.13982681  2.95005926  5.04549676\n",
      " -0.08440317 -0.14097233 -0.12181043 -0.2302128  -0.06194532] <class 'numpy.ndarray'> (11,)\n",
      "[ 1.38495869  5.29005387 32.23258791  5.11896835  3.12502113  5.31645965\n",
      " -0.07823812 -0.14051382 -0.11478797 -0.25345882 -0.05222403] <class 'numpy.ndarray'> (11,)\n",
      "[ 1.3876564   4.99147251 35.09155298  5.35368745  3.12841313  5.07303195\n",
      " -0.07309476 -0.14676157 -0.0942889  -0.23260666 -0.07713647] <class 'numpy.ndarray'> (11,)\n",
      "[ 1.37895749  5.44296287 34.17275773  5.42949172  3.21705448  4.51282671\n",
      " -0.07661814 -0.14366888 -0.12596775 -0.21501933 -0.07076023] <class 'numpy.ndarray'> (11,)\n",
      "[ 1.38593874  5.2629108  33.89278875  5.20438405  3.30921676  4.64503244\n",
      " -0.06312483 -0.15270105 -0.08498649 -0.22971402 -0.04696118] <class 'numpy.ndarray'> (11,)\n",
      "[ 1.36821153  4.93402288 31.82581725  5.38438445  3.31544413  4.72319821\n",
      " -0.07787299 -0.15560279 -0.09101889 -0.19728572 -0.06179157] <class 'numpy.ndarray'> (11,)\n",
      "[ 1.37429517  5.39058527 28.58596718  5.45288962  3.18724296  4.84401597\n",
      " -0.08522427 -0.15842461 -0.12255051 -0.20834902 -0.05410083] <class 'numpy.ndarray'> (11,)\n",
      "[ 1.37617304  5.40414218 27.14954837  5.61965741  3.21196289  4.77946712\n",
      " -0.08406089 -0.16420713 -0.12568272 -0.20558743 -0.0577896 ] <class 'numpy.ndarray'> (11,)\n",
      "[ 1.37130101  4.58354203 22.89079912  5.07210943  2.97559398  4.32293741\n",
      " -0.0786045  -0.17416074 -0.1167044  -0.18643134 -0.05560665] <class 'numpy.ndarray'> (11,)\n",
      "[ 1.38504612  4.80714759 21.52870435  4.91399688  3.05927954  4.52465219\n",
      " -0.0577933  -0.18893356 -0.11153173 -0.22791935 -0.03816329] <class 'numpy.ndarray'> (11,)\n",
      "[ 1.37589245  5.13243814 20.4114522   5.20538385  3.27913647  4.43053015\n",
      " -0.0725418  -0.18854983 -0.13437463 -0.21560079 -0.05106121] <class 'numpy.ndarray'> (11,)\n",
      "[ 1.38103151  4.98244739 20.17031033  5.64224809  3.22889966  4.62903137\n",
      " -0.06934038 -0.1942278  -0.09932466 -0.21709275 -0.04869498] <class 'numpy.ndarray'> (11,)\n",
      "[ 1.3875166   5.33672901 19.51560778  5.69644666  3.25758683  4.64322948\n",
      " -0.06591104 -0.1922428  -0.1385202  -0.23743017 -0.03218797] <class 'numpy.ndarray'> (11,)\n",
      "[ 1.37860229  5.5030735  19.80397428  5.23638752  3.20478791  4.71898721\n",
      " -0.07436189 -0.19148718 -0.15368332 -0.23714396 -0.04776925] <class 'numpy.ndarray'> (11,)\n",
      "[ 1.40391786  5.05006544 19.96687079  4.84029247  3.12846079  4.87280018\n",
      " -0.07280801 -0.19399959 -0.14489876 -0.23196545 -0.03520939] <class 'numpy.ndarray'> (11,)\n",
      "[ 1.39801976  5.14791235 18.98367471  5.00021408  3.14078693  4.96843949\n",
      " -0.07701037 -0.19172526 -0.15397318 -0.23149388 -0.04868693] <class 'numpy.ndarray'> (11,)\n",
      "[ 1.40619938  5.24968561 18.86927999  5.15543913  3.13869294  5.26407364\n",
      " -0.06570637 -0.19823647 -0.14072497 -0.20445089 -0.05295469] <class 'numpy.ndarray'> (11,)\n",
      "[ 1.40030327  5.52075783 18.75447043  5.11189748  3.30202572  5.11696214\n",
      " -0.04757304 -0.18959871 -0.13038098 -0.23692799 -0.03901817] <class 'numpy.ndarray'> (11,)\n",
      "[ 1.39303857  5.53893086 17.73013431  5.13430555  3.24239487  4.87850294\n",
      " -0.06424958 -0.18842238 -0.11303124 -0.21560462 -0.04037347] <class 'numpy.ndarray'> (11,)\n",
      "[ 1.39727986  5.34384485 16.74733279  5.07003886  3.21613376  4.70852942\n",
      " -0.05213454 -0.20385812 -0.12430059 -0.21459332 -0.05050014] <class 'numpy.ndarray'> (11,)\n",
      "[ 1.40265347  5.4605537  15.93007552  5.02911344  3.19700057  4.75062127\n",
      " -0.07100013 -0.20093956 -0.1167321  -0.23627547 -0.04533379] <class 'numpy.ndarray'> (11,)\n",
      "[ 1.39482677  5.28389053 15.64837555  5.40402243  3.09195888  5.00049988\n",
      " -0.06115127 -0.19218131 -0.11969347 -0.24666517 -0.04392233] <class 'numpy.ndarray'> (11,)\n",
      "[ 1.39448063  5.42055813 13.65300196  5.16576288  3.29046399  4.8673694\n",
      " -0.06991005 -0.18757958 -0.1153288  -0.24871272 -0.05095998] <class 'numpy.ndarray'> (11,)\n",
      "[ 1.39889742  5.61827377 13.69754963  5.52238384  3.04583526  4.85746164\n",
      " -0.05348446 -0.18667392 -0.11803999 -0.25731396 -0.05889377] <class 'numpy.ndarray'> (11,)\n",
      "[ 1.41130891  5.70170968 11.77307613  5.0543511   2.97352778  4.51606597\n",
      " -0.0726614  -0.18881471 -0.1105005  -0.2607365  -0.05768892] <class 'numpy.ndarray'> (11,)\n",
      "[ 1.40952007  5.34840448 10.91054853  5.21534604  2.99330208  4.49592096\n",
      " -0.05537488 -0.19872862 -0.11610738 -0.22882866 -0.06664724] <class 'numpy.ndarray'> (11,)\n",
      "[ 1.40608227  5.51550816 10.3817863   5.16247399  3.27128502  4.4465131\n",
      " -0.06550315 -0.18558268 -0.09971445 -0.21668654 -0.05573819] <class 'numpy.ndarray'> (11,)\n",
      "[ 1.41450609  5.43970232  9.95194694  5.21557251  3.4022737   4.54575957\n",
      " -0.04648412 -0.17027393 -0.10053678 -0.24550636 -0.04922451] <class 'numpy.ndarray'> (11,)\n",
      "[ 1.42813842  5.23439225  9.6014633   5.41703579  3.15466785  4.70738694\n",
      " -0.04690438 -0.17524403 -0.10369931 -0.22360519 -0.04747074] <class 'numpy.ndarray'> (11,)\n",
      "[ 1.4265459   5.21034621  9.03711886  5.27849591  3.16866436  4.62857428\n",
      " -0.06464623 -0.17577746 -0.11120033 -0.23537022 -0.04355494] <class 'numpy.ndarray'> (11,)\n",
      "[ 1.43431403  5.11005637  9.18508295  5.01338141  3.02315992  4.90202687\n",
      " -0.07019894 -0.19282079 -0.11286227 -0.23265522 -0.04395765] <class 'numpy.ndarray'> (11,)\n",
      "[ 1.40452366  5.67753585  8.5566095   4.75389654  2.95888748  5.13771528\n",
      " -0.06374919 -0.19333896 -0.12697076 -0.25340998 -0.05918793] <class 'numpy.ndarray'> (11,)\n",
      "[ 1.42006993  5.47566285  8.38979178  4.83775078  3.14365341  5.37993863\n",
      " -0.05827982 -0.1867163  -0.11977232 -0.27728352 -0.04807477] <class 'numpy.ndarray'> (11,)\n",
      "[ 1.42223102  5.15882663  8.81134299  5.10180878  3.15743642  5.16018936\n",
      " -0.0533369  -0.19599652 -0.09698712 -0.25574958 -0.07257465] <class 'numpy.ndarray'> (11,)\n",
      "[ 1.41200246  5.6494123   8.50497201  5.152107    3.25659374  4.59562949\n",
      " -0.05670446 -0.18502983 -0.12930526 -0.2380922  -0.06924018] <class 'numpy.ndarray'> (11,)\n",
      "[ 1.42151007  5.44919376  8.07545455  4.94579188  3.3423275   4.73258746\n",
      " -0.04360762 -0.20152359 -0.08931453 -0.2530083  -0.0473386 ] <class 'numpy.ndarray'> (11,)\n",
      "[ 1.40134405  5.105319    7.65812468  5.1112187   3.33808428  4.8323508\n",
      " -0.05833446 -0.19691973 -0.09666914 -0.21940368 -0.0593202 ] <class 'numpy.ndarray'> (11,)\n",
      "[ 1.40897124  5.58548155  6.8052906   5.22106676  3.19175926  4.94419829\n",
      " -0.06592019 -0.19521482 -0.12742404 -0.23099449 -0.05262843] <class 'numpy.ndarray'> (11,)\n",
      "[ 1.41156647  5.63670987  6.65207354  5.33824114  3.21624868  4.90777696\n",
      " -0.06457007 -0.1942241  -0.13210518 -0.22714615 -0.0556328 ] <class 'numpy.ndarray'> (11,)\n",
      "[ 1.40249338  4.67298419  5.94905777  4.79160256  2.96251717  4.39865196\n",
      " -0.05873249 -0.20018917 -0.12260205 -0.20582227 -0.05341617] <class 'numpy.ndarray'> (11,)\n",
      "[ 1.41701269  4.85851896  5.95922151  4.74747557  3.05732405  4.58612634\n",
      " -0.03737291 -0.22620163 -0.11526572 -0.2461589  -0.0372847 ] <class 'numpy.ndarray'> (11,)\n",
      "[ 1.4065092   5.2375421   6.22002093  5.01621331  3.28627347  4.51537659\n",
      " -0.05222366 -0.21532972 -0.13934793 -0.2327941  -0.04878284] <class 'numpy.ndarray'> (11,)\n",
      "[ 1.41211745  5.08472378  6.54249649  5.42589587  3.23164595  4.72603821\n",
      " -0.0501261  -0.22368667 -0.10413358 -0.2347233  -0.04710273] <class 'numpy.ndarray'> (11,)\n",
      "[ 1.41839076  5.45000947  6.57364004  5.48405642  3.25405321  4.75152344\n",
      " -0.04725438 -0.21753511 -0.14316398 -0.25414028 -0.02974711] <class 'numpy.ndarray'> (11,)\n",
      "[ 1.41010032  5.64777989  6.8533782   5.0691571   3.20909525  4.81546074\n",
      " -0.05618317 -0.21651797 -0.15915115 -0.25271637 -0.04436521] <class 'numpy.ndarray'> (11,)\n",
      "[ 1.43692866  5.20194978  6.94090146  4.73341542  3.12547773  4.97388312\n",
      " -0.05495773 -0.21933292 -0.15010367 -0.24835756 -0.0325773 ] <class 'numpy.ndarray'> (11,)\n",
      "[ 1.43038696  5.2959277   6.8429898   4.83652461  3.14447232  5.05737342\n",
      " -0.05900225 -0.2104782  -0.15878551 -0.24776676 -0.04443414] <class 'numpy.ndarray'> (11,)\n",
      "[ 1.43643046  5.37567285  7.10857004  4.99637788  3.1422621   5.38527531\n",
      " -0.04784018 -0.22043638 -0.14353551 -0.22070691 -0.04845831] <class 'numpy.ndarray'> (11,)\n",
      "[ 1.43007986  5.66471055  7.38523653  4.9654625   3.33151516  5.21978186\n",
      " -0.02993508 -0.20281404 -0.13161215 -0.25383254 -0.03507648] <class 'numpy.ndarray'> (11,)\n",
      "[ 1.42190199  5.68234577  7.07062915  5.03370013  3.26314298  4.97625685\n",
      " -0.04632245 -0.20348381 -0.11452089 -0.23172787 -0.03454456] <class 'numpy.ndarray'> (11,)\n",
      "[ 1.42538907  5.47353678  7.06973698  4.97806817  3.24115378  4.78183614\n",
      " -0.03422303 -0.22927916 -0.12662294 -0.23036883 -0.04272257] <class 'numpy.ndarray'> (11,)\n",
      "[ 1.42893581  5.57957774  7.0221133   4.93727904  3.21944592  4.85812147\n",
      " -0.05236409 -0.22410003 -0.11815969 -0.25064493 -0.03838347] <class 'numpy.ndarray'> (11,)\n",
      "[ 1.41792729  5.4080208   7.41823887  5.31137663  3.11639406  5.10478071\n",
      " -0.04303045 -0.21304655 -0.12111641 -0.26086552 -0.0364312 ] <class 'numpy.ndarray'> (11,)\n",
      "[ 1.41622756  5.54096045  6.70033645  5.08120814  3.3205599   4.99408653\n",
      " -0.05243833 -0.20763754 -0.1160943  -0.26398467 -0.04330254] <class 'numpy.ndarray'> (11,)\n",
      "[ 1.41758787  5.75666499  7.29797995  5.43838113  3.07432385  4.99819458\n",
      " -0.0365693  -0.20771456 -0.12009776 -0.27273447 -0.05098785] <class 'numpy.ndarray'> (11,)\n",
      "[ 1.42736197  5.80935344  6.5965322   4.97904583  2.99173814  4.65950981\n",
      " -0.05593136 -0.21290141 -0.11285553 -0.27676144 -0.04949646] <class 'numpy.ndarray'> (11,)\n",
      "[ 1.42344405  5.45851646  6.570792    5.09510256  3.02013547  4.63159683\n",
      " -0.03911522 -0.22860916 -0.11923966 -0.24524133 -0.05786541] <class 'numpy.ndarray'> (11,)\n",
      "[ 1.41780927  5.6230105   6.70524911  5.07997237  3.29509888  4.59081676\n",
      " -0.049571   -0.21205338 -0.10229029 -0.23379755 -0.0466434 ] <class 'numpy.ndarray'> (11,)\n",
      "[ 1.42478424  5.53989005  6.90905351  5.15202328  3.42632611  4.63639225\n",
      " -0.0309398  -0.1968573  -0.1040969  -0.26312838 -0.03789091] <class 'numpy.ndarray'> (11,)\n",
      "[ 1.4368547   5.33498172  6.89661788  5.35818355  3.17904069  4.81946104\n",
      " -0.03161597 -0.20542358 -0.10728325 -0.24096808 -0.0349359 ] <class 'numpy.ndarray'> (11,)\n",
      "[ 1.43403309  5.30865105  6.77743377  5.21076     3.20224062  4.72706241\n",
      " -0.04962602 -0.20635487 -0.11430342 -0.25304151 -0.0314597 ] <class 'numpy.ndarray'> (11,)\n",
      "[ 1.44141325  5.20907184  6.965309    4.94444066  3.04310326  5.064787\n",
      " -0.05560786 -0.22595503 -0.11515174 -0.25009519 -0.03151644] <class 'numpy.ndarray'> (11,)\n",
      "[ 1.41058192  5.78227418  6.66569752  4.69757171  2.98166058  5.32086218\n",
      " -0.04947128 -0.22759479 -0.13008402 -0.26975434 -0.04621646] <class 'numpy.ndarray'> (11,)\n",
      "[ 1.42586173  5.565592    6.64404098  4.78977402  3.17325276  5.57385085\n",
      " -0.04451629 -0.2204418  -0.1235005  -0.29332757 -0.03486797] <class 'numpy.ndarray'> (11,)\n",
      "[ 1.42652686  5.24465959  7.14394784  5.06115193  3.17522063  5.37385836\n",
      " -0.04015025 -0.2303052  -0.10116319 -0.27220168 -0.05900261] <class 'numpy.ndarray'> (11,)\n",
      "[ 1.41636923  5.74749488  7.04771297  5.10330427  3.27497635  4.77278666\n",
      " -0.04360064 -0.21782385 -0.1339742  -0.25426981 -0.05748836] <class 'numpy.ndarray'> (11,)\n",
      "[ 1.42563004  5.55070683  6.82830295  4.89091781  3.36706639  4.88742697\n",
      " -0.03074724 -0.23630643 -0.09382664 -0.269376   -0.03743164] <class 'numpy.ndarray'> (11,)\n",
      "[ 1.40501892  5.19636864  6.56578224  5.06263218  3.35854015  4.97913745\n",
      " -0.04540833 -0.23013891 -0.10028469 -0.23526389 -0.04913559] <class 'numpy.ndarray'> (11,)\n",
      "[ 1.41173269  5.6921475   5.94174421  5.16843722  3.20554822  5.09828843\n",
      " -0.0530729  -0.22734155 -0.13177042 -0.24695735 -0.04306911] <class 'numpy.ndarray'> (11,)\n",
      "[ 1.41445491  5.76056771  5.89077078  5.28289671  3.22610389  5.06765166\n",
      " -0.05184166 -0.22552282 -0.13624229 -0.24240419 -0.04545555] <class 'numpy.ndarray'> (11,)\n",
      "[ 1.40388801  4.73579948  5.32292687  4.75317679  2.96633238  4.5205128\n",
      " -0.04590056 -0.23065175 -0.12695392 -0.21983015 -0.04296219] <class 'numpy.ndarray'> (11,)\n",
      "[ 1.41803389  4.90187558  5.37862853  4.72584637  3.06852913  4.68585182\n",
      " -0.02482471 -0.25739788 -0.12021133 -0.25982738 -0.0276163 ] <class 'numpy.ndarray'> (11,)\n",
      "[ 1.40830894  5.29838757  5.6303098   4.98403148  3.30116574  4.60489136\n",
      " -0.03996233 -0.24491176 -0.14370981 -0.24598232 -0.03904353] <class 'numpy.ndarray'> (11,)\n",
      "[ 1.41317922  5.15412653  5.99190384  5.38139013  3.24913916  4.81350391\n",
      " -0.03808879 -0.25364335 -0.1083377  -0.24824688 -0.03830486] <class 'numpy.ndarray'> (11,)\n",
      "[ 1.41968707  5.52777019  6.03781739  5.44688618  3.26353477  4.83685195\n",
      " -0.03515857 -0.24723865 -0.14737893 -0.26688444 -0.02094235] <class 'numpy.ndarray'> (11,)\n",
      "[ 1.41144097  5.72895651  6.32408512  5.03740916  3.21956165  4.91927683\n",
      " -0.04416192 -0.24702618 -0.16438034 -0.2652521  -0.03497684] <class 'numpy.ndarray'> (11,)\n",
      "[ 1.43861697  5.29215308  6.40830395  4.70670675  3.1386502   5.08083414\n",
      " -0.04315753 -0.25036997 -0.15609523 -0.26063475 -0.02350207] <class 'numpy.ndarray'> (11,)\n",
      "[ 1.43191726  5.39186655  6.34144089  4.78607141  3.15513626  5.16903825\n",
      " -0.0472618  -0.24116211 -0.16477531 -0.25954631 -0.03519347] <class 'numpy.ndarray'> (11,)\n",
      "[ 1.43785547  5.46753658  6.59393567  4.94084864  3.1502207   5.50198911\n",
      " -0.03635088 -0.25085852 -0.14908778 -0.23303628 -0.03945914] <class 'numpy.ndarray'> (11,)\n",
      "[ 1.43132675  5.75949565  6.8956926   4.92576269  3.34116398  5.34186239\n",
      " -0.01864232 -0.23195706 -0.13764138 -0.26644923 -0.02646562] <class 'numpy.ndarray'> (11,)\n",
      "[ 1.42349965  5.77829583  6.59724905  5.00265597  3.27438938  5.09730875\n",
      " -0.03487936 -0.23223477 -0.12047093 -0.2438578  -0.02505629] <class 'numpy.ndarray'> (11,)\n",
      "[ 1.42662628  5.56409954  6.6513954   4.96311478  3.2541328   4.8831159\n",
      " -0.02286648 -0.25940905 -0.13373315 -0.24156632 -0.0315869 ] <class 'numpy.ndarray'> (11,)\n",
      "[ 1.42923413  5.66722256  6.65665032  4.93651035  3.23069135  4.97892566\n",
      " -0.04070878 -0.25351469 -0.12524688 -0.26100631 -0.02812618] <class 'numpy.ndarray'> (11,)\n",
      "[ 1.41890639  5.48837081  7.01108614  5.28736342  3.1260445   5.23376376\n",
      " -0.0316636  -0.2426285  -0.12861647 -0.27182684 -0.02559486] <class 'numpy.ndarray'> (11,)\n",
      "[ 1.4167438   5.62360418  6.33375646  5.06329178  3.33314297  5.12385722\n",
      " -0.04115045 -0.2375973  -0.12377519 -0.27501607 -0.03308592] <class 'numpy.ndarray'> (11,)\n",
      "[ 1.41809187  5.84327775  6.89366023  5.41591375  3.08702332  5.13895333\n",
      " -0.02543475 -0.23756066 -0.12843328 -0.2836352  -0.04109005] <class 'numpy.ndarray'> (11,)\n",
      "[ 1.42779724  5.8795166   6.22058621  4.96800573  3.00000458  4.78770023\n",
      " -0.0446011  -0.24400139 -0.12148379 -0.28733366 -0.04005051] <class 'numpy.ndarray'> (11,)\n",
      "[ 1.42411635  5.51974276  6.17543448  5.05158309  3.03246913  4.76498978\n",
      " -0.02808118 -0.26057265 -0.1281228  -0.25640074 -0.04775434] <class 'numpy.ndarray'> (11,)\n",
      "[ 1.418174    5.68477794  6.32156002  5.04567652  3.30305304  4.71878574\n",
      " -0.03857653 -0.24313531 -0.11128539 -0.24480911 -0.03667605] <class 'numpy.ndarray'> (11,)\n",
      "[ 1.42514871  5.59407194  6.55999368  5.13831345  3.43208772  4.73751634\n",
      " -0.02007566 -0.22843035 -0.11409858 -0.27392818 -0.02624339] <class 'numpy.ndarray'> (11,)\n",
      "[ 1.43741592  5.38882016  6.5182203   5.35264355  3.1907745   4.92112492\n",
      " -0.02061932 -0.23714022 -0.11661764 -0.25142827 -0.02284474] <class 'numpy.ndarray'> (11,)\n",
      "[ 1.43452508  5.36826125  6.43193689  5.20769028  3.21798437  4.82116954\n",
      " -0.03866194 -0.23735791 -0.12319469 -0.26384636 -0.0194247 ] <class 'numpy.ndarray'> (11,)\n",
      "[ 1.44205742  5.26734385  6.57007558  4.94130479  3.05546215  5.18547872\n",
      " -0.0446889  -0.2569798  -0.12352756 -0.26124886 -0.01960283] <class 'numpy.ndarray'> (11,)\n",
      "[ 1.41111978  5.84157759  6.29092221  4.70502321  2.99235106  5.45680812\n",
      " -0.03853551 -0.25913926 -0.13856997 -0.28023977 -0.03382522] <class 'numpy.ndarray'> (11,)\n",
      "[ 1.4264621   5.6144123   6.26615117  4.79078903  3.18796119  5.71605117\n",
      " -0.03382149 -0.25144845 -0.13241998 -0.30335339 -0.02237777] <class 'numpy.ndarray'> (11,)\n",
      "[ 1.42686439  5.29129687  6.72593     5.0677784   3.18277716  5.53669432\n",
      " -0.02970866 -0.26131299 -0.1103463  -0.28244109 -0.04615475] <class 'numpy.ndarray'> (11,)\n",
      "[ 1.4168694   5.79737279  6.65138947  5.11055985  3.28516087  4.91784711\n",
      " -0.03312169 -0.24825328 -0.14311749 -0.26416942 -0.04552118] <class 'numpy.ndarray'> (11,)\n",
      "[ 1.42628107  5.6070921   6.48325678  4.87866499  3.38057909  5.01897058\n",
      " -0.02024713 -0.26747623 -0.103102   -0.27949463 -0.02697535] <class 'numpy.ndarray'> (11,)\n",
      "[ 1.40576099  5.24779061  6.21162108  5.05585352  3.36931639  5.10764682\n",
      " -0.03484204 -0.26018526 -0.10870547 -0.24472409 -0.03859514] <class 'numpy.ndarray'> (11,)\n",
      "[ 1.41212902  5.75420456  5.64780578  5.15359522  3.21434544  5.23438263\n",
      " -0.04242539 -0.25693339 -0.14042965 -0.25642036 -0.03293887] <class 'numpy.ndarray'> (11,)\n",
      "[ 1.41509099  5.83166257  5.62139763  5.27196663  3.22757572  5.2072707\n",
      " -0.04117981 -0.25425749 -0.14442427 -0.25136557 -0.03459995] <class 'numpy.ndarray'> (11,)\n",
      "[ 1.40358337  4.77013607  5.0831706   4.75596221  2.96490625  4.63013375\n",
      " -0.03516933 -0.25829801 -0.13527496 -0.22794431 -0.03170554] <class 'numpy.ndarray'> (11,)\n",
      "[ 1.41747589  4.92302462  5.15169635  4.73428345  3.07420349  4.77943365\n",
      " -0.0142377  -0.28518574 -0.12890669 -0.26773499 -0.01708695] <class 'numpy.ndarray'> (11,)\n",
      "[ 1.4084701   5.32959197  5.37555139  4.98120896  3.30994975  4.69004833\n",
      " -0.02943706 -0.271751   -0.15189085 -0.25356469 -0.02855211] <class 'numpy.ndarray'> (11,)\n",
      "[ 1.41291283  5.18981216  5.75027219  5.36498524  3.26014474  4.89868022\n",
      " -0.02759175 -0.28072801 -0.11684995 -0.25609208 -0.02859473] <class 'numpy.ndarray'> (11,)\n",
      "[ 1.41972451  5.56946584  5.79197502  5.43881831  3.26969215  4.91992992\n",
      " -0.02458563 -0.27394229 -0.15555448 -0.27399336 -0.01134298] <class 'numpy.ndarray'> (11,)\n",
      "[ 1.41161132  5.77633282  6.06542823  5.0330185   3.22535247  5.01569209\n",
      " -0.03359029 -0.27448319 -0.17320657 -0.27208426 -0.02491286] <class 'numpy.ndarray'> (11,)\n",
      "[ 1.43903422  5.34651098  6.14811827  4.70438072  3.14813752  5.17022008\n",
      " -0.03273461 -0.27799728 -0.16540431 -0.26721446 -0.01359448] <class 'numpy.ndarray'> (11,)\n",
      "[ 1.43232997  5.45223215  6.09078134  4.77177286  3.16334161  5.26059556\n",
      " -0.03686718 -0.26853625 -0.17409524 -0.26585725 -0.0250181 ] <class 'numpy.ndarray'> (11,)\n",
      "[ 1.43829546  5.52735297  6.33161167  4.92214287  3.15895897  5.60094849\n",
      " -0.02610574 -0.27795747 -0.15814553 -0.23984863 -0.02958366] <class 'numpy.ndarray'> (11,)\n",
      "[ 1.43161882  5.81804732  6.6443221   4.91728086  3.3472842   5.44379289\n",
      " -0.00853684 -0.25825419 -0.14697328 -0.27344198 -0.01682258] <class 'numpy.ndarray'> (11,)\n",
      "[ 1.4242001   5.83868566  6.34217587  4.9944835   3.28229022  5.19121707\n",
      " -0.02468281 -0.25815027 -0.12973578 -0.25068771 -0.01484654] <class 'numpy.ndarray'> (11,)\n",
      "[ 1.42713332  5.62182384  6.42314651  4.96221944  3.26335693  4.96518148\n",
      " -0.01265736 -0.28590993 -0.14351748 -0.24752702 -0.02000902] <class 'numpy.ndarray'> (11,)\n",
      "[ 1.42907967  5.72425181  6.45244033  4.95014423  3.23829867  5.07207935\n",
      " -0.03020979 -0.27944581 -0.13496618 -0.26640886 -0.01710876] <class 'numpy.ndarray'> (11,)\n",
      "[ 1.41934441  5.54149847  6.77123665  5.28064919  3.1337197   5.32880547\n",
      " -0.0213578  -0.26852607 -0.13843996 -0.27783319 -0.01413224] <class 'numpy.ndarray'> (11,)\n",
      "[ 1.41672886  5.68018452  6.12290239  5.0625012   3.34366183  5.2184578\n",
      " -0.0308615  -0.26367083 -0.13369909 -0.281073   -0.0219843 ] <class 'numpy.ndarray'> (11,)\n",
      "[ 1.41815461  5.90232172  6.65495335  5.40911885  3.09806465  5.24330662\n",
      " -0.01520209 -0.2633942  -0.13892398 -0.28951158 -0.03018967] <class 'numpy.ndarray'> (11,)\n",
      "[ 1.42780008  5.92607261  5.99728511  4.97327853  3.00731633  4.88146848\n",
      " -0.03420311 -0.27080753 -0.13218082 -0.29281636 -0.02955231] <class 'numpy.ndarray'> (11,)\n",
      "[ 1.4243108   5.55830511  5.937612    5.03138293  3.04320377  4.86503886\n",
      " -0.01789868 -0.2877907  -0.13898235 -0.26238475 -0.03677936] <class 'numpy.ndarray'> (11,)\n",
      "[ 1.41820599  5.72434535  6.09185706  5.02842474  3.30918484  4.81266859\n",
      " -0.028433   -0.26982501 -0.12233375 -0.25064123 -0.02586602] <class 'numpy.ndarray'> (11,)\n",
      "[ 1.42518369  5.62862834  6.34959733  5.13425992  3.43626874  4.81651244\n",
      " -0.01002715 -0.25539524 -0.12582209 -0.2795183  -0.01409321] <class 'numpy.ndarray'> (11,)\n",
      "[ 1.43764996  5.42265426  6.28804271  5.35532144  3.19973512  4.99658657\n",
      " -0.01046484 -0.26415071 -0.12765268 -0.25695911 -0.01043886] <class 'numpy.ndarray'> (11,)\n",
      "[ 1.43469106  5.40706797  6.2221164   5.21501846  3.22820914  4.8907231\n",
      " -0.02853546 -0.26370211 -0.1337597  -0.26972329 -0.00697156] <class 'numpy.ndarray'> (11,)\n",
      "[ 1.44225749  5.30560222  6.33395545  4.95015241  3.06448109  5.26955308\n",
      " -0.03460108 -0.28327444 -0.13385628 -0.26757342 -0.00738168] <class 'numpy.ndarray'> (11,)\n",
      "[ 1.41126704  5.88056371  6.06730113  4.72738454  2.99806516  5.55141063\n",
      " -0.02841924 -0.28569024 -0.14892897 -0.2861162  -0.02123453] <class 'numpy.ndarray'> (11,)\n",
      "[ 1.42665185  5.64707567  6.03998205  4.80734258  3.19705675  5.81044134\n",
      " -0.02393075 -0.27749951 -0.14303955 -0.30887445 -0.00980095] <class 'numpy.ndarray'> (11,)\n",
      "[ 1.42689066  5.32309222  6.46882979  5.09227435  3.18742882  5.65064132\n",
      " -0.01998524 -0.28741961 -0.12122801 -0.28819809 -0.03324163] <class 'numpy.ndarray'> (11,)\n",
      "[ 1.41692097  5.83123148  6.40457633  5.13733385  3.29309668  5.02481577\n",
      " -0.02334966 -0.27387986 -0.15370481 -0.26966607 -0.03314847] <class 'numpy.ndarray'> (11,)\n",
      "[ 1.42648282  5.64764682  6.27136174  4.88587976  3.3914958   5.11667014\n",
      " -0.01040231 -0.29372336 -0.11398488 -0.28519703 -0.01587481] <class 'numpy.ndarray'> (11,)\n",
      "[ 1.40600755  5.28428104  5.98643944  5.06837615  3.37859192  5.20437367\n",
      " -0.0249644  -0.28554957 -0.11882736 -0.24996377 -0.02764443] <class 'numpy.ndarray'> (11,)\n",
      "[ 1.41222594  5.79805258  5.45646102  5.16202737  3.22277222  5.33554285\n",
      " -0.03244633 -0.28212657 -0.15058874 -0.2616581  -0.02228185] <class 'numpy.ndarray'> (11,)\n",
      "[ 1.41531292  5.88118616  5.44660742  5.2863133   3.22956545  5.31272684\n",
      " -0.0311934  -0.2787266  -0.15405047 -0.25628591 -0.02335478] <class 'numpy.ndarray'> (11,)\n",
      "[ 1.40304596  4.79301506  4.9252513   4.77756096  2.96528211  4.71629197\n",
      " -0.02515852 -0.28162265 -0.14497956 -0.23237208 -0.02008673] <class 'numpy.ndarray'> (11,)\n",
      "[ 1.41673173e+00  4.93517338e+00  5.00275359e+00  4.75872703e+00\n",
      "  3.07984874e+00  4.85432302e+00 -4.32825643e-03 -3.08532089e-01\n",
      " -1.38924083e-01 -2.72062040e-01 -6.07287664e-03] <class 'numpy.ndarray'> (11,)\n",
      "[ 1.40825109  5.34719652  5.20611719  4.99752177  3.31800201  4.75908552\n",
      " -0.01951664 -0.29439271 -0.16141416 -0.25774902 -0.01765641] <class 'numpy.ndarray'> (11,)\n",
      "[ 1.41242907  5.20959617  5.59025948  5.36891327  3.26958385  4.9693298\n",
      " -0.01765204 -0.30360016 -0.12688355 -0.26046534 -0.01838259] <class 'numpy.ndarray'> (11,)\n",
      "[ 1.41951762e+00  5.59318860e+00  5.62845607e+00  5.44529237e+00\n",
      "  3.27559675e+00  4.98960563e+00 -1.46036510e-02 -2.96492265e-01\n",
      " -1.65125805e-01 -2.77746249e-01 -1.32927092e-03] <class 'numpy.ndarray'> (11,)\n",
      "[ 1.41149402  5.80758415  5.88795358  5.04239761  3.23011202  5.0963369\n",
      " -0.02359423 -0.29770973 -0.18319448 -0.27559639 -0.01455276] <class 'numpy.ndarray'> (11,)\n",
      "[ 1.43914386e+00  5.38286316e+00  5.97108394e+00  4.71531142e+00\n",
      "  3.15588783e+00  5.24021235e+00 -2.28673399e-02 -3.01261905e-01\n",
      " -1.75702739e-01 -2.70519196e-01 -3.35902030e-03] <class 'numpy.ndarray'> (11,)\n",
      "[ 1.43245152  5.49447784  5.92098004  4.77783277  3.17043427  5.33157138\n",
      " -0.02703394 -0.29157239 -0.18441839 -0.26900372 -0.01448507] <class 'numpy.ndarray'> (11,)\n",
      "[ 1.43847449  5.57076411  6.15286535  4.92329408  3.16821317  5.67862657\n",
      " -0.01639652 -0.3007748  -0.1683542  -0.24346794 -0.01936772] <class 'numpy.ndarray'> (11,)\n",
      "[ 1.43165325e+00  5.85860072e+00  6.47348073e+00  4.92574289e+00\n",
      "  3.35241779e+00  5.52128211e+00  1.06994400e-03 -2.80534029e-01\n",
      " -1.57303321e-01 -2.77207773e-01 -6.79195614e-03] <class 'numpy.ndarray'> (11,)\n",
      "[ 1.42457973e+00  5.88090117e+00  6.16717729e+00  5.00000085e+00\n",
      "  3.28901987e+00  5.25963722e+00 -1.50253479e-02 -2.80159968e-01\n",
      " -1.40009570e-01 -2.54423298e-01 -4.46477982e-03] <class 'numpy.ndarray'> (11,)\n",
      "[ 1.42741718e+00  5.66277476e+00  6.26523236e+00  4.96961154e+00\n",
      "  3.27066481e+00  5.02710301e+00 -2.94516179e-03 -3.08206858e-01\n",
      " -1.54012306e-01 -2.50508796e-01 -8.54486464e-03] <class 'numpy.ndarray'> (11,)\n",
      "[ 1.42885469e+00  5.76556208e+00  6.31047397e+00  4.96972983e+00\n",
      "  3.24417188e+00  5.13942558e+00 -2.02428227e-02 -3.01287533e-01\n",
      " -1.45355332e-01 -2.69023746e-01 -6.01714157e-03] <class 'numpy.ndarray'> (11,)\n",
      "[ 1.41960389e+00  5.58058554e+00  6.60364049e+00  5.28336413e+00\n",
      "  3.14031129e+00  5.39417219e+00 -1.15366721e-02 -2.90298734e-01\n",
      " -1.48776875e-01 -2.80991257e-01 -2.74149010e-03] <class 'numpy.ndarray'> (11,)\n",
      "[ 1.41656488  5.72223777  5.9812734   5.06974629  3.35261512  5.28418411\n",
      " -0.0210356  -0.2855148  -0.14411184 -0.28427507 -0.01082274] <class 'numpy.ndarray'> (11,)\n",
      "[ 1.41806896e+00  5.94607025e+00  6.49511583e+00  5.41076557e+00\n",
      "  3.10791808e+00  5.31655217e+00 -5.39690152e-03 -2.85001280e-01\n",
      " -1.49781816e-01 -2.92521765e-01 -1.91507423e-02] <class 'numpy.ndarray'> (11,)\n",
      "[ 1.42764196  5.96013073  5.84929297  4.98489087  3.01421209  4.94734576\n",
      " -0.02425954 -0.29314203 -0.14321511 -0.29546253 -0.01888957] <class 'numpy.ndarray'> (11,)\n",
      "[ 1.42432322  5.58509507  5.78067075  5.02221405  3.05294334  4.93535249\n",
      " -0.00812136 -0.3103475  -0.15009258 -0.26544082 -0.02577223] <class 'numpy.ndarray'> (11,)\n",
      "[ 1.41810859  5.75218756  5.9428737   5.01964064  3.31485089  4.87746517\n",
      " -0.01869741 -0.29203948 -0.13361722 -0.25355994 -0.01502595] <class 'numpy.ndarray'> (11,)\n",
      "[ 1.42511562e+00  5.65314722e+00  6.21179690e+00  5.13389111e+00\n",
      "  3.44011590e+00  4.87336270e+00 -3.69097492e-04 -2.77787201e-01\n",
      " -1.37605777e-01 -2.82176914e-01 -2.18339178e-03] <class 'numpy.ndarray'> (11,)\n",
      "[ 1.43773433e+00  5.44621441e+00  6.13669633e+00  5.36015803e+00\n",
      "  3.20735540e+00  5.04892340e+00 -7.25457306e-04 -2.86558774e-01\n",
      " -1.38873955e-01 -2.59723667e-01  1.60588027e-03] <class 'numpy.ndarray'> (11,)\n",
      "[ 1.43474025e+00  5.43482251e+00  6.08595309e+00  5.22474111e+00\n",
      "  3.23554773e+00  4.93758862e+00 -1.88140429e-02 -2.85553462e-01\n",
      " -1.44530661e-01 -2.72816060e-01  5.11705804e-03] <class 'numpy.ndarray'> (11,)\n",
      "[ 1.44228987e+00  5.33325764e+00  6.18257828e+00  4.96236039e+00\n",
      "  3.07163549e+00  5.32331865e+00 -2.49153390e-02 -3.05074644e-01\n",
      " -1.44583011e-01 -2.71087714e-01  4.45867103e-03] <class 'numpy.ndarray'> (11,)\n",
      "[ 1.41127734  5.9089145   5.92606244  4.75364267  3.00175967  5.61125669\n",
      " -0.01869076 -0.3076616  -0.15967117 -0.28927889 -0.009087  ] <class 'numpy.ndarray'> (11,)\n",
      "[ 1.42669439e+00  5.67132467e+00  5.89681563e+00  4.82903722e+00\n",
      "  3.20304730e+00  5.86633948e+00 -1.44166801e-02 -2.99076016e-01\n",
      " -1.53945086e-01 -3.11788205e-01  2.28441018e-03] <class 'numpy.ndarray'> (11,)\n",
      "[ 1.42682096  5.34743197  6.30407492  5.12194567  3.1906501   5.72325069\n",
      " -0.01058751 -0.30906615 -0.13242013 -0.29135499 -0.02084502] <class 'numpy.ndarray'> (11,)\n",
      "[ 1.41682542  5.85742939  6.24505368  5.16906474  3.29951081  5.09651743\n",
      " -0.01389773 -0.29511625 -0.16450777 -0.27263851 -0.02110822] <class 'numpy.ndarray'> (11,)\n",
      "[ 1.42652062e+00  5.68031815e+00  6.13666713e+00  4.90079736e+00\n",
      "  3.40064274e+00  5.18115007e+00 -8.58381513e-04 -3.15482919e-01\n",
      " -1.25118512e-01 -2.88325963e-01 -4.86742076e-03] <class 'numpy.ndarray'> (11,)\n",
      "[ 1.40603703  5.31317894  5.84097678  5.08802608  3.38665258  5.26893\n",
      " -0.01540369 -0.30663839 -0.12931879 -0.25277997 -0.01690676] <class 'numpy.ndarray'> (11,)\n",
      "[ 1.41220494  5.83233131  5.33208454  5.18012601  3.23064052  5.40135936\n",
      " -0.02277366 -0.30316692 -0.1610484  -0.26443728 -0.01175243] <class 'numpy.ndarray'> (11,)\n",
      "[ 1.41535056  5.91964806  5.33360957  5.31015946  3.2323907   5.38342856\n",
      " -0.02153126 -0.29919528 -0.16399996 -0.25887062 -0.01239138] <class 'numpy.ndarray'> (11,)\n",
      "[ 1.40246716  4.81052963  4.82078475  4.80434214  2.96719594  4.77673221\n",
      " -0.01549229 -0.30105419 -0.15497485 -0.23469705 -0.00879606] <class 'numpy.ndarray'> (11,)\n",
      "[ 1.41598876e+00  4.94335488e+00  4.90499579e+00  4.78748436e+00\n",
      "  3.08568352e+00  4.90674783e+00  5.26055376e-03 -3.27906924e-01\n",
      " -1.49189994e-01 -2.74337943e-01  4.71997315e-03] <class 'numpy.ndarray'> (11,)\n",
      "[ 1.4078893   5.35816252  5.09330255  5.02115361  3.32562178  4.80787906\n",
      " -0.00989433 -0.31323526 -0.17121527 -0.25999891 -0.00704351] <class 'numpy.ndarray'> (11,)\n",
      "[ 1.41190122  5.22151682  5.48446139  5.38171795  3.27819929  5.02031582\n",
      " -0.0079848  -0.32264935 -0.13722139 -0.26282812 -0.00836011] <class 'numpy.ndarray'> (11,)\n",
      "[ 1.41924165e+00  5.60770652e+00  5.51931486e+00  5.45627849e+00\n",
      "  3.28153967e+00  5.04121160e+00 -4.92341412e-03 -3.15292220e-01\n",
      " -1.74986252e-01 -2.79591708e-01  8.46407801e-03] <class 'numpy.ndarray'> (11,)\n",
      "[ 1.41126521e+00  5.83037100e+00  5.76712152e+00  5.05582583e+00\n",
      "  3.23452636e+00  5.15719935e+00 -1.38894582e-02 -3.17076110e-01\n",
      " -1.93328852e-01 -2.77238766e-01 -4.50084293e-03] <class 'numpy.ndarray'> (11,)\n",
      "[ 1.43911844  5.4093302   5.85098098  4.730726    3.16244075  5.28987216\n",
      " -0.01327138 -0.32060463 -0.18604468 -0.27200273  0.00658954] <class 'numpy.ndarray'> (11,)\n",
      "[ 1.43243887e+00  5.52633730e+00  5.80641798e+00  4.79287580e+00\n",
      "  3.17665029e+00  5.38187802e+00 -1.74724562e-02 -3.10742268e-01\n",
      " -1.94786700e-01 -2.70369283e-01 -4.24562123e-03] <class 'numpy.ndarray'> (11,)\n",
      "[ 1.43852825  5.604595    6.03171912  4.93309728  3.1771496   5.7334923\n",
      " -0.00694796 -0.31977457 -0.17872904 -0.24525854 -0.00942794] <class 'numpy.ndarray'> (11,)\n",
      "[ 1.43157541e+00  5.88907785e+00  6.35810595e+00  4.94128250e+00\n",
      "  3.35696293e+00  5.57402704e+00  1.04432697e-02 -2.99166742e-01\n",
      " -1.67691373e-01 -2.79115847e-01  2.99259805e-03] <class 'numpy.ndarray'> (11,)\n",
      "[ 1.42477238e+00  5.91295708e+00  6.04798171e+00  5.01187147e+00\n",
      "  3.29507247e+00  5.30400008e+00 -5.62126511e-03 -2.98607819e-01\n",
      " -1.50354348e-01 -2.56366080e-01  5.51825427e-03] <class 'numpy.ndarray'> (11,)\n",
      "[ 1.42757742e+00  5.69433772e+00  6.15765892e+00  4.98014896e+00\n",
      "  3.27693941e+00  5.06885911e+00  6.52961662e-03 -3.26772479e-01\n",
      " -1.64433813e-01 -2.51826282e-01  2.28155560e-03] <class 'numpy.ndarray'> (11,)\n",
      "[ 1.42861831e+00  5.79783080e+00  6.21480707e+00  4.98986453e+00\n",
      "  3.24917855e+00  5.18315732e+00 -1.05458079e-02 -3.19492071e-01\n",
      " -1.55667234e-01 -2.70099569e-01  4.55642079e-03] <class 'numpy.ndarray'> (11,)\n",
      "[ 1.41975671e+00  5.61155941e+00  6.49001443e+00  5.28952224e+00\n",
      "  3.14633236e+00  5.43420660e+00 -1.96139105e-03 -3.08442523e-01\n",
      " -1.58991900e-01 -2.82541475e-01  8.02748929e-03] <class 'numpy.ndarray'> (11,)\n",
      "[ 1.41634547e+00  5.75553204e+00  5.88882771e+00  5.07882824e+00\n",
      "  3.36043928e+00  5.32506283e+00 -1.14436490e-02 -3.03691462e-01\n",
      " -1.54397352e-01 -2.85854999e-01 -1.94665820e-04] <class 'numpy.ndarray'> (11,)\n",
      "[ 1.41790641e+00  5.98077346e+00  6.39103630e+00  5.41538404e+00\n",
      "  3.11680980e+00  5.36324963e+00  4.18658812e-03 -3.02980313e-01\n",
      " -1.60413300e-01 -2.93915373e-01 -8.60516449e-03] <class 'numpy.ndarray'> (11,)\n",
      "[ 1.42740575  5.9869324   5.7533262   4.99680747  3.02079899  4.98962222\n",
      " -0.01455689 -0.31165751 -0.15400377 -0.29653716 -0.00867984] <class 'numpy.ndarray'> (11,)\n",
      "[ 1.42423958e+00  5.60534906e+00  5.67846369e+00  5.01728800e+00\n",
      "  3.06195542e+00  4.98019358e+00  1.44602883e-03 -3.28972871e-01\n",
      " -1.60900046e-01 -2.66856142e-01 -1.53188490e-02] <class 'numpy.ndarray'> (11,)\n",
      "[ 1.41794059e+00  5.77325332e+00  5.84787837e+00  5.01405341e+00\n",
      "  3.32048654e+00  4.91766460e+00 -9.16926187e-03 -3.10432188e-01\n",
      " -1.44557866e-01 -2.54858408e-01 -4.72867026e-03] <class 'numpy.ndarray'> (11,)\n",
      "[ 1.42499943  5.67198803  6.12305517  5.13352975  3.44421027  4.90972095\n",
      "  0.00909011 -0.29630988 -0.14895696 -0.28320775  0.008985  ] <class 'numpy.ndarray'> (11,)\n",
      "[ 1.43772364  5.46390721  6.0384741   5.36392947  3.21446597  5.08100975\n",
      "  0.00879657 -0.30508523 -0.14983657 -0.26094142  0.01282573] <class 'numpy.ndarray'> (11,)\n",
      "[ 1.43472626  5.45606359  5.99954538  5.23295007  3.2415864   4.96469983\n",
      " -0.00930388 -0.30362807 -0.15508447 -0.27433514  0.01634672] <class 'numpy.ndarray'> (11,)\n",
      "[ 1.44224065  5.35460124  6.08742834  4.97341655  3.07804425  5.35242902\n",
      " -0.01543768 -0.32310882 -0.15520558 -0.27297284  0.01545799] <class 'numpy.ndarray'> (11,)\n",
      "[ 1.41122903e+00  5.93098816e+00  5.83900619e+00  4.77792792e+00\n",
      "  3.00506087e+00  5.64284399e+00 -9.16586307e-03 -3.25826764e-01\n",
      " -1.70293518e-01 -2.90859680e-01  2.17832467e-03] <class 'numpy.ndarray'> (11,)\n",
      "[ 1.42667585e+00  5.69064108e+00  5.80826121e+00  4.84989512e+00\n",
      "  3.20754539e+00  5.89190082e+00 -5.08902678e-03 -3.16953698e-01\n",
      " -1.64678903e-01 -3.13202945e-01  1.34755582e-02] <class 'numpy.ndarray'> (11,)\n",
      "[ 1.42671664e+00  5.36756598e+00  6.20134897e+00  5.14976772e+00\n",
      "  3.19351041e+00  5.76264780e+00 -1.33920570e-03 -3.27002608e-01\n",
      " -1.43447300e-01 -2.93007811e-01 -9.37296566e-03] <class 'numpy.ndarray'> (11,)\n",
      "[ 1.41667531e+00  5.87949626e+00  6.14532458e+00  5.19801479e+00\n",
      "  3.30533200e+00  5.13877291e+00 -4.59685042e-03 -3.12710650e-01\n",
      " -1.75127942e-01 -2.74177495e-01 -9.88536832e-03] <class 'numpy.ndarray'> (11,)\n",
      "[ 1.42648134e+00  5.70831189e+00  6.05499803e+00  4.91600136e+00\n",
      "  3.40891559e+00  5.21782152e+00  8.53569711e-03 -3.33501406e-01\n",
      " -1.36035289e-01 -2.89968835e-01  5.53716720e-03] <class 'numpy.ndarray'> (11,)\n",
      "[ 1.40596085  5.33751676  5.75123025  5.10686299  3.39408878  5.30630019\n",
      " -0.00599907 -0.32415663 -0.13971008 -0.25422244 -0.00681406] <class 'numpy.ndarray'> (11,)\n",
      "[ 1.41213080e+00  5.86079350e+00  5.25605901e+00  5.19881561e+00\n",
      "  3.23818781e+00  5.43786692e+00 -1.32512128e-02 -3.20689831e-01\n",
      " -1.71384034e-01 -2.65805292e-01 -1.81361494e-03] <class 'numpy.ndarray'> (11,)\n",
      "[ 1.41529414e+00  5.95152832e+00  5.26549952e+00  5.33369505e+00\n",
      "  3.23611568e+00  5.42506412e+00 -1.20347792e-02 -3.16276447e-01\n",
      " -1.73887090e-01 -2.60125091e-01 -2.13468495e-03] <class 'numpy.ndarray'> (11,)\n",
      "[ 1.40190063e+00  4.82507483e+00  4.75543232e+00  4.82841977e+00\n",
      "  2.97033568e+00  4.81450931e+00 -6.00096935e-03 -3.17259048e-01\n",
      " -1.64891358e-01 -2.35834094e-01  1.75173881e-03] <class 'numpy.ndarray'> (11,)\n",
      "[ 1.41530233  4.9495666   4.84472474  4.81351565  3.09171482  4.93849922\n",
      "  0.01468881 -0.34400383 -0.15933059 -0.27544911  0.01485749] <class 'numpy.ndarray'> (11,)\n",
      "[ 1.40748074e+00  5.36560318e+00  5.02194975e+00  5.04397584e+00\n",
      "  3.33302034e+00  4.83768238e+00 -4.32142074e-04 -3.28929149e-01\n",
      " -1.80935167e-01 -2.61153633e-01  2.88644431e-03] <class 'numpy.ndarray'> (11,)\n",
      "[ 1.41138484e+00  5.22930424e+00  5.41863118e+00  5.39508712e+00\n",
      "  3.28642050e+00  5.05238356e+00  1.53851905e-03 -3.38525361e-01\n",
      " -1.47430605e-01 -2.64029678e-01  1.06188403e-03] <class 'numpy.ndarray'> (11,)\n"
     ]
    }
   ],
   "source": [
    "# 손실함수 결과를 담을 리스트\n",
    "rmse_test = []\n",
    "# 하이퍼파라미터 데이터를 담을 그릇 → 0행렬, 배열(다 기본값이 0)\n",
    "# 11 = 3 + 2*rank\n",
    "# 300 * 11 배열(행렬)\n",
    "hyper_params_storage = np.zeros( (n_iter, (3 + 2*rank)), dtype=np.float64 )\n",
    "# n_iter를 1 <= x < 300\n",
    "for n, i in enumerate(range(1, n_iter)) :\n",
    "    # n : 인덱스, 0 ~\n",
    "    # i : 1 ~ 299 연속수\n",
    "    # print(n, i)\n",
    "    # 시드 교체\n",
    "    fm.random_state = i * seed # 1*123, 2*123, ... 299*123\n",
    "    # 학습 및 예측\n",
    "    y_pred = fm.fit_predict( X_train, y_train, X_dev_test, n_more_iter=step_size )\n",
    "    # 손실 함수를 계산해서 리스트에 담는다\n",
    "    rmse_test.append(np.sqrt( mean_squared_error(y_pred, y_dev_test)))\n",
    "    # 하이퍼파라미터 값들을 담아둔다\n",
    "    print(fm.hyper_param_, type(fm.hyper_param_), fm.hyper_param_.shape)\n",
    "    # numpy의 특정 row값을 치환 → DataFrame의 iloc과 표현적으로 같다\n",
    "    hyper_params_storage[ n, : ] = fm.hyper_param_\n",
    "    # break"
   ]
  },
  {
   "cell_type": "code",
   "execution_count": 99,
   "metadata": {},
   "outputs": [
    {
     "data": {
      "text/plain": [
       "array([[ 7.29936807e-02,  1.01534507e+02,  1.09545845e+02, ...,\n",
       "        -2.64130136e-04, -1.52355401e-03, -1.94369678e-03],\n",
       "       [ 8.36490856e-01,  1.00123392e+02,  1.05959358e+02, ...,\n",
       "         6.35869726e-04, -3.12144587e-03, -2.98777035e-03],\n",
       "       [ 1.02700665e+00,  3.23757929e+01,  1.01870475e+02, ...,\n",
       "         1.30186941e-03, -1.33292961e-03, -3.37801855e-03],\n",
       "       ...,\n",
       "       [ 1.40748074e+00,  5.36560318e+00,  5.02194975e+00, ...,\n",
       "        -1.80935167e-01, -2.61153633e-01,  2.88644431e-03],\n",
       "       [ 1.41138484e+00,  5.22930424e+00,  5.41863118e+00, ...,\n",
       "        -1.47430605e-01, -2.64029678e-01,  1.06188403e-03],\n",
       "       [ 0.00000000e+00,  0.00000000e+00,  0.00000000e+00, ...,\n",
       "         0.00000000e+00,  0.00000000e+00,  0.00000000e+00]])"
      ]
     },
     "execution_count": 99,
     "metadata": {},
     "output_type": "execute_result"
    }
   ],
   "source": [
    "hyper_params_storage"
   ]
  },
  {
   "cell_type": "code",
   "execution_count": 100,
   "metadata": {
    "scrolled": false
   },
   "outputs": [
    {
     "data": {
      "text/plain": [
       "[1.092922667589083,\n",
       " 1.0342587110772024,\n",
       " 0.9996360490980767,\n",
       " 0.9780964397916408,\n",
       " 0.9646359201281246,\n",
       " 0.9563445594782267,\n",
       " 0.9507594700935001,\n",
       " 0.9467843041865002,\n",
       " 0.943782044872143,\n",
       " 0.941854267144461]"
      ]
     },
     "execution_count": 100,
     "metadata": {},
     "output_type": "execute_result"
    }
   ],
   "source": [
    "rmse_test[:10]"
   ]
  },
  {
   "cell_type": "code",
   "execution_count": 101,
   "metadata": {},
   "outputs": [
    {
     "data": {
      "text/plain": [
       "0.8959692745565979"
      ]
     },
     "execution_count": 101,
     "metadata": {},
     "output_type": "execute_result"
    }
   ],
   "source": [
    "# 손실함수 최솟값\n",
    "np.min( rmse_test )"
   ]
  },
  {
   "cell_type": "code",
   "execution_count": 102,
   "metadata": {},
   "outputs": [
    {
     "data": {
      "text/plain": [
       "(1.120180145761465, 0.8959692745565979)"
      ]
     },
     "execution_count": 102,
     "metadata": {},
     "output_type": "execute_result"
    }
   ],
   "source": [
    "# 하이퍼파라미터 적용 후 성능 개선\n",
    "np.std(y_test), np.min( rmse_test )"
   ]
  },
  {
   "cell_type": "code",
   "execution_count": 103,
   "metadata": {},
   "outputs": [],
   "source": [
    "# 사용자아이디, 영화아이디 ↔ 평점 관계에 대한 회귀알고리즘을 적용하여 상관성\n",
    "# 체크 → 이를 판단하는 지표로 평균 제곱근 오차를 이용\n",
    "# → 손실함수를 통해서 판단을 줄이는 방향으로 개선(하이퍼파라미터 튜닝, 난수값 조정)\n",
    "\n",
    "# 회귀 알고리즘 → 인수분해머신 기능을 지원하는 libFM을 사용 → C++ \n",
    "# → 파이썬 버전 fastFM을 사용한 것이다 → 오픈소스 알고리즘"
   ]
  },
  {
   "cell_type": "code",
   "execution_count": 104,
   "metadata": {},
   "outputs": [],
   "source": [
    "from matplotlib import pyplot as plt"
   ]
  },
  {
   "cell_type": "code",
   "execution_count": 105,
   "metadata": {},
   "outputs": [
    {
     "data": {
      "text/plain": [
       "array([  1,   2,   3,   4,   5,   6,   7,   8,   9,  10,  11,  12,  13,\n",
       "        14,  15,  16,  17,  18,  19,  20,  21,  22,  23,  24,  25,  26,\n",
       "        27,  28,  29,  30,  31,  32,  33,  34,  35,  36,  37,  38,  39,\n",
       "        40,  41,  42,  43,  44,  45,  46,  47,  48,  49,  50,  51,  52,\n",
       "        53,  54,  55,  56,  57,  58,  59,  60,  61,  62,  63,  64,  65,\n",
       "        66,  67,  68,  69,  70,  71,  72,  73,  74,  75,  76,  77,  78,\n",
       "        79,  80,  81,  82,  83,  84,  85,  86,  87,  88,  89,  90,  91,\n",
       "        92,  93,  94,  95,  96,  97,  98,  99, 100, 101, 102, 103, 104,\n",
       "       105, 106, 107, 108, 109, 110, 111, 112, 113, 114, 115, 116, 117,\n",
       "       118, 119, 120, 121, 122, 123, 124, 125, 126, 127, 128, 129, 130,\n",
       "       131, 132, 133, 134, 135, 136, 137, 138, 139, 140, 141, 142, 143,\n",
       "       144, 145, 146, 147, 148, 149, 150, 151, 152, 153, 154, 155, 156,\n",
       "       157, 158, 159, 160, 161, 162, 163, 164, 165, 166, 167, 168, 169,\n",
       "       170, 171, 172, 173, 174, 175, 176, 177, 178, 179, 180, 181, 182,\n",
       "       183, 184, 185, 186, 187, 188, 189, 190, 191, 192, 193, 194, 195,\n",
       "       196, 197, 198, 199, 200, 201, 202, 203, 204, 205, 206, 207, 208,\n",
       "       209, 210, 211, 212, 213, 214, 215, 216, 217, 218, 219, 220, 221,\n",
       "       222, 223, 224, 225, 226, 227, 228, 229, 230, 231, 232, 233, 234,\n",
       "       235, 236, 237, 238, 239, 240, 241, 242, 243, 244, 245, 246, 247,\n",
       "       248, 249, 250, 251, 252, 253, 254, 255, 256, 257, 258, 259, 260,\n",
       "       261, 262, 263, 264, 265, 266, 267, 268, 269, 270, 271, 272, 273,\n",
       "       274, 275, 276, 277, 278, 279, 280, 281, 282, 283, 284, 285, 286,\n",
       "       287, 288, 289, 290, 291, 292, 293, 294, 295, 296, 297, 298, 299])"
      ]
     },
     "execution_count": 105,
     "metadata": {},
     "output_type": "execute_result"
    }
   ],
   "source": [
    "# 시각화를 하기 위해서 step_size(간격)이 벌어지면 \n",
    "# 데이터가 채워지는 인덱스도 벌어지므로\n",
    "# 자동으로 대응하기 위해서 step_size를 구성\n",
    "x = np.arange( 1, n_iter ) * step_size\n",
    "x"
   ]
  },
  {
   "cell_type": "code",
   "execution_count": 106,
   "metadata": {},
   "outputs": [
    {
     "data": {
      "text/plain": [
       "<matplotlib.legend.Legend at 0x7f20a384e358>"
      ]
     },
     "execution_count": 106,
     "metadata": {},
     "output_type": "execute_result"
    },
    {
     "data": {
      "image/png": "[encoded data removed]",
      "text/plain": [
       "<Figure size 1080x576 with 4 Axes>"
      ]
     },
     "metadata": {
      "needs_background": "light"
     },
     "output_type": "display_data"
    }
   ],
   "source": [
    "fig, axes = plt.subplots(nrows=2, ncols=2, sharex=True, figsize=(15, 8))\n",
    "\n",
    "# rmse : 평균제곱근오차\n",
    "axes[0, 0].plot( x, rmse_test, label='X_dev_test rmse', color='r' )\n",
    "axes[0, 0].legend()\n",
    "\n",
    "# alpha : 하이퍼파라미터 중 0번째\n",
    "axes[0, 1].plot( x, hyper_params_storage[:-1, 0], label='alpha', color='b' )\n",
    "axes[0, 1].legend()\n",
    "\n",
    "# lambda_w : 하이퍼파라미터 중 1번째\n",
    "axes[1, 0].plot( x, hyper_params_storage[:-1, 1], label='lambda_w', color='g' )\n",
    "axes[1, 0].legend()\n",
    "\n",
    "# mu_w : 하이퍼파라미터 중 3번째\n",
    "axes[1, 1].plot( x, hyper_params_storage[:-1, 3], label='mu_w', color='r' )\n",
    "axes[1, 1].legend()"
   ]
  },
  {
   "cell_type": "code",
   "execution_count": 108,
   "metadata": {},
   "outputs": [],
   "source": [
    "# 값의 편차가 급격히 차이가 나면 \n",
    "# 의미없는 부분이나 큰 부분은 배제 (여기서는 ~5까지를 배제)\n",
    "# → 집중해야 될 부분을 정확하게 볼 수 있다"
   ]
  },
  {
   "cell_type": "code",
   "execution_count": 107,
   "metadata": {},
   "outputs": [
    {
     "data": {
      "text/plain": [
       "<matplotlib.legend.Legend at 0x7f20a38a9470>"
      ]
     },
     "execution_count": 107,
     "metadata": {},
     "output_type": "execute_result"
    },
    {
     "data": {
      "image/png": "[encoded data removed]",
      "text/plain": [
       "<Figure size 1080x576 with 4 Axes>"
      ]
     },
     "metadata": {
      "needs_background": "light"
     },
     "output_type": "display_data"
    }
   ],
   "source": [
    "fig, axes = plt.subplots(nrows=2, ncols=2, sharex=True, figsize=(15, 8))\n",
    "\n",
    "# rmse : 평균제곱근오차\n",
    "axes[0, 0].plot( x[5:], rmse_test[5:], label='X_dev_test rmse', color='r' )\n",
    "axes[0, 0].legend()\n",
    "\n",
    "# alpha : 하이퍼파라미터 중 0번째\n",
    "axes[0, 1].plot( x[5:], hyper_params_storage[5:-1, 0], label='alpha', color='b' )\n",
    "axes[0, 1].legend()\n",
    "\n",
    "# lambda_w : 하이퍼파라미터 중 1번째\n",
    "axes[1, 0].plot( x[5:], hyper_params_storage[5:-1, 1], label='lambda_w', color='g' )\n",
    "axes[1, 0].legend()\n",
    "\n",
    "# mu_w : 하이퍼파라미터 중 3번째\n",
    "axes[1, 1].plot( x[5:], hyper_params_storage[5:-1, 3], label='mu_w', color='r' )\n",
    "axes[1, 1].legend()"
   ]
  },
  {
   "cell_type": "code",
   "execution_count": null,
   "metadata": {},
   "outputs": [],
   "source": [
    "# 반복 구간이 특정 수치를 넘어가면\n",
    "# ex) mu_w는 100, alpha는 150 지점\n",
    "# 안정화 되어간다 → 값 수렴\n",
    "\n",
    "# 검증 데이터의 표준편차가 1.2였는데, \n",
    "# 예측 시점에서 평균제곱은 오차가 0.89까지 감소되었다\n",
    "\n",
    "# 위의 하이퍼파라미터는 random_state를 조정한 것\n",
    "# → rank나 다른 요소도 검토하면 결과치는 다를 수 있다\n",
    "# → 하이퍼파라미터 튜닝 기법을 이용하여 자동화 처리 수행하는 게 좀 더 효율적\n",
    "\n",
    "# 현 시점에서 시도해볼 수 있는 향상 방법\n",
    "# → 평점 1.0 ~ 5.0 사이 존재\n",
    "# => 정규화를 통해서 평점을 0 ~ 1 사이로 조정(스케일러)\n",
    "# 성능 향상을 꾀할 수 있다"
   ]
  },
  {
   "cell_type": "markdown",
   "metadata": {},
   "source": [
    "- 상황인지추천 기법\n",
    "- 다양한 특성 조합을 바꿔가면서, 테스트를 수행 → 예측 성능을 높일 수 있는 검증 수행 가능\n",
    "- 사용자 아이디와 아이템 아이디만을 이용하여 예측모델을 구축했는데, \n",
    "- 기타 특성을 조합해서 예측성능을 높일 수 있다면(기본 정보 이외의 기타 정보를 활용하여 추천을 수행할 수 있다면) 이것을 '상황인지추천'이라고 정의 \n",
    "- fastFM 지원 여러 특성 조합을 테스트할 수 있다"
   ]
  },
  {
   "cell_type": "code",
   "execution_count": 139,
   "metadata": {},
   "outputs": [
    {
     "data": {
      "text/plain": [
       "Index(['mid', 'title', 'release_date', 'video_release_date', 'imdb_url', 'uid',\n",
       "       'rating', 'unix_timestamp', 'date', 'age', 'sex', 'job', 'zip_code'],\n",
       "      dtype='object')"
      ]
     },
     "execution_count": 139,
     "metadata": {},
     "output_type": "execute_result"
    }
   ],
   "source": [
    "movie_lens.columns"
   ]
  },
  {
   "cell_type": "code",
   "execution_count": 140,
   "metadata": {
    "scrolled": true
   },
   "outputs": [
    {
     "data": {
      "text/html": [
       "<div>\n",
       "<style scoped>\n",
       "    .dataframe tbody tr th:only-of-type {\n",
       "        vertical-align: middle;\n",
       "    }\n",
       "\n",
       "    .dataframe tbody tr th {\n",
       "        vertical-align: top;\n",
       "    }\n",
       "\n",
       "    .dataframe thead th {\n",
       "        text-align: right;\n",
       "    }\n",
       "</style>\n",
       "<table border=\"1\" class=\"dataframe\">\n",
       "  <thead>\n",
       "    <tr style=\"text-align: right;\">\n",
       "      <th></th>\n",
       "      <th>mid</th>\n",
       "      <th>title</th>\n",
       "      <th>release_date</th>\n",
       "      <th>video_release_date</th>\n",
       "      <th>imdb_url</th>\n",
       "      <th>uid</th>\n",
       "      <th>rating</th>\n",
       "      <th>unix_timestamp</th>\n",
       "      <th>date</th>\n",
       "      <th>age</th>\n",
       "      <th>sex</th>\n",
       "      <th>job</th>\n",
       "      <th>zip_code</th>\n",
       "    </tr>\n",
       "  </thead>\n",
       "  <tbody>\n",
       "    <tr>\n",
       "      <td>0</td>\n",
       "      <td>1</td>\n",
       "      <td>Toy Story (1995)</td>\n",
       "      <td>01-Jan-1995</td>\n",
       "      <td>NaN</td>\n",
       "      <td>http://us.imdb.com/M/title-exact?Toy%20Story%2...</td>\n",
       "      <td>308</td>\n",
       "      <td>4</td>\n",
       "      <td>887736532</td>\n",
       "      <td>1998-02-17 17:28:52</td>\n",
       "      <td>60</td>\n",
       "      <td>M</td>\n",
       "      <td>retired</td>\n",
       "      <td>95076</td>\n",
       "    </tr>\n",
       "  </tbody>\n",
       "</table>\n",
       "</div>"
      ],
      "text/plain": [
       "   mid             title release_date  video_release_date  \\\n",
       "0    1  Toy Story (1995)  01-Jan-1995                 NaN   \n",
       "\n",
       "                                            imdb_url  uid  rating  \\\n",
       "0  http://us.imdb.com/M/title-exact?Toy%20Story%2...  308       4   \n",
       "\n",
       "   unix_timestamp                date  age sex      job zip_code  \n",
       "0       887736532 1998-02-17 17:28:52   60   M  retired    95076  "
      ]
     },
     "execution_count": 140,
     "metadata": {},
     "output_type": "execute_result"
    }
   ],
   "source": [
    "movie_lens.head(1)"
   ]
  },
  {
   "cell_type": "code",
   "execution_count": 147,
   "metadata": {},
   "outputs": [],
   "source": [
    "# 기존 데이터에서 파생변수를 만들어서 활용 가능\n",
    "# movie_lens['release_date'].apply(str).str.split('-')\n",
    "\n",
    "def getYear(x) :\n",
    "    # print(type(x))\n",
    "    # 데이터를 안전하게 획득하려고 조건문을 쓰지만\n",
    "    # 사전에 Nan으로 판단되는 결측치는 미리 제거하고 진행해야 한다\n",
    "    # (이런 경우에는 조건문이 굳이 필요 없다)\n",
    "    if x :\n",
    "        t = str(x).split('-')\n",
    "        if len(t) == 3 :\n",
    "            return t[2]\n",
    "\n",
    "# 필요한 컬럼 추가\n",
    "movie_lens['year'] = movie_lens['release_date'].apply(getYear)"
   ]
  },
  {
   "cell_type": "code",
   "execution_count": 152,
   "metadata": {},
   "outputs": [
    {
     "data": {
      "text/plain": [
       "[['uid', 'mid', 'age', 'sex', 'year', 'rating'],\n",
       " ['uid', 'mid', 'sex', 'year', 'rating'],\n",
       " ['uid', 'mid', 'age', 'sex', 'rating'],\n",
       " ['uid', 'mid', 'rating']]"
      ]
     },
     "execution_count": 152,
     "metadata": {},
     "output_type": "execute_result"
    }
   ],
   "source": [
    "# 컬럼 조합 후보\n",
    "candidate_columns = [\n",
    "    ['uid', 'mid', 'age', 'sex', 'year', 'rating'],\n",
    "    ['uid', 'mid', 'sex', 'year', 'rating'],\n",
    "    ['uid', 'mid', 'age', 'sex', 'rating'],\n",
    "    ['uid', 'mid', 'rating']\n",
    "]\n",
    "candidate_columns"
   ]
  },
  {
   "cell_type": "code",
   "execution_count": 153,
   "metadata": {},
   "outputs": [
    {
     "data": {
      "text/html": [
       "<div>\n",
       "<style scoped>\n",
       "    .dataframe tbody tr th:only-of-type {\n",
       "        vertical-align: middle;\n",
       "    }\n",
       "\n",
       "    .dataframe tbody tr th {\n",
       "        vertical-align: top;\n",
       "    }\n",
       "\n",
       "    .dataframe thead th {\n",
       "        text-align: right;\n",
       "    }\n",
       "</style>\n",
       "<table border=\"1\" class=\"dataframe\">\n",
       "  <thead>\n",
       "    <tr style=\"text-align: right;\">\n",
       "      <th></th>\n",
       "      <th>uid</th>\n",
       "      <th>mid</th>\n",
       "      <th>age</th>\n",
       "      <th>sex</th>\n",
       "      <th>year</th>\n",
       "      <th>rating</th>\n",
       "    </tr>\n",
       "  </thead>\n",
       "  <tbody>\n",
       "    <tr>\n",
       "      <td>0</td>\n",
       "      <td>308</td>\n",
       "      <td>1</td>\n",
       "      <td>60</td>\n",
       "      <td>M</td>\n",
       "      <td>1995</td>\n",
       "      <td>4</td>\n",
       "    </tr>\n",
       "    <tr>\n",
       "      <td>1</td>\n",
       "      <td>308</td>\n",
       "      <td>4</td>\n",
       "      <td>60</td>\n",
       "      <td>M</td>\n",
       "      <td>1995</td>\n",
       "      <td>5</td>\n",
       "    </tr>\n",
       "  </tbody>\n",
       "</table>\n",
       "</div>"
      ],
      "text/plain": [
       "   uid  mid  age sex  year  rating\n",
       "0  308    1   60   M  1995       4\n",
       "1  308    4   60   M  1995       5"
      ]
     },
     "execution_count": 153,
     "metadata": {},
     "output_type": "execute_result"
    }
   ],
   "source": [
    "movie_lens[ candidate_columns[0] ].head(2)"
   ]
  },
  {
   "cell_type": "code",
   "execution_count": 154,
   "metadata": {},
   "outputs": [],
   "source": [
    "# 특정 컬럼 문자열로 타입 전환\n",
    "movie_lens['uid'] = movie_lens['uid'].astype(str)\n",
    "movie_lens['mid'] = movie_lens['mid'].astype(str)"
   ]
  },
  {
   "cell_type": "code",
   "execution_count": 155,
   "metadata": {},
   "outputs": [],
   "source": [
    "# 하이퍼파라미터 고정\n",
    "rmse_test = []\n",
    "n_iter = 500\n",
    "seed = 123\n",
    "rank = 8"
   ]
  },
  {
   "cell_type": "code",
   "execution_count": 178,
   "metadata": {},
   "outputs": [],
   "source": [
    "# 정규화 모듈\n",
    "from sklearn.preprocessing import StandardScaler"
   ]
  },
  {
   "cell_type": "code",
   "execution_count": 180,
   "metadata": {},
   "outputs": [],
   "source": [
    "col = candidate_columns[0]\n",
    "# 1. 결측 제거\n",
    "filtered_movie_lens = movie_lens[ col ].dropna()\n",
    "# 2. 벡터화 도구\n",
    "v = DictVectorizer()\n",
    "# 3. 데이터를 벡터화할 수 있게 [ {}, {} ] 구조로 변환\n",
    "tmp = list(filtered_movie_lens.drop('rating', axis=1).T.to_dict().values())\n",
    "# 4. 벡터화\n",
    "X_ori_addFeature = v.fit_transform( tmp )\n",
    "y_ori_addFeature = filtered_movie_lens['rating'].to_list()\n",
    "# 5. 데이터 분류\n",
    "X_train, X_test, y_train, y_test = train_test_split( X_ori_addFeature, y_ori_addFeature, test_size = 0.1, random_state = 42 )"
   ]
  },
  {
   "cell_type": "code",
   "execution_count": 181,
   "metadata": {},
   "outputs": [
    {
     "data": {
      "text/plain": [
       "([4, 5], list)"
      ]
     },
     "execution_count": 181,
     "metadata": {},
     "output_type": "execute_result"
    }
   ],
   "source": [
    "y_train[:2], type(y_train)"
   ]
  },
  {
   "cell_type": "code",
   "execution_count": 183,
   "metadata": {},
   "outputs": [
    {
     "data": {
      "text/plain": [
       "array([[4],\n",
       "       [5],\n",
       "       [5],\n",
       "       ...,\n",
       "       [4],\n",
       "       [2],\n",
       "       [3]])"
      ]
     },
     "execution_count": 183,
     "metadata": {},
     "output_type": "execute_result"
    }
   ],
   "source": [
    "np.array(y_train).reshape(-1, 1)"
   ]
  },
  {
   "cell_type": "code",
   "execution_count": 185,
   "metadata": {},
   "outputs": [],
   "source": [
    "# 6. 평점 정규화\n",
    "scaler = StandardScaler()\n",
    "# ravel()는 1차로 다시 펼쳐주는 함수 ↔ reshape\n",
    "y_train_norm = scaler.fit_transform( np.array(y_train).reshape(-1, 1) ).ravel()\n",
    "# 검토사항 값의 범위"
   ]
  },
  {
   "cell_type": "code",
   "execution_count": 186,
   "metadata": {},
   "outputs": [],
   "source": [
    "# 7. 알고리즘 생성\n",
    "fm = mcmc.FMRegression( n_iter = n_iter, rank = rank, random_state = seed )"
   ]
  },
  {
   "cell_type": "code",
   "execution_count": 187,
   "metadata": {},
   "outputs": [],
   "source": [
    "# 8. 훈련하면서 예측\n",
    "y_pred = fm.fit_predict( X_train, y_train_norm, X_test )"
   ]
  },
  {
   "cell_type": "code",
   "execution_count": 188,
   "metadata": {},
   "outputs": [],
   "source": [
    "# 9. 손실함수 결과 추가\n",
    "# scaler.inverse_transform() ↔ scaler.fit_transform()\n",
    "# 평균 제곱근 오차를 수행하기 위해서 \n",
    "# 입력 데이터들(예측값, 실제값)이 형태가 동일해야 하고\n",
    "# 값의 범주도 동일해야 한다\n",
    "# 정규화된 데이터가 실제값과 같은 범주에 들어오도록\n",
    "# inverse_transform()을 통해서 변환 처리\n",
    "rmse_test.append( np.sqrt( mean_squared_error( scaler.inverse_transform( y_pred.reshape(-1,1) ), y_test ) ) )"
   ]
  },
  {
   "cell_type": "code",
   "execution_count": 189,
   "metadata": {},
   "outputs": [
    {
     "data": {
      "text/plain": [
       "[0.8868912332560999]"
      ]
     },
     "execution_count": 189,
     "metadata": {},
     "output_type": "execute_result"
    }
   ],
   "source": [
    "rmse_test"
   ]
  },
  {
   "cell_type": "code",
   "execution_count": 192,
   "metadata": {},
   "outputs": [
    {
     "name": "stdout",
     "output_type": "stream",
     "text": [
      "<class 'scipy.sparse.csr.csr_matrix'> <class 'list'>\n",
      "<class 'scipy.sparse.csr.csr_matrix'> <class 'list'>\n",
      "<class 'scipy.sparse.csr.csr_matrix'> <class 'list'>\n",
      "<class 'scipy.sparse.csr.csr_matrix'> <class 'list'>\n"
     ]
    }
   ],
   "source": [
    "rmse_test = []\n",
    "# 조합별 반복\n",
    "for col in candidate_columns :\n",
    "    # print(movie_lens[ col ].head(1))\n",
    "    # 1. 결측 제거\n",
    "    filtered_movie_lens = movie_lens[ col ].dropna()\n",
    "    \n",
    "    # 2. 벡터화 도구\n",
    "    v = DictVectorizer()\n",
    "    # rating을 제거 → 사본 처리 → dict화 () → 리스트의 멤버 [ {}, {} ] → 벡터화\n",
    "    \n",
    "    # 3. 데이터를 벡터화할 수 있게 [ {}, {} ] 구조로 변환\n",
    "    # rating을 제거 → 사본 처리\n",
    "    ### print( list(filtered_movie_lens.drop('rating', axis = 1).T.to_dict.values() ))\n",
    "    # print( list(filtered_movie_lens.drop('rating', axis=1).T.to_dict().values()) )\n",
    "    ### tmp = list(filtered_movie_lens.drop('rating', axis = 1).T.to_dict.values())\n",
    "    tmp = list(filtered_movie_lens.drop('rating', axis=1).T.to_dict().values())\n",
    "    \n",
    "    # 4. 벡터화\n",
    "    X_ori_addFeature = v.fit_transform( tmp )\n",
    "    # print( X_ori_addFeature )\n",
    "    y_ori_addFeature = filtered_movie_lens['rating'].to_list()\n",
    "    # train_test_split() 함수에 넣는 데이터의 형식으로 서로 맞춰주기 위해 리스트화 처리\n",
    "    # 일반적으로 넣어 보고 에러나면 보정하는 방법도 있음\n",
    "    print( type(X_ori_addFeature), type(y_ori_addFeature) )\n",
    "    \n",
    "    # 5. 데이터 분류\n",
    "    X_train, X_test, y_train, y_test = train_test_split( X_ori_addFeature, y_ori_addFeature, test_size = 0.1, random_state = 42 )\n",
    "    \n",
    "    # 6. 평점 정규화\n",
    "    scaler = StandardScaler()\n",
    "    y_train_norm = scaler.fit_transform( np.array(y_train).reshape(-1, 1) ).ravel()\n",
    "    \n",
    "    # 7. 알고리즘 생성\n",
    "    fm = mcmc.FMRegression( n_iter = n_iter, rank = rank, random_state = seed )\n",
    "    \n",
    "    # 8. 훈련하면서 예측\n",
    "    y_pred = fm.fit_predict( X_train, y_train_norm, X_test )\n",
    "    \n",
    "    # 9. 손실함수 결과 추가\n",
    "    # scaler.inverse_transform() ↔ scaler.fit_transform()\n",
    "    # 평균 제곱근 오차를 수행하기 위해서 \n",
    "    # 입력 데이터들(예측값, 실제값)이 형태가 동일해야 하고\n",
    "    # 값의 범주도 동일해야 한다\n",
    "    # 정규화된 데이터가 실제값과 같은 범주에 들어오도록\n",
    "    # inverse_transform()을 통해서 변환 처리\n",
    "    rmse_test.append( np.sqrt( mean_squared_error( scaler.inverse_transform( y_pred.reshape(-1,1) ), y_test ) ) )\n",
    "    \n",
    "    \n",
    "    # break"
   ]
  },
  {
   "cell_type": "code",
   "execution_count": 193,
   "metadata": {},
   "outputs": [
    {
     "data": {
      "text/plain": [
       "[0.8868912332560999, 0.8834404187907334, 0.8922375852811406, 0.887744557428427]"
      ]
     },
     "execution_count": 193,
     "metadata": {},
     "output_type": "execute_result"
    }
   ],
   "source": [
    "rmse_test"
   ]
  },
  {
   "cell_type": "code",
   "execution_count": 194,
   "metadata": {},
   "outputs": [
    {
     "data": {
      "text/plain": [
       "array([0, 1, 2, 3])"
      ]
     },
     "execution_count": 194,
     "metadata": {},
     "output_type": "execute_result"
    }
   ],
   "source": [
    "# x축에는 A, B, C, D\n",
    "# y축에는 값\n",
    "# 바차트\n",
    "# y값의 제한, 0.88-0.90 사이로 제한\n",
    "index = np.arange( len( rmse_test ) )\n",
    "index"
   ]
  },
  {
   "cell_type": "code",
   "execution_count": 196,
   "metadata": {},
   "outputs": [
    {
     "data": {
      "text/plain": [
       "(0.88, 0.895)"
      ]
     },
     "execution_count": 196,
     "metadata": {},
     "output_type": "execute_result"
    },
    {
     "data": {
      "image/png": "[encoded data removed]",
      "text/plain": [
       "<Figure size 432x288 with 1 Axes>"
      ]
     },
     "metadata": {},
     "output_type": "display_data"
    }
   ],
   "source": [
    "bar = plt.bar( index, height = rmse_test )\n",
    "plt.xticks(index, ('A', 'B', 'C', 'D'))\n",
    "plt.ylim( 0.88, 0.895 )\n",
    "# B 조합 ['uid', 'mid', 'sex', 'year', 'rating']이 가장 좋은 성능을 내고 있다\n",
    "# 다양한 특성 조합을 간단하게 변경해가면서 성능 평가를 수행\n",
    "# 어떤 특성을 추가하면 성능을 높일 수 있는지 쉽게 검증 가능\n",
    "# uid와 mid 이외에 정보를 활용하여 추천을 수행하는 추천모델을 만드는 방식 → 상황인지추천"
   ]
  },
  {
   "cell_type": "code",
   "execution_count": null,
   "metadata": {},
   "outputs": [],
   "source": []
  },
  {
   "cell_type": "code",
   "execution_count": null,
   "metadata": {},
   "outputs": [],
   "source": []
  }
 ],
 "metadata": {
  "kernelspec": {
   "display_name": "Python 3",
   "language": "python",
   "name": "python3"
  },
  "language_info": {
   "codemirror_mode": {
    "name": "ipython",
    "version": 3
   },
   "file_extension": ".py",
   "mimetype": "text/x-python",
   "name": "python",
   "nbconvert_exporter": "python",
   "pygments_lexer": "ipython3",
   "version": "3.6.8"
  }
 },
 "nbformat": 4,
 "nbformat_minor": 2
}
