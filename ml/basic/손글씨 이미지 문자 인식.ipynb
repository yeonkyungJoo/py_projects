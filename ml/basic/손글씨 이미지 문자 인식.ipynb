{
 "cells": [
  {
   "cell_type": "markdown",
   "metadata": {},
   "source": [
    "## 손글씨 이미지 데이터 MNIST\n",
    "- 많은 이미지 데이터 학습\n",
    "- 학습 후 새로운 데이터 입력 시 판별\n",
    "- 지도 학습\n",
    "- 데이터는 학습용 6만개, 테스트 전용 1만개\n",
    "- http://yann.lecun.com/exdb/mnist/  \n",
    "train-images-idx3-ubyte.gz:  training set images (9912422 bytes)  \n",
    "train-labels-idx1-ubyte.gz:  training set labels (28881 bytes)   \n",
    "t10k-images-idx3-ubyte.gz:   test set images (1648877 bytes)   \n",
    "t10k-labels-idx1-ubyte.gz:   test set labels (4542 bytes)"
   ]
  },
  {
   "cell_type": "markdown",
   "metadata": {},
   "source": [
    "### 1. 연구목표"
   ]
  },
  {
   "cell_type": "markdown",
   "metadata": {},
   "source": [
    "### 2. 데이터 획득/수집\n",
    "- 손글씨 이미지(숫자 0~9)를 학습시켜서, 이후에 새로운 손글씨 이미지를 판별해내는 머신러닝 모듈 구현\n",
    "- 이미지 데이터를 디코딩하고, 이미지 하나당 구성된 총 픽셀 수 및 사이즈를 계산하여 이미지를 추출 → 디코딩 → 6만개의 데이터 생성\n",
    "- 이미지와 같은 바이너리 데이터를 벡터화하는 과정"
   ]
  },
  {
   "cell_type": "markdown",
   "metadata": {},
   "source": [
    "### 3. 데이터 준비/통찰/전처리\n",
    "- http://yann.lecun.com/exdb/mnist/ 접속\n",
    "- (데이터 수집 level3) 웹 스크래핑을 활용하여 압축 데이터를 받는 URL 획득\n",
    "- 압축 데이터를 직접 요청하여 받고 저장하면서 압축 풀기 등 일련의 과정 진행"
   ]
  },
  {
   "cell_type": "markdown",
   "metadata": {},
   "source": [
    "### 4. 데이터 탐색/통찰/시각화\n",
    "- MNIST database 구조 이해\n",
    "- 디코딩 처리 가능\n",
    "- 엔디언 내용 추가 이해"
   ]
  },
  {
   "cell_type": "markdown",
   "metadata": {},
   "source": [
    "### 5. 데이터 모델링 or 모델 구축"
   ]
  },
  {
   "cell_type": "markdown",
   "metadata": {},
   "source": [
    "### 6. 시스템 통합 or 솔루션/서비스/레포트"
   ]
  },
  {
   "cell_type": "code",
   "execution_count": null,
   "metadata": {},
   "outputs": [],
   "source": []
  },
  {
   "cell_type": "markdown",
   "metadata": {},
   "source": [
    "#### 2. 데이터 획득/수집\n",
    "- 2-1. 수집할 데이터 url 획득"
   ]
  },
  {
   "cell_type": "code",
   "execution_count": 1,
   "metadata": {},
   "outputs": [],
   "source": [
    "import urllib.request as req\n",
    "from bs4 import BeautifulSoup"
   ]
  },
  {
   "cell_type": "code",
   "execution_count": 2,
   "metadata": {},
   "outputs": [
    {
     "data": {
      "text/plain": [
       "'http://yann.lecun.com/exdb/mnist/'"
      ]
     },
     "execution_count": 2,
     "metadata": {},
     "output_type": "execute_result"
    }
   ],
   "source": [
    "target_site = 'http://yann.lecun.com/exdb/mnist/'\n",
    "target_site"
   ]
  },
  {
   "cell_type": "code",
   "execution_count": 3,
   "metadata": {},
   "outputs": [
    {
     "data": {
      "text/plain": [
       "<http.client.HTTPResponse at 0x2109d0f1240>"
      ]
     },
     "execution_count": 3,
     "metadata": {},
     "output_type": "execute_result"
    }
   ],
   "source": [
    "page = req.urlopen(target_site)\n",
    "page"
   ]
  },
  {
   "cell_type": "code",
   "execution_count": 4,
   "metadata": {},
   "outputs": [
    {
     "data": {
      "text/plain": [
       "<html><head>\n",
       "   <meta content=\"text/html; charset=utf-8\" http-equiv=\"Content-Type\"/>\n",
       "   <title>MNIST handwritten digit database, Yann LeCun, Corinna Cortes and Chris Burges</title>\n",
       "<script type=\"text/javascript\">\n",
       "var gaJsHost = ((\"https:\" == document.location.protocol) ? \"https://ssl.\" : \"http://www.\");\n",
       "document.write(unescape(\"%3Cscript src='\" + gaJsHost + \"google-analytics.com/ga.js' type='text/javascript'%3E%3C/script%3E\"));\n",
       "</script><script type=\"text/javascript\">\n",
       "var pageTracker = _gat._getTracker(\"UA-6178702-1\");\n",
       "pageTracker._trackPageview();\n",
       "</script></head>\n",
       "\n",
       "\n",
       "\n",
       "\n",
       "<body alink=\"#111111\" background=\"wm5b.gif\" bgcolor=\"#FFFFFF\" link=\"#FF0000\" vlink=\"#820594\">\n",
       "\n",
       "<center>\n",
       "<h1>\n",
       "<font color=\"#FF0000\"><font size=\"+4\">THE MNIST DATABASE</font></font></h1></center>\n",
       "\n",
       "<center><font color=\"#FF0000\"><font size=\"+4\">of handwritten digits</font></font></center>\n",
       "\n",
       "<center><font color=\"#FF0000\"><font size=\"+4\"></font></font></center>\n",
       "\n",
       "<center><font color=\"#3366FF\"><font size=\"+1\"><a href=\"http://yann.lecun.com\">Yann LeCun</a>, Courant Institute, NYU</font></font></center>\n",
       "<center><font color=\"#3366FF\"><font size=\"+1\"><a href=\"http://homepage.mac.com/corinnacortes/\">Corinna Cortes</a>, Google Labs, New York</font></font></center>\n",
       "<center><font color=\"#3366FF\"><font size=\"+1\"><a href=\"http://research.microsoft.com/en-us/people/cburges/\">Christopher J.C. Burges</a>, Microsoft Research, Redmond</font></font></center>\n",
       "\n",
       "<center> </center>\n",
       "The MNIST database of handwritten digits, available from this page, has a\n",
       "training set of 60,000 examples, and a test set of 10,000 examples. It\n",
       "is a subset of a larger set available from NIST. The digits have\n",
       "been size-normalized and centered in a fixed-size image.\n",
       "<p>\n",
       "It is a good database for people who want to try learning techniques\n",
       "and pattern recognition methods on real-world data while spending minimal\n",
       "efforts on preprocessing and formatting.\n",
       "</p><p>\n",
       "Four files are available on this site:\n",
       "\n",
       "</p><p><tt><a href=\"train-images-idx3-ubyte.gz\">train-images-idx3-ubyte.gz</a>: \n",
       "training set images (9912422 bytes)</tt>\n",
       "<br/><tt><a href=\"train-labels-idx1-ubyte.gz\">train-labels-idx1-ubyte.gz</a>: \n",
       "training set labels (28881 bytes)</tt>\n",
       "<br/><tt><a href=\"t10k-images-idx3-ubyte.gz\">t10k-images-idx3-ubyte.gz</a>:  \n",
       "test set images (1648877 bytes)</tt>\n",
       "<br/><tt><a href=\"t10k-labels-idx1-ubyte.gz\">t10k-labels-idx1-ubyte.gz</a>:  \n",
       "test set labels (4542 bytes)</tt>\n",
       "</p><p>\n",
       "<b>please note that your browser may uncompress these files without telling you</b>.\n",
       "If the files you downloaded have a larger size than the above, they have been\n",
       "uncompressed by your browser. Simply rename them to remove the .gz extension.\n",
       "Some people have asked me \"my application can't open your image files\".\n",
       "These files are not in any standard image format. You have to write\n",
       "your own (very simple) program to read them. The file format is described\n",
       "at the bottom of this page.\n",
       "</p><p>\n",
       "The original black and white (bilevel) images from NIST were size normalized\n",
       "to fit in a 20x20 pixel box while preserving their aspect ratio. The resulting\n",
       "images contain grey levels as a result of the anti-aliasing technique used\n",
       "by the normalization algorithm. the images were centered in a 28x28 image\n",
       "by computing the center of mass of the pixels, and translating the image\n",
       "so as to position this point at the center of the 28x28 field.\n",
       "</p><p>\n",
       "With some classification methods (particuarly template-based methods,\n",
       "such as SVM and K-nearest neighbors), the error rate improves when the\n",
       "digits are centered by bounding box rather than center of mass. If you\n",
       "do this kind of pre-processing, you should report it in your\n",
       "publications.\n",
       "</p><p>\n",
       "The MNIST database was constructed from NIST's Special Database 3 and\n",
       "Special Database 1 which contain binary images of handwritten digits. NIST\n",
       "originally designated SD-3 as their training set and SD-1 as their test\n",
       "set. However, SD-3 is much cleaner and easier to recognize than SD-1. The\n",
       "reason for this can be found on the fact that SD-3 was collected among\n",
       "Census Bureau employees, while SD-1 was collected among high-school students.\n",
       "Drawing sensible conclusions from learning experiments requires that the\n",
       "result be independent of the choice of training set and test among the\n",
       "complete set of samples. Therefore it was necessary to build a new database\n",
       "by mixing NIST's datasets.\n",
       "</p><p>\n",
       "The MNIST training set is composed of 30,000 patterns from SD-3 and\n",
       "30,000 patterns from SD-1. Our test set was composed of 5,000 patterns\n",
       "from SD-3 and 5,000 patterns from SD-1. The 60,000 pattern training set\n",
       "contained examples from approximately 250 writers. We made sure that the\n",
       "sets of writers of the training set and test set were disjoint.\n",
       "</p><p>\n",
       "SD-1 contains 58,527 digit images written by 500 different writers.\n",
       "In contrast to SD-3, where blocks of data from each writer appeared in\n",
       "sequence, the data in SD-1 is scrambled. Writer identities for SD-1 is\n",
       "available and we used this information to unscramble the writers. We then\n",
       "split SD-1 in two: characters written by the first 250 writers went into\n",
       "our new training set. The remaining 250 writers were placed in our test\n",
       "set. Thus we had two sets with nearly 30,000 examples each. The new training\n",
       "set was completed with enough examples from SD-3, starting at pattern #\n",
       "0, to make a full set of 60,000 training patterns. Similarly, the new test\n",
       "set was completed with SD-3 examples starting at pattern # 35,000 to make\n",
       "a full set with 60,000 test patterns. Only a subset of 10,000 test images\n",
       "(5,000 from SD-1 and 5,000 from SD-3) is available on this site. The full\n",
       "60,000 sample training set is available.\n",
       "</p><p>\n",
       "Many methods have been tested with this training set and test set. Here\n",
       "are a few examples. Details about the methods are given in an upcoming\n",
       "paper. Some of those experiments used a version of the database where the\n",
       "input images where deskewed (by computing the principal axis of the shape\n",
       "that is closest to the vertical, and shifting the lines so as to make it\n",
       "vertical). In some other experiments, the training set was augmented with\n",
       "artificially distorted versions of the original training samples. The distortions\n",
       "are random combinations of shifts, scaling, skewing, and compression.\n",
       "<br/> \n",
       "\n",
       "\n",
       "<table border=\"1\" cellpadding=\"3\">\n",
       "<tbody><tr><td>CLASSIFIER</td>\n",
       " <td>PREPROCESSING</td>\n",
       " <td align=\"right\">TEST ERROR RATE (%)</td>\n",
       " <td>Reference</td></tr>\n",
       "\n",
       "<tr><td align=\"center\" colspan=\"4\"><b>Linear Classifiers</b></td></tr>\n",
       "\n",
       "<tr><td>linear classifier (1-layer NN)</td>\n",
       "  <td>none</td>\n",
       "  <td align=\"right\">12.0</td>\n",
       "  <td><a href=\"http://yann.lecun.com/exdb/publis/index.html#lecun-98\">LeCun et al. 1998</a></td></tr>\n",
       "<tr><td>linear classifier (1-layer NN)</td>\n",
       "  <td>deskewing</td>\n",
       "  <td align=\"right\">8.4</td>\n",
       "  <td><a href=\"http://yann.lecun.com/exdb/publis/index.html#lecun-98\">LeCun et al. 1998</a></td></tr>\n",
       "<tr><td>pairwise linear classifier</td>\n",
       "  <td>deskewing</td>\n",
       "  <td align=\"right\">7.6</td>\n",
       "  <td><a href=\"http://yann.lecun.com/exdb/publis/index.html#lecun-98\">LeCun et al. 1998</a></td></tr>\n",
       "\n",
       "<tr><td align=\"center\" colspan=\"4\"><b>K-Nearest Neighbors</b></td></tr>\n",
       "\n",
       "<tr><td>K-nearest-neighbors, Euclidean (L2)</td>\n",
       "  <td>none</td>\n",
       "  <td align=\"right\">5.0</td>\n",
       "  <td><a href=\"http://yann.lecun.com/exdb/publis/index.html#lecun-98\">LeCun et al. 1998</a></td></tr>\n",
       "<tr><td>K-nearest-neighbors, Euclidean (L2)</td>\n",
       "  <td>none</td>\n",
       "  <td align=\"right\">3.09</td>\n",
       "  <td><a href=\"http://finmath.uchicago.edu/~wilder/Mnist/\">Kenneth Wilder, U. Chicago</a></td></tr>\n",
       "<tr><td>K-nearest-neighbors, L3</td>\n",
       "  <td>none</td>\n",
       "  <td align=\"right\">2.83</td>\n",
       "  <td><a href=\"http://finmath.uchicago.edu/~wilder/Mnist/\">Kenneth Wilder, U. Chicago</a></td></tr>\n",
       "<tr><td>K-nearest-neighbors, Euclidean (L2)</td>\n",
       "  <td>deskewing</td>\n",
       "  <td align=\"right\">2.4</td>\n",
       "  <td><a href=\"http://yann.lecun.com/exdb/publis/index.html#lecun-98\">LeCun et al. 1998</a></td></tr>\n",
       "<tr><td>K-nearest-neighbors, Euclidean (L2)</td>\n",
       "  <td>deskewing, noise removal, blurring</td>\n",
       "  <td align=\"right\">1.80</td>\n",
       "  <td><a href=\"http://finmath.uchicago.edu/~wilder/Mnist/\">Kenneth Wilder, U. Chicago</a></td></tr>\n",
       "<tr><td>K-nearest-neighbors, L3</td>\n",
       "  <td>deskewing, noise removal, blurring</td>\n",
       "  <td align=\"right\">1.73</td>\n",
       "  <td><a href=\"http://finmath.uchicago.edu/~wilder/Mnist/\">Kenneth Wilder, U. Chicago</a></td></tr>\n",
       "<tr><td>K-nearest-neighbors, L3</td>\n",
       "  <td>deskewing, noise removal, blurring, 1 pixel shift</td>\n",
       "  <td align=\"right\">1.33</td>\n",
       "  <td><a href=\"http://finmath.uchicago.edu/~wilder/Mnist/\">Kenneth Wilder, U. Chicago</a></td></tr>\n",
       "<tr><td>K-nearest-neighbors, L3</td>\n",
       "  <td>deskewing, noise removal, blurring, 2 pixel shift</td>\n",
       "  <td align=\"right\">1.22</td>\n",
       "  <td><a href=\"http://finmath.uchicago.edu/~wilder/Mnist/\">Kenneth  Wilder, U. Chicago</a></td></tr>\n",
       "\n",
       "<tr><td>K-NN with non-linear deformation (IDM)</td>\n",
       "  <td>shiftable edges</td>\n",
       "  <td align=\"right\">0.54</td>\n",
       "  <td><a href=\"http://www.iupr.org/~keysers/files/Keysers--Deformation-Models--TPAMI2007.pdf\">Keysers et al. IEEE PAMI 2007</a></td></tr>\n",
       "<tr><td>K-NN with non-linear deformation (P2DHMDM)</td>\n",
       "  <td>shiftable edges</td>\n",
       "  <td align=\"right\">0.52</td>\n",
       "  <td><a href=\"http://www.iupr.org/~keysers/files/Keysers--Deformation-Models--TPAMI2007.pdf\">Keysers et al. IEEE PAMI 2007</a></td></tr>\n",
       "<tr><td>K-NN, Tangent Distance</td>\n",
       "  <td>subsampling to 16x16 pixels</td>\n",
       "  <td align=\"right\">1.1</td>\n",
       "  <td><a href=\"http://yann.lecun.com/exdb/publis/index.html#lecun-98\">LeCun et al. 1998</a></td></tr>\n",
       "<tr><td>K-NN, shape context matching</td>\n",
       "  <td>shape context feature extraction</td>\n",
       "  <td align=\"right\">0.63</td>\n",
       "  <td><a href=\"http://http.cs.berkeley.edu/projects/vision/shape/\">Belongie et al. IEEE PAMI 2002</a></td></tr>\n",
       "\n",
       "<tr><td align=\"center\" colspan=\"4\"><b>Boosted Stumps</b></td></tr>\n",
       "\n",
       "<tr><td>boosted stumps</td>\n",
       "  <td>none</td>\n",
       "  <td align=\"right\">7.7</td>\n",
       "  <td><a href=\"http://users.web.lal.in2p3.fr/kegl/research/PDFs/keglBusafekete09.pdf\">Kegl et al., ICML 2009</a></td></tr>\n",
       "<tr><td>products of boosted stumps (3 terms)</td>\n",
       "  <td>none</td>\n",
       "  <td align=\"right\">1.26</td>\n",
       "  <td><a href=\"http://users.web.lal.in2p3.fr/kegl/research/PDFs/keglBusafekete09.pdf\">Kegl et al., ICML 2009</a></td></tr>\n",
       "<tr><td>boosted trees (17 leaves)</td>\n",
       "  <td>none</td>\n",
       "  <td align=\"right\">1.53</td>\n",
       "  <td><a href=\"http://users.web.lal.in2p3.fr/kegl/research/PDFs/keglBusafekete09.pdf\">Kegl et al., ICML 2009</a></td></tr>\n",
       "<tr><td>stumps on Haar features</td>\n",
       "  <td>Haar features</td>\n",
       "  <td align=\"right\">1.02</td>\n",
       "  <td><a href=\"http://users.web.lal.in2p3.fr/kegl/research/PDFs/keglBusafekete09.pdf\">Kegl et al., ICML 2009</a></td></tr>\n",
       "<tr><td>product of stumps on Haar f.</td>\n",
       "  <td>Haar features</td>\n",
       "  <td align=\"right\">0.87</td>\n",
       "  <td><a href=\"http://users.web.lal.in2p3.fr/kegl/research/PDFs/keglBusafekete09.pdf\">Kegl et al., ICML 2009</a></td></tr>\n",
       "\n",
       "<tr><td align=\"center\" colspan=\"4\"><b>Non-Linear Classifiers</b></td></tr>\n",
       "\n",
       "<tr><td>40 PCA + quadratic classifier</td>\n",
       "  <td>none</td>\n",
       "  <td align=\"right\">3.3</td>\n",
       "  <td><a href=\"http://yann.lecun.com/exdb/publis/index.html#lecun-98\">LeCun et al. 1998</a></td></tr>\n",
       "<tr><td>1000 RBF + linear classifier</td>\n",
       "  <td>none</td>\n",
       "  <td align=\"right\">3.6</td>\n",
       "  <td><a href=\"http://yann.lecun.com/exdb/publis/index.html#lecun-98\">LeCun et al. 1998</a></td></tr>\n",
       "\n",
       "<tr><td align=\"center\" colspan=\"4\"><b>SVMs</b></td></tr>\n",
       "\n",
       "<tr><td>SVM, Gaussian Kernel</td>\n",
       "  <td>none</td>\n",
       "  <td align=\"right\">1.4</td>\n",
       "  <td></td></tr>\n",
       "<tr><td>SVM deg 4 polynomial</td>\n",
       "  <td>deskewing</td>\n",
       "  <td align=\"right\">1.1</td>\n",
       "  <td><a href=\"http://yann.lecun.com/exdb/publis/index.html#lecun-98\">LeCun et al. 1998</a></td></tr>\n",
       "<tr><td>Reduced Set SVM deg 5 polynomial</td>\n",
       "  <td>deskewing</td>\n",
       "  <td align=\"right\">1.0</td>\n",
       "  <td><a href=\"http://yann.lecun.com/exdb/publis/index.html#lecun-98\">LeCun et al. 1998</a></td></tr>\n",
       "<tr><td>Virtual SVM deg-9 poly [distortions]</td>\n",
       "  <td>none</td>\n",
       "  <td align=\"right\">0.8</td>\n",
       "  <td><a href=\"http://yann.lecun.com/exdb/publis/index.html#lecun-98\">LeCun et al. 1998</a></td></tr>\n",
       "<tr><td>Virtual SVM, deg-9 poly, 1-pixel jittered</td>\n",
       "  <td>none</td>\n",
       "  <td align=\"right\">0.68</td>\n",
       "  <td>DeCoste and Scholkopf, MLJ 2002</td></tr>\n",
       "<tr><td>Virtual SVM, deg-9 poly, 1-pixel jittered</td>\n",
       "  <td>deskewing</td>\n",
       "  <td align=\"right\">0.68</td>\n",
       "  <td>DeCoste and Scholkopf, MLJ 2002</td></tr>\n",
       "<tr><td>Virtual SVM, deg-9 poly, 2-pixel jittered</td>\n",
       "  <td>deskewing</td>\n",
       "  <td align=\"right\">0.56</td>\n",
       "  <td>DeCoste and Scholkopf, MLJ 2002</td></tr>\n",
       "\n",
       "\n",
       "<tr><td align=\"center\" colspan=\"4\"><b>Neural Nets</b></td></tr>\n",
       "\n",
       "<tr><td>2-layer NN, 300 hidden units, mean square error</td>\n",
       "  <td>none</td>\n",
       "  <td align=\"right\">4.7</td>\n",
       "  <td><a href=\"http://yann.lecun.com/exdb/publis/index.html#lecun-98\">LeCun et al. 1998</a></td></tr>\n",
       "<tr><td>2-layer NN, 300 HU, MSE, [distortions]</td>\n",
       "  <td>none</td>\n",
       "  <td align=\"right\">3.6</td>\n",
       "  <td><a href=\"http://yann.lecun.com/exdb/publis/index.html#lecun-98\">LeCun et al. 1998</a></td></tr>\n",
       "<tr><td>2-layer NN, 300 HU</td>\n",
       "  <td>deskewing</td>\n",
       "  <td align=\"right\">1.6</td>\n",
       "  <td><a href=\"http://yann.lecun.com/exdb/publis/index.html#lecun-98\">LeCun et al. 1998</a></td></tr>\n",
       "<tr><td>2-layer NN, 1000 hidden units</td>\n",
       "  <td>none</td>\n",
       "  <td align=\"right\">4.5</td>\n",
       "  <td><a href=\"http://yann.lecun.com/exdb/publis/index.html#lecun-98\">LeCun et al. 1998</a></td></tr>\n",
       "<tr><td>2-layer NN, 1000 HU, [distortions]</td>\n",
       "  <td>none</td>\n",
       "  <td align=\"right\">3.8</td>\n",
       "  <td><a href=\"http://yann.lecun.com/exdb/publis/index.html#lecun-98\">LeCun et al. 1998</a></td></tr>\n",
       "<tr><td>3-layer NN, 300+100 hidden units</td>\n",
       "  <td>none</td>\n",
       "  <td align=\"right\">3.05</td>\n",
       "  <td><a href=\"http://yann.lecun.com/exdb/publis/index.html#lecun-98\">LeCun et al. 1998</a></td></tr>\n",
       "<tr><td>3-layer NN, 300+100 HU [distortions]</td>\n",
       "  <td>none</td>\n",
       "  <td align=\"right\">2.5</td>\n",
       "  <td><a href=\"http://yann.lecun.com/exdb/publis/index.html#lecun-98\">LeCun et al. 1998</a></td></tr>\n",
       "<tr><td>3-layer NN, 500+150 hidden units</td>\n",
       "  <td>none</td>\n",
       "  <td align=\"right\">2.95</td>\n",
       "  <td><a href=\"http://yann.lecun.com/exdb/publis/index.html#lecun-98\">LeCun et al. 1998</a></td></tr>\n",
       "<tr><td>3-layer NN, 500+150 HU [distortions]</td>\n",
       "  <td>none</td>\n",
       "  <td align=\"right\">2.45</td>\n",
       "  <td><a href=\"http://yann.lecun.com/exdb/publis/index.html#lecun-98\">LeCun et al. 1998</a></td></tr>\n",
       "<tr><td>3-layer NN, 500+300 HU, softmax, cross entropy, weight decay</td>\n",
       "  <td>none</td>\n",
       "  <td align=\"right\">1.53</td>\n",
       "  <td><a href=\"http://www.cs.toronto.edu/~hinton/\">Hinton, unpublished, 2005</a></td></tr>\n",
       "<tr><td>2-layer NN, 800 HU, Cross-Entropy Loss</td>\n",
       "  <td>none</td>\n",
       "  <td align=\"right\">1.6</td>\n",
       "  <td><a href=\"http://research.microsoft.com/~patrice/publi.html\">Simard et al., ICDAR 2003</a></td></tr>\n",
       "<tr><td>2-layer NN, 800 HU, cross-entropy [affine distortions]</td>\n",
       "  <td>none</td>\n",
       "  <td align=\"right\">1.1</td>\n",
       "  <td><a href=\"http://research.microsoft.com/~patrice/publi.html\">Simard et al., ICDAR 2003</a></td></tr>\n",
       "<tr><td>2-layer NN, 800 HU, MSE [elastic distortions]</td>\n",
       "  <td>none</td>\n",
       "  <td align=\"right\">0.9</td>\n",
       "  <td><a href=\"http://research.microsoft.com/~patrice/publi.html\">Simard et al., ICDAR 2003</a></td></tr>\n",
       "<tr><td>2-layer NN, 800 HU, cross-entropy [elastic distortions]</td>\n",
       "  <td>none</td>\n",
       "  <td align=\"right\">0.7</td>\n",
       "  <td><a href=\"http://research.microsoft.com/~patrice/publi.html\">Simard et al., ICDAR 2003</a></td></tr>\n",
       "<tr><td>NN, 784-500-500-2000-30 + nearest neighbor, RBM + NCA training [no distortions]</td>\n",
       "  <td>none</td>\n",
       "  <td align=\"right\">1.0</td>\n",
       "  <td><a href=\"http://www.cs.utoronto.ca/~hinton/absps/nonlinnca.pdf\">Salakhutdinov and Hinton, AI-Stats 2007</a></td></tr>\n",
       "<tr><td>6-layer NN 784-2500-2000-1500-1000-500-10 (on GPU) [elastic distortions]</td>\n",
       "  <td>none</td>\n",
       "  <td align=\"right\">0.35</td>\n",
       "  <td><a href=\"http://arxiv.org/abs/1003.0358\">Ciresan et al. Neural Computation 10, 2010 and arXiv 1003.0358, 2010</a></td></tr>\n",
       "<tr><td>committee of 25 NN 784-800-10 [elastic distortions]</td>\n",
       "  <td>width normalization, deslanting</td>\n",
       "  <td align=\"right\">0.39</td>\n",
       "  <td><a href=\"\">Meier et al. ICDAR 2011</a></td></tr>\n",
       "<tr><td>deep convex net, unsup pre-training [no distortions]</td>\n",
       "  <td>none</td>\n",
       "  <td align=\"right\">0.83</td>\n",
       "  <td><a href=\"http://research.microsoft.com/pubs/152133/DeepConvexNetwork-Interspeech2011-pub.pdf\">Deng et al. Interspeech 2010</a></td></tr>\n",
       "\n",
       "<tr><td align=\"center\" colspan=\"4\"><b>Convolutional nets</b></td></tr>\n",
       "\n",
       "<tr><td>Convolutional net LeNet-1</td>\n",
       "  <td>subsampling to 16x16 pixels</td>\n",
       "  <td align=\"right\">1.7</td>\n",
       "  <td><a href=\"http://yann.lecun.com/exdb/publis/index.html#lecun-98\">LeCun et al. 1998</a></td></tr>\n",
       "<tr><td>Convolutional net LeNet-4</td>\n",
       "  <td>none</td>\n",
       "  <td align=\"right\">1.1</td>\n",
       "  <td><a href=\"http://yann.lecun.com/exdb/publis/index.html#lecun-98\">LeCun et al. 1998</a></td></tr>\n",
       "<tr><td>Convolutional net LeNet-4 with K-NN instead of last layer</td>\n",
       "  <td>none</td>\n",
       "  <td align=\"right\">1.1</td>\n",
       "  <td><a href=\"http://yann.lecun.com/exdb/publis/index.html#lecun-98\">LeCun et al. 1998</a></td></tr>\n",
       "<tr><td>Convolutional net LeNet-4 with local learning instead of last layer</td>\n",
       "  <td>none</td>\n",
       "  <td align=\"right\">1.1</td>\n",
       "  <td><a href=\"http://yann.lecun.com/exdb/publis/index.html#lecun-98\">LeCun et al. 1998</a></td></tr>\n",
       "<tr><td>Convolutional net LeNet-5, [no distortions]</td>\n",
       "  <td>none</td>\n",
       "  <td align=\"right\">0.95</td>\n",
       "  <td><a href=\"http://yann.lecun.com/exdb/publis/index.html#lecun-98\">LeCun et al. 1998</a></td></tr>\n",
       "<tr><td>Convolutional net LeNet-5, [huge distortions]</td>\n",
       "  <td>none</td>\n",
       "  <td align=\"right\">0.85</td>\n",
       "  <td><a href=\"http://yann.lecun.com/exdb/publis/index.html#lecun-98\">LeCun et al. 1998</a></td></tr>\n",
       "<tr><td>Convolutional net LeNet-5, [distortions]</td>\n",
       "  <td>none</td>\n",
       "  <td align=\"right\">0.8</td>\n",
       "  <td><a href=\"http://yann.lecun.com/exdb/publis/index.html#lecun-98\">LeCun et al. 1998</a></td></tr>\n",
       "<tr><td>Convolutional net Boosted LeNet-4, [distortions]</td>\n",
       "  <td>none</td>\n",
       "  <td align=\"right\">0.7</td>\n",
       "  <td><a href=\"http://yann.lecun.com/exdb/publis/index.html#lecun-98\">LeCun et al. 1998</a></td></tr>\n",
       "\n",
       "<tr><td>Trainable feature extractor + SVMs [no distortions]</td>\n",
       "  <td>none</td>\n",
       "  <td align=\"right\"> 0.83</td>\n",
       "  <td><a href=\"http://hal.archives-ouvertes.fr/hal-00018426/en\">Lauer et al., Pattern Recognition 40-6, 2007</a></td></tr>\n",
       "<tr><td>Trainable feature extractor + SVMs [elastic distortions]</td>\n",
       "  <td>none</td>\n",
       "  <td align=\"right\"> 0.56</td>\n",
       "  <td><a href=\"http://hal.archives-ouvertes.fr/hal-00018426/en\">Lauer et al., Pattern Recognition 40-6, 2007</a></td></tr>\n",
       "<tr><td>Trainable feature extractor + SVMs [affine distortions]</td>\n",
       "  <td>none</td>\n",
       "  <td align=\"right\"> 0.54</td>\n",
       "  <td><a href=\"http://hal.archives-ouvertes.fr/hal-00018426/en\">Lauer et al., Pattern Recognition 40-6, 2007</a></td></tr>\n",
       "\n",
       "<tr><td>unsupervised sparse features + SVM, [no distortions]</td>\n",
       "  <td>none</td>\n",
       "  <td align=\"right\">0.59</td>\n",
       "  <td><a href=\"http://www.inb.uni-luebeck.de/publications/pdfs/LaBaMa08c.pdf\">Labusch et al., IEEE TNN 2008</a></td></tr>\n",
       "<tr><td>Convolutional net, cross-entropy [affine distortions]</td>\n",
       "  <td>none</td>\n",
       "  <td align=\"right\">0.6</td>\n",
       "  <td><a href=\"http://research.microsoft.com/~patrice/publi.html\">Simard et al., ICDAR 2003</a></td></tr>\n",
       "<tr><td>Convolutional net, cross-entropy [elastic distortions]</td>\n",
       "  <td>none</td>\n",
       "  <td align=\"right\">0.4</td>\n",
       "  <td><a href=\"http://research.microsoft.com/~patrice/publi.html\">Simard et al., ICDAR 2003</a></td></tr>\n",
       "<tr><td>large conv. net, random features [no distortions]</td>\n",
       "  <td>none</td>\n",
       "  <td align=\"right\">0.89</td>\n",
       "  <td><a href=\"http://yann.lecun.com/exdb/publis/index.html#ranzato-cvpr-07\">Ranzato et al., CVPR 2007</a></td></tr>\n",
       "<tr><td>large conv. net, unsup features [no distortions]</td>\n",
       "  <td>none</td>\n",
       "  <td align=\"right\">0.62</td>\n",
       "  <td><a href=\"http://yann.lecun.com/exdb/publis/index.html#ranzato-cvpr-07\">Ranzato et al., CVPR 2007</a></td></tr>\n",
       "<tr><td>large conv. net, unsup pretraining [no distortions]</td>\n",
       "  <td>none</td>\n",
       "  <td align=\"right\">0.60</td>\n",
       "  <td><a href=\"http://yann.lecun.com/exdb/publis/index.html#ranzato-06\">Ranzato et al., NIPS 2006</a></td></tr>\n",
       "<tr><td>large conv. net, unsup pretraining [elastic distortions]</td>\n",
       "  <td>none</td>\n",
       "  <td align=\"right\">0.39</td>\n",
       "  <td><a href=\"http://yann.lecun.com/exdb/publis/index.html#ranzato-06\">Ranzato et al., NIPS 2006</a></td></tr>\n",
       "<tr><td>large conv. net, unsup pretraining [no distortions]</td>\n",
       "  <td>none</td>\n",
       "  <td align=\"right\">0.53</td>\n",
       "  <td><a href=\"http://yann.lecun.com/exdb/publis/index.html#jarrett-iccv-09\">Jarrett et al., ICCV 2009</a></td></tr>\n",
       "<tr><td>large/deep conv. net, 1-20-40-60-80-100-120-120-10 [elastic distortions]</td>\n",
       "  <td>none</td>\n",
       "  <td align=\"right\">0.35</td>\n",
       "  <td><a href=\"\">Ciresan et al. IJCAI 2011</a></td></tr>\n",
       "<tr><td>committee of 7 conv. net, 1-20-P-40-P-150-10 [elastic distortions]</td>\n",
       "  <td>width normalization</td>\n",
       "  <td align=\"right\">0.27 +-0.02</td>\n",
       "  <td><a href=\"\">Ciresan et al. ICDAR 2011</a></td></tr>\n",
       "<tr><td>committee of 35 conv. net, 1-20-P-40-P-150-10 [elastic distortions]</td>\n",
       "  <td>width normalization</td>\n",
       "   <td align=\"right\">0.23</td>\n",
       "  <td><a href=\"http://arxiv.org/abs/1202.2745\">Ciresan et al. CVPR 2012</a></td></tr>\n",
       "</tbody></table>\n",
       "\n",
       "</p><h3><font color=\"#3333FF\">References</font></h3>\n",
       "\n",
       "<dl>\n",
       "\n",
       "<dt><a name=\"lecun-98\">[LeCun et al., 1998a]</a></dt><dd>Y. LeCun, L. Bottou,\n",
       "  Y. Bengio, and P. Haffner. \"Gradient-based learning applied to document recognition.\"\n",
       "<cite>Proceedings of the IEEE</cite>, 86(11):2278-2324, November 1998.\n",
       "<a href=\"../publis/index.html#lecun-98\">[on-line version]</a>\n",
       "\n",
       "</dd><dt>\n",
       "\n",
       "</dt></dl>\n",
       "\n",
       "<h2><hr width=\"100%\"/></h2>\n",
       "\n",
       "<h2>\n",
       "<font color=\"#3333FF\">FILE FORMATS FOR THE MNIST DATABASE</font></h2>\n",
       "The data is stored in a very simple file format designed for storing vectors\n",
       "and multidimensional matrices. General info on this format is given at\n",
       "the end of this page, but you don't need to read that to use the data files.\n",
       "\n",
       "<p>All the integers in the files are stored in the MSB first (high endian)\n",
       "format used by most non-Intel processors. Users of Intel processors and\n",
       "other low-endian machines must flip the bytes of the header.\n",
       "\n",
       "</p><p>There are 4 files:<tt></tt>\n",
       "\n",
       "</p><p><tt>train-images-idx3-ubyte: training set images</tt>\n",
       "<br/><tt>train-labels-idx1-ubyte: training set labels</tt>\n",
       "<br/><tt>t10k-images-idx3-ubyte:  test set images</tt>\n",
       "<br/><tt>t10k-labels-idx1-ubyte:  test set labels</tt>\n",
       "\n",
       "</p><p>The training set contains 60000 examples, and the test set 10000 examples.\n",
       "\n",
       "</p><p>The first 5000 examples of the test set are taken from the original\n",
       "NIST training set. The last 5000 are taken from the original NIST test\n",
       "set. The first 5000 are cleaner and easier than the last 5000.\n",
       "</p><h3>\n",
       "TRAINING SET LABEL FILE (train-labels-idx1-ubyte):</h3>\n",
       "<tt>[offset] [type]         \n",
       "[value]          [description]</tt>\n",
       "<br/><tt>0000     32 bit integer  0x00000801(2049)\n",
       "magic number (MSB first)</tt>\n",
       "<br/><tt>0004     32 bit integer  60000           \n",
       "number of items</tt>\n",
       "<br/><tt>0008     unsigned byte   ??              \n",
       "label</tt>\n",
       "<br/><tt>0009     unsigned byte   ??              \n",
       "label</tt>\n",
       "<br/><tt>........</tt>\n",
       "<br/><tt>xxxx     unsigned byte   ??              \n",
       "label</tt>\n",
       "\n",
       "<p><tt>The labels values are 0 to 9.</tt>\n",
       "</p><h3>\n",
       "TRAINING SET IMAGE FILE (train-images-idx3-ubyte):</h3>\n",
       "<tt>[offset] [type]         \n",
       "[value]          [description]</tt>\n",
       "<br/><tt>0000     32 bit integer  0x00000803(2051)\n",
       "magic number</tt>\n",
       "<br/><tt>0004     32 bit integer  60000           \n",
       "number of images</tt>\n",
       "<br/><tt>0008     32 bit integer  28              \n",
       "number of rows</tt>\n",
       "<br/><tt>0012     32 bit integer  28              \n",
       "number of columns</tt>\n",
       "<br/><tt>0016     unsigned byte   ??              \n",
       "pixel</tt>\n",
       "<br/><tt>0017     unsigned byte   ??              \n",
       "pixel</tt>\n",
       "<br/><tt>........</tt>\n",
       "<br/><tt>xxxx     unsigned byte   ??              \n",
       "pixel</tt>\n",
       "\n",
       "<p>Pixels are organized row-wise. Pixel values are 0 to 255. 0 means background\n",
       "(white), 255 means foreground (black).\n",
       "</p><h3>\n",
       "TEST SET LABEL FILE (t10k-labels-idx1-ubyte):</h3>\n",
       "<tt>[offset] [type]         \n",
       "[value]          [description]</tt>\n",
       "<br/><tt>0000     32 bit integer  0x00000801(2049)\n",
       "magic number (MSB first)</tt>\n",
       "<br/><tt>0004     32 bit integer  10000           \n",
       "number of items</tt>\n",
       "<br/><tt>0008     unsigned byte   ??              \n",
       "label</tt>\n",
       "<br/><tt>0009     unsigned byte   ??              \n",
       "label</tt>\n",
       "<br/><tt>........</tt>\n",
       "<br/><tt>xxxx     unsigned byte   ??              \n",
       "label</tt>\n",
       "\n",
       "<p>The labels values are 0 to 9.\n",
       "</p><h3>\n",
       "TEST SET IMAGE FILE (t10k-images-idx3-ubyte):</h3>\n",
       "<tt>[offset] [type]         \n",
       "[value]          [description]</tt>\n",
       "<br/><tt>0000     32 bit integer  0x00000803(2051)\n",
       "magic number</tt>\n",
       "<br/><tt>0004     32 bit integer  10000           \n",
       "number of images</tt>\n",
       "<br/><tt>0008     32 bit integer  28              \n",
       "number of rows</tt>\n",
       "<br/><tt>0012     32 bit integer  28              \n",
       "number of columns</tt>\n",
       "<br/><tt>0016     unsigned byte   ??              \n",
       "pixel</tt>\n",
       "<br/><tt>0017     unsigned byte   ??              \n",
       "pixel</tt>\n",
       "<br/><tt>........</tt>\n",
       "<br/><tt>xxxx     unsigned byte   ??              \n",
       "pixel</tt>\n",
       "\n",
       "<p>Pixels are organized row-wise. Pixel values are 0 to 255. 0 means background\n",
       "(white), 255 means foreground (black).\n",
       "<br/> \n",
       "<br/>\n",
       "</p><hr width=\"100%\"/>\n",
       "<h2>\n",
       "<font color=\"#3333FF\">THE IDX FILE FORMAT</font></h2>\n",
       "the IDX file format is a simple format for vectors and multidimensional\n",
       "matrices of various numerical types.\n",
       "\n",
       "<p>The basic format is\n",
       "\n",
       "</p><p><tt>magic number</tt>\n",
       "<br/><tt>size in dimension 0</tt>\n",
       "<br/><tt>size in dimension 1</tt>\n",
       "<br/><tt>size in dimension 2</tt>\n",
       "<br/><tt>.....</tt>\n",
       "<br/><tt>size in dimension N</tt>\n",
       "<br/><tt>data</tt>\n",
       "\n",
       "</p><p>The magic number is an integer (MSB first). The first 2 bytes are always\n",
       "0.\n",
       "\n",
       "</p><p>The third byte codes the type of the data:\n",
       "<br/>0x08: unsigned byte\n",
       "<br/>0x09: signed byte\n",
       "<br/>0x0B: short (2 bytes)\n",
       "<br/>0x0C: int (4 bytes)\n",
       "<br/>0x0D: float (4 bytes)\n",
       "<br/>0x0E: double (8 bytes)\n",
       "\n",
       "</p><p>The 4-th byte codes the number of dimensions of the vector/matrix: 1\n",
       "for vectors, 2 for matrices....\n",
       "\n",
       "</p><p>The sizes in each dimension are 4-byte integers (MSB first, high endian,\n",
       "like in most non-Intel processors).\n",
       "\n",
       "</p><p>The data is stored like in a C array, i.e. the index in the last dimension\n",
       "changes the fastest.\n",
       "<br/> \n",
       "<br/> \n",
       "<br/>\n",
       "</p><p>\n",
       "Happy hacking.\n",
       "</p><p>\n",
       "</p><hr width=\"100%\"/>\n",
       "<p>\n",
       "The digit images in the MNIST set were originally selected and\n",
       "experimented with by Chris Burges and Corinna Cortes using\n",
       "bounding-box normalization and centering. Yann LeCun's version which\n",
       "is provided on this page uses centering by center of mass within in a\n",
       "larger window.\n",
       "</p><p>\n",
       "<font color=\"#3333FF\"><a href=\"http://yann.lecun.com\">Yann LeCun</a>, Professor<br/>\n",
       "The Courant Institute of Mathematical Sciences<br/>\n",
       "New York University<br/>\n",
       "<img src=\"../../ex/images/email.gif\"/>\n",
       "</font>\n",
       "</p><p>\n",
       "<font color=\"#3333FF\"><a href=\"http://homepage.mac.com/corinnacortes/\">Corinna Cortes</a>, Research Scientist<br/>\n",
       "Google Labs, New York<br/>\n",
       "<i>corinna at google dot com</i>\n",
       "</font>\n",
       "\n",
       "\n",
       "\n",
       "</p></body></html>"
      ]
     },
     "execution_count": 4,
     "metadata": {},
     "output_type": "execute_result"
    }
   ],
   "source": [
    "# soup 생성\n",
    "soup = BeautifulSoup (page, 'html5lib')\n",
    "soup"
   ]
  },
  {
   "cell_type": "code",
   "execution_count": 11,
   "metadata": {},
   "outputs": [
    {
     "name": "stdout",
     "output_type": "stream",
     "text": [
      "train-images-idx3-ubyte.gz\n",
      "train-labels-idx1-ubyte.gz\n",
      "t10k-images-idx3-ubyte.gz\n",
      "t10k-labels-idx1-ubyte.gz\n"
     ]
    }
   ],
   "source": [
    "# gz 파일 4개 URL 획득\n",
    "# for tt in soup.find_all('tt') :\n",
    "#     if tt.a :\n",
    "#         print(tt.a['href'])\n",
    "#         # print(tt.a.string)\n",
    "\n",
    "for tt in soup.find_all('tt')[:4] :\n",
    "    print(tt.a['href'])\n",
    "    # print(tt.a.string)"
   ]
  },
  {
   "cell_type": "code",
   "execution_count": 12,
   "metadata": {},
   "outputs": [
    {
     "data": {
      "text/plain": [
       "['train-images-idx3-ubyte.gz',\n",
       " 'train-labels-idx1-ubyte.gz',\n",
       " 't10k-images-idx3-ubyte.gz',\n",
       " 't10k-labels-idx1-ubyte.gz']"
      ]
     },
     "execution_count": 12,
     "metadata": {},
     "output_type": "execute_result"
    }
   ],
   "source": [
    "# 리스트 내포\n",
    "files = [ tt.a['href'] for tt in soup.find_all('tt')[:4] ]\n",
    "files"
   ]
  },
  {
   "cell_type": "markdown",
   "metadata": {},
   "source": [
    "- 압축 데이터 다운로드"
   ]
  },
  {
   "cell_type": "code",
   "execution_count": 13,
   "metadata": {},
   "outputs": [],
   "source": [
    "import os, os.path, gzip"
   ]
  },
  {
   "cell_type": "code",
   "execution_count": 14,
   "metadata": {},
   "outputs": [],
   "source": [
    "# 파일 저장 위치 선정\n",
    "savePath = './data/mnist'\n",
    "# 해당 디렉토리가 없으면 생성\n",
    "if not os.path.exists(savePath) :\n",
    "    os.makedirs(savePath)"
   ]
  },
  {
   "cell_type": "code",
   "execution_count": 16,
   "metadata": {},
   "outputs": [
    {
     "data": {
      "application/vnd.jupyter.widget-view+json": {
       "model_id": "bef20ae94bab445896f8868acee53869",
       "version_major": 2,
       "version_minor": 0
      },
      "text/plain": [
       "HBox(children=(IntProgress(value=0, max=4), HTML(value='')))"
      ]
     },
     "metadata": {},
     "output_type": "display_data"
    },
    {
     "name": "stdout",
     "output_type": "stream",
     "text": [
      "원본 데이터 주소 http://yann.lecun.com/exdb/mnist/train-images-idx3-ubyte.gz\n",
      "저장될 데이터의 경로 ./data/mnist/train-images-idx3-ubyte.gz\n",
      "원본 데이터 주소 http://yann.lecun.com/exdb/mnist/train-labels-idx1-ubyte.gz\n",
      "저장될 데이터의 경로 ./data/mnist/train-labels-idx1-ubyte.gz\n",
      "원본 데이터 주소 http://yann.lecun.com/exdb/mnist/t10k-images-idx3-ubyte.gz\n",
      "저장될 데이터의 경로 ./data/mnist/t10k-images-idx3-ubyte.gz\n",
      "원본 데이터 주소 http://yann.lecun.com/exdb/mnist/t10k-labels-idx1-ubyte.gz\n",
      "저장될 데이터의 경로 ./data/mnist/t10k-labels-idx1-ubyte.gz\n",
      "\n"
     ]
    }
   ],
   "source": [
    "# 저장\n",
    "# 진행바 표시\n",
    "from tqdm import tqdm_notebook\n",
    "for file in tqdm_notebook(files) :\n",
    "    print('원본 데이터 주소', target_site + file )\n",
    "    local_path = '%s/%s' % ( savePath, file )\n",
    "    print('저장될 데이터의 경로', local_path )\n",
    "    # 이미 파일이 존재하면 새로 받지 않겠다\n",
    "    if not os.path.exists( local_path ) :\n",
    "        # 웹상에 존재하는 리소스를 로컬에 직접 저장(위치 지정)\n",
    "        req.urlretrieve( target_site + file, local_path )"
   ]
  },
  {
   "cell_type": "markdown",
   "metadata": {},
   "source": [
    "#### 2-2. 압축 데이터 압축 해제"
   ]
  },
  {
   "cell_type": "code",
   "execution_count": 18,
   "metadata": {},
   "outputs": [
    {
     "data": {
      "application/vnd.jupyter.widget-view+json": {
       "model_id": "683421ac0d5640f9901e904432b03f2b",
       "version_major": 2,
       "version_minor": 0
      },
      "text/plain": [
       "HBox(children=(IntProgress(value=0, max=4), HTML(value='')))"
      ]
     },
     "metadata": {},
     "output_type": "display_data"
    },
    {
     "name": "stdout",
     "output_type": "stream",
     "text": [
      "./data/mnist/train-images-idx3-ubyte.gz ./data/mnist/train-images-idx3-ubyte\n",
      "./data/mnist/train-labels-idx1-ubyte.gz ./data/mnist/train-labels-idx1-ubyte\n",
      "./data/mnist/t10k-images-idx3-ubyte.gz ./data/mnist/t10k-images-idx3-ubyte\n",
      "./data/mnist/t10k-labels-idx1-ubyte.gz ./data/mnist/t10k-labels-idx1-ubyte\n",
      "\n"
     ]
    }
   ],
   "source": [
    "# 압축 해제 시 이름 : train-images-idx3-ubyte.gz -> train-images-idx3-ubyte\n",
    "for file in tqdm_notebook(files) :\n",
    "    # 원본 파일\n",
    "    ori_file = '%s/%s' % (savePath, file)\n",
    "    # 압축 해제 파일\n",
    "    raw_file = '%s/%s' % (savePath, file[:-3])\n",
    "    print(ori_file, raw_file)\n",
    "    # 압축 파일을 오픈 → 읽고 → 기록\n",
    "    # 압축 파일 오픈\n",
    "    with gzip.open(ori_file, 'rb') as fg :\n",
    "        # 내용을 읽고 (대용량이면 분할해서 읽어야 한다)\n",
    "        tmp = fg.read()\n",
    "        with open(raw_file, 'wb') as f :\n",
    "            f.write(tmp)"
   ]
  },
  {
   "cell_type": "markdown",
   "metadata": {},
   "source": [
    "#### 3. 데이터 준비/통찰/전처리\n",
    "- DB 구조 이해상 나온 내용\n",
    "- 엔디언(endian) : 컴퓨터 메모리와 같은 1차원의 공간에 여러 개의 연속된 데이터를 배열하는 방법 → ordering(오더링) → byte order(바이트 오더 : 바이트 배열 방법)\n",
    "- 값 : 0x12345678"
   ]
  },
  {
   "cell_type": "markdown",
   "metadata": {},
   "source": [
    "#### 빅 엔디언(Big-endian)\n",
    "- 큰 단위가 앞에 나온다\n",
    "- 최상위 바이트(MSB - Most Significant Byte)부터 차례로 저장하는 방식"
   ]
  },
  {
   "cell_type": "markdown",
   "metadata": {},
   "source": [
    "|메모리|...|0x100|0x101|0x102|0x103|...|\n",
    "|-|-|-|-|-|-|-|\n",
    "|값|...|0x12|0x34|0x56|0x78|...|"
   ]
  },
  {
   "cell_type": "markdown",
   "metadata": {},
   "source": [
    "#### 리틀 엔디언(Little-endian)\n",
    "- 작은 단위가 앞에 나온다\n",
    "- 최하위 바이트(LSB - Least Significant Byte)부터 차례로 저장하는 방식"
   ]
  },
  {
   "cell_type": "markdown",
   "metadata": {},
   "source": [
    "|메모리|...|0x100|0x101|0x102|0x103|...|\n",
    "|-|-|-|-|-|-|-|\n",
    "|값|...|0x78|0x56|0x34|0x12|...|"
   ]
  },
  {
   "cell_type": "markdown",
   "metadata": {},
   "source": [
    "#### label의 구조\n",
    "- 구조\n",
    " > magic number : 4 byte  \n",
    " > label 개수 : 4 byte  \n",
    " > label : 1 byte, ...  \n",
    "\n",
    "#### images 구조\n",
    "- 구조\n",
    " > magic number : 4 byte  \n",
    " > image 개수 : 4 byte  \n",
    " > 이미지 가로 : 4 byte  \n",
    " > 이미지 세로 : 4 byte  \n",
    " > 이미지 : 28 * 28 byte, ..."
   ]
  },
  {
   "cell_type": "code",
   "execution_count": null,
   "metadata": {},
   "outputs": [],
   "source": [
    "# 레이블데이터, 원데이터를 읽고\n",
    "# 풀어서 데이터를 저장\n",
    "\n",
    "# train-images-idx3-ubyte\n",
    "# train-labels-idx1-ubyte\n",
    "# t10k-images-idx3-ubyte\n",
    "# t10k-labels-idx1-ubyte\n",
    "\n",
    "# 훈련용 데이터, 테스트용 데이터 각각 처리 → 같은 구조로 2세트 → 함수로 처리\n",
    "# 실데이터는 어디에 저장할 것인가? → csv로 저장(*.pgm)"
   ]
  },
  {
   "cell_type": "code",
   "execution_count": 19,
   "metadata": {},
   "outputs": [],
   "source": [
    "import struct"
   ]
  },
  {
   "cell_type": "code",
   "execution_count": 40,
   "metadata": {},
   "outputs": [],
   "source": [
    "def decode_mnist_rawData( dataType = 'train', maxCnt = 0 ) :\n",
    "    # 레이블 파일 읽기 모드 오픈\n",
    "    label_f = open('%s/%s-labels-idx1-ubyte' % (savePath, dataType), 'rb')\n",
    "    # 이미지 데이터 파일 읽기 모드 오픈\n",
    "    image_f = open('%s/%s-images-idx3-ubyte' % (savePath, dataType), 'rb')\n",
    "    # csv 쓰기 모드 오픈(train.csv)\n",
    "    csv_f = open('%s/%s.csv' %(savePath, dataType), 'w', encoding = 'utf-8')\n",
    "    # ------------------------------------------------------------------------\n",
    "    \n",
    "    # 디코딩을 위한 헤더 정보 추출\n",
    "    # 매직 코드나 사이즈, 이미지의 가로, 세로 정보 등을 획득하기 위해서는\n",
    "    # 4바이트씩 읽어서 빅 엔디언(Big endian) 처리를 해야한다\n",
    "    # → struct 모듈이 해결\n",
    "    \n",
    "    # label\n",
    "    # >II : 읽은 총 데이터를 2번 나눠서 각각 변수에 담는다\n",
    "    magic, label_count = struct.unpack( '>II', label_f.read(8) )\n",
    "    print(magic, label_count)\n",
    "    \n",
    "    # image : 파일 포인터(커서) 위치는 16\n",
    "    magic, image_count, row, col = struct.unpack( '>IIII', image_f.read(16) )\n",
    "    print(magic, image_count, row, col)\n",
    "    # 이미지 한 개당 총 픽셀 수\n",
    "    pixels = row * col\n",
    "    \n",
    "    # 데이터를 추출(디코딩)해서 csv에 저장\n",
    "    for idx in range( label_count ) :\n",
    "        # 데이터를 원하는 만큼 세팅했다면\n",
    "        if idx >= maxCnt :\n",
    "            break\n",
    "        \n",
    "        # 정답 추출 → 1 byte만 읽으면 된다 → unsigned byte → 'B'\n",
    "        label_tmp = struct.unpack( 'B', label_f.read(1) )\n",
    "        # print(label_tmp)\n",
    "        # 값이 결측치에 해당될 경우\n",
    "        # → 이미지 데이터도 같이 날린다\n",
    "        if len(label_tmp) != 1 :\n",
    "            continue\n",
    "        # 라벨값, 정답 획득\n",
    "        label = label_tmp[0]\n",
    "        # -------------------------------------------------------------------\n",
    "        \n",
    "        # 이미지 추출 → 얼만큼 읽어야 하는가?\n",
    "        # 이미지 데이터 원본은 엔디언과는 관계없다\n",
    "        # 여러 바이트를 쓰는 정수가 아닌 데이터 자체이므로 무관\n",
    "        binaryData = image_f.read(pixels)\n",
    "        # print(type(binaryData))\n",
    "        # 픽셀값 하나하나를 문자열로 만들어서 리스트에 담는다\n",
    "        # strData = list(map(함수, 데이터))\n",
    "        strData = list(map(lambda x : str(x), binaryData))\n",
    "        # print(strData)\n",
    "        # csv에 기록 : label, 이미지 데이터 줄바꿈\n",
    "        csv_f.write( str(label)+'.' )\n",
    "        csv_f.write( '.'.join(strData)+'\\n' )\n",
    "        \n",
    "        # 해당 데이터를 별도로 저장하여 이미지 파일로 보관\n",
    "        # 대략 10개 정도만 저장\n",
    "        if idx < 10 :\n",
    "            # pgm 파일로 저장\n",
    "            fName = '{0}/{1}-{2}-{3}.pgm'.format( savePath, dataType, idx, label )\n",
    "            # pgm 헤더\n",
    "            header = 'P2 28 28 255\\n'\n",
    "            s = header + ' '.join( strData )\n",
    "            # 파일 기록\n",
    "            with open(fName, 'w', encoding = 'utf-8') as f :\n",
    "                f.write(s)\n",
    "    \n",
    "    # 파일 닫기\n",
    "    label_f.close()\n",
    "    image_f.close()\n",
    "    csv_f.close()"
   ]
  },
  {
   "cell_type": "code",
   "execution_count": 41,
   "metadata": {},
   "outputs": [
    {
     "name": "stdout",
     "output_type": "stream",
     "text": [
      "2049 60000\n",
      "2051 60000 28 28\n",
      "2049 10000\n",
      "2051 10000 28 28\n"
     ]
    }
   ],
   "source": [
    "decode_mnist_rawData( dataType='train', maxCnt = 750 )\n",
    "decode_mnist_rawData( dataType='t10k',  maxCnt = 250 )"
   ]
  },
  {
   "cell_type": "markdown",
   "metadata": {},
   "source": [
    "#### 데이터 탐색/통찰/시각화\n",
    "\n",
    "- 데이터는 현재 csv에 저장되어 있다. 이를 로드해서 데이터를 전처리하여 학습에 적합한 구조로 정리"
   ]
  },
  {
   "cell_type": "code",
   "execution_count": 42,
   "metadata": {},
   "outputs": [
    {
     "data": {
      "text/plain": [
       "('./data/mnist/train.csv', './data/mnist/t10k.csv')"
      ]
     },
     "execution_count": 42,
     "metadata": {},
     "output_type": "execute_result"
    }
   ],
   "source": [
    "# 저장된 csv 파일 경로\n",
    "savePath + '/' + 'train' + '.csv', savePath + '/' + 't10k' + '.csv'"
   ]
  },
  {
   "cell_type": "code",
   "execution_count": null,
   "metadata": {},
   "outputs": [],
   "source": [
    "# 1. csv를 오픈\n",
    "# 2. csv를 읽는다 → 데이터 한 줄(row)을 읽어서 리스트에 멤버로 담는다\n",
    "#    ex) train.csv를 리스트의 750개의 멤버가 생성, t10k는 250개 생성\n",
    "#    [ [], [], [], ...  ]\n",
    "# 3. 리스트의 멤버(리스트)는 0번 멤버가 레이블, 1번 ~ 마지막까지가 픽셀\n",
    "#    픽셀은 현재 0 ~ 255까지의 값으로 구성\n",
    "#    학습 성능을 높이기 위해 픽셀값을 0 ~ 1(255)로 정규화하여 배치, 1 + 28 * 28개\n",
    "# { 'labels' : labels, 'images' : images }"
   ]
  },
  {
   "cell_type": "code",
   "execution_count": 48,
   "metadata": {},
   "outputs": [],
   "source": [
    "def load_csv( dataType = 'train' ) :\n",
    "    # 1. csv를 오픈\n",
    "    fName = '{}/{}.csv'.format(savePath, dataType)\n",
    "    print(fName)\n",
    "    labels = []\n",
    "    images = []\n",
    "    with open(fName, 'r') as f :\n",
    "        # 2. csv를 읽는다\n",
    "        # print(f.readline)\n",
    "        # for문을 이용하여 한 줄씩 read\n",
    "        for line in f :\n",
    "            # print(line)  # type : str\n",
    "            tmp = line.split('.')\n",
    "            print(tmp)\n",
    "            # labels에 답(0~9) 데이터를 정수값으로 세팅\n",
    "            labels.append(int(tmp[0]))\n",
    "            # images에 [ 28*28개의 픽셀값 ] 멤버로 추가\n",
    "            # 단, 데이터는 0~1까지 정규화된 값\n",
    "            # 255로 정규화? 256으로 정규화\n",
    "            # 데이터 자체를 들여다 보고\n",
    "            # 데이터가 앞뒤로 영향을 받는 연속적인 성향을 가진 값인지, 독립적인 값인지 검토\n",
    "            # 수치값 → 연속변수(255 : 최댓값 기준), 분류변수(256, 총 개수 기준)\n",
    "            images.append( list(map(lambda x : int(x)/256, tmp[1:])) ) # tmp[1:]는 사본 → 메모리 낭비\n",
    "    \n",
    "    return { 'labels' : labels, 'images' : images }"
   ]
  },
  {
   "cell_type": "code",
   "execution_count": 50,
   "metadata": {},
   "outputs": [],
   "source": [
    "# 최적화\n",
    "def load_csv( dataType = 'train' ) :\n",
    "    fName = '{}/{}.csv'.format( savePath, dataType )\n",
    "    labels = []\n",
    "    images = []\n",
    "    with open(fName, 'r') as f :\n",
    "        for line in f :\n",
    "            tmp = line.split('.')\n",
    "            # tmp.pop(0) : tmp의 0번 멤버를 제거하고 리턴\n",
    "            labels.append(tmp.pop(0))\n",
    "            images.append( list(map(lambda x : int(x)/256, tmp)) )\n",
    "    return {'labels' : labels, 'images' : images } "
   ]
  },
  {
   "cell_type": "code",
   "execution_count": 52,
   "metadata": {},
   "outputs": [],
   "source": [
    "train = load_csv()\n",
    "test = load_csv( dataType = 't10k' )"
   ]
  },
  {
   "cell_type": "markdown",
   "metadata": {},
   "source": [
    "#### 5. 데이터 모델링 or 모델 구축"
   ]
  },
  {
   "cell_type": "code",
   "execution_count": 53,
   "metadata": {},
   "outputs": [],
   "source": [
    "# 알고리즘 선택 → 파이프라인 구축\n",
    "from sklearn import svm, model_selection, metrics"
   ]
  },
  {
   "cell_type": "code",
   "execution_count": 54,
   "metadata": {},
   "outputs": [],
   "source": [
    "# 알고리즘 생성 → 파이프라인 구축, 하이퍼파라미터 튜닝\n",
    "clf = svm.SVC()   # 기본값"
   ]
  },
  {
   "cell_type": "code",
   "execution_count": null,
   "metadata": {},
   "outputs": [],
   "source": [
    "# 데이터 분류(이미 완료)"
   ]
  },
  {
   "cell_type": "code",
   "execution_count": 55,
   "metadata": {},
   "outputs": [
    {
     "data": {
      "text/plain": [
       "SVC(C=1.0, cache_size=200, class_weight=None, coef0=0.0,\n",
       "  decision_function_shape='ovr', degree=3, gamma='auto', kernel='rbf',\n",
       "  max_iter=-1, probability=False, random_state=None, shrinking=True,\n",
       "  tol=0.001, verbose=False)"
      ]
     },
     "execution_count": 55,
     "metadata": {},
     "output_type": "execute_result"
    }
   ],
   "source": [
    "# 학습\n",
    "clf.fit( train['images'], train['labels'] )"
   ]
  },
  {
   "cell_type": "code",
   "execution_count": 58,
   "metadata": {},
   "outputs": [
    {
     "data": {
      "text/plain": [
       "(array(['7', '5', '1', '0', '4', '1', '4', '9', '2', '9', '0', '4', '9',\n",
       "        '0', '1', '5', '4', '7', '5', '4', '9', '6', '4', '5', '4', '0',\n",
       "        '7', '4', '0', '1', '3', '1', '3', '4', '7', '2', '7', '1', '1',\n",
       "        '1', '1', '7', '4', '1', '5', '5', '1', '2', '4', '4', '6', '3',\n",
       "        '5', '5', '2', '0', '4', '1', '9', '5', '7', '2', '9', '2', '7',\n",
       "        '9', '2', '4', '3', '0', '7', '0', '2', '8', '1', '7', '3', '7',\n",
       "        '9', '7', '9', '6', '2', '7', '8', '4', '7', '5', '6', '1', '3',\n",
       "        '6', '9', '3', '1', '4', '1', '9', '6', '9', '4', '0', '5', '4',\n",
       "        '4', '9', '2', '1', '9', '4', '8', '1', '5', '9', '7', '9', '9',\n",
       "        '4', '9', '2', '3', '4', '7', '6', '4', '9', '0', '5', '8', '5',\n",
       "        '6', '6', '5', '7', '8', '1', '0', '1', '6', '4', '6', '7', '7',\n",
       "        '1', '7', '1', '8', '2', '0', '1', '9', '9', '5', '5', '1', '5',\n",
       "        '6', '0', '5', '4', '4', '6', '5', '4', '4', '5', '4', '5', '1',\n",
       "        '9', '9', '7', '3', '5', '2', '1', '1', '9', '1', '8', '1', '8',\n",
       "        '5', '0', '8', '9', '2', '5', '0', '1', '1', '1', '0', '9', '0',\n",
       "        '1', '1', '6', '9', '2', '3', '2', '1', '1', '1', '3', '9', '5',\n",
       "        '2', '9', '4', '9', '9', '1', '9', '0', '3', '5', '7', '5', '7',\n",
       "        '2', '2', '7', '1', '2', '8', '4', '1', '7', '3', '3', '8', '7',\n",
       "        '9', '7', '2', '2', '4', '1', '5', '5', '8', '9', '1', '5', '0',\n",
       "        '2', '4', '1'], dtype='<U1'), 250)"
      ]
     },
     "execution_count": 58,
     "metadata": {},
     "output_type": "execute_result"
    }
   ],
   "source": [
    "# 예측 (테스트 데이터 사용)\n",
    "predict = clf.predict( test['images'] )\n",
    "predict, len(predict)"
   ]
  },
  {
   "cell_type": "code",
   "execution_count": 60,
   "metadata": {},
   "outputs": [
    {
     "data": {
      "text/plain": [
       "0.788"
      ]
     },
     "execution_count": 60,
     "metadata": {},
     "output_type": "execute_result"
    }
   ],
   "source": [
    "# 결과 확인, 결과 리포트 → 성능 평가\n",
    "ac_score = metrics.accuracy_score( test['labels'], predict )\n",
    "ac_score"
   ]
  },
  {
   "cell_type": "code",
   "execution_count": 61,
   "metadata": {},
   "outputs": [
    {
     "name": "stdout",
     "output_type": "stream",
     "text": [
      "             precision    recall  f1-score   support\n",
      "\n",
      "          0       1.00      1.00      1.00        19\n",
      "          1       0.79      1.00      0.88        34\n",
      "          2       0.70      0.67      0.68        24\n",
      "          3       0.86      0.52      0.65        23\n",
      "          4       0.79      0.79      0.79        33\n",
      "          5       0.68      0.84      0.75        25\n",
      "          6       1.00      0.64      0.78        22\n",
      "          7       0.81      0.76      0.79        29\n",
      "          8       0.92      0.79      0.85        14\n",
      "          9       0.65      0.81      0.72        27\n",
      "\n",
      "avg / total       0.80      0.79      0.79       250\n",
      "\n"
     ]
    }
   ],
   "source": [
    "cl_report = metrics.classification_report( test['labels'], predict )\n",
    "print(cl_report)"
   ]
  },
  {
   "cell_type": "code",
   "execution_count": 62,
   "metadata": {},
   "outputs": [
    {
     "name": "stdout",
     "output_type": "stream",
     "text": [
      "2049 60000\n",
      "2051 60000 28 28\n",
      "2049 10000\n",
      "2051 10000 28 28\n",
      "0.9443\n",
      "             precision    recall  f1-score   support\n",
      "\n",
      "          0       0.96      0.99      0.97       980\n",
      "          1       0.97      0.99      0.98      1135\n",
      "          2       0.94      0.93      0.93      1032\n",
      "          3       0.93      0.94      0.93      1010\n",
      "          4       0.93      0.96      0.94       982\n",
      "          5       0.93      0.91      0.92       892\n",
      "          6       0.95      0.97      0.96       958\n",
      "          7       0.96      0.93      0.94      1028\n",
      "          8       0.94      0.92      0.93       974\n",
      "          9       0.94      0.92      0.93      1009\n",
      "\n",
      "avg / total       0.94      0.94      0.94     10000\n",
      "\n"
     ]
    }
   ],
   "source": [
    "# 풀 세트 구성 후 → 반복작업\n",
    "\n",
    "decode_mnist_rawData( dataType='train', maxCnt = 60000 )\n",
    "decode_mnist_rawData( dataType='t10k',  maxCnt = 10000 )\n",
    "\n",
    "# 알고리즘 만들고\n",
    "clf = svm.SVC()\n",
    "\n",
    "train = load_csv()\n",
    "test = load_csv( dataType = 't10k' )\n",
    "\n",
    "clf.fit( train['images'], train['labels'] )\n",
    "\n",
    "predict = clf.predict( test['images'] )\n",
    "\n",
    "ac_score = metrics.accuracy_score( test['labels'], predict )\n",
    "print(ac_score)\n",
    "\n",
    "cl_report = metrics.classification_report( test['labels'], predict )\n",
    "print(cl_report)"
   ]
  },
  {
   "cell_type": "code",
   "execution_count": null,
   "metadata": {},
   "outputs": [],
   "source": []
  },
  {
   "cell_type": "code",
   "execution_count": null,
   "metadata": {},
   "outputs": [],
   "source": []
  },
  {
   "cell_type": "code",
   "execution_count": null,
   "metadata": {},
   "outputs": [],
   "source": []
  }
 ],
 "metadata": {
  "kernelspec": {
   "display_name": "Python 3",
   "language": "python",
   "name": "python3"
  },
  "language_info": {
   "codemirror_mode": {
    "name": "ipython",
    "version": 3
   },
   "file_extension": ".py",
   "mimetype": "text/x-python",
   "name": "python",
   "nbconvert_exporter": "python",
   "pygments_lexer": "ipython3",
   "version": "3.6.5"
  }
 },
 "nbformat": 4,
 "nbformat_minor": 2
}
