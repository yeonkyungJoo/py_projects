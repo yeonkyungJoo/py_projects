{
 "cells": [
  {
   "cell_type": "markdown",
   "metadata": {},
   "source": [
    "### 지도학습 > 분류 > 분류 결과에 대한 평가"
   ]
  },
  {
   "cell_type": "code",
   "execution_count": 1,
   "metadata": {},
   "outputs": [],
   "source": [
    "from matplotlib import pyplot as plt\n",
    "import sklearn.datasets\n",
    "import pandas as pd"
   ]
  },
  {
   "cell_type": "code",
   "execution_count": 2,
   "metadata": {},
   "outputs": [],
   "source": [
    "# 아이리스 데이터 로드\n",
    "def attach_iris_df() :\n",
    "    # 데이터 로드\n",
    "    ds = sklearn.datasets.load_iris()\n",
    "    # print(type(ds), ds['data'])\n",
    "    # DataFrame 구성\n",
    "    df = pd.DataFrame(ds['data'], columns = ds['feature_names'])\n",
    "    # print(df.head())\n",
    "    # print(ds)\n",
    "    # 레이블 데이터 컬럼명은 species로 df에 추가 \n",
    "    '''\n",
    "    tmp = []\n",
    "    for target in ds['target'] :\n",
    "        for idx, name in enumerate(ds['target_names']) :\n",
    "            if target == idx :\n",
    "                tmp.append(name)\n",
    "    df['species'] = tmp\n",
    "    '''\n",
    "    # { 0 : 'setosa', ... }\n",
    "    tmp = dict(zip(range(3), ds['target_names']))\n",
    "    df['species'] = [tmp[idx] for idx in ds['target']]\n",
    "    \n",
    "    return df"
   ]
  },
  {
   "cell_type": "code",
   "execution_count": 3,
   "metadata": {},
   "outputs": [],
   "source": [
    "df = attach_iris_df()"
   ]
  },
  {
   "cell_type": "code",
   "execution_count": 4,
   "metadata": {},
   "outputs": [],
   "source": [
    "# roc, auc를 이용한 성능평가 수행\n",
    "# 모듈 가져오기\n",
    "import sklearn\n",
    "# 측정 패키지\n",
    "from sklearn.metrics import roc_curve, auc\n",
    "# 훈련용, 테스트용 분류\n",
    "from sklearn.model_selection import train_test_split\n",
    "# 분류 알고리즘\n",
    "from sklearn.linear_model import LogisticRegression\n",
    "from sklearn.tree import DecisionTreeClassifier\n",
    "from sklearn.ensemble import RandomForestClassifier\n",
    "from sklearn.naive_bayes import GaussianNB"
   ]
  },
  {
   "cell_type": "code",
   "execution_count": 6,
   "metadata": {},
   "outputs": [],
   "source": [
    "# 분류 알고리즘별로 손쉽게 시각화를 하기 위해 값 세팅\n",
    "class_map = {\n",
    "    '로지스틱 회귀' : ('-', LogisticRegression()),\n",
    "    '결정 트리' : ('--', DecisionTreeClassifier(max_depth = 5)),\n",
    "    '랜덤 포레스트' : ('.-', RandomForestClassifier(max_depth = 5, n_estimators = 10, max_features = 1)),\n",
    "    '나이브 베이즈' : (':', GaussianNB())\n",
    "}"
   ]
  },
  {
   "cell_type": "code",
   "execution_count": 10,
   "metadata": {},
   "outputs": [
    {
     "data": {
      "text/html": [
       "<div>\n",
       "<style scoped>\n",
       "    .dataframe tbody tr th:only-of-type {\n",
       "        vertical-align: middle;\n",
       "    }\n",
       "\n",
       "    .dataframe tbody tr th {\n",
       "        vertical-align: top;\n",
       "    }\n",
       "\n",
       "    .dataframe thead th {\n",
       "        text-align: right;\n",
       "    }\n",
       "</style>\n",
       "<table border=\"1\" class=\"dataframe\">\n",
       "  <thead>\n",
       "    <tr style=\"text-align: right;\">\n",
       "      <th></th>\n",
       "      <th>sepal length (cm)</th>\n",
       "      <th>sepal width (cm)</th>\n",
       "      <th>petal length (cm)</th>\n",
       "      <th>petal width (cm)</th>\n",
       "      <th>species</th>\n",
       "    </tr>\n",
       "  </thead>\n",
       "  <tbody>\n",
       "    <tr>\n",
       "      <th>0</th>\n",
       "      <td>5.1</td>\n",
       "      <td>3.5</td>\n",
       "      <td>1.4</td>\n",
       "      <td>0.2</td>\n",
       "      <td>setosa</td>\n",
       "    </tr>\n",
       "    <tr>\n",
       "      <th>1</th>\n",
       "      <td>4.9</td>\n",
       "      <td>3.0</td>\n",
       "      <td>1.4</td>\n",
       "      <td>0.2</td>\n",
       "      <td>setosa</td>\n",
       "    </tr>\n",
       "  </tbody>\n",
       "</table>\n",
       "</div>"
      ],
      "text/plain": [
       "   sepal length (cm)  sepal width (cm)  petal length (cm)  petal width (cm)  \\\n",
       "0                5.1               3.5                1.4               0.2   \n",
       "1                4.9               3.0                1.4               0.2   \n",
       "\n",
       "  species  \n",
       "0  setosa  \n",
       "1  setosa  "
      ]
     },
     "execution_count": 10,
     "metadata": {},
     "output_type": "execute_result"
    }
   ],
   "source": [
    "df.head(2)"
   ]
  },
  {
   "cell_type": "code",
   "execution_count": 9,
   "metadata": {},
   "outputs": [
    {
     "data": {
      "text/plain": [
       "(150, 5)"
      ]
     },
     "execution_count": 9,
     "metadata": {},
     "output_type": "execute_result"
    }
   ],
   "source": [
    "df.shape"
   ]
  },
  {
   "cell_type": "code",
   "execution_count": 12,
   "metadata": {},
   "outputs": [
    {
     "data": {
      "text/html": [
       "<div>\n",
       "<style scoped>\n",
       "    .dataframe tbody tr th:only-of-type {\n",
       "        vertical-align: middle;\n",
       "    }\n",
       "\n",
       "    .dataframe tbody tr th {\n",
       "        vertical-align: top;\n",
       "    }\n",
       "\n",
       "    .dataframe thead th {\n",
       "        text-align: right;\n",
       "    }\n",
       "</style>\n",
       "<table border=\"1\" class=\"dataframe\">\n",
       "  <thead>\n",
       "    <tr style=\"text-align: right;\">\n",
       "      <th></th>\n",
       "      <th>sepal length (cm)</th>\n",
       "      <th>sepal width (cm)</th>\n",
       "      <th>petal length (cm)</th>\n",
       "      <th>petal width (cm)</th>\n",
       "    </tr>\n",
       "  </thead>\n",
       "  <tbody>\n",
       "    <tr>\n",
       "      <th>0</th>\n",
       "      <td>5.1</td>\n",
       "      <td>3.5</td>\n",
       "      <td>1.4</td>\n",
       "      <td>0.2</td>\n",
       "    </tr>\n",
       "    <tr>\n",
       "      <th>1</th>\n",
       "      <td>4.9</td>\n",
       "      <td>3.0</td>\n",
       "      <td>1.4</td>\n",
       "      <td>0.2</td>\n",
       "    </tr>\n",
       "  </tbody>\n",
       "</table>\n",
       "</div>"
      ],
      "text/plain": [
       "   sepal length (cm)  sepal width (cm)  petal length (cm)  petal width (cm)\n",
       "0                5.1               3.5                1.4               0.2\n",
       "1                4.9               3.0                1.4               0.2"
      ]
     },
     "execution_count": 12,
     "metadata": {},
     "output_type": "execute_result"
    }
   ],
   "source": [
    "# 데이터를 나눠서 임시 구성\n",
    "# species를 제외하고 나머지만 150*4\n",
    "X = df[df.columns[:4]]\n",
    "X.head(2)"
   ]
  },
  {
   "cell_type": "code",
   "execution_count": 13,
   "metadata": {},
   "outputs": [
    {
     "data": {
      "text/plain": [
       "(150, 4)"
      ]
     },
     "execution_count": 13,
     "metadata": {},
     "output_type": "execute_result"
    }
   ],
   "source": [
    "X.shape"
   ]
  },
  {
   "cell_type": "code",
   "execution_count": 14,
   "metadata": {},
   "outputs": [
    {
     "data": {
      "text/plain": [
       "(0    False\n",
       " 1    False\n",
       " Name: species, dtype: bool, pandas.core.series.Series, (150,))"
      ]
     },
     "execution_count": 14,
     "metadata": {},
     "output_type": "execute_result"
    }
   ],
   "source": [
    "# Y는 이진 분류 데이터로 구성하겠다\n",
    "# 종이 versicolor인지 아닌지로 구성, 튜플\n",
    "Y = df['species'] == 'versicolor'\n",
    "Y[:2], type(Y), Y.shape"
   ]
  },
  {
   "cell_type": "code",
   "execution_count": 15,
   "metadata": {},
   "outputs": [],
   "source": [
    "# 데이터를 훈련용, 테스트용\n",
    "X_train, X_test, Y_train, Y_test = train_test_split(X, Y, test_size = 0.8)"
   ]
  },
  {
   "cell_type": "code",
   "execution_count": 16,
   "metadata": {},
   "outputs": [
    {
     "data": {
      "text/plain": [
       "((30, 4), (120, 4))"
      ]
     },
     "execution_count": 16,
     "metadata": {},
     "output_type": "execute_result"
    }
   ],
   "source": [
    "X_train.shape, X_test.shape"
   ]
  },
  {
   "cell_type": "code",
   "execution_count": 18,
   "metadata": {},
   "outputs": [
    {
     "name": "stdout",
     "output_type": "stream",
     "text": [
      "('로지스틱 회귀', ('-', LogisticRegression(C=1.0, class_weight=None, dual=False, fit_intercept=True,\n",
      "          intercept_scaling=1, max_iter=100, multi_class='ovr', n_jobs=1,\n",
      "          penalty='l2', random_state=None, solver='liblinear', tol=0.0001,\n",
      "          verbose=0, warm_start=False)))\n",
      "('결정 트리', ('--', DecisionTreeClassifier(class_weight=None, criterion='gini', max_depth=5,\n",
      "            max_features=None, max_leaf_nodes=None,\n",
      "            min_impurity_decrease=0.0, min_impurity_split=None,\n",
      "            min_samples_leaf=1, min_samples_split=2,\n",
      "            min_weight_fraction_leaf=0.0, presort=False, random_state=None,\n",
      "            splitter='best')))\n",
      "('랜덤 포레스트', ('.-', RandomForestClassifier(bootstrap=True, class_weight=None, criterion='gini',\n",
      "            max_depth=5, max_features=1, max_leaf_nodes=None,\n",
      "            min_impurity_decrease=0.0, min_impurity_split=None,\n",
      "            min_samples_leaf=1, min_samples_split=2,\n",
      "            min_weight_fraction_leaf=0.0, n_estimators=10, n_jobs=1,\n",
      "            oob_score=False, random_state=None, verbose=0,\n",
      "            warm_start=False)))\n",
      "('나이브 베이즈', (':', GaussianNB(priors=None)))\n"
     ]
    }
   ],
   "source": [
    "for a in class_map.items() :\n",
    "    print(a)"
   ]
  },
  {
   "cell_type": "code",
   "execution_count": 19,
   "metadata": {},
   "outputs": [
    {
     "name": "stdout",
     "output_type": "stream",
     "text": [
      "Malgun Gothic\n"
     ]
    }
   ],
   "source": [
    "from korea_font import initKoreaFontLoad\n",
    "initKoreaFontLoad()"
   ]
  },
  {
   "cell_type": "code",
   "execution_count": 59,
   "metadata": {},
   "outputs": [
    {
     "name": "stdout",
     "output_type": "stream",
     "text": [
      "로지스틱 회귀 auc : 0.7303809833930316\n",
      "결정 트리 auc : 0.851188537935526\n",
      "랜덤 포레스트 auc : 0.9843699120807554\n",
      "나이브 베이즈 auc : 0.9726473461413221\n"
     ]
    },
    {
     "data": {
      "image/png": "[encoded data removed]",
      "text/plain": [
       "<Figure size 576x576 with 1 Axes>"
      ]
     },
     "metadata": {},
     "output_type": "display_data"
    }
   ],
   "source": [
    "plt.figure(figsize=(8, 8))\n",
    "for name, (line_style, model) in class_map.items() :\n",
    "    # 훈련\n",
    "    model.fit(X_train, Y_train)\n",
    "    # 예측\n",
    "    # predict_proba() : 예측에 대한 확률로 예측\n",
    "    # → 알고리즘의 신뢰 수준을 알 수가 없다는 점에서 활용\n",
    "    # ('0, 1 중에 1이 될 확률 0.57이다'\n",
    "    # → 1을 상대적으로 더 예측하는 모델인데, \n",
    "    # 만약 해당 모델이 0을 더 잘 맞춘다고 본다면 예측값은 0으로 해석)\n",
    "    # predict() : 예측값을 기준으로 예측\n",
    "    preds = model.predict_proba( X_test )\n",
    "    # print(preds[:,1])\n",
    "    \n",
    "    # roc 커브 생성\n",
    "    pred = pd.Series(preds[:, 1])\n",
    "    # print(pred)\n",
    "    # fpr : 거짓 양성비\n",
    "    # tpr : 참 양성비\n",
    "    # thresholds : fpr, tpr을 계산할 때 사용한 결정함수의 임계값\n",
    "    fpr, tpr, thresholds = roc_curve( Y_test, pred )\n",
    "    # print(fpr, tpr, thresholds)\n",
    "    \n",
    "    # auc 스코어 → 수치 비교\n",
    "    auc_score = auc(fpr, tpr)\n",
    "    print('%s auc : %s' % (name, auc_score))\n",
    "    # 그리기\n",
    "    plt.plot( fpr, tpr, line_style, linewidth=5, label=name )\n",
    "    \n",
    "plt.legend()\n",
    "plt.title('분류기 성능 비교')\n",
    "# 구분을 위해 대각선 기울기가 1인 선을 드로잉\n",
    "plt.plot( [0,1], [0,1], 'k--' )\n",
    "# 구간 제한\n",
    "plt.ylim( [0.0, 1.05] )\n",
    "\n",
    "# 라벨\n",
    "plt.xlabel('거짓 양성비')\n",
    "plt.ylabel('참 양성비')\n",
    "plt.show()"
   ]
  },
  {
   "cell_type": "code",
   "execution_count": 60,
   "metadata": {},
   "outputs": [],
   "source": [
    "# 매크로 평균, 마이크로 평균\n",
    "from sklearn.metrics import f1_score\n",
    "y_true = [0, 1, 2, 0, 1, 2]\n",
    "y_pred = [0, 2, 1, 0, 0, 1]"
   ]
  },
  {
   "cell_type": "code",
   "execution_count": 61,
   "metadata": {},
   "outputs": [
    {
     "data": {
      "text/plain": [
       "0.26666666666666666"
      ]
     },
     "execution_count": 61,
     "metadata": {},
     "output_type": "execute_result"
    }
   ],
   "source": [
    "# 매크로 평균 기반\n",
    "# 정밀도 = 참의 개별값 합산 / (참의 개별값 합산 + 거짓의 개별값 합산)\n",
    "f1_score(y_true, y_pred, average = 'macro')"
   ]
  },
  {
   "cell_type": "code",
   "execution_count": 63,
   "metadata": {},
   "outputs": [
    {
     "data": {
      "text/plain": [
       "0.3333333333333333"
      ]
     },
     "execution_count": 63,
     "metadata": {},
     "output_type": "execute_result"
    }
   ],
   "source": [
    "# 마이크로 평균 기반\n",
    "# 정밀도 = (정밀도1 + 정밀도2 + ...) / n개의 클래스 분류 개수\n",
    "f1_score(y_true, y_pred, average = 'micro')"
   ]
  },
  {
   "cell_type": "code",
   "execution_count": 64,
   "metadata": {},
   "outputs": [
    {
     "data": {
      "text/plain": [
       "0.26666666666666666"
      ]
     },
     "execution_count": 64,
     "metadata": {},
     "output_type": "execute_result"
    }
   ],
   "source": [
    "f1_score(y_true, y_pred, average = 'weighted')"
   ]
  },
  {
   "cell_type": "code",
   "execution_count": 65,
   "metadata": {},
   "outputs": [
    {
     "data": {
      "text/plain": [
       "array([0.8, 0. , 0. ])"
      ]
     },
     "execution_count": 65,
     "metadata": {},
     "output_type": "execute_result"
    }
   ],
   "source": [
    "f1_score(y_true, y_pred, average = None)"
   ]
  },
  {
   "cell_type": "markdown",
   "metadata": {},
   "source": [
    "### 지도학습 > 회귀 > 회귀 모델에 대한 평가\n",
    "- 지표(추천시스템에서 체크)\n",
    " > - 평균 제곱근 오차  \n",
    " > - 결정계수"
   ]
  },
  {
   "cell_type": "markdown",
   "metadata": {},
   "source": [
    "### 기타 > A/B 테스트\n",
    "- 일반 SW에서 테스트 하는 방식 혼용"
   ]
  },
  {
   "cell_type": "code",
   "execution_count": null,
   "metadata": {},
   "outputs": [],
   "source": []
  }
 ],
 "metadata": {
  "kernelspec": {
   "display_name": "Python 3",
   "language": "python",
   "name": "python3"
  },
  "language_info": {
   "codemirror_mode": {
    "name": "ipython",
    "version": 3
   },
   "file_extension": ".py",
   "mimetype": "text/x-python",
   "name": "python",
   "nbconvert_exporter": "python",
   "pygments_lexer": "ipython3",
   "version": "3.6.5"
  }
 },
 "nbformat": 4,
 "nbformat_minor": 2
}
