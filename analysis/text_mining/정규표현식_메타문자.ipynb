{
 "cells": [
  {
   "cell_type": "code",
   "execution_count": 1,
   "metadata": {},
   "outputs": [],
   "source": [
    "import re"
   ]
  },
  {
   "cell_type": "markdown",
   "metadata": {},
   "source": [
    "** 정규표현식(Regular Expression)은 복잡한 문자열을 처리할 때 사용하는 기법 **\n",
    "1. 목록\n",
    "  - 메타문자(meta characters)\n",
    "   > 일반 표현 : | . ^ $ * + ? {} ()  \n",
    "   > 이스케이프 문자 표현 : \\d,D,s,S,w,W,b,B,...\n",
    "  - 함수\n",
    "   > match()  \n",
    "   > search()  \n",
    "   > findall()  \n",
    "   > finditer()  \n",
    "   > sub()\n",
    "  - 그룹핑\n",
    "  - 전방탐색\n",
    "   > 긍정형 전방 탐색  \n",
    "   > 부정형 전방 탐색"
   ]
  },
  {
   "cell_type": "markdown",
   "metadata": {},
   "source": [
    "#### 메타 문자 → |\n",
    "- 의미 : or"
   ]
  },
  {
   "cell_type": "code",
   "execution_count": 2,
   "metadata": {},
   "outputs": [
    {
     "name": "stdout",
     "output_type": "stream",
     "text": [
      "1. match(일치)\n",
      "2. match(일치)\n",
      "3. match(일치)\n"
     ]
    }
   ],
   "source": [
    "# 표현식, 표현\n",
    "if re.match('a|b|c', 'a') : print('1. match(일치)')\n",
    "if re.match('a|b|c', 'b') : print('2. match(일치)')\n",
    "if re.match('a|b|c', 'c') : print('3. match(일치)')\n",
    "# d는 허용문자에 포함되지 않아서 False\n",
    "if re.match('a|b|c', 'd') : print('4. match(일치)')"
   ]
  },
  {
   "cell_type": "code",
   "execution_count": 3,
   "metadata": {},
   "outputs": [
    {
     "name": "stdout",
     "output_type": "stream",
     "text": [
      "5. match(일치)\n"
     ]
    }
   ],
   "source": [
    "# 앞의 a가 일치되니 True\n",
    "if re.match('a|b|c', 'ad') : print('5. match(일치)')\n",
    "# (순서변경) a 혹은 b 혹은 c로 시작해야 True\n",
    "if re.match('a|b|c', 'da') : print('6. match(일치)')"
   ]
  },
  {
   "cell_type": "markdown",
   "metadata": {},
   "source": [
    "#### 메타 문자 → [ ]\n",
    "- 의미 : 문자 클래스\n",
    "- 문자 클래스를 만드는 메타문자 [ 와 ] 사이에는 어떤 문자도 들어갈 수 있다\n",
    "- [ ] 사이에 있는 단어가 match(시작단어), search(전체 중에 일치되는 단어)가 한 개만 있어도 일치로 간주한다"
   ]
  },
  {
   "cell_type": "code",
   "execution_count": 5,
   "metadata": {},
   "outputs": [
    {
     "name": "stdout",
     "output_type": "stream",
     "text": [
      "1. match(일치)\n",
      "3. match(일치)\n",
      "4. match(일치)\n",
      "5. search(일치)\n"
     ]
    }
   ],
   "source": [
    "if re.match('[abc]', 'a') : print('1. match(일치)')\n",
    "if re.match('[abc]', 'efv') : print('2. match(일치)')\n",
    "if re.match('[abc]', 'abd') : print('3. match(일치)')\n",
    "if re.match('[abc]', 'b12') : print('4. match(일치)')\n",
    "# 전체 중에 있기만 하면 : search()\n",
    "if re.search('[abc]', '12c') : print('5. search(일치)')"
   ]
  },
  {
   "cell_type": "markdown",
   "metadata": {},
   "source": [
    "#### 메타 문자 → -\n",
    "- 의미 : [ ] 문자 클래스 안, 두 문자 사이에 -(하이픈)을 넣어서 표현하면, 두 문자 사이의 범위(from ~ to)를 의미한다"
   ]
  },
  {
   "cell_type": "code",
   "execution_count": 7,
   "metadata": {},
   "outputs": [
    {
     "name": "stdout",
     "output_type": "stream",
     "text": [
      "1. match(일치)\n",
      "4. match(일치)\n",
      "5. match(일치)\n",
      "7. search(일치)\n",
      "9. match(일치)\n"
     ]
    }
   ],
   "source": [
    "# [a-zA-Z] : 알파벳 모두\n",
    "# [0-9] : 숫자\n",
    "if re.match('[0-9]', '1') : print('1. match(일치)')\n",
    "if re.match('[0-9]', 'a') : print('2. match(일치)')\n",
    "if re.match('[a-zA-Z]', '1') : print('3. match(일치)')\n",
    "if re.match('[a-zA-Z]', 'a') : print('4. match(일치)')\n",
    "if re.match('[0-9a-z]', 'a') : print('5. match(일치)')\n",
    "# match() -> 시작문자가 대문자이므로 False    \n",
    "if re.match('[0-9a-z]', 'Aa') : print('6. match(일치)')\n",
    "if re.search('[0-9a-z]', 'Aa') : print('7. search(일치)')\n",
    "# 한글 : [ㄱ-힣]\n",
    "if re.match('[ㄱ-힣]', 'a') : print('8. match(일치)')\n",
    "if re.match('[ㄱ-힣]', '가나다') : print('9. match(일치)')"
   ]
  },
  {
   "cell_type": "markdown",
   "metadata": {},
   "source": [
    "#### 메타 문자 → .\n",
    "- 의미 : dot(.)은 **줄바꿈 기호 \\n을 제외하고 모든 문자**와 매치"
   ]
  },
  {
   "cell_type": "code",
   "execution_count": 8,
   "metadata": {},
   "outputs": [
    {
     "name": "stdout",
     "output_type": "stream",
     "text": [
      "1. match(일치)\n",
      "2. match(일치)\n",
      "3. match(일치)\n",
      "4. match(일치)\n"
     ]
    }
   ],
   "source": [
    "if re.match('[a.b]', 'a') : print('1. match(일치)')\n",
    "if re.match('[a.b]', 'ab') : print('2. match(일치)')\n",
    "if re.match('[a.b]', 'a1b') : print('3. match(일치)')\n",
    "if re.match('[a.b]', 'abc') : print('4. match(일치)')"
   ]
  },
  {
   "cell_type": "code",
   "execution_count": 9,
   "metadata": {},
   "outputs": [
    {
     "name": "stdout",
     "output_type": "stream",
     "text": [
      "6. match(일치)\n"
     ]
    }
   ],
   "source": [
    "# []가 없을 경우 .를 뭐라도 반드시 채워야 한다\n",
    "if re.match('a.b', 'abc') : print('5. match(일치)')\n",
    "if re.match('a.b', 'a1b') : print('6. match(일치)')"
   ]
  },
  {
   "cell_type": "markdown",
   "metadata": {},
   "source": [
    "#### 메타 문자 → ^ $ * +\n",
    "\n",
    "- ^\n",
    " > 문자열의 맨 처음과 일치함을 의미  \n",
    " > [^]는 그 반대(배제)  \n",
    " > re.MULTILINE을 사용하면 각 라인의 처음과 일치  \n",
    "\n",
    "- $\n",
    " > 문자열의 맨 끝과 일치함을 의미\n",
    "\n",
    "- *\n",
    " > 앞의 문자가 0부터 무한대로 반복\n",
    "\n",
    "- +\n",
    " > 앞의 문자가 1부터 무한대로 반복  \n",
    " > [ ] 안에서 기술하면, 표현 방식에 따라 해석이 달라질 수도 있다 (주변값 고려)"
   ]
  },
  {
   "cell_type": "code",
   "execution_count": 11,
   "metadata": {},
   "outputs": [
    {
     "name": "stdout",
     "output_type": "stream",
     "text": [
      "1. match(일치)\n",
      "2. match(일치)\n"
     ]
    }
   ],
   "source": [
    "# 시작 문자가 오직 숫자와 .만 된다\n",
    "# True\n",
    "if re.match('^[0-9\\.]$', '1') : print('1. match(일치)')\n",
    "if re.match('^[0-9\\.]$', '.') : print('2. match(일치)')\n",
    "# False\n",
    "if re.match('^[0-9\\.]$', 'a') : print('3. match(일치)')    "
   ]
  },
  {
   "cell_type": "code",
   "execution_count": 12,
   "metadata": {},
   "outputs": [],
   "source": [
    "# 문자의 수량 조건에 걸린다 -> *, +가 들어가서 해결\n",
    "if re.match('^[0-9\\.]$', '12') : print('4. match(일치)')\n",
    "if re.match('^[0-9\\.]$', '1.') : print('5. match(일치)')"
   ]
  },
  {
   "cell_type": "code",
   "execution_count": 13,
   "metadata": {},
   "outputs": [
    {
     "name": "stdout",
     "output_type": "stream",
     "text": [
      "6. match(일치)\n",
      "7. match(일치)\n"
     ]
    }
   ],
   "source": [
    "# 1번부터 무한대로 반복 가능\n",
    "if re.match('^[0-9\\.]+$', '.1') : print('6. match(일치)')\n",
    "if re.match('^[0-9\\.]+$', '12') : print('7. match(일치)')"
   ]
  },
  {
   "cell_type": "code",
   "execution_count": 14,
   "metadata": {
    "scrolled": true
   },
   "outputs": [
    {
     "name": "stdout",
     "output_type": "stream",
     "text": [
      "8. match(일치)\n"
     ]
    }
   ],
   "source": [
    "# 0번부터 무한대로 반복이 가능\n",
    "if re.match('^[0-9\\.]*$', '12') : print('8. match(일치)')"
   ]
  },
  {
   "cell_type": "markdown",
   "metadata": {},
   "source": [
    "###### [^] : 문자 클래스 안에 ^가 들어가면 반대 의미를 가진다 → 배제"
   ]
  },
  {
   "cell_type": "code",
   "execution_count": 15,
   "metadata": {},
   "outputs": [
    {
     "name": "stdout",
     "output_type": "stream",
     "text": [
      "10. match(일치)\n"
     ]
    }
   ],
   "source": [
    "# 시작문자 숫자 빼고 가능\n",
    "if re.match('[^0-9]', '12') : print('9. match(일치)')\n",
    "if re.match('[^0-9]', 'a') : print('10. match(일치)')"
   ]
  },
  {
   "cell_type": "code",
   "execution_count": 26,
   "metadata": {},
   "outputs": [
    {
     "data": {
      "text/plain": [
       "'삼계탕 하면 온천장역 백년백세토종\\n삼계탕 흑임자 메뉴입니다. 다른 삼계탕은...\\n삼계탕 음... 잘 모르겠네요\\n'"
      ]
     },
     "execution_count": 26,
     "metadata": {},
     "output_type": "execute_result"
    }
   ],
   "source": [
    "data = '''삼계탕 하면 온천장역 백년백세토종\n",
    "삼계탕 흑임자 메뉴입니다. 다른 삼계탕은...\n",
    "삼계탕 음... 잘 모르겠네요\n",
    "'''\n",
    "data"
   ]
  },
  {
   "cell_type": "code",
   "execution_count": 27,
   "metadata": {},
   "outputs": [],
   "source": [
    "# 문제 :\n",
    "# 삼계탕으로 문자열이 시작하고,\n",
    "# 한 칸 띄고(whitespace) : \\s,\n",
    "# 다음 단어까지(글자 1개 이상) -> 단어 = 문자+문자... -> \\w 다 찾으시오\n",
    "# 패턴(pattern) 생성\n",
    "p = re.compile('^삼계탕\\s\\w+')"
   ]
  },
  {
   "cell_type": "code",
   "execution_count": 18,
   "metadata": {
    "scrolled": true
   },
   "outputs": [
    {
     "data": {
      "text/plain": [
       "['삼계탕 하면']"
      ]
     },
     "execution_count": 18,
     "metadata": {},
     "output_type": "execute_result"
    }
   ],
   "source": [
    "p.findall(data)"
   ]
  },
  {
   "cell_type": "markdown",
   "metadata": {},
   "source": [
    "###### 라인별로 패턴을 검사하고 싶다면 : re.MULTILINE"
   ]
  },
  {
   "cell_type": "code",
   "execution_count": 28,
   "metadata": {},
   "outputs": [
    {
     "data": {
      "text/plain": [
       "['삼계탕 하면', '삼계탕 흑임자', '삼계탕 음']"
      ]
     },
     "execution_count": 28,
     "metadata": {},
     "output_type": "execute_result"
    }
   ],
   "source": [
    "p = re.compile('^삼계탕\\s\\w+', re.MULTILINE)\n",
    "p.findall(data)"
   ]
  },
  {
   "cell_type": "markdown",
   "metadata": {},
   "source": [
    "###### $ : 문자열의 맨 뒤 패턴이 일치함을 의미"
   ]
  },
  {
   "cell_type": "code",
   "execution_count": 29,
   "metadata": {},
   "outputs": [
    {
     "name": "stdout",
     "output_type": "stream",
     "text": [
      "2. match(일치)\n"
     ]
    }
   ],
   "source": [
    "# + : 무조건 한 번은 나와야 한다\n",
    "if re.match('^[0-9]+[a-z]+$', '11') : print('1. match(일치)') \n",
    "if re.match('^[0-9]+[a-z]+$', '111111a') : print('2. match(일치)') \n",
    "if re.match('^[0-9]+[a-z]+$', '1111111A') : print('3. match(일치)')"
   ]
  },
  {
   "cell_type": "markdown",
   "metadata": {},
   "source": [
    "###### * : 0 ~ 무한대 반복"
   ]
  },
  {
   "cell_type": "code",
   "execution_count": 30,
   "metadata": {},
   "outputs": [
    {
     "name": "stdout",
     "output_type": "stream",
     "text": [
      "1. match(일치)\n",
      "2. match(일치)\n",
      "3. match(일치)\n"
     ]
    }
   ],
   "source": [
    "# *의 바로 앞 단어, 표현에만 집중\n",
    "if re.match('bus*an', 'buan') : print('1. match(일치)')\n",
    "if re.match('bus*an', 'busan') : print('2. match(일치)') \n",
    "if re.match('bus*an', 'bussan') : print('3. match(일치)') "
   ]
  },
  {
   "cell_type": "markdown",
   "metadata": {},
   "source": [
    "###### + : 1 ~ 무한대 반복"
   ]
  },
  {
   "cell_type": "code",
   "execution_count": 32,
   "metadata": {},
   "outputs": [
    {
     "name": "stdout",
     "output_type": "stream",
     "text": [
      "2. match(일치)\n",
      "3. match(일치)\n",
      "4. match(일치)\n"
     ]
    }
   ],
   "source": [
    "if re.match('bus+an', 'buan') : print('1. match(일치)')\n",
    "# []에서는 해석이 달라질 수 있다\n",
    "if re.match('[bus+an]', 'buan') : print('2. match(일치)')\n",
    "if re.match('bus+an', 'busan') : print('3. match(일치)')\n",
    "if re.match('bus+an', 'bussan') : print('4. match(일치)')"
   ]
  },
  {
   "cell_type": "markdown",
   "metadata": {},
   "source": [
    "#### 메타 문자 → {m, n} ?\n",
    "\n",
    "- { }\n",
    " > 반복  \n",
    " > {m, n} : m부터 n까지 반복\n",
    "- ?\n",
    " > {0, 1} : 한 번도 안 나오던가, 나오면 한 번만 나오던가"
   ]
  },
  {
   "cell_type": "markdown",
   "metadata": {},
   "source": [
    "###### {숫자} 바로 앞 문자가 반드시 숫자만큼 나와야 한다"
   ]
  },
  {
   "cell_type": "code",
   "execution_count": 33,
   "metadata": {},
   "outputs": [
    {
     "name": "stdout",
     "output_type": "stream",
     "text": [
      "3. match(일치)\n"
     ]
    }
   ],
   "source": [
    "if re.match('bus{2}an', 'buan') : print('1. match(일치)')\n",
    "if re.match('bus{2}an', 'busan') : print('2. match(일치)')\n",
    "if re.match('bus{2}an', 'bussan') : print('3. match(일치)')"
   ]
  },
  {
   "cell_type": "code",
   "execution_count": 34,
   "metadata": {
    "scrolled": true
   },
   "outputs": [
    {
     "name": "stdout",
     "output_type": "stream",
     "text": [
      "4. match(일치)\n"
     ]
    }
   ],
   "source": [
    "# 문자 클래스 내부에서는 다르게 해석\n",
    "if re.match('[bus{2}an]', 'buan') : print('4. match(일치)')"
   ]
  },
  {
   "cell_type": "markdown",
   "metadata": {},
   "source": [
    "###### {m, n} 앞의 문자가 m번부터 n번까지 반복되면 ok"
   ]
  },
  {
   "cell_type": "code",
   "execution_count": 35,
   "metadata": {},
   "outputs": [
    {
     "name": "stdout",
     "output_type": "stream",
     "text": [
      "6. match(일치)\n",
      "7. match(일치)\n"
     ]
    }
   ],
   "source": [
    "if re.match('bus{2,3}an', 'busan') : print('5. match(일치)')\n",
    "if re.match('bus{2,3}an', 'bussan') : print('6. match(일치)')\n",
    "if re.match('bus{2,3}an', 'busssan') : print('7. match(일치)')\n",
    "if re.match('bus{2,3}an', 'bussssan') : print('8. match(일치)')"
   ]
  },
  {
   "cell_type": "markdown",
   "metadata": {},
   "source": [
    "###### ? → {0, 1}"
   ]
  },
  {
   "cell_type": "code",
   "execution_count": 36,
   "metadata": {},
   "outputs": [
    {
     "name": "stdout",
     "output_type": "stream",
     "text": [
      "9. match(일치)\n",
      "10. match(일치)\n"
     ]
    }
   ],
   "source": [
    "if re.match('bus?an', 'buan') : print('9. match(일치)')\n",
    "if re.match('bus?an', 'busan') : print('10. match(일치)')\n",
    "if re.match('bus?an', 'bussan') : print('11. match(일치)')"
   ]
  },
  {
   "cell_type": "code",
   "execution_count": null,
   "metadata": {},
   "outputs": [],
   "source": []
  },
  {
   "cell_type": "markdown",
   "metadata": {},
   "source": [
    "## 이스케이프 문자 표현\n",
    "- \\d ↔ D\n",
    "- \\s ↔ S\n",
    "- \\w ↔ W\n",
    "- \\b ↔ B"
   ]
  },
  {
   "cell_type": "markdown",
   "metadata": {},
   "source": [
    "###### \\d : 숫자 1개 → [0-9]와 동일한 표현이다"
   ]
  },
  {
   "cell_type": "code",
   "execution_count": 41,
   "metadata": {},
   "outputs": [
    {
     "name": "stdout",
     "output_type": "stream",
     "text": [
      "1. match(일치)\n"
     ]
    }
   ],
   "source": [
    "if re.match('[\\d]', '1') : print('1. match(일치)') \n",
    "if re.match('[\\d]', 'a') : print('2. match(일치)') "
   ]
  },
  {
   "cell_type": "markdown",
   "metadata": {},
   "source": [
    "###### \\D : 숫자 1개만 오지 않도록 → [^0-9]와 동일한 표현이다"
   ]
  },
  {
   "cell_type": "code",
   "execution_count": 42,
   "metadata": {},
   "outputs": [
    {
     "name": "stdout",
     "output_type": "stream",
     "text": [
      "2. match(일치)\n"
     ]
    }
   ],
   "source": [
    "if re.match('[\\D]', '1') : print('1. match(일치)') \n",
    "if re.match('[\\D]', 'a') : print('2. match(일치)')"
   ]
  },
  {
   "cell_type": "markdown",
   "metadata": {},
   "source": [
    "###### \\s → whitespace와 동일, [ \\t\\n\\r\\f\\v]"
   ]
  },
  {
   "cell_type": "code",
   "execution_count": 43,
   "metadata": {},
   "outputs": [
    {
     "name": "stdout",
     "output_type": "stream",
     "text": [
      "1. match(일치)\n"
     ]
    }
   ],
   "source": [
    "if re.match('[\\s]', ' \\t\\n\\r\\f\\v') : print('1. match(일치)')\n",
    "if re.match('[\\s]', 'A\\t\\n\\r\\f\\v') : print('2. match(일치)')"
   ]
  },
  {
   "cell_type": "markdown",
   "metadata": {},
   "source": [
    "###### \\S → whitespace가 아닌 문자, [^ \\t\\n\\r\\f\\v]"
   ]
  },
  {
   "cell_type": "code",
   "execution_count": 44,
   "metadata": {},
   "outputs": [
    {
     "name": "stdout",
     "output_type": "stream",
     "text": [
      "2. match(일치)\n",
      "3. match(일치)\n",
      "4. match(일치)\n",
      "5. match(일치)\n"
     ]
    }
   ],
   "source": [
    "if re.match('[\\S]', ' \\t\\n\\r\\f\\v') : print('1. match(일치)')\n",
    "if re.match('[\\S]', 'A\\t\\n\\r\\f\\v') : print('2. match(일치)')\n",
    "if re.match('[\\S]', '1\\t\\n\\r\\f\\v') : print('3. match(일치)')\n",
    "if re.match('[\\S]', '가\\t\\n\\r\\f\\v') : print('4. match(일치)')\n",
    "if re.match('[\\S]', '@\\t\\n\\r\\f\\v') : print('5. match(일치)')"
   ]
  },
  {
   "cell_type": "markdown",
   "metadata": {},
   "source": [
    "###### \\w → 문자, 숫자와 매치, [0-9a-zA-Zㄱ-힣] → 언어면 ok"
   ]
  },
  {
   "cell_type": "code",
   "execution_count": 45,
   "metadata": {},
   "outputs": [
    {
     "name": "stdout",
     "output_type": "stream",
     "text": [
      "1. match(일치)\n",
      "2. match(일치)\n"
     ]
    }
   ],
   "source": [
    "if re.match('[\\w]', 'a0') : print('1. match(일치)')\n",
    "if re.match('[\\w]', '가') : print('2. match(일치)')\n",
    "if re.match('[\\w]', '@') : print('3. match(일치)')"
   ]
  },
  {
   "cell_type": "markdown",
   "metadata": {},
   "source": [
    "###### \\W → 문자, 숫자가 아닌 문자와 매치, [^0-9a-zA-Zㄱ-힣] / 특수문자, 이스케이프 문자 가능"
   ]
  },
  {
   "cell_type": "code",
   "execution_count": 49,
   "metadata": {},
   "outputs": [
    {
     "name": "stdout",
     "output_type": "stream",
     "text": [
      "3. match(일치)\n",
      "4. match(일치)\n"
     ]
    }
   ],
   "source": [
    "if re.match('[\\W]', 'a0') : print('1. match(일치)')\n",
    "if re.match('[\\W]', '가') : print('2. match(일치)')\n",
    "if re.match('[\\W]', '@') : print('3. match(일치)')\n",
    "if re.match('[\\W]', '\\n') : print('4. match(일치)')    "
   ]
  },
  {
   "cell_type": "code",
   "execution_count": 50,
   "metadata": {},
   "outputs": [],
   "source": [
    "# Ww Ws는 일치되는 것을 찾는 것이 더 합리적이다"
   ]
  },
  {
   "cell_type": "markdown",
   "metadata": {},
   "source": [
    "###### Raw String : 이스케이프가 적용되지 않고 인용 부호가 그대로 출력 / 문자열 앞에 r"
   ]
  },
  {
   "cell_type": "code",
   "execution_count": 51,
   "metadata": {},
   "outputs": [
    {
     "name": "stdout",
     "output_type": "stream",
     "text": [
      "가1a!\t]\n",
      "나\n"
     ]
    }
   ],
   "source": [
    "a = '가1a!\\t]\\n나'\n",
    "print(a)"
   ]
  },
  {
   "cell_type": "code",
   "execution_count": 52,
   "metadata": {},
   "outputs": [
    {
     "name": "stdout",
     "output_type": "stream",
     "text": [
      "가1a!\\t]\\n나\n"
     ]
    }
   ],
   "source": [
    "b = r'가1a!\\t]\\n나'\n",
    "print(b)"
   ]
  },
  {
   "cell_type": "markdown",
   "metadata": {},
   "source": [
    "###### \\b : 단어 구분자(word boundary), 일반 단어는 whitespace에 의해 구분"
   ]
  },
  {
   "cell_type": "code",
   "execution_count": 54,
   "metadata": {},
   "outputs": [],
   "source": [
    "# \\b는 백스페이스의 기능이나, \n",
    "# 여기서는 단어 구분자(word boundary)로 사용된 것이라는 의미를 유지하기 위해\n",
    "# raw string으로 표현해야 한다\n",
    "p = re.compile(r'\\bclass\\b')"
   ]
  },
  {
   "cell_type": "code",
   "execution_count": 55,
   "metadata": {},
   "outputs": [
    {
     "name": "stdout",
     "output_type": "stream",
     "text": [
      "<_sre.SRE_Match object; span=(3, 8), match='class'> class\n"
     ]
    }
   ],
   "source": [
    "m = p.search('no class at one')\n",
    "print(m, m.group())"
   ]
  },
  {
   "cell_type": "code",
   "execution_count": 57,
   "metadata": {},
   "outputs": [
    {
     "name": "stdout",
     "output_type": "stream",
     "text": [
      "None\n"
     ]
    }
   ],
   "source": [
    "# None : 일치된 것이 없다\n",
    "# 문장 안에 class라는 문자는 존재하나,\n",
    "# 온전히 whitespace에 의해 구분된 문자가 아니므로\n",
    "# 매치가 되지 않는다\n",
    "m = p.search('the declassified at one')\n",
    "print(m)"
   ]
  },
  {
   "cell_type": "code",
   "execution_count": 58,
   "metadata": {},
   "outputs": [
    {
     "name": "stdout",
     "output_type": "stream",
     "text": [
      "None\n"
     ]
    }
   ],
   "source": [
    "m = p.search('the subclass at one')\n",
    "print(m)"
   ]
  },
  {
   "cell_type": "code",
   "execution_count": null,
   "metadata": {},
   "outputs": [],
   "source": []
  }
 ],
 "metadata": {
  "kernelspec": {
   "display_name": "Python 3",
   "language": "python",
   "name": "python3"
  },
  "language_info": {
   "codemirror_mode": {
    "name": "ipython",
    "version": 3
   },
   "file_extension": ".py",
   "mimetype": "text/x-python",
   "name": "python",
   "nbconvert_exporter": "python",
   "pygments_lexer": "ipython3",
   "version": "3.6.5"
  }
 },
 "nbformat": 4,
 "nbformat_minor": 2
}
