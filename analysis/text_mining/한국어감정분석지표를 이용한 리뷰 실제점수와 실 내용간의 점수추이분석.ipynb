{
 "cells": [
  {
   "cell_type": "markdown",
   "metadata": {},
   "source": [
    "## 절차\n",
    "\n",
    "1. 연구목표 설정\n",
    "2. 데이터 수집\n",
    " - https://play.google.com/store/apps/details?id=net.daum.android.webtoon&showAllReviews=true\n",
    " - https://play.google.com/store/apps/details?id=com.nhn.android.webtoon&showAllReviews=true\n",
    " - selenium 이용\n",
    " - 페이지 로드되면, end를 작동시켜 밑으로 내린다\n",
    " - 리뷰 수집\n",
    "  > 이름  \n",
    "  > 별점  \n",
    "  > 등록일  \n",
    "  > 내용  \n",
    "  > 좋아요  \n",
    "3. 데이터 준비(정제, 변환, 통합)\n",
    "  > 정규식으로 필터링(욕설, 기타 표현에 대한 정책)  \n",
    "  > 파생변수 → 형태소, 점수 지표를 이용한 계산, 사전에 없는 표현에 대한 유사어 검사(확장성) 등\n",
    "4. 데이터 탐색(시각화, 통찰 과정)\n",
    "  > 워드클라우드, 바차트, 히스토그램, 산포도\n",
    "5. 모델링\n",
    "6. 시스템 통합(사전의 재구축(선순환 구조) 및 반영, 서비스)"
   ]
  },
  {
   "cell_type": "code",
   "execution_count": 1,
   "metadata": {},
   "outputs": [],
   "source": [
    "from selenium import webdriver as wd"
   ]
  },
  {
   "cell_type": "code",
   "execution_count": 11,
   "metadata": {},
   "outputs": [],
   "source": [
    "import urllib\n",
    "import time"
   ]
  },
  {
   "cell_type": "code",
   "execution_count": 8,
   "metadata": {},
   "outputs": [],
   "source": [
    "target_urls = [\n",
    "'https://play.google.com/store/apps/details?id=com.nhn.android.webtoon&showAllReviews=true',\n",
    "'https://play.google.com/store/apps/details?id=net.daum.android.webtoon&showAllReviews=true'\n",
    "]"
   ]
  },
  {
   "cell_type": "code",
   "execution_count": 19,
   "metadata": {},
   "outputs": [],
   "source": [
    "# 웹 드라이버\n",
    "driver = wd.Chrome('../tool/chromedriver.exe')"
   ]
  },
  {
   "cell_type": "code",
   "execution_count": 21,
   "metadata": {},
   "outputs": [],
   "source": [
    "# selenium.webdriver.common.keys.Keys\n",
    "from selenium.webdriver.common.keys import Keys\n",
    "\n",
    "# 타겟 사이트 데이터 수집\n",
    "def getData(app_name) :\n",
    "    # 스크롤바를 밑으로 내린다(15번)\n",
    "    for n in range(15) :\n",
    "        driver.find_element_by_tag_name('body').send_keys(Keys.END)\n",
    "        # ajax를 통해서 리뷰가 로드될 것이다\n",
    "        time.sleep(3)\n",
    "    \n",
    "    reviews = driver.find_elements_by_class_name('d15Mdf')\n",
    "    tmp = []\n",
    "    for review in reviews :\n",
    "        # 이름\n",
    "        name = review.find_element_by_class_name('X43Kjb').text\n",
    "        # 별점\n",
    "        star = review.find_element_by_class_name('pf5lIe>div').get_attribute('aria-label')\n",
    "        # 등록일\n",
    "        regi = review.find_element_by_class_name('p2TkOb').text\n",
    "        # 내용\n",
    "        content = review.find_element_by_class_name('UD7Dzf>span').text\n",
    "        # 좋아요\n",
    "        good = review.find_element_by_class_name('jUL89d.y92BAb').text\n",
    "        dic = {\n",
    "            'name' : name,\n",
    "            'star' : star,\n",
    "            'regi' : regi,\n",
    "            'content' : content,\n",
    "            'good' : good,\n",
    "            'appname' : app_name\n",
    "        }\n",
    "        tmp.append(dic)\n",
    "    # 예외처리 생략\n",
    "    return tmp\n"
   ]
  },
  {
   "cell_type": "code",
   "execution_count": 22,
   "metadata": {},
   "outputs": [],
   "source": [
    "outputs = list()\n",
    "app_names = ['네이버웹툰', '다음웹툰']\n",
    "for idx, target_url in enumerate(target_urls) :\n",
    "    # print (idx, target_url)\n",
    "    \n",
    "    # 사이트 접속\n",
    "    driver.get(target_url)\n",
    "    outputs.extend(getData(app_names[idx]))\n",
    "    time.sleep(5)"
   ]
  },
  {
   "cell_type": "code",
   "execution_count": null,
   "metadata": {},
   "outputs": [],
   "source": [
    "outputs"
   ]
  },
  {
   "cell_type": "code",
   "execution_count": 24,
   "metadata": {},
   "outputs": [
    {
     "data": {
      "text/plain": [
       "80"
      ]
     },
     "execution_count": 24,
     "metadata": {},
     "output_type": "execute_result"
    }
   ],
   "source": [
    "len(outputs)"
   ]
  },
  {
   "cell_type": "code",
   "execution_count": 25,
   "metadata": {},
   "outputs": [],
   "source": [
    "import pandas as pd\n",
    "import numpy as np"
   ]
  },
  {
   "cell_type": "markdown",
   "metadata": {},
   "source": [
    "###### pd.DataFrame.from_dict()"
   ]
  },
  {
   "cell_type": "code",
   "execution_count": 26,
   "metadata": {},
   "outputs": [
    {
     "data": {
      "text/html": [
       "<div>\n",
       "<style scoped>\n",
       "    .dataframe tbody tr th:only-of-type {\n",
       "        vertical-align: middle;\n",
       "    }\n",
       "\n",
       "    .dataframe tbody tr th {\n",
       "        vertical-align: top;\n",
       "    }\n",
       "\n",
       "    .dataframe thead th {\n",
       "        text-align: right;\n",
       "    }\n",
       "</style>\n",
       "<table border=\"1\" class=\"dataframe\">\n",
       "  <thead>\n",
       "    <tr style=\"text-align: right;\">\n",
       "      <th></th>\n",
       "      <th>appname</th>\n",
       "      <th>content</th>\n",
       "      <th>good</th>\n",
       "      <th>name</th>\n",
       "      <th>regi</th>\n",
       "      <th>star</th>\n",
       "    </tr>\n",
       "  </thead>\n",
       "  <tbody>\n",
       "    <tr>\n",
       "      <th>0</th>\n",
       "      <td>네이버웹툰</td>\n",
       "      <td>쿠키 왜 안주세요 몇번째야 진짜 무료쿠키~ 이러면서 안주는게 한두번인가 내가 가입을...</td>\n",
       "      <td>4</td>\n",
       "      <td>솜담</td>\n",
       "      <td>2019년 8월 17일</td>\n",
       "      <td>별표 5개 만점에 1개를 받았습니다.</td>\n",
       "    </tr>\n",
       "    <tr>\n",
       "      <th>1</th>\n",
       "      <td>네이버웹툰</td>\n",
       "      <td>저기요... 갑작히 잘 되던게 왜 안 됩니까? 와이파이 빵빵한데 네트워크 연결상태를...</td>\n",
       "      <td>16</td>\n",
       "      <td>왈왈</td>\n",
       "      <td>2019년 8월 20일</td>\n",
       "      <td>별표 5개 만점에 1개를 받았습니다.</td>\n",
       "    </tr>\n",
       "    <tr>\n",
       "      <th>2</th>\n",
       "      <td>네이버웹툰</td>\n",
       "      <td>\"개를 낳았다\"를 즐겨보고 있는데 엄청 재밌드라고요 그런데 개를 낳았다를보고 다른걸...</td>\n",
       "      <td>81</td>\n",
       "      <td>롄쀼</td>\n",
       "      <td>2019년 8월 14일</td>\n",
       "      <td>별표 5개 만점에 5개를 받았습니다.</td>\n",
       "    </tr>\n",
       "    <tr>\n",
       "      <th>3</th>\n",
       "      <td>네이버웹툰</td>\n",
       "      <td>한 두 번도 아니고 와이파이, 데이터 둘 다 네이버웹툰만 켜면 제일을 왜 못합니까?...</td>\n",
       "      <td>1</td>\n",
       "      <td>초보사리엘</td>\n",
       "      <td>2019년 8월 20일</td>\n",
       "      <td>별표 5개 만점에 1개를 받았습니다.</td>\n",
       "    </tr>\n",
       "    <tr>\n",
       "      <th>4</th>\n",
       "      <td>네이버웹툰</td>\n",
       "      <td>아니;;장난하시냐고요--여러분 이거요기요 첫주문웬만하면하지마세요.쿠키130개?절대안...</td>\n",
       "      <td>93</td>\n",
       "      <td>tv부기</td>\n",
       "      <td>2019년 8월 11일</td>\n",
       "      <td>별표 5개 만점에 1개를 받았습니다.</td>\n",
       "    </tr>\n",
       "  </tbody>\n",
       "</table>\n",
       "</div>"
      ],
      "text/plain": [
       "  appname                                            content good   name  \\\n",
       "0   네이버웹툰  쿠키 왜 안주세요 몇번째야 진짜 무료쿠키~ 이러면서 안주는게 한두번인가 내가 가입을...    4     솜담   \n",
       "1   네이버웹툰  저기요... 갑작히 잘 되던게 왜 안 됩니까? 와이파이 빵빵한데 네트워크 연결상태를...   16     왈왈   \n",
       "2   네이버웹툰  \"개를 낳았다\"를 즐겨보고 있는데 엄청 재밌드라고요 그런데 개를 낳았다를보고 다른걸...   81     롄쀼   \n",
       "3   네이버웹툰  한 두 번도 아니고 와이파이, 데이터 둘 다 네이버웹툰만 켜면 제일을 왜 못합니까?...    1  초보사리엘   \n",
       "4   네이버웹툰  아니;;장난하시냐고요--여러분 이거요기요 첫주문웬만하면하지마세요.쿠키130개?절대안...   93   tv부기   \n",
       "\n",
       "           regi                  star  \n",
       "0  2019년 8월 17일  별표 5개 만점에 1개를 받았습니다.  \n",
       "1  2019년 8월 20일  별표 5개 만점에 1개를 받았습니다.  \n",
       "2  2019년 8월 14일  별표 5개 만점에 5개를 받았습니다.  \n",
       "3  2019년 8월 20일  별표 5개 만점에 1개를 받았습니다.  \n",
       "4  2019년 8월 11일  별표 5개 만점에 1개를 받았습니다.  "
      ]
     },
     "execution_count": 26,
     "metadata": {},
     "output_type": "execute_result"
    }
   ],
   "source": [
    "df = pd.DataFrame.from_dict(outputs)\n",
    "df.head()"
   ]
  },
  {
   "cell_type": "code",
   "execution_count": 27,
   "metadata": {},
   "outputs": [],
   "source": [
    "import re"
   ]
  },
  {
   "cell_type": "code",
   "execution_count": 30,
   "metadata": {},
   "outputs": [
    {
     "name": "stdout",
     "output_type": "stream",
     "text": [
      "3\n"
     ]
    }
   ],
   "source": [
    "# 'star'에서 점수만 추출\n",
    "sample = '별표 5개 만점에 3개를 받았습니다.'\n",
    "# p = re.compile('\\d+')\n",
    "p = re.compile('[0-9]+')\n",
    "print(p.findall(sample)[1])"
   ]
  },
  {
   "cell_type": "code",
   "execution_count": 31,
   "metadata": {},
   "outputs": [],
   "source": [
    "df['star'] = df['star'].apply(lambda x : p.findall(x)[1])"
   ]
  },
  {
   "cell_type": "code",
   "execution_count": 32,
   "metadata": {},
   "outputs": [
    {
     "data": {
      "text/html": [
       "<div>\n",
       "<style scoped>\n",
       "    .dataframe tbody tr th:only-of-type {\n",
       "        vertical-align: middle;\n",
       "    }\n",
       "\n",
       "    .dataframe tbody tr th {\n",
       "        vertical-align: top;\n",
       "    }\n",
       "\n",
       "    .dataframe thead th {\n",
       "        text-align: right;\n",
       "    }\n",
       "</style>\n",
       "<table border=\"1\" class=\"dataframe\">\n",
       "  <thead>\n",
       "    <tr style=\"text-align: right;\">\n",
       "      <th></th>\n",
       "      <th>appname</th>\n",
       "      <th>content</th>\n",
       "      <th>good</th>\n",
       "      <th>name</th>\n",
       "      <th>regi</th>\n",
       "      <th>star</th>\n",
       "    </tr>\n",
       "  </thead>\n",
       "  <tbody>\n",
       "    <tr>\n",
       "      <th>0</th>\n",
       "      <td>네이버웹툰</td>\n",
       "      <td>쿠키 왜 안주세요 몇번째야 진짜 무료쿠키~ 이러면서 안주는게 한두번인가 내가 가입을...</td>\n",
       "      <td>4</td>\n",
       "      <td>솜담</td>\n",
       "      <td>2019년 8월 17일</td>\n",
       "      <td>1</td>\n",
       "    </tr>\n",
       "    <tr>\n",
       "      <th>1</th>\n",
       "      <td>네이버웹툰</td>\n",
       "      <td>저기요... 갑작히 잘 되던게 왜 안 됩니까? 와이파이 빵빵한데 네트워크 연결상태를...</td>\n",
       "      <td>16</td>\n",
       "      <td>왈왈</td>\n",
       "      <td>2019년 8월 20일</td>\n",
       "      <td>1</td>\n",
       "    </tr>\n",
       "  </tbody>\n",
       "</table>\n",
       "</div>"
      ],
      "text/plain": [
       "  appname                                            content good name  \\\n",
       "0   네이버웹툰  쿠키 왜 안주세요 몇번째야 진짜 무료쿠키~ 이러면서 안주는게 한두번인가 내가 가입을...    4   솜담   \n",
       "1   네이버웹툰  저기요... 갑작히 잘 되던게 왜 안 됩니까? 와이파이 빵빵한데 네트워크 연결상태를...   16   왈왈   \n",
       "\n",
       "           regi star  \n",
       "0  2019년 8월 17일    1  \n",
       "1  2019년 8월 20일    1  "
      ]
     },
     "execution_count": 32,
     "metadata": {},
     "output_type": "execute_result"
    }
   ],
   "source": [
    "df.head(2)"
   ]
  },
  {
   "cell_type": "code",
   "execution_count": 33,
   "metadata": {},
   "outputs": [
    {
     "data": {
      "text/plain": [
       "array(['1', '5', '2', '3', '4'], dtype=object)"
      ]
     },
     "execution_count": 33,
     "metadata": {},
     "output_type": "execute_result"
    }
   ],
   "source": [
    "df['star'].unique()"
   ]
  },
  {
   "cell_type": "code",
   "execution_count": 34,
   "metadata": {},
   "outputs": [
    {
     "data": {
      "text/plain": [
       "'2019-8-16'"
      ]
     },
     "execution_count": 34,
     "metadata": {},
     "output_type": "execute_result"
    }
   ],
   "source": [
    "# 'regi'에서 날짜를 yyyy-mm-dd 형태로 날짜 포맷팅\n",
    "sample = '2019년 8월 16일'\n",
    "p = re.compile('(\\d+)\\w\\s(\\d+)\\w\\s(\\d+)\\w')\n",
    "p.sub('\\g<1>-\\g<2>-\\g<3>', sample)"
   ]
  },
  {
   "cell_type": "code",
   "execution_count": 36,
   "metadata": {},
   "outputs": [],
   "source": [
    "import datetime"
   ]
  },
  {
   "cell_type": "code",
   "execution_count": 37,
   "metadata": {},
   "outputs": [
    {
     "data": {
      "text/plain": [
       "datetime.date(2019, 8, 16)"
      ]
     },
     "execution_count": 37,
     "metadata": {},
     "output_type": "execute_result"
    }
   ],
   "source": [
    "datetime.datetime.strptime('2019-8-16', '%Y-%m-%d').date()"
   ]
  },
  {
   "cell_type": "code",
   "execution_count": 39,
   "metadata": {},
   "outputs": [],
   "source": [
    "df['regi'] = df['regi'].apply(lambda x : datetime.datetime.strptime(p.sub('\\g<1>-\\g<2>-\\g<3>', x), '%Y-%m-%d').date())"
   ]
  },
  {
   "cell_type": "code",
   "execution_count": 40,
   "metadata": {},
   "outputs": [
    {
     "data": {
      "text/html": [
       "<div>\n",
       "<style scoped>\n",
       "    .dataframe tbody tr th:only-of-type {\n",
       "        vertical-align: middle;\n",
       "    }\n",
       "\n",
       "    .dataframe tbody tr th {\n",
       "        vertical-align: top;\n",
       "    }\n",
       "\n",
       "    .dataframe thead th {\n",
       "        text-align: right;\n",
       "    }\n",
       "</style>\n",
       "<table border=\"1\" class=\"dataframe\">\n",
       "  <thead>\n",
       "    <tr style=\"text-align: right;\">\n",
       "      <th></th>\n",
       "      <th>appname</th>\n",
       "      <th>content</th>\n",
       "      <th>good</th>\n",
       "      <th>name</th>\n",
       "      <th>regi</th>\n",
       "      <th>star</th>\n",
       "    </tr>\n",
       "  </thead>\n",
       "  <tbody>\n",
       "    <tr>\n",
       "      <th>0</th>\n",
       "      <td>네이버웹툰</td>\n",
       "      <td>쿠키 왜 안주세요 몇번째야 진짜 무료쿠키~ 이러면서 안주는게 한두번인가 내가 가입을...</td>\n",
       "      <td>4</td>\n",
       "      <td>솜담</td>\n",
       "      <td>2019-08-17</td>\n",
       "      <td>1</td>\n",
       "    </tr>\n",
       "    <tr>\n",
       "      <th>1</th>\n",
       "      <td>네이버웹툰</td>\n",
       "      <td>저기요... 갑작히 잘 되던게 왜 안 됩니까? 와이파이 빵빵한데 네트워크 연결상태를...</td>\n",
       "      <td>16</td>\n",
       "      <td>왈왈</td>\n",
       "      <td>2019-08-20</td>\n",
       "      <td>1</td>\n",
       "    </tr>\n",
       "    <tr>\n",
       "      <th>2</th>\n",
       "      <td>네이버웹툰</td>\n",
       "      <td>\"개를 낳았다\"를 즐겨보고 있는데 엄청 재밌드라고요 그런데 개를 낳았다를보고 다른걸...</td>\n",
       "      <td>81</td>\n",
       "      <td>롄쀼</td>\n",
       "      <td>2019-08-14</td>\n",
       "      <td>5</td>\n",
       "    </tr>\n",
       "    <tr>\n",
       "      <th>3</th>\n",
       "      <td>네이버웹툰</td>\n",
       "      <td>한 두 번도 아니고 와이파이, 데이터 둘 다 네이버웹툰만 켜면 제일을 왜 못합니까?...</td>\n",
       "      <td>1</td>\n",
       "      <td>초보사리엘</td>\n",
       "      <td>2019-08-20</td>\n",
       "      <td>1</td>\n",
       "    </tr>\n",
       "    <tr>\n",
       "      <th>4</th>\n",
       "      <td>네이버웹툰</td>\n",
       "      <td>아니;;장난하시냐고요--여러분 이거요기요 첫주문웬만하면하지마세요.쿠키130개?절대안...</td>\n",
       "      <td>93</td>\n",
       "      <td>tv부기</td>\n",
       "      <td>2019-08-11</td>\n",
       "      <td>1</td>\n",
       "    </tr>\n",
       "  </tbody>\n",
       "</table>\n",
       "</div>"
      ],
      "text/plain": [
       "  appname                                            content good   name  \\\n",
       "0   네이버웹툰  쿠키 왜 안주세요 몇번째야 진짜 무료쿠키~ 이러면서 안주는게 한두번인가 내가 가입을...    4     솜담   \n",
       "1   네이버웹툰  저기요... 갑작히 잘 되던게 왜 안 됩니까? 와이파이 빵빵한데 네트워크 연결상태를...   16     왈왈   \n",
       "2   네이버웹툰  \"개를 낳았다\"를 즐겨보고 있는데 엄청 재밌드라고요 그런데 개를 낳았다를보고 다른걸...   81     롄쀼   \n",
       "3   네이버웹툰  한 두 번도 아니고 와이파이, 데이터 둘 다 네이버웹툰만 켜면 제일을 왜 못합니까?...    1  초보사리엘   \n",
       "4   네이버웹툰  아니;;장난하시냐고요--여러분 이거요기요 첫주문웬만하면하지마세요.쿠키130개?절대안...   93   tv부기   \n",
       "\n",
       "         regi star  \n",
       "0  2019-08-17    1  \n",
       "1  2019-08-20    1  \n",
       "2  2019-08-14    5  \n",
       "3  2019-08-20    1  \n",
       "4  2019-08-11    1  "
      ]
     },
     "execution_count": 40,
     "metadata": {},
     "output_type": "execute_result"
    }
   ],
   "source": [
    "df.head()"
   ]
  },
  {
   "cell_type": "code",
   "execution_count": 41,
   "metadata": {},
   "outputs": [],
   "source": [
    "# 백업\n",
    "df.to_csv('./data/app_review_mid.xls', encoding='utf-8')"
   ]
  },
  {
   "cell_type": "code",
   "execution_count": null,
   "metadata": {},
   "outputs": [],
   "source": []
  },
  {
   "cell_type": "code",
   "execution_count": null,
   "metadata": {},
   "outputs": [],
   "source": [
    "df['content']"
   ]
  },
  {
   "cell_type": "code",
   "execution_count": null,
   "metadata": {},
   "outputs": [],
   "source": [
    "# 명사, 형용사 기준으로 하고, 동사는 확장성/가능성을 두고 체크\n",
    "# 형태소 분석을 하기 전에 사전에 포함되어 있지 않는 문자들을 제거"
   ]
  },
  {
   "cell_type": "code",
   "execution_count": 45,
   "metadata": {},
   "outputs": [
    {
     "data": {
      "text/plain": [
       "0     쿠키 왜 안주세요 몇번째야 진짜 무료쿠키~ 이러면서 안주는게 한두번인가 내가 가입을...\n",
       "1     저기요... 갑작히 잘 되던게 왜 안 됩니까? 와이파이 빵빵한데 네트워크 연결상태를...\n",
       "2     \"개를 낳았다\"를 즐겨보고 있는데 엄청 재밌드라고요 그런데 개를 낳았다를보고 다른걸...\n",
       "3     한 두 번도 아니고 와이파이, 데이터 둘 다 네이버웹툰만 켜면 제일을 왜 못합니까?...\n",
       "4     아니;;장난하시냐고요--여러분 이거요기요 첫주문웬만하면하지마세요.쿠키개?절대안줌 내...\n",
       "5     자기의 취향에 걸맞는 것도 찾기가 쉽고 또한 어느것이 도 인기가 도 많은지 바로바로...\n",
       "6     아니 왜 무료쿠키 안줘요? 앱깔고 회원가입하면 쿠키 개 준다길래 앱깔고 회원가입도 ...\n",
       "7     안녕하세요. 제가 할거가 없어서 찾고 있었는데 딱 이게 발견 했습니다. 그래서 한번...\n",
       "8     요즘 자꾸 모자이크칸이 많이뜨고 이미지가 안나오네요. 크롬으로 네이버직좁 들어가서 ...\n",
       "9     진짜 진짜 재밌게 보고 있어요 !! 💗 근데 와이파이 없이 볼수는 없나요 ? ㅜ 고...\n",
       "10    저기요 돼지만화는 언제 자르실건지.....? 그거 보면 진심 화나요..... 조선팔...\n",
       "11    네이버 웹툰은 컷마다 볼 수 있는 댓글과 보기편한 점이 있어서 좋지만 다른 새로운 ...\n",
       "12    결제는 네이버 어플에서 바로하게하고 미리볼려면 다른 어플(네이버웹툰어플)을 깔아야한...\n",
       "13    제가 계정을 만들려고 아이디 비밀번호 만들고 전화번호도 쳤고 인증번호가 안오는것 같...\n",
       "14    저만 그런건지는 모르겠는데 웹툰 밑으로 스크롤해서 보다가 중간에 만화 장면이 나타나...\n",
       "15    저 의견사항에서 얘기 했는데 답장이 하도 안와서 여기서 말합니다 제 오해 일 수 있...\n",
       "16    물론 아주 편리한 앱입니다 하지만 하나하나 이렇게 부모님 인증에 상관없는 거의 모든...\n",
       "17    와....이거 무료쿠키 받을려고 다운로드 했는데 쿠키를 안줌.. 그거 다운로드하고 ...\n",
       "18    하; 정말 이제는 못 참겠네 욕을 실컷 쳐먹는 낙하산 추정 만화 돼지만화는 놔두고 ...\n",
       "19    최고에요!!! 정말 좋은거 같아요! 누가 이거 만듬?!? 와....최고다~ 만든사람...\n",
       "20    컷툰을 볼때 현재 컷이 몇페이지인지 알려주는 프로그레스 바를 위에 배치시키거나 사용...\n",
       "21    돼지만화 같은 건 계속연재 하는데 왜 하늘쌤이나 에스프레소 같은건 왜 완결내냐 .%...\n",
       "22    어음 네이버웹툰 개보는 독자로써 추천드릴 웹툰 개는 . 소녀의세계 . 여신강림 . ...\n",
       "23    다 좋은데,,, 로그인 하려고 아이디 찾기 들어가서 다 정확하게 입력했는데도 인증번...\n",
       "24    웹툰은 좋은데 최근 업데이트된 타인지옥이라는 웹툰에 대해 문의드리겠습니다. 저는 귀...\n",
       "25    베스트 도전 새로고침 버튼좀 만들어 주시면 안될까요? 그리고 도전도 앱에서 볼 수 ...\n",
       "26    외부 사이트에서 링크로 앱으로 넘어올때 최신버전으로 업데이트 하라는 문구만 뜸(현재...\n",
       "27    어차피 리뷰 달아봤자 메일이나 서비스센터,홈페이지에서 문의하라고 할거 아니까 일단 ...\n",
       "28    이거 왜 요기요 첫 주문 쿠키 개 안주죠? 일이 지났는데도 안주고 이용문의에 몇번이...\n",
       "29    진짜 네이버 웹툰덕분에 웹툰에 빠져들게 됬습니다....ㅎ 재밌는 웹툰 많으니까 꼭!...\n",
       "                            ...                        \n",
       "50    좋은 웹툰 많아서 좋은데 특정 장르 웹툰들의 댓글이 너무 더럽네요..; 댓글 안볼수...\n",
       "51    화양연화의 나잔 작가 왜 받아줬는지 모르겠네요.. 그 작가 예전에 트레이싱 불법으로...\n",
       "52    미리보기를 하려고 캐쉬를 구했는데 미리보기 화 를 고를수가 없어요 이미 본 화 뿐이...\n",
       "53     사용자입니다. 전체화면으로 읽을때 하단바를 숨길수없어 매우 불편합니다. 전체화면보...\n",
       "54    웹툰에 들어가고 그 작품에 들어가면 다른사람들은 공지가 뜬다는데 저는 공지가 안뜨고...\n",
       "55                                   재미있는게 많아서 좋아요!!!!!\n",
       "56    재밌는 웹툰도 많고 좋은데 혹시 자동스크롤 기능 없어졌나요?ㅠ 예전에 유용하게 쓰던...\n",
       "57    다음아이디로 로그인하려니 카카오통합했다고 통합아이디를 입력하라 그러고 그래서 아이디...\n",
       "58    어제부터 로그인이 되지않고 있어 유료보기를 못하고 있습니다. 어플 삭제 후 다시 깔...\n",
       "59    업데이트 하고나서 웹툰에 찜한작품 기다무작품 표시가 없어지고 최근본작품으로 나와서 ...\n",
       "60                      재밌는 웹툰들이 많아서 보는 재미가 더 더해지는거 같아요\n",
       "61    최근 업뎃이후 자동 화면잠금 된후 웹툰을 보려하면 네트워크에 연결 되어있음에도 네트...\n",
       "62    제가 캐시 머니트리 회원가입하면 캐시준다고해서 머니트리 회원가입을 했는데 캐시가 안...\n",
       "63    태블릿이라 원래 폰이랑 동일한 계정으로 쓰려고 카카오 계정 직접입력하면 자꾸 오류만...\n",
       "64    웹툰 캡쳐를 허고 싶은데 보안정책 때문에 안되네요.. 캡쳐 기능이 있었음 좋겠어요....\n",
       "65                                         로그인이 안되네요...\n",
       "66    폰과 테블릿에서 내가 본 작품 회차가 공유되지 않습니다. 아이디로 로그인했는데 내가...\n",
       "67    예전에도 잘 봤는데 지금 나오는 웹툰들도 좋은 작품들이 많네요 언제나 흥하길 바랍니...\n",
       "68    다음 웹툰의 장점 중 하나… 미리보기를 결제하면 무료분으로 풀릴 때까지 볼 수 있다...\n",
       "69                     웹툰 책 구매사이트를 웹툰화면에 나오게 해주면 좋을것같아요\n",
       "70              트레이싱 작가도 빨아주는 다음 클라스. 그러니 네이버에 매번 밀리는거.\n",
       "71    잘 사용하고 있습니다만 한가지 문제가 있습니다. 찜한작품 리스트가 계속 초기화돼요....\n",
       "72    광고보고 캐시 들어왔나?하고봤는데 캐시가 없어요....ㅠㅠ그래서 나갔다 들어왔는데도...\n",
       "73    웹툰 보고 캐시 받는거에서 다 보아서 참여했다고 뜸에도 불구하고 총 캐시중 캐시 밖...\n",
       "74    어플이 깔끔하고 쓰기 좋아요 근데 어플 실행 후 폰화면을 잠시 껐다키거나 어플실행 ...\n",
       "75                       로그인이 되질 않네요 로그인이 되더라도 연동이 안되구요\n",
       "76    아니 웬 업뎃을 개떡같이 했어요??기무는 볼 수가 없어요..내가 본 웹툰 목록도 기...\n",
       "77             다 좋은데 완결말고 연재부분도 장르별로 나눠져있는게 있으면 좋겠습니다!!\n",
       "78    기다무로 보고있는데 제일 최근에 봤던 거 다음 회차들은 이용권 사용이 안되고 그 전...\n",
       "79                                       필터에 무료체크가 왜없나요\n",
       "Name: content, Length: 80, dtype: object"
      ]
     },
     "execution_count": 45,
     "metadata": {},
     "output_type": "execute_result"
    }
   ],
   "source": [
    "# 1. 영어, 숫자 제거 ↔ 한글과 특수기호, whitespace 추출\n",
    "p = re.compile('[a-zA-Z0-9]+')\n",
    "df['content'].apply(lambda x : p.sub('', x))"
   ]
  },
  {
   "cell_type": "code",
   "execution_count": null,
   "metadata": {},
   "outputs": [],
   "source": [
    "# 컬럼 'sentiment' 추가\n",
    "# star 컬럼을 참조하여\n",
    "# pos(긍정) : 별점기준 4 or 5\n",
    "# neg(부정) : 별점기준 1 or 2 or 3"
   ]
  },
  {
   "cell_type": "code",
   "execution_count": 46,
   "metadata": {},
   "outputs": [
    {
     "data": {
      "text/plain": [
       "appname    object\n",
       "content    object\n",
       "good       object\n",
       "name       object\n",
       "regi       object\n",
       "star       object\n",
       "dtype: object"
      ]
     },
     "execution_count": 46,
     "metadata": {},
     "output_type": "execute_result"
    }
   ],
   "source": [
    "df.dtypes"
   ]
  },
  {
   "cell_type": "code",
   "execution_count": 49,
   "metadata": {},
   "outputs": [],
   "source": [
    "df['star'] = df['star'].astype(int)"
   ]
  },
  {
   "cell_type": "code",
   "execution_count": 50,
   "metadata": {
    "scrolled": true
   },
   "outputs": [
    {
     "data": {
      "text/plain": [
       "appname    object\n",
       "content    object\n",
       "good       object\n",
       "name       object\n",
       "regi       object\n",
       "star        int32\n",
       "dtype: object"
      ]
     },
     "execution_count": 50,
     "metadata": {},
     "output_type": "execute_result"
    }
   ],
   "source": [
    "df.dtypes"
   ]
  },
  {
   "cell_type": "code",
   "execution_count": 52,
   "metadata": {},
   "outputs": [
    {
     "data": {
      "text/plain": [
       "['neg', 'neg', 'pos', 'neg', 'neg']"
      ]
     },
     "execution_count": 52,
     "metadata": {},
     "output_type": "execute_result"
    }
   ],
   "source": [
    "# 방법 1\n",
    "tmp = []\n",
    "for star in df['star'] :\n",
    "    if star>3 :\n",
    "        tmp.append('pos')\n",
    "    else :\n",
    "        tmp.append('neg')\n",
    "tmp[:5]"
   ]
  },
  {
   "cell_type": "code",
   "execution_count": null,
   "metadata": {},
   "outputs": [],
   "source": [
    "# 방법 2\n",
    "# x>3 and 'pos' or 'neg'\n",
    "# df['star'].apply(lambda x : x>3 and 'pos' or 'neg')"
   ]
  },
  {
   "cell_type": "code",
   "execution_count": 53,
   "metadata": {},
   "outputs": [],
   "source": [
    "# 방법 3\n",
    "def checkPosNeg(x) :\n",
    "    if x>3 :\n",
    "        return 'pos'\n",
    "    return 'neg'"
   ]
  },
  {
   "cell_type": "code",
   "execution_count": 55,
   "metadata": {},
   "outputs": [],
   "source": [
    "df['sentiment'] = df['star'].apply(checkPosNeg)"
   ]
  },
  {
   "cell_type": "code",
   "execution_count": null,
   "metadata": {},
   "outputs": [],
   "source": []
  },
  {
   "cell_type": "markdown",
   "metadata": {},
   "source": [
    "###### 마스크 인자로 조건이 참인 것을 체크 : .mask()"
   ]
  },
  {
   "cell_type": "code",
   "execution_count": 57,
   "metadata": {},
   "outputs": [
    {
     "data": {
      "text/plain": [
       "0      1\n",
       "1      1\n",
       "2    pos\n",
       "3      1\n",
       "4      1\n",
       "5    pos\n",
       "6      2\n",
       "7      3\n",
       "8      1\n",
       "9    pos\n",
       "Name: star, dtype: object"
      ]
     },
     "execution_count": 57,
     "metadata": {},
     "output_type": "execute_result"
    }
   ],
   "source": [
    "df['star'].mask(df['star']>3, 'pos')[:10]"
   ]
  },
  {
   "cell_type": "markdown",
   "metadata": {},
   "source": [
    "###### 조건이 거짓인 데이터를 찾아서 Nan or 대체 : .where()"
   ]
  },
  {
   "cell_type": "code",
   "execution_count": 58,
   "metadata": {},
   "outputs": [
    {
     "data": {
      "text/plain": [
       "0    neg\n",
       "1    neg\n",
       "2      5\n",
       "3    neg\n",
       "4    neg\n",
       "5      5\n",
       "6    neg\n",
       "7    neg\n",
       "8    neg\n",
       "9      4\n",
       "Name: star, dtype: object"
      ]
     },
     "execution_count": 58,
     "metadata": {},
     "output_type": "execute_result"
    }
   ],
   "source": [
    "df['star'].where(df['star']>3, 'neg')[:10]"
   ]
  },
  {
   "cell_type": "code",
   "execution_count": 59,
   "metadata": {},
   "outputs": [
    {
     "data": {
      "text/html": [
       "<div>\n",
       "<style scoped>\n",
       "    .dataframe tbody tr th:only-of-type {\n",
       "        vertical-align: middle;\n",
       "    }\n",
       "\n",
       "    .dataframe tbody tr th {\n",
       "        vertical-align: top;\n",
       "    }\n",
       "\n",
       "    .dataframe thead th {\n",
       "        text-align: right;\n",
       "    }\n",
       "</style>\n",
       "<table border=\"1\" class=\"dataframe\">\n",
       "  <thead>\n",
       "    <tr style=\"text-align: right;\">\n",
       "      <th></th>\n",
       "      <th>appname</th>\n",
       "      <th>content</th>\n",
       "      <th>good</th>\n",
       "      <th>name</th>\n",
       "      <th>regi</th>\n",
       "      <th>star</th>\n",
       "      <th>sentiment</th>\n",
       "    </tr>\n",
       "  </thead>\n",
       "  <tbody>\n",
       "    <tr>\n",
       "      <th>0</th>\n",
       "      <td>네이버웹툰</td>\n",
       "      <td>쿠키 왜 안주세요 몇번째야 진짜 무료쿠키~ 이러면서 안주는게 한두번인가 내가 가입을...</td>\n",
       "      <td>4</td>\n",
       "      <td>솜담</td>\n",
       "      <td>2019-08-17</td>\n",
       "      <td>1</td>\n",
       "      <td>neg</td>\n",
       "    </tr>\n",
       "    <tr>\n",
       "      <th>1</th>\n",
       "      <td>네이버웹툰</td>\n",
       "      <td>저기요... 갑작히 잘 되던게 왜 안 됩니까? 와이파이 빵빵한데 네트워크 연결상태를...</td>\n",
       "      <td>16</td>\n",
       "      <td>왈왈</td>\n",
       "      <td>2019-08-20</td>\n",
       "      <td>1</td>\n",
       "      <td>neg</td>\n",
       "    </tr>\n",
       "  </tbody>\n",
       "</table>\n",
       "</div>"
      ],
      "text/plain": [
       "  appname                                            content good name  \\\n",
       "0   네이버웹툰  쿠키 왜 안주세요 몇번째야 진짜 무료쿠키~ 이러면서 안주는게 한두번인가 내가 가입을...    4   솜담   \n",
       "1   네이버웹툰  저기요... 갑작히 잘 되던게 왜 안 됩니까? 와이파이 빵빵한데 네트워크 연결상태를...   16   왈왈   \n",
       "\n",
       "         regi  star sentiment  \n",
       "0  2019-08-17     1       neg  \n",
       "1  2019-08-20     1       neg  "
      ]
     },
     "execution_count": 59,
     "metadata": {},
     "output_type": "execute_result"
    }
   ],
   "source": [
    "df.head(2)"
   ]
  },
  {
   "cell_type": "code",
   "execution_count": null,
   "metadata": {},
   "outputs": [],
   "source": []
  },
  {
   "cell_type": "code",
   "execution_count": null,
   "metadata": {},
   "outputs": [],
   "source": [
    "# 트위터 형태소 분석기의 분해 함수(품사 포함)를 이용하여\n",
    "# 리뷰를 형태소로 분해한 내용을 새로운 컬럼 'classifier'에 추가한다"
   ]
  },
  {
   "cell_type": "code",
   "execution_count": 61,
   "metadata": {},
   "outputs": [],
   "source": [
    "from konlpy.tag import Okt\n",
    "pos_tagger = Okt()"
   ]
  },
  {
   "cell_type": "code",
   "execution_count": 62,
   "metadata": {
    "scrolled": false
   },
   "outputs": [
    {
     "data": {
      "text/plain": [
       "[('쿠키', 'Noun'),\n",
       " ('왜', 'Noun'),\n",
       " ('안주세요', 'Verb'),\n",
       " ('몇번', 'Noun'),\n",
       " ('째', 'Suffix'),\n",
       " ('야', 'Josa'),\n",
       " ('진짜', 'Noun'),\n",
       " ('무료', 'Noun'),\n",
       " ('쿠키', 'Noun'),\n",
       " ('~', 'Punctuation'),\n",
       " ('이러면서', 'Verb'),\n",
       " ('안주는게', 'Verb'),\n",
       " ('한두', 'Modifier'),\n",
       " ('번인', 'Noun'),\n",
       " ('가', 'Josa'),\n",
       " ('내', 'Noun'),\n",
       " ('가', 'Josa'),\n",
       " ('가입', 'Noun'),\n",
       " ('을', 'Josa'),\n",
       " ('얼마나', 'Noun'),\n",
       " ('많이', 'Adverb'),\n",
       " ('했는데', 'Verb'),\n",
       " ('방금', 'Noun'),\n",
       " ('알바', 'Noun'),\n",
       " ('가입', 'Noun'),\n",
       " ('머시', 'Noun'),\n",
       " ('했거든요', 'Verb'),\n",
       " ('?', 'Punctuation'),\n",
       " ('10', 'Number'),\n",
       " ('개', 'Noun'),\n",
       " ('빨리', 'Adverb'),\n",
       " ('주세요', 'Verb'),\n",
       " (';;', 'Punctuation'),\n",
       " ('진짜', 'Noun'),\n",
       " ('나', 'Noun'),\n",
       " ('말고도', 'Josa'),\n",
       " ('많더만', 'Adjective'),\n",
       " ('이', 'Determiner'),\n",
       " ('정도', 'Noun'),\n",
       " ('면', 'Josa'),\n",
       " ('네이버', 'Noun'),\n",
       " ('이', 'Determiner'),\n",
       " ('거', 'Noun'),\n",
       " ('고객', 'Noun'),\n",
       " ('기만', 'Noun'),\n",
       " ('이지', 'Josa'),\n",
       " ('장난', 'Noun'),\n",
       " ('하나', 'Noun'),\n",
       " (';;;;', 'Punctuation'),\n",
       " ('그리고', 'Conjunction'),\n",
       " ('작가', 'Noun'),\n",
       " ('님', 'Suffix'),\n",
       " ('들', 'Verb'),\n",
       " ('다', 'Adverb'),\n",
       " ('좋거든요', 'Adjective'),\n",
       " ('?', 'Punctuation'),\n",
       " ('근데', 'Adverb'),\n",
       " ('왜', 'Noun'),\n",
       " ('자꾸', 'Noun'),\n",
       " ('하위', 'Noun'),\n",
       " ('권', 'Suffix'),\n",
       " ('짜르', 'Noun'),\n",
       " ('세', 'Noun'),\n",
       " ('요', 'Josa'),\n",
       " ('장난', 'Noun'),\n",
       " ('하나', 'Noun'),\n",
       " ('작가', 'Noun'),\n",
       " ('님', 'Suffix'),\n",
       " ('들', 'Verb'),\n",
       " ('작품', 'Noun'),\n",
       " ('이', 'Josa'),\n",
       " ('장난', 'Noun'),\n",
       " ('이에요', 'Josa'),\n",
       " ('?', 'Punctuation'),\n",
       " ('이상한', 'Adjective'),\n",
       " ('만화', 'Noun'),\n",
       " ('는', 'Josa'),\n",
       " ('안', 'Noun'),\n",
       " ('짜르', 'Noun'),\n",
       " ('고', 'Josa'),\n",
       " ('스토리', 'Noun'),\n",
       " ('탄탄', 'Noun'),\n",
       " ('에', 'Josa'),\n",
       " ('작화', 'Noun'),\n",
       " ('좋은데', 'Adjective'),\n",
       " ('하위', 'Noun'),\n",
       " ('권', 'Suffix'),\n",
       " ('다', 'Adverb'),\n",
       " ('짤', 'Noun'),\n",
       " ('라', 'Josa'),\n",
       " (';;;', 'Punctuation')]"
      ]
     },
     "execution_count": 62,
     "metadata": {},
     "output_type": "execute_result"
    }
   ],
   "source": [
    "# 형태소 분석\n",
    "tmp1 = pos_tagger.pos(df['content'][0])\n",
    "tmp1"
   ]
  },
  {
   "cell_type": "code",
   "execution_count": 64,
   "metadata": {},
   "outputs": [
    {
     "data": {
      "text/plain": [
       "91"
      ]
     },
     "execution_count": 64,
     "metadata": {},
     "output_type": "execute_result"
    }
   ],
   "source": [
    "len(tmp1)"
   ]
  },
  {
   "cell_type": "markdown",
   "metadata": {},
   "source": [
    "###### 형태소 분석시 정규화 및 어근화 처리를 수행(선택 사항) : norm = True, stem = True"
   ]
  },
  {
   "cell_type": "code",
   "execution_count": 63,
   "metadata": {
    "scrolled": true
   },
   "outputs": [
    {
     "data": {
      "text/plain": [
       "[('쿠키', 'Noun'),\n",
       " ('왜', 'Noun'),\n",
       " ('알다', 'Verb'),\n",
       " ('몇번', 'Noun'),\n",
       " ('째', 'Suffix'),\n",
       " ('야', 'Josa'),\n",
       " ('진짜', 'Noun'),\n",
       " ('무료', 'Noun'),\n",
       " ('쿠키', 'Noun'),\n",
       " ('~', 'Punctuation'),\n",
       " ('이르다', 'Verb'),\n",
       " ('알다', 'Verb'),\n",
       " ('한두', 'Modifier'),\n",
       " ('번인', 'Noun'),\n",
       " ('가', 'Josa'),\n",
       " ('내', 'Noun'),\n",
       " ('가', 'Josa'),\n",
       " ('가입', 'Noun'),\n",
       " ('을', 'Josa'),\n",
       " ('얼마나', 'Noun'),\n",
       " ('많이', 'Adverb'),\n",
       " ('하다', 'Verb'),\n",
       " ('방금', 'Noun'),\n",
       " ('알바', 'Noun'),\n",
       " ('가입', 'Noun'),\n",
       " ('머시', 'Noun'),\n",
       " ('하다', 'Verb'),\n",
       " ('?', 'Punctuation'),\n",
       " ('10', 'Number'),\n",
       " ('개', 'Noun'),\n",
       " ('빨리', 'Adverb'),\n",
       " ('줄다', 'Verb'),\n",
       " (';;', 'Punctuation'),\n",
       " ('진짜', 'Noun'),\n",
       " ('나', 'Noun'),\n",
       " ('말고도', 'Josa'),\n",
       " ('많다', 'Adjective'),\n",
       " ('이', 'Determiner'),\n",
       " ('정도', 'Noun'),\n",
       " ('면', 'Josa'),\n",
       " ('네이버', 'Noun'),\n",
       " ('이', 'Determiner'),\n",
       " ('거', 'Noun'),\n",
       " ('고객', 'Noun'),\n",
       " ('기만', 'Noun'),\n",
       " ('이지', 'Josa'),\n",
       " ('장난', 'Noun'),\n",
       " ('하나', 'Noun'),\n",
       " (';;;;', 'Punctuation'),\n",
       " ('그리고', 'Conjunction'),\n",
       " ('작가', 'Noun'),\n",
       " ('님', 'Suffix'),\n",
       " ('들다', 'Verb'),\n",
       " ('다', 'Adverb'),\n",
       " ('좋다', 'Adjective'),\n",
       " ('?', 'Punctuation'),\n",
       " ('근데', 'Adverb'),\n",
       " ('왜', 'Noun'),\n",
       " ('자꾸', 'Noun'),\n",
       " ('하위', 'Noun'),\n",
       " ('권', 'Suffix'),\n",
       " ('짜르', 'Noun'),\n",
       " ('세', 'Noun'),\n",
       " ('요', 'Josa'),\n",
       " ('장난', 'Noun'),\n",
       " ('하나', 'Noun'),\n",
       " ('작가', 'Noun'),\n",
       " ('님', 'Suffix'),\n",
       " ('들다', 'Verb'),\n",
       " ('작품', 'Noun'),\n",
       " ('이', 'Josa'),\n",
       " ('장난', 'Noun'),\n",
       " ('이에요', 'Josa'),\n",
       " ('?', 'Punctuation'),\n",
       " ('이상하다', 'Adjective'),\n",
       " ('만화', 'Noun'),\n",
       " ('는', 'Josa'),\n",
       " ('안', 'Noun'),\n",
       " ('짜르', 'Noun'),\n",
       " ('고', 'Josa'),\n",
       " ('스토리', 'Noun'),\n",
       " ('탄탄', 'Noun'),\n",
       " ('에', 'Josa'),\n",
       " ('작화', 'Noun'),\n",
       " ('좋다', 'Adjective'),\n",
       " ('하위', 'Noun'),\n",
       " ('권', 'Suffix'),\n",
       " ('다', 'Adverb'),\n",
       " ('짤', 'Noun'),\n",
       " ('라', 'Josa'),\n",
       " (';;;', 'Punctuation')]"
      ]
     },
     "execution_count": 63,
     "metadata": {},
     "output_type": "execute_result"
    }
   ],
   "source": [
    "tmp2 = pos_tagger.pos(df['content'][0], norm = True, stem = True)\n",
    "tmp2"
   ]
  },
  {
   "cell_type": "code",
   "execution_count": 65,
   "metadata": {},
   "outputs": [
    {
     "data": {
      "text/plain": [
       "91"
      ]
     },
     "execution_count": 65,
     "metadata": {},
     "output_type": "execute_result"
    }
   ],
   "source": [
    "len(tmp2)"
   ]
  },
  {
   "cell_type": "code",
   "execution_count": 69,
   "metadata": {
    "collapsed": true
   },
   "outputs": [
    {
     "name": "stdout",
     "output_type": "stream",
     "text": [
      "쿠키 Noun\n",
      "왜 Noun\n",
      "알다 Verb\n",
      "몇번 Noun\n",
      "진짜 Noun\n",
      "무료 Noun\n",
      "쿠키 Noun\n",
      "이르다 Verb\n",
      "알다 Verb\n",
      "번인 Noun\n",
      "내 Noun\n",
      "가입 Noun\n",
      "얼마나 Noun\n",
      "하다 Verb\n",
      "방금 Noun\n",
      "알바 Noun\n",
      "가입 Noun\n",
      "머시 Noun\n",
      "하다 Verb\n",
      "개 Noun\n",
      "줄다 Verb\n",
      "진짜 Noun\n",
      "나 Noun\n",
      "많다 Adjective\n",
      "정도 Noun\n",
      "네이버 Noun\n",
      "거 Noun\n",
      "고객 Noun\n",
      "기만 Noun\n",
      "장난 Noun\n",
      "하나 Noun\n",
      "작가 Noun\n",
      "들다 Verb\n",
      "좋다 Adjective\n",
      "왜 Noun\n",
      "자꾸 Noun\n",
      "하위 Noun\n",
      "짜르 Noun\n",
      "세 Noun\n",
      "장난 Noun\n",
      "하나 Noun\n",
      "작가 Noun\n",
      "들다 Verb\n",
      "작품 Noun\n",
      "장난 Noun\n",
      "이상하다 Adjective\n",
      "만화 Noun\n",
      "안 Noun\n",
      "짜르 Noun\n",
      "스토리 Noun\n",
      "탄탄 Noun\n",
      "작화 Noun\n",
      "좋다 Adjective\n",
      "하위 Noun\n",
      "짤 Noun\n"
     ]
    }
   ],
   "source": [
    "# 대상을 좁힌다 → 명사 : Noun, 형용사 : Adjective, 동사(예비) : Verb\n",
    "# 위 품사들만 남기고 제거\n",
    "tags = ['Noun', 'Adjective', 'Verb']\n",
    "for word, tag in tmp2 :   # 튜플 형태이므로\n",
    "    if tag in tags :\n",
    "        print(word, tag)"
   ]
  },
  {
   "cell_type": "code",
   "execution_count": 71,
   "metadata": {
    "collapsed": true
   },
   "outputs": [
    {
     "data": {
      "text/plain": [
       "[('쿠키', 'Noun'),\n",
       " ('왜', 'Noun'),\n",
       " ('알다', 'Verb'),\n",
       " ('몇번', 'Noun'),\n",
       " ('진짜', 'Noun'),\n",
       " ('무료', 'Noun'),\n",
       " ('쿠키', 'Noun'),\n",
       " ('이르다', 'Verb'),\n",
       " ('알다', 'Verb'),\n",
       " ('번인', 'Noun'),\n",
       " ('내', 'Noun'),\n",
       " ('가입', 'Noun'),\n",
       " ('얼마나', 'Noun'),\n",
       " ('하다', 'Verb'),\n",
       " ('방금', 'Noun'),\n",
       " ('알바', 'Noun'),\n",
       " ('가입', 'Noun'),\n",
       " ('머시', 'Noun'),\n",
       " ('하다', 'Verb'),\n",
       " ('개', 'Noun'),\n",
       " ('줄다', 'Verb'),\n",
       " ('진짜', 'Noun'),\n",
       " ('나', 'Noun'),\n",
       " ('많다', 'Adjective'),\n",
       " ('정도', 'Noun'),\n",
       " ('네이버', 'Noun'),\n",
       " ('거', 'Noun'),\n",
       " ('고객', 'Noun'),\n",
       " ('기만', 'Noun'),\n",
       " ('장난', 'Noun'),\n",
       " ('하나', 'Noun'),\n",
       " ('작가', 'Noun'),\n",
       " ('들다', 'Verb'),\n",
       " ('좋다', 'Adjective'),\n",
       " ('왜', 'Noun'),\n",
       " ('자꾸', 'Noun'),\n",
       " ('하위', 'Noun'),\n",
       " ('짜르', 'Noun'),\n",
       " ('세', 'Noun'),\n",
       " ('장난', 'Noun'),\n",
       " ('하나', 'Noun'),\n",
       " ('작가', 'Noun'),\n",
       " ('들다', 'Verb'),\n",
       " ('작품', 'Noun'),\n",
       " ('장난', 'Noun'),\n",
       " ('이상하다', 'Adjective'),\n",
       " ('만화', 'Noun'),\n",
       " ('안', 'Noun'),\n",
       " ('짜르', 'Noun'),\n",
       " ('스토리', 'Noun'),\n",
       " ('탄탄', 'Noun'),\n",
       " ('작화', 'Noun'),\n",
       " ('좋다', 'Adjective'),\n",
       " ('하위', 'Noun'),\n",
       " ('짤', 'Noun')]"
      ]
     },
     "execution_count": 71,
     "metadata": {},
     "output_type": "execute_result"
    }
   ],
   "source": [
    "[ tag for tag in tmp2 if tag[1] in tags ]\n",
    "# [ (word, tag) for word, tag in tmp2 if tag in tags ]"
   ]
  },
  {
   "cell_type": "code",
   "execution_count": 72,
   "metadata": {},
   "outputs": [],
   "source": [
    "df['classifier'] = df['content'].apply(lambda x : [ tag for tag in pos_tagger.pos(x, norm = True, stem = True) if tag[1] in tags ])"
   ]
  },
  {
   "cell_type": "code",
   "execution_count": 73,
   "metadata": {},
   "outputs": [
    {
     "data": {
      "text/plain": [
       "0    [(쿠키, Noun), (왜, Noun), (알다, Verb), (몇번, Noun)...\n",
       "1    [(저기, Noun), (갑, Noun), (작다, Adjective), (자다, ...\n",
       "Name: classifier, dtype: object"
      ]
     },
     "execution_count": 73,
     "metadata": {},
     "output_type": "execute_result"
    }
   ],
   "source": [
    "df['classifier'][:2]"
   ]
  },
  {
   "cell_type": "code",
   "execution_count": 74,
   "metadata": {},
   "outputs": [
    {
     "data": {
      "text/html": [
       "<div>\n",
       "<style scoped>\n",
       "    .dataframe tbody tr th:only-of-type {\n",
       "        vertical-align: middle;\n",
       "    }\n",
       "\n",
       "    .dataframe tbody tr th {\n",
       "        vertical-align: top;\n",
       "    }\n",
       "\n",
       "    .dataframe thead th {\n",
       "        text-align: right;\n",
       "    }\n",
       "</style>\n",
       "<table border=\"1\" class=\"dataframe\">\n",
       "  <thead>\n",
       "    <tr style=\"text-align: right;\">\n",
       "      <th></th>\n",
       "      <th>appname</th>\n",
       "      <th>content</th>\n",
       "      <th>good</th>\n",
       "      <th>name</th>\n",
       "      <th>regi</th>\n",
       "      <th>star</th>\n",
       "      <th>sentiment</th>\n",
       "      <th>classifier</th>\n",
       "    </tr>\n",
       "  </thead>\n",
       "  <tbody>\n",
       "    <tr>\n",
       "      <th>0</th>\n",
       "      <td>네이버웹툰</td>\n",
       "      <td>쿠키 왜 안주세요 몇번째야 진짜 무료쿠키~ 이러면서 안주는게 한두번인가 내가 가입을...</td>\n",
       "      <td>4</td>\n",
       "      <td>솜담</td>\n",
       "      <td>2019-08-17</td>\n",
       "      <td>1</td>\n",
       "      <td>neg</td>\n",
       "      <td>[(쿠키, Noun), (왜, Noun), (알다, Verb), (몇번, Noun)...</td>\n",
       "    </tr>\n",
       "    <tr>\n",
       "      <th>1</th>\n",
       "      <td>네이버웹툰</td>\n",
       "      <td>저기요... 갑작히 잘 되던게 왜 안 됩니까? 와이파이 빵빵한데 네트워크 연결상태를...</td>\n",
       "      <td>16</td>\n",
       "      <td>왈왈</td>\n",
       "      <td>2019-08-20</td>\n",
       "      <td>1</td>\n",
       "      <td>neg</td>\n",
       "      <td>[(저기, Noun), (갑, Noun), (작다, Adjective), (자다, ...</td>\n",
       "    </tr>\n",
       "  </tbody>\n",
       "</table>\n",
       "</div>"
      ],
      "text/plain": [
       "  appname                                            content good name  \\\n",
       "0   네이버웹툰  쿠키 왜 안주세요 몇번째야 진짜 무료쿠키~ 이러면서 안주는게 한두번인가 내가 가입을...    4   솜담   \n",
       "1   네이버웹툰  저기요... 갑작히 잘 되던게 왜 안 됩니까? 와이파이 빵빵한데 네트워크 연결상태를...   16   왈왈   \n",
       "\n",
       "         regi  star sentiment  \\\n",
       "0  2019-08-17     1       neg   \n",
       "1  2019-08-20     1       neg   \n",
       "\n",
       "                                          classifier  \n",
       "0  [(쿠키, Noun), (왜, Noun), (알다, Verb), (몇번, Noun)...  \n",
       "1  [(저기, Noun), (갑, Noun), (작다, Adjective), (자다, ...  "
      ]
     },
     "execution_count": 74,
     "metadata": {},
     "output_type": "execute_result"
    }
   ],
   "source": [
    "df.head(2)"
   ]
  },
  {
   "cell_type": "code",
   "execution_count": 75,
   "metadata": {},
   "outputs": [],
   "source": [
    "import json\n",
    "\n",
    "# 감정사전, 대략 7만여 개의 데이터에 긍정/부정지수 값이 세팅된 사전\n",
    "with open('./data/SentiWord_info.json', encoding='utf-8') as f :\n",
    "    score_dic = json.load(f)"
   ]
  },
  {
   "cell_type": "code",
   "execution_count": null,
   "metadata": {},
   "outputs": [],
   "source": [
    "# 리뷰에 대한 감정사전으로 평가한 점수표를 새로운 컬럼 'score'에 대입\n",
    "# word를 비교하여 평가를 수행, 점수는 누적합"
   ]
  },
  {
   "cell_type": "code",
   "execution_count": 87,
   "metadata": {},
   "outputs": [
    {
     "data": {
      "text/plain": [
       "[{'word': '(-;', 'word_root': '(', 'polarity': '1'},\n",
       " {'word': '(;_;)', 'word_root': '(;_;)', 'polarity': '-1'}]"
      ]
     },
     "execution_count": 87,
     "metadata": {},
     "output_type": "execute_result"
    }
   ],
   "source": [
    "score_dic[:2]"
   ]
  },
  {
   "cell_type": "code",
   "execution_count": 90,
   "metadata": {},
   "outputs": [
    {
     "name": "stdout",
     "output_type": "stream",
     "text": [
      "많다 2\n",
      "좋다 2\n",
      "이상하다 -1\n",
      "좋다 2\n"
     ]
    },
    {
     "data": {
      "text/plain": [
       "(5,\n",
       " '쿠키 왜 안주세요 몇번째야 진짜 무료쿠키~ 이러면서 안주는게 한두번인가 내가 가입을 얼마나 많이했는데 방금 알바가입 머시했거든요? 10개 빨리주세요;; 진짜 나말고도 많더만 이정도면 네이버 이거 고객기만이지 장난하나;;;; 그리고 작가님들 다 좋거든요? 근데 왜 자꾸 하위권짜르세요 장난하나 작가님들 작품이 장난이에요? 이상한 만화는 안 짜르고 스토리 탄탄에 작화 좋은데 하위권 다 짤라;;;',\n",
       " 1)"
      ]
     },
     "execution_count": 90,
     "metadata": {},
     "output_type": "execute_result"
    }
   ],
   "source": [
    "polarity_ = 0\n",
    "for word, tag in df['classifier'][0] :\n",
    "    for dic in score_dic :\n",
    "        if dic['word'] == word :\n",
    "            print(word, dic['polarity'])\n",
    "            polarity_ += int(dic['polarity'])\n",
    "polarity_, df['content'][0], df['star'][0]"
   ]
  },
  {
   "cell_type": "code",
   "execution_count": null,
   "metadata": {},
   "outputs": [],
   "source": [
    "# 형태소를 어떻게 처리했느냐, 매칭이 얼마나 되느냐, 사전의 표현을 얼마나 풍성하느냐에 따라\n",
    "# 긍정과 부정이 계속 바뀐다\n",
    "# -> 사람이 인위적으로 계속해서 사전을 추가하는 것은 사실상 불가능\n",
    "# 매칭이 안 된 단어들은 유사도를 계산하여(벡터화 거리계산법) 가장 근접한 표현으로 찾아서 점수화하면 많은 보완이 될 것이고\n",
    "# 이것이 사전에 반영되면 계산없이 바로 찾을 수도 있을 것이다\n",
    "# 궁극적으로는 맥락이 더 중요하므로, 머신러닝이나 딥러닝으로 처리하는 게 더 효율적이다\n",
    "# 챗봇, 번역 등도 머신러닝, 딥러닝 기반 구성"
   ]
  },
  {
   "cell_type": "code",
   "execution_count": 91,
   "metadata": {},
   "outputs": [],
   "source": [
    "# 함수화\n",
    "def scoreCalculator(x) :\n",
    "    polarity_ = 0\n",
    "    for word, tag in x :\n",
    "        for dic in score_dic :\n",
    "            if dic['word'] == word :\n",
    "                polarity_ += int(dic['polarity'])\n",
    "    return polarity_"
   ]
  },
  {
   "cell_type": "code",
   "execution_count": 92,
   "metadata": {},
   "outputs": [],
   "source": [
    "df['score'] = df['classifier'].apply(scoreCalculator)"
   ]
  },
  {
   "cell_type": "code",
   "execution_count": 93,
   "metadata": {},
   "outputs": [
    {
     "data": {
      "text/html": [
       "<div>\n",
       "<style scoped>\n",
       "    .dataframe tbody tr th:only-of-type {\n",
       "        vertical-align: middle;\n",
       "    }\n",
       "\n",
       "    .dataframe tbody tr th {\n",
       "        vertical-align: top;\n",
       "    }\n",
       "\n",
       "    .dataframe thead th {\n",
       "        text-align: right;\n",
       "    }\n",
       "</style>\n",
       "<table border=\"1\" class=\"dataframe\">\n",
       "  <thead>\n",
       "    <tr style=\"text-align: right;\">\n",
       "      <th></th>\n",
       "      <th>appname</th>\n",
       "      <th>content</th>\n",
       "      <th>good</th>\n",
       "      <th>name</th>\n",
       "      <th>regi</th>\n",
       "      <th>star</th>\n",
       "      <th>sentiment</th>\n",
       "      <th>classifier</th>\n",
       "      <th>score</th>\n",
       "    </tr>\n",
       "  </thead>\n",
       "  <tbody>\n",
       "    <tr>\n",
       "      <th>0</th>\n",
       "      <td>네이버웹툰</td>\n",
       "      <td>쿠키 왜 안주세요 몇번째야 진짜 무료쿠키~ 이러면서 안주는게 한두번인가 내가 가입을...</td>\n",
       "      <td>4</td>\n",
       "      <td>솜담</td>\n",
       "      <td>2019-08-17</td>\n",
       "      <td>1</td>\n",
       "      <td>neg</td>\n",
       "      <td>[(쿠키, Noun), (왜, Noun), (알다, Verb), (몇번, Noun)...</td>\n",
       "      <td>5</td>\n",
       "    </tr>\n",
       "    <tr>\n",
       "      <th>1</th>\n",
       "      <td>네이버웹툰</td>\n",
       "      <td>저기요... 갑작히 잘 되던게 왜 안 됩니까? 와이파이 빵빵한데 네트워크 연결상태를...</td>\n",
       "      <td>16</td>\n",
       "      <td>왈왈</td>\n",
       "      <td>2019-08-20</td>\n",
       "      <td>1</td>\n",
       "      <td>neg</td>\n",
       "      <td>[(저기, Noun), (갑, Noun), (작다, Adjective), (자다, ...</td>\n",
       "      <td>-4</td>\n",
       "    </tr>\n",
       "    <tr>\n",
       "      <th>2</th>\n",
       "      <td>네이버웹툰</td>\n",
       "      <td>\"개를 낳았다\"를 즐겨보고 있는데 엄청 재밌드라고요 그런데 개를 낳았다를보고 다른걸...</td>\n",
       "      <td>81</td>\n",
       "      <td>롄쀼</td>\n",
       "      <td>2019-08-14</td>\n",
       "      <td>5</td>\n",
       "      <td>pos</td>\n",
       "      <td>[(개, Noun), (낳다, Verb), (를, Noun), (즐기다, Verb)...</td>\n",
       "      <td>0</td>\n",
       "    </tr>\n",
       "  </tbody>\n",
       "</table>\n",
       "</div>"
      ],
      "text/plain": [
       "  appname                                            content good name  \\\n",
       "0   네이버웹툰  쿠키 왜 안주세요 몇번째야 진짜 무료쿠키~ 이러면서 안주는게 한두번인가 내가 가입을...    4   솜담   \n",
       "1   네이버웹툰  저기요... 갑작히 잘 되던게 왜 안 됩니까? 와이파이 빵빵한데 네트워크 연결상태를...   16   왈왈   \n",
       "2   네이버웹툰  \"개를 낳았다\"를 즐겨보고 있는데 엄청 재밌드라고요 그런데 개를 낳았다를보고 다른걸...   81   롄쀼   \n",
       "\n",
       "         regi  star sentiment  \\\n",
       "0  2019-08-17     1       neg   \n",
       "1  2019-08-20     1       neg   \n",
       "2  2019-08-14     5       pos   \n",
       "\n",
       "                                          classifier  score  \n",
       "0  [(쿠키, Noun), (왜, Noun), (알다, Verb), (몇번, Noun)...      5  \n",
       "1  [(저기, Noun), (갑, Noun), (작다, Adjective), (자다, ...     -4  \n",
       "2  [(개, Noun), (낳다, Verb), (를, Noun), (즐기다, Verb)...      0  "
      ]
     },
     "execution_count": 93,
     "metadata": {},
     "output_type": "execute_result"
    }
   ],
   "source": [
    "df.head(3)"
   ]
  },
  {
   "cell_type": "code",
   "execution_count": 94,
   "metadata": {},
   "outputs": [
    {
     "data": {
      "text/html": [
       "<div>\n",
       "<style scoped>\n",
       "    .dataframe tbody tr th:only-of-type {\n",
       "        vertical-align: middle;\n",
       "    }\n",
       "\n",
       "    .dataframe tbody tr th {\n",
       "        vertical-align: top;\n",
       "    }\n",
       "\n",
       "    .dataframe thead th {\n",
       "        text-align: right;\n",
       "    }\n",
       "</style>\n",
       "<table border=\"1\" class=\"dataframe\">\n",
       "  <thead>\n",
       "    <tr style=\"text-align: right;\">\n",
       "      <th></th>\n",
       "      <th>star</th>\n",
       "      <th>score</th>\n",
       "    </tr>\n",
       "  </thead>\n",
       "  <tbody>\n",
       "    <tr>\n",
       "      <th>0</th>\n",
       "      <td>1</td>\n",
       "      <td>5</td>\n",
       "    </tr>\n",
       "    <tr>\n",
       "      <th>1</th>\n",
       "      <td>1</td>\n",
       "      <td>-4</td>\n",
       "    </tr>\n",
       "    <tr>\n",
       "      <th>2</th>\n",
       "      <td>5</td>\n",
       "      <td>0</td>\n",
       "    </tr>\n",
       "    <tr>\n",
       "      <th>3</th>\n",
       "      <td>1</td>\n",
       "      <td>-1</td>\n",
       "    </tr>\n",
       "    <tr>\n",
       "      <th>4</th>\n",
       "      <td>1</td>\n",
       "      <td>0</td>\n",
       "    </tr>\n",
       "    <tr>\n",
       "      <th>5</th>\n",
       "      <td>5</td>\n",
       "      <td>5</td>\n",
       "    </tr>\n",
       "    <tr>\n",
       "      <th>6</th>\n",
       "      <td>2</td>\n",
       "      <td>1</td>\n",
       "    </tr>\n",
       "    <tr>\n",
       "      <th>7</th>\n",
       "      <td>3</td>\n",
       "      <td>0</td>\n",
       "    </tr>\n",
       "    <tr>\n",
       "      <th>8</th>\n",
       "      <td>1</td>\n",
       "      <td>-1</td>\n",
       "    </tr>\n",
       "    <tr>\n",
       "      <th>9</th>\n",
       "      <td>4</td>\n",
       "      <td>4</td>\n",
       "    </tr>\n",
       "    <tr>\n",
       "      <th>10</th>\n",
       "      <td>2</td>\n",
       "      <td>-2</td>\n",
       "    </tr>\n",
       "    <tr>\n",
       "      <th>11</th>\n",
       "      <td>3</td>\n",
       "      <td>7</td>\n",
       "    </tr>\n",
       "    <tr>\n",
       "      <th>12</th>\n",
       "      <td>1</td>\n",
       "      <td>-2</td>\n",
       "    </tr>\n",
       "    <tr>\n",
       "      <th>13</th>\n",
       "      <td>1</td>\n",
       "      <td>1</td>\n",
       "    </tr>\n",
       "    <tr>\n",
       "      <th>14</th>\n",
       "      <td>2</td>\n",
       "      <td>0</td>\n",
       "    </tr>\n",
       "    <tr>\n",
       "      <th>15</th>\n",
       "      <td>3</td>\n",
       "      <td>-2</td>\n",
       "    </tr>\n",
       "    <tr>\n",
       "      <th>16</th>\n",
       "      <td>3</td>\n",
       "      <td>0</td>\n",
       "    </tr>\n",
       "    <tr>\n",
       "      <th>17</th>\n",
       "      <td>1</td>\n",
       "      <td>2</td>\n",
       "    </tr>\n",
       "    <tr>\n",
       "      <th>18</th>\n",
       "      <td>1</td>\n",
       "      <td>-3</td>\n",
       "    </tr>\n",
       "    <tr>\n",
       "      <th>19</th>\n",
       "      <td>5</td>\n",
       "      <td>4</td>\n",
       "    </tr>\n",
       "    <tr>\n",
       "      <th>20</th>\n",
       "      <td>4</td>\n",
       "      <td>4</td>\n",
       "    </tr>\n",
       "    <tr>\n",
       "      <th>21</th>\n",
       "      <td>1</td>\n",
       "      <td>-7</td>\n",
       "    </tr>\n",
       "    <tr>\n",
       "      <th>22</th>\n",
       "      <td>5</td>\n",
       "      <td>-4</td>\n",
       "    </tr>\n",
       "    <tr>\n",
       "      <th>23</th>\n",
       "      <td>4</td>\n",
       "      <td>3</td>\n",
       "    </tr>\n",
       "    <tr>\n",
       "      <th>24</th>\n",
       "      <td>2</td>\n",
       "      <td>-11</td>\n",
       "    </tr>\n",
       "    <tr>\n",
       "      <th>25</th>\n",
       "      <td>4</td>\n",
       "      <td>2</td>\n",
       "    </tr>\n",
       "    <tr>\n",
       "      <th>26</th>\n",
       "      <td>1</td>\n",
       "      <td>0</td>\n",
       "    </tr>\n",
       "    <tr>\n",
       "      <th>27</th>\n",
       "      <td>1</td>\n",
       "      <td>0</td>\n",
       "    </tr>\n",
       "    <tr>\n",
       "      <th>28</th>\n",
       "      <td>1</td>\n",
       "      <td>2</td>\n",
       "    </tr>\n",
       "    <tr>\n",
       "      <th>29</th>\n",
       "      <td>5</td>\n",
       "      <td>2</td>\n",
       "    </tr>\n",
       "    <tr>\n",
       "      <th>...</th>\n",
       "      <td>...</td>\n",
       "      <td>...</td>\n",
       "    </tr>\n",
       "    <tr>\n",
       "      <th>50</th>\n",
       "      <td>4</td>\n",
       "      <td>4</td>\n",
       "    </tr>\n",
       "    <tr>\n",
       "      <th>51</th>\n",
       "      <td>1</td>\n",
       "      <td>0</td>\n",
       "    </tr>\n",
       "    <tr>\n",
       "      <th>52</th>\n",
       "      <td>1</td>\n",
       "      <td>-5</td>\n",
       "    </tr>\n",
       "    <tr>\n",
       "      <th>53</th>\n",
       "      <td>3</td>\n",
       "      <td>-1</td>\n",
       "    </tr>\n",
       "    <tr>\n",
       "      <th>54</th>\n",
       "      <td>5</td>\n",
       "      <td>0</td>\n",
       "    </tr>\n",
       "    <tr>\n",
       "      <th>55</th>\n",
       "      <td>5</td>\n",
       "      <td>6</td>\n",
       "    </tr>\n",
       "    <tr>\n",
       "      <th>56</th>\n",
       "      <td>4</td>\n",
       "      <td>4</td>\n",
       "    </tr>\n",
       "    <tr>\n",
       "      <th>57</th>\n",
       "      <td>1</td>\n",
       "      <td>0</td>\n",
       "    </tr>\n",
       "    <tr>\n",
       "      <th>58</th>\n",
       "      <td>1</td>\n",
       "      <td>0</td>\n",
       "    </tr>\n",
       "    <tr>\n",
       "      <th>59</th>\n",
       "      <td>2</td>\n",
       "      <td>-1</td>\n",
       "    </tr>\n",
       "    <tr>\n",
       "      <th>60</th>\n",
       "      <td>5</td>\n",
       "      <td>5</td>\n",
       "    </tr>\n",
       "    <tr>\n",
       "      <th>61</th>\n",
       "      <td>3</td>\n",
       "      <td>0</td>\n",
       "    </tr>\n",
       "    <tr>\n",
       "      <th>62</th>\n",
       "      <td>5</td>\n",
       "      <td>0</td>\n",
       "    </tr>\n",
       "    <tr>\n",
       "      <th>63</th>\n",
       "      <td>3</td>\n",
       "      <td>0</td>\n",
       "    </tr>\n",
       "    <tr>\n",
       "      <th>64</th>\n",
       "      <td>4</td>\n",
       "      <td>2</td>\n",
       "    </tr>\n",
       "    <tr>\n",
       "      <th>65</th>\n",
       "      <td>1</td>\n",
       "      <td>0</td>\n",
       "    </tr>\n",
       "    <tr>\n",
       "      <th>66</th>\n",
       "      <td>2</td>\n",
       "      <td>0</td>\n",
       "    </tr>\n",
       "    <tr>\n",
       "      <th>67</th>\n",
       "      <td>5</td>\n",
       "      <td>4</td>\n",
       "    </tr>\n",
       "    <tr>\n",
       "      <th>68</th>\n",
       "      <td>5</td>\n",
       "      <td>4</td>\n",
       "    </tr>\n",
       "    <tr>\n",
       "      <th>69</th>\n",
       "      <td>4</td>\n",
       "      <td>2</td>\n",
       "    </tr>\n",
       "    <tr>\n",
       "      <th>70</th>\n",
       "      <td>1</td>\n",
       "      <td>1</td>\n",
       "    </tr>\n",
       "    <tr>\n",
       "      <th>71</th>\n",
       "      <td>3</td>\n",
       "      <td>0</td>\n",
       "    </tr>\n",
       "    <tr>\n",
       "      <th>72</th>\n",
       "      <td>4</td>\n",
       "      <td>-1</td>\n",
       "    </tr>\n",
       "    <tr>\n",
       "      <th>73</th>\n",
       "      <td>1</td>\n",
       "      <td>2</td>\n",
       "    </tr>\n",
       "    <tr>\n",
       "      <th>74</th>\n",
       "      <td>4</td>\n",
       "      <td>2</td>\n",
       "    </tr>\n",
       "    <tr>\n",
       "      <th>75</th>\n",
       "      <td>2</td>\n",
       "      <td>0</td>\n",
       "    </tr>\n",
       "    <tr>\n",
       "      <th>76</th>\n",
       "      <td>1</td>\n",
       "      <td>-3</td>\n",
       "    </tr>\n",
       "    <tr>\n",
       "      <th>77</th>\n",
       "      <td>5</td>\n",
       "      <td>4</td>\n",
       "    </tr>\n",
       "    <tr>\n",
       "      <th>78</th>\n",
       "      <td>1</td>\n",
       "      <td>0</td>\n",
       "    </tr>\n",
       "    <tr>\n",
       "      <th>79</th>\n",
       "      <td>1</td>\n",
       "      <td>-1</td>\n",
       "    </tr>\n",
       "  </tbody>\n",
       "</table>\n",
       "<p>80 rows × 2 columns</p>\n",
       "</div>"
      ],
      "text/plain": [
       "    star  score\n",
       "0      1      5\n",
       "1      1     -4\n",
       "2      5      0\n",
       "3      1     -1\n",
       "4      1      0\n",
       "5      5      5\n",
       "6      2      1\n",
       "7      3      0\n",
       "8      1     -1\n",
       "9      4      4\n",
       "10     2     -2\n",
       "11     3      7\n",
       "12     1     -2\n",
       "13     1      1\n",
       "14     2      0\n",
       "15     3     -2\n",
       "16     3      0\n",
       "17     1      2\n",
       "18     1     -3\n",
       "19     5      4\n",
       "20     4      4\n",
       "21     1     -7\n",
       "22     5     -4\n",
       "23     4      3\n",
       "24     2    -11\n",
       "25     4      2\n",
       "26     1      0\n",
       "27     1      0\n",
       "28     1      2\n",
       "29     5      2\n",
       "..   ...    ...\n",
       "50     4      4\n",
       "51     1      0\n",
       "52     1     -5\n",
       "53     3     -1\n",
       "54     5      0\n",
       "55     5      6\n",
       "56     4      4\n",
       "57     1      0\n",
       "58     1      0\n",
       "59     2     -1\n",
       "60     5      5\n",
       "61     3      0\n",
       "62     5      0\n",
       "63     3      0\n",
       "64     4      2\n",
       "65     1      0\n",
       "66     2      0\n",
       "67     5      4\n",
       "68     5      4\n",
       "69     4      2\n",
       "70     1      1\n",
       "71     3      0\n",
       "72     4     -1\n",
       "73     1      2\n",
       "74     4      2\n",
       "75     2      0\n",
       "76     1     -3\n",
       "77     5      4\n",
       "78     1      0\n",
       "79     1     -1\n",
       "\n",
       "[80 rows x 2 columns]"
      ]
     },
     "execution_count": 94,
     "metadata": {},
     "output_type": "execute_result"
    }
   ],
   "source": [
    "df.loc[:, ['star', 'score']]"
   ]
  },
  {
   "cell_type": "code",
   "execution_count": null,
   "metadata": {},
   "outputs": [],
   "source": []
  },
  {
   "cell_type": "code",
   "execution_count": null,
   "metadata": {},
   "outputs": [],
   "source": []
  }
 ],
 "metadata": {
  "kernelspec": {
   "display_name": "Python 3",
   "language": "python",
   "name": "python3"
  },
  "language_info": {
   "codemirror_mode": {
    "name": "ipython",
    "version": 3
   },
   "file_extension": ".py",
   "mimetype": "text/x-python",
   "name": "python",
   "nbconvert_exporter": "python",
   "pygments_lexer": "ipython3",
   "version": "3.6.5"
  }
 },
 "nbformat": 4,
 "nbformat_minor": 2
}
