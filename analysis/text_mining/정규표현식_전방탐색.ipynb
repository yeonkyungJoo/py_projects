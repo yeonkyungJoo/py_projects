{
 "cells": [
  {
   "cell_type": "markdown",
   "metadata": {},
   "source": [
    "### 전방탐색(Lookahead Assertions)\n",
    "- 긍정(positive)\n",
    " > 긍정형 전방 탐색 (?=)\n",
    "- 부정(negative)\n",
    " > 부정형 전방 탐색 (?!...)"
   ]
  },
  {
   "cell_type": "code",
   "execution_count": 2,
   "metadata": {},
   "outputs": [],
   "source": [
    "import re"
   ]
  },
  {
   "cell_type": "code",
   "execution_count": 7,
   "metadata": {},
   "outputs": [
    {
     "data": {
      "text/plain": [
       "'http:'"
      ]
     },
     "execution_count": 7,
     "metadata": {},
     "output_type": "execute_result"
    }
   ],
   "source": [
    "p = re.compile('.+:')\n",
    "m = p.search('http://naver.com')\n",
    "m.group()"
   ]
  },
  {
   "cell_type": "code",
   "execution_count": 8,
   "metadata": {},
   "outputs": [
    {
     "data": {
      "text/plain": [
       "'http'"
      ]
     },
     "execution_count": 8,
     "metadata": {},
     "output_type": "execute_result"
    }
   ],
   "source": [
    "# http 프로토콜명만 얻고 싶다면\n",
    "# :를 판단의 근거로 두고 그 앞쪽을 탐색하여 찾게하는 방식\n",
    "# 긍정형 전방탐색\n",
    "p = re.compile('.+(?=:)')\n",
    "m = p.search('http://naver.com')\n",
    "m.group()"
   ]
  },
  {
   "cell_type": "code",
   "execution_count": 9,
   "metadata": {},
   "outputs": [
    {
     "name": "stdout",
     "output_type": "stream",
     "text": [
      "a.hwp\n",
      "None\n",
      "None\n"
     ]
    }
   ],
   "source": [
    "# 파일명 정규식\n",
    "# .*[.].*$\n",
    "# 확장자에 py나 msi가 들어간 파일은 제외하고 싶다면\n",
    "# 부정형 전방탐색\n",
    "p = re.compile('.*[.](?!py$|msi$).*$')\n",
    "print(p.search('a.hwp').group())\n",
    "print(p.search('a.py'))\n",
    "print(p.search('a.msi'))"
   ]
  },
  {
   "cell_type": "code",
   "execution_count": 18,
   "metadata": {},
   "outputs": [
    {
     "name": "stdout",
     "output_type": "stream",
     "text": [
      "\n",
      "MBC 940101-*******\n",
      "KBS 950101-*******\n",
      "\n"
     ]
    }
   ],
   "source": [
    "# 주민번호 필터링 : 940101- *******\n",
    "data = '''\n",
    "MBC 940101-1234567\n",
    "KBS 950101-1234567\n",
    "'''\n",
    "p = re.compile('(\\d{6})[-]\\d{7}')\n",
    "# 자기 참조가 아닌 다른 쪽에서 참조하는 방식\n",
    "# g<1> : 1번 그룹 참조\n",
    "print(p.sub('\\g<1>-*******', data))"
   ]
  },
  {
   "cell_type": "code",
   "execution_count": 21,
   "metadata": {},
   "outputs": [
    {
     "name": "stdout",
     "output_type": "stream",
     "text": [
      "<_sre.SRE_Match object; span=(0, 7), match='a@a.com'>\n",
      "None\n",
      "None\n",
      "<_sre.SRE_Match object; span=(0, 11), match='a.b.c@b.com'>\n"
     ]
    }
   ],
   "source": [
    "# 이메일 : a@a.com\n",
    "# 여러 가능성을 두고 구성을 하되, .은 잘 고려를 해야 한다(아닌 것도 포함된다)\n",
    "p = re.compile('^[a-zA-Z0-9-_.]+@[a-zA-Z0-9-]+[.][a-zA-Z0-9-.]+$')\n",
    "check = [\n",
    "    'a@a.com',\n",
    "    'a@a',\n",
    "    'a.com',\n",
    "    'a.b.c@b.com'\n",
    "]\n",
    "for email in check :\n",
    "    print(p.match(email))"
   ]
  },
  {
   "cell_type": "code",
   "execution_count": null,
   "metadata": {},
   "outputs": [],
   "source": []
  },
  {
   "cell_type": "code",
   "execution_count": null,
   "metadata": {},
   "outputs": [],
   "source": []
  }
 ],
 "metadata": {
  "kernelspec": {
   "display_name": "Python 3",
   "language": "python",
   "name": "python3"
  },
  "language_info": {
   "codemirror_mode": {
    "name": "ipython",
    "version": 3
   },
   "file_extension": ".py",
   "mimetype": "text/x-python",
   "name": "python",
   "nbconvert_exporter": "python",
   "pygments_lexer": "ipython3",
   "version": "3.6.5"
  }
 },
 "nbformat": 4,
 "nbformat_minor": 2
}
