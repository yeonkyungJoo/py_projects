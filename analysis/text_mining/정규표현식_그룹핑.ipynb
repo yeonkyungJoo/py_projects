{
 "cells": [
  {
   "cell_type": "markdown",
   "metadata": {},
   "source": [
    "### 그룹핑\n",
    "- 그룹을 만들어주는 메타문자는 ()이다"
   ]
  },
  {
   "cell_type": "code",
   "execution_count": 1,
   "metadata": {},
   "outputs": [],
   "source": [
    "import re"
   ]
  },
  {
   "cell_type": "code",
   "execution_count": 4,
   "metadata": {},
   "outputs": [],
   "source": [
    "p = re.compile('(123)+')\n",
    "m = p.search('123123123123 OK?')"
   ]
  },
  {
   "cell_type": "code",
   "execution_count": 12,
   "metadata": {},
   "outputs": [
    {
     "data": {
      "text/plain": [
       "('123123123123', '123123123123', '123')"
      ]
     },
     "execution_count": 12,
     "metadata": {},
     "output_type": "execute_result"
    }
   ],
   "source": [
    "# m.group()\n",
    "# m.group(0) : 매칭된 모든 문자열\n",
    "# m.group(1) : 첫번째 그룹의 문자열\n",
    "# m.group(2) : 두번째 그룹의 문자열\n",
    "# m.group(3) : n번째 그룹의 문자열\n",
    "m.group(), m.group(0), m.group(1)"
   ]
  },
  {
   "cell_type": "code",
   "execution_count": 13,
   "metadata": {},
   "outputs": [],
   "source": [
    "# \\w : 0-9a-zA-Z\n",
    "# \\s : whitespace, 공백, \\t\\r\\n ...\n",
    "# \\d : 0-9\n",
    "p = re.compile(r'\\w+\\s+\\d+[-]\\d+[-]\\d+')\n",
    "m = p.search('컴퓨터 010-1234-5678')"
   ]
  },
  {
   "cell_type": "code",
   "execution_count": 18,
   "metadata": {},
   "outputs": [
    {
     "data": {
      "text/plain": [
       "'컴퓨터 010-1234-5678'"
      ]
     },
     "execution_count": 18,
     "metadata": {},
     "output_type": "execute_result"
    }
   ],
   "source": [
    "m.group()\n",
    "# 위 패턴은 데이터를 디테일하게 뽑을 수 없다\n",
    "# 결국 다시 전처리를 해야 한다 → 그룹화를 통해 추출"
   ]
  },
  {
   "cell_type": "code",
   "execution_count": 19,
   "metadata": {},
   "outputs": [],
   "source": [
    "p = re.compile(r'(\\w+)\\s+(\\d+[-]\\d+[-]\\d+)')\n",
    "m = p.search('컴퓨터 010-1234-5678')"
   ]
  },
  {
   "cell_type": "code",
   "execution_count": 24,
   "metadata": {},
   "outputs": [
    {
     "data": {
      "text/plain": [
       "'컴퓨터 010-1234-5678'"
      ]
     },
     "execution_count": 24,
     "metadata": {},
     "output_type": "execute_result"
    }
   ],
   "source": [
    "m.group()"
   ]
  },
  {
   "cell_type": "code",
   "execution_count": 21,
   "metadata": {},
   "outputs": [
    {
     "data": {
      "text/plain": [
       "('컴퓨터', '010-1234-5678')"
      ]
     },
     "execution_count": 21,
     "metadata": {},
     "output_type": "execute_result"
    }
   ],
   "source": [
    "m.groups()"
   ]
  },
  {
   "cell_type": "code",
   "execution_count": 25,
   "metadata": {},
   "outputs": [
    {
     "data": {
      "text/plain": [
       "'컴퓨터'"
      ]
     },
     "execution_count": 25,
     "metadata": {},
     "output_type": "execute_result"
    }
   ],
   "source": [
    "# 이름\n",
    "m.group(1)"
   ]
  },
  {
   "cell_type": "code",
   "execution_count": 26,
   "metadata": {
    "scrolled": true
   },
   "outputs": [
    {
     "data": {
      "text/plain": [
       "'010-1234-5678'"
      ]
     },
     "execution_count": 26,
     "metadata": {},
     "output_type": "execute_result"
    }
   ],
   "source": [
    "# 전화번호\n",
    "m.group(2)"
   ]
  },
  {
   "cell_type": "markdown",
   "metadata": {},
   "source": [
    "#### 중첩 그룹핑"
   ]
  },
  {
   "cell_type": "code",
   "execution_count": 27,
   "metadata": {},
   "outputs": [],
   "source": [
    "# 문제 :\n",
    "# 이름, 전화번호 전체, 국번호, 가운데번호, 뒷번호 따로 뽑을 수 있도록\n",
    "p = re.compile(r'(\\w+)\\s+((\\d+)[-](\\d+)[-](\\d+))')\n",
    "m = p.search('컴퓨터 010-1234-5678')"
   ]
  },
  {
   "cell_type": "code",
   "execution_count": 28,
   "metadata": {},
   "outputs": [
    {
     "data": {
      "text/plain": [
       "('컴퓨터', '010-1234-5678', '010', '1234', '5678')"
      ]
     },
     "execution_count": 28,
     "metadata": {},
     "output_type": "execute_result"
    }
   ],
   "source": [
    "m.groups()"
   ]
  },
  {
   "cell_type": "markdown",
   "metadata": {},
   "source": [
    "###### \\1 : 정규식의 그룹 중 첫번째 그룹을 참조 (그룹핑된 문자열 재참조)"
   ]
  },
  {
   "cell_type": "code",
   "execution_count": 35,
   "metadata": {},
   "outputs": [],
   "source": [
    "p = re.compile(r'(\\b\\w+)\\s+\\1')\n",
    "m = p.search('pandas numpy numpy scikit scipy')"
   ]
  },
  {
   "cell_type": "code",
   "execution_count": 36,
   "metadata": {},
   "outputs": [
    {
     "data": {
      "text/plain": [
       "'numpy numpy'"
      ]
     },
     "execution_count": 36,
     "metadata": {},
     "output_type": "execute_result"
    }
   ],
   "source": [
    "m.group()"
   ]
  },
  {
   "cell_type": "markdown",
   "metadata": {},
   "source": [
    "###### (?P<이름>정규식) : 그룹핑된 문자열에 이름 붙이기\n",
    "- 그룹을 찾을 때 이름 사용"
   ]
  },
  {
   "cell_type": "code",
   "execution_count": 40,
   "metadata": {},
   "outputs": [],
   "source": [
    "p = re.compile(r'(?P<comp>\\w+)\\s+((\\d+)[-](\\d+)[-](\\d+))')\n",
    "m = p.search('컴퓨터 010-1234-5678')"
   ]
  },
  {
   "cell_type": "code",
   "execution_count": 41,
   "metadata": {},
   "outputs": [
    {
     "data": {
      "text/plain": [
       "('컴퓨터', '010-1234-5678', '010', '1234', '5678')"
      ]
     },
     "execution_count": 41,
     "metadata": {},
     "output_type": "execute_result"
    }
   ],
   "source": [
    "m.groups()"
   ]
  },
  {
   "cell_type": "code",
   "execution_count": 42,
   "metadata": {},
   "outputs": [
    {
     "data": {
      "text/plain": [
       "'컴퓨터'"
      ]
     },
     "execution_count": 42,
     "metadata": {},
     "output_type": "execute_result"
    }
   ],
   "source": [
    "m.group(1)"
   ]
  },
  {
   "cell_type": "code",
   "execution_count": 43,
   "metadata": {},
   "outputs": [
    {
     "data": {
      "text/plain": [
       "'컴퓨터'"
      ]
     },
     "execution_count": 43,
     "metadata": {},
     "output_type": "execute_result"
    }
   ],
   "source": [
    "m.group('comp')"
   ]
  },
  {
   "cell_type": "code",
   "execution_count": 44,
   "metadata": {},
   "outputs": [
    {
     "data": {
      "text/plain": [
       "'numpy numpy'"
      ]
     },
     "execution_count": 44,
     "metadata": {},
     "output_type": "execute_result"
    }
   ],
   "source": [
    "# 이름으로 참조\n",
    "p = re.compile(r'(?P<lib>\\b\\w+)\\s+(?P=lib)')\n",
    "m = p.search('pandas numpy numpy scikit scipy')\n",
    "m.group()"
   ]
  },
  {
   "cell_type": "code",
   "execution_count": null,
   "metadata": {},
   "outputs": [],
   "source": []
  },
  {
   "cell_type": "markdown",
   "metadata": {},
   "source": [
    "#### 컴파일 옵션\n",
    "- DOTALL(S) : 모든 문자 대비, \\n도 OK / cf) .은 \\n을 제외한 모든 문자 대비\n",
    "- IGNORECASE(I) : 대소문자 구분 X, 대소문자 관계없이 매칭\n",
    "- MULTILINE(M) : 여러 줄 매치\n",
    "- VERBOSE(X) : 일반적으로 정규식을 한 줄로 표현하다보니, 복잡해지면 해석이 힘들어진다 → 여러 줄로 쪼개서 표현, 각각의 표현이 무엇을 의미하는지 주석도 가능"
   ]
  },
  {
   "cell_type": "markdown",
   "metadata": {},
   "source": [
    "###### re.compile('  ', re.DOTALL)"
   ]
  },
  {
   "cell_type": "code",
   "execution_count": 45,
   "metadata": {
    "collapsed": true
   },
   "outputs": [
    {
     "name": "stdout",
     "output_type": "stream",
     "text": [
      "a1b\n",
      "None\n",
      "a\tb\n"
     ]
    }
   ],
   "source": [
    "p = re.compile('a.b')\n",
    "# \\n를 빼고 axb로 표현해야 매칭된다\n",
    "print(p.match('a1b').group())\n",
    "print(p.match('a\\nb')) # None\n",
    "print(p.match('a\\tb').group())"
   ]
  },
  {
   "cell_type": "code",
   "execution_count": 46,
   "metadata": {},
   "outputs": [
    {
     "name": "stdout",
     "output_type": "stream",
     "text": [
      "a\n",
      "b\n"
     ]
    }
   ],
   "source": [
    "p = re.compile('a.b', re.DOTALL)\n",
    "print(p.match('a\\nb').group())"
   ]
  },
  {
   "cell_type": "code",
   "execution_count": 47,
   "metadata": {},
   "outputs": [
    {
     "name": "stdout",
     "output_type": "stream",
     "text": [
      "a\n",
      "b\n"
     ]
    }
   ],
   "source": [
    "# 약어로\n",
    "p = re.compile('a.b', re.S)\n",
    "print(p.match('a\\nb').group())"
   ]
  },
  {
   "cell_type": "markdown",
   "metadata": {},
   "source": [
    "###### re.compile('  ', re.IGNORECASE)"
   ]
  },
  {
   "cell_type": "code",
   "execution_count": 48,
   "metadata": {},
   "outputs": [
    {
     "name": "stdout",
     "output_type": "stream",
     "text": [
      "p\n",
      "P\n",
      "P\n"
     ]
    }
   ],
   "source": [
    "p = re.compile('[a-z]', re.IGNORECASE )\n",
    "# p = re.compile('[a-z]', re.I )\n",
    "print(p.match('python').group())\n",
    "print(p.match('Python').group())\n",
    "print(p.match('PYTHON').group())"
   ]
  },
  {
   "cell_type": "markdown",
   "metadata": {},
   "source": [
    "###### re.compile('  ', re.VERBOSE)"
   ]
  },
  {
   "cell_type": "code",
   "execution_count": 49,
   "metadata": {},
   "outputs": [],
   "source": [
    "p = re.compile(r'(0[0-7]+|[0-9]+|x[0-9a-fA-F]+);')\n",
    "p = re.compile(r'''\n",
    "(                   # 그룹핑시작\n",
    "0[0-7]+             # 8진수\n",
    "|                   # or\n",
    "[0-9]+              # 10진수\n",
    "|                   # or\n",
    "x[0-9a-fA-F]+       # 16진수\n",
    ")                   # 그룹핑끝\n",
    ";\n",
    "''', re.VERBOSE)"
   ]
  },
  {
   "cell_type": "code",
   "execution_count": null,
   "metadata": {},
   "outputs": [],
   "source": []
  }
 ],
 "metadata": {
  "kernelspec": {
   "display_name": "Python 3",
   "language": "python",
   "name": "python3"
  },
  "language_info": {
   "codemirror_mode": {
    "name": "ipython",
    "version": 3
   },
   "file_extension": ".py",
   "mimetype": "text/x-python",
   "name": "python",
   "nbconvert_exporter": "python",
   "pygments_lexer": "ipython3",
   "version": "3.6.5"
  }
 },
 "nbformat": 4,
 "nbformat_minor": 2
}
