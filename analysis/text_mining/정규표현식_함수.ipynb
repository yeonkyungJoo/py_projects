{
 "cells": [
  {
   "cell_type": "markdown",
   "metadata": {},
   "source": [
    "- 정규표현식\n",
    " > 정규식을 직접 생성(컴파일) ↔ 함수에 직접 패턴을 기록하는 방식\n",
    "- 함수\n",
    " > match : 처음 - 문자열의 처음부터 정규식과 매치되는지 조사  \n",
    " > search : 전체 - 문자열 전체를 검색하여 매치되는지 조사  \n",
    " > findall : 모든, 리스트 - 정규식과 매치되는 모든 문자열을 리스트로 리턴\n",
    " > finditer : 모든, iterator - 정규식과 매치되는 모든 문자열을 iterator객체로 리턴  \n",
    " > sub : 다른 문자로 - 규칙과 매치되는 부분을 다른 문자로 변경"
   ]
  },
  {
   "cell_type": "code",
   "execution_count": 1,
   "metadata": {},
   "outputs": [],
   "source": [
    "import re"
   ]
  },
  {
   "cell_type": "code",
   "execution_count": 2,
   "metadata": {},
   "outputs": [],
   "source": [
    "# 패턴(pattern) 생성\n",
    "# 숫자만 와야하는데 1개는 무조건 나오고 그 뒤 반복 무한대\n",
    "p = re.compile('[0-9]+')"
   ]
  },
  {
   "cell_type": "code",
   "execution_count": 3,
   "metadata": {},
   "outputs": [
    {
     "name": "stdout",
     "output_type": "stream",
     "text": [
      "None\n"
     ]
    }
   ],
   "source": [
    "m = p.match('abc9')\n",
    "print(m)"
   ]
  },
  {
   "cell_type": "code",
   "execution_count": 5,
   "metadata": {},
   "outputs": [
    {
     "name": "stdout",
     "output_type": "stream",
     "text": [
      "<_sre.SRE_Match object; span=(0, 1), match='9'> 9\n"
     ]
    }
   ],
   "source": [
    "m = p.match('9abc')\n",
    "print(m, m.group())"
   ]
  },
  {
   "cell_type": "markdown",
   "metadata": {},
   "source": [
    "###### 매치된 값만 획득 : .group()"
   ]
  },
  {
   "cell_type": "code",
   "execution_count": 6,
   "metadata": {},
   "outputs": [
    {
     "name": "stdout",
     "output_type": "stream",
     "text": [
      "<_sre.SRE_Match object; span=(0, 3), match='911'> 911\n"
     ]
    }
   ],
   "source": [
    "m = p.match('911a')\n",
    "print(m, m.group())"
   ]
  },
  {
   "cell_type": "code",
   "execution_count": 7,
   "metadata": {},
   "outputs": [
    {
     "name": "stdout",
     "output_type": "stream",
     "text": [
      "0\n"
     ]
    }
   ],
   "source": [
    "m = p.match('0abcde23412askfmdfs가나다')\n",
    "if m :\n",
    "    print(m.group())\n",
    "else :\n",
    "    print('mismatch')"
   ]
  },
  {
   "cell_type": "code",
   "execution_count": 9,
   "metadata": {},
   "outputs": [
    {
     "name": "stdout",
     "output_type": "stream",
     "text": [
      "01231424123\n"
     ]
    }
   ],
   "source": [
    "m = p.match('01231424123abcde23412askfmdfs가나다')\n",
    "if m :\n",
    "    print(m.group())\n",
    "else :\n",
    "    print('mismatch')"
   ]
  },
  {
   "cell_type": "code",
   "execution_count": 10,
   "metadata": {},
   "outputs": [
    {
     "name": "stdout",
     "output_type": "stream",
     "text": [
      "['i', 'am', 'a', 'oy']\n"
     ]
    }
   ],
   "source": [
    "data = 'i am a Boy. 2018 컴퓨터'\n",
    "# 문제 :\n",
    "# 소문자로 된 것들을 다 찾아서 리스트로 리턴 → findall()\n",
    "p = re.compile('[a-z]+')\n",
    "m = p.findall(data)\n",
    "print(m)"
   ]
  },
  {
   "cell_type": "code",
   "execution_count": 14,
   "metadata": {},
   "outputs": [
    {
     "name": "stdout",
     "output_type": "stream",
     "text": [
      "i 0 1 (0, 1)\n",
      "am 2 4 (2, 4)\n",
      "a 5 6 (5, 6)\n",
      "oy 8 10 (8, 10)\n"
     ]
    }
   ],
   "source": [
    "m = p.finditer(data)\n",
    "for n in m :\n",
    "    # 추출한 문자열, 해당 문자열의 시작 인덱스/끝 인덱스, 인덱스 묶어둔 튜플\n",
    "    print(n.group(), n.start(), n.end(), n.span())"
   ]
  },
  {
   "cell_type": "markdown",
   "metadata": {},
   "source": [
    "###### sub : 규칙에 매칭되는 부분을 다른 문자로 변경"
   ]
  },
  {
   "cell_type": "code",
   "execution_count": 17,
   "metadata": {
    "scrolled": true
   },
   "outputs": [
    {
     "name": "stdout",
     "output_type": "stream",
     "text": [
      "색상 socks and 색상 socks\n"
     ]
    }
   ],
   "source": [
    "p = re.compile('(blue|white|red)')\n",
    "# 대체\n",
    "m = p.sub('색상', 'blue socks and red socks')\n",
    "print(m)"
   ]
  },
  {
   "cell_type": "code",
   "execution_count": 24,
   "metadata": {},
   "outputs": [
    {
     "name": "stdout",
     "output_type": "stream",
     "text": [
      " socks and  socks\n"
     ]
    }
   ],
   "source": [
    "# 제거\n",
    "m = p.sub('', 'blue socks and red socks')\n",
    "print(m)"
   ]
  },
  {
   "cell_type": "markdown",
   "metadata": {},
   "source": [
    "#### 응용 : 한글, 한자, whitespace 제거"
   ]
  },
  {
   "cell_type": "markdown",
   "metadata": {},
   "source": [
    "#### 한글제거\n",
    "- 한글 코드\n",
    " > 자음, 모음\n",
    "  - ㄱ ~ ㅎ : 0x3131  ~  0x314E  \n",
    "  - ㅏ ~ ㅣ : 0x314F  ~  0x3163\n",
    "\n",
    " > 한글 음절\n",
    "  - 가 ~ 힣 : 0xAC00  ~  0xd7a3 "
   ]
  },
  {
   "cell_type": "markdown",
   "metadata": {},
   "source": [
    "###### 한글 정규식 : [ㄱ-ㅣ가-힣]"
   ]
  },
  {
   "cell_type": "code",
   "execution_count": 19,
   "metadata": {},
   "outputs": [],
   "source": [
    "# 한글 한 개 이상 무한대\n",
    "hangul = re.compile('[ㄱ-ㅣ가-힣]+')"
   ]
  },
  {
   "cell_type": "code",
   "execution_count": 20,
   "metadata": {},
   "outputs": [],
   "source": [
    "data = '''\n",
    "BTS (Korean: 방탄소년단; RR: Bangtan Sonyeondan), also known as the Bangtan Boys, is a seven-member South Korean boy band formed in Seoul in 2013. The septet co-writes and produces much of their output. Originally a hip hop group, their musical style has evolved to include a wide range of genres. Their lyrics, often focused on personal and social commentary, touch on the themes of mental health, troubles of school-age youth, loss, the journey towards loving oneself, and individualism. Their work features references to literature and psychological concepts and includes an alternative universe storyline. Popular for their live performances, the group have staged several world tours.\n",
    "\n",
    "The group initially formed as teenagers under Big Hit Entertainment and released their debut single album, 2 Cool 4 Skool (2013). Subsequent work such as their first U.S. Billboard 200 entries The Most Beautiful Moment in Life, Part 2 (2015), The Most Beautiful Moment in Life: Young Forever (2016), and Wings (2016) helped establish BTS' reputation as a socially conscious group. Wings became BTS' first album to sell one million copies in South Korea. By 2017, BTS crossed into the international music market, leading the Korean Wave into the United States and breaking numerous sales records, becoming the first Korean group to receive a certification by the Recording Industry Association of America (RIAA) with their single \"Mic Drop\". The band is the first and only Korean act as of 2019 to top the U.S. Billboard 200 with their studio album Love Yourself: Tear (2018) and have since hit the top of the U.S. charts with their albums Love Yourself: Answer (2018) and Map of the Soul: Persona (2019), making BTS the first group since The Beatles to earn three number one albums in less than a year. Love Yourself: Answer also broke South Korea's Gaon Album Chart's all-time monthly record previously set by Love Yourself: Tear and became the first Korean album certified Gold in the United States.\n",
    "\n",
    "Having sold over fifteen million albums, BTS are the best-selling artist in South Korea of all time, and hold the best-selling album in Korean history with Map of the Soul: Persona. BTS were the second best-selling artists of 2018 worldwide according to the IFPI's Global Artist Chart, as well as the only non-English speaking artist to enter the chart. The group has won Top Social Artist three years in a row and Top Duo/Group at the 26th Billboard Music Awards. Featured on Time's international cover as \"Next Generation Leaders\", BTS has appeared in the magazine's 25 most influential people on the internet (2017–2019) and Time's 100 most influential people in the world (2019), with the outlet giving them the nickname 'Princes of Pop'. Forbes Korea named BTS the most influential celebrities of Korea in 2018, and BTS ranked 43rd in the Forbes Celebrity 100 (2019) as one of the world's top-earning celebrities. BTS are worth more than $4.65 billion to South Korea's economy each year, attracting one in every 13 foreign tourists that visit the country, and are cited as one of the key acts boosting global music sales to $19 billion in 2018, a figure not seen since 2006 after digital purchases gained momentum.\n",
    "\n",
    "Following their philanthropic efforts in their Love Myself anti-violence campaign in partnership with UNICEF, BTS addressed the United Nations 73rd General Assembly and became the youngest ever recipients of the Order of Cultural Merit from the President of South Korea due to their contributions in spreading Korean culture and language.\n",
    "'''"
   ]
  },
  {
   "cell_type": "code",
   "execution_count": 21,
   "metadata": {},
   "outputs": [
    {
     "data": {
      "text/plain": [
       "'\\nBTS (Korean: 방탄소년단; RR: Bangtan Sonyeondan), also known as the Bangtan Boys, is a seven-member Sout'"
      ]
     },
     "execution_count": 21,
     "metadata": {},
     "output_type": "execute_result"
    }
   ],
   "source": [
    "data[:100]"
   ]
  },
  {
   "cell_type": "code",
   "execution_count": 27,
   "metadata": {},
   "outputs": [
    {
     "data": {
      "text/plain": [
       "'\\nBTS (Korean: ; RR: Bangtan Sonyeondan), also known as the Bangtan Boys, is a seven-member South Kor'"
      ]
     },
     "execution_count": 27,
     "metadata": {},
     "output_type": "execute_result"
    }
   ],
   "source": [
    "# 문제 :\n",
    "# data에서 한글을 제거하여 출력\n",
    "m = hangul.sub('', data)\n",
    "m[:100]"
   ]
  },
  {
   "cell_type": "code",
   "execution_count": 28,
   "metadata": {},
   "outputs": [
    {
     "data": {
      "text/plain": [
       "'BTS Korean  RR Bangtan Sonyeondan also known as the Bangtan Boys is a seven-member South Korean boy band formed in Seoul in 2013 The septet co-writes and produces much of their output Originally a hip'"
      ]
     },
     "execution_count": 28,
     "metadata": {},
     "output_type": "execute_result"
    }
   ],
   "source": [
    "# 문제 :\n",
    "# n ; : () , . 등도 제거하시오\n",
    "hangul = re.compile('[ㄱ-ㅣ가-힣;:(\\),.\\n]+')\n",
    "hangul.sub('', data)[:200]"
   ]
  },
  {
   "cell_type": "code",
   "execution_count": 37,
   "metadata": {},
   "outputs": [
    {
     "data": {
      "text/plain": [
       "'abcd'"
      ]
     },
     "execution_count": 37,
     "metadata": {},
     "output_type": "execute_result"
    }
   ],
   "source": [
    "# whitespace 제거\n",
    "p = re.compile(r'\\s+')\n",
    "re.sub(p, '', ' a b c d ')"
   ]
  },
  {
   "cell_type": "code",
   "execution_count": 38,
   "metadata": {},
   "outputs": [
    {
     "data": {
      "text/plain": [
       "' ab cd'"
      ]
     },
     "execution_count": 38,
     "metadata": {},
     "output_type": "execute_result"
    }
   ],
   "source": [
    "# 줄바꿈 제거\n",
    "p = re.compile(r'\\n+')\n",
    "re.sub(p, '', ' a\\n\\n\\nb c\\nd\\n')"
   ]
  }
 ],
 "metadata": {
  "kernelspec": {
   "display_name": "Python 3",
   "language": "python",
   "name": "python3"
  },
  "language_info": {
   "codemirror_mode": {
    "name": "ipython",
    "version": 3
   },
   "file_extension": ".py",
   "mimetype": "text/x-python",
   "name": "python",
   "nbconvert_exporter": "python",
   "pygments_lexer": "ipython3",
   "version": "3.6.5"
  }
 },
 "nbformat": 4,
 "nbformat_minor": 2
}
