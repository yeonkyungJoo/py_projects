{
 "cells": [
  {
   "cell_type": "markdown",
   "metadata": {},
   "source": [
    "## pandas 기초\n",
    "\n",
    "- pandas는 R의 핵심 데이터 시리즈와 프레임을 파이썬에 추가한 것이다.\n",
    "- numpy를 기반으로 구현되었고, numpy 대비 기능을 더 확장하여 재구현한 것\n",
    "- Python Data Analysis Library\n",
    "> https://pandas.pydata.org/"
   ]
  },
  {
   "cell_type": "code",
   "execution_count": 2,
   "metadata": {},
   "outputs": [],
   "source": [
    "import numpy as np\n",
    "import pandas as pd"
   ]
  },
  {
   "cell_type": "code",
   "execution_count": null,
   "metadata": {},
   "outputs": [],
   "source": []
  },
  {
   "cell_type": "markdown",
   "metadata": {},
   "source": [
    "- 파이썬의 자료구조\n",
    "> 수치형, 문자열, 리스트, 딕셔너리, 튜플, 집합, boolean\n",
    "- numpy의 자료구조\n",
    "> ndarray(배열) : 배열의 데이터는 모두 같은 타입이다.\n",
    "- pandas의 자료구조\n",
    "> Series(시리즈), DataFrame(데이터프레임)  \n",
    "> - Series : 인덱스와 데이터만 존재하는, 컬럼이 없는 자료구조  \n",
    "> - DataFrame : 인덱스와 컬럼이 존재하는 자료구조  \n",
    "> DataFrame 인덱싱 → Series 인덱싱 → 값(스칼라), 수치, 문자, boolean, Nan 등   \n",
    "> Nan(Not a Number → np.nan) : 데이터가 없다.  "
   ]
  },
  {
   "cell_type": "code",
   "execution_count": 4,
   "metadata": {},
   "outputs": [
    {
     "data": {
      "text/plain": [
       "0    1.0\n",
       "1    3.0\n",
       "2    5.0\n",
       "3    NaN\n",
       "4    6.0\n",
       "5    8.0\n",
       "dtype: float64"
      ]
     },
     "execution_count": 4,
     "metadata": {},
     "output_type": "execute_result"
    }
   ],
   "source": [
    "# Series\n",
    "# 데이터를 정수로 넣었으나 기본형으로 float64가 반영되었다\n",
    "a = pd.Series([1, 3, 5, np.nan, 6, 8])   # 생성자\n",
    "a"
   ]
  },
  {
   "cell_type": "code",
   "execution_count": 5,
   "metadata": {},
   "outputs": [
    {
     "data": {
      "text/plain": [
       "dtype('float64')"
      ]
     },
     "execution_count": 5,
     "metadata": {},
     "output_type": "execute_result"
    }
   ],
   "source": [
    "# 속성-타입\n",
    "a.dtype"
   ]
  },
  {
   "cell_type": "code",
   "execution_count": 6,
   "metadata": {},
   "outputs": [
    {
     "data": {
      "text/plain": [
       "(6,)"
      ]
     },
     "execution_count": 6,
     "metadata": {},
     "output_type": "execute_result"
    }
   ],
   "source": [
    "# 속성-크기\n",
    "a.shape\n",
    "# (6,) -> 1차원 데이터로 총 6개의 데이터가 존재"
   ]
  },
  {
   "cell_type": "code",
   "execution_count": 8,
   "metadata": {},
   "outputs": [
    {
     "data": {
      "text/plain": [
       "(['A', 'B', 'C', 'D'],\n",
       " DatetimeIndex(['2019-08-12', '2019-08-13', '2019-08-14', '2019-08-15',\n",
       "                '2019-08-16', '2019-08-17', '2019-08-18'],\n",
       "               dtype='datetime64[ns]', freq='D'))"
      ]
     },
     "execution_count": 8,
     "metadata": {},
     "output_type": "execute_result"
    }
   ],
   "source": [
    "# DataFrame : 인덱스와 컬럼이 존재하는 자료구조\n",
    "cols = list('ABCD')\n",
    "indexs = pd.date_range('20190812', periods=7)\n",
    "# 컬럼 4개, 인덱스 7개\n",
    "cols, indexs"
   ]
  },
  {
   "cell_type": "code",
   "execution_count": 10,
   "metadata": {},
   "outputs": [
    {
     "data": {
      "text/plain": [
       "(array([[-0.75554389, -0.0599567 ,  0.42666649, -1.09926096],\n",
       "        [ 0.6135535 , -1.01539292, -0.81516382, -2.6537993 ],\n",
       "        [-2.00661708, -0.50071063, -1.62881814, -1.90799813],\n",
       "        [-2.00625455, -1.47571026, -0.85068141,  0.21002483],\n",
       "        [-1.75539127,  2.15996551,  1.25102319, -0.70120523],\n",
       "        [-0.86225417,  0.64819462, -0.03557292, -0.23070858],\n",
       "        [ 1.50373213,  0.25558352,  1.49665739,  1.17681281]]), (7, 4))"
      ]
     },
     "execution_count": 10,
     "metadata": {},
     "output_type": "execute_result"
    }
   ],
   "source": [
    "# 데이터 shape -> (7, 4)\n",
    "datas = np.random.randn(7, 4)\n",
    "datas, datas.shape"
   ]
  },
  {
   "cell_type": "code",
   "execution_count": 11,
   "metadata": {},
   "outputs": [
    {
     "data": {
      "text/html": [
       "<div>\n",
       "<style scoped>\n",
       "    .dataframe tbody tr th:only-of-type {\n",
       "        vertical-align: middle;\n",
       "    }\n",
       "\n",
       "    .dataframe tbody tr th {\n",
       "        vertical-align: top;\n",
       "    }\n",
       "\n",
       "    .dataframe thead th {\n",
       "        text-align: right;\n",
       "    }\n",
       "</style>\n",
       "<table border=\"1\" class=\"dataframe\">\n",
       "  <thead>\n",
       "    <tr style=\"text-align: right;\">\n",
       "      <th></th>\n",
       "      <th>A</th>\n",
       "      <th>B</th>\n",
       "      <th>C</th>\n",
       "      <th>D</th>\n",
       "    </tr>\n",
       "  </thead>\n",
       "  <tbody>\n",
       "    <tr>\n",
       "      <th>2019-08-12</th>\n",
       "      <td>-0.755544</td>\n",
       "      <td>-0.059957</td>\n",
       "      <td>0.426666</td>\n",
       "      <td>-1.099261</td>\n",
       "    </tr>\n",
       "    <tr>\n",
       "      <th>2019-08-13</th>\n",
       "      <td>0.613554</td>\n",
       "      <td>-1.015393</td>\n",
       "      <td>-0.815164</td>\n",
       "      <td>-2.653799</td>\n",
       "    </tr>\n",
       "    <tr>\n",
       "      <th>2019-08-14</th>\n",
       "      <td>-2.006617</td>\n",
       "      <td>-0.500711</td>\n",
       "      <td>-1.628818</td>\n",
       "      <td>-1.907998</td>\n",
       "    </tr>\n",
       "    <tr>\n",
       "      <th>2019-08-15</th>\n",
       "      <td>-2.006255</td>\n",
       "      <td>-1.475710</td>\n",
       "      <td>-0.850681</td>\n",
       "      <td>0.210025</td>\n",
       "    </tr>\n",
       "    <tr>\n",
       "      <th>2019-08-16</th>\n",
       "      <td>-1.755391</td>\n",
       "      <td>2.159966</td>\n",
       "      <td>1.251023</td>\n",
       "      <td>-0.701205</td>\n",
       "    </tr>\n",
       "    <tr>\n",
       "      <th>2019-08-17</th>\n",
       "      <td>-0.862254</td>\n",
       "      <td>0.648195</td>\n",
       "      <td>-0.035573</td>\n",
       "      <td>-0.230709</td>\n",
       "    </tr>\n",
       "    <tr>\n",
       "      <th>2019-08-18</th>\n",
       "      <td>1.503732</td>\n",
       "      <td>0.255584</td>\n",
       "      <td>1.496657</td>\n",
       "      <td>1.176813</td>\n",
       "    </tr>\n",
       "  </tbody>\n",
       "</table>\n",
       "</div>"
      ],
      "text/plain": [
       "                   A         B         C         D\n",
       "2019-08-12 -0.755544 -0.059957  0.426666 -1.099261\n",
       "2019-08-13  0.613554 -1.015393 -0.815164 -2.653799\n",
       "2019-08-14 -2.006617 -0.500711 -1.628818 -1.907998\n",
       "2019-08-15 -2.006255 -1.475710 -0.850681  0.210025\n",
       "2019-08-16 -1.755391  2.159966  1.251023 -0.701205\n",
       "2019-08-17 -0.862254  0.648195 -0.035573 -0.230709\n",
       "2019-08-18  1.503732  0.255584  1.496657  1.176813"
      ]
     },
     "execution_count": 11,
     "metadata": {},
     "output_type": "execute_result"
    }
   ],
   "source": [
    "# df 생성\n",
    "df = pd.DataFrame(datas, index = indexs, columns = cols)  # 생성자\n",
    "df"
   ]
  },
  {
   "cell_type": "code",
   "execution_count": 12,
   "metadata": {},
   "outputs": [
    {
     "data": {
      "text/html": [
       "<div>\n",
       "<style scoped>\n",
       "    .dataframe tbody tr th:only-of-type {\n",
       "        vertical-align: middle;\n",
       "    }\n",
       "\n",
       "    .dataframe tbody tr th {\n",
       "        vertical-align: top;\n",
       "    }\n",
       "\n",
       "    .dataframe thead th {\n",
       "        text-align: right;\n",
       "    }\n",
       "</style>\n",
       "<table border=\"1\" class=\"dataframe\">\n",
       "  <thead>\n",
       "    <tr style=\"text-align: right;\">\n",
       "      <th></th>\n",
       "      <th>A</th>\n",
       "      <th>B</th>\n",
       "      <th>C</th>\n",
       "      <th>D</th>\n",
       "    </tr>\n",
       "  </thead>\n",
       "  <tbody>\n",
       "    <tr>\n",
       "      <th>2019-08-12</th>\n",
       "      <td>-0.755544</td>\n",
       "      <td>-0.059957</td>\n",
       "      <td>0.426666</td>\n",
       "      <td>-1.099261</td>\n",
       "    </tr>\n",
       "    <tr>\n",
       "      <th>2019-08-13</th>\n",
       "      <td>0.613554</td>\n",
       "      <td>-1.015393</td>\n",
       "      <td>-0.815164</td>\n",
       "      <td>-2.653799</td>\n",
       "    </tr>\n",
       "    <tr>\n",
       "      <th>2019-08-14</th>\n",
       "      <td>-2.006617</td>\n",
       "      <td>-0.500711</td>\n",
       "      <td>-1.628818</td>\n",
       "      <td>-1.907998</td>\n",
       "    </tr>\n",
       "    <tr>\n",
       "      <th>2019-08-15</th>\n",
       "      <td>-2.006255</td>\n",
       "      <td>-1.475710</td>\n",
       "      <td>-0.850681</td>\n",
       "      <td>0.210025</td>\n",
       "    </tr>\n",
       "    <tr>\n",
       "      <th>2019-08-16</th>\n",
       "      <td>-1.755391</td>\n",
       "      <td>2.159966</td>\n",
       "      <td>1.251023</td>\n",
       "      <td>-0.701205</td>\n",
       "    </tr>\n",
       "  </tbody>\n",
       "</table>\n",
       "</div>"
      ],
      "text/plain": [
       "                   A         B         C         D\n",
       "2019-08-12 -0.755544 -0.059957  0.426666 -1.099261\n",
       "2019-08-13  0.613554 -1.015393 -0.815164 -2.653799\n",
       "2019-08-14 -2.006617 -0.500711 -1.628818 -1.907998\n",
       "2019-08-15 -2.006255 -1.475710 -0.850681  0.210025\n",
       "2019-08-16 -1.755391  2.159966  1.251023 -0.701205"
      ]
     },
     "execution_count": 12,
     "metadata": {},
     "output_type": "execute_result"
    }
   ],
   "source": [
    "# 상위 5개\n",
    "df.head()"
   ]
  },
  {
   "cell_type": "code",
   "execution_count": 13,
   "metadata": {
    "scrolled": true
   },
   "outputs": [
    {
     "data": {
      "text/html": [
       "<div>\n",
       "<style scoped>\n",
       "    .dataframe tbody tr th:only-of-type {\n",
       "        vertical-align: middle;\n",
       "    }\n",
       "\n",
       "    .dataframe tbody tr th {\n",
       "        vertical-align: top;\n",
       "    }\n",
       "\n",
       "    .dataframe thead th {\n",
       "        text-align: right;\n",
       "    }\n",
       "</style>\n",
       "<table border=\"1\" class=\"dataframe\">\n",
       "  <thead>\n",
       "    <tr style=\"text-align: right;\">\n",
       "      <th></th>\n",
       "      <th>A</th>\n",
       "      <th>B</th>\n",
       "      <th>C</th>\n",
       "      <th>D</th>\n",
       "    </tr>\n",
       "  </thead>\n",
       "  <tbody>\n",
       "    <tr>\n",
       "      <th>2019-08-17</th>\n",
       "      <td>-0.862254</td>\n",
       "      <td>0.648195</td>\n",
       "      <td>-0.035573</td>\n",
       "      <td>-0.230709</td>\n",
       "    </tr>\n",
       "    <tr>\n",
       "      <th>2019-08-18</th>\n",
       "      <td>1.503732</td>\n",
       "      <td>0.255584</td>\n",
       "      <td>1.496657</td>\n",
       "      <td>1.176813</td>\n",
       "    </tr>\n",
       "  </tbody>\n",
       "</table>\n",
       "</div>"
      ],
      "text/plain": [
       "                   A         B         C         D\n",
       "2019-08-17 -0.862254  0.648195 -0.035573 -0.230709\n",
       "2019-08-18  1.503732  0.255584  1.496657  1.176813"
      ]
     },
     "execution_count": 13,
     "metadata": {},
     "output_type": "execute_result"
    }
   ],
   "source": [
    "# 하위 2개\n",
    "df.tail(2)"
   ]
  },
  {
   "cell_type": "code",
   "execution_count": 15,
   "metadata": {},
   "outputs": [
    {
     "data": {
      "text/plain": [
       "DatetimeIndex(['2019-08-12', '2019-08-13', '2019-08-14', '2019-08-15',\n",
       "               '2019-08-16', '2019-08-17', '2019-08-18'],\n",
       "              dtype='datetime64[ns]', freq='D')"
      ]
     },
     "execution_count": 15,
     "metadata": {},
     "output_type": "execute_result"
    }
   ],
   "source": [
    "df.index"
   ]
  },
  {
   "cell_type": "code",
   "execution_count": 14,
   "metadata": {},
   "outputs": [
    {
     "data": {
      "text/plain": [
       "Index(['A', 'B', 'C', 'D'], dtype='object')"
      ]
     },
     "execution_count": 14,
     "metadata": {},
     "output_type": "execute_result"
    }
   ],
   "source": [
    "df.columns"
   ]
  },
  {
   "cell_type": "code",
   "execution_count": 16,
   "metadata": {},
   "outputs": [
    {
     "data": {
      "text/plain": [
       "array([[-0.75554389, -0.0599567 ,  0.42666649, -1.09926096],\n",
       "       [ 0.6135535 , -1.01539292, -0.81516382, -2.6537993 ],\n",
       "       [-2.00661708, -0.50071063, -1.62881814, -1.90799813],\n",
       "       [-2.00625455, -1.47571026, -0.85068141,  0.21002483],\n",
       "       [-1.75539127,  2.15996551,  1.25102319, -0.70120523],\n",
       "       [-0.86225417,  0.64819462, -0.03557292, -0.23070858],\n",
       "       [ 1.50373213,  0.25558352,  1.49665739,  1.17681281]])"
      ]
     },
     "execution_count": 16,
     "metadata": {},
     "output_type": "execute_result"
    }
   ],
   "source": [
    "df.values"
   ]
  },
  {
   "cell_type": "code",
   "execution_count": 17,
   "metadata": {},
   "outputs": [
    {
     "data": {
      "text/plain": [
       "numpy.ndarray"
      ]
     },
     "execution_count": 17,
     "metadata": {},
     "output_type": "execute_result"
    }
   ],
   "source": [
    "type(df.values)   # numpy.ndarray"
   ]
  },
  {
   "cell_type": "code",
   "execution_count": 18,
   "metadata": {},
   "outputs": [
    {
     "data": {
      "text/plain": [
       "(7, 4)"
      ]
     },
     "execution_count": 18,
     "metadata": {},
     "output_type": "execute_result"
    }
   ],
   "source": [
    "df.shape"
   ]
  },
  {
   "cell_type": "code",
   "execution_count": 20,
   "metadata": {},
   "outputs": [
    {
     "data": {
      "text/plain": [
       "A    float64\n",
       "B    float64\n",
       "C    float64\n",
       "D    float64\n",
       "dtype: object"
      ]
     },
     "execution_count": 20,
     "metadata": {},
     "output_type": "execute_result"
    }
   ],
   "source": [
    "df.dtypes"
   ]
  },
  {
   "cell_type": "code",
   "execution_count": 21,
   "metadata": {},
   "outputs": [
    {
     "name": "stdout",
     "output_type": "stream",
     "text": [
      "<class 'pandas.core.frame.DataFrame'>\n",
      "DatetimeIndex: 7 entries, 2019-08-12 to 2019-08-18\n",
      "Freq: D\n",
      "Data columns (total 4 columns):\n",
      "A    7 non-null float64\n",
      "B    7 non-null float64\n",
      "C    7 non-null float64\n",
      "D    7 non-null float64\n",
      "dtypes: float64(4)\n",
      "memory usage: 280.0 bytes\n"
     ]
    }
   ],
   "source": [
    "# df의 개요\n",
    "df.info()"
   ]
  },
  {
   "cell_type": "code",
   "execution_count": 22,
   "metadata": {},
   "outputs": [
    {
     "data": {
      "text/html": [
       "<div>\n",
       "<style scoped>\n",
       "    .dataframe tbody tr th:only-of-type {\n",
       "        vertical-align: middle;\n",
       "    }\n",
       "\n",
       "    .dataframe tbody tr th {\n",
       "        vertical-align: top;\n",
       "    }\n",
       "\n",
       "    .dataframe thead th {\n",
       "        text-align: right;\n",
       "    }\n",
       "</style>\n",
       "<table border=\"1\" class=\"dataframe\">\n",
       "  <thead>\n",
       "    <tr style=\"text-align: right;\">\n",
       "      <th></th>\n",
       "      <th>A</th>\n",
       "      <th>B</th>\n",
       "      <th>C</th>\n",
       "      <th>D</th>\n",
       "    </tr>\n",
       "  </thead>\n",
       "  <tbody>\n",
       "    <tr>\n",
       "      <th>count</th>\n",
       "      <td>7.000000</td>\n",
       "      <td>7.000000</td>\n",
       "      <td>7.000000</td>\n",
       "      <td>7.000000</td>\n",
       "    </tr>\n",
       "    <tr>\n",
       "      <th>mean</th>\n",
       "      <td>-0.752682</td>\n",
       "      <td>0.001710</td>\n",
       "      <td>-0.022270</td>\n",
       "      <td>-0.743734</td>\n",
       "    </tr>\n",
       "    <tr>\n",
       "      <th>std</th>\n",
       "      <td>1.361325</td>\n",
       "      <td>1.198190</td>\n",
       "      <td>1.156581</td>\n",
       "      <td>1.290570</td>\n",
       "    </tr>\n",
       "    <tr>\n",
       "      <th>min</th>\n",
       "      <td>-2.006617</td>\n",
       "      <td>-1.475710</td>\n",
       "      <td>-1.628818</td>\n",
       "      <td>-2.653799</td>\n",
       "    </tr>\n",
       "    <tr>\n",
       "      <th>25%</th>\n",
       "      <td>-1.880823</td>\n",
       "      <td>-0.758052</td>\n",
       "      <td>-0.832923</td>\n",
       "      <td>-1.503630</td>\n",
       "    </tr>\n",
       "    <tr>\n",
       "      <th>50%</th>\n",
       "      <td>-0.862254</td>\n",
       "      <td>-0.059957</td>\n",
       "      <td>-0.035573</td>\n",
       "      <td>-0.701205</td>\n",
       "    </tr>\n",
       "    <tr>\n",
       "      <th>75%</th>\n",
       "      <td>-0.070995</td>\n",
       "      <td>0.451889</td>\n",
       "      <td>0.838845</td>\n",
       "      <td>-0.010342</td>\n",
       "    </tr>\n",
       "    <tr>\n",
       "      <th>max</th>\n",
       "      <td>1.503732</td>\n",
       "      <td>2.159966</td>\n",
       "      <td>1.496657</td>\n",
       "      <td>1.176813</td>\n",
       "    </tr>\n",
       "  </tbody>\n",
       "</table>\n",
       "</div>"
      ],
      "text/plain": [
       "              A         B         C         D\n",
       "count  7.000000  7.000000  7.000000  7.000000\n",
       "mean  -0.752682  0.001710 -0.022270 -0.743734\n",
       "std    1.361325  1.198190  1.156581  1.290570\n",
       "min   -2.006617 -1.475710 -1.628818 -2.653799\n",
       "25%   -1.880823 -0.758052 -0.832923 -1.503630\n",
       "50%   -0.862254 -0.059957 -0.035573 -0.701205\n",
       "75%   -0.070995  0.451889  0.838845 -0.010342\n",
       "max    1.503732  2.159966  1.496657  1.176813"
      ]
     },
     "execution_count": 22,
     "metadata": {},
     "output_type": "execute_result"
    }
   ],
   "source": [
    "# 통계요약 : 개수, 평균, 표준편차, 최소, 25%, 50%, 75%, 최대\n",
    "df.describe()"
   ]
  },
  {
   "cell_type": "code",
   "execution_count": 23,
   "metadata": {},
   "outputs": [
    {
     "data": {
      "text/html": [
       "<div>\n",
       "<style scoped>\n",
       "    .dataframe tbody tr th:only-of-type {\n",
       "        vertical-align: middle;\n",
       "    }\n",
       "\n",
       "    .dataframe tbody tr th {\n",
       "        vertical-align: top;\n",
       "    }\n",
       "\n",
       "    .dataframe thead th {\n",
       "        text-align: right;\n",
       "    }\n",
       "</style>\n",
       "<table border=\"1\" class=\"dataframe\">\n",
       "  <thead>\n",
       "    <tr style=\"text-align: right;\">\n",
       "      <th></th>\n",
       "      <th>A</th>\n",
       "      <th>B</th>\n",
       "      <th>C</th>\n",
       "      <th>D</th>\n",
       "    </tr>\n",
       "  </thead>\n",
       "  <tbody>\n",
       "    <tr>\n",
       "      <th>2019-08-16</th>\n",
       "      <td>-1.755391</td>\n",
       "      <td>2.159966</td>\n",
       "      <td>1.251023</td>\n",
       "      <td>-0.701205</td>\n",
       "    </tr>\n",
       "    <tr>\n",
       "      <th>2019-08-17</th>\n",
       "      <td>-0.862254</td>\n",
       "      <td>0.648195</td>\n",
       "      <td>-0.035573</td>\n",
       "      <td>-0.230709</td>\n",
       "    </tr>\n",
       "    <tr>\n",
       "      <th>2019-08-18</th>\n",
       "      <td>1.503732</td>\n",
       "      <td>0.255584</td>\n",
       "      <td>1.496657</td>\n",
       "      <td>1.176813</td>\n",
       "    </tr>\n",
       "    <tr>\n",
       "      <th>2019-08-12</th>\n",
       "      <td>-0.755544</td>\n",
       "      <td>-0.059957</td>\n",
       "      <td>0.426666</td>\n",
       "      <td>-1.099261</td>\n",
       "    </tr>\n",
       "    <tr>\n",
       "      <th>2019-08-14</th>\n",
       "      <td>-2.006617</td>\n",
       "      <td>-0.500711</td>\n",
       "      <td>-1.628818</td>\n",
       "      <td>-1.907998</td>\n",
       "    </tr>\n",
       "    <tr>\n",
       "      <th>2019-08-13</th>\n",
       "      <td>0.613554</td>\n",
       "      <td>-1.015393</td>\n",
       "      <td>-0.815164</td>\n",
       "      <td>-2.653799</td>\n",
       "    </tr>\n",
       "    <tr>\n",
       "      <th>2019-08-15</th>\n",
       "      <td>-2.006255</td>\n",
       "      <td>-1.475710</td>\n",
       "      <td>-0.850681</td>\n",
       "      <td>0.210025</td>\n",
       "    </tr>\n",
       "  </tbody>\n",
       "</table>\n",
       "</div>"
      ],
      "text/plain": [
       "                   A         B         C         D\n",
       "2019-08-16 -1.755391  2.159966  1.251023 -0.701205\n",
       "2019-08-17 -0.862254  0.648195 -0.035573 -0.230709\n",
       "2019-08-18  1.503732  0.255584  1.496657  1.176813\n",
       "2019-08-12 -0.755544 -0.059957  0.426666 -1.099261\n",
       "2019-08-14 -2.006617 -0.500711 -1.628818 -1.907998\n",
       "2019-08-13  0.613554 -1.015393 -0.815164 -2.653799\n",
       "2019-08-15 -2.006255 -1.475710 -0.850681  0.210025"
      ]
     },
     "execution_count": 23,
     "metadata": {},
     "output_type": "execute_result"
    }
   ],
   "source": [
    "# B열 기준 데이터를 정렬, 내림차순\n",
    "df.sort_values(by='B', ascending=False)"
   ]
  },
  {
   "cell_type": "code",
   "execution_count": 25,
   "metadata": {},
   "outputs": [
    {
     "data": {
      "text/plain": [
       "(2019-08-12    0.426666\n",
       " 2019-08-13   -0.815164\n",
       " 2019-08-14   -1.628818\n",
       " 2019-08-15   -0.850681\n",
       " 2019-08-16    1.251023\n",
       " 2019-08-17   -0.035573\n",
       " 2019-08-18    1.496657\n",
       " Freq: D, Name: C, dtype: float64, pandas.core.series.Series)"
      ]
     },
     "execution_count": 25,
     "metadata": {},
     "output_type": "execute_result"
    }
   ],
   "source": [
    "# 특정 컬럼의 데이터만 보기 -> 인덱싱 -> 차원 축소\n",
    "df['C'], type(df['C'])   # DataFrame을 인덱싱하면 Series"
   ]
  },
  {
   "cell_type": "code",
   "execution_count": 26,
   "metadata": {},
   "outputs": [
    {
     "data": {
      "text/html": [
       "<div>\n",
       "<style scoped>\n",
       "    .dataframe tbody tr th:only-of-type {\n",
       "        vertical-align: middle;\n",
       "    }\n",
       "\n",
       "    .dataframe tbody tr th {\n",
       "        vertical-align: top;\n",
       "    }\n",
       "\n",
       "    .dataframe thead th {\n",
       "        text-align: right;\n",
       "    }\n",
       "</style>\n",
       "<table border=\"1\" class=\"dataframe\">\n",
       "  <thead>\n",
       "    <tr style=\"text-align: right;\">\n",
       "      <th></th>\n",
       "      <th>A</th>\n",
       "      <th>B</th>\n",
       "      <th>C</th>\n",
       "      <th>D</th>\n",
       "    </tr>\n",
       "  </thead>\n",
       "  <tbody>\n",
       "    <tr>\n",
       "      <th>2019-08-13</th>\n",
       "      <td>0.613554</td>\n",
       "      <td>-1.015393</td>\n",
       "      <td>-0.815164</td>\n",
       "      <td>-2.653799</td>\n",
       "    </tr>\n",
       "    <tr>\n",
       "      <th>2019-08-14</th>\n",
       "      <td>-2.006617</td>\n",
       "      <td>-0.500711</td>\n",
       "      <td>-1.628818</td>\n",
       "      <td>-1.907998</td>\n",
       "    </tr>\n",
       "  </tbody>\n",
       "</table>\n",
       "</div>"
      ],
      "text/plain": [
       "                   A         B         C         D\n",
       "2019-08-13  0.613554 -1.015393 -0.815164 -2.653799\n",
       "2019-08-14 -2.006617 -0.500711 -1.628818 -1.907998"
      ]
     },
     "execution_count": 26,
     "metadata": {},
     "output_type": "execute_result"
    }
   ],
   "source": [
    "# 데이터가 슬라이싱되어 나온다 -> 차원을 유지해야 하니까\n",
    "# a <= x < b\n",
    "df[1:3]"
   ]
  },
  {
   "cell_type": "code",
   "execution_count": 27,
   "metadata": {},
   "outputs": [
    {
     "data": {
      "text/html": [
       "<div>\n",
       "<style scoped>\n",
       "    .dataframe tbody tr th:only-of-type {\n",
       "        vertical-align: middle;\n",
       "    }\n",
       "\n",
       "    .dataframe tbody tr th {\n",
       "        vertical-align: top;\n",
       "    }\n",
       "\n",
       "    .dataframe thead th {\n",
       "        text-align: right;\n",
       "    }\n",
       "</style>\n",
       "<table border=\"1\" class=\"dataframe\">\n",
       "  <thead>\n",
       "    <tr style=\"text-align: right;\">\n",
       "      <th></th>\n",
       "      <th>A</th>\n",
       "      <th>B</th>\n",
       "      <th>C</th>\n",
       "      <th>D</th>\n",
       "    </tr>\n",
       "  </thead>\n",
       "  <tbody>\n",
       "    <tr>\n",
       "      <th>2019-08-13</th>\n",
       "      <td>0.613554</td>\n",
       "      <td>-1.015393</td>\n",
       "      <td>-0.815164</td>\n",
       "      <td>-2.653799</td>\n",
       "    </tr>\n",
       "    <tr>\n",
       "      <th>2019-08-14</th>\n",
       "      <td>-2.006617</td>\n",
       "      <td>-0.500711</td>\n",
       "      <td>-1.628818</td>\n",
       "      <td>-1.907998</td>\n",
       "    </tr>\n",
       "    <tr>\n",
       "      <th>2019-08-15</th>\n",
       "      <td>-2.006255</td>\n",
       "      <td>-1.475710</td>\n",
       "      <td>-0.850681</td>\n",
       "      <td>0.210025</td>\n",
       "    </tr>\n",
       "  </tbody>\n",
       "</table>\n",
       "</div>"
      ],
      "text/plain": [
       "                   A         B         C         D\n",
       "2019-08-13  0.613554 -1.015393 -0.815164 -2.653799\n",
       "2019-08-14 -2.006617 -0.500711 -1.628818 -1.907998\n",
       "2019-08-15 -2.006255 -1.475710 -0.850681  0.210025"
      ]
     },
     "execution_count": 27,
     "metadata": {},
     "output_type": "execute_result"
    }
   ],
   "source": [
    "# 슬라이싱을 하는데 인덱스값이 아닌 실제값으로 자르기\n",
    "# a <= x <= b\n",
    "df['2019-08-13':'2019-08-15']"
   ]
  },
  {
   "cell_type": "markdown",
   "metadata": {},
   "source": [
    "### loc\n",
    "\n",
    "- 전통적인 인덱싱과 슬라이싱을 진행하면 표현의 한계점에 도달\n",
    "- 이를 극복하기 위해서 pandas만의 데이터 추출법이 추가되었다.\n",
    "- loc, iloc ← 2개를 주로 사용한다\n",
    "- 연속 데이터 추출 ↔ 비연속 데이터 추출(펜시인덱싱, 쿼리수행 등)"
   ]
  },
  {
   "cell_type": "code",
   "execution_count": 28,
   "metadata": {},
   "outputs": [
    {
     "data": {
      "text/plain": [
       "(A   -0.755544\n",
       " B   -0.059957\n",
       " C    0.426666\n",
       " D   -1.099261\n",
       " Name: 2019-08-12 00:00:00, dtype: float64, pandas.core.series.Series)"
      ]
     },
     "execution_count": 28,
     "metadata": {},
     "output_type": "execute_result"
    }
   ],
   "source": [
    "# loc : location 정보를 옵션으로 하여 슬라이싱 지원\n",
    "# loc을 통한 데이터 추출\n",
    "# df.loc[ 인덱스명 ]   // ()가 아닌 []임에 주의!!\n",
    "df.loc['2019-08-12'], type(df.loc['2019-08-12'])"
   ]
  },
  {
   "cell_type": "code",
   "execution_count": 29,
   "metadata": {},
   "outputs": [
    {
     "data": {
      "text/html": [
       "<div>\n",
       "<style scoped>\n",
       "    .dataframe tbody tr th:only-of-type {\n",
       "        vertical-align: middle;\n",
       "    }\n",
       "\n",
       "    .dataframe tbody tr th {\n",
       "        vertical-align: top;\n",
       "    }\n",
       "\n",
       "    .dataframe thead th {\n",
       "        text-align: right;\n",
       "    }\n",
       "</style>\n",
       "<table border=\"1\" class=\"dataframe\">\n",
       "  <thead>\n",
       "    <tr style=\"text-align: right;\">\n",
       "      <th></th>\n",
       "      <th>A</th>\n",
       "      <th>B</th>\n",
       "      <th>C</th>\n",
       "      <th>D</th>\n",
       "    </tr>\n",
       "  </thead>\n",
       "  <tbody>\n",
       "    <tr>\n",
       "      <th>2019-08-12</th>\n",
       "      <td>-0.755544</td>\n",
       "      <td>-0.059957</td>\n",
       "      <td>0.426666</td>\n",
       "      <td>-1.099261</td>\n",
       "    </tr>\n",
       "    <tr>\n",
       "      <th>2019-08-13</th>\n",
       "      <td>0.613554</td>\n",
       "      <td>-1.015393</td>\n",
       "      <td>-0.815164</td>\n",
       "      <td>-2.653799</td>\n",
       "    </tr>\n",
       "    <tr>\n",
       "      <th>2019-08-14</th>\n",
       "      <td>-2.006617</td>\n",
       "      <td>-0.500711</td>\n",
       "      <td>-1.628818</td>\n",
       "      <td>-1.907998</td>\n",
       "    </tr>\n",
       "    <tr>\n",
       "      <th>2019-08-15</th>\n",
       "      <td>-2.006255</td>\n",
       "      <td>-1.475710</td>\n",
       "      <td>-0.850681</td>\n",
       "      <td>0.210025</td>\n",
       "    </tr>\n",
       "    <tr>\n",
       "      <th>2019-08-16</th>\n",
       "      <td>-1.755391</td>\n",
       "      <td>2.159966</td>\n",
       "      <td>1.251023</td>\n",
       "      <td>-0.701205</td>\n",
       "    </tr>\n",
       "    <tr>\n",
       "      <th>2019-08-17</th>\n",
       "      <td>-0.862254</td>\n",
       "      <td>0.648195</td>\n",
       "      <td>-0.035573</td>\n",
       "      <td>-0.230709</td>\n",
       "    </tr>\n",
       "    <tr>\n",
       "      <th>2019-08-18</th>\n",
       "      <td>1.503732</td>\n",
       "      <td>0.255584</td>\n",
       "      <td>1.496657</td>\n",
       "      <td>1.176813</td>\n",
       "    </tr>\n",
       "  </tbody>\n",
       "</table>\n",
       "</div>"
      ],
      "text/plain": [
       "                   A         B         C         D\n",
       "2019-08-12 -0.755544 -0.059957  0.426666 -1.099261\n",
       "2019-08-13  0.613554 -1.015393 -0.815164 -2.653799\n",
       "2019-08-14 -2.006617 -0.500711 -1.628818 -1.907998\n",
       "2019-08-15 -2.006255 -1.475710 -0.850681  0.210025\n",
       "2019-08-16 -1.755391  2.159966  1.251023 -0.701205\n",
       "2019-08-17 -0.862254  0.648195 -0.035573 -0.230709\n",
       "2019-08-18  1.503732  0.255584  1.496657  1.176813"
      ]
     },
     "execution_count": 29,
     "metadata": {},
     "output_type": "execute_result"
    }
   ],
   "source": [
    "# 원본 copy\n",
    "df[:]"
   ]
  },
  {
   "cell_type": "code",
   "execution_count": 30,
   "metadata": {},
   "outputs": [
    {
     "data": {
      "text/html": [
       "<div>\n",
       "<style scoped>\n",
       "    .dataframe tbody tr th:only-of-type {\n",
       "        vertical-align: middle;\n",
       "    }\n",
       "\n",
       "    .dataframe tbody tr th {\n",
       "        vertical-align: top;\n",
       "    }\n",
       "\n",
       "    .dataframe thead th {\n",
       "        text-align: right;\n",
       "    }\n",
       "</style>\n",
       "<table border=\"1\" class=\"dataframe\">\n",
       "  <thead>\n",
       "    <tr style=\"text-align: right;\">\n",
       "      <th></th>\n",
       "      <th>A</th>\n",
       "      <th>C</th>\n",
       "    </tr>\n",
       "  </thead>\n",
       "  <tbody>\n",
       "    <tr>\n",
       "      <th>2019-08-12</th>\n",
       "      <td>-0.755544</td>\n",
       "      <td>0.426666</td>\n",
       "    </tr>\n",
       "    <tr>\n",
       "      <th>2019-08-13</th>\n",
       "      <td>0.613554</td>\n",
       "      <td>-0.815164</td>\n",
       "    </tr>\n",
       "    <tr>\n",
       "      <th>2019-08-14</th>\n",
       "      <td>-2.006617</td>\n",
       "      <td>-1.628818</td>\n",
       "    </tr>\n",
       "    <tr>\n",
       "      <th>2019-08-15</th>\n",
       "      <td>-2.006255</td>\n",
       "      <td>-0.850681</td>\n",
       "    </tr>\n",
       "    <tr>\n",
       "      <th>2019-08-16</th>\n",
       "      <td>-1.755391</td>\n",
       "      <td>1.251023</td>\n",
       "    </tr>\n",
       "    <tr>\n",
       "      <th>2019-08-17</th>\n",
       "      <td>-0.862254</td>\n",
       "      <td>-0.035573</td>\n",
       "    </tr>\n",
       "    <tr>\n",
       "      <th>2019-08-18</th>\n",
       "      <td>1.503732</td>\n",
       "      <td>1.496657</td>\n",
       "    </tr>\n",
       "  </tbody>\n",
       "</table>\n",
       "</div>"
      ],
      "text/plain": [
       "                   A         C\n",
       "2019-08-12 -0.755544  0.426666\n",
       "2019-08-13  0.613554 -0.815164\n",
       "2019-08-14 -2.006617 -1.628818\n",
       "2019-08-15 -2.006255 -0.850681\n",
       "2019-08-16 -1.755391  1.251023\n",
       "2019-08-17 -0.862254 -0.035573\n",
       "2019-08-18  1.503732  1.496657"
      ]
     },
     "execution_count": 30,
     "metadata": {},
     "output_type": "execute_result"
    }
   ],
   "source": [
    "# 인덱스는 전부 포함시키고(1차원), 컬럼은 A, C만 포함(2차원)\n",
    "df.loc[:, ['A', 'C']]"
   ]
  },
  {
   "cell_type": "code",
   "execution_count": 34,
   "metadata": {},
   "outputs": [
    {
     "data": {
      "text/plain": [
       "2019-08-12   -0.755544\n",
       "2019-08-13    0.613554\n",
       "2019-08-14   -2.006617\n",
       "2019-08-15   -2.006255\n",
       "2019-08-16   -1.755391\n",
       "2019-08-17   -0.862254\n",
       "2019-08-18    1.503732\n",
       "Freq: D, Name: A, dtype: float64"
      ]
     },
     "execution_count": 34,
     "metadata": {},
     "output_type": "execute_result"
    }
   ],
   "source": [
    "# 차원을 축소하고 싶다면\n",
    "df.loc[:, 'A']"
   ]
  },
  {
   "cell_type": "code",
   "execution_count": 35,
   "metadata": {},
   "outputs": [
    {
     "data": {
      "text/plain": [
       "pandas.core.series.Series"
      ]
     },
     "execution_count": 35,
     "metadata": {},
     "output_type": "execute_result"
    }
   ],
   "source": [
    "type(df.loc[ : , 'A'])"
   ]
  },
  {
   "cell_type": "code",
   "execution_count": 36,
   "metadata": {},
   "outputs": [
    {
     "data": {
      "text/html": [
       "<div>\n",
       "<style scoped>\n",
       "    .dataframe tbody tr th:only-of-type {\n",
       "        vertical-align: middle;\n",
       "    }\n",
       "\n",
       "    .dataframe tbody tr th {\n",
       "        vertical-align: top;\n",
       "    }\n",
       "\n",
       "    .dataframe thead th {\n",
       "        text-align: right;\n",
       "    }\n",
       "</style>\n",
       "<table border=\"1\" class=\"dataframe\">\n",
       "  <thead>\n",
       "    <tr style=\"text-align: right;\">\n",
       "      <th></th>\n",
       "      <th>A</th>\n",
       "    </tr>\n",
       "  </thead>\n",
       "  <tbody>\n",
       "    <tr>\n",
       "      <th>2019-08-12</th>\n",
       "      <td>-0.755544</td>\n",
       "    </tr>\n",
       "    <tr>\n",
       "      <th>2019-08-13</th>\n",
       "      <td>0.613554</td>\n",
       "    </tr>\n",
       "    <tr>\n",
       "      <th>2019-08-14</th>\n",
       "      <td>-2.006617</td>\n",
       "    </tr>\n",
       "    <tr>\n",
       "      <th>2019-08-15</th>\n",
       "      <td>-2.006255</td>\n",
       "    </tr>\n",
       "    <tr>\n",
       "      <th>2019-08-16</th>\n",
       "      <td>-1.755391</td>\n",
       "    </tr>\n",
       "    <tr>\n",
       "      <th>2019-08-17</th>\n",
       "      <td>-0.862254</td>\n",
       "    </tr>\n",
       "    <tr>\n",
       "      <th>2019-08-18</th>\n",
       "      <td>1.503732</td>\n",
       "    </tr>\n",
       "  </tbody>\n",
       "</table>\n",
       "</div>"
      ],
      "text/plain": [
       "                   A\n",
       "2019-08-12 -0.755544\n",
       "2019-08-13  0.613554\n",
       "2019-08-14 -2.006617\n",
       "2019-08-15 -2.006255\n",
       "2019-08-16 -1.755391\n",
       "2019-08-17 -0.862254\n",
       "2019-08-18  1.503732"
      ]
     },
     "execution_count": 36,
     "metadata": {},
     "output_type": "execute_result"
    }
   ],
   "source": [
    "# 차원을 유지하고 싶다면\n",
    "df.loc[:, ['A']]"
   ]
  },
  {
   "cell_type": "code",
   "execution_count": 37,
   "metadata": {},
   "outputs": [
    {
     "data": {
      "text/plain": [
       "pandas.core.frame.DataFrame"
      ]
     },
     "execution_count": 37,
     "metadata": {},
     "output_type": "execute_result"
    }
   ],
   "source": [
    "type(df.loc[ : , ['A']])"
   ]
  },
  {
   "cell_type": "code",
   "execution_count": 38,
   "metadata": {},
   "outputs": [
    {
     "data": {
      "text/html": [
       "<div>\n",
       "<style scoped>\n",
       "    .dataframe tbody tr th:only-of-type {\n",
       "        vertical-align: middle;\n",
       "    }\n",
       "\n",
       "    .dataframe tbody tr th {\n",
       "        vertical-align: top;\n",
       "    }\n",
       "\n",
       "    .dataframe thead th {\n",
       "        text-align: right;\n",
       "    }\n",
       "</style>\n",
       "<table border=\"1\" class=\"dataframe\">\n",
       "  <thead>\n",
       "    <tr style=\"text-align: right;\">\n",
       "      <th></th>\n",
       "      <th>A</th>\n",
       "      <th>C</th>\n",
       "    </tr>\n",
       "  </thead>\n",
       "  <tbody>\n",
       "    <tr>\n",
       "      <th>2019-08-13</th>\n",
       "      <td>0.613554</td>\n",
       "      <td>-0.815164</td>\n",
       "    </tr>\n",
       "    <tr>\n",
       "      <th>2019-08-14</th>\n",
       "      <td>-2.006617</td>\n",
       "      <td>-1.628818</td>\n",
       "    </tr>\n",
       "    <tr>\n",
       "      <th>2019-08-15</th>\n",
       "      <td>-2.006255</td>\n",
       "      <td>-0.850681</td>\n",
       "    </tr>\n",
       "  </tbody>\n",
       "</table>\n",
       "</div>"
      ],
      "text/plain": [
       "                   A         C\n",
       "2019-08-13  0.613554 -0.815164\n",
       "2019-08-14 -2.006617 -1.628818\n",
       "2019-08-15 -2.006255 -0.850681"
      ]
     },
     "execution_count": 38,
     "metadata": {},
     "output_type": "execute_result"
    }
   ],
   "source": [
    "df.loc['2019-08-13' :'2019-08-15' , ['A', 'C'] ]"
   ]
  },
  {
   "cell_type": "code",
   "execution_count": 39,
   "metadata": {},
   "outputs": [
    {
     "data": {
      "text/plain": [
       "A    0.613554\n",
       "C   -0.815164\n",
       "Name: 2019-08-13 00:00:00, dtype: float64"
      ]
     },
     "execution_count": 39,
     "metadata": {},
     "output_type": "execute_result"
    }
   ],
   "source": [
    "# 차원 축소 -> 인덱스를 한 개만 지정\n",
    "df.loc['2019-08-13' , ['A', 'C'] ]"
   ]
  },
  {
   "cell_type": "code",
   "execution_count": null,
   "metadata": {},
   "outputs": [],
   "source": [
    "# error : 인덱스에 [] 하면 에러 발생\n",
    "# df.loc[['2019-08-13'] , ['A', 'C'] ]\n",
    "# df.loc[['2019-08-13' : '2019-08-13'] , ['A', 'C'] ]"
   ]
  },
  {
   "cell_type": "code",
   "execution_count": 41,
   "metadata": {},
   "outputs": [
    {
     "data": {
      "text/html": [
       "<div>\n",
       "<style scoped>\n",
       "    .dataframe tbody tr th:only-of-type {\n",
       "        vertical-align: middle;\n",
       "    }\n",
       "\n",
       "    .dataframe tbody tr th {\n",
       "        vertical-align: top;\n",
       "    }\n",
       "\n",
       "    .dataframe thead th {\n",
       "        text-align: right;\n",
       "    }\n",
       "</style>\n",
       "<table border=\"1\" class=\"dataframe\">\n",
       "  <thead>\n",
       "    <tr style=\"text-align: right;\">\n",
       "      <th></th>\n",
       "      <th>A</th>\n",
       "      <th>C</th>\n",
       "    </tr>\n",
       "  </thead>\n",
       "  <tbody>\n",
       "    <tr>\n",
       "      <th>2019-08-13</th>\n",
       "      <td>0.613554</td>\n",
       "      <td>-0.815164</td>\n",
       "    </tr>\n",
       "  </tbody>\n",
       "</table>\n",
       "</div>"
      ],
      "text/plain": [
       "                   A         C\n",
       "2019-08-13  0.613554 -0.815164"
      ]
     },
     "execution_count": 41,
     "metadata": {},
     "output_type": "execute_result"
    }
   ],
   "source": [
    "df.loc['2019-08-13' :'2019-08-13' , ['A', 'C'] ]"
   ]
  },
  {
   "cell_type": "code",
   "execution_count": 42,
   "metadata": {},
   "outputs": [
    {
     "data": {
      "text/plain": [
       "0.613553500610859"
      ]
     },
     "execution_count": 42,
     "metadata": {},
     "output_type": "execute_result"
    }
   ],
   "source": [
    "# 차원축소가 2회 진행 -> 스칼라(값)\n",
    "df.loc['2019-08-13', 'A']"
   ]
  },
  {
   "cell_type": "markdown",
   "metadata": {},
   "source": [
    "### iloc\n",
    "\n",
    "- 펜시인덱싱과 유사\n",
    "- 행과 열의 번호를 이용하여 데이터에 접근하는 방식\n",
    "- i → index"
   ]
  },
  {
   "cell_type": "code",
   "execution_count": 43,
   "metadata": {},
   "outputs": [
    {
     "data": {
      "text/plain": [
       "A    0.613554\n",
       "B   -1.015393\n",
       "C   -0.815164\n",
       "D   -2.653799\n",
       "Name: 2019-08-13 00:00:00, dtype: float64"
      ]
     },
     "execution_count": 43,
     "metadata": {},
     "output_type": "execute_result"
    }
   ],
   "source": [
    "# 인덱스 값이 1인 데이터\n",
    "df.iloc[1]"
   ]
  },
  {
   "cell_type": "code",
   "execution_count": 44,
   "metadata": {},
   "outputs": [
    {
     "data": {
      "text/html": [
       "<div>\n",
       "<style scoped>\n",
       "    .dataframe tbody tr th:only-of-type {\n",
       "        vertical-align: middle;\n",
       "    }\n",
       "\n",
       "    .dataframe tbody tr th {\n",
       "        vertical-align: top;\n",
       "    }\n",
       "\n",
       "    .dataframe thead th {\n",
       "        text-align: right;\n",
       "    }\n",
       "</style>\n",
       "<table border=\"1\" class=\"dataframe\">\n",
       "  <thead>\n",
       "    <tr style=\"text-align: right;\">\n",
       "      <th></th>\n",
       "      <th>B</th>\n",
       "      <th>C</th>\n",
       "    </tr>\n",
       "  </thead>\n",
       "  <tbody>\n",
       "    <tr>\n",
       "      <th>2019-08-13</th>\n",
       "      <td>-1.015393</td>\n",
       "      <td>-0.815164</td>\n",
       "    </tr>\n",
       "    <tr>\n",
       "      <th>2019-08-14</th>\n",
       "      <td>-0.500711</td>\n",
       "      <td>-1.628818</td>\n",
       "    </tr>\n",
       "  </tbody>\n",
       "</table>\n",
       "</div>"
      ],
      "text/plain": [
       "                   B         C\n",
       "2019-08-13 -1.015393 -0.815164\n",
       "2019-08-14 -0.500711 -1.628818"
      ]
     },
     "execution_count": 44,
     "metadata": {},
     "output_type": "execute_result"
    }
   ],
   "source": [
    "# iloc 슬라이싱\n",
    "# 경계값 미포함\n",
    "# a <= index < b, c <= column < d\n",
    "df.iloc[ 1:3 , 1:3 ]"
   ]
  },
  {
   "cell_type": "code",
   "execution_count": 45,
   "metadata": {},
   "outputs": [
    {
     "data": {
      "text/html": [
       "<div>\n",
       "<style scoped>\n",
       "    .dataframe tbody tr th:only-of-type {\n",
       "        vertical-align: middle;\n",
       "    }\n",
       "\n",
       "    .dataframe tbody tr th {\n",
       "        vertical-align: top;\n",
       "    }\n",
       "\n",
       "    .dataframe thead th {\n",
       "        text-align: right;\n",
       "    }\n",
       "</style>\n",
       "<table border=\"1\" class=\"dataframe\">\n",
       "  <thead>\n",
       "    <tr style=\"text-align: right;\">\n",
       "      <th></th>\n",
       "      <th>A</th>\n",
       "      <th>C</th>\n",
       "    </tr>\n",
       "  </thead>\n",
       "  <tbody>\n",
       "    <tr>\n",
       "      <th>2019-08-13</th>\n",
       "      <td>0.613554</td>\n",
       "      <td>-0.815164</td>\n",
       "    </tr>\n",
       "    <tr>\n",
       "      <th>2019-08-16</th>\n",
       "      <td>-1.755391</td>\n",
       "      <td>1.251023</td>\n",
       "    </tr>\n",
       "    <tr>\n",
       "      <th>2019-08-14</th>\n",
       "      <td>-2.006617</td>\n",
       "      <td>-1.628818</td>\n",
       "    </tr>\n",
       "  </tbody>\n",
       "</table>\n",
       "</div>"
      ],
      "text/plain": [
       "                   A         C\n",
       "2019-08-13  0.613554 -0.815164\n",
       "2019-08-16 -1.755391  1.251023\n",
       "2019-08-14 -2.006617 -1.628818"
      ]
     },
     "execution_count": 45,
     "metadata": {},
     "output_type": "execute_result"
    }
   ],
   "source": [
    "# iloc + 펜시인덱싱 기법 사용 (인덱스, 컬럼을 비연속적 위치를 나열)\n",
    "df.iloc[[1, 4, 2], [0, 2]]"
   ]
  },
  {
   "cell_type": "code",
   "execution_count": null,
   "metadata": {},
   "outputs": [],
   "source": [
    "# 특정 조건에 만족하는 데이터만 추출\n",
    "# 데이터프레임이 생성되면 컬럼명은 멤버 변수로 자동생성된다\n",
    "# 조건을 부여하여 boolean 데이터를 만들어 참만 포함시키는 방식 : boolean 인덱싱\n",
    "# ex) [ T, F, F, F, T, T, T ] 데이터를 and하면 참만 살아남아서 아래와 같은 결과를 발생\n",
    "# df에 식을 치면 -> 전체 구성원에 전부 다 연산이 진행된다\n",
    "# 행렬 (연산) 값 -> 각 구성원에 일일이 다 연산하는 것과 동일"
   ]
  },
  {
   "cell_type": "code",
   "execution_count": 46,
   "metadata": {},
   "outputs": [
    {
     "data": {
      "text/html": [
       "<div>\n",
       "<style scoped>\n",
       "    .dataframe tbody tr th:only-of-type {\n",
       "        vertical-align: middle;\n",
       "    }\n",
       "\n",
       "    .dataframe tbody tr th {\n",
       "        vertical-align: top;\n",
       "    }\n",
       "\n",
       "    .dataframe thead th {\n",
       "        text-align: right;\n",
       "    }\n",
       "</style>\n",
       "<table border=\"1\" class=\"dataframe\">\n",
       "  <thead>\n",
       "    <tr style=\"text-align: right;\">\n",
       "      <th></th>\n",
       "      <th>A</th>\n",
       "      <th>B</th>\n",
       "      <th>C</th>\n",
       "      <th>D</th>\n",
       "    </tr>\n",
       "  </thead>\n",
       "  <tbody>\n",
       "    <tr>\n",
       "      <th>2019-08-12</th>\n",
       "      <td>-0.755544</td>\n",
       "      <td>-0.059957</td>\n",
       "      <td>0.426666</td>\n",
       "      <td>-1.099261</td>\n",
       "    </tr>\n",
       "    <tr>\n",
       "      <th>2019-08-16</th>\n",
       "      <td>-1.755391</td>\n",
       "      <td>2.159966</td>\n",
       "      <td>1.251023</td>\n",
       "      <td>-0.701205</td>\n",
       "    </tr>\n",
       "    <tr>\n",
       "      <th>2019-08-18</th>\n",
       "      <td>1.503732</td>\n",
       "      <td>0.255584</td>\n",
       "      <td>1.496657</td>\n",
       "      <td>1.176813</td>\n",
       "    </tr>\n",
       "  </tbody>\n",
       "</table>\n",
       "</div>"
      ],
      "text/plain": [
       "                   A         B         C         D\n",
       "2019-08-12 -0.755544 -0.059957  0.426666 -1.099261\n",
       "2019-08-16 -1.755391  2.159966  1.251023 -0.701205\n",
       "2019-08-18  1.503732  0.255584  1.496657  1.176813"
      ]
     },
     "execution_count": 46,
     "metadata": {},
     "output_type": "execute_result"
    }
   ],
   "source": [
    "# C 컬럼에 존재하는 데이터 중에 양수만 (양수면 True, 0 이하면 False)\n",
    "df[df.C > 0]"
   ]
  },
  {
   "cell_type": "code",
   "execution_count": 47,
   "metadata": {},
   "outputs": [
    {
     "data": {
      "text/html": [
       "<div>\n",
       "<style scoped>\n",
       "    .dataframe tbody tr th:only-of-type {\n",
       "        vertical-align: middle;\n",
       "    }\n",
       "\n",
       "    .dataframe tbody tr th {\n",
       "        vertical-align: top;\n",
       "    }\n",
       "\n",
       "    .dataframe thead th {\n",
       "        text-align: right;\n",
       "    }\n",
       "</style>\n",
       "<table border=\"1\" class=\"dataframe\">\n",
       "  <thead>\n",
       "    <tr style=\"text-align: right;\">\n",
       "      <th></th>\n",
       "      <th>A</th>\n",
       "      <th>B</th>\n",
       "      <th>C</th>\n",
       "      <th>D</th>\n",
       "    </tr>\n",
       "  </thead>\n",
       "  <tbody>\n",
       "    <tr>\n",
       "      <th>2019-08-12</th>\n",
       "      <td>NaN</td>\n",
       "      <td>NaN</td>\n",
       "      <td>0.426666</td>\n",
       "      <td>NaN</td>\n",
       "    </tr>\n",
       "    <tr>\n",
       "      <th>2019-08-13</th>\n",
       "      <td>0.613554</td>\n",
       "      <td>NaN</td>\n",
       "      <td>NaN</td>\n",
       "      <td>NaN</td>\n",
       "    </tr>\n",
       "    <tr>\n",
       "      <th>2019-08-14</th>\n",
       "      <td>NaN</td>\n",
       "      <td>NaN</td>\n",
       "      <td>NaN</td>\n",
       "      <td>NaN</td>\n",
       "    </tr>\n",
       "    <tr>\n",
       "      <th>2019-08-15</th>\n",
       "      <td>NaN</td>\n",
       "      <td>NaN</td>\n",
       "      <td>NaN</td>\n",
       "      <td>0.210025</td>\n",
       "    </tr>\n",
       "    <tr>\n",
       "      <th>2019-08-16</th>\n",
       "      <td>NaN</td>\n",
       "      <td>2.159966</td>\n",
       "      <td>1.251023</td>\n",
       "      <td>NaN</td>\n",
       "    </tr>\n",
       "    <tr>\n",
       "      <th>2019-08-17</th>\n",
       "      <td>NaN</td>\n",
       "      <td>0.648195</td>\n",
       "      <td>NaN</td>\n",
       "      <td>NaN</td>\n",
       "    </tr>\n",
       "    <tr>\n",
       "      <th>2019-08-18</th>\n",
       "      <td>1.503732</td>\n",
       "      <td>0.255584</td>\n",
       "      <td>1.496657</td>\n",
       "      <td>1.176813</td>\n",
       "    </tr>\n",
       "  </tbody>\n",
       "</table>\n",
       "</div>"
      ],
      "text/plain": [
       "                   A         B         C         D\n",
       "2019-08-12       NaN       NaN  0.426666       NaN\n",
       "2019-08-13  0.613554       NaN       NaN       NaN\n",
       "2019-08-14       NaN       NaN       NaN       NaN\n",
       "2019-08-15       NaN       NaN       NaN  0.210025\n",
       "2019-08-16       NaN  2.159966  1.251023       NaN\n",
       "2019-08-17       NaN  0.648195       NaN       NaN\n",
       "2019-08-18  1.503732  0.255584  1.496657  1.176813"
      ]
     },
     "execution_count": 47,
     "metadata": {},
     "output_type": "execute_result"
    }
   ],
   "source": [
    "# 데이터 전체를 기준으로 0보다 큰가?\n",
    "# 0보다 같거나 작은 데이터들은 NaN으로 대체된다.\n",
    "df[df > 0]"
   ]
  },
  {
   "cell_type": "code",
   "execution_count": 48,
   "metadata": {},
   "outputs": [
    {
     "data": {
      "text/plain": [
       "(                   A         B         C         D\n",
       " 2019-08-12 -0.755544 -0.059957  0.426666 -1.099261\n",
       " 2019-08-13  0.613554 -1.015393 -0.815164 -2.653799\n",
       " 2019-08-14 -2.006617 -0.500711 -1.628818 -1.907998\n",
       " 2019-08-15 -2.006255 -1.475710 -0.850681  0.210025\n",
       " 2019-08-16 -1.755391  2.159966  1.251023 -0.701205\n",
       " 2019-08-17 -0.862254  0.648195 -0.035573 -0.230709\n",
       " 2019-08-18  1.503732  0.255584  1.496657  1.176813,\n",
       "                    A         B         C         D\n",
       " 2019-08-12 -0.755544 -0.059957  0.426666 -1.099261\n",
       " 2019-08-13  0.613554 -1.015393 -0.815164 -2.653799\n",
       " 2019-08-14 -2.006617 -0.500711 -1.628818 -1.907998\n",
       " 2019-08-15 -2.006255 -1.475710 -0.850681  0.210025\n",
       " 2019-08-16 -1.755391  2.159966  1.251023 -0.701205\n",
       " 2019-08-17 -0.862254  0.648195 -0.035573 -0.230709\n",
       " 2019-08-18  1.503732  0.255584  1.496657  1.176813)"
      ]
     },
     "execution_count": 48,
     "metadata": {},
     "output_type": "execute_result"
    }
   ],
   "source": [
    "# 복사(2가지)\n",
    "df[:], df.copy()"
   ]
  },
  {
   "cell_type": "code",
   "execution_count": 49,
   "metadata": {},
   "outputs": [
    {
     "data": {
      "text/html": [
       "<div>\n",
       "<style scoped>\n",
       "    .dataframe tbody tr th:only-of-type {\n",
       "        vertical-align: middle;\n",
       "    }\n",
       "\n",
       "    .dataframe tbody tr th {\n",
       "        vertical-align: top;\n",
       "    }\n",
       "\n",
       "    .dataframe thead th {\n",
       "        text-align: right;\n",
       "    }\n",
       "</style>\n",
       "<table border=\"1\" class=\"dataframe\">\n",
       "  <thead>\n",
       "    <tr style=\"text-align: right;\">\n",
       "      <th></th>\n",
       "      <th>A</th>\n",
       "      <th>B</th>\n",
       "      <th>C</th>\n",
       "      <th>D</th>\n",
       "      <th>E</th>\n",
       "    </tr>\n",
       "  </thead>\n",
       "  <tbody>\n",
       "    <tr>\n",
       "      <th>2019-08-12</th>\n",
       "      <td>-0.755544</td>\n",
       "      <td>-0.059957</td>\n",
       "      <td>0.426666</td>\n",
       "      <td>-1.099261</td>\n",
       "      <td>one</td>\n",
       "    </tr>\n",
       "    <tr>\n",
       "      <th>2019-08-13</th>\n",
       "      <td>0.613554</td>\n",
       "      <td>-1.015393</td>\n",
       "      <td>-0.815164</td>\n",
       "      <td>-2.653799</td>\n",
       "      <td>one</td>\n",
       "    </tr>\n",
       "    <tr>\n",
       "      <th>2019-08-14</th>\n",
       "      <td>-2.006617</td>\n",
       "      <td>-0.500711</td>\n",
       "      <td>-1.628818</td>\n",
       "      <td>-1.907998</td>\n",
       "      <td>two</td>\n",
       "    </tr>\n",
       "    <tr>\n",
       "      <th>2019-08-15</th>\n",
       "      <td>-2.006255</td>\n",
       "      <td>-1.475710</td>\n",
       "      <td>-0.850681</td>\n",
       "      <td>0.210025</td>\n",
       "      <td>three</td>\n",
       "    </tr>\n",
       "    <tr>\n",
       "      <th>2019-08-16</th>\n",
       "      <td>-1.755391</td>\n",
       "      <td>2.159966</td>\n",
       "      <td>1.251023</td>\n",
       "      <td>-0.701205</td>\n",
       "      <td>four</td>\n",
       "    </tr>\n",
       "    <tr>\n",
       "      <th>2019-08-17</th>\n",
       "      <td>-0.862254</td>\n",
       "      <td>0.648195</td>\n",
       "      <td>-0.035573</td>\n",
       "      <td>-0.230709</td>\n",
       "      <td>three</td>\n",
       "    </tr>\n",
       "    <tr>\n",
       "      <th>2019-08-18</th>\n",
       "      <td>1.503732</td>\n",
       "      <td>0.255584</td>\n",
       "      <td>1.496657</td>\n",
       "      <td>1.176813</td>\n",
       "      <td>five</td>\n",
       "    </tr>\n",
       "  </tbody>\n",
       "</table>\n",
       "</div>"
      ],
      "text/plain": [
       "                   A         B         C         D      E\n",
       "2019-08-12 -0.755544 -0.059957  0.426666 -1.099261    one\n",
       "2019-08-13  0.613554 -1.015393 -0.815164 -2.653799    one\n",
       "2019-08-14 -2.006617 -0.500711 -1.628818 -1.907998    two\n",
       "2019-08-15 -2.006255 -1.475710 -0.850681  0.210025  three\n",
       "2019-08-16 -1.755391  2.159966  1.251023 -0.701205   four\n",
       "2019-08-17 -0.862254  0.648195 -0.035573 -0.230709  three\n",
       "2019-08-18  1.503732  0.255584  1.496657  1.176813   five"
      ]
     },
     "execution_count": 49,
     "metadata": {},
     "output_type": "execute_result"
    }
   ],
   "source": [
    "# 기존 데이터 df에 새로운 컬럼을 추가한다(아주 중요) -> 파생변수\n",
    "# 기존 df의 1차원과 동수의 데이터가 존재해야 한다\n",
    "# 데이터는 리스트 ok, Series도 ok\n",
    "new_data = ['one', 'one', 'two', 'three', 'four', 'three', 'five']\n",
    "# 데이터 추가\n",
    "# 대상[컬럼] = 데이터\n",
    "df['E'] = new_data\n",
    "df"
   ]
  },
  {
   "cell_type": "code",
   "execution_count": 50,
   "metadata": {},
   "outputs": [
    {
     "data": {
      "text/plain": [
       "2019-08-12    False\n",
       "2019-08-13    False\n",
       "2019-08-14     True\n",
       "2019-08-15    False\n",
       "2019-08-16     True\n",
       "2019-08-17    False\n",
       "2019-08-18    False\n",
       "Freq: D, Name: E, dtype: bool"
      ]
     },
     "execution_count": 50,
     "metadata": {},
     "output_type": "execute_result"
    }
   ],
   "source": [
    "# 데이터 조사\n",
    "# 안에 해당 값이 있는가?\n",
    "df['E'].isin(['two', 'four'])"
   ]
  },
  {
   "cell_type": "code",
   "execution_count": 51,
   "metadata": {},
   "outputs": [
    {
     "data": {
      "text/html": [
       "<div>\n",
       "<style scoped>\n",
       "    .dataframe tbody tr th:only-of-type {\n",
       "        vertical-align: middle;\n",
       "    }\n",
       "\n",
       "    .dataframe tbody tr th {\n",
       "        vertical-align: top;\n",
       "    }\n",
       "\n",
       "    .dataframe thead th {\n",
       "        text-align: right;\n",
       "    }\n",
       "</style>\n",
       "<table border=\"1\" class=\"dataframe\">\n",
       "  <thead>\n",
       "    <tr style=\"text-align: right;\">\n",
       "      <th></th>\n",
       "      <th>A</th>\n",
       "      <th>B</th>\n",
       "      <th>C</th>\n",
       "      <th>D</th>\n",
       "      <th>E</th>\n",
       "    </tr>\n",
       "  </thead>\n",
       "  <tbody>\n",
       "    <tr>\n",
       "      <th>2019-08-14</th>\n",
       "      <td>-2.006617</td>\n",
       "      <td>-0.500711</td>\n",
       "      <td>-1.628818</td>\n",
       "      <td>-1.907998</td>\n",
       "      <td>two</td>\n",
       "    </tr>\n",
       "    <tr>\n",
       "      <th>2019-08-16</th>\n",
       "      <td>-1.755391</td>\n",
       "      <td>2.159966</td>\n",
       "      <td>1.251023</td>\n",
       "      <td>-0.701205</td>\n",
       "      <td>four</td>\n",
       "    </tr>\n",
       "  </tbody>\n",
       "</table>\n",
       "</div>"
      ],
      "text/plain": [
       "                   A         B         C         D     E\n",
       "2019-08-14 -2.006617 -0.500711 -1.628818 -1.907998   two\n",
       "2019-08-16 -1.755391  2.159966  1.251023 -0.701205  four"
      ]
     },
     "execution_count": 51,
     "metadata": {},
     "output_type": "execute_result"
    }
   ],
   "source": [
    "# df에서 True인 값만 추출\n",
    "df[ df['E'].isin(['two', 'four']) ]"
   ]
  },
  {
   "cell_type": "code",
   "execution_count": 52,
   "metadata": {},
   "outputs": [
    {
     "data": {
      "text/html": [
       "<div>\n",
       "<style scoped>\n",
       "    .dataframe tbody tr th:only-of-type {\n",
       "        vertical-align: middle;\n",
       "    }\n",
       "\n",
       "    .dataframe tbody tr th {\n",
       "        vertical-align: top;\n",
       "    }\n",
       "\n",
       "    .dataframe thead th {\n",
       "        text-align: right;\n",
       "    }\n",
       "</style>\n",
       "<table border=\"1\" class=\"dataframe\">\n",
       "  <thead>\n",
       "    <tr style=\"text-align: right;\">\n",
       "      <th></th>\n",
       "      <th>A</th>\n",
       "      <th>B</th>\n",
       "      <th>C</th>\n",
       "      <th>D</th>\n",
       "      <th>E</th>\n",
       "    </tr>\n",
       "  </thead>\n",
       "  <tbody>\n",
       "    <tr>\n",
       "      <th>2019-08-12</th>\n",
       "      <td>-0.755544</td>\n",
       "      <td>-0.059957</td>\n",
       "      <td>0.426666</td>\n",
       "      <td>-1.099261</td>\n",
       "      <td>one</td>\n",
       "    </tr>\n",
       "    <tr>\n",
       "      <th>2019-08-13</th>\n",
       "      <td>-0.141990</td>\n",
       "      <td>-1.075350</td>\n",
       "      <td>-0.388497</td>\n",
       "      <td>-3.753060</td>\n",
       "      <td>oneone</td>\n",
       "    </tr>\n",
       "    <tr>\n",
       "      <th>2019-08-14</th>\n",
       "      <td>-2.148607</td>\n",
       "      <td>-1.576060</td>\n",
       "      <td>-2.017315</td>\n",
       "      <td>-5.661058</td>\n",
       "      <td>oneonetwo</td>\n",
       "    </tr>\n",
       "    <tr>\n",
       "      <th>2019-08-15</th>\n",
       "      <td>-4.154862</td>\n",
       "      <td>-3.051771</td>\n",
       "      <td>-2.867997</td>\n",
       "      <td>-5.451034</td>\n",
       "      <td>oneonetwothree</td>\n",
       "    </tr>\n",
       "    <tr>\n",
       "      <th>2019-08-16</th>\n",
       "      <td>-5.910253</td>\n",
       "      <td>-0.891805</td>\n",
       "      <td>-1.616974</td>\n",
       "      <td>-6.152239</td>\n",
       "      <td>oneonetwothreefour</td>\n",
       "    </tr>\n",
       "    <tr>\n",
       "      <th>2019-08-17</th>\n",
       "      <td>-6.772507</td>\n",
       "      <td>-0.243610</td>\n",
       "      <td>-1.652547</td>\n",
       "      <td>-6.382947</td>\n",
       "      <td>oneonetwothreefourthree</td>\n",
       "    </tr>\n",
       "    <tr>\n",
       "      <th>2019-08-18</th>\n",
       "      <td>-5.268775</td>\n",
       "      <td>0.011973</td>\n",
       "      <td>-0.155889</td>\n",
       "      <td>-5.206135</td>\n",
       "      <td>oneonetwothreefourthreefive</td>\n",
       "    </tr>\n",
       "  </tbody>\n",
       "</table>\n",
       "</div>"
      ],
      "text/plain": [
       "                   A         B         C         D  \\\n",
       "2019-08-12 -0.755544 -0.059957  0.426666 -1.099261   \n",
       "2019-08-13 -0.141990 -1.075350 -0.388497 -3.753060   \n",
       "2019-08-14 -2.148607 -1.576060 -2.017315 -5.661058   \n",
       "2019-08-15 -4.154862 -3.051771 -2.867997 -5.451034   \n",
       "2019-08-16 -5.910253 -0.891805 -1.616974 -6.152239   \n",
       "2019-08-17 -6.772507 -0.243610 -1.652547 -6.382947   \n",
       "2019-08-18 -5.268775  0.011973 -0.155889 -5.206135   \n",
       "\n",
       "                                      E  \n",
       "2019-08-12                          one  \n",
       "2019-08-13                       oneone  \n",
       "2019-08-14                    oneonetwo  \n",
       "2019-08-15               oneonetwothree  \n",
       "2019-08-16           oneonetwothreefour  \n",
       "2019-08-17      oneonetwothreefourthree  \n",
       "2019-08-18  oneonetwothreefourthreefive  "
      ]
     },
     "execution_count": 52,
     "metadata": {},
     "output_type": "execute_result"
    }
   ],
   "source": [
    "# 누적합\n",
    "# apply(함수를 표현) -> 멤버들을 다 건드린다\n",
    "df.apply(np.cumsum)"
   ]
  }
 ],
 "metadata": {
  "kernelspec": {
   "display_name": "Python 3",
   "language": "python",
   "name": "python3"
  },
  "language_info": {
   "codemirror_mode": {
    "name": "ipython",
    "version": 3
   },
   "file_extension": ".py",
   "mimetype": "text/x-python",
   "name": "python",
   "nbconvert_exporter": "python",
   "pygments_lexer": "ipython3",
   "version": "3.6.5"
  }
 },
 "nbformat": 4,
 "nbformat_minor": 2
}
