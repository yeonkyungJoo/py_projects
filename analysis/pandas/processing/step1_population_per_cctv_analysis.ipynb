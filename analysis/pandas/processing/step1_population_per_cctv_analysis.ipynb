{
 "cells": [
  {
   "cell_type": "markdown",
   "metadata": {},
   "source": [
    "## 서울시 기준, 자치구별 CCTV 현황, 인구현황 분석\n",
    "\n",
    "- 개별 데이터 분석\n",
    "- 상관성 분석\n",
    "- pandas 사용법 습득, 시각화 기초"
   ]
  },
  {
   "cell_type": "markdown",
   "metadata": {},
   "source": [
    "### 1. 데이터 수집(획득) 및 로드"
   ]
  },
  {
   "cell_type": "code",
   "execution_count": 145,
   "metadata": {},
   "outputs": [],
   "source": [
    "import numpy as np\n",
    "import pandas as pd"
   ]
  },
  {
   "cell_type": "markdown",
   "metadata": {},
   "source": [
    "- pandas에서 엑셀(csv) 파일 로드\n",
    "- 데이터를 부분 확인 후 데이터의 이상여부 간단히 시각적 확인"
   ]
  },
  {
   "cell_type": "code",
   "execution_count": 36,
   "metadata": {},
   "outputs": [],
   "source": [
    "s_cctv = pd.read_excel('../data/seoul_cctv_state.xlsx', encoding = 'utf-8')"
   ]
  },
  {
   "cell_type": "code",
   "execution_count": 37,
   "metadata": {},
   "outputs": [
    {
     "data": {
      "text/html": [
       "<div>\n",
       "<style scoped>\n",
       "    .dataframe tbody tr th:only-of-type {\n",
       "        vertical-align: middle;\n",
       "    }\n",
       "\n",
       "    .dataframe tbody tr th {\n",
       "        vertical-align: top;\n",
       "    }\n",
       "\n",
       "    .dataframe thead th {\n",
       "        text-align: right;\n",
       "    }\n",
       "</style>\n",
       "<table border=\"1\" class=\"dataframe\">\n",
       "  <thead>\n",
       "    <tr style=\"text-align: right;\">\n",
       "      <th></th>\n",
       "      <th>기관명</th>\n",
       "      <th>소계</th>\n",
       "      <th>2011년 이전</th>\n",
       "      <th>2012년</th>\n",
       "      <th>2013년</th>\n",
       "      <th>2014년</th>\n",
       "      <th>2015년</th>\n",
       "      <th>2016년</th>\n",
       "      <th>2017년</th>\n",
       "      <th>2018년</th>\n",
       "    </tr>\n",
       "  </thead>\n",
       "  <tbody>\n",
       "    <tr>\n",
       "      <th>0</th>\n",
       "      <td>강 남 구</td>\n",
       "      <td>5221</td>\n",
       "      <td>1944.0</td>\n",
       "      <td>195.0</td>\n",
       "      <td>316.0</td>\n",
       "      <td>430</td>\n",
       "      <td>546</td>\n",
       "      <td>765</td>\n",
       "      <td>577</td>\n",
       "      <td>448</td>\n",
       "    </tr>\n",
       "    <tr>\n",
       "      <th>1</th>\n",
       "      <td>강 동 구</td>\n",
       "      <td>1879</td>\n",
       "      <td>303.0</td>\n",
       "      <td>387.0</td>\n",
       "      <td>134.0</td>\n",
       "      <td>59</td>\n",
       "      <td>144</td>\n",
       "      <td>194</td>\n",
       "      <td>273</td>\n",
       "      <td>385</td>\n",
       "    </tr>\n",
       "    <tr>\n",
       "      <th>2</th>\n",
       "      <td>강 북 구</td>\n",
       "      <td>1265</td>\n",
       "      <td>243.0</td>\n",
       "      <td>88.0</td>\n",
       "      <td>141.0</td>\n",
       "      <td>74</td>\n",
       "      <td>145</td>\n",
       "      <td>254</td>\n",
       "      <td>1</td>\n",
       "      <td>319</td>\n",
       "    </tr>\n",
       "    <tr>\n",
       "      <th>3</th>\n",
       "      <td>강 서 구</td>\n",
       "      <td>1617</td>\n",
       "      <td>219.0</td>\n",
       "      <td>155.0</td>\n",
       "      <td>118.0</td>\n",
       "      <td>230</td>\n",
       "      <td>187</td>\n",
       "      <td>190</td>\n",
       "      <td>264</td>\n",
       "      <td>254</td>\n",
       "    </tr>\n",
       "    <tr>\n",
       "      <th>4</th>\n",
       "      <td>관 악 구</td>\n",
       "      <td>3985</td>\n",
       "      <td>430.0</td>\n",
       "      <td>56.0</td>\n",
       "      <td>419.0</td>\n",
       "      <td>487</td>\n",
       "      <td>609</td>\n",
       "      <td>619</td>\n",
       "      <td>694</td>\n",
       "      <td>671</td>\n",
       "    </tr>\n",
       "    <tr>\n",
       "      <th>5</th>\n",
       "      <td>광 진 구</td>\n",
       "      <td>1581</td>\n",
       "      <td>470.0</td>\n",
       "      <td>42.0</td>\n",
       "      <td>83.0</td>\n",
       "      <td>87</td>\n",
       "      <td>64</td>\n",
       "      <td>21</td>\n",
       "      <td>468</td>\n",
       "      <td>346</td>\n",
       "    </tr>\n",
       "    <tr>\n",
       "      <th>6</th>\n",
       "      <td>구 로 구</td>\n",
       "      <td>3227</td>\n",
       "      <td>852.0</td>\n",
       "      <td>219.0</td>\n",
       "      <td>349.0</td>\n",
       "      <td>187</td>\n",
       "      <td>268</td>\n",
       "      <td>326</td>\n",
       "      <td>540</td>\n",
       "      <td>486</td>\n",
       "    </tr>\n",
       "    <tr>\n",
       "      <th>7</th>\n",
       "      <td>금 천 구</td>\n",
       "      <td>1634</td>\n",
       "      <td>27.0</td>\n",
       "      <td>17.0</td>\n",
       "      <td>242.0</td>\n",
       "      <td>101</td>\n",
       "      <td>382</td>\n",
       "      <td>136</td>\n",
       "      <td>199</td>\n",
       "      <td>530</td>\n",
       "    </tr>\n",
       "    <tr>\n",
       "      <th>8</th>\n",
       "      <td>노 원 구</td>\n",
       "      <td>1906</td>\n",
       "      <td>481.0</td>\n",
       "      <td>117.0</td>\n",
       "      <td>203.0</td>\n",
       "      <td>80</td>\n",
       "      <td>461</td>\n",
       "      <td>298</td>\n",
       "      <td>110</td>\n",
       "      <td>156</td>\n",
       "    </tr>\n",
       "    <tr>\n",
       "      <th>9</th>\n",
       "      <td>도 봉 구</td>\n",
       "      <td>858</td>\n",
       "      <td>197.0</td>\n",
       "      <td>66.0</td>\n",
       "      <td>8.0</td>\n",
       "      <td>185</td>\n",
       "      <td>59</td>\n",
       "      <td>155</td>\n",
       "      <td>117</td>\n",
       "      <td>71</td>\n",
       "    </tr>\n",
       "    <tr>\n",
       "      <th>10</th>\n",
       "      <td>동대문구</td>\n",
       "      <td>2003</td>\n",
       "      <td>NaN</td>\n",
       "      <td>NaN</td>\n",
       "      <td>NaN</td>\n",
       "      <td>1326</td>\n",
       "      <td>111</td>\n",
       "      <td>233</td>\n",
       "      <td>136</td>\n",
       "      <td>197</td>\n",
       "    </tr>\n",
       "    <tr>\n",
       "      <th>11</th>\n",
       "      <td>동 작 구</td>\n",
       "      <td>1780</td>\n",
       "      <td>238.0</td>\n",
       "      <td>93.0</td>\n",
       "      <td>29.0</td>\n",
       "      <td>503</td>\n",
       "      <td>130</td>\n",
       "      <td>254</td>\n",
       "      <td>278</td>\n",
       "      <td>255</td>\n",
       "    </tr>\n",
       "    <tr>\n",
       "      <th>12</th>\n",
       "      <td>마 포 구</td>\n",
       "      <td>1935</td>\n",
       "      <td>585.0</td>\n",
       "      <td>108.0</td>\n",
       "      <td>69.0</td>\n",
       "      <td>70</td>\n",
       "      <td>177</td>\n",
       "      <td>359</td>\n",
       "      <td>372</td>\n",
       "      <td>195</td>\n",
       "    </tr>\n",
       "    <tr>\n",
       "      <th>13</th>\n",
       "      <td>서대문구</td>\n",
       "      <td>2121</td>\n",
       "      <td>565.0</td>\n",
       "      <td>233.0</td>\n",
       "      <td>214.0</td>\n",
       "      <td>114</td>\n",
       "      <td>109</td>\n",
       "      <td>277</td>\n",
       "      <td>415</td>\n",
       "      <td>194</td>\n",
       "    </tr>\n",
       "    <tr>\n",
       "      <th>14</th>\n",
       "      <td>서 초 구</td>\n",
       "      <td>2835</td>\n",
       "      <td>1172.0</td>\n",
       "      <td>91.0</td>\n",
       "      <td>228.0</td>\n",
       "      <td>134</td>\n",
       "      <td>215</td>\n",
       "      <td>352</td>\n",
       "      <td>247</td>\n",
       "      <td>396</td>\n",
       "    </tr>\n",
       "    <tr>\n",
       "      <th>15</th>\n",
       "      <td>성 동 구</td>\n",
       "      <td>2679</td>\n",
       "      <td>665.0</td>\n",
       "      <td>109.0</td>\n",
       "      <td>118.0</td>\n",
       "      <td>101</td>\n",
       "      <td>258</td>\n",
       "      <td>201</td>\n",
       "      <td>933</td>\n",
       "      <td>294</td>\n",
       "    </tr>\n",
       "    <tr>\n",
       "      <th>16</th>\n",
       "      <td>성 북 구</td>\n",
       "      <td>3003</td>\n",
       "      <td>779.0</td>\n",
       "      <td>84.0</td>\n",
       "      <td>304.0</td>\n",
       "      <td>241</td>\n",
       "      <td>279</td>\n",
       "      <td>388</td>\n",
       "      <td>285</td>\n",
       "      <td>643</td>\n",
       "    </tr>\n",
       "    <tr>\n",
       "      <th>17</th>\n",
       "      <td>송 파 구</td>\n",
       "      <td>1586</td>\n",
       "      <td>600.0</td>\n",
       "      <td>99.0</td>\n",
       "      <td>88.0</td>\n",
       "      <td>21</td>\n",
       "      <td>166</td>\n",
       "      <td>100</td>\n",
       "      <td>116</td>\n",
       "      <td>396</td>\n",
       "    </tr>\n",
       "    <tr>\n",
       "      <th>18</th>\n",
       "      <td>양 천 구</td>\n",
       "      <td>2775</td>\n",
       "      <td>772.0</td>\n",
       "      <td>161.0</td>\n",
       "      <td>185.0</td>\n",
       "      <td>169</td>\n",
       "      <td>172</td>\n",
       "      <td>349</td>\n",
       "      <td>137</td>\n",
       "      <td>830</td>\n",
       "    </tr>\n",
       "    <tr>\n",
       "      <th>19</th>\n",
       "      <td>영등포구</td>\n",
       "      <td>2495</td>\n",
       "      <td>132.0</td>\n",
       "      <td>121.0</td>\n",
       "      <td>206.0</td>\n",
       "      <td>217</td>\n",
       "      <td>366</td>\n",
       "      <td>289</td>\n",
       "      <td>371</td>\n",
       "      <td>793</td>\n",
       "    </tr>\n",
       "    <tr>\n",
       "      <th>20</th>\n",
       "      <td>용 산 구</td>\n",
       "      <td>2063</td>\n",
       "      <td>1279.0</td>\n",
       "      <td>152.0</td>\n",
       "      <td>201.0</td>\n",
       "      <td>107</td>\n",
       "      <td>102</td>\n",
       "      <td>89</td>\n",
       "      <td>60</td>\n",
       "      <td>73</td>\n",
       "    </tr>\n",
       "    <tr>\n",
       "      <th>21</th>\n",
       "      <td>은 평 구</td>\n",
       "      <td>2962</td>\n",
       "      <td>1365.0</td>\n",
       "      <td>83.0</td>\n",
       "      <td>99.0</td>\n",
       "      <td>343</td>\n",
       "      <td>180</td>\n",
       "      <td>296</td>\n",
       "      <td>229</td>\n",
       "      <td>367</td>\n",
       "    </tr>\n",
       "    <tr>\n",
       "      <th>22</th>\n",
       "      <td>종 로 구</td>\n",
       "      <td>1471</td>\n",
       "      <td>8.0</td>\n",
       "      <td>7.0</td>\n",
       "      <td>599.0</td>\n",
       "      <td>132</td>\n",
       "      <td>195</td>\n",
       "      <td>148</td>\n",
       "      <td>281</td>\n",
       "      <td>101</td>\n",
       "    </tr>\n",
       "    <tr>\n",
       "      <th>23</th>\n",
       "      <td>중     구</td>\n",
       "      <td>1544</td>\n",
       "      <td>25.0</td>\n",
       "      <td>165.0</td>\n",
       "      <td>114.0</td>\n",
       "      <td>80</td>\n",
       "      <td>245</td>\n",
       "      <td>270</td>\n",
       "      <td>317</td>\n",
       "      <td>328</td>\n",
       "    </tr>\n",
       "    <tr>\n",
       "      <th>24</th>\n",
       "      <td>중 랑 구</td>\n",
       "      <td>1068</td>\n",
       "      <td>NaN</td>\n",
       "      <td>NaN</td>\n",
       "      <td>NaN</td>\n",
       "      <td>770</td>\n",
       "      <td>102</td>\n",
       "      <td>121</td>\n",
       "      <td>66</td>\n",
       "      <td>9</td>\n",
       "    </tr>\n",
       "  </tbody>\n",
       "</table>\n",
       "</div>"
      ],
      "text/plain": [
       "        기관명    소계  2011년 이전  2012년  2013년  2014년  2015년  2016년  2017년  2018년\n",
       "0     강 남 구  5221    1944.0  195.0  316.0    430    546    765    577    448\n",
       "1     강 동 구  1879     303.0  387.0  134.0     59    144    194    273    385\n",
       "2     강 북 구  1265     243.0   88.0  141.0     74    145    254      1    319\n",
       "3     강 서 구  1617     219.0  155.0  118.0    230    187    190    264    254\n",
       "4     관 악 구  3985     430.0   56.0  419.0    487    609    619    694    671\n",
       "5     광 진 구  1581     470.0   42.0   83.0     87     64     21    468    346\n",
       "6     구 로 구  3227     852.0  219.0  349.0    187    268    326    540    486\n",
       "7     금 천 구  1634      27.0   17.0  242.0    101    382    136    199    530\n",
       "8     노 원 구  1906     481.0  117.0  203.0     80    461    298    110    156\n",
       "9     도 봉 구   858     197.0   66.0    8.0    185     59    155    117     71\n",
       "10     동대문구  2003       NaN    NaN    NaN   1326    111    233    136    197\n",
       "11    동 작 구  1780     238.0   93.0   29.0    503    130    254    278    255\n",
       "12    마 포 구  1935     585.0  108.0   69.0     70    177    359    372    195\n",
       "13     서대문구  2121     565.0  233.0  214.0    114    109    277    415    194\n",
       "14    서 초 구  2835    1172.0   91.0  228.0    134    215    352    247    396\n",
       "15    성 동 구  2679     665.0  109.0  118.0    101    258    201    933    294\n",
       "16    성 북 구  3003     779.0   84.0  304.0    241    279    388    285    643\n",
       "17    송 파 구  1586     600.0   99.0   88.0     21    166    100    116    396\n",
       "18    양 천 구  2775     772.0  161.0  185.0    169    172    349    137    830\n",
       "19     영등포구  2495     132.0  121.0  206.0    217    366    289    371    793\n",
       "20    용 산 구  2063    1279.0  152.0  201.0    107    102     89     60     73\n",
       "21    은 평 구  2962    1365.0   83.0   99.0    343    180    296    229    367\n",
       "22    종 로 구  1471       8.0    7.0  599.0    132    195    148    281    101\n",
       "23  중     구  1544      25.0  165.0  114.0     80    245    270    317    328\n",
       "24    중 랑 구  1068       NaN    NaN    NaN    770    102    121     66      9"
      ]
     },
     "execution_count": 37,
     "metadata": {},
     "output_type": "execute_result"
    }
   ],
   "source": [
    "# 전체 확인\n",
    "s_cctv"
   ]
  },
  {
   "cell_type": "code",
   "execution_count": 38,
   "metadata": {},
   "outputs": [
    {
     "data": {
      "text/html": [
       "<div>\n",
       "<style scoped>\n",
       "    .dataframe tbody tr th:only-of-type {\n",
       "        vertical-align: middle;\n",
       "    }\n",
       "\n",
       "    .dataframe tbody tr th {\n",
       "        vertical-align: top;\n",
       "    }\n",
       "\n",
       "    .dataframe thead th {\n",
       "        text-align: right;\n",
       "    }\n",
       "</style>\n",
       "<table border=\"1\" class=\"dataframe\">\n",
       "  <thead>\n",
       "    <tr style=\"text-align: right;\">\n",
       "      <th></th>\n",
       "      <th>기관명</th>\n",
       "      <th>소계</th>\n",
       "      <th>2011년 이전</th>\n",
       "      <th>2012년</th>\n",
       "      <th>2013년</th>\n",
       "      <th>2014년</th>\n",
       "      <th>2015년</th>\n",
       "      <th>2016년</th>\n",
       "      <th>2017년</th>\n",
       "      <th>2018년</th>\n",
       "    </tr>\n",
       "  </thead>\n",
       "  <tbody>\n",
       "    <tr>\n",
       "      <th>0</th>\n",
       "      <td>강 남 구</td>\n",
       "      <td>5221</td>\n",
       "      <td>1944.0</td>\n",
       "      <td>195.0</td>\n",
       "      <td>316.0</td>\n",
       "      <td>430</td>\n",
       "      <td>546</td>\n",
       "      <td>765</td>\n",
       "      <td>577</td>\n",
       "      <td>448</td>\n",
       "    </tr>\n",
       "    <tr>\n",
       "      <th>1</th>\n",
       "      <td>강 동 구</td>\n",
       "      <td>1879</td>\n",
       "      <td>303.0</td>\n",
       "      <td>387.0</td>\n",
       "      <td>134.0</td>\n",
       "      <td>59</td>\n",
       "      <td>144</td>\n",
       "      <td>194</td>\n",
       "      <td>273</td>\n",
       "      <td>385</td>\n",
       "    </tr>\n",
       "  </tbody>\n",
       "</table>\n",
       "</div>"
      ],
      "text/plain": [
       "     기관명    소계  2011년 이전  2012년  2013년  2014년  2015년  2016년  2017년  2018년\n",
       "0  강 남 구  5221    1944.0  195.0  316.0    430    546    765    577    448\n",
       "1  강 동 구  1879     303.0  387.0  134.0     59    144    194    273    385"
      ]
     },
     "execution_count": 38,
     "metadata": {},
     "output_type": "execute_result"
    }
   ],
   "source": [
    "# 상위값 확인\n",
    "# s_cctv.head() : 상위 5개\n",
    "# s_cctv.head(2) : 상위 2개\n",
    "s_cctv.head(2)"
   ]
  },
  {
   "cell_type": "code",
   "execution_count": 39,
   "metadata": {
    "scrolled": true
   },
   "outputs": [
    {
     "data": {
      "text/html": [
       "<div>\n",
       "<style scoped>\n",
       "    .dataframe tbody tr th:only-of-type {\n",
       "        vertical-align: middle;\n",
       "    }\n",
       "\n",
       "    .dataframe tbody tr th {\n",
       "        vertical-align: top;\n",
       "    }\n",
       "\n",
       "    .dataframe thead th {\n",
       "        text-align: right;\n",
       "    }\n",
       "</style>\n",
       "<table border=\"1\" class=\"dataframe\">\n",
       "  <thead>\n",
       "    <tr style=\"text-align: right;\">\n",
       "      <th></th>\n",
       "      <th>기관명</th>\n",
       "      <th>소계</th>\n",
       "      <th>2011년 이전</th>\n",
       "      <th>2012년</th>\n",
       "      <th>2013년</th>\n",
       "      <th>2014년</th>\n",
       "      <th>2015년</th>\n",
       "      <th>2016년</th>\n",
       "      <th>2017년</th>\n",
       "      <th>2018년</th>\n",
       "    </tr>\n",
       "  </thead>\n",
       "  <tbody>\n",
       "    <tr>\n",
       "      <th>23</th>\n",
       "      <td>중     구</td>\n",
       "      <td>1544</td>\n",
       "      <td>25.0</td>\n",
       "      <td>165.0</td>\n",
       "      <td>114.0</td>\n",
       "      <td>80</td>\n",
       "      <td>245</td>\n",
       "      <td>270</td>\n",
       "      <td>317</td>\n",
       "      <td>328</td>\n",
       "    </tr>\n",
       "    <tr>\n",
       "      <th>24</th>\n",
       "      <td>중 랑 구</td>\n",
       "      <td>1068</td>\n",
       "      <td>NaN</td>\n",
       "      <td>NaN</td>\n",
       "      <td>NaN</td>\n",
       "      <td>770</td>\n",
       "      <td>102</td>\n",
       "      <td>121</td>\n",
       "      <td>66</td>\n",
       "      <td>9</td>\n",
       "    </tr>\n",
       "  </tbody>\n",
       "</table>\n",
       "</div>"
      ],
      "text/plain": [
       "        기관명    소계  2011년 이전  2012년  2013년  2014년  2015년  2016년  2017년  2018년\n",
       "23  중     구  1544      25.0  165.0  114.0     80    245    270    317    328\n",
       "24    중 랑 구  1068       NaN    NaN    NaN    770    102    121     66      9"
      ]
     },
     "execution_count": 39,
     "metadata": {},
     "output_type": "execute_result"
    }
   ],
   "source": [
    "# 하위값 확인\n",
    "# s_cctv.tail() : 하위 5개\n",
    "# s_cctv.tail(2) : 하위 2개\n",
    "s_cctv.tail(2)"
   ]
  },
  {
   "cell_type": "markdown",
   "metadata": {},
   "source": [
    "- 대략적으로 탐색한 결과, 동대문구와 중랑구에 결측치(NaN) 확인"
   ]
  },
  {
   "cell_type": "markdown",
   "metadata": {},
   "source": [
    "###### 컬럼명 확인 : .columns"
   ]
  },
  {
   "cell_type": "code",
   "execution_count": 40,
   "metadata": {},
   "outputs": [
    {
     "data": {
      "text/plain": [
       "Index(['기관명', '소계', '2011년 이전', '2012년', '2013년', '2014년', '2015년', '2016년',\n",
       "       '2017년', '2018년'],\n",
       "      dtype='object')"
      ]
     },
     "execution_count": 40,
     "metadata": {},
     "output_type": "execute_result"
    }
   ],
   "source": [
    "s_cctv.columns"
   ]
  },
  {
   "cell_type": "code",
   "execution_count": 41,
   "metadata": {
    "scrolled": true
   },
   "outputs": [
    {
     "data": {
      "text/plain": [
       "'2011년 이전'"
      ]
     },
     "execution_count": 41,
     "metadata": {},
     "output_type": "execute_result"
    }
   ],
   "source": [
    "# 컬럼명 '2011년 이전' 획득\n",
    "s_cctv.columns[2]"
   ]
  },
  {
   "cell_type": "markdown",
   "metadata": {},
   "source": [
    "###### 데이터의 차원, 모습 확인 : .shape"
   ]
  },
  {
   "cell_type": "code",
   "execution_count": 42,
   "metadata": {},
   "outputs": [
    {
     "data": {
      "text/plain": [
       "(25, 10)"
      ]
     },
     "execution_count": 42,
     "metadata": {},
     "output_type": "execute_result"
    }
   ],
   "source": [
    "s_cctv.shape"
   ]
  },
  {
   "cell_type": "markdown",
   "metadata": {},
   "source": [
    "###### 인덱스 확인 : .index"
   ]
  },
  {
   "cell_type": "code",
   "execution_count": 43,
   "metadata": {
    "scrolled": true
   },
   "outputs": [
    {
     "data": {
      "text/plain": [
       "RangeIndex(start=0, stop=25, step=1)"
      ]
     },
     "execution_count": 43,
     "metadata": {},
     "output_type": "execute_result"
    }
   ],
   "source": [
    "# 인덱스\n",
    "s_cctv.index"
   ]
  },
  {
   "cell_type": "markdown",
   "metadata": {},
   "source": [
    "###### 컬럼명 변경 : .rename(columns = { : }, inplace = True)"
   ]
  },
  {
   "cell_type": "code",
   "execution_count": 44,
   "metadata": {},
   "outputs": [],
   "source": [
    "# '기관명' -> '자치구'로 변경 (의미 명확성 부여 목적)\n",
    "# => DataFrame의 컬럼명 변경 \n",
    "# 파라미터 inplace : 원본을 변경할 것인가? True면 원본 변경(원본에 반영)\n",
    "s_cctv.rename(columns={s_cctv.columns[0] : '자치구'}, inplace = True)\n",
    "# columns = {} -> 딕셔너리 형태로 주겠다는 의미"
   ]
  },
  {
   "cell_type": "code",
   "execution_count": 45,
   "metadata": {},
   "outputs": [
    {
     "data": {
      "text/html": [
       "<div>\n",
       "<style scoped>\n",
       "    .dataframe tbody tr th:only-of-type {\n",
       "        vertical-align: middle;\n",
       "    }\n",
       "\n",
       "    .dataframe tbody tr th {\n",
       "        vertical-align: top;\n",
       "    }\n",
       "\n",
       "    .dataframe thead th {\n",
       "        text-align: right;\n",
       "    }\n",
       "</style>\n",
       "<table border=\"1\" class=\"dataframe\">\n",
       "  <thead>\n",
       "    <tr style=\"text-align: right;\">\n",
       "      <th></th>\n",
       "      <th>자치구</th>\n",
       "      <th>소계</th>\n",
       "      <th>2011년 이전</th>\n",
       "      <th>2012년</th>\n",
       "      <th>2013년</th>\n",
       "      <th>2014년</th>\n",
       "      <th>2015년</th>\n",
       "      <th>2016년</th>\n",
       "      <th>2017년</th>\n",
       "      <th>2018년</th>\n",
       "    </tr>\n",
       "  </thead>\n",
       "  <tbody>\n",
       "    <tr>\n",
       "      <th>0</th>\n",
       "      <td>강 남 구</td>\n",
       "      <td>5221</td>\n",
       "      <td>1944.0</td>\n",
       "      <td>195.0</td>\n",
       "      <td>316.0</td>\n",
       "      <td>430</td>\n",
       "      <td>546</td>\n",
       "      <td>765</td>\n",
       "      <td>577</td>\n",
       "      <td>448</td>\n",
       "    </tr>\n",
       "    <tr>\n",
       "      <th>1</th>\n",
       "      <td>강 동 구</td>\n",
       "      <td>1879</td>\n",
       "      <td>303.0</td>\n",
       "      <td>387.0</td>\n",
       "      <td>134.0</td>\n",
       "      <td>59</td>\n",
       "      <td>144</td>\n",
       "      <td>194</td>\n",
       "      <td>273</td>\n",
       "      <td>385</td>\n",
       "    </tr>\n",
       "  </tbody>\n",
       "</table>\n",
       "</div>"
      ],
      "text/plain": [
       "     자치구    소계  2011년 이전  2012년  2013년  2014년  2015년  2016년  2017년  2018년\n",
       "0  강 남 구  5221    1944.0  195.0  316.0    430    546    765    577    448\n",
       "1  강 동 구  1879     303.0  387.0  134.0     59    144    194    273    385"
      ]
     },
     "execution_count": 45,
     "metadata": {},
     "output_type": "execute_result"
    }
   ],
   "source": [
    "s_cctv.head(2)"
   ]
  },
  {
   "cell_type": "code",
   "execution_count": null,
   "metadata": {},
   "outputs": [],
   "source": []
  },
  {
   "cell_type": "markdown",
   "metadata": {},
   "source": [
    "## 실습\n",
    "- 변수명 s_pop으로 report.csv를 로드하시오.\n",
    "- 일단 Report.xls로 read_excel 진행"
   ]
  },
  {
   "cell_type": "code",
   "execution_count": 46,
   "metadata": {},
   "outputs": [
    {
     "data": {
      "text/html": [
       "<div>\n",
       "<style scoped>\n",
       "    .dataframe tbody tr th:only-of-type {\n",
       "        vertical-align: middle;\n",
       "    }\n",
       "\n",
       "    .dataframe tbody tr th {\n",
       "        vertical-align: top;\n",
       "    }\n",
       "\n",
       "    .dataframe thead th {\n",
       "        text-align: right;\n",
       "    }\n",
       "</style>\n",
       "<table border=\"1\" class=\"dataframe\">\n",
       "  <thead>\n",
       "    <tr style=\"text-align: right;\">\n",
       "      <th></th>\n",
       "      <th>기간</th>\n",
       "      <th>자치구</th>\n",
       "      <th>계</th>\n",
       "      <th>계.1</th>\n",
       "      <th>계.2</th>\n",
       "      <th>65세이상고령자</th>\n",
       "    </tr>\n",
       "  </thead>\n",
       "  <tbody>\n",
       "    <tr>\n",
       "      <th>0</th>\n",
       "      <td>2011</td>\n",
       "      <td>합계</td>\n",
       "      <td>10528774</td>\n",
       "      <td>10249679</td>\n",
       "      <td>279095</td>\n",
       "      <td>1049425</td>\n",
       "    </tr>\n",
       "    <tr>\n",
       "      <th>1</th>\n",
       "      <td>2011</td>\n",
       "      <td>종로구</td>\n",
       "      <td>177419</td>\n",
       "      <td>168382</td>\n",
       "      <td>9037</td>\n",
       "      <td>22939</td>\n",
       "    </tr>\n",
       "    <tr>\n",
       "      <th>2</th>\n",
       "      <td>2011</td>\n",
       "      <td>중구</td>\n",
       "      <td>141567</td>\n",
       "      <td>133193</td>\n",
       "      <td>8374</td>\n",
       "      <td>18099</td>\n",
       "    </tr>\n",
       "    <tr>\n",
       "      <th>3</th>\n",
       "      <td>2011</td>\n",
       "      <td>용산구</td>\n",
       "      <td>259288</td>\n",
       "      <td>246501</td>\n",
       "      <td>12787</td>\n",
       "      <td>31837</td>\n",
       "    </tr>\n",
       "    <tr>\n",
       "      <th>4</th>\n",
       "      <td>2011</td>\n",
       "      <td>성동구</td>\n",
       "      <td>308767</td>\n",
       "      <td>300711</td>\n",
       "      <td>8056</td>\n",
       "      <td>32767</td>\n",
       "    </tr>\n",
       "  </tbody>\n",
       "</table>\n",
       "</div>"
      ],
      "text/plain": [
       "     기간  자치구         계       계.1     계.2  65세이상고령자\n",
       "0  2011   합계  10528774  10249679  279095   1049425\n",
       "1  2011  종로구    177419    168382    9037     22939\n",
       "2  2011   중구    141567    133193    8374     18099\n",
       "3  2011  용산구    259288    246501   12787     31837\n",
       "4  2011  성동구    308767    300711    8056     32767"
      ]
     },
     "execution_count": 46,
     "metadata": {},
     "output_type": "execute_result"
    }
   ],
   "source": [
    "# 데이터를 보니 컬럼이 3개\n",
    "# -> 헤더를 2번으로 지정\n",
    "# 필요없는 데이터는 로드 단계에서 걷어내기 -> 사전에 데이터를 보고 판단\n",
    "s_pop = pd.read_excel('../data/Report.xls', encoding='euc_kr', header = 2,\n",
    "                     usecols = 'A, B, D, G, J, P')\n",
    "s_pop.head()"
   ]
  },
  {
   "cell_type": "code",
   "execution_count": 47,
   "metadata": {},
   "outputs": [],
   "source": [
    "# 컬럼명을 의미있게 조정\n",
    "# 계 ~ ...고령자 -> 인구수, 한국인, 외국인, 고령자\n",
    "s_pop.rename(columns={s_pop.columns[2] : '인구수',\n",
    "                      s_pop.columns[3] : '한국인',\n",
    "                      s_pop.columns[4] : '외국인',\n",
    "                      s_pop.columns[5] : '고령자'}, inplace = True)"
   ]
  },
  {
   "cell_type": "code",
   "execution_count": 48,
   "metadata": {},
   "outputs": [
    {
     "data": {
      "text/html": [
       "<div>\n",
       "<style scoped>\n",
       "    .dataframe tbody tr th:only-of-type {\n",
       "        vertical-align: middle;\n",
       "    }\n",
       "\n",
       "    .dataframe tbody tr th {\n",
       "        vertical-align: top;\n",
       "    }\n",
       "\n",
       "    .dataframe thead th {\n",
       "        text-align: right;\n",
       "    }\n",
       "</style>\n",
       "<table border=\"1\" class=\"dataframe\">\n",
       "  <thead>\n",
       "    <tr style=\"text-align: right;\">\n",
       "      <th></th>\n",
       "      <th>기간</th>\n",
       "      <th>자치구</th>\n",
       "      <th>인구수</th>\n",
       "      <th>한국인</th>\n",
       "      <th>외국인</th>\n",
       "      <th>고령자</th>\n",
       "    </tr>\n",
       "  </thead>\n",
       "  <tbody>\n",
       "    <tr>\n",
       "      <th>0</th>\n",
       "      <td>2011</td>\n",
       "      <td>합계</td>\n",
       "      <td>10528774</td>\n",
       "      <td>10249679</td>\n",
       "      <td>279095</td>\n",
       "      <td>1049425</td>\n",
       "    </tr>\n",
       "    <tr>\n",
       "      <th>1</th>\n",
       "      <td>2011</td>\n",
       "      <td>종로구</td>\n",
       "      <td>177419</td>\n",
       "      <td>168382</td>\n",
       "      <td>9037</td>\n",
       "      <td>22939</td>\n",
       "    </tr>\n",
       "  </tbody>\n",
       "</table>\n",
       "</div>"
      ],
      "text/plain": [
       "     기간  자치구       인구수       한국인     외국인      고령자\n",
       "0  2011   합계  10528774  10249679  279095  1049425\n",
       "1  2011  종로구    177419    168382    9037    22939"
      ]
     },
     "execution_count": 48,
     "metadata": {},
     "output_type": "execute_result"
    }
   ],
   "source": [
    "# 변경 확인\n",
    "s_pop.head(2)"
   ]
  },
  {
   "cell_type": "code",
   "execution_count": null,
   "metadata": {},
   "outputs": [],
   "source": []
  },
  {
   "cell_type": "markdown",
   "metadata": {},
   "source": [
    "## pandas 기초 학습\n",
    "<a href = 'http://localhost:8889/notebooks/pandas/basic/pandas_기초.ipynb'>이동하기</a>"
   ]
  },
  {
   "cell_type": "markdown",
   "metadata": {},
   "source": [
    "## 데이터 특성 파악"
   ]
  },
  {
   "cell_type": "code",
   "execution_count": 49,
   "metadata": {
    "scrolled": true
   },
   "outputs": [
    {
     "data": {
      "text/html": [
       "<div>\n",
       "<style scoped>\n",
       "    .dataframe tbody tr th:only-of-type {\n",
       "        vertical-align: middle;\n",
       "    }\n",
       "\n",
       "    .dataframe tbody tr th {\n",
       "        vertical-align: top;\n",
       "    }\n",
       "\n",
       "    .dataframe thead th {\n",
       "        text-align: right;\n",
       "    }\n",
       "</style>\n",
       "<table border=\"1\" class=\"dataframe\">\n",
       "  <thead>\n",
       "    <tr style=\"text-align: right;\">\n",
       "      <th></th>\n",
       "      <th>자치구</th>\n",
       "      <th>소계</th>\n",
       "      <th>2011년 이전</th>\n",
       "      <th>2012년</th>\n",
       "      <th>2013년</th>\n",
       "      <th>2014년</th>\n",
       "      <th>2015년</th>\n",
       "      <th>2016년</th>\n",
       "      <th>2017년</th>\n",
       "      <th>2018년</th>\n",
       "    </tr>\n",
       "  </thead>\n",
       "  <tbody>\n",
       "    <tr>\n",
       "      <th>0</th>\n",
       "      <td>강 남 구</td>\n",
       "      <td>5221</td>\n",
       "      <td>1944.0</td>\n",
       "      <td>195.0</td>\n",
       "      <td>316.0</td>\n",
       "      <td>430</td>\n",
       "      <td>546</td>\n",
       "      <td>765</td>\n",
       "      <td>577</td>\n",
       "      <td>448</td>\n",
       "    </tr>\n",
       "    <tr>\n",
       "      <th>1</th>\n",
       "      <td>강 동 구</td>\n",
       "      <td>1879</td>\n",
       "      <td>303.0</td>\n",
       "      <td>387.0</td>\n",
       "      <td>134.0</td>\n",
       "      <td>59</td>\n",
       "      <td>144</td>\n",
       "      <td>194</td>\n",
       "      <td>273</td>\n",
       "      <td>385</td>\n",
       "    </tr>\n",
       "  </tbody>\n",
       "</table>\n",
       "</div>"
      ],
      "text/plain": [
       "     자치구    소계  2011년 이전  2012년  2013년  2014년  2015년  2016년  2017년  2018년\n",
       "0  강 남 구  5221    1944.0  195.0  316.0    430    546    765    577    448\n",
       "1  강 동 구  1879     303.0  387.0  134.0     59    144    194    273    385"
      ]
     },
     "execution_count": 49,
     "metadata": {},
     "output_type": "execute_result"
    }
   ],
   "source": [
    "s_cctv.head(2)"
   ]
  },
  {
   "cell_type": "markdown",
   "metadata": {},
   "source": [
    "###### 정렬 : .sort_values()"
   ]
  },
  {
   "cell_type": "code",
   "execution_count": 50,
   "metadata": {},
   "outputs": [
    {
     "data": {
      "text/html": [
       "<div>\n",
       "<style scoped>\n",
       "    .dataframe tbody tr th:only-of-type {\n",
       "        vertical-align: middle;\n",
       "    }\n",
       "\n",
       "    .dataframe tbody tr th {\n",
       "        vertical-align: top;\n",
       "    }\n",
       "\n",
       "    .dataframe thead th {\n",
       "        text-align: right;\n",
       "    }\n",
       "</style>\n",
       "<table border=\"1\" class=\"dataframe\">\n",
       "  <thead>\n",
       "    <tr style=\"text-align: right;\">\n",
       "      <th></th>\n",
       "      <th>자치구</th>\n",
       "      <th>소계</th>\n",
       "      <th>2011년 이전</th>\n",
       "      <th>2012년</th>\n",
       "      <th>2013년</th>\n",
       "      <th>2014년</th>\n",
       "      <th>2015년</th>\n",
       "      <th>2016년</th>\n",
       "      <th>2017년</th>\n",
       "      <th>2018년</th>\n",
       "    </tr>\n",
       "  </thead>\n",
       "  <tbody>\n",
       "    <tr>\n",
       "      <th>9</th>\n",
       "      <td>도 봉 구</td>\n",
       "      <td>858</td>\n",
       "      <td>197.0</td>\n",
       "      <td>66.0</td>\n",
       "      <td>8.0</td>\n",
       "      <td>185</td>\n",
       "      <td>59</td>\n",
       "      <td>155</td>\n",
       "      <td>117</td>\n",
       "      <td>71</td>\n",
       "    </tr>\n",
       "    <tr>\n",
       "      <th>24</th>\n",
       "      <td>중 랑 구</td>\n",
       "      <td>1068</td>\n",
       "      <td>NaN</td>\n",
       "      <td>NaN</td>\n",
       "      <td>NaN</td>\n",
       "      <td>770</td>\n",
       "      <td>102</td>\n",
       "      <td>121</td>\n",
       "      <td>66</td>\n",
       "      <td>9</td>\n",
       "    </tr>\n",
       "    <tr>\n",
       "      <th>2</th>\n",
       "      <td>강 북 구</td>\n",
       "      <td>1265</td>\n",
       "      <td>243.0</td>\n",
       "      <td>88.0</td>\n",
       "      <td>141.0</td>\n",
       "      <td>74</td>\n",
       "      <td>145</td>\n",
       "      <td>254</td>\n",
       "      <td>1</td>\n",
       "      <td>319</td>\n",
       "    </tr>\n",
       "    <tr>\n",
       "      <th>22</th>\n",
       "      <td>종 로 구</td>\n",
       "      <td>1471</td>\n",
       "      <td>8.0</td>\n",
       "      <td>7.0</td>\n",
       "      <td>599.0</td>\n",
       "      <td>132</td>\n",
       "      <td>195</td>\n",
       "      <td>148</td>\n",
       "      <td>281</td>\n",
       "      <td>101</td>\n",
       "    </tr>\n",
       "    <tr>\n",
       "      <th>23</th>\n",
       "      <td>중     구</td>\n",
       "      <td>1544</td>\n",
       "      <td>25.0</td>\n",
       "      <td>165.0</td>\n",
       "      <td>114.0</td>\n",
       "      <td>80</td>\n",
       "      <td>245</td>\n",
       "      <td>270</td>\n",
       "      <td>317</td>\n",
       "      <td>328</td>\n",
       "    </tr>\n",
       "  </tbody>\n",
       "</table>\n",
       "</div>"
      ],
      "text/plain": [
       "        자치구    소계  2011년 이전  2012년  2013년  2014년  2015년  2016년  2017년  2018년\n",
       "9     도 봉 구   858     197.0   66.0    8.0    185     59    155    117     71\n",
       "24    중 랑 구  1068       NaN    NaN    NaN    770    102    121     66      9\n",
       "2     강 북 구  1265     243.0   88.0  141.0     74    145    254      1    319\n",
       "22    종 로 구  1471       8.0    7.0  599.0    132    195    148    281    101\n",
       "23  중     구  1544      25.0  165.0  114.0     80    245    270    317    328"
      ]
     },
     "execution_count": 50,
     "metadata": {},
     "output_type": "execute_result"
    }
   ],
   "source": [
    "# 소계 컬럼을 중심으로 오름차순 정렬\n",
    "s_cctv.sort_values(by='소계', ascending=True).head()"
   ]
  },
  {
   "cell_type": "markdown",
   "metadata": {},
   "source": [
    "- 2011년도 이전 대비, 향후 7년간 증가율 계산\n",
    "- 7년간 증가율 = (2012~2018년 합산) / 2011년 * 100"
   ]
  },
  {
   "cell_type": "code",
   "execution_count": 51,
   "metadata": {},
   "outputs": [
    {
     "data": {
      "text/html": [
       "<div>\n",
       "<style scoped>\n",
       "    .dataframe tbody tr th:only-of-type {\n",
       "        vertical-align: middle;\n",
       "    }\n",
       "\n",
       "    .dataframe tbody tr th {\n",
       "        vertical-align: top;\n",
       "    }\n",
       "\n",
       "    .dataframe thead th {\n",
       "        text-align: right;\n",
       "    }\n",
       "</style>\n",
       "<table border=\"1\" class=\"dataframe\">\n",
       "  <thead>\n",
       "    <tr style=\"text-align: right;\">\n",
       "      <th></th>\n",
       "      <th>자치구</th>\n",
       "      <th>소계</th>\n",
       "      <th>2011년 이전</th>\n",
       "      <th>2012년</th>\n",
       "      <th>2013년</th>\n",
       "      <th>2014년</th>\n",
       "      <th>2015년</th>\n",
       "      <th>2016년</th>\n",
       "      <th>2017년</th>\n",
       "      <th>2018년</th>\n",
       "    </tr>\n",
       "  </thead>\n",
       "  <tbody>\n",
       "    <tr>\n",
       "      <th>0</th>\n",
       "      <td>강 남 구</td>\n",
       "      <td>5221</td>\n",
       "      <td>1944.0</td>\n",
       "      <td>195.0</td>\n",
       "      <td>316.0</td>\n",
       "      <td>430</td>\n",
       "      <td>546</td>\n",
       "      <td>765</td>\n",
       "      <td>577</td>\n",
       "      <td>448</td>\n",
       "    </tr>\n",
       "    <tr>\n",
       "      <th>1</th>\n",
       "      <td>강 동 구</td>\n",
       "      <td>1879</td>\n",
       "      <td>303.0</td>\n",
       "      <td>387.0</td>\n",
       "      <td>134.0</td>\n",
       "      <td>59</td>\n",
       "      <td>144</td>\n",
       "      <td>194</td>\n",
       "      <td>273</td>\n",
       "      <td>385</td>\n",
       "    </tr>\n",
       "    <tr>\n",
       "      <th>2</th>\n",
       "      <td>강 북 구</td>\n",
       "      <td>1265</td>\n",
       "      <td>243.0</td>\n",
       "      <td>88.0</td>\n",
       "      <td>141.0</td>\n",
       "      <td>74</td>\n",
       "      <td>145</td>\n",
       "      <td>254</td>\n",
       "      <td>1</td>\n",
       "      <td>319</td>\n",
       "    </tr>\n",
       "    <tr>\n",
       "      <th>3</th>\n",
       "      <td>강 서 구</td>\n",
       "      <td>1617</td>\n",
       "      <td>219.0</td>\n",
       "      <td>155.0</td>\n",
       "      <td>118.0</td>\n",
       "      <td>230</td>\n",
       "      <td>187</td>\n",
       "      <td>190</td>\n",
       "      <td>264</td>\n",
       "      <td>254</td>\n",
       "    </tr>\n",
       "    <tr>\n",
       "      <th>4</th>\n",
       "      <td>관 악 구</td>\n",
       "      <td>3985</td>\n",
       "      <td>430.0</td>\n",
       "      <td>56.0</td>\n",
       "      <td>419.0</td>\n",
       "      <td>487</td>\n",
       "      <td>609</td>\n",
       "      <td>619</td>\n",
       "      <td>694</td>\n",
       "      <td>671</td>\n",
       "    </tr>\n",
       "    <tr>\n",
       "      <th>5</th>\n",
       "      <td>광 진 구</td>\n",
       "      <td>1581</td>\n",
       "      <td>470.0</td>\n",
       "      <td>42.0</td>\n",
       "      <td>83.0</td>\n",
       "      <td>87</td>\n",
       "      <td>64</td>\n",
       "      <td>21</td>\n",
       "      <td>468</td>\n",
       "      <td>346</td>\n",
       "    </tr>\n",
       "    <tr>\n",
       "      <th>6</th>\n",
       "      <td>구 로 구</td>\n",
       "      <td>3227</td>\n",
       "      <td>852.0</td>\n",
       "      <td>219.0</td>\n",
       "      <td>349.0</td>\n",
       "      <td>187</td>\n",
       "      <td>268</td>\n",
       "      <td>326</td>\n",
       "      <td>540</td>\n",
       "      <td>486</td>\n",
       "    </tr>\n",
       "    <tr>\n",
       "      <th>7</th>\n",
       "      <td>금 천 구</td>\n",
       "      <td>1634</td>\n",
       "      <td>27.0</td>\n",
       "      <td>17.0</td>\n",
       "      <td>242.0</td>\n",
       "      <td>101</td>\n",
       "      <td>382</td>\n",
       "      <td>136</td>\n",
       "      <td>199</td>\n",
       "      <td>530</td>\n",
       "    </tr>\n",
       "    <tr>\n",
       "      <th>8</th>\n",
       "      <td>노 원 구</td>\n",
       "      <td>1906</td>\n",
       "      <td>481.0</td>\n",
       "      <td>117.0</td>\n",
       "      <td>203.0</td>\n",
       "      <td>80</td>\n",
       "      <td>461</td>\n",
       "      <td>298</td>\n",
       "      <td>110</td>\n",
       "      <td>156</td>\n",
       "    </tr>\n",
       "    <tr>\n",
       "      <th>9</th>\n",
       "      <td>도 봉 구</td>\n",
       "      <td>858</td>\n",
       "      <td>197.0</td>\n",
       "      <td>66.0</td>\n",
       "      <td>8.0</td>\n",
       "      <td>185</td>\n",
       "      <td>59</td>\n",
       "      <td>155</td>\n",
       "      <td>117</td>\n",
       "      <td>71</td>\n",
       "    </tr>\n",
       "    <tr>\n",
       "      <th>10</th>\n",
       "      <td>동대문구</td>\n",
       "      <td>2003</td>\n",
       "      <td>NaN</td>\n",
       "      <td>NaN</td>\n",
       "      <td>NaN</td>\n",
       "      <td>1326</td>\n",
       "      <td>111</td>\n",
       "      <td>233</td>\n",
       "      <td>136</td>\n",
       "      <td>197</td>\n",
       "    </tr>\n",
       "    <tr>\n",
       "      <th>11</th>\n",
       "      <td>동 작 구</td>\n",
       "      <td>1780</td>\n",
       "      <td>238.0</td>\n",
       "      <td>93.0</td>\n",
       "      <td>29.0</td>\n",
       "      <td>503</td>\n",
       "      <td>130</td>\n",
       "      <td>254</td>\n",
       "      <td>278</td>\n",
       "      <td>255</td>\n",
       "    </tr>\n",
       "    <tr>\n",
       "      <th>12</th>\n",
       "      <td>마 포 구</td>\n",
       "      <td>1935</td>\n",
       "      <td>585.0</td>\n",
       "      <td>108.0</td>\n",
       "      <td>69.0</td>\n",
       "      <td>70</td>\n",
       "      <td>177</td>\n",
       "      <td>359</td>\n",
       "      <td>372</td>\n",
       "      <td>195</td>\n",
       "    </tr>\n",
       "    <tr>\n",
       "      <th>13</th>\n",
       "      <td>서대문구</td>\n",
       "      <td>2121</td>\n",
       "      <td>565.0</td>\n",
       "      <td>233.0</td>\n",
       "      <td>214.0</td>\n",
       "      <td>114</td>\n",
       "      <td>109</td>\n",
       "      <td>277</td>\n",
       "      <td>415</td>\n",
       "      <td>194</td>\n",
       "    </tr>\n",
       "    <tr>\n",
       "      <th>14</th>\n",
       "      <td>서 초 구</td>\n",
       "      <td>2835</td>\n",
       "      <td>1172.0</td>\n",
       "      <td>91.0</td>\n",
       "      <td>228.0</td>\n",
       "      <td>134</td>\n",
       "      <td>215</td>\n",
       "      <td>352</td>\n",
       "      <td>247</td>\n",
       "      <td>396</td>\n",
       "    </tr>\n",
       "    <tr>\n",
       "      <th>15</th>\n",
       "      <td>성 동 구</td>\n",
       "      <td>2679</td>\n",
       "      <td>665.0</td>\n",
       "      <td>109.0</td>\n",
       "      <td>118.0</td>\n",
       "      <td>101</td>\n",
       "      <td>258</td>\n",
       "      <td>201</td>\n",
       "      <td>933</td>\n",
       "      <td>294</td>\n",
       "    </tr>\n",
       "    <tr>\n",
       "      <th>16</th>\n",
       "      <td>성 북 구</td>\n",
       "      <td>3003</td>\n",
       "      <td>779.0</td>\n",
       "      <td>84.0</td>\n",
       "      <td>304.0</td>\n",
       "      <td>241</td>\n",
       "      <td>279</td>\n",
       "      <td>388</td>\n",
       "      <td>285</td>\n",
       "      <td>643</td>\n",
       "    </tr>\n",
       "    <tr>\n",
       "      <th>17</th>\n",
       "      <td>송 파 구</td>\n",
       "      <td>1586</td>\n",
       "      <td>600.0</td>\n",
       "      <td>99.0</td>\n",
       "      <td>88.0</td>\n",
       "      <td>21</td>\n",
       "      <td>166</td>\n",
       "      <td>100</td>\n",
       "      <td>116</td>\n",
       "      <td>396</td>\n",
       "    </tr>\n",
       "    <tr>\n",
       "      <th>18</th>\n",
       "      <td>양 천 구</td>\n",
       "      <td>2775</td>\n",
       "      <td>772.0</td>\n",
       "      <td>161.0</td>\n",
       "      <td>185.0</td>\n",
       "      <td>169</td>\n",
       "      <td>172</td>\n",
       "      <td>349</td>\n",
       "      <td>137</td>\n",
       "      <td>830</td>\n",
       "    </tr>\n",
       "    <tr>\n",
       "      <th>19</th>\n",
       "      <td>영등포구</td>\n",
       "      <td>2495</td>\n",
       "      <td>132.0</td>\n",
       "      <td>121.0</td>\n",
       "      <td>206.0</td>\n",
       "      <td>217</td>\n",
       "      <td>366</td>\n",
       "      <td>289</td>\n",
       "      <td>371</td>\n",
       "      <td>793</td>\n",
       "    </tr>\n",
       "    <tr>\n",
       "      <th>20</th>\n",
       "      <td>용 산 구</td>\n",
       "      <td>2063</td>\n",
       "      <td>1279.0</td>\n",
       "      <td>152.0</td>\n",
       "      <td>201.0</td>\n",
       "      <td>107</td>\n",
       "      <td>102</td>\n",
       "      <td>89</td>\n",
       "      <td>60</td>\n",
       "      <td>73</td>\n",
       "    </tr>\n",
       "    <tr>\n",
       "      <th>21</th>\n",
       "      <td>은 평 구</td>\n",
       "      <td>2962</td>\n",
       "      <td>1365.0</td>\n",
       "      <td>83.0</td>\n",
       "      <td>99.0</td>\n",
       "      <td>343</td>\n",
       "      <td>180</td>\n",
       "      <td>296</td>\n",
       "      <td>229</td>\n",
       "      <td>367</td>\n",
       "    </tr>\n",
       "    <tr>\n",
       "      <th>22</th>\n",
       "      <td>종 로 구</td>\n",
       "      <td>1471</td>\n",
       "      <td>8.0</td>\n",
       "      <td>7.0</td>\n",
       "      <td>599.0</td>\n",
       "      <td>132</td>\n",
       "      <td>195</td>\n",
       "      <td>148</td>\n",
       "      <td>281</td>\n",
       "      <td>101</td>\n",
       "    </tr>\n",
       "    <tr>\n",
       "      <th>23</th>\n",
       "      <td>중     구</td>\n",
       "      <td>1544</td>\n",
       "      <td>25.0</td>\n",
       "      <td>165.0</td>\n",
       "      <td>114.0</td>\n",
       "      <td>80</td>\n",
       "      <td>245</td>\n",
       "      <td>270</td>\n",
       "      <td>317</td>\n",
       "      <td>328</td>\n",
       "    </tr>\n",
       "    <tr>\n",
       "      <th>24</th>\n",
       "      <td>중 랑 구</td>\n",
       "      <td>1068</td>\n",
       "      <td>NaN</td>\n",
       "      <td>NaN</td>\n",
       "      <td>NaN</td>\n",
       "      <td>770</td>\n",
       "      <td>102</td>\n",
       "      <td>121</td>\n",
       "      <td>66</td>\n",
       "      <td>9</td>\n",
       "    </tr>\n",
       "  </tbody>\n",
       "</table>\n",
       "</div>"
      ],
      "text/plain": [
       "        자치구    소계  2011년 이전  2012년  2013년  2014년  2015년  2016년  2017년  2018년\n",
       "0     강 남 구  5221    1944.0  195.0  316.0    430    546    765    577    448\n",
       "1     강 동 구  1879     303.0  387.0  134.0     59    144    194    273    385\n",
       "2     강 북 구  1265     243.0   88.0  141.0     74    145    254      1    319\n",
       "3     강 서 구  1617     219.0  155.0  118.0    230    187    190    264    254\n",
       "4     관 악 구  3985     430.0   56.0  419.0    487    609    619    694    671\n",
       "5     광 진 구  1581     470.0   42.0   83.0     87     64     21    468    346\n",
       "6     구 로 구  3227     852.0  219.0  349.0    187    268    326    540    486\n",
       "7     금 천 구  1634      27.0   17.0  242.0    101    382    136    199    530\n",
       "8     노 원 구  1906     481.0  117.0  203.0     80    461    298    110    156\n",
       "9     도 봉 구   858     197.0   66.0    8.0    185     59    155    117     71\n",
       "10     동대문구  2003       NaN    NaN    NaN   1326    111    233    136    197\n",
       "11    동 작 구  1780     238.0   93.0   29.0    503    130    254    278    255\n",
       "12    마 포 구  1935     585.0  108.0   69.0     70    177    359    372    195\n",
       "13     서대문구  2121     565.0  233.0  214.0    114    109    277    415    194\n",
       "14    서 초 구  2835    1172.0   91.0  228.0    134    215    352    247    396\n",
       "15    성 동 구  2679     665.0  109.0  118.0    101    258    201    933    294\n",
       "16    성 북 구  3003     779.0   84.0  304.0    241    279    388    285    643\n",
       "17    송 파 구  1586     600.0   99.0   88.0     21    166    100    116    396\n",
       "18    양 천 구  2775     772.0  161.0  185.0    169    172    349    137    830\n",
       "19     영등포구  2495     132.0  121.0  206.0    217    366    289    371    793\n",
       "20    용 산 구  2063    1279.0  152.0  201.0    107    102     89     60     73\n",
       "21    은 평 구  2962    1365.0   83.0   99.0    343    180    296    229    367\n",
       "22    종 로 구  1471       8.0    7.0  599.0    132    195    148    281    101\n",
       "23  중     구  1544      25.0  165.0  114.0     80    245    270    317    328\n",
       "24    중 랑 구  1068       NaN    NaN    NaN    770    102    121     66      9"
      ]
     },
     "execution_count": 51,
     "metadata": {},
     "output_type": "execute_result"
    }
   ],
   "source": [
    "s_cctv"
   ]
  },
  {
   "cell_type": "markdown",
   "metadata": {},
   "source": [
    "[문제점]\n",
    "- 결측치가 존재하는 중랑구, 동대문구에 대한 조치 필요\n",
    "> - 결측치를 0으로 처리하는 방안  \n",
    "> - 최초 데이터가 존재하는 년도까지 기준점으로 잡고 가는 방향  \n",
    "> - 최초 데이터에 대한 의구심을 가지고 다시 데이터를 수집하는 방향  \n",
    "- 종로구는 초기 데이터가 워낙 작아서 증가율이 너무 크게 나온다\n",
    "> 특정 구간까지는 ~년도 이전으로 묶어주는 것이 나을 듯\n",
    "- 공공데이터 자료 검토 결과 2018년도와 2019년도 자료가 상이"
   ]
  },
  {
   "cell_type": "markdown",
   "metadata": {},
   "source": [
    "[해결 방안]\n",
    "- NaN → 0으로 처리\n",
    "- 원래는 자료 제공 기관에 문의하여 확인 과정이 필요하나, 절차상 생략하고 2019년도 자료 중에서 2011년 이전, 2012년, 2013년, 2014년까지를 합산하여 새로운 컬럼 '2014년도 이전'을 생성\n",
    "- 필요없는 자료는 제거\n",
    "- '2014년도 이전' 대비 2015~2018(4년간) 증가율 '최신증가율' 항목 추가"
   ]
  },
  {
   "cell_type": "markdown",
   "metadata": {},
   "source": [
    "### nan 처리 → 결측치 처리"
   ]
  },
  {
   "cell_type": "markdown",
   "metadata": {},
   "source": [
    "###### 결측치 0으로 대체 : .fillna(0)"
   ]
  },
  {
   "cell_type": "code",
   "execution_count": 52,
   "metadata": {},
   "outputs": [
    {
     "data": {
      "text/html": [
       "<div>\n",
       "<style scoped>\n",
       "    .dataframe tbody tr th:only-of-type {\n",
       "        vertical-align: middle;\n",
       "    }\n",
       "\n",
       "    .dataframe tbody tr th {\n",
       "        vertical-align: top;\n",
       "    }\n",
       "\n",
       "    .dataframe thead th {\n",
       "        text-align: right;\n",
       "    }\n",
       "</style>\n",
       "<table border=\"1\" class=\"dataframe\">\n",
       "  <thead>\n",
       "    <tr style=\"text-align: right;\">\n",
       "      <th></th>\n",
       "      <th>자치구</th>\n",
       "      <th>소계</th>\n",
       "      <th>2011년 이전</th>\n",
       "      <th>2012년</th>\n",
       "      <th>2013년</th>\n",
       "      <th>2014년</th>\n",
       "      <th>2015년</th>\n",
       "      <th>2016년</th>\n",
       "      <th>2017년</th>\n",
       "      <th>2018년</th>\n",
       "    </tr>\n",
       "  </thead>\n",
       "  <tbody>\n",
       "    <tr>\n",
       "      <th>0</th>\n",
       "      <td>강 남 구</td>\n",
       "      <td>5221</td>\n",
       "      <td>1944.0</td>\n",
       "      <td>195.0</td>\n",
       "      <td>316.0</td>\n",
       "      <td>430</td>\n",
       "      <td>546</td>\n",
       "      <td>765</td>\n",
       "      <td>577</td>\n",
       "      <td>448</td>\n",
       "    </tr>\n",
       "    <tr>\n",
       "      <th>1</th>\n",
       "      <td>강 동 구</td>\n",
       "      <td>1879</td>\n",
       "      <td>303.0</td>\n",
       "      <td>387.0</td>\n",
       "      <td>134.0</td>\n",
       "      <td>59</td>\n",
       "      <td>144</td>\n",
       "      <td>194</td>\n",
       "      <td>273</td>\n",
       "      <td>385</td>\n",
       "    </tr>\n",
       "    <tr>\n",
       "      <th>2</th>\n",
       "      <td>강 북 구</td>\n",
       "      <td>1265</td>\n",
       "      <td>243.0</td>\n",
       "      <td>88.0</td>\n",
       "      <td>141.0</td>\n",
       "      <td>74</td>\n",
       "      <td>145</td>\n",
       "      <td>254</td>\n",
       "      <td>1</td>\n",
       "      <td>319</td>\n",
       "    </tr>\n",
       "    <tr>\n",
       "      <th>3</th>\n",
       "      <td>강 서 구</td>\n",
       "      <td>1617</td>\n",
       "      <td>219.0</td>\n",
       "      <td>155.0</td>\n",
       "      <td>118.0</td>\n",
       "      <td>230</td>\n",
       "      <td>187</td>\n",
       "      <td>190</td>\n",
       "      <td>264</td>\n",
       "      <td>254</td>\n",
       "    </tr>\n",
       "    <tr>\n",
       "      <th>4</th>\n",
       "      <td>관 악 구</td>\n",
       "      <td>3985</td>\n",
       "      <td>430.0</td>\n",
       "      <td>56.0</td>\n",
       "      <td>419.0</td>\n",
       "      <td>487</td>\n",
       "      <td>609</td>\n",
       "      <td>619</td>\n",
       "      <td>694</td>\n",
       "      <td>671</td>\n",
       "    </tr>\n",
       "    <tr>\n",
       "      <th>5</th>\n",
       "      <td>광 진 구</td>\n",
       "      <td>1581</td>\n",
       "      <td>470.0</td>\n",
       "      <td>42.0</td>\n",
       "      <td>83.0</td>\n",
       "      <td>87</td>\n",
       "      <td>64</td>\n",
       "      <td>21</td>\n",
       "      <td>468</td>\n",
       "      <td>346</td>\n",
       "    </tr>\n",
       "    <tr>\n",
       "      <th>6</th>\n",
       "      <td>구 로 구</td>\n",
       "      <td>3227</td>\n",
       "      <td>852.0</td>\n",
       "      <td>219.0</td>\n",
       "      <td>349.0</td>\n",
       "      <td>187</td>\n",
       "      <td>268</td>\n",
       "      <td>326</td>\n",
       "      <td>540</td>\n",
       "      <td>486</td>\n",
       "    </tr>\n",
       "    <tr>\n",
       "      <th>7</th>\n",
       "      <td>금 천 구</td>\n",
       "      <td>1634</td>\n",
       "      <td>27.0</td>\n",
       "      <td>17.0</td>\n",
       "      <td>242.0</td>\n",
       "      <td>101</td>\n",
       "      <td>382</td>\n",
       "      <td>136</td>\n",
       "      <td>199</td>\n",
       "      <td>530</td>\n",
       "    </tr>\n",
       "    <tr>\n",
       "      <th>8</th>\n",
       "      <td>노 원 구</td>\n",
       "      <td>1906</td>\n",
       "      <td>481.0</td>\n",
       "      <td>117.0</td>\n",
       "      <td>203.0</td>\n",
       "      <td>80</td>\n",
       "      <td>461</td>\n",
       "      <td>298</td>\n",
       "      <td>110</td>\n",
       "      <td>156</td>\n",
       "    </tr>\n",
       "    <tr>\n",
       "      <th>9</th>\n",
       "      <td>도 봉 구</td>\n",
       "      <td>858</td>\n",
       "      <td>197.0</td>\n",
       "      <td>66.0</td>\n",
       "      <td>8.0</td>\n",
       "      <td>185</td>\n",
       "      <td>59</td>\n",
       "      <td>155</td>\n",
       "      <td>117</td>\n",
       "      <td>71</td>\n",
       "    </tr>\n",
       "    <tr>\n",
       "      <th>10</th>\n",
       "      <td>동대문구</td>\n",
       "      <td>2003</td>\n",
       "      <td>0.0</td>\n",
       "      <td>0.0</td>\n",
       "      <td>0.0</td>\n",
       "      <td>1326</td>\n",
       "      <td>111</td>\n",
       "      <td>233</td>\n",
       "      <td>136</td>\n",
       "      <td>197</td>\n",
       "    </tr>\n",
       "    <tr>\n",
       "      <th>11</th>\n",
       "      <td>동 작 구</td>\n",
       "      <td>1780</td>\n",
       "      <td>238.0</td>\n",
       "      <td>93.0</td>\n",
       "      <td>29.0</td>\n",
       "      <td>503</td>\n",
       "      <td>130</td>\n",
       "      <td>254</td>\n",
       "      <td>278</td>\n",
       "      <td>255</td>\n",
       "    </tr>\n",
       "    <tr>\n",
       "      <th>12</th>\n",
       "      <td>마 포 구</td>\n",
       "      <td>1935</td>\n",
       "      <td>585.0</td>\n",
       "      <td>108.0</td>\n",
       "      <td>69.0</td>\n",
       "      <td>70</td>\n",
       "      <td>177</td>\n",
       "      <td>359</td>\n",
       "      <td>372</td>\n",
       "      <td>195</td>\n",
       "    </tr>\n",
       "    <tr>\n",
       "      <th>13</th>\n",
       "      <td>서대문구</td>\n",
       "      <td>2121</td>\n",
       "      <td>565.0</td>\n",
       "      <td>233.0</td>\n",
       "      <td>214.0</td>\n",
       "      <td>114</td>\n",
       "      <td>109</td>\n",
       "      <td>277</td>\n",
       "      <td>415</td>\n",
       "      <td>194</td>\n",
       "    </tr>\n",
       "    <tr>\n",
       "      <th>14</th>\n",
       "      <td>서 초 구</td>\n",
       "      <td>2835</td>\n",
       "      <td>1172.0</td>\n",
       "      <td>91.0</td>\n",
       "      <td>228.0</td>\n",
       "      <td>134</td>\n",
       "      <td>215</td>\n",
       "      <td>352</td>\n",
       "      <td>247</td>\n",
       "      <td>396</td>\n",
       "    </tr>\n",
       "    <tr>\n",
       "      <th>15</th>\n",
       "      <td>성 동 구</td>\n",
       "      <td>2679</td>\n",
       "      <td>665.0</td>\n",
       "      <td>109.0</td>\n",
       "      <td>118.0</td>\n",
       "      <td>101</td>\n",
       "      <td>258</td>\n",
       "      <td>201</td>\n",
       "      <td>933</td>\n",
       "      <td>294</td>\n",
       "    </tr>\n",
       "    <tr>\n",
       "      <th>16</th>\n",
       "      <td>성 북 구</td>\n",
       "      <td>3003</td>\n",
       "      <td>779.0</td>\n",
       "      <td>84.0</td>\n",
       "      <td>304.0</td>\n",
       "      <td>241</td>\n",
       "      <td>279</td>\n",
       "      <td>388</td>\n",
       "      <td>285</td>\n",
       "      <td>643</td>\n",
       "    </tr>\n",
       "    <tr>\n",
       "      <th>17</th>\n",
       "      <td>송 파 구</td>\n",
       "      <td>1586</td>\n",
       "      <td>600.0</td>\n",
       "      <td>99.0</td>\n",
       "      <td>88.0</td>\n",
       "      <td>21</td>\n",
       "      <td>166</td>\n",
       "      <td>100</td>\n",
       "      <td>116</td>\n",
       "      <td>396</td>\n",
       "    </tr>\n",
       "    <tr>\n",
       "      <th>18</th>\n",
       "      <td>양 천 구</td>\n",
       "      <td>2775</td>\n",
       "      <td>772.0</td>\n",
       "      <td>161.0</td>\n",
       "      <td>185.0</td>\n",
       "      <td>169</td>\n",
       "      <td>172</td>\n",
       "      <td>349</td>\n",
       "      <td>137</td>\n",
       "      <td>830</td>\n",
       "    </tr>\n",
       "    <tr>\n",
       "      <th>19</th>\n",
       "      <td>영등포구</td>\n",
       "      <td>2495</td>\n",
       "      <td>132.0</td>\n",
       "      <td>121.0</td>\n",
       "      <td>206.0</td>\n",
       "      <td>217</td>\n",
       "      <td>366</td>\n",
       "      <td>289</td>\n",
       "      <td>371</td>\n",
       "      <td>793</td>\n",
       "    </tr>\n",
       "    <tr>\n",
       "      <th>20</th>\n",
       "      <td>용 산 구</td>\n",
       "      <td>2063</td>\n",
       "      <td>1279.0</td>\n",
       "      <td>152.0</td>\n",
       "      <td>201.0</td>\n",
       "      <td>107</td>\n",
       "      <td>102</td>\n",
       "      <td>89</td>\n",
       "      <td>60</td>\n",
       "      <td>73</td>\n",
       "    </tr>\n",
       "    <tr>\n",
       "      <th>21</th>\n",
       "      <td>은 평 구</td>\n",
       "      <td>2962</td>\n",
       "      <td>1365.0</td>\n",
       "      <td>83.0</td>\n",
       "      <td>99.0</td>\n",
       "      <td>343</td>\n",
       "      <td>180</td>\n",
       "      <td>296</td>\n",
       "      <td>229</td>\n",
       "      <td>367</td>\n",
       "    </tr>\n",
       "    <tr>\n",
       "      <th>22</th>\n",
       "      <td>종 로 구</td>\n",
       "      <td>1471</td>\n",
       "      <td>8.0</td>\n",
       "      <td>7.0</td>\n",
       "      <td>599.0</td>\n",
       "      <td>132</td>\n",
       "      <td>195</td>\n",
       "      <td>148</td>\n",
       "      <td>281</td>\n",
       "      <td>101</td>\n",
       "    </tr>\n",
       "    <tr>\n",
       "      <th>23</th>\n",
       "      <td>중     구</td>\n",
       "      <td>1544</td>\n",
       "      <td>25.0</td>\n",
       "      <td>165.0</td>\n",
       "      <td>114.0</td>\n",
       "      <td>80</td>\n",
       "      <td>245</td>\n",
       "      <td>270</td>\n",
       "      <td>317</td>\n",
       "      <td>328</td>\n",
       "    </tr>\n",
       "    <tr>\n",
       "      <th>24</th>\n",
       "      <td>중 랑 구</td>\n",
       "      <td>1068</td>\n",
       "      <td>0.0</td>\n",
       "      <td>0.0</td>\n",
       "      <td>0.0</td>\n",
       "      <td>770</td>\n",
       "      <td>102</td>\n",
       "      <td>121</td>\n",
       "      <td>66</td>\n",
       "      <td>9</td>\n",
       "    </tr>\n",
       "  </tbody>\n",
       "</table>\n",
       "</div>"
      ],
      "text/plain": [
       "        자치구    소계  2011년 이전  2012년  2013년  2014년  2015년  2016년  2017년  2018년\n",
       "0     강 남 구  5221    1944.0  195.0  316.0    430    546    765    577    448\n",
       "1     강 동 구  1879     303.0  387.0  134.0     59    144    194    273    385\n",
       "2     강 북 구  1265     243.0   88.0  141.0     74    145    254      1    319\n",
       "3     강 서 구  1617     219.0  155.0  118.0    230    187    190    264    254\n",
       "4     관 악 구  3985     430.0   56.0  419.0    487    609    619    694    671\n",
       "5     광 진 구  1581     470.0   42.0   83.0     87     64     21    468    346\n",
       "6     구 로 구  3227     852.0  219.0  349.0    187    268    326    540    486\n",
       "7     금 천 구  1634      27.0   17.0  242.0    101    382    136    199    530\n",
       "8     노 원 구  1906     481.0  117.0  203.0     80    461    298    110    156\n",
       "9     도 봉 구   858     197.0   66.0    8.0    185     59    155    117     71\n",
       "10     동대문구  2003       0.0    0.0    0.0   1326    111    233    136    197\n",
       "11    동 작 구  1780     238.0   93.0   29.0    503    130    254    278    255\n",
       "12    마 포 구  1935     585.0  108.0   69.0     70    177    359    372    195\n",
       "13     서대문구  2121     565.0  233.0  214.0    114    109    277    415    194\n",
       "14    서 초 구  2835    1172.0   91.0  228.0    134    215    352    247    396\n",
       "15    성 동 구  2679     665.0  109.0  118.0    101    258    201    933    294\n",
       "16    성 북 구  3003     779.0   84.0  304.0    241    279    388    285    643\n",
       "17    송 파 구  1586     600.0   99.0   88.0     21    166    100    116    396\n",
       "18    양 천 구  2775     772.0  161.0  185.0    169    172    349    137    830\n",
       "19     영등포구  2495     132.0  121.0  206.0    217    366    289    371    793\n",
       "20    용 산 구  2063    1279.0  152.0  201.0    107    102     89     60     73\n",
       "21    은 평 구  2962    1365.0   83.0   99.0    343    180    296    229    367\n",
       "22    종 로 구  1471       8.0    7.0  599.0    132    195    148    281    101\n",
       "23  중     구  1544      25.0  165.0  114.0     80    245    270    317    328\n",
       "24    중 랑 구  1068       0.0    0.0    0.0    770    102    121     66      9"
      ]
     },
     "execution_count": 52,
     "metadata": {},
     "output_type": "execute_result"
    }
   ],
   "source": [
    "s_cctv = s_cctv.fillna(0)\n",
    "s_cctv"
   ]
  },
  {
   "cell_type": "code",
   "execution_count": 53,
   "metadata": {},
   "outputs": [],
   "source": [
    "# 반복문으로 '2014년 이전' 계산해보기\n",
    "# tmp_sum = 0\n",
    "# for i in range(2, 6) :\n",
    "#     tmp_sum = tmp_sum + s_cctv.iloc[:,i]\n",
    "# tmp_sum"
   ]
  },
  {
   "cell_type": "code",
   "execution_count": 54,
   "metadata": {
    "scrolled": true
   },
   "outputs": [
    {
     "data": {
      "text/html": [
       "<div>\n",
       "<style scoped>\n",
       "    .dataframe tbody tr th:only-of-type {\n",
       "        vertical-align: middle;\n",
       "    }\n",
       "\n",
       "    .dataframe tbody tr th {\n",
       "        vertical-align: top;\n",
       "    }\n",
       "\n",
       "    .dataframe thead th {\n",
       "        text-align: right;\n",
       "    }\n",
       "</style>\n",
       "<table border=\"1\" class=\"dataframe\">\n",
       "  <thead>\n",
       "    <tr style=\"text-align: right;\">\n",
       "      <th></th>\n",
       "      <th>자치구</th>\n",
       "      <th>소계</th>\n",
       "      <th>2011년 이전</th>\n",
       "      <th>2012년</th>\n",
       "      <th>2013년</th>\n",
       "      <th>2014년</th>\n",
       "      <th>2015년</th>\n",
       "      <th>2016년</th>\n",
       "      <th>2017년</th>\n",
       "      <th>2018년</th>\n",
       "      <th>2014년도 이전</th>\n",
       "    </tr>\n",
       "  </thead>\n",
       "  <tbody>\n",
       "    <tr>\n",
       "      <th>0</th>\n",
       "      <td>강 남 구</td>\n",
       "      <td>5221</td>\n",
       "      <td>1944.0</td>\n",
       "      <td>195.0</td>\n",
       "      <td>316.0</td>\n",
       "      <td>430</td>\n",
       "      <td>546</td>\n",
       "      <td>765</td>\n",
       "      <td>577</td>\n",
       "      <td>448</td>\n",
       "      <td>2885.0</td>\n",
       "    </tr>\n",
       "    <tr>\n",
       "      <th>1</th>\n",
       "      <td>강 동 구</td>\n",
       "      <td>1879</td>\n",
       "      <td>303.0</td>\n",
       "      <td>387.0</td>\n",
       "      <td>134.0</td>\n",
       "      <td>59</td>\n",
       "      <td>144</td>\n",
       "      <td>194</td>\n",
       "      <td>273</td>\n",
       "      <td>385</td>\n",
       "      <td>883.0</td>\n",
       "    </tr>\n",
       "    <tr>\n",
       "      <th>2</th>\n",
       "      <td>강 북 구</td>\n",
       "      <td>1265</td>\n",
       "      <td>243.0</td>\n",
       "      <td>88.0</td>\n",
       "      <td>141.0</td>\n",
       "      <td>74</td>\n",
       "      <td>145</td>\n",
       "      <td>254</td>\n",
       "      <td>1</td>\n",
       "      <td>319</td>\n",
       "      <td>546.0</td>\n",
       "    </tr>\n",
       "    <tr>\n",
       "      <th>3</th>\n",
       "      <td>강 서 구</td>\n",
       "      <td>1617</td>\n",
       "      <td>219.0</td>\n",
       "      <td>155.0</td>\n",
       "      <td>118.0</td>\n",
       "      <td>230</td>\n",
       "      <td>187</td>\n",
       "      <td>190</td>\n",
       "      <td>264</td>\n",
       "      <td>254</td>\n",
       "      <td>722.0</td>\n",
       "    </tr>\n",
       "    <tr>\n",
       "      <th>4</th>\n",
       "      <td>관 악 구</td>\n",
       "      <td>3985</td>\n",
       "      <td>430.0</td>\n",
       "      <td>56.0</td>\n",
       "      <td>419.0</td>\n",
       "      <td>487</td>\n",
       "      <td>609</td>\n",
       "      <td>619</td>\n",
       "      <td>694</td>\n",
       "      <td>671</td>\n",
       "      <td>1392.0</td>\n",
       "    </tr>\n",
       "    <tr>\n",
       "      <th>5</th>\n",
       "      <td>광 진 구</td>\n",
       "      <td>1581</td>\n",
       "      <td>470.0</td>\n",
       "      <td>42.0</td>\n",
       "      <td>83.0</td>\n",
       "      <td>87</td>\n",
       "      <td>64</td>\n",
       "      <td>21</td>\n",
       "      <td>468</td>\n",
       "      <td>346</td>\n",
       "      <td>682.0</td>\n",
       "    </tr>\n",
       "    <tr>\n",
       "      <th>6</th>\n",
       "      <td>구 로 구</td>\n",
       "      <td>3227</td>\n",
       "      <td>852.0</td>\n",
       "      <td>219.0</td>\n",
       "      <td>349.0</td>\n",
       "      <td>187</td>\n",
       "      <td>268</td>\n",
       "      <td>326</td>\n",
       "      <td>540</td>\n",
       "      <td>486</td>\n",
       "      <td>1607.0</td>\n",
       "    </tr>\n",
       "    <tr>\n",
       "      <th>7</th>\n",
       "      <td>금 천 구</td>\n",
       "      <td>1634</td>\n",
       "      <td>27.0</td>\n",
       "      <td>17.0</td>\n",
       "      <td>242.0</td>\n",
       "      <td>101</td>\n",
       "      <td>382</td>\n",
       "      <td>136</td>\n",
       "      <td>199</td>\n",
       "      <td>530</td>\n",
       "      <td>387.0</td>\n",
       "    </tr>\n",
       "    <tr>\n",
       "      <th>8</th>\n",
       "      <td>노 원 구</td>\n",
       "      <td>1906</td>\n",
       "      <td>481.0</td>\n",
       "      <td>117.0</td>\n",
       "      <td>203.0</td>\n",
       "      <td>80</td>\n",
       "      <td>461</td>\n",
       "      <td>298</td>\n",
       "      <td>110</td>\n",
       "      <td>156</td>\n",
       "      <td>881.0</td>\n",
       "    </tr>\n",
       "    <tr>\n",
       "      <th>9</th>\n",
       "      <td>도 봉 구</td>\n",
       "      <td>858</td>\n",
       "      <td>197.0</td>\n",
       "      <td>66.0</td>\n",
       "      <td>8.0</td>\n",
       "      <td>185</td>\n",
       "      <td>59</td>\n",
       "      <td>155</td>\n",
       "      <td>117</td>\n",
       "      <td>71</td>\n",
       "      <td>456.0</td>\n",
       "    </tr>\n",
       "    <tr>\n",
       "      <th>10</th>\n",
       "      <td>동대문구</td>\n",
       "      <td>2003</td>\n",
       "      <td>0.0</td>\n",
       "      <td>0.0</td>\n",
       "      <td>0.0</td>\n",
       "      <td>1326</td>\n",
       "      <td>111</td>\n",
       "      <td>233</td>\n",
       "      <td>136</td>\n",
       "      <td>197</td>\n",
       "      <td>1326.0</td>\n",
       "    </tr>\n",
       "    <tr>\n",
       "      <th>11</th>\n",
       "      <td>동 작 구</td>\n",
       "      <td>1780</td>\n",
       "      <td>238.0</td>\n",
       "      <td>93.0</td>\n",
       "      <td>29.0</td>\n",
       "      <td>503</td>\n",
       "      <td>130</td>\n",
       "      <td>254</td>\n",
       "      <td>278</td>\n",
       "      <td>255</td>\n",
       "      <td>863.0</td>\n",
       "    </tr>\n",
       "    <tr>\n",
       "      <th>12</th>\n",
       "      <td>마 포 구</td>\n",
       "      <td>1935</td>\n",
       "      <td>585.0</td>\n",
       "      <td>108.0</td>\n",
       "      <td>69.0</td>\n",
       "      <td>70</td>\n",
       "      <td>177</td>\n",
       "      <td>359</td>\n",
       "      <td>372</td>\n",
       "      <td>195</td>\n",
       "      <td>832.0</td>\n",
       "    </tr>\n",
       "    <tr>\n",
       "      <th>13</th>\n",
       "      <td>서대문구</td>\n",
       "      <td>2121</td>\n",
       "      <td>565.0</td>\n",
       "      <td>233.0</td>\n",
       "      <td>214.0</td>\n",
       "      <td>114</td>\n",
       "      <td>109</td>\n",
       "      <td>277</td>\n",
       "      <td>415</td>\n",
       "      <td>194</td>\n",
       "      <td>1126.0</td>\n",
       "    </tr>\n",
       "    <tr>\n",
       "      <th>14</th>\n",
       "      <td>서 초 구</td>\n",
       "      <td>2835</td>\n",
       "      <td>1172.0</td>\n",
       "      <td>91.0</td>\n",
       "      <td>228.0</td>\n",
       "      <td>134</td>\n",
       "      <td>215</td>\n",
       "      <td>352</td>\n",
       "      <td>247</td>\n",
       "      <td>396</td>\n",
       "      <td>1625.0</td>\n",
       "    </tr>\n",
       "    <tr>\n",
       "      <th>15</th>\n",
       "      <td>성 동 구</td>\n",
       "      <td>2679</td>\n",
       "      <td>665.0</td>\n",
       "      <td>109.0</td>\n",
       "      <td>118.0</td>\n",
       "      <td>101</td>\n",
       "      <td>258</td>\n",
       "      <td>201</td>\n",
       "      <td>933</td>\n",
       "      <td>294</td>\n",
       "      <td>993.0</td>\n",
       "    </tr>\n",
       "    <tr>\n",
       "      <th>16</th>\n",
       "      <td>성 북 구</td>\n",
       "      <td>3003</td>\n",
       "      <td>779.0</td>\n",
       "      <td>84.0</td>\n",
       "      <td>304.0</td>\n",
       "      <td>241</td>\n",
       "      <td>279</td>\n",
       "      <td>388</td>\n",
       "      <td>285</td>\n",
       "      <td>643</td>\n",
       "      <td>1408.0</td>\n",
       "    </tr>\n",
       "    <tr>\n",
       "      <th>17</th>\n",
       "      <td>송 파 구</td>\n",
       "      <td>1586</td>\n",
       "      <td>600.0</td>\n",
       "      <td>99.0</td>\n",
       "      <td>88.0</td>\n",
       "      <td>21</td>\n",
       "      <td>166</td>\n",
       "      <td>100</td>\n",
       "      <td>116</td>\n",
       "      <td>396</td>\n",
       "      <td>808.0</td>\n",
       "    </tr>\n",
       "    <tr>\n",
       "      <th>18</th>\n",
       "      <td>양 천 구</td>\n",
       "      <td>2775</td>\n",
       "      <td>772.0</td>\n",
       "      <td>161.0</td>\n",
       "      <td>185.0</td>\n",
       "      <td>169</td>\n",
       "      <td>172</td>\n",
       "      <td>349</td>\n",
       "      <td>137</td>\n",
       "      <td>830</td>\n",
       "      <td>1287.0</td>\n",
       "    </tr>\n",
       "    <tr>\n",
       "      <th>19</th>\n",
       "      <td>영등포구</td>\n",
       "      <td>2495</td>\n",
       "      <td>132.0</td>\n",
       "      <td>121.0</td>\n",
       "      <td>206.0</td>\n",
       "      <td>217</td>\n",
       "      <td>366</td>\n",
       "      <td>289</td>\n",
       "      <td>371</td>\n",
       "      <td>793</td>\n",
       "      <td>676.0</td>\n",
       "    </tr>\n",
       "    <tr>\n",
       "      <th>20</th>\n",
       "      <td>용 산 구</td>\n",
       "      <td>2063</td>\n",
       "      <td>1279.0</td>\n",
       "      <td>152.0</td>\n",
       "      <td>201.0</td>\n",
       "      <td>107</td>\n",
       "      <td>102</td>\n",
       "      <td>89</td>\n",
       "      <td>60</td>\n",
       "      <td>73</td>\n",
       "      <td>1739.0</td>\n",
       "    </tr>\n",
       "    <tr>\n",
       "      <th>21</th>\n",
       "      <td>은 평 구</td>\n",
       "      <td>2962</td>\n",
       "      <td>1365.0</td>\n",
       "      <td>83.0</td>\n",
       "      <td>99.0</td>\n",
       "      <td>343</td>\n",
       "      <td>180</td>\n",
       "      <td>296</td>\n",
       "      <td>229</td>\n",
       "      <td>367</td>\n",
       "      <td>1890.0</td>\n",
       "    </tr>\n",
       "    <tr>\n",
       "      <th>22</th>\n",
       "      <td>종 로 구</td>\n",
       "      <td>1471</td>\n",
       "      <td>8.0</td>\n",
       "      <td>7.0</td>\n",
       "      <td>599.0</td>\n",
       "      <td>132</td>\n",
       "      <td>195</td>\n",
       "      <td>148</td>\n",
       "      <td>281</td>\n",
       "      <td>101</td>\n",
       "      <td>746.0</td>\n",
       "    </tr>\n",
       "    <tr>\n",
       "      <th>23</th>\n",
       "      <td>중     구</td>\n",
       "      <td>1544</td>\n",
       "      <td>25.0</td>\n",
       "      <td>165.0</td>\n",
       "      <td>114.0</td>\n",
       "      <td>80</td>\n",
       "      <td>245</td>\n",
       "      <td>270</td>\n",
       "      <td>317</td>\n",
       "      <td>328</td>\n",
       "      <td>384.0</td>\n",
       "    </tr>\n",
       "    <tr>\n",
       "      <th>24</th>\n",
       "      <td>중 랑 구</td>\n",
       "      <td>1068</td>\n",
       "      <td>0.0</td>\n",
       "      <td>0.0</td>\n",
       "      <td>0.0</td>\n",
       "      <td>770</td>\n",
       "      <td>102</td>\n",
       "      <td>121</td>\n",
       "      <td>66</td>\n",
       "      <td>9</td>\n",
       "      <td>770.0</td>\n",
       "    </tr>\n",
       "  </tbody>\n",
       "</table>\n",
       "</div>"
      ],
      "text/plain": [
       "        자치구    소계  2011년 이전  2012년  2013년  2014년  2015년  2016년  2017년  2018년  \\\n",
       "0     강 남 구  5221    1944.0  195.0  316.0    430    546    765    577    448   \n",
       "1     강 동 구  1879     303.0  387.0  134.0     59    144    194    273    385   \n",
       "2     강 북 구  1265     243.0   88.0  141.0     74    145    254      1    319   \n",
       "3     강 서 구  1617     219.0  155.0  118.0    230    187    190    264    254   \n",
       "4     관 악 구  3985     430.0   56.0  419.0    487    609    619    694    671   \n",
       "5     광 진 구  1581     470.0   42.0   83.0     87     64     21    468    346   \n",
       "6     구 로 구  3227     852.0  219.0  349.0    187    268    326    540    486   \n",
       "7     금 천 구  1634      27.0   17.0  242.0    101    382    136    199    530   \n",
       "8     노 원 구  1906     481.0  117.0  203.0     80    461    298    110    156   \n",
       "9     도 봉 구   858     197.0   66.0    8.0    185     59    155    117     71   \n",
       "10     동대문구  2003       0.0    0.0    0.0   1326    111    233    136    197   \n",
       "11    동 작 구  1780     238.0   93.0   29.0    503    130    254    278    255   \n",
       "12    마 포 구  1935     585.0  108.0   69.0     70    177    359    372    195   \n",
       "13     서대문구  2121     565.0  233.0  214.0    114    109    277    415    194   \n",
       "14    서 초 구  2835    1172.0   91.0  228.0    134    215    352    247    396   \n",
       "15    성 동 구  2679     665.0  109.0  118.0    101    258    201    933    294   \n",
       "16    성 북 구  3003     779.0   84.0  304.0    241    279    388    285    643   \n",
       "17    송 파 구  1586     600.0   99.0   88.0     21    166    100    116    396   \n",
       "18    양 천 구  2775     772.0  161.0  185.0    169    172    349    137    830   \n",
       "19     영등포구  2495     132.0  121.0  206.0    217    366    289    371    793   \n",
       "20    용 산 구  2063    1279.0  152.0  201.0    107    102     89     60     73   \n",
       "21    은 평 구  2962    1365.0   83.0   99.0    343    180    296    229    367   \n",
       "22    종 로 구  1471       8.0    7.0  599.0    132    195    148    281    101   \n",
       "23  중     구  1544      25.0  165.0  114.0     80    245    270    317    328   \n",
       "24    중 랑 구  1068       0.0    0.0    0.0    770    102    121     66      9   \n",
       "\n",
       "    2014년도 이전  \n",
       "0      2885.0  \n",
       "1       883.0  \n",
       "2       546.0  \n",
       "3       722.0  \n",
       "4      1392.0  \n",
       "5       682.0  \n",
       "6      1607.0  \n",
       "7       387.0  \n",
       "8       881.0  \n",
       "9       456.0  \n",
       "10     1326.0  \n",
       "11      863.0  \n",
       "12      832.0  \n",
       "13     1126.0  \n",
       "14     1625.0  \n",
       "15      993.0  \n",
       "16     1408.0  \n",
       "17      808.0  \n",
       "18     1287.0  \n",
       "19      676.0  \n",
       "20     1739.0  \n",
       "21     1890.0  \n",
       "22      746.0  \n",
       "23      384.0  \n",
       "24      770.0  "
      ]
     },
     "execution_count": 54,
     "metadata": {},
     "output_type": "execute_result"
    }
   ],
   "source": [
    "# s_cctv['2014년도 이전'] = s_cctv['2011년 이전'] + s_cctv['2012년'] + s_cctv['2013년'] + s_cctv['2014년']\n",
    "s_cctv['2014년도 이전'] = s_cctv.iloc[:, 2:6].sum(axis=1) # 축 방향\n",
    "s_cctv"
   ]
  },
  {
   "cell_type": "markdown",
   "metadata": {},
   "source": [
    "###### 제거 : .drop()"
   ]
  },
  {
   "cell_type": "code",
   "execution_count": 55,
   "metadata": {},
   "outputs": [],
   "source": [
    "try :\n",
    "    # 제거\n",
    "    s_cctv.drop(s_cctv.columns[2:6], inplace = True, axis = 1)\n",
    "except Exception as e :\n",
    "    pass"
   ]
  },
  {
   "cell_type": "code",
   "execution_count": 56,
   "metadata": {},
   "outputs": [
    {
     "data": {
      "text/html": [
       "<div>\n",
       "<style scoped>\n",
       "    .dataframe tbody tr th:only-of-type {\n",
       "        vertical-align: middle;\n",
       "    }\n",
       "\n",
       "    .dataframe tbody tr th {\n",
       "        vertical-align: top;\n",
       "    }\n",
       "\n",
       "    .dataframe thead th {\n",
       "        text-align: right;\n",
       "    }\n",
       "</style>\n",
       "<table border=\"1\" class=\"dataframe\">\n",
       "  <thead>\n",
       "    <tr style=\"text-align: right;\">\n",
       "      <th></th>\n",
       "      <th>자치구</th>\n",
       "      <th>소계</th>\n",
       "      <th>2015년</th>\n",
       "      <th>2016년</th>\n",
       "      <th>2017년</th>\n",
       "      <th>2018년</th>\n",
       "      <th>2014년도 이전</th>\n",
       "    </tr>\n",
       "  </thead>\n",
       "  <tbody>\n",
       "    <tr>\n",
       "      <th>0</th>\n",
       "      <td>강 남 구</td>\n",
       "      <td>5221</td>\n",
       "      <td>546</td>\n",
       "      <td>765</td>\n",
       "      <td>577</td>\n",
       "      <td>448</td>\n",
       "      <td>2885.0</td>\n",
       "    </tr>\n",
       "    <tr>\n",
       "      <th>1</th>\n",
       "      <td>강 동 구</td>\n",
       "      <td>1879</td>\n",
       "      <td>144</td>\n",
       "      <td>194</td>\n",
       "      <td>273</td>\n",
       "      <td>385</td>\n",
       "      <td>883.0</td>\n",
       "    </tr>\n",
       "    <tr>\n",
       "      <th>2</th>\n",
       "      <td>강 북 구</td>\n",
       "      <td>1265</td>\n",
       "      <td>145</td>\n",
       "      <td>254</td>\n",
       "      <td>1</td>\n",
       "      <td>319</td>\n",
       "      <td>546.0</td>\n",
       "    </tr>\n",
       "    <tr>\n",
       "      <th>3</th>\n",
       "      <td>강 서 구</td>\n",
       "      <td>1617</td>\n",
       "      <td>187</td>\n",
       "      <td>190</td>\n",
       "      <td>264</td>\n",
       "      <td>254</td>\n",
       "      <td>722.0</td>\n",
       "    </tr>\n",
       "    <tr>\n",
       "      <th>4</th>\n",
       "      <td>관 악 구</td>\n",
       "      <td>3985</td>\n",
       "      <td>609</td>\n",
       "      <td>619</td>\n",
       "      <td>694</td>\n",
       "      <td>671</td>\n",
       "      <td>1392.0</td>\n",
       "    </tr>\n",
       "  </tbody>\n",
       "</table>\n",
       "</div>"
      ],
      "text/plain": [
       "     자치구    소계  2015년  2016년  2017년  2018년  2014년도 이전\n",
       "0  강 남 구  5221    546    765    577    448     2885.0\n",
       "1  강 동 구  1879    144    194    273    385      883.0\n",
       "2  강 북 구  1265    145    254      1    319      546.0\n",
       "3  강 서 구  1617    187    190    264    254      722.0\n",
       "4  관 악 구  3985    609    619    694    671     1392.0"
      ]
     },
     "execution_count": 56,
     "metadata": {},
     "output_type": "execute_result"
    }
   ],
   "source": [
    "s_cctv.head()"
   ]
  },
  {
   "cell_type": "code",
   "execution_count": 59,
   "metadata": {},
   "outputs": [],
   "source": [
    "s_cctv['최신증가율'] = s_cctv.iloc[ :, 2:6].sum(axis=1) / s_cctv['2014년도 이전'] * 100 "
   ]
  },
  {
   "cell_type": "code",
   "execution_count": 60,
   "metadata": {
    "scrolled": true
   },
   "outputs": [
    {
     "data": {
      "text/html": [
       "<div>\n",
       "<style scoped>\n",
       "    .dataframe tbody tr th:only-of-type {\n",
       "        vertical-align: middle;\n",
       "    }\n",
       "\n",
       "    .dataframe tbody tr th {\n",
       "        vertical-align: top;\n",
       "    }\n",
       "\n",
       "    .dataframe thead th {\n",
       "        text-align: right;\n",
       "    }\n",
       "</style>\n",
       "<table border=\"1\" class=\"dataframe\">\n",
       "  <thead>\n",
       "    <tr style=\"text-align: right;\">\n",
       "      <th></th>\n",
       "      <th>자치구</th>\n",
       "      <th>소계</th>\n",
       "      <th>2015년</th>\n",
       "      <th>2016년</th>\n",
       "      <th>2017년</th>\n",
       "      <th>2018년</th>\n",
       "      <th>2014년도 이전</th>\n",
       "      <th>최신증가율</th>\n",
       "    </tr>\n",
       "  </thead>\n",
       "  <tbody>\n",
       "    <tr>\n",
       "      <th>0</th>\n",
       "      <td>강 남 구</td>\n",
       "      <td>5221</td>\n",
       "      <td>546</td>\n",
       "      <td>765</td>\n",
       "      <td>577</td>\n",
       "      <td>448</td>\n",
       "      <td>2885.0</td>\n",
       "      <td>80.970537</td>\n",
       "    </tr>\n",
       "    <tr>\n",
       "      <th>1</th>\n",
       "      <td>강 동 구</td>\n",
       "      <td>1879</td>\n",
       "      <td>144</td>\n",
       "      <td>194</td>\n",
       "      <td>273</td>\n",
       "      <td>385</td>\n",
       "      <td>883.0</td>\n",
       "      <td>112.797282</td>\n",
       "    </tr>\n",
       "  </tbody>\n",
       "</table>\n",
       "</div>"
      ],
      "text/plain": [
       "     자치구    소계  2015년  2016년  2017년  2018년  2014년도 이전       최신증가율\n",
       "0  강 남 구  5221    546    765    577    448     2885.0   80.970537\n",
       "1  강 동 구  1879    144    194    273    385      883.0  112.797282"
      ]
     },
     "execution_count": 60,
     "metadata": {},
     "output_type": "execute_result"
    }
   ],
   "source": [
    "s_cctv.head(2)"
   ]
  },
  {
   "cell_type": "markdown",
   "metadata": {},
   "source": [
    "###### 펜시 인덱싱을 통해 컬럼 재배치"
   ]
  },
  {
   "cell_type": "code",
   "execution_count": 61,
   "metadata": {},
   "outputs": [],
   "source": [
    "# '2014년도 이전'을 소계 바로 뒤에\n",
    "s_cctv = s_cctv.iloc[ :, [0, 1, 6, 2, 3, 4, 5, 7]]"
   ]
  },
  {
   "cell_type": "code",
   "execution_count": 62,
   "metadata": {},
   "outputs": [
    {
     "data": {
      "text/html": [
       "<div>\n",
       "<style scoped>\n",
       "    .dataframe tbody tr th:only-of-type {\n",
       "        vertical-align: middle;\n",
       "    }\n",
       "\n",
       "    .dataframe tbody tr th {\n",
       "        vertical-align: top;\n",
       "    }\n",
       "\n",
       "    .dataframe thead th {\n",
       "        text-align: right;\n",
       "    }\n",
       "</style>\n",
       "<table border=\"1\" class=\"dataframe\">\n",
       "  <thead>\n",
       "    <tr style=\"text-align: right;\">\n",
       "      <th></th>\n",
       "      <th>자치구</th>\n",
       "      <th>소계</th>\n",
       "      <th>2014년도 이전</th>\n",
       "      <th>2015년</th>\n",
       "      <th>2016년</th>\n",
       "      <th>2017년</th>\n",
       "      <th>2018년</th>\n",
       "      <th>최신증가율</th>\n",
       "    </tr>\n",
       "  </thead>\n",
       "  <tbody>\n",
       "    <tr>\n",
       "      <th>0</th>\n",
       "      <td>강 남 구</td>\n",
       "      <td>5221</td>\n",
       "      <td>2885.0</td>\n",
       "      <td>546</td>\n",
       "      <td>765</td>\n",
       "      <td>577</td>\n",
       "      <td>448</td>\n",
       "      <td>80.970537</td>\n",
       "    </tr>\n",
       "    <tr>\n",
       "      <th>1</th>\n",
       "      <td>강 동 구</td>\n",
       "      <td>1879</td>\n",
       "      <td>883.0</td>\n",
       "      <td>144</td>\n",
       "      <td>194</td>\n",
       "      <td>273</td>\n",
       "      <td>385</td>\n",
       "      <td>112.797282</td>\n",
       "    </tr>\n",
       "  </tbody>\n",
       "</table>\n",
       "</div>"
      ],
      "text/plain": [
       "     자치구    소계  2014년도 이전  2015년  2016년  2017년  2018년       최신증가율\n",
       "0  강 남 구  5221     2885.0    546    765    577    448   80.970537\n",
       "1  강 동 구  1879      883.0    144    194    273    385  112.797282"
      ]
     },
     "execution_count": 62,
     "metadata": {},
     "output_type": "execute_result"
    }
   ],
   "source": [
    "s_cctv.head(2)"
   ]
  },
  {
   "cell_type": "code",
   "execution_count": null,
   "metadata": {},
   "outputs": [],
   "source": []
  },
  {
   "cell_type": "markdown",
   "metadata": {},
   "source": [
    "## 인구 현황 분석"
   ]
  },
  {
   "cell_type": "code",
   "execution_count": 65,
   "metadata": {},
   "outputs": [
    {
     "data": {
      "text/html": [
       "<div>\n",
       "<style scoped>\n",
       "    .dataframe tbody tr th:only-of-type {\n",
       "        vertical-align: middle;\n",
       "    }\n",
       "\n",
       "    .dataframe tbody tr th {\n",
       "        vertical-align: top;\n",
       "    }\n",
       "\n",
       "    .dataframe thead th {\n",
       "        text-align: right;\n",
       "    }\n",
       "</style>\n",
       "<table border=\"1\" class=\"dataframe\">\n",
       "  <thead>\n",
       "    <tr style=\"text-align: right;\">\n",
       "      <th></th>\n",
       "      <th>기간</th>\n",
       "      <th>자치구</th>\n",
       "      <th>인구수</th>\n",
       "      <th>한국인</th>\n",
       "      <th>외국인</th>\n",
       "      <th>고령자</th>\n",
       "    </tr>\n",
       "  </thead>\n",
       "  <tbody>\n",
       "    <tr>\n",
       "      <th>0</th>\n",
       "      <td>2011</td>\n",
       "      <td>합계</td>\n",
       "      <td>10528774</td>\n",
       "      <td>10249679</td>\n",
       "      <td>279095</td>\n",
       "      <td>1049425</td>\n",
       "    </tr>\n",
       "    <tr>\n",
       "      <th>1</th>\n",
       "      <td>2011</td>\n",
       "      <td>종로구</td>\n",
       "      <td>177419</td>\n",
       "      <td>168382</td>\n",
       "      <td>9037</td>\n",
       "      <td>22939</td>\n",
       "    </tr>\n",
       "    <tr>\n",
       "      <th>2</th>\n",
       "      <td>2011</td>\n",
       "      <td>중구</td>\n",
       "      <td>141567</td>\n",
       "      <td>133193</td>\n",
       "      <td>8374</td>\n",
       "      <td>18099</td>\n",
       "    </tr>\n",
       "    <tr>\n",
       "      <th>3</th>\n",
       "      <td>2011</td>\n",
       "      <td>용산구</td>\n",
       "      <td>259288</td>\n",
       "      <td>246501</td>\n",
       "      <td>12787</td>\n",
       "      <td>31837</td>\n",
       "    </tr>\n",
       "    <tr>\n",
       "      <th>4</th>\n",
       "      <td>2011</td>\n",
       "      <td>성동구</td>\n",
       "      <td>308767</td>\n",
       "      <td>300711</td>\n",
       "      <td>8056</td>\n",
       "      <td>32767</td>\n",
       "    </tr>\n",
       "  </tbody>\n",
       "</table>\n",
       "</div>"
      ],
      "text/plain": [
       "     기간  자치구       인구수       한국인     외국인      고령자\n",
       "0  2011   합계  10528774  10249679  279095  1049425\n",
       "1  2011  종로구    177419    168382    9037    22939\n",
       "2  2011   중구    141567    133193    8374    18099\n",
       "3  2011  용산구    259288    246501   12787    31837\n",
       "4  2011  성동구    308767    300711    8056    32767"
      ]
     },
     "execution_count": 65,
     "metadata": {},
     "output_type": "execute_result"
    }
   ],
   "source": [
    "s_pop.head()"
   ]
  },
  {
   "cell_type": "code",
   "execution_count": 66,
   "metadata": {},
   "outputs": [
    {
     "data": {
      "text/plain": [
       "(208, 6)"
      ]
     },
     "execution_count": 66,
     "metadata": {},
     "output_type": "execute_result"
    }
   ],
   "source": [
    "s_pop.shape"
   ]
  },
  {
   "cell_type": "code",
   "execution_count": 67,
   "metadata": {
    "scrolled": true
   },
   "outputs": [
    {
     "data": {
      "text/plain": [
       "기간      int64\n",
       "자치구    object\n",
       "인구수     int64\n",
       "한국인     int64\n",
       "외국인     int64\n",
       "고령자     int64\n",
       "dtype: object"
      ]
     },
     "execution_count": 67,
     "metadata": {},
     "output_type": "execute_result"
    }
   ],
   "source": [
    "s_pop.dtypes"
   ]
  },
  {
   "cell_type": "code",
   "execution_count": 70,
   "metadata": {},
   "outputs": [
    {
     "data": {
      "text/plain": [
       "(130, 6)"
      ]
     },
     "execution_count": 70,
     "metadata": {},
     "output_type": "execute_result"
    }
   ],
   "source": [
    "# s_pop에서 기간이 2014~2018년도까지만 추출\n",
    "# s_pop[ (s_pop.기간 >= 2014) & (s_pop.기간 <= 2018) ]\n",
    "s_pop_last = s_pop[s_pop['기간']>=2014]\n",
    "s_pop_last.shape"
   ]
  },
  {
   "cell_type": "code",
   "execution_count": 71,
   "metadata": {},
   "outputs": [
    {
     "data": {
      "text/plain": [
       "(25, 8)"
      ]
     },
     "execution_count": 71,
     "metadata": {},
     "output_type": "execute_result"
    }
   ],
   "source": [
    "s_cctv.shape"
   ]
  },
  {
   "cell_type": "code",
   "execution_count": 72,
   "metadata": {},
   "outputs": [
    {
     "data": {
      "text/plain": [
       "5.2"
      ]
     },
     "execution_count": 72,
     "metadata": {},
     "output_type": "execute_result"
    }
   ],
   "source": [
    "# 자치구 개수로 인구 현황 데이터 개수를 나눠보니 딱 떨어지지 않는다\n",
    "# -> 년도별로 데이터가 1개씩 더 있다\n",
    "s_pop_last.shape[0] / s_cctv.shape[0] # = 5.2"
   ]
  },
  {
   "cell_type": "code",
   "execution_count": 84,
   "metadata": {},
   "outputs": [],
   "source": [
    "# 년도별로 '합계' 데이터가 추가되어 있다\n",
    "# -> ''합계' 제거해서 데이터프레임 구성\n",
    "# s_pop_last[s_pop_last['자치구'].isin(['합계'])==False]\n",
    "s_pop_last = s_pop_last[s_pop_last['자치구'] != '합계']"
   ]
  },
  {
   "cell_type": "code",
   "execution_count": 86,
   "metadata": {},
   "outputs": [
    {
     "data": {
      "text/plain": [
       "5.0"
      ]
     },
     "execution_count": 86,
     "metadata": {},
     "output_type": "execute_result"
    }
   ],
   "source": [
    "# 데이터 매칭 정상\n",
    "s_pop_last.shape[0] / s_cctv.shape[0] "
   ]
  },
  {
   "cell_type": "code",
   "execution_count": 89,
   "metadata": {
    "scrolled": false
   },
   "outputs": [
    {
     "data": {
      "text/plain": [
       "(25, 25)"
      ]
     },
     "execution_count": 89,
     "metadata": {},
     "output_type": "execute_result"
    }
   ],
   "source": [
    "# 데이터 프레임을 합쳐서 진행할 것인데, 자치구 데이터들이 고유한지 체크\n",
    "len(s_cctv['자치구'].unique()), len(s_pop_last['자치구'].unique())"
   ]
  },
  {
   "cell_type": "markdown",
   "metadata": {},
   "source": [
    "### NaN 검출 \n",
    "- isnull() 검사 -> boolean 인덱싱 이용 -> 원데이터에 대상 index를 획득\n",
    "- any()로 검사 후 참(True)이면 해당 인덱스에 일치하는 데이터를 제거"
   ]
  },
  {
   "cell_type": "markdown",
   "metadata": {},
   "source": [
    "###### .isnull()"
   ]
  },
  {
   "cell_type": "code",
   "execution_count": 90,
   "metadata": {
    "collapsed": true
   },
   "outputs": [
    {
     "data": {
      "text/plain": [
       "0     False\n",
       "1     False\n",
       "2     False\n",
       "3     False\n",
       "4     False\n",
       "5     False\n",
       "6     False\n",
       "7     False\n",
       "8     False\n",
       "9     False\n",
       "10    False\n",
       "11    False\n",
       "12    False\n",
       "13    False\n",
       "14    False\n",
       "15    False\n",
       "16    False\n",
       "17    False\n",
       "18    False\n",
       "19    False\n",
       "20    False\n",
       "21    False\n",
       "22    False\n",
       "23    False\n",
       "24    False\n",
       "Name: 자치구, dtype: bool"
      ]
     },
     "execution_count": 90,
     "metadata": {},
     "output_type": "execute_result"
    }
   ],
   "source": [
    "s_cctv['자치구'].isnull()"
   ]
  },
  {
   "cell_type": "code",
   "execution_count": 95,
   "metadata": {},
   "outputs": [],
   "source": [
    "nanidx = s_cctv[s_cctv['자치구'].isnull()].index\n",
    "if nanidx.any() :\n",
    "    s_cctv.drop([nanidx], inplace = True)"
   ]
  },
  {
   "cell_type": "code",
   "execution_count": 96,
   "metadata": {},
   "outputs": [],
   "source": [
    "# 인구 데이터 s_pop_last에서 '외국인비율', '고령자비율' 컬럼 추가\n",
    "# 외국인비율 = 외국인/인구수 * 100\n",
    "# 고령자비율 = 고령자/인구수 * 100\n",
    "s_pop_last['외국인비율'] = s_pop_last['외국인'] / s_pop_last['인구수'] * 100\n",
    "s_pop_last['고령자비율'] = s_pop_last['고령자'] / s_pop_last['인구수'] * 100"
   ]
  },
  {
   "cell_type": "code",
   "execution_count": 97,
   "metadata": {},
   "outputs": [
    {
     "data": {
      "text/html": [
       "<div>\n",
       "<style scoped>\n",
       "    .dataframe tbody tr th:only-of-type {\n",
       "        vertical-align: middle;\n",
       "    }\n",
       "\n",
       "    .dataframe tbody tr th {\n",
       "        vertical-align: top;\n",
       "    }\n",
       "\n",
       "    .dataframe thead th {\n",
       "        text-align: right;\n",
       "    }\n",
       "</style>\n",
       "<table border=\"1\" class=\"dataframe\">\n",
       "  <thead>\n",
       "    <tr style=\"text-align: right;\">\n",
       "      <th></th>\n",
       "      <th>기간</th>\n",
       "      <th>자치구</th>\n",
       "      <th>인구수</th>\n",
       "      <th>한국인</th>\n",
       "      <th>외국인</th>\n",
       "      <th>고령자</th>\n",
       "      <th>외국인비율</th>\n",
       "      <th>고령자비율</th>\n",
       "    </tr>\n",
       "  </thead>\n",
       "  <tbody>\n",
       "    <tr>\n",
       "      <th>79</th>\n",
       "      <td>2014</td>\n",
       "      <td>종로구</td>\n",
       "      <td>165344</td>\n",
       "      <td>156993</td>\n",
       "      <td>8351</td>\n",
       "      <td>24537</td>\n",
       "      <td>5.050682</td>\n",
       "      <td>14.839970</td>\n",
       "    </tr>\n",
       "    <tr>\n",
       "      <th>80</th>\n",
       "      <td>2014</td>\n",
       "      <td>중구</td>\n",
       "      <td>136227</td>\n",
       "      <td>128065</td>\n",
       "      <td>8162</td>\n",
       "      <td>19960</td>\n",
       "      <td>5.991470</td>\n",
       "      <td>14.652015</td>\n",
       "    </tr>\n",
       "  </tbody>\n",
       "</table>\n",
       "</div>"
      ],
      "text/plain": [
       "      기간  자치구     인구수     한국인   외국인    고령자     외국인비율      고령자비율\n",
       "79  2014  종로구  165344  156993  8351  24537  5.050682  14.839970\n",
       "80  2014   중구  136227  128065  8162  19960  5.991470  14.652015"
      ]
     },
     "execution_count": 97,
     "metadata": {},
     "output_type": "execute_result"
    }
   ],
   "source": [
    "s_pop_last.head(2)"
   ]
  },
  {
   "cell_type": "code",
   "execution_count": 100,
   "metadata": {},
   "outputs": [],
   "source": [
    "# s_pop_last에서 2018년도 데이터만 획득하여 s_pop_last_2018 생성\n",
    "s_pop_last_2018 = s_pop_last[s_pop_last['기간'] == 2018]"
   ]
  },
  {
   "cell_type": "code",
   "execution_count": 101,
   "metadata": {},
   "outputs": [
    {
     "data": {
      "text/plain": [
       "(25, 8)"
      ]
     },
     "execution_count": 101,
     "metadata": {},
     "output_type": "execute_result"
    }
   ],
   "source": [
    "s_pop_last_2018.shape"
   ]
  },
  {
   "cell_type": "markdown",
   "metadata": {},
   "source": [
    "### DataFrame 합치기 : 병합\n",
    "<a href = '/notebooks/analysis/pandas/basic/pandas_advanced.ipynb'>이동하기</a>"
   ]
  },
  {
   "cell_type": "code",
   "execution_count": null,
   "metadata": {},
   "outputs": [],
   "source": [
    "# s_cctv, s_pop_last_2018 병합"
   ]
  },
  {
   "cell_type": "code",
   "execution_count": 102,
   "metadata": {
    "collapsed": true
   },
   "outputs": [
    {
     "data": {
      "text/plain": [
       "(0       강 남 구\n",
       " 1       강 동 구\n",
       " 2       강 북 구\n",
       " 3       강 서 구\n",
       " 4       관 악 구\n",
       " 5       광 진 구\n",
       " 6       구 로 구\n",
       " 7       금 천 구\n",
       " 8       노 원 구\n",
       " 9       도 봉 구\n",
       " 10       동대문구\n",
       " 11      동 작 구\n",
       " 12      마 포 구\n",
       " 13       서대문구\n",
       " 14      서 초 구\n",
       " 15      성 동 구\n",
       " 16      성 북 구\n",
       " 17      송 파 구\n",
       " 18      양 천 구\n",
       " 19       영등포구\n",
       " 20      용 산 구\n",
       " 21      은 평 구\n",
       " 22      종 로 구\n",
       " 23    중     구\n",
       " 24      중 랑 구\n",
       " Name: 자치구, dtype: object, 183     종로구\n",
       " 184      중구\n",
       " 185     용산구\n",
       " 186     성동구\n",
       " 187     광진구\n",
       " 188    동대문구\n",
       " 189     중랑구\n",
       " 190     성북구\n",
       " 191     강북구\n",
       " 192     도봉구\n",
       " 193     노원구\n",
       " 194     은평구\n",
       " 195    서대문구\n",
       " 196     마포구\n",
       " 197     양천구\n",
       " 198     강서구\n",
       " 199     구로구\n",
       " 200     금천구\n",
       " 201    영등포구\n",
       " 202     동작구\n",
       " 203     관악구\n",
       " 204     서초구\n",
       " 205     강남구\n",
       " 206     송파구\n",
       " 207     강동구\n",
       " Name: 자치구, dtype: object)"
      ]
     },
     "execution_count": 102,
     "metadata": {},
     "output_type": "execute_result"
    }
   ],
   "source": [
    "# s_cctv['자치구'] 문자열 내부에 공백이 존재\n",
    "# 자치구명 통일 필요\n",
    "s_cctv['자치구'], s_pop_last_2018['자치구']"
   ]
  },
  {
   "cell_type": "markdown",
   "metadata": {},
   "source": [
    "###### 문자열 대체 : (문자열).replace( '', '' )"
   ]
  },
  {
   "cell_type": "code",
   "execution_count": 103,
   "metadata": {},
   "outputs": [
    {
     "data": {
      "text/plain": [
       "'용산구'"
      ]
     },
     "execution_count": 103,
     "metadata": {},
     "output_type": "execute_result"
    }
   ],
   "source": [
    "# '용 산 구'.replace(' ', '')"
   ]
  },
  {
   "cell_type": "code",
   "execution_count": 105,
   "metadata": {},
   "outputs": [],
   "source": [
    "# s_cctv의 자치구 데이터를 한 개씩 꺼내서 공백을 제거\n",
    "s_cctv['자치구'] = s_cctv['자치구'].apply(lambda x : x.replace(' ', ''))"
   ]
  },
  {
   "cell_type": "code",
   "execution_count": null,
   "metadata": {},
   "outputs": [],
   "source": [
    "# def rmSpace(x) :\n",
    "#    return x.replace(' ', '')\n",
    "# s_cctv['자치구'].apply(rmSpace)"
   ]
  },
  {
   "cell_type": "code",
   "execution_count": 106,
   "metadata": {
    "scrolled": true
   },
   "outputs": [
    {
     "data": {
      "text/html": [
       "<div>\n",
       "<style scoped>\n",
       "    .dataframe tbody tr th:only-of-type {\n",
       "        vertical-align: middle;\n",
       "    }\n",
       "\n",
       "    .dataframe tbody tr th {\n",
       "        vertical-align: top;\n",
       "    }\n",
       "\n",
       "    .dataframe thead th {\n",
       "        text-align: right;\n",
       "    }\n",
       "</style>\n",
       "<table border=\"1\" class=\"dataframe\">\n",
       "  <thead>\n",
       "    <tr style=\"text-align: right;\">\n",
       "      <th></th>\n",
       "      <th>자치구</th>\n",
       "      <th>소계</th>\n",
       "      <th>2014년도 이전</th>\n",
       "      <th>2015년</th>\n",
       "      <th>2016년</th>\n",
       "      <th>2017년</th>\n",
       "      <th>2018년</th>\n",
       "      <th>최신증가율</th>\n",
       "    </tr>\n",
       "  </thead>\n",
       "  <tbody>\n",
       "    <tr>\n",
       "      <th>0</th>\n",
       "      <td>강남구</td>\n",
       "      <td>5221</td>\n",
       "      <td>2885.0</td>\n",
       "      <td>546</td>\n",
       "      <td>765</td>\n",
       "      <td>577</td>\n",
       "      <td>448</td>\n",
       "      <td>80.970537</td>\n",
       "    </tr>\n",
       "    <tr>\n",
       "      <th>1</th>\n",
       "      <td>강동구</td>\n",
       "      <td>1879</td>\n",
       "      <td>883.0</td>\n",
       "      <td>144</td>\n",
       "      <td>194</td>\n",
       "      <td>273</td>\n",
       "      <td>385</td>\n",
       "      <td>112.797282</td>\n",
       "    </tr>\n",
       "  </tbody>\n",
       "</table>\n",
       "</div>"
      ],
      "text/plain": [
       "   자치구    소계  2014년도 이전  2015년  2016년  2017년  2018년       최신증가율\n",
       "0  강남구  5221     2885.0    546    765    577    448   80.970537\n",
       "1  강동구  1879      883.0    144    194    273    385  112.797282"
      ]
     },
     "execution_count": 106,
     "metadata": {},
     "output_type": "execute_result"
    }
   ],
   "source": [
    "s_cctv.head(2)"
   ]
  },
  {
   "cell_type": "markdown",
   "metadata": {},
   "source": [
    "###### 데이터 병합 : pd.merge(데이터1, 데이터2, on='(인덱스)')"
   ]
  },
  {
   "cell_type": "code",
   "execution_count": 123,
   "metadata": {
    "scrolled": true
   },
   "outputs": [
    {
     "data": {
      "text/html": [
       "<div>\n",
       "<style scoped>\n",
       "    .dataframe tbody tr th:only-of-type {\n",
       "        vertical-align: middle;\n",
       "    }\n",
       "\n",
       "    .dataframe tbody tr th {\n",
       "        vertical-align: top;\n",
       "    }\n",
       "\n",
       "    .dataframe thead th {\n",
       "        text-align: right;\n",
       "    }\n",
       "</style>\n",
       "<table border=\"1\" class=\"dataframe\">\n",
       "  <thead>\n",
       "    <tr style=\"text-align: right;\">\n",
       "      <th></th>\n",
       "      <th>자치구</th>\n",
       "      <th>소계</th>\n",
       "      <th>2014년도 이전</th>\n",
       "      <th>2015년</th>\n",
       "      <th>2016년</th>\n",
       "      <th>2017년</th>\n",
       "      <th>2018년</th>\n",
       "      <th>최신증가율</th>\n",
       "      <th>기간</th>\n",
       "      <th>인구수</th>\n",
       "      <th>한국인</th>\n",
       "      <th>외국인</th>\n",
       "      <th>고령자</th>\n",
       "      <th>외국인비율</th>\n",
       "      <th>고령자비율</th>\n",
       "    </tr>\n",
       "  </thead>\n",
       "  <tbody>\n",
       "    <tr>\n",
       "      <th>0</th>\n",
       "      <td>강남구</td>\n",
       "      <td>5221</td>\n",
       "      <td>2885.0</td>\n",
       "      <td>546</td>\n",
       "      <td>765</td>\n",
       "      <td>577</td>\n",
       "      <td>448</td>\n",
       "      <td>80.970537</td>\n",
       "      <td>2018</td>\n",
       "      <td>547453</td>\n",
       "      <td>542364</td>\n",
       "      <td>5089</td>\n",
       "      <td>67085</td>\n",
       "      <td>0.929578</td>\n",
       "      <td>12.254020</td>\n",
       "    </tr>\n",
       "    <tr>\n",
       "      <th>1</th>\n",
       "      <td>강동구</td>\n",
       "      <td>1879</td>\n",
       "      <td>883.0</td>\n",
       "      <td>144</td>\n",
       "      <td>194</td>\n",
       "      <td>273</td>\n",
       "      <td>385</td>\n",
       "      <td>112.797282</td>\n",
       "      <td>2018</td>\n",
       "      <td>431920</td>\n",
       "      <td>427573</td>\n",
       "      <td>4347</td>\n",
       "      <td>58770</td>\n",
       "      <td>1.006436</td>\n",
       "      <td>13.606686</td>\n",
       "    </tr>\n",
       "  </tbody>\n",
       "</table>\n",
       "</div>"
      ],
      "text/plain": [
       "   자치구    소계  2014년도 이전  2015년  2016년  2017년  2018년       최신증가율    기간     인구수  \\\n",
       "0  강남구  5221     2885.0    546    765    577    448   80.970537  2018  547453   \n",
       "1  강동구  1879      883.0    144    194    273    385  112.797282  2018  431920   \n",
       "\n",
       "      한국인   외국인    고령자     외국인비율      고령자비율  \n",
       "0  542364  5089  67085  0.929578  12.254020  \n",
       "1  427573  4347  58770  1.006436  13.606686  "
      ]
     },
     "execution_count": 123,
     "metadata": {},
     "output_type": "execute_result"
    }
   ],
   "source": [
    "# 데이터 보정 완료 -> 병합\n",
    "data_result = pd.merge(s_cctv, s_pop_last_2018, on='자치구')\n",
    "data_result.head(2)"
   ]
  },
  {
   "cell_type": "code",
   "execution_count": 124,
   "metadata": {},
   "outputs": [],
   "source": [
    "# '기간' 제거\n",
    "# data_result.drop(['기간'], inplace=True, axis=1)\n",
    "del data_result['기간']"
   ]
  },
  {
   "cell_type": "markdown",
   "metadata": {},
   "source": [
    "###### 특정 컬럼을 인덱스로 적용 : .set_index('자치구', inplace=True)"
   ]
  },
  {
   "cell_type": "code",
   "execution_count": 126,
   "metadata": {},
   "outputs": [
    {
     "data": {
      "text/html": [
       "<div>\n",
       "<style scoped>\n",
       "    .dataframe tbody tr th:only-of-type {\n",
       "        vertical-align: middle;\n",
       "    }\n",
       "\n",
       "    .dataframe tbody tr th {\n",
       "        vertical-align: top;\n",
       "    }\n",
       "\n",
       "    .dataframe thead th {\n",
       "        text-align: right;\n",
       "    }\n",
       "</style>\n",
       "<table border=\"1\" class=\"dataframe\">\n",
       "  <thead>\n",
       "    <tr style=\"text-align: right;\">\n",
       "      <th></th>\n",
       "      <th>소계</th>\n",
       "      <th>2014년도 이전</th>\n",
       "      <th>2015년</th>\n",
       "      <th>2016년</th>\n",
       "      <th>2017년</th>\n",
       "      <th>2018년</th>\n",
       "      <th>최신증가율</th>\n",
       "      <th>인구수</th>\n",
       "      <th>한국인</th>\n",
       "      <th>외국인</th>\n",
       "      <th>고령자</th>\n",
       "      <th>외국인비율</th>\n",
       "      <th>고령자비율</th>\n",
       "    </tr>\n",
       "    <tr>\n",
       "      <th>자치구</th>\n",
       "      <th></th>\n",
       "      <th></th>\n",
       "      <th></th>\n",
       "      <th></th>\n",
       "      <th></th>\n",
       "      <th></th>\n",
       "      <th></th>\n",
       "      <th></th>\n",
       "      <th></th>\n",
       "      <th></th>\n",
       "      <th></th>\n",
       "      <th></th>\n",
       "      <th></th>\n",
       "    </tr>\n",
       "  </thead>\n",
       "  <tbody>\n",
       "    <tr>\n",
       "      <th>강남구</th>\n",
       "      <td>5221</td>\n",
       "      <td>2885.0</td>\n",
       "      <td>546</td>\n",
       "      <td>765</td>\n",
       "      <td>577</td>\n",
       "      <td>448</td>\n",
       "      <td>80.970537</td>\n",
       "      <td>547453</td>\n",
       "      <td>542364</td>\n",
       "      <td>5089</td>\n",
       "      <td>67085</td>\n",
       "      <td>0.929578</td>\n",
       "      <td>12.254020</td>\n",
       "    </tr>\n",
       "    <tr>\n",
       "      <th>강동구</th>\n",
       "      <td>1879</td>\n",
       "      <td>883.0</td>\n",
       "      <td>144</td>\n",
       "      <td>194</td>\n",
       "      <td>273</td>\n",
       "      <td>385</td>\n",
       "      <td>112.797282</td>\n",
       "      <td>431920</td>\n",
       "      <td>427573</td>\n",
       "      <td>4347</td>\n",
       "      <td>58770</td>\n",
       "      <td>1.006436</td>\n",
       "      <td>13.606686</td>\n",
       "    </tr>\n",
       "    <tr>\n",
       "      <th>강북구</th>\n",
       "      <td>1265</td>\n",
       "      <td>546.0</td>\n",
       "      <td>145</td>\n",
       "      <td>254</td>\n",
       "      <td>1</td>\n",
       "      <td>319</td>\n",
       "      <td>131.684982</td>\n",
       "      <td>322915</td>\n",
       "      <td>319164</td>\n",
       "      <td>3751</td>\n",
       "      <td>58196</td>\n",
       "      <td>1.161606</td>\n",
       "      <td>18.022080</td>\n",
       "    </tr>\n",
       "    <tr>\n",
       "      <th>강서구</th>\n",
       "      <td>1617</td>\n",
       "      <td>722.0</td>\n",
       "      <td>187</td>\n",
       "      <td>190</td>\n",
       "      <td>264</td>\n",
       "      <td>254</td>\n",
       "      <td>123.961219</td>\n",
       "      <td>603611</td>\n",
       "      <td>596949</td>\n",
       "      <td>6662</td>\n",
       "      <td>79660</td>\n",
       "      <td>1.103691</td>\n",
       "      <td>13.197241</td>\n",
       "    </tr>\n",
       "    <tr>\n",
       "      <th>관악구</th>\n",
       "      <td>3985</td>\n",
       "      <td>1392.0</td>\n",
       "      <td>609</td>\n",
       "      <td>619</td>\n",
       "      <td>694</td>\n",
       "      <td>671</td>\n",
       "      <td>186.278736</td>\n",
       "      <td>520040</td>\n",
       "      <td>501957</td>\n",
       "      <td>18083</td>\n",
       "      <td>72249</td>\n",
       "      <td>3.477233</td>\n",
       "      <td>13.892970</td>\n",
       "    </tr>\n",
       "  </tbody>\n",
       "</table>\n",
       "</div>"
      ],
      "text/plain": [
       "       소계  2014년도 이전  2015년  2016년  2017년  2018년       최신증가율     인구수     한국인  \\\n",
       "자치구                                                                            \n",
       "강남구  5221     2885.0    546    765    577    448   80.970537  547453  542364   \n",
       "강동구  1879      883.0    144    194    273    385  112.797282  431920  427573   \n",
       "강북구  1265      546.0    145    254      1    319  131.684982  322915  319164   \n",
       "강서구  1617      722.0    187    190    264    254  123.961219  603611  596949   \n",
       "관악구  3985     1392.0    609    619    694    671  186.278736  520040  501957   \n",
       "\n",
       "       외국인    고령자     외국인비율      고령자비율  \n",
       "자치구                                     \n",
       "강남구   5089  67085  0.929578  12.254020  \n",
       "강동구   4347  58770  1.006436  13.606686  \n",
       "강북구   3751  58196  1.161606  18.022080  \n",
       "강서구   6662  79660  1.103691  13.197241  \n",
       "관악구  18083  72249  3.477233  13.892970  "
      ]
     },
     "execution_count": 126,
     "metadata": {},
     "output_type": "execute_result"
    }
   ],
   "source": [
    "# '자치구' 컬럼을 인덱스로 적용\n",
    "data_result.set_index('자치구', inplace = True)\n",
    "data_result.head()"
   ]
  },
  {
   "cell_type": "markdown",
   "metadata": {},
   "source": [
    "## 상관성 검사\n",
    "- 상관계수 : 0 ~ 1\n",
    " > 0.1 이하 : 거의 관련 없음. 무시  \n",
    " > 0.3 이하 : 약한 상관관계  \n",
    " > 0.7 이하 : 뚜렷한 상관관계  \n",
    " > ~ 이상 : 명확한 상관관계\n",
    "- np.corrcoef"
   ]
  },
  {
   "cell_type": "code",
   "execution_count": 127,
   "metadata": {
    "scrolled": true
   },
   "outputs": [
    {
     "data": {
      "text/plain": [
       "Index(['소계', '2014년도 이전', '2015년', '2016년', '2017년', '2018년', '최신증가율', '인구수',\n",
       "       '한국인', '외국인', '고령자', '외국인비율', '고령자비율'],\n",
       "      dtype='object')"
      ]
     },
     "execution_count": 127,
     "metadata": {},
     "output_type": "execute_result"
    }
   ],
   "source": [
    "data_result.columns"
   ]
  },
  {
   "cell_type": "markdown",
   "metadata": {},
   "source": [
    "###### np.corrcoef"
   ]
  },
  {
   "cell_type": "code",
   "execution_count": 128,
   "metadata": {},
   "outputs": [
    {
     "data": {
      "text/plain": [
       "array([[ 1.        , -0.40379375],\n",
       "       [-0.40379375,  1.        ]])"
      ]
     },
     "execution_count": 128,
     "metadata": {},
     "output_type": "execute_result"
    }
   ],
   "source": [
    "# cctv 설치 총량 대비 고령자 비율\n",
    "np.corrcoef(data_result['고령자비율'], data_result['소계'])\n",
    "# 행렬로 응답, 대각선에 기준값이 출력\n",
    "# -0.40379375 -> 관련 없음"
   ]
  },
  {
   "cell_type": "code",
   "execution_count": 129,
   "metadata": {},
   "outputs": [
    {
     "data": {
      "text/plain": [
       "array([[1.        , 0.37523207],\n",
       "       [0.37523207, 1.        ]])"
      ]
     },
     "execution_count": 129,
     "metadata": {},
     "output_type": "execute_result"
    }
   ],
   "source": [
    "np.corrcoef(data_result['인구수'], data_result['소계'])\n",
    "# 0.37523207 : 뚜렷한('약한'에 가까운) 상관관계"
   ]
  },
  {
   "cell_type": "code",
   "execution_count": 130,
   "metadata": {},
   "outputs": [
    {
     "data": {
      "text/plain": [
       "array([[ 1.        , -0.04143132],\n",
       "       [-0.04143132,  1.        ]])"
      ]
     },
     "execution_count": 130,
     "metadata": {},
     "output_type": "execute_result"
    }
   ],
   "source": [
    "np.corrcoef(data_result['외국인비율'], data_result['소계'])"
   ]
  },
  {
   "cell_type": "code",
   "execution_count": null,
   "metadata": {},
   "outputs": [],
   "source": []
  },
  {
   "cell_type": "markdown",
   "metadata": {},
   "source": [
    "## cctv가 많은 자치구 시각화"
   ]
  },
  {
   "cell_type": "code",
   "execution_count": 131,
   "metadata": {},
   "outputs": [
    {
     "data": {
      "text/html": [
       "<div>\n",
       "<style scoped>\n",
       "    .dataframe tbody tr th:only-of-type {\n",
       "        vertical-align: middle;\n",
       "    }\n",
       "\n",
       "    .dataframe tbody tr th {\n",
       "        vertical-align: top;\n",
       "    }\n",
       "\n",
       "    .dataframe thead th {\n",
       "        text-align: right;\n",
       "    }\n",
       "</style>\n",
       "<table border=\"1\" class=\"dataframe\">\n",
       "  <thead>\n",
       "    <tr style=\"text-align: right;\">\n",
       "      <th></th>\n",
       "      <th>소계</th>\n",
       "      <th>2014년도 이전</th>\n",
       "      <th>2015년</th>\n",
       "      <th>2016년</th>\n",
       "      <th>2017년</th>\n",
       "      <th>2018년</th>\n",
       "      <th>최신증가율</th>\n",
       "      <th>인구수</th>\n",
       "      <th>한국인</th>\n",
       "      <th>외국인</th>\n",
       "      <th>고령자</th>\n",
       "      <th>외국인비율</th>\n",
       "      <th>고령자비율</th>\n",
       "    </tr>\n",
       "    <tr>\n",
       "      <th>자치구</th>\n",
       "      <th></th>\n",
       "      <th></th>\n",
       "      <th></th>\n",
       "      <th></th>\n",
       "      <th></th>\n",
       "      <th></th>\n",
       "      <th></th>\n",
       "      <th></th>\n",
       "      <th></th>\n",
       "      <th></th>\n",
       "      <th></th>\n",
       "      <th></th>\n",
       "      <th></th>\n",
       "    </tr>\n",
       "  </thead>\n",
       "  <tbody>\n",
       "    <tr>\n",
       "      <th>강남구</th>\n",
       "      <td>5221</td>\n",
       "      <td>2885.0</td>\n",
       "      <td>546</td>\n",
       "      <td>765</td>\n",
       "      <td>577</td>\n",
       "      <td>448</td>\n",
       "      <td>80.970537</td>\n",
       "      <td>547453</td>\n",
       "      <td>542364</td>\n",
       "      <td>5089</td>\n",
       "      <td>67085</td>\n",
       "      <td>0.929578</td>\n",
       "      <td>12.254020</td>\n",
       "    </tr>\n",
       "    <tr>\n",
       "      <th>관악구</th>\n",
       "      <td>3985</td>\n",
       "      <td>1392.0</td>\n",
       "      <td>609</td>\n",
       "      <td>619</td>\n",
       "      <td>694</td>\n",
       "      <td>671</td>\n",
       "      <td>186.278736</td>\n",
       "      <td>520040</td>\n",
       "      <td>501957</td>\n",
       "      <td>18083</td>\n",
       "      <td>72249</td>\n",
       "      <td>3.477233</td>\n",
       "      <td>13.892970</td>\n",
       "    </tr>\n",
       "    <tr>\n",
       "      <th>구로구</th>\n",
       "      <td>3227</td>\n",
       "      <td>1607.0</td>\n",
       "      <td>268</td>\n",
       "      <td>326</td>\n",
       "      <td>540</td>\n",
       "      <td>486</td>\n",
       "      <td>100.808961</td>\n",
       "      <td>438486</td>\n",
       "      <td>404497</td>\n",
       "      <td>33989</td>\n",
       "      <td>61801</td>\n",
       "      <td>7.751445</td>\n",
       "      <td>14.094179</td>\n",
       "    </tr>\n",
       "    <tr>\n",
       "      <th>성북구</th>\n",
       "      <td>3003</td>\n",
       "      <td>1408.0</td>\n",
       "      <td>279</td>\n",
       "      <td>388</td>\n",
       "      <td>285</td>\n",
       "      <td>643</td>\n",
       "      <td>113.281250</td>\n",
       "      <td>447687</td>\n",
       "      <td>435868</td>\n",
       "      <td>11819</td>\n",
       "      <td>67782</td>\n",
       "      <td>2.640014</td>\n",
       "      <td>15.140489</td>\n",
       "    </tr>\n",
       "    <tr>\n",
       "      <th>은평구</th>\n",
       "      <td>2962</td>\n",
       "      <td>1890.0</td>\n",
       "      <td>180</td>\n",
       "      <td>296</td>\n",
       "      <td>229</td>\n",
       "      <td>367</td>\n",
       "      <td>56.719577</td>\n",
       "      <td>487666</td>\n",
       "      <td>483197</td>\n",
       "      <td>4469</td>\n",
       "      <td>77420</td>\n",
       "      <td>0.916406</td>\n",
       "      <td>15.875620</td>\n",
       "    </tr>\n",
       "  </tbody>\n",
       "</table>\n",
       "</div>"
      ],
      "text/plain": [
       "       소계  2014년도 이전  2015년  2016년  2017년  2018년       최신증가율     인구수     한국인  \\\n",
       "자치구                                                                            \n",
       "강남구  5221     2885.0    546    765    577    448   80.970537  547453  542364   \n",
       "관악구  3985     1392.0    609    619    694    671  186.278736  520040  501957   \n",
       "구로구  3227     1607.0    268    326    540    486  100.808961  438486  404497   \n",
       "성북구  3003     1408.0    279    388    285    643  113.281250  447687  435868   \n",
       "은평구  2962     1890.0    180    296    229    367   56.719577  487666  483197   \n",
       "\n",
       "       외국인    고령자     외국인비율      고령자비율  \n",
       "자치구                                     \n",
       "강남구   5089  67085  0.929578  12.254020  \n",
       "관악구  18083  72249  3.477233  13.892970  \n",
       "구로구  33989  61801  7.751445  14.094179  \n",
       "성북구  11819  67782  2.640014  15.140489  \n",
       "은평구   4469  77420  0.916406  15.875620  "
      ]
     },
     "execution_count": 131,
     "metadata": {},
     "output_type": "execute_result"
    }
   ],
   "source": [
    "# 데이터 정렬 선행\n",
    "data_result.sort_values(by='소계', ascending=False).head(5)"
   ]
  },
  {
   "cell_type": "code",
   "execution_count": null,
   "metadata": {},
   "outputs": [],
   "source": []
  },
  {
   "cell_type": "markdown",
   "metadata": {},
   "source": [
    "## 시각화 기초\n",
    "<a href = '/notebooks/analysis/pandas/basic/시각화.ipynb'>시각화</a> <br>\n",
    "<a href = '/notebooks/analysis/pandas/basic/matplotlib_시각화기초.ipynb'>matplotlib_시각화 기초</a>"
   ]
  },
  {
   "cell_type": "code",
   "execution_count": 115,
   "metadata": {},
   "outputs": [],
   "source": [
    "from matplotlib import pyplot as plt\n",
    "import matplotlib"
   ]
  },
  {
   "cell_type": "code",
   "execution_count": 116,
   "metadata": {},
   "outputs": [],
   "source": [
    "%matplotlib inline"
   ]
  },
  {
   "cell_type": "markdown",
   "metadata": {},
   "source": [
    "## 폰트 load (full code)"
   ]
  },
  {
   "cell_type": "raw",
   "metadata": {},
   "source": [
    "import platform\n",
    "from matplotlib import font_manager, rc\n",
    "\n",
    "plt.rcParams['axes.unicode_minus'] = False\n",
    "os_name = platform.system()\n",
    "if os_name == 'Darwin' :\n",
    "    # MacOS, Linux\n",
    "    rc('font', family = 'AppleGothic')\n",
    "elif os_name == 'Windows' :\n",
    "    # window10 ~ window server\n",
    "    path = 'c:/Windows/Fonts/malgun.ttf'\n",
    "    font_name = font_manager.FontProperties(fname=path).get_name()\n",
    "    print(font_name)\n",
    "    rc('font', family = font_name)\n",
    "else :\n",
    "    print('알 수 없는 시스템')\n",
    "    pass"
   ]
  },
  {
   "cell_type": "code",
   "execution_count": 118,
   "metadata": {
    "scrolled": true
   },
   "outputs": [
    {
     "name": "stdout",
     "output_type": "stream",
     "text": [
      "Malgun Gothic\n"
     ]
    }
   ],
   "source": [
    "from korea_font import initKoreaFontLoad\n",
    "initKoreaFontLoad()"
   ]
  },
  {
   "cell_type": "markdown",
   "metadata": {},
   "source": [
    "###### plt.figure()\n",
    "###### plt.show()"
   ]
  },
  {
   "cell_type": "code",
   "execution_count": 132,
   "metadata": {},
   "outputs": [
    {
     "data": {
      "image/png": "[encoded data removed]",
      "text/plain": [
       "<Figure size 720x720 with 1 Axes>"
      ]
     },
     "metadata": {},
     "output_type": "display_data"
    }
   ],
   "source": [
    "# 소계의 자치구별 bar chart 시각화\n",
    "plt.figure()\n",
    "data_result['소계'].plot(kind = 'bar', grid=True, figsize=(10, 10), rot=45)\n",
    "plt.show()"
   ]
  },
  {
   "cell_type": "code",
   "execution_count": 133,
   "metadata": {},
   "outputs": [
    {
     "data": {
      "image/png": "[encoded data removed]",
      "text/plain": [
       "<Figure size 720x720 with 1 Axes>"
      ]
     },
     "metadata": {},
     "output_type": "display_data"
    }
   ],
   "source": [
    "plt.figure()\n",
    "# horizontal\n",
    "data_result['소계'].plot(kind = 'barh', grid=True, figsize=(10, 10), rot=45)\n",
    "plt.show()"
   ]
  },
  {
   "cell_type": "code",
   "execution_count": 134,
   "metadata": {},
   "outputs": [
    {
     "data": {
      "image/png": "[encoded data removed]",
      "text/plain": [
       "<Figure size 720x720 with 1 Axes>"
      ]
     },
     "metadata": {},
     "output_type": "display_data"
    }
   ],
   "source": [
    "plt.figure()\n",
    "data_result['소계'].sort_values().plot(kind = 'barh', grid=True, figsize=(10, 10), rot=45)\n",
    "plt.show()"
   ]
  },
  {
   "cell_type": "code",
   "execution_count": 135,
   "metadata": {},
   "outputs": [],
   "source": [
    "# 인구대비 cctv 비율을 계산\n",
    "# 'cctv비율' 컬럼 생성 \n",
    "data_result['cctv비율'] = data_result['소계'] / data_result['인구수'] * 100"
   ]
  },
  {
   "cell_type": "code",
   "execution_count": 136,
   "metadata": {},
   "outputs": [
    {
     "data": {
      "image/png": "[encoded data removed]",
      "text/plain": [
       "<Figure size 720x720 with 1 Axes>"
      ]
     },
     "metadata": {},
     "output_type": "display_data"
    }
   ],
   "source": [
    "# cctv비율 순으로 정렬 -> 시각화(바차트 수평처리)\n",
    "plt.figure()\n",
    "data_result['cctv비율'].sort_values().plot(kind='barh', grid=True, figsize=(10, 10), rot=45)\n",
    "plt.show()"
   ]
  },
  {
   "cell_type": "code",
   "execution_count": null,
   "metadata": {},
   "outputs": [],
   "source": []
  },
  {
   "cell_type": "markdown",
   "metadata": {},
   "source": [
    "## 산포도, 평균선 작성\n",
    "- 인구대비 cctv 설치 비율이 가장 적정한 자치구는?"
   ]
  },
  {
   "cell_type": "markdown",
   "metadata": {},
   "source": [
    "###### 산포도 : scatter"
   ]
  },
  {
   "cell_type": "code",
   "execution_count": 141,
   "metadata": {},
   "outputs": [
    {
     "data": {
      "image/png": "[encoded data removed]",
      "text/plain": [
       "<Figure size 432x432 with 1 Axes>"
      ]
     },
     "metadata": {},
     "output_type": "display_data"
    }
   ],
   "source": [
    "plt.figure(figsize=(6, 6))\n",
    "plt.scatter(data_result['인구수'], data_result['소계'], s=50)\n",
    "plt.xlabel('인구수')\n",
    "plt.ylabel('CCTV')\n",
    "plt.grid()\n",
    "plt.show()"
   ]
  },
  {
   "cell_type": "markdown",
   "metadata": {},
   "source": [
    "###### 기울기, 절편 값 찾기 : np.polyfit()"
   ]
  },
  {
   "cell_type": "code",
   "execution_count": 143,
   "metadata": {
    "scrolled": true
   },
   "outputs": [
    {
     "data": {
      "text/plain": [
       "array([2.85240371e-03, 1.07309855e+03])"
      ]
     },
     "execution_count": 143,
     "metadata": {},
     "output_type": "execute_result"
    }
   ],
   "source": [
    "# 위의 산포도 기준으로 데이터의 분포를 설명할 수 있는 기울기가 1인 직선값을 찾는 방법\n",
    "fp1 = np.polyfit(data_result['인구수'], data_result['소계'], 1)\n",
    "# y = ax+b\n",
    "# a : 기울기\n",
    "# b : 절편\n",
    "fp1\n",
    "# [기울기, 절편]"
   ]
  },
  {
   "cell_type": "markdown",
   "metadata": {},
   "source": [
    "###### 함수 생성 : np.poly1d()"
   ]
  },
  {
   "cell_type": "code",
   "execution_count": 147,
   "metadata": {},
   "outputs": [
    {
     "data": {
      "text/plain": [
       "numpy.lib.polynomial.poly1d"
      ]
     },
     "execution_count": 147,
     "metadata": {},
     "output_type": "execute_result"
    }
   ],
   "source": [
    "# 기울기, 절편을 넣어서 함수를 생성\n",
    "f1 = np.poly1d(fp1)\n",
    "type(f1)"
   ]
  },
  {
   "cell_type": "markdown",
   "metadata": {},
   "source": [
    "###### np.linspace()"
   ]
  },
  {
   "cell_type": "code",
   "execution_count": 148,
   "metadata": {},
   "outputs": [
    {
     "data": {
      "text/plain": [
       "100"
      ]
     },
     "execution_count": 148,
     "metadata": {},
     "output_type": "execute_result"
    }
   ],
   "source": [
    "# x축 데이터\n",
    "# 100000에서 700000 사이를 100개로 구간을 나눈다\n",
    "fx = np.linspace(100000, 700000, 100)\n",
    "len(fx)"
   ]
  },
  {
   "cell_type": "code",
   "execution_count": 149,
   "metadata": {},
   "outputs": [
    {
     "data": {
      "image/png": "[encoded data removed]",
      "text/plain": [
       "<Figure size 432x432 with 1 Axes>"
      ]
     },
     "metadata": {},
     "output_type": "display_data"
    }
   ],
   "source": [
    "# 산포도\n",
    "plt.figure( figsize = (6, 6))\n",
    "plt.scatter(data_result['인구수'], data_result['소계'], s=50)\n",
    "# 인구수 대비 cctv 수 직선\n",
    "plt.plot(fx, f1(fx), ls = 'dashed', color = 'g', lw = 3 ) # ls : 선의 모양\n",
    "plt.xlabel('인구수')\n",
    "plt.ylabel('CCTV')\n",
    "plt.grid()\n",
    "plt.show()"
   ]
  },
  {
   "cell_type": "code",
   "execution_count": 150,
   "metadata": {
    "scrolled": true
   },
   "outputs": [
    {
     "data": {
      "text/plain": [
       "array([1358.3389188 , 1643.57928999, 1928.81966118, 2214.06003236,\n",
       "       2499.30040355, 2784.54077474, 3069.78114592])"
      ]
     },
     "execution_count": 150,
     "metadata": {},
     "output_type": "execute_result"
    }
   ],
   "source": [
    "# 직선은 대표값이다\n",
    "tmp = [100000, 200000, 300000, 400000, 500000, 600000, 700000]\n",
    "f1(tmp)\n",
    "# 인구수 40만 명일때, 적정 cctv 설치 대수는 2214대"
   ]
  },
  {
   "cell_type": "markdown",
   "metadata": {},
   "source": [
    "### 산포도 포인트에 자치구를 표현(텍스트)"
   ]
  },
  {
   "cell_type": "markdown",
   "metadata": {},
   "source": [
    "###### 텍스트 : plt.text()"
   ]
  },
  {
   "cell_type": "code",
   "execution_count": 155,
   "metadata": {},
   "outputs": [
    {
     "data": {
      "image/png": "[encoded data removed]",
      "text/plain": [
       "<Figure size 432x432 with 1 Axes>"
      ]
     },
     "metadata": {},
     "output_type": "display_data"
    }
   ],
   "source": [
    "plt.figure( figsize = (6, 6))\n",
    "plt.scatter(data_result['인구수'], data_result['소계'], s=50)\n",
    "plt.plot(fx, f1(fx), ls = 'dashed', color = 'g', lw = 3 )\n",
    "# 포인트에 자치구 표현 (전체 드로잉)\n",
    "# 대상 선정, 좌표(X1=X*1.02, Y1=Y*0.98)\n",
    "for n in range(data_result.shape[0]) :\n",
    "    plt.text(data_result['인구수'][n]*1.02, data_result['소계'][n]*0.98, data_result.index[n], fontsize=10)\n",
    "plt.xlabel('인구수')\n",
    "plt.ylabel('CCTV')\n",
    "plt.grid()\n",
    "plt.show()"
   ]
  },
  {
   "cell_type": "markdown",
   "metadata": {},
   "source": [
    "### 대표값 기준, 멀수록 색상을 진하게 혹은 연하게 처리\n",
    "- 색상으로도 설명할 수 있도록 데코레이션 처리"
   ]
  },
  {
   "cell_type": "code",
   "execution_count": 156,
   "metadata": {},
   "outputs": [],
   "source": [
    "# 거리 계산, 오차\n",
    "# 식 = |cctv tn - 해당 인구수의 평균 cctv 수|(절대값)\n",
    "data_result['오차'] = np.abs(data_result['소계'] - f1(data_result['인구수']))"
   ]
  },
  {
   "cell_type": "code",
   "execution_count": 158,
   "metadata": {
    "scrolled": true
   },
   "outputs": [
    {
     "data": {
      "text/html": [
       "<div>\n",
       "<style scoped>\n",
       "    .dataframe tbody tr th:only-of-type {\n",
       "        vertical-align: middle;\n",
       "    }\n",
       "\n",
       "    .dataframe tbody tr th {\n",
       "        vertical-align: top;\n",
       "    }\n",
       "\n",
       "    .dataframe thead th {\n",
       "        text-align: right;\n",
       "    }\n",
       "</style>\n",
       "<table border=\"1\" class=\"dataframe\">\n",
       "  <thead>\n",
       "    <tr style=\"text-align: right;\">\n",
       "      <th></th>\n",
       "      <th>소계</th>\n",
       "      <th>2014년도 이전</th>\n",
       "      <th>2015년</th>\n",
       "      <th>2016년</th>\n",
       "      <th>2017년</th>\n",
       "      <th>2018년</th>\n",
       "      <th>최신증가율</th>\n",
       "      <th>인구수</th>\n",
       "      <th>한국인</th>\n",
       "      <th>외국인</th>\n",
       "      <th>고령자</th>\n",
       "      <th>외국인비율</th>\n",
       "      <th>고령자비율</th>\n",
       "      <th>cctv비율</th>\n",
       "      <th>오차</th>\n",
       "    </tr>\n",
       "    <tr>\n",
       "      <th>자치구</th>\n",
       "      <th></th>\n",
       "      <th></th>\n",
       "      <th></th>\n",
       "      <th></th>\n",
       "      <th></th>\n",
       "      <th></th>\n",
       "      <th></th>\n",
       "      <th></th>\n",
       "      <th></th>\n",
       "      <th></th>\n",
       "      <th></th>\n",
       "      <th></th>\n",
       "      <th></th>\n",
       "      <th></th>\n",
       "      <th></th>\n",
       "    </tr>\n",
       "  </thead>\n",
       "  <tbody>\n",
       "    <tr>\n",
       "      <th>강남구</th>\n",
       "      <td>5221</td>\n",
       "      <td>2885.0</td>\n",
       "      <td>546</td>\n",
       "      <td>765</td>\n",
       "      <td>577</td>\n",
       "      <td>448</td>\n",
       "      <td>80.970537</td>\n",
       "      <td>547453</td>\n",
       "      <td>542364</td>\n",
       "      <td>5089</td>\n",
       "      <td>67085</td>\n",
       "      <td>0.929578</td>\n",
       "      <td>12.254020</td>\n",
       "      <td>0.953689</td>\n",
       "      <td>2586.344483</td>\n",
       "    </tr>\n",
       "    <tr>\n",
       "      <th>강동구</th>\n",
       "      <td>1879</td>\n",
       "      <td>883.0</td>\n",
       "      <td>144</td>\n",
       "      <td>194</td>\n",
       "      <td>273</td>\n",
       "      <td>385</td>\n",
       "      <td>112.797282</td>\n",
       "      <td>431920</td>\n",
       "      <td>427573</td>\n",
       "      <td>4347</td>\n",
       "      <td>58770</td>\n",
       "      <td>1.006436</td>\n",
       "      <td>13.606686</td>\n",
       "      <td>0.435034</td>\n",
       "      <td>426.108759</td>\n",
       "    </tr>\n",
       "  </tbody>\n",
       "</table>\n",
       "</div>"
      ],
      "text/plain": [
       "       소계  2014년도 이전  2015년  2016년  2017년  2018년       최신증가율     인구수     한국인  \\\n",
       "자치구                                                                            \n",
       "강남구  5221     2885.0    546    765    577    448   80.970537  547453  542364   \n",
       "강동구  1879      883.0    144    194    273    385  112.797282  431920  427573   \n",
       "\n",
       "      외국인    고령자     외국인비율      고령자비율    cctv비율           오차  \n",
       "자치구                                                           \n",
       "강남구  5089  67085  0.929578  12.254020  0.953689  2586.344483  \n",
       "강동구  4347  58770  1.006436  13.606686  0.435034   426.108759  "
      ]
     },
     "execution_count": 158,
     "metadata": {},
     "output_type": "execute_result"
    }
   ],
   "source": [
    "data_result.head(2)"
   ]
  },
  {
   "cell_type": "markdown",
   "metadata": {},
   "source": [
    "###### plt.scatter(data_result['인구수'], data_result['소계'], s=50, c = data_result['오차'])"
   ]
  },
  {
   "cell_type": "code",
   "execution_count": 160,
   "metadata": {},
   "outputs": [
    {
     "data": {
      "image/png": "[encoded data removed]",
      "text/plain": [
       "<Figure size 432x432 with 2 Axes>"
      ]
     },
     "metadata": {},
     "output_type": "display_data"
    }
   ],
   "source": [
    "plt.figure( figsize = (6, 6))\n",
    "plt.scatter(data_result['인구수'], data_result['소계'], s=50, c = data_result['오차'])\n",
    "plt.plot(fx, f1(fx), ls = 'dashed', color = 'g', lw = 3 )\n",
    "for n in range(data_result.shape[0]) :\n",
    "    plt.text(data_result['인구수'][n]*1.02, data_result['소계'][n]*0.98, data_result.index[n], fontsize=10)\n",
    "plt.xlabel('인구수')\n",
    "plt.ylabel('CCTV')\n",
    "plt.grid()\n",
    "# 칼라바\n",
    "plt.colorbar()\n",
    "plt.show()"
   ]
  },
  {
   "cell_type": "code",
   "execution_count": 179,
   "metadata": {
    "scrolled": false
   },
   "outputs": [
    {
     "data": {
      "text/plain": [
       "Index(['종로구', '중구', '동대문구', '송파구', '관악구', '강남구'], dtype='object', name='자치구')"
      ]
     },
     "execution_count": 179,
     "metadata": {},
     "output_type": "execute_result"
    }
   ],
   "source": [
    "# 오차 top3(내림, 오름)\n",
    "tmp = data_result['오차'].sort_values(ascending=True).index[:3] \n",
    "tmp = tmp.append(data_result['오차'].sort_values(ascending=True).index[-3:])\n",
    "tmp"
   ]
  },
  {
   "cell_type": "markdown",
   "metadata": {},
   "source": [
    "### 오차값이 큰 자치구 6개만 텍스트 표현"
   ]
  },
  {
   "cell_type": "code",
   "execution_count": 180,
   "metadata": {
    "scrolled": true
   },
   "outputs": [
    {
     "data": {
      "image/png": "[encoded data removed]",
      "text/plain": [
       "<Figure size 432x432 with 2 Axes>"
      ]
     },
     "metadata": {},
     "output_type": "display_data"
    }
   ],
   "source": [
    "plt.figure( figsize = (6, 6))\n",
    "plt.scatter(data_result['인구수'], data_result['소계'], s=50, c = data_result['오차'])\n",
    "plt.plot(fx, f1(fx), ls = 'dashed', color = 'g', lw = 3 )\n",
    "for n in range(data_result.shape[0]) :\n",
    "    if data_result.index[n] in tmp :\n",
    "        plt.text(data_result['인구수'][n]*1.02, \n",
    "                 data_result['소계'][n]*0.98, \n",
    "                 data_result.index[n], \n",
    "                 fontsize=10)\n",
    "plt.xlabel('인구수')\n",
    "plt.ylabel('CCTV')\n",
    "plt.grid()\n",
    "# 칼라바\n",
    "plt.colorbar()\n",
    "plt.show()"
   ]
  },
  {
   "cell_type": "markdown",
   "metadata": {},
   "source": [
    "###### 자료 덤프 : .to_csv()"
   ]
  },
  {
   "cell_type": "code",
   "execution_count": 181,
   "metadata": {},
   "outputs": [],
   "source": [
    "# 자료 덤프\n",
    "data_result.to_csv('../data/population_per_cctv_analysis_result.csv', sep=',', encoding='utf-8') "
   ]
  },
  {
   "cell_type": "code",
   "execution_count": null,
   "metadata": {},
   "outputs": [],
   "source": []
  }
 ],
 "metadata": {
  "kernelspec": {
   "display_name": "Python 3",
   "language": "python",
   "name": "python3"
  },
  "language_info": {
   "codemirror_mode": {
    "name": "ipython",
    "version": 3
   },
   "file_extension": ".py",
   "mimetype": "text/x-python",
   "name": "python",
   "nbconvert_exporter": "python",
   "pygments_lexer": "ipython3",
   "version": "3.6.5"
  }
 },
 "nbformat": 4,
 "nbformat_minor": 2
}
