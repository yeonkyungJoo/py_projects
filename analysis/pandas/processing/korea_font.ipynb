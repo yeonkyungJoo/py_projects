{
 "cells": [
  {
   "cell_type": "code",
   "execution_count": 1,
   "metadata": {},
   "outputs": [],
   "source": [
    "# 폰트 (full code)\n",
    "import platform\n",
    "from matplotlib import font_manager, rc\n",
    "from matplotlib import pyplot as plt\n",
    "%matplotlib inline\n",
    "\n",
    "def initKoreaFontLoad() :\n",
    "    plt.rcParams['axes.unicode_minus'] = False\n",
    "    os_name = platform.system()\n",
    "    \n",
    "    if os_name == 'Darwin' :\n",
    "        # MacOS, Linux\n",
    "        rc('font', family = 'AppleGothic')\n",
    "    elif os_name == 'Windows' :\n",
    "        # window10 ~ window server\n",
    "        path = 'c:/Windows/Fonts/malgun.ttf'\n",
    "        font_name = font_manager.FontProperties(fname=path).get_name()\n",
    "        print(font_name)\n",
    "        rc('font', family = font_name)\n",
    "    else :\n",
    "        print('알 수 없는 시스템')\n",
    "        pass"
   ]
  }
 ],
 "metadata": {
  "kernelspec": {
   "display_name": "Python 3",
   "language": "python",
   "name": "python3"
  },
  "language_info": {
   "codemirror_mode": {
    "name": "ipython",
    "version": 3
   },
   "file_extension": ".py",
   "mimetype": "text/x-python",
   "name": "python",
   "nbconvert_exporter": "python",
   "pygments_lexer": "ipython3",
   "version": "3.6.5"
  }
 },
 "nbformat": 4,
 "nbformat_minor": 2
}
