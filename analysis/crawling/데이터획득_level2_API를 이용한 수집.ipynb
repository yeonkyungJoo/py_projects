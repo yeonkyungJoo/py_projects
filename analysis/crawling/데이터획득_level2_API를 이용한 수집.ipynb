{
 "cells": [
  {
   "cell_type": "markdown",
   "metadata": {},
   "source": [
    "## 데이터 획득\n",
    "\n",
    "* api 사용\n",
    "* naver open api를 활용\n",
    "* urllib.request 모듈을 사용하여 통신처리 후 JSON 파싱을 통한 데이터 추출"
   ]
  },
  {
   "cell_type": "code",
   "execution_count": 1,
   "metadata": {},
   "outputs": [],
   "source": [
    "import os\n",
    "import sys"
   ]
  },
  {
   "cell_type": "markdown",
   "metadata": {},
   "source": [
    "#### naver API 사용을 위한 키"
   ]
  },
  {
   "cell_type": "code",
   "execution_count": 2,
   "metadata": {},
   "outputs": [],
   "source": [
    "# https://developers.naver.com에서 Application 등록\n",
    "Client_ID = 'Mv8PSDo4c0gpuASKyVoU'\n",
    "Secret = 'Abej09hoFT'"
   ]
  },
  {
   "cell_type": "markdown",
   "metadata": {},
   "source": [
    "* 통신할 URL 정의\n",
    "* parameter 정의(get/post 방식에 맞춰 구성)\n",
    "* header 위에서 정의한 키 및 응답 데이터 포맷에 대한 구성 추가\n",
    "* 통신 -> 응답 코드 확인 -> 200번인 경우(성공) -> 응답데이터에서 json 데이터 획득\n",
    "* json 데이터에서 [가공 및 전처리는 일단 배제] 데이터 적재(csv or xls or database)"
   ]
  },
  {
   "cell_type": "code",
   "execution_count": 3,
   "metadata": {},
   "outputs": [
    {
     "data": {
      "text/plain": [
       "'https://openapi.naver.com/v1/datalab/search'"
      ]
     },
     "execution_count": 3,
     "metadata": {},
     "output_type": "execute_result"
    }
   ],
   "source": [
    "# 네이버 통합 검색어 트렌드 조회 (https://developers.naver.com/docs/datalab/search/#python)\n",
    "# 요청 url\n",
    "url = \"https://openapi.naver.com/v1/datalab/search\"\n",
    "url"
   ]
  },
  {
   "cell_type": "code",
   "execution_count": 4,
   "metadata": {},
   "outputs": [
    {
     "data": {
      "text/plain": [
       "'{\"startDate\":\"2019-07-09\",\"endDate\":\"2019-08-06\",\"timeUnit\":\"month\",\"keywordGroups\":[{\"groupName\":\"대한민국\",\"keywords\":[\"대한민국\",\"korean\"]},{\"groupName\":\"일본\",\"keywords\":[\"일본\",\"japan\"]}],\"device\":\"pc\",\"ages\":[\"3\",\"4\"],\"gender\":\"f\"}'"
      ]
     },
     "execution_count": 4,
     "metadata": {},
     "output_type": "execute_result"
    }
   ],
   "source": [
    "body = '{\"startDate\":\"2019-07-09\",\"endDate\":\"2019-08-06\",\"timeUnit\":\"month\",\"keywordGroups\":[{\"groupName\":\"대한민국\",\"keywords\":[\"대한민국\",\"korean\"]},{\"groupName\":\"일본\",\"keywords\":[\"일본\",\"japan\"]}],\"device\":\"pc\",\"ages\":[\"3\",\"4\"],\"gender\":\"f\"}';\n",
    "body"
   ]
  },
  {
   "cell_type": "code",
   "execution_count": 5,
   "metadata": {},
   "outputs": [],
   "source": [
    "# 통신\n",
    "import urllib.request as net"
   ]
  },
  {
   "cell_type": "code",
   "execution_count": 6,
   "metadata": {},
   "outputs": [],
   "source": [
    "# 통신 객체 생성\n",
    "request = net.Request(url)  # request = urllib.request.Request(url)\n",
    "# 헤더 설정\n",
    "request.add_header(\"X-Naver-Client-Id\", Client_ID)\n",
    "request.add_header(\"X-Naver-Client-Secret\", Secret)\n",
    "request.add_header(\"Content-Type\",\"application/json\")"
   ]
  },
  {
   "cell_type": "code",
   "execution_count": 7,
   "metadata": {},
   "outputs": [
    {
     "data": {
      "text/plain": [
       "<urllib.request.Request at 0x1fed9604208>"
      ]
     },
     "execution_count": 7,
     "metadata": {},
     "output_type": "execute_result"
    }
   ],
   "source": [
    "request"
   ]
  },
  {
   "cell_type": "code",
   "execution_count": 9,
   "metadata": {},
   "outputs": [],
   "source": [
    "# 실제 통신 : post 방식\n",
    "# 한글 데이터를 그대로 전송하면 오류 발생 -> body.encode('utf-8') 처리\n",
    "# response = urllib.request.urlopen(request, data=body.encode(\"utf-8\"))\n",
    "response = net.urlopen(request, data=body.encode(\"utf-8\"))"
   ]
  },
  {
   "cell_type": "code",
   "execution_count": 11,
   "metadata": {},
   "outputs": [
    {
     "data": {
      "text/plain": [
       "<http.client.HTTPResponse at 0x1fed9604e48>"
      ]
     },
     "execution_count": 11,
     "metadata": {},
     "output_type": "execute_result"
    }
   ],
   "source": [
    "response"
   ]
  },
  {
   "cell_type": "code",
   "execution_count": 12,
   "metadata": {},
   "outputs": [
    {
     "name": "stdout",
     "output_type": "stream",
     "text": [
      "{\"startDate\":\"2019-07-01\",\"endDate\":\"2019-08-07\",\"timeUnit\":\"month\",\"results\":[{\"title\":\"대한민국\",\"keywords\":[\"대한민국\",\"korean\"],\"data\":[{\"period\":\"2019-07-01\",\"ratio\":17.93314},{\"period\":\"2019-08-01\",\"ratio\":3.91837}]},{\"title\":\"일본\",\"keywords\":[\"일본\",\"japan\"],\"data\":[{\"period\":\"2019-07-01\",\"ratio\":100},{\"period\":\"2019-08-01\",\"ratio\":31.18427}]}]}\n"
     ]
    }
   ],
   "source": [
    "# 응답 코드가 정상이면\n",
    "rescode = response.getcode()\n",
    "if(rescode==200):\n",
    "    # 실제 응답 데이터를 획득\n",
    "    response_body = response.read()\n",
    "    print(response_body.decode('utf-8'))\n",
    "else:\n",
    "    print(\"Error Code:\" + rescode)"
   ]
  },
  {
   "cell_type": "code",
   "execution_count": 13,
   "metadata": {},
   "outputs": [
    {
     "data": {
      "text/plain": [
       "b'{\"startDate\":\"2019-07-01\",\"endDate\":\"2019-08-07\",\"timeUnit\":\"month\",\"results\":[{\"title\":\"\\xeb\\x8c\\x80\\xed\\x95\\x9c\\xeb\\xaf\\xbc\\xea\\xb5\\xad\",\"keywords\":[\"\\xeb\\x8c\\x80\\xed\\x95\\x9c\\xeb\\xaf\\xbc\\xea\\xb5\\xad\",\"korean\"],\"data\":[{\"period\":\"2019-07-01\",\"ratio\":17.93314},{\"period\":\"2019-08-01\",\"ratio\":3.91837}]},{\"title\":\"\\xec\\x9d\\xbc\\xeb\\xb3\\xb8\",\"keywords\":[\"\\xec\\x9d\\xbc\\xeb\\xb3\\xb8\",\"japan\"],\"data\":[{\"period\":\"2019-07-01\",\"ratio\":100},{\"period\":\"2019-08-01\",\"ratio\":31.18427}]}]}'"
      ]
     },
     "execution_count": 13,
     "metadata": {},
     "output_type": "execute_result"
    }
   ],
   "source": [
    "response_body"
   ]
  },
  {
   "cell_type": "code",
   "execution_count": 14,
   "metadata": {},
   "outputs": [
    {
     "data": {
      "text/plain": [
       "'{\"startDate\":\"2019-07-01\",\"endDate\":\"2019-08-07\",\"timeUnit\":\"month\",\"results\":[{\"title\":\"대한민국\",\"keywords\":[\"대한민국\",\"korean\"],\"data\":[{\"period\":\"2019-07-01\",\"ratio\":17.93314},{\"period\":\"2019-08-01\",\"ratio\":3.91837}]},{\"title\":\"일본\",\"keywords\":[\"일본\",\"japan\"],\"data\":[{\"period\":\"2019-07-01\",\"ratio\":100},{\"period\":\"2019-08-01\",\"ratio\":31.18427}]}]}'"
      ]
     },
     "execution_count": 14,
     "metadata": {},
     "output_type": "execute_result"
    }
   ],
   "source": [
    "response_body.decode('utf-8')"
   ]
  },
  {
   "cell_type": "code",
   "execution_count": null,
   "metadata": {},
   "outputs": [],
   "source": []
  },
  {
   "cell_type": "code",
   "execution_count": 20,
   "metadata": {},
   "outputs": [],
   "source": [
    "import urllib"
   ]
  },
  {
   "cell_type": "code",
   "execution_count": 15,
   "metadata": {},
   "outputs": [],
   "source": [
    "# 뉴스 검색(https://developers.naver.com/docs/search/news/)\n",
    "# 요청 url\n",
    "news_url = 'https://openapi.naver.com/v1/search/news.json'"
   ]
  },
  {
   "cell_type": "code",
   "execution_count": 21,
   "metadata": {},
   "outputs": [
    {
     "data": {
      "text/plain": [
       "'query=%EC%95%84%EB%B2%A0&display=10&start=1&sort=date'"
      ]
     },
     "execution_count": 21,
     "metadata": {},
     "output_type": "execute_result"
    }
   ],
   "source": [
    "# 파라미터\n",
    "# query=%EC%A3%BC%EC%8B%9D&display=10&start=1&sort=sim HTTP/1.1\n",
    "\n",
    "keyword = urllib.parse.quote('아베') # 검색어\n",
    "news_param = 'query=%s&display=%s&start=%s&sort=%s' % (keyword, 10, 1, 'date')\n",
    "news_param"
   ]
  },
  {
   "cell_type": "code",
   "execution_count": 22,
   "metadata": {},
   "outputs": [
    {
     "data": {
      "text/plain": [
       "'https://openapi.naver.com/v1/search/news.json?query=%EC%95%84%EB%B2%A0&display=10&start=1&sort=date'"
      ]
     },
     "execution_count": 22,
     "metadata": {},
     "output_type": "execute_result"
    }
   ],
   "source": [
    "url = '%s?%s' % (news_url, news_param)\n",
    "url"
   ]
  },
  {
   "cell_type": "code",
   "execution_count": 23,
   "metadata": {},
   "outputs": [],
   "source": [
    "# 통신 객체 생성\n",
    "request = urllib.request.Request(url)\n",
    "# 헤더 설정\n",
    "request.add_header(\"X-Naver-Client-Id\", Client_ID)\n",
    "request.add_header(\"X-Naver-Client-Secret\", Secret)"
   ]
  },
  {
   "cell_type": "code",
   "execution_count": 24,
   "metadata": {},
   "outputs": [
    {
     "data": {
      "text/plain": [
       "<urllib.request.Request at 0x1fed96a00b8>"
      ]
     },
     "execution_count": 24,
     "metadata": {},
     "output_type": "execute_result"
    }
   ],
   "source": [
    "request"
   ]
  },
  {
   "cell_type": "code",
   "execution_count": 25,
   "metadata": {},
   "outputs": [],
   "source": [
    "# 통신\n",
    "response = urllib.request.urlopen(request)"
   ]
  },
  {
   "cell_type": "code",
   "execution_count": 26,
   "metadata": {},
   "outputs": [
    {
     "name": "stdout",
     "output_type": "stream",
     "text": [
      "{\n",
      "\"lastBuildDate\": \"Wed, 07 Aug 2019 17:36:41 +0900\",\n",
      "\"total\": 552298,\n",
      "\"start\": 1,\n",
      "\"display\": 10,\n",
      "\"items\": [\n",
      "{\n",
      "\"title\": \"평화·통일 염원하는 시민단체도 日 규탄… &quot;한반도 평화, <b>아베</b>정권 향한 가장...\",\n",
      "\"originallink\": \"http://www.newscj.com/news/articleView.html?idxno=657572\",\n",
      "\"link\": \"http://www.newscj.com/news/articleView.html?idxno=657572\",\n",
      "\"description\": \"&quot;경제도발, 적반하장 이상의 것&quot; &quot;국민 힘 합쳐 강력 대응해야&quot; &quot;한반도 평화과정을 만들어 가는 것은 <b>아베</b>정... 그는 &quot;<b>아베</b>정권의 경제 도발은 적반하장 이상의 것&quot;이라며 &quot;국민이 다 같이 힘을 합쳐 지혜롭고 강력하게... \",\n",
      "\"pubDate\": \"Wed, 07 Aug 2019 17:34:00 +0900\"\n",
      "\n",
      "},\n",
      "{\n",
      "\"title\": \"“일본, 싸울 준비도 안된 채 한국과 무역전쟁 시작했다”\",\n",
      "\"originallink\": \"http://news.kbs.co.kr/news/view.do?ncd=4258052&ref=A\",\n",
      "\"link\": \"https://news.naver.com/main/read.nhn?mode=LSD&mid=sec&sid1=104&oid=056&aid=0010730137\",\n",
      "\"description\": \"일본 정부는 큰 역풍이 일 것에 대비했어야 했다&quot;면서 &quot;<b>아베</b> 총리와 스가 요시히데(菅義偉) 관방장관이 경제에 미칠 부작용의 규모를 예상했는지 명확하지 않다&quot;고 말했습니다.\",\n",
      "\"pubDate\": \"Wed, 07 Aug 2019 17:33:00 +0900\"\n",
      "\n",
      "},\n",
      "{\n",
      "\"title\": \"日 핵 오염수 100만톤 방류, 그린피스 &quot;범죄&quot; 경고\",\n",
      "\"originallink\": \"https://www.nocutnews.co.kr/news/5194869\",\n",
      "\"link\": \"https://news.naver.com/main/read.nhn?mode=LSD&mid=sec&sid1=102&oid=079&aid=0003257298\",\n",
      "\"description\": \"아울러 그는 &quot;후쿠시마 제1원전 오염수에 대해 <b>아베</b> 내각이 침묵하는 것은 용서할 수 없는 처사&quot;라며 &quot;현재 <b>아베</b> 내각은 오염수에 대한 해결책을 갖고 있지 않다. 도쿄전력은 2021년 용융된 핵연료를 제거하기 시작해 2031년... \",\n",
      "\"pubDate\": \"Wed, 07 Aug 2019 17:33:00 +0900\"\n",
      "\n",
      "},\n",
      "{\n",
      "\"title\": \"나경원, &quot;우리 일본&quot; 발언 해명에 진땀\",\n",
      "\"originallink\": \"http://www.dt.co.kr/contents.html?article_no=2019080702109958820002&ref=naver\",\n",
      "\"link\": \"https://news.naver.com/main/read.nhn?mode=LSD&mid=sec&sid1=100&oid=029&aid=0002545049\",\n",
      "\"description\": \"<b>아베</b> 총리가 미소 짓고 일본 극우세력들이 신나게 퍼다나를 만한 이야기&quot;라며 &quot;말 어렵게 할 것 없다. 한국당이 계속 국민 뜻을 거스른다면 국회를 떠나 엄마부대 주옥순 대표와 함께 일본으로 가길 바란다&quot;고 질타했다.\",\n",
      "\"pubDate\": \"Wed, 07 Aug 2019 17:32:00 +0900\"\n",
      "\n",
      "},\n",
      "{\n",
      "\"title\": \"스포자토 &quot;일본, 싸울 준비도 안 된 채 한국과 무역 전쟁 시작했다&quot;\",\n",
      "\"originallink\": \"https://news.sbs.co.kr/news/endPage.do?news_id=N1005386678&plink=ORI&cooper=NAVER\",\n",
      "\"link\": \"https://news.naver.com/main/read.nhn?mode=LSD&mid=sec&sid1=104&oid=055&aid=0000750548\",\n",
      "\"description\": \"세코 히로시게 경제산업상은 이번 조처가 경제보복이 아니라면서 자유무역질서를 훼손했다는 비판을 억누르려 했으나, <b>아베</b> 신조 총리 등은 오히려 논란에 불을 붙이는 발언을 쏟아냈다는 것입니다. 이 과정에서 <b>아베</b>... \",\n",
      "\"pubDate\": \"Wed, 07 Aug 2019 17:32:00 +0900\"\n",
      "\n",
      "},\n",
      "{\n",
      "\"title\": \"민주당 &quot;한국당, 주옥순 징계 안하면 '토착왜구'&quot;\",\n",
      "\"originallink\": \"http://www.viewsnnews.com/article?q=171903\",\n",
      "\"link\": \"http://www.viewsnnews.com/article?q=171903\",\n",
      "\"description\": \"&quot;이것들은 보수도 우익도 극우도 아닌 매국노들&quot; 더불어민주당은 7일 주옥순 엄마부대 대표이자 자유한국당 디지털정당위원회 부위원장의 '<b>아베</b> 수상님, 사죄드립니다' 망언과 관련, &quot;이것은 보수가 아니다. 우익도, 극우도... \",\n",
      "\"pubDate\": \"Wed, 07 Aug 2019 17:32:00 +0900\"\n",
      "\n",
      "},\n",
      "{\n",
      "\"title\": \"미 싱크탱크 “일본, 경제리더 명성 손상”\",\n",
      "\"originallink\": \"http://www.hankookilbo.com/news/npath/201908071634040266?did=NA\",\n",
      "\"link\": \"https://news.naver.com/main/read.nhn?mode=LSD&mid=sec&sid1=104&oid=469&aid=0000411712\",\n",
      "\"description\": \"특히 보고서는 이번 갈등이 <b>아베</b> 정부의 역내 경제 외교에 부정적 영향을 미칠 수 있다고 강조했다. 일본은 트럼프 정부 초기 이뤄진 미국의 환태평양경제동반자협정(TPP) 탈퇴 결정으로 인한 공백을 메우면서 경제... \",\n",
      "\"pubDate\": \"Wed, 07 Aug 2019 17:29:00 +0900\"\n",
      "\n",
      "},\n",
      "{\n",
      "\"title\": \"더불어민주당, &quot;WTO 협정 위반 스스로 인정한 <b>아베</b> 총리...해결되지 않은 한일...\",\n",
      "\"originallink\": \"http://www.fntoday.co.kr/news/articleView.html?idxno=197871\",\n",
      "\"link\": \"http://www.fntoday.co.kr/news/articleView.html?idxno=197871\",\n",
      "\"description\": \"더불어민주당 정춘숙 원내대변인은 7일 &quot;<b>아베</b> 총리는 6일 화이트리스트 배제조치 4일 만에 '과거사에 기인한 경제보복'임을 스스로 인정했다.&quot;며 &quot;WTO 협정 위반 스스로 인정한 <b>아베</b> 총리는 해결되지 않은 한일과거사를... \",\n",
      "\"pubDate\": \"Wed, 07 Aug 2019 17:29:00 +0900\"\n",
      "\n",
      "},\n",
      "{\n",
      "\"title\": \"‘日 차기주자’ 고이즈미 차남, 유명 아나운서와 깜짝 결혼발표\",\n",
      "\"originallink\": \"http://www.hankookilbo.com/news/npath/201908071704364239?did=NA\",\n",
      "\"link\": \"https://news.naver.com/main/read.nhn?mode=LSD&mid=sec&sid1=104&oid=469&aid=0000411711\",\n",
      "\"description\": \"NHK 등 일본 언론에 따르면 고이즈미 의원은 이날 도쿄의 총리 관저에서 <b>아베</b> 신조(安倍晋三)총리와 스가... 자민당 소속인 고이즈미 의원은 각종 차기 총리 적합도 조사에서 <b>아베</b> 총리와 1위를 다툴 정도로 인기가 높아... \",\n",
      "\"pubDate\": \"Wed, 07 Aug 2019 17:28:00 +0900\"\n",
      "\n",
      "},\n",
      "{\n",
      "\"title\": \"日 '백색국가' 배제 공포에 與 &quot;강력 규탄&quot; vs 野 &quot;냉정 대응&quot;(종합)\",\n",
      "\"originallink\": \"http://www.newsis.com/view/?id=NISX20190807_0000734851&cID=10301&pID=10300\",\n",
      "\"link\": \"https://news.naver.com/main/read.nhn?mode=LSD&mid=sec&sid1=100&oid=003&aid=0009389237\",\n",
      "\"description\": \"이어 &quot;<b>아베</b> 총리와 일본 정부는 역사를 부정하고 인권을 무시하며 민주주의 원칙을 훼손하고 세계 자유무역... 있다&quot;며 &quot;<b>아베</b>의 경제 침략은 단기적으로 우리나라에 생채기를 내겠지만, 결국 양국 경제에 깊은 상흔을 남길... \",\n",
      "\"pubDate\": \"Wed, 07 Aug 2019 17:27:00 +0900\"\n",
      "\n",
      "}\n",
      "]\n",
      "}\n",
      "\n"
     ]
    }
   ],
   "source": [
    "# 응답 코드가 정상이면\n",
    "rescode = response.getcode()\n",
    "if(rescode==200):\n",
    "    # 실제 응답 데이터를 획득\n",
    "    response_body = response.read()\n",
    "    print(response_body.decode('utf-8'))\n",
    "else:\n",
    "    print(\"Error Code:\" + rescode)"
   ]
  },
  {
   "cell_type": "code",
   "execution_count": 28,
   "metadata": {},
   "outputs": [
    {
     "data": {
      "text/plain": [
       "'{\\n\"lastBuildDate\": \"Wed, 07 Aug 2019 17:36:41 +0900\",\\n\"total\": 552298,\\n\"start\": 1,\\n\"display\": 10,\\n\"items\": [\\n{\\n\"title\": \"평화·통일 염원하는 시민단체도 日 규탄… &quot;한반도 평화, <b>아베</b>정권 향한 가장...\",\\n\"originallink\": \"http://www.newscj.com/news/articleView.html?idxno=657572\",\\n\"link\": \"http://www.newscj.com/news/articleView.html?idxno=657572\",\\n\"description\": \"&quot;경제도발, 적반하장 이상의 것&quot; &quot;국민 힘 합쳐 강력 대응해야&quot; &quot;한반도 평화과정을 만들어 가는 것은 <b>아베</b>정... 그는 &quot;<b>아베</b>정권의 경제 도발은 적반하장 이상의 것&quot;이라며 &quot;국민이 다 같이 힘을 합쳐 지혜롭고 강력하게... \",\\n\"pubDate\": \"Wed, 07 Aug 2019 17:34:00 +0900\"\\n\\n},\\n{\\n\"title\": \"“일본, 싸울 준비도 안된 채 한국과 무역전쟁 시작했다”\",\\n\"originallink\": \"http://news.kbs.co.kr/news/view.do?ncd=4258052&ref=A\",\\n\"link\": \"https://news.naver.com/main/read.nhn?mode=LSD&mid=sec&sid1=104&oid=056&aid=0010730137\",\\n\"description\": \"일본 정부는 큰 역풍이 일 것에 대비했어야 했다&quot;면서 &quot;<b>아베</b> 총리와 스가 요시히데(菅義偉) 관방장관이 경제에 미칠 부작용의 규모를 예상했는지 명확하지 않다&quot;고 말했습니다.\",\\n\"pubDate\": \"Wed, 07 Aug 2019 17:33:00 +0900\"\\n\\n},\\n{\\n\"title\": \"日 핵 오염수 100만톤 방류, 그린피스 &quot;범죄&quot; 경고\",\\n\"originallink\": \"https://www.nocutnews.co.kr/news/5194869\",\\n\"link\": \"https://news.naver.com/main/read.nhn?mode=LSD&mid=sec&sid1=102&oid=079&aid=0003257298\",\\n\"description\": \"아울러 그는 &quot;후쿠시마 제1원전 오염수에 대해 <b>아베</b> 내각이 침묵하는 것은 용서할 수 없는 처사&quot;라며 &quot;현재 <b>아베</b> 내각은 오염수에 대한 해결책을 갖고 있지 않다. 도쿄전력은 2021년 용융된 핵연료를 제거하기 시작해 2031년... \",\\n\"pubDate\": \"Wed, 07 Aug 2019 17:33:00 +0900\"\\n\\n},\\n{\\n\"title\": \"나경원, &quot;우리 일본&quot; 발언 해명에 진땀\",\\n\"originallink\": \"http://www.dt.co.kr/contents.html?article_no=2019080702109958820002&ref=naver\",\\n\"link\": \"https://news.naver.com/main/read.nhn?mode=LSD&mid=sec&sid1=100&oid=029&aid=0002545049\",\\n\"description\": \"<b>아베</b> 총리가 미소 짓고 일본 극우세력들이 신나게 퍼다나를 만한 이야기&quot;라며 &quot;말 어렵게 할 것 없다. 한국당이 계속 국민 뜻을 거스른다면 국회를 떠나 엄마부대 주옥순 대표와 함께 일본으로 가길 바란다&quot;고 질타했다.\",\\n\"pubDate\": \"Wed, 07 Aug 2019 17:32:00 +0900\"\\n\\n},\\n{\\n\"title\": \"스포자토 &quot;일본, 싸울 준비도 안 된 채 한국과 무역 전쟁 시작했다&quot;\",\\n\"originallink\": \"https://news.sbs.co.kr/news/endPage.do?news_id=N1005386678&plink=ORI&cooper=NAVER\",\\n\"link\": \"https://news.naver.com/main/read.nhn?mode=LSD&mid=sec&sid1=104&oid=055&aid=0000750548\",\\n\"description\": \"세코 히로시게 경제산업상은 이번 조처가 경제보복이 아니라면서 자유무역질서를 훼손했다는 비판을 억누르려 했으나, <b>아베</b> 신조 총리 등은 오히려 논란에 불을 붙이는 발언을 쏟아냈다는 것입니다. 이 과정에서 <b>아베</b>... \",\\n\"pubDate\": \"Wed, 07 Aug 2019 17:32:00 +0900\"\\n\\n},\\n{\\n\"title\": \"민주당 &quot;한국당, 주옥순 징계 안하면 \\'토착왜구\\'&quot;\",\\n\"originallink\": \"http://www.viewsnnews.com/article?q=171903\",\\n\"link\": \"http://www.viewsnnews.com/article?q=171903\",\\n\"description\": \"&quot;이것들은 보수도 우익도 극우도 아닌 매국노들&quot; 더불어민주당은 7일 주옥순 엄마부대 대표이자 자유한국당 디지털정당위원회 부위원장의 \\'<b>아베</b> 수상님, 사죄드립니다\\' 망언과 관련, &quot;이것은 보수가 아니다. 우익도, 극우도... \",\\n\"pubDate\": \"Wed, 07 Aug 2019 17:32:00 +0900\"\\n\\n},\\n{\\n\"title\": \"미 싱크탱크 “일본, 경제리더 명성 손상”\",\\n\"originallink\": \"http://www.hankookilbo.com/news/npath/201908071634040266?did=NA\",\\n\"link\": \"https://news.naver.com/main/read.nhn?mode=LSD&mid=sec&sid1=104&oid=469&aid=0000411712\",\\n\"description\": \"특히 보고서는 이번 갈등이 <b>아베</b> 정부의 역내 경제 외교에 부정적 영향을 미칠 수 있다고 강조했다. 일본은 트럼프 정부 초기 이뤄진 미국의 환태평양경제동반자협정(TPP) 탈퇴 결정으로 인한 공백을 메우면서 경제... \",\\n\"pubDate\": \"Wed, 07 Aug 2019 17:29:00 +0900\"\\n\\n},\\n{\\n\"title\": \"더불어민주당, &quot;WTO 협정 위반 스스로 인정한 <b>아베</b> 총리...해결되지 않은 한일...\",\\n\"originallink\": \"http://www.fntoday.co.kr/news/articleView.html?idxno=197871\",\\n\"link\": \"http://www.fntoday.co.kr/news/articleView.html?idxno=197871\",\\n\"description\": \"더불어민주당 정춘숙 원내대변인은 7일 &quot;<b>아베</b> 총리는 6일 화이트리스트 배제조치 4일 만에 \\'과거사에 기인한 경제보복\\'임을 스스로 인정했다.&quot;며 &quot;WTO 협정 위반 스스로 인정한 <b>아베</b> 총리는 해결되지 않은 한일과거사를... \",\\n\"pubDate\": \"Wed, 07 Aug 2019 17:29:00 +0900\"\\n\\n},\\n{\\n\"title\": \"‘日 차기주자’ 고이즈미 차남, 유명 아나운서와 깜짝 결혼발표\",\\n\"originallink\": \"http://www.hankookilbo.com/news/npath/201908071704364239?did=NA\",\\n\"link\": \"https://news.naver.com/main/read.nhn?mode=LSD&mid=sec&sid1=104&oid=469&aid=0000411711\",\\n\"description\": \"NHK 등 일본 언론에 따르면 고이즈미 의원은 이날 도쿄의 총리 관저에서 <b>아베</b> 신조(安倍晋三)총리와 스가... 자민당 소속인 고이즈미 의원은 각종 차기 총리 적합도 조사에서 <b>아베</b> 총리와 1위를 다툴 정도로 인기가 높아... \",\\n\"pubDate\": \"Wed, 07 Aug 2019 17:28:00 +0900\"\\n\\n},\\n{\\n\"title\": \"日 \\'백색국가\\' 배제 공포에 與 &quot;강력 규탄&quot; vs 野 &quot;냉정 대응&quot;(종합)\",\\n\"originallink\": \"http://www.newsis.com/view/?id=NISX20190807_0000734851&cID=10301&pID=10300\",\\n\"link\": \"https://news.naver.com/main/read.nhn?mode=LSD&mid=sec&sid1=100&oid=003&aid=0009389237\",\\n\"description\": \"이어 &quot;<b>아베</b> 총리와 일본 정부는 역사를 부정하고 인권을 무시하며 민주주의 원칙을 훼손하고 세계 자유무역... 있다&quot;며 &quot;<b>아베</b>의 경제 침략은 단기적으로 우리나라에 생채기를 내겠지만, 결국 양국 경제에 깊은 상흔을 남길... \",\\n\"pubDate\": \"Wed, 07 Aug 2019 17:27:00 +0900\"\\n\\n}\\n]\\n}\\n'"
      ]
     },
     "execution_count": 28,
     "metadata": {},
     "output_type": "execute_result"
    }
   ],
   "source": [
    "tmp = response_body.decode('utf-8')\n",
    "tmp"
   ]
  },
  {
   "cell_type": "code",
   "execution_count": 29,
   "metadata": {},
   "outputs": [
    {
     "data": {
      "text/plain": [
       "str"
      ]
     },
     "execution_count": 29,
     "metadata": {},
     "output_type": "execute_result"
    }
   ],
   "source": [
    "type(tmp)"
   ]
  },
  {
   "cell_type": "code",
   "execution_count": null,
   "metadata": {},
   "outputs": [],
   "source": [
    "# 원하는 데이터를 추출하려면 -> 파싱 -> xml, json 같은 형식을 취해야 한다"
   ]
  },
  {
   "cell_type": "code",
   "execution_count": 30,
   "metadata": {},
   "outputs": [],
   "source": [
    "# (다시 통신)\n",
    "response = urllib.request.urlopen(request)"
   ]
  },
  {
   "cell_type": "code",
   "execution_count": 31,
   "metadata": {},
   "outputs": [],
   "source": [
    "import json"
   ]
  },
  {
   "cell_type": "code",
   "execution_count": 32,
   "metadata": {},
   "outputs": [],
   "source": [
    "# json에 로드\n",
    "tmp = json.load(response)"
   ]
  },
  {
   "cell_type": "code",
   "execution_count": 33,
   "metadata": {},
   "outputs": [
    {
     "data": {
      "text/plain": [
       "{'lastBuildDate': 'Wed, 07 Aug 2019 17:39:42 +0900',\n",
       " 'total': 549863,\n",
       " 'start': 1,\n",
       " 'display': 10,\n",
       " 'items': [{'title': '진주 시민사회단체 “NO 경제보복, <b>아베</b>정권 규탄”',\n",
       "   'originallink': 'http://news.kbs.co.kr/news/view.do?ncd=4258046&ref=A',\n",
       "   'link': 'https://news.naver.com/main/read.nhn?mode=LSD&mid=sec&sid1=102&oid=056&aid=0010730140',\n",
       "   'description': '진주 시민사회단체 “NO 경제보복, <b>아베</b>정권 규탄” KBS',\n",
       "   'pubDate': 'Wed, 07 Aug 2019 17:34:00 +0900'},\n",
       "  {'title': '평화·통일 염원하는 시민단체도 日 규탄… &quot;한반도 평화, <b>아베</b>정권 향한 가장...',\n",
       "   'originallink': 'http://www.newscj.com/news/articleView.html?idxno=657572',\n",
       "   'link': 'http://www.newscj.com/news/articleView.html?idxno=657572',\n",
       "   'description': '&quot;경제도발, 적반하장 이상의 것&quot; &quot;국민 힘 합쳐 강력 대응해야&quot; &quot;한반도 평화과정을 만들어 가는 것은 <b>아베</b>정... 그는 &quot;<b>아베</b>정권의 경제 도발은 적반하장 이상의 것&quot;이라며 &quot;국민이 다 같이 힘을 합쳐 지혜롭고 강력하게... ',\n",
       "   'pubDate': 'Wed, 07 Aug 2019 17:34:00 +0900'},\n",
       "  {'title': \"민주당 서재헌 부대변인, &quot;<b>아베</b>스러운 '<b>아베</b> 보좌관' 막말&quot; 비판\",\n",
       "   'originallink': 'http://www.idaegu.co.kr/news/articleView.html?idxno=284908',\n",
       "   'link': 'http://www.idaegu.co.kr/news/articleView.html?idxno=284908',\n",
       "   'description': '더불어민주당 서재헌 상근부대변인은 7일 <b>아베</b> 총리 보좌관의 막말에 대해 &quot;<b>아베</b>신조 총리만 보좌하는 <b>아베</b> 보좌관의 막말, 역시 <b>아베</b>스럽다&quot;고 비판했다. 서 부대변인은 이날 논평을 통해 &quot;<b>아베</b> 신조 일본 총리 보좌관인... ',\n",
       "   'pubDate': 'Wed, 07 Aug 2019 17:34:00 +0900'},\n",
       "  {'title': '환율전쟁에 휘말린 한국과 일본, 이주열이 구로다보다 부담 적은 까닭',\n",
       "   'originallink': 'http://www.businesspost.co.kr/BP?command=article_view&num=138589',\n",
       "   'link': 'http://www.businesspost.co.kr/BP?command=article_view&num=138589',\n",
       "   'description': \"하지만 일본에서 엔화의 가치를 낮게 유지하는 엔저정책은 <b>아베</b> 신조 일본 총리의 경제정책인 '<b>아베</b>노믹스'의 근간이다. <b>아베</b>노믹스는 저성장, 저물가 상태에 빠진 일본경제에 대응하기 위해 '무제한 양적완화'와 '공격적... \",\n",
       "   'pubDate': 'Wed, 07 Aug 2019 17:34:00 +0900'},\n",
       "  {'title': '정의연 등, 일본 정부의 조선유치원 무상화 제외에 &quot;폭력교육 반대&quot;',\n",
       "   'originallink': 'http://www.tongilnews.com/news/articleView.html?idxno=129526',\n",
       "   'link': 'http://www.tongilnews.com/news/articleView.html?idxno=129526',\n",
       "   'description': '정의연 등은 6일 성명서를 발표, &quot;일본 정부의 이번 유아 교육.보육시설 무상화 정책은 허튼수작&quot;이며, &quot;&quot;모든 아이들이 건강하게 성장할 수 있도록 지원하겠다&quot;는 <b>아베</b> 정부의 홍보는 거짓&quot;이라고 꼬집었다. <b>아베</b> 정부가... ',\n",
       "   'pubDate': 'Wed, 07 Aug 2019 17:34:00 +0900'},\n",
       "  {'title': \"후쿠시마 주택가 곳곳 '방사능 오염토' 방치…&quot;정부 '검사 중지' 요구&quot;\",\n",
       "   'originallink': 'http://www.gobalnews.com/news/articleView.html?idxno=28245',\n",
       "   'link': 'http://www.gobalnews.com/news/articleView.html?idxno=28245',\n",
       "   'description': '<b>아베</b>\\xa0신조\\xa0총리는\\xa0방사능을\\xa0완벽하게\\xa0통제하고\\xa0있다고\\xa0하지만\\xa0실상은\\xa0달랐다. 주택가\\xa0곳곳에\\xa0방사능\\xa0오염토가\\xa0방치돼\\xa0있었고\\xa0후쿠시마\\xa0산림에서\\xa0난\\xa0먹거리를\\xa0섭취한\\xa0주민들은\\xa0대부분\\xa0내부\\xa0피폭\\xa0판정을... ',\n",
       "   'pubDate': 'Wed, 07 Aug 2019 17:34:00 +0900'},\n",
       "  {'title': \"나경원 '우리 일본' 발언이 실수다?…노웅래, '무의식의 표현'\",\n",
       "   'originallink': 'http://www.gobalnews.com/news/articleView.html?idxno=28246',\n",
       "   'link': 'http://www.gobalnews.com/news/articleView.html?idxno=28246',\n",
       "   'description': \"요즘\\xa0<b>아베</b>\\xa0정권은\\xa0자유한국당을\\xa0보며\\xa0승리감을\\xa0만끽할\\xa0듯하다&quot;고\\xa0비꼬았다. 그러면서\\xa0&quot;나\\xa0원내대표의\\xa0발언을\\xa0통해,\\xa0자유한국당의\\xa0동맹은\\xa0'우리\\xa0일본'이라는\\xa0점이\\xa0명확해졌다&quot;며\\xa0&quot;<b>아베</b>\\xa0총리가\\xa0미소\\xa0짓고... \",\n",
       "   'pubDate': 'Wed, 07 Aug 2019 17:34:00 +0900'},\n",
       "  {'title': '“일본, 싸울 준비도 안된 채 한국과 무역전쟁 시작했다”',\n",
       "   'originallink': 'http://news.kbs.co.kr/news/view.do?ncd=4258052&ref=A',\n",
       "   'link': 'https://news.naver.com/main/read.nhn?mode=LSD&mid=sec&sid1=104&oid=056&aid=0010730137',\n",
       "   'description': '일본 정부는 큰 역풍이 일 것에 대비했어야 했다&quot;면서 &quot;<b>아베</b> 총리와 스가 요시히데(菅義偉) 관방장관이 경제에 미칠 부작용의 규모를 예상했는지 명확하지 않다&quot;고 말했습니다.',\n",
       "   'pubDate': 'Wed, 07 Aug 2019 17:33:00 +0900'},\n",
       "  {'title': '日 핵 오염수 100만톤 방류, 그린피스 &quot;범죄&quot; 경고',\n",
       "   'originallink': 'https://www.nocutnews.co.kr/news/5194869',\n",
       "   'link': 'https://news.naver.com/main/read.nhn?mode=LSD&mid=sec&sid1=102&oid=079&aid=0003257298',\n",
       "   'description': '아울러 그는 &quot;후쿠시마 제1원전 오염수에 대해 <b>아베</b> 내각이 침묵하는 것은 용서할 수 없는 처사&quot;라며 &quot;현재 <b>아베</b> 내각은 오염수에 대한 해결책을 갖고 있지 않다. 도쿄전력은 2021년 용융된 핵연료를 제거하기 시작해 2031년... ',\n",
       "   'pubDate': 'Wed, 07 Aug 2019 17:33:00 +0900'},\n",
       "  {'title': '나경원, &quot;우리 일본&quot; 발언 해명에 진땀',\n",
       "   'originallink': 'http://www.dt.co.kr/contents.html?article_no=2019080702109958820002&ref=naver',\n",
       "   'link': 'https://news.naver.com/main/read.nhn?mode=LSD&mid=sec&sid1=100&oid=029&aid=0002545049',\n",
       "   'description': '<b>아베</b> 총리가 미소 짓고 일본 극우세력들이 신나게 퍼다나를 만한 이야기&quot;라며 &quot;말 어렵게 할 것 없다. 한국당이 계속 국민 뜻을 거스른다면 국회를 떠나 엄마부대 주옥순 대표와 함께 일본으로 가길 바란다&quot;고 질타했다.',\n",
       "   'pubDate': 'Wed, 07 Aug 2019 17:32:00 +0900'}]}"
      ]
     },
     "execution_count": 33,
     "metadata": {},
     "output_type": "execute_result"
    }
   ],
   "source": [
    "tmp"
   ]
  },
  {
   "cell_type": "code",
   "execution_count": 34,
   "metadata": {},
   "outputs": [
    {
     "data": {
      "text/plain": [
       "dict"
      ]
     },
     "execution_count": 34,
     "metadata": {},
     "output_type": "execute_result"
    }
   ],
   "source": [
    "type(tmp) # str -> dict"
   ]
  },
  {
   "cell_type": "code",
   "execution_count": null,
   "metadata": {},
   "outputs": [],
   "source": [
    "# json.parser.online.fr"
   ]
  },
  {
   "cell_type": "code",
   "execution_count": 35,
   "metadata": {},
   "outputs": [
    {
     "name": "stdout",
     "output_type": "stream",
     "text": [
      "- 진주 시민사회단체 “NO 경제보복, <b>아베</b>정권 규탄”\n",
      "- 평화·통일 염원하는 시민단체도 日 규탄… &quot;한반도 평화, <b>아베</b>정권 향한 가장...\n",
      "- 민주당 서재헌 부대변인, &quot;<b>아베</b>스러운 '<b>아베</b> 보좌관' 막말&quot; 비판\n",
      "- 환율전쟁에 휘말린 한국과 일본, 이주열이 구로다보다 부담 적은 까닭\n",
      "- 정의연 등, 일본 정부의 조선유치원 무상화 제외에 &quot;폭력교육 반대&quot;\n",
      "- 후쿠시마 주택가 곳곳 '방사능 오염토' 방치…&quot;정부 '검사 중지' 요구&quot;\n",
      "- 나경원 '우리 일본' 발언이 실수다?…노웅래, '무의식의 표현'\n",
      "- “일본, 싸울 준비도 안된 채 한국과 무역전쟁 시작했다”\n",
      "- 日 핵 오염수 100만톤 방류, 그린피스 &quot;범죄&quot; 경고\n",
      "- 나경원, &quot;우리 일본&quot; 발언 해명에 진땀\n"
     ]
    }
   ],
   "source": [
    "# 리스트는 for문으로 돌려서 데이터 획득\n",
    "for item in tmp['items'] :\n",
    "    print('-', item['title'])"
   ]
  },
  {
   "cell_type": "code",
   "execution_count": 36,
   "metadata": {},
   "outputs": [
    {
     "data": {
      "text/plain": [
       "['진주 시민사회단체 “NO 경제보복, <b>아베</b>정권 규탄”',\n",
       " '평화·통일 염원하는 시민단체도 日 규탄… &quot;한반도 평화, <b>아베</b>정권 향한 가장...',\n",
       " \"민주당 서재헌 부대변인, &quot;<b>아베</b>스러운 '<b>아베</b> 보좌관' 막말&quot; 비판\",\n",
       " '환율전쟁에 휘말린 한국과 일본, 이주열이 구로다보다 부담 적은 까닭',\n",
       " '정의연 등, 일본 정부의 조선유치원 무상화 제외에 &quot;폭력교육 반대&quot;',\n",
       " \"후쿠시마 주택가 곳곳 '방사능 오염토' 방치…&quot;정부 '검사 중지' 요구&quot;\",\n",
       " \"나경원 '우리 일본' 발언이 실수다?…노웅래, '무의식의 표현'\",\n",
       " '“일본, 싸울 준비도 안된 채 한국과 무역전쟁 시작했다”',\n",
       " '日 핵 오염수 100만톤 방류, 그린피스 &quot;범죄&quot; 경고',\n",
       " '나경원, &quot;우리 일본&quot; 발언 해명에 진땀']"
      ]
     },
     "execution_count": 36,
     "metadata": {},
     "output_type": "execute_result"
    }
   ],
   "source": [
    "# 리스트 내포로 리스트화\n",
    "[ item['title'] for item in tmp['items'] ]"
   ]
  },
  {
   "cell_type": "code",
   "execution_count": null,
   "metadata": {},
   "outputs": [],
   "source": []
  },
  {
   "cell_type": "code",
   "execution_count": null,
   "metadata": {},
   "outputs": [],
   "source": []
  }
 ],
 "metadata": {
  "kernelspec": {
   "display_name": "Python 3",
   "language": "python",
   "name": "python3"
  },
  "language_info": {
   "codemirror_mode": {
    "name": "ipython",
    "version": 3
   },
   "file_extension": ".py",
   "mimetype": "text/x-python",
   "name": "python",
   "nbconvert_exporter": "python",
   "pygments_lexer": "ipython3",
   "version": "3.6.5"
  }
 },
 "nbformat": 4,
 "nbformat_minor": 2
}
