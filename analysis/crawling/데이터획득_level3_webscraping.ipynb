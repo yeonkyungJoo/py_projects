{
 "cells": [
  {
   "cell_type": "markdown",
   "metadata": {},
   "source": [
    "## 웹 스크래핑을 이용한 데이터 수집\n",
    "\n",
    "* open API를 이용한 데이터 수집이 불가한 경우 해당\n",
    "* 웹을 요청하여 html을 모두 받아서 DOM으로 올려서 데이터를 추출하는 방식\n",
    "* DOM을 띄워서 데이터를 추출할 때 사용하는 라이브러리\n",
    "> beautifulsoup(bs4)를 활용  \n",
    "> conda install beautifulsoup4"
   ]
  },
  {
   "cell_type": "code",
   "execution_count": 1,
   "metadata": {},
   "outputs": [],
   "source": [
    "from bs4 import BeautifulSoup"
   ]
  },
  {
   "cell_type": "code",
   "execution_count": 2,
   "metadata": {},
   "outputs": [],
   "source": [
    "from urllib.request import urlopen"
   ]
  },
  {
   "cell_type": "markdown",
   "metadata": {},
   "source": [
    "- 콘텐츠가 존재하는 해당 페이지까지 진입\n",
    "- 진입 중에 로그인, ajax 등 사람의 손을 타지 않는지 체크\n",
    "- 그냥 url만 넣으면 화면이 구성된다 -> OK\n",
    "- html 자체에 프레임이 적용된 경우, 실제 주소까지 찾아서 이동\n",
    "- 통신 시 get, post 등 데이터를 전달해서 획득하는 것도 OK"
   ]
  },
  {
   "cell_type": "markdown",
   "metadata": {},
   "source": [
    "### 네이버 금융 > 고시환율정보 수집\n",
    "\n",
    "- 하루에 환율이 수시로 변경된다\n",
    "- 그 주기를 관찰하여 수집 주기를 결정해야 한다"
   ]
  },
  {
   "cell_type": "code",
   "execution_count": 14,
   "metadata": {},
   "outputs": [
    {
     "data": {
      "text/plain": [
       "'https://finance.naver.com/marketindex/exchangeList.nhn'"
      ]
     },
     "execution_count": 14,
     "metadata": {},
     "output_type": "execute_result"
    }
   ],
   "source": [
    "target_site = 'https://finance.naver.com/marketindex/exchangeList.nhn'\n",
    "target_site"
   ]
  },
  {
   "cell_type": "code",
   "execution_count": 15,
   "metadata": {},
   "outputs": [
    {
     "data": {
      "text/plain": [
       "<http.client.HTTPResponse at 0x1a31d1e2f60>"
      ]
     },
     "execution_count": 15,
     "metadata": {},
     "output_type": "execute_result"
    }
   ],
   "source": [
    "# 사이트로 진입\n",
    "page = urlopen( target_site )\n",
    "page"
   ]
  },
  {
   "cell_type": "code",
   "execution_count": 16,
   "metadata": {},
   "outputs": [],
   "source": [
    "# DOM 구성\n",
    "# 'html5lib' 파서는 html 양이 크거나, 정교한 파싱을 할 때\n",
    "# 즉, 아래 'html.parser' 파서가 정상적으로 결과를 내지 못하면 이 파서로 교체\n",
    "soup = BeautifulSoup( page, 'html.parser' )\n",
    "# soup"
   ]
  },
  {
   "cell_type": "code",
   "execution_count": 18,
   "metadata": {},
   "outputs": [],
   "source": [
    "# soup.find_all('td', 'tit')        # [] : 리스트"
   ]
  },
  {
   "cell_type": "code",
   "execution_count": 21,
   "metadata": {},
   "outputs": [
    {
     "name": "stdout",
     "output_type": "stream",
     "text": [
      "미국 USD\n",
      "유럽연합 EUR\n",
      "일본 JPY (100엔)\n",
      "중국 CNY\n",
      "홍콩 HKD\n",
      "대만 TWD\n",
      "영국 GBP\n",
      "오만 OMR\n",
      "캐나다 CAD\n",
      "스위스 CHF\n",
      "스웨덴 SEK\n",
      "호주 AUD\n",
      "뉴질랜드 NZD\n",
      "체코 CZK\n",
      "칠레 CLP\n",
      "터키 TRY\n",
      "몽골 MNT\n",
      "이스라엘 ILS\n",
      "덴마크 DKK\n",
      "노르웨이 NOK\n",
      "사우디아라비아 SAR\n",
      "쿠웨이트 KWD\n",
      "바레인 BHD\n",
      "아랍에미리트 AED\n",
      "요르단 JOD\n",
      "이집트 EGP\n",
      "태국 THB\n",
      "싱가포르 SGD\n",
      "말레이시아 MYR\n",
      "인도네시아 IDR 100\n",
      "카타르 QAR\n",
      "카자흐스탄 KZT\n",
      "브루나이 BND\n",
      "인도 INR\n",
      "파키스탄 PKR\n",
      "방글라데시 BDT\n",
      "필리핀 PHP\n",
      "멕시코 MXN\n",
      "브라질 BRL\n",
      "베트남 VND 100\n",
      "남아프리카 공화국 ZAR\n",
      "러시아 RUB\n",
      "헝가리 HUF\n",
      "폴란드 PLN\n"
     ]
    }
   ],
   "source": [
    "# 리스트 -> 반복문으로 데이터 추출\n",
    "for td in soup.find_all('td', 'tit') :\n",
    "    print(td.a.string.strip())"
   ]
  },
  {
   "cell_type": "code",
   "execution_count": 22,
   "metadata": {},
   "outputs": [],
   "source": [
    "# 리스트 내포로 간단하게 가공\n",
    "tmp = [td.a.string.strip() for td in soup.find_all('td', 'tit')]"
   ]
  },
  {
   "cell_type": "code",
   "execution_count": 23,
   "metadata": {},
   "outputs": [
    {
     "data": {
      "text/plain": [
       "['미국 USD', '유럽연합 EUR', '일본 JPY (100엔)']"
      ]
     },
     "execution_count": 23,
     "metadata": {},
     "output_type": "execute_result"
    }
   ],
   "source": [
    "# 슬라이싱\n",
    "tmp[:3]"
   ]
  },
  {
   "cell_type": "code",
   "execution_count": null,
   "metadata": {},
   "outputs": [],
   "source": []
  },
  {
   "cell_type": "markdown",
   "metadata": {},
   "source": [
    "- 데이터를 추출하여 DB에 적재하기 위해 최종 형태는 다음과 같다  \n",
    "[\n",
    "    {\n",
    "        'name' : '미국 USD',\n",
    "        'code' : 'USD',\n",
    "        'buy_std_rate' : 1209.90\n",
    "        'cash_sell' : 1188.73\n",
    "    }\n",
    "]"
   ]
  },
  {
   "cell_type": "code",
   "execution_count": null,
   "metadata": {},
   "outputs": [],
   "source": []
  }
 ],
 "metadata": {
  "kernelspec": {
   "display_name": "Python 3",
   "language": "python",
   "name": "python3"
  },
  "language_info": {
   "codemirror_mode": {
    "name": "ipython",
    "version": 3
   },
   "file_extension": ".py",
   "mimetype": "text/x-python",
   "name": "python",
   "nbconvert_exporter": "python",
   "pygments_lexer": "ipython3",
   "version": "3.6.5"
  }
 },
 "nbformat": 4,
 "nbformat_minor": 2
}
