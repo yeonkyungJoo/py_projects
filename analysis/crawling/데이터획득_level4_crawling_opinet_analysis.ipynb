{
 "cells": [
  {
   "cell_type": "code",
   "execution_count": 2,
   "metadata": {},
   "outputs": [],
   "source": [
    "from selenium import webdriver as wd\n",
    "import urllib"
   ]
  },
  {
   "cell_type": "code",
   "execution_count": 3,
   "metadata": {},
   "outputs": [],
   "source": [
    "target_url = 'http://www.opinet.co.kr/searRgSelect.do'"
   ]
  },
  {
   "cell_type": "code",
   "execution_count": 4,
   "metadata": {},
   "outputs": [],
   "source": [
    "driver = wd.Chrome('../tool/chromedriver.exe')"
   ]
  },
  {
   "cell_type": "code",
   "execution_count": 5,
   "metadata": {},
   "outputs": [],
   "source": [
    "# 해당 사이트가 중간 페이지를 직접 접속하는 것을 거부하기 때문에\n",
    "import time\n",
    "for n in range(2) :\n",
    "    driver.get(target_url)\n",
    "    time.sleep(5)"
   ]
  },
  {
   "cell_type": "code",
   "execution_count": 7,
   "metadata": {},
   "outputs": [
    {
     "data": {
      "text/plain": [
       "(['서울특별시', '부산광역시'], ['경상남도', '제주특별자치도'])"
      ]
     },
     "execution_count": 7,
     "metadata": {},
     "output_type": "execute_result"
    }
   ],
   "source": [
    "# 시도 리스트 획득\n",
    "sido = driver.find_element_by_id('SIDO_NM0')\n",
    "sidos = [ option.get_attribute('value')\n",
    "         for option in driver.find_elements_by_css_selector('#SIDO_NM0 > option')\n",
    "         if option.get_attribute('value')]\n",
    "# 데이터의 상위값, 하위값 조사를 통해 샘플링으로 확인\n",
    "sidos[:2], sidos[-2:]"
   ]
  },
  {
   "cell_type": "code",
   "execution_count": null,
   "metadata": {},
   "outputs": [],
   "source": [
    "# 2. 시도 리스트를 반복하면서 해당 시도 밑에 시군구 리스트화\n",
    "# sidos 중에 '부산광역시' 대상으로 수집\n",
    "for sido_name in sidos[1:2] :\n",
    "    # 2-1. sido 대상 찾아서\n",
    "    sido = driver.find_element_by_id('SIDO_NM0')\n",
    "    # 2-2. sido 값을 설정\n",
    "    sido.send_keys(sido_name)\n",
    "    # 2-2-2. 잠시대기(ajax 통신 후 화면이 재구성될 때까지)\n",
    "    time.sleep(5)\n",
    "    # 2-3. 시군구 리스트 획득\n",
    "    sigungus = [option.get_attribute('value')\n",
    "               for option in driver.find_elements_by_css_selector('#SIGUNGU_NM0 > option')\n",
    "               if option.get_attribute('value')]\n",
    "   \n",
    "    # 3. 시군구 리스트를 반복하면서 -> 잠시대기(5초 대기) -> 엑셀 저장\n",
    "    for sigungu_name in sigungus :\n",
    "        # 3-1. 시군구 태그를 찾아서\n",
    "        sigungu = driver.find_element_by_id('SIGUNGU_NM0')\n",
    "        # 3-2. 시군구값 설정\n",
    "        sigungu.send_keys(sigungu_name)\n",
    "        # 3-3. 잠시 대기\n",
    "        time.sleep(5)\n",
    "        # 3-4. 조회\n",
    "        driver.find_element_by_id('searRgSelect').click()\n",
    "        # 3-5. 엑셀 저장\n",
    "        driver.find_element_by_id('glopopd_excel').click()"
   ]
  },
  {
   "cell_type": "markdown",
   "metadata": {},
   "source": [
    "### 데이터 수집 완료\n",
    "- 수십 개의 엑셀 파일을 반복적으로 읽어서 DataFrame으로 구성하기"
   ]
  },
  {
   "cell_type": "code",
   "execution_count": 4,
   "metadata": {},
   "outputs": [],
   "source": [
    "# glob : 특정 위치상에 존재하는 파일들을 패턴을 지정하여 목록을 구할 수 있다\n",
    "from glob import glob\n",
    "import pandas as pd"
   ]
  },
  {
   "cell_type": "code",
   "execution_count": 5,
   "metadata": {},
   "outputs": [
    {
     "data": {
      "text/plain": [
       "['C:/study/git/py_projects/analysis/crawling/data\\\\지역_위치별(주유소) (1).xls',\n",
       " 'C:/study/git/py_projects/analysis/crawling/data\\\\지역_위치별(주유소) (10).xls',\n",
       " 'C:/study/git/py_projects/analysis/crawling/data\\\\지역_위치별(주유소) (11).xls',\n",
       " 'C:/study/git/py_projects/analysis/crawling/data\\\\지역_위치별(주유소) (12).xls',\n",
       " 'C:/study/git/py_projects/analysis/crawling/data\\\\지역_위치별(주유소) (13).xls',\n",
       " 'C:/study/git/py_projects/analysis/crawling/data\\\\지역_위치별(주유소) (14).xls',\n",
       " 'C:/study/git/py_projects/analysis/crawling/data\\\\지역_위치별(주유소) (15).xls',\n",
       " 'C:/study/git/py_projects/analysis/crawling/data\\\\지역_위치별(주유소) (2).xls',\n",
       " 'C:/study/git/py_projects/analysis/crawling/data\\\\지역_위치별(주유소) (3).xls',\n",
       " 'C:/study/git/py_projects/analysis/crawling/data\\\\지역_위치별(주유소) (4).xls',\n",
       " 'C:/study/git/py_projects/analysis/crawling/data\\\\지역_위치별(주유소) (5).xls',\n",
       " 'C:/study/git/py_projects/analysis/crawling/data\\\\지역_위치별(주유소) (6).xls',\n",
       " 'C:/study/git/py_projects/analysis/crawling/data\\\\지역_위치별(주유소) (7).xls',\n",
       " 'C:/study/git/py_projects/analysis/crawling/data\\\\지역_위치별(주유소) (8).xls',\n",
       " 'C:/study/git/py_projects/analysis/crawling/data\\\\지역_위치별(주유소) (9).xls',\n",
       " 'C:/study/git/py_projects/analysis/crawling/data\\\\지역_위치별(주유소).xls']"
      ]
     },
     "execution_count": 5,
     "metadata": {},
     "output_type": "execute_result"
    }
   ],
   "source": [
    "# 부산 관할 시군구에 조회된 엑셀 자료들을 읽을 수 있게 파일 경로를 리스트화\n",
    "down_files = glob('C:/study/git/py_projects/analysis/crawling/data/지역*.xls')\n",
    "down_files"
   ]
  },
  {
   "cell_type": "code",
   "execution_count": 6,
   "metadata": {},
   "outputs": [],
   "source": [
    "# conda install xlrd"
   ]
  },
  {
   "cell_type": "code",
   "execution_count": 7,
   "metadata": {},
   "outputs": [],
   "source": [
    "tmp_raws = []\n",
    "for file in down_files :\n",
    "    tmp = pd.read_excel(file, header=2)\n",
    "    tmp_raws.append(tmp)"
   ]
  },
  {
   "cell_type": "code",
   "execution_count": 8,
   "metadata": {},
   "outputs": [
    {
     "data": {
      "text/plain": [
       "list"
      ]
     },
     "execution_count": 8,
     "metadata": {},
     "output_type": "execute_result"
    }
   ],
   "source": [
    "type(tmp_raws)"
   ]
  },
  {
   "cell_type": "code",
   "execution_count": 9,
   "metadata": {},
   "outputs": [
    {
     "data": {
      "text/plain": [
       "pandas.core.frame.DataFrame"
      ]
     },
     "execution_count": 9,
     "metadata": {},
     "output_type": "execute_result"
    }
   ],
   "source": [
    "# 데이터 확인\n",
    "st_raw = pd.concat(tmp_raws)\n",
    "type(st_raw)"
   ]
  },
  {
   "cell_type": "code",
   "execution_count": 10,
   "metadata": {},
   "outputs": [
    {
     "data": {
      "text/html": [
       "<div>\n",
       "<style scoped>\n",
       "    .dataframe tbody tr th:only-of-type {\n",
       "        vertical-align: middle;\n",
       "    }\n",
       "\n",
       "    .dataframe tbody tr th {\n",
       "        vertical-align: top;\n",
       "    }\n",
       "\n",
       "    .dataframe thead th {\n",
       "        text-align: right;\n",
       "    }\n",
       "</style>\n",
       "<table border=\"1\" class=\"dataframe\">\n",
       "  <thead>\n",
       "    <tr style=\"text-align: right;\">\n",
       "      <th></th>\n",
       "      <th>지역</th>\n",
       "      <th>상호</th>\n",
       "      <th>주소</th>\n",
       "      <th>상표</th>\n",
       "      <th>전화번호</th>\n",
       "      <th>셀프여부</th>\n",
       "      <th>고급휘발유</th>\n",
       "      <th>휘발유</th>\n",
       "      <th>경유</th>\n",
       "      <th>실내등유</th>\n",
       "    </tr>\n",
       "  </thead>\n",
       "  <tbody>\n",
       "    <tr>\n",
       "      <th>0</th>\n",
       "      <td>부산광역시</td>\n",
       "      <td>청룡명품주유소</td>\n",
       "      <td>부산 금정구  중앙대로2130</td>\n",
       "      <td>현대오일뱅크</td>\n",
       "      <td>051-508-5150</td>\n",
       "      <td>N</td>\n",
       "      <td>-</td>\n",
       "      <td>1442</td>\n",
       "      <td>1292</td>\n",
       "      <td>-</td>\n",
       "    </tr>\n",
       "    <tr>\n",
       "      <th>1</th>\n",
       "      <td>부산광역시</td>\n",
       "      <td>훼미리알뜰주유소</td>\n",
       "      <td>부산 금정구 두실로 2 (남산동)</td>\n",
       "      <td>알뜰주유소</td>\n",
       "      <td>051-582-5882</td>\n",
       "      <td>N</td>\n",
       "      <td>-</td>\n",
       "      <td>1443</td>\n",
       "      <td>1293</td>\n",
       "      <td>-</td>\n",
       "    </tr>\n",
       "    <tr>\n",
       "      <th>2</th>\n",
       "      <td>부산광역시</td>\n",
       "      <td>에스원에너지(주)금강주유소</td>\n",
       "      <td>부산 금정구 중앙대로 1972</td>\n",
       "      <td>SK에너지</td>\n",
       "      <td>051-513-2700</td>\n",
       "      <td>N</td>\n",
       "      <td>-</td>\n",
       "      <td>1443</td>\n",
       "      <td>1293</td>\n",
       "      <td>-</td>\n",
       "    </tr>\n",
       "  </tbody>\n",
       "</table>\n",
       "</div>"
      ],
      "text/plain": [
       "      지역              상호                  주소      상표          전화번호 셀프여부 고급휘발유  \\\n",
       "0  부산광역시         청룡명품주유소    부산 금정구  중앙대로2130  현대오일뱅크  051-508-5150    N     -   \n",
       "1  부산광역시        훼미리알뜰주유소  부산 금정구 두실로 2 (남산동)   알뜰주유소  051-582-5882    N     -   \n",
       "2  부산광역시  에스원에너지(주)금강주유소    부산 금정구 중앙대로 1972   SK에너지  051-513-2700    N     -   \n",
       "\n",
       "    휘발유    경유 실내등유  \n",
       "0  1442  1292    -  \n",
       "1  1443  1293    -  \n",
       "2  1443  1293    -  "
      ]
     },
     "execution_count": 10,
     "metadata": {},
     "output_type": "execute_result"
    }
   ],
   "source": [
    "st_raw.head(3)"
   ]
  },
  {
   "cell_type": "code",
   "execution_count": 11,
   "metadata": {},
   "outputs": [
    {
     "data": {
      "text/plain": [
       "(422, 10)"
      ]
     },
     "execution_count": 11,
     "metadata": {},
     "output_type": "execute_result"
    }
   ],
   "source": [
    "st_raw.shape"
   ]
  },
  {
   "cell_type": "code",
   "execution_count": 12,
   "metadata": {},
   "outputs": [
    {
     "data": {
      "text/plain": [
       "Index(['지역', '상호', '주소', '상표', '전화번호', '셀프여부', '고급휘발유', '휘발유', '경유', '실내등유'], dtype='object')"
      ]
     },
     "execution_count": 12,
     "metadata": {},
     "output_type": "execute_result"
    }
   ],
   "source": [
    "st_raw.columns"
   ]
  },
  {
   "cell_type": "code",
   "execution_count": 13,
   "metadata": {},
   "outputs": [
    {
     "data": {
      "text/plain": [
       "0     금정구\n",
       "1     금정구\n",
       "2     금정구\n",
       "3     금정구\n",
       "4     금정구\n",
       "5     금정구\n",
       "6     금정구\n",
       "7     금정구\n",
       "8     금정구\n",
       "9     금정구\n",
       "10    금정구\n",
       "11    금정구\n",
       "12    금정구\n",
       "13    금정구\n",
       "14    금정구\n",
       "15    금정구\n",
       "16    금정구\n",
       "17    금정구\n",
       "18    금정구\n",
       "19    금정구\n",
       "20    금정구\n",
       "21    금정구\n",
       "22    금정구\n",
       "23    금정구\n",
       "0      서구\n",
       "1      서구\n",
       "2      서구\n",
       "3      서구\n",
       "4      서구\n",
       "5      서구\n",
       "     ... \n",
       "19    강서구\n",
       "20    강서구\n",
       "21    강서구\n",
       "22    강서구\n",
       "23    강서구\n",
       "24    강서구\n",
       "25    강서구\n",
       "26    강서구\n",
       "27    강서구\n",
       "28    강서구\n",
       "29    강서구\n",
       "30    강서구\n",
       "31    강서구\n",
       "32    강서구\n",
       "33    강서구\n",
       "34    강서구\n",
       "35    강서구\n",
       "36    강서구\n",
       "37    강서구\n",
       "38    강서구\n",
       "39    강서구\n",
       "40    강서구\n",
       "41    강서구\n",
       "42    강서구\n",
       "43    강서구\n",
       "44    강서구\n",
       "45    강서구\n",
       "46    강서구\n",
       "47    강서구\n",
       "48    강서구\n",
       "Name: 주소, Length: 422, dtype: object"
      ]
     },
     "execution_count": 13,
     "metadata": {},
     "output_type": "execute_result"
    }
   ],
   "source": [
    "# 주소에서 자치구만 추출해 '자치구' 컬럼 만들기\n",
    "gus = st_raw['주소'].apply(lambda x : x.split()[1])\n",
    "gus"
   ]
  },
  {
   "cell_type": "code",
   "execution_count": 14,
   "metadata": {},
   "outputs": [],
   "source": [
    "data = st_raw\n",
    "data['자치구'] = gus"
   ]
  },
  {
   "cell_type": "code",
   "execution_count": 15,
   "metadata": {},
   "outputs": [
    {
     "data": {
      "text/html": [
       "<div>\n",
       "<style scoped>\n",
       "    .dataframe tbody tr th:only-of-type {\n",
       "        vertical-align: middle;\n",
       "    }\n",
       "\n",
       "    .dataframe tbody tr th {\n",
       "        vertical-align: top;\n",
       "    }\n",
       "\n",
       "    .dataframe thead th {\n",
       "        text-align: right;\n",
       "    }\n",
       "</style>\n",
       "<table border=\"1\" class=\"dataframe\">\n",
       "  <thead>\n",
       "    <tr style=\"text-align: right;\">\n",
       "      <th></th>\n",
       "      <th>지역</th>\n",
       "      <th>상호</th>\n",
       "      <th>주소</th>\n",
       "      <th>상표</th>\n",
       "      <th>전화번호</th>\n",
       "      <th>셀프여부</th>\n",
       "      <th>고급휘발유</th>\n",
       "      <th>휘발유</th>\n",
       "      <th>경유</th>\n",
       "      <th>실내등유</th>\n",
       "      <th>자치구</th>\n",
       "    </tr>\n",
       "  </thead>\n",
       "  <tbody>\n",
       "    <tr>\n",
       "      <th>0</th>\n",
       "      <td>부산광역시</td>\n",
       "      <td>청룡명품주유소</td>\n",
       "      <td>부산 금정구  중앙대로2130</td>\n",
       "      <td>현대오일뱅크</td>\n",
       "      <td>051-508-5150</td>\n",
       "      <td>N</td>\n",
       "      <td>-</td>\n",
       "      <td>1442</td>\n",
       "      <td>1292</td>\n",
       "      <td>-</td>\n",
       "      <td>금정구</td>\n",
       "    </tr>\n",
       "    <tr>\n",
       "      <th>1</th>\n",
       "      <td>부산광역시</td>\n",
       "      <td>훼미리알뜰주유소</td>\n",
       "      <td>부산 금정구 두실로 2 (남산동)</td>\n",
       "      <td>알뜰주유소</td>\n",
       "      <td>051-582-5882</td>\n",
       "      <td>N</td>\n",
       "      <td>-</td>\n",
       "      <td>1443</td>\n",
       "      <td>1293</td>\n",
       "      <td>-</td>\n",
       "      <td>금정구</td>\n",
       "    </tr>\n",
       "    <tr>\n",
       "      <th>2</th>\n",
       "      <td>부산광역시</td>\n",
       "      <td>에스원에너지(주)금강주유소</td>\n",
       "      <td>부산 금정구 중앙대로 1972</td>\n",
       "      <td>SK에너지</td>\n",
       "      <td>051-513-2700</td>\n",
       "      <td>N</td>\n",
       "      <td>-</td>\n",
       "      <td>1443</td>\n",
       "      <td>1293</td>\n",
       "      <td>-</td>\n",
       "      <td>금정구</td>\n",
       "    </tr>\n",
       "    <tr>\n",
       "      <th>3</th>\n",
       "      <td>부산광역시</td>\n",
       "      <td>은마석유 노포주유소</td>\n",
       "      <td>부산 금정구 중앙대로 2191 (노포동)</td>\n",
       "      <td>GS칼텍스</td>\n",
       "      <td>051-508-1645</td>\n",
       "      <td>Y</td>\n",
       "      <td>-</td>\n",
       "      <td>1443</td>\n",
       "      <td>1293</td>\n",
       "      <td>1050</td>\n",
       "      <td>금정구</td>\n",
       "    </tr>\n",
       "    <tr>\n",
       "      <th>4</th>\n",
       "      <td>부산광역시</td>\n",
       "      <td>광신석유(주)직영경부고속주유소</td>\n",
       "      <td>부산 금정구 중앙대로1720번길 7 (부곡동)</td>\n",
       "      <td>SK에너지</td>\n",
       "      <td>051-517-6011</td>\n",
       "      <td>Y</td>\n",
       "      <td>-</td>\n",
       "      <td>1455</td>\n",
       "      <td>1315</td>\n",
       "      <td>1010</td>\n",
       "      <td>금정구</td>\n",
       "    </tr>\n",
       "  </tbody>\n",
       "</table>\n",
       "</div>"
      ],
      "text/plain": [
       "      지역                상호                         주소      상표          전화번호  \\\n",
       "0  부산광역시           청룡명품주유소           부산 금정구  중앙대로2130  현대오일뱅크  051-508-5150   \n",
       "1  부산광역시          훼미리알뜰주유소         부산 금정구 두실로 2 (남산동)   알뜰주유소  051-582-5882   \n",
       "2  부산광역시    에스원에너지(주)금강주유소           부산 금정구 중앙대로 1972   SK에너지  051-513-2700   \n",
       "3  부산광역시        은마석유 노포주유소     부산 금정구 중앙대로 2191 (노포동)   GS칼텍스  051-508-1645   \n",
       "4  부산광역시  광신석유(주)직영경부고속주유소  부산 금정구 중앙대로1720번길 7 (부곡동)   SK에너지  051-517-6011   \n",
       "\n",
       "  셀프여부 고급휘발유   휘발유    경유  실내등유  자치구  \n",
       "0    N     -  1442  1292     -  금정구  \n",
       "1    N     -  1443  1293     -  금정구  \n",
       "2    N     -  1443  1293     -  금정구  \n",
       "3    Y     -  1443  1293  1050  금정구  \n",
       "4    Y     -  1455  1315  1010  금정구  "
      ]
     },
     "execution_count": 15,
     "metadata": {},
     "output_type": "execute_result"
    }
   ],
   "source": [
    "data.head()"
   ]
  },
  {
   "cell_type": "markdown",
   "metadata": {},
   "source": [
    "## 응용\n",
    "- 부산시 행정구역별 주유소 정보 데이터\n",
    "- 자치구별 가장 저렴한 주유소 마킹\n",
    "- 행정구역별 주유가격 평균을 통해서 칼라맵으로 표시 (휘발유 기준, 가격없는 주유소 배제)\n",
    "- 브랜드별(6개) 알뜰주유소 vs 브랜드 대비 진짜 싼 지 체크"
   ]
  },
  {
   "cell_type": "markdown",
   "metadata": {},
   "source": [
    "## 부산시 행정구역별 주유소 정보 데이터"
   ]
  },
  {
   "cell_type": "code",
   "execution_count": 16,
   "metadata": {
    "scrolled": true
   },
   "outputs": [
    {
     "data": {
      "text/plain": [
       "지역       object\n",
       "상호       object\n",
       "주소       object\n",
       "상표       object\n",
       "전화번호     object\n",
       "셀프여부     object\n",
       "고급휘발유    object\n",
       "휘발유      object\n",
       "경유       object\n",
       "실내등유     object\n",
       "자치구      object\n",
       "dtype: object"
      ]
     },
     "execution_count": 16,
     "metadata": {},
     "output_type": "execute_result"
    }
   ],
   "source": [
    "data.dtypes"
   ]
  },
  {
   "cell_type": "code",
   "execution_count": 17,
   "metadata": {},
   "outputs": [
    {
     "data": {
      "text/plain": [
       "array([1442, 1443, 1455, 1458, 1463, 1465, 1468, 1469, 1483, 1488, 1497,\n",
       "       1498, 1519, 1535, 1539, 1577, 1665, 1438, 1440, 1448, 1478, 1548,\n",
       "       1437, 1477, 1485, 1495, 1547, 1620, 1638, 1648, 1453, 1479, 1482,\n",
       "       1518, 1598, 1628, 1644, 1398, 1565, 1427, 1434, 1435, 1445, 1475,\n",
       "       1505, 1523, 1553, 1563, 1613, 1459, 1487, 1490, 1494, 1545, 1649,\n",
       "       1419, 1420, 1424, 1447, 1457, 1467, 1489, 1508, 1538, 1569, 1585,\n",
       "       1446, 1845, 1499, 1699, 1425, 1428, 1429, 1471, 1528, 1575, 1433,\n",
       "       1509, 1544, 1414, 1415, 1418, 1464, 1579, 1597, 1599, 1729, '1430',\n",
       "       '1447', '1448', '1452', '1458', '1468', '1478', '1487', '1488',\n",
       "       '1489', '1495', '1497', '1498', '1508', '1518', '1563', '-', 1529],\n",
       "      dtype=object)"
      ]
     },
     "execution_count": 17,
     "metadata": {},
     "output_type": "execute_result"
    }
   ],
   "source": [
    "# '휘발유' 데이터에 '-'가 존재\n",
    "data['휘발유'].unique()"
   ]
  },
  {
   "cell_type": "code",
   "execution_count": 18,
   "metadata": {},
   "outputs": [],
   "source": [
    "# '-' 제외\n",
    "data = data[data['휘발유']!='-']"
   ]
  },
  {
   "cell_type": "code",
   "execution_count": 19,
   "metadata": {},
   "outputs": [
    {
     "data": {
      "text/plain": [
       "(419, 11)"
      ]
     },
     "execution_count": 19,
     "metadata": {},
     "output_type": "execute_result"
    }
   ],
   "source": [
    "data.shape"
   ]
  },
  {
   "cell_type": "code",
   "execution_count": 20,
   "metadata": {},
   "outputs": [
    {
     "data": {
      "text/plain": [
       "dtype('O')"
      ]
     },
     "execution_count": 20,
     "metadata": {},
     "output_type": "execute_result"
    }
   ],
   "source": [
    "data['휘발유'].dtype"
   ]
  },
  {
   "cell_type": "code",
   "execution_count": 21,
   "metadata": {},
   "outputs": [
    {
     "name": "stderr",
     "output_type": "stream",
     "text": [
      "C:\\Users\\User\\Anaconda3\\lib\\site-packages\\ipykernel_launcher.py:2: SettingWithCopyWarning: \n",
      "A value is trying to be set on a copy of a slice from a DataFrame.\n",
      "Try using .loc[row_indexer,col_indexer] = value instead\n",
      "\n",
      "See the caveats in the documentation: http://pandas.pydata.org/pandas-docs/stable/indexing.html#indexing-view-versus-copy\n",
      "  \n"
     ]
    }
   ],
   "source": [
    "# '휘발유' 데이터 정수형으로 변환\n",
    "data['휘발유'] = data['휘발유'].astype(int)"
   ]
  },
  {
   "cell_type": "code",
   "execution_count": 22,
   "metadata": {},
   "outputs": [
    {
     "data": {
      "text/html": [
       "<div>\n",
       "<style scoped>\n",
       "    .dataframe tbody tr th:only-of-type {\n",
       "        vertical-align: middle;\n",
       "    }\n",
       "\n",
       "    .dataframe tbody tr th {\n",
       "        vertical-align: top;\n",
       "    }\n",
       "\n",
       "    .dataframe thead th {\n",
       "        text-align: right;\n",
       "    }\n",
       "</style>\n",
       "<table border=\"1\" class=\"dataframe\">\n",
       "  <thead>\n",
       "    <tr style=\"text-align: right;\">\n",
       "      <th></th>\n",
       "      <th>지역</th>\n",
       "      <th>상호</th>\n",
       "      <th>주소</th>\n",
       "      <th>상표</th>\n",
       "      <th>전화번호</th>\n",
       "      <th>셀프여부</th>\n",
       "      <th>고급휘발유</th>\n",
       "      <th>휘발유</th>\n",
       "      <th>경유</th>\n",
       "      <th>실내등유</th>\n",
       "      <th>자치구</th>\n",
       "    </tr>\n",
       "  </thead>\n",
       "  <tbody>\n",
       "    <tr>\n",
       "      <th>0</th>\n",
       "      <td>부산광역시</td>\n",
       "      <td>청룡명품주유소</td>\n",
       "      <td>부산 금정구  중앙대로2130</td>\n",
       "      <td>현대오일뱅크</td>\n",
       "      <td>051-508-5150</td>\n",
       "      <td>N</td>\n",
       "      <td>-</td>\n",
       "      <td>1442</td>\n",
       "      <td>1292</td>\n",
       "      <td>-</td>\n",
       "      <td>금정구</td>\n",
       "    </tr>\n",
       "    <tr>\n",
       "      <th>1</th>\n",
       "      <td>부산광역시</td>\n",
       "      <td>훼미리알뜰주유소</td>\n",
       "      <td>부산 금정구 두실로 2 (남산동)</td>\n",
       "      <td>알뜰주유소</td>\n",
       "      <td>051-582-5882</td>\n",
       "      <td>N</td>\n",
       "      <td>-</td>\n",
       "      <td>1443</td>\n",
       "      <td>1293</td>\n",
       "      <td>-</td>\n",
       "      <td>금정구</td>\n",
       "    </tr>\n",
       "  </tbody>\n",
       "</table>\n",
       "</div>"
      ],
      "text/plain": [
       "      지역        상호                  주소      상표          전화번호 셀프여부 고급휘발유   휘발유  \\\n",
       "0  부산광역시   청룡명품주유소    부산 금정구  중앙대로2130  현대오일뱅크  051-508-5150    N     -  1442   \n",
       "1  부산광역시  훼미리알뜰주유소  부산 금정구 두실로 2 (남산동)   알뜰주유소  051-582-5882    N     -  1443   \n",
       "\n",
       "     경유 실내등유  자치구  \n",
       "0  1292    -  금정구  \n",
       "1  1293    -  금정구  "
      ]
     },
     "execution_count": 22,
     "metadata": {},
     "output_type": "execute_result"
    }
   ],
   "source": [
    "data.head(2)"
   ]
  },
  {
   "cell_type": "code",
   "execution_count": 23,
   "metadata": {},
   "outputs": [],
   "source": [
    "data = data.iloc[:, [1, 2, 3, 5, 7, -1]]"
   ]
  },
  {
   "cell_type": "code",
   "execution_count": 24,
   "metadata": {},
   "outputs": [
    {
     "data": {
      "text/html": [
       "<div>\n",
       "<style scoped>\n",
       "    .dataframe tbody tr th:only-of-type {\n",
       "        vertical-align: middle;\n",
       "    }\n",
       "\n",
       "    .dataframe tbody tr th {\n",
       "        vertical-align: top;\n",
       "    }\n",
       "\n",
       "    .dataframe thead th {\n",
       "        text-align: right;\n",
       "    }\n",
       "</style>\n",
       "<table border=\"1\" class=\"dataframe\">\n",
       "  <thead>\n",
       "    <tr style=\"text-align: right;\">\n",
       "      <th></th>\n",
       "      <th>상호</th>\n",
       "      <th>주소</th>\n",
       "      <th>상표</th>\n",
       "      <th>셀프여부</th>\n",
       "      <th>휘발유</th>\n",
       "      <th>자치구</th>\n",
       "    </tr>\n",
       "  </thead>\n",
       "  <tbody>\n",
       "    <tr>\n",
       "      <th>0</th>\n",
       "      <td>청룡명품주유소</td>\n",
       "      <td>부산 금정구  중앙대로2130</td>\n",
       "      <td>현대오일뱅크</td>\n",
       "      <td>N</td>\n",
       "      <td>1442</td>\n",
       "      <td>금정구</td>\n",
       "    </tr>\n",
       "    <tr>\n",
       "      <th>1</th>\n",
       "      <td>훼미리알뜰주유소</td>\n",
       "      <td>부산 금정구 두실로 2 (남산동)</td>\n",
       "      <td>알뜰주유소</td>\n",
       "      <td>N</td>\n",
       "      <td>1443</td>\n",
       "      <td>금정구</td>\n",
       "    </tr>\n",
       "    <tr>\n",
       "      <th>2</th>\n",
       "      <td>에스원에너지(주)금강주유소</td>\n",
       "      <td>부산 금정구 중앙대로 1972</td>\n",
       "      <td>SK에너지</td>\n",
       "      <td>N</td>\n",
       "      <td>1443</td>\n",
       "      <td>금정구</td>\n",
       "    </tr>\n",
       "    <tr>\n",
       "      <th>3</th>\n",
       "      <td>은마석유 노포주유소</td>\n",
       "      <td>부산 금정구 중앙대로 2191 (노포동)</td>\n",
       "      <td>GS칼텍스</td>\n",
       "      <td>Y</td>\n",
       "      <td>1443</td>\n",
       "      <td>금정구</td>\n",
       "    </tr>\n",
       "    <tr>\n",
       "      <th>4</th>\n",
       "      <td>광신석유(주)직영경부고속주유소</td>\n",
       "      <td>부산 금정구 중앙대로1720번길 7 (부곡동)</td>\n",
       "      <td>SK에너지</td>\n",
       "      <td>Y</td>\n",
       "      <td>1455</td>\n",
       "      <td>금정구</td>\n",
       "    </tr>\n",
       "  </tbody>\n",
       "</table>\n",
       "</div>"
      ],
      "text/plain": [
       "                 상호                         주소      상표 셀프여부   휘발유  자치구\n",
       "0           청룡명품주유소           부산 금정구  중앙대로2130  현대오일뱅크    N  1442  금정구\n",
       "1          훼미리알뜰주유소         부산 금정구 두실로 2 (남산동)   알뜰주유소    N  1443  금정구\n",
       "2    에스원에너지(주)금강주유소           부산 금정구 중앙대로 1972   SK에너지    N  1443  금정구\n",
       "3        은마석유 노포주유소     부산 금정구 중앙대로 2191 (노포동)   GS칼텍스    Y  1443  금정구\n",
       "4  광신석유(주)직영경부고속주유소  부산 금정구 중앙대로1720번길 7 (부곡동)   SK에너지    Y  1455  금정구"
      ]
     },
     "execution_count": 24,
     "metadata": {},
     "output_type": "execute_result"
    }
   ],
   "source": [
    "data.head()"
   ]
  },
  {
   "cell_type": "code",
   "execution_count": 25,
   "metadata": {},
   "outputs": [
    {
     "data": {
      "text/plain": [
       "상호      object\n",
       "주소      object\n",
       "상표      object\n",
       "셀프여부    object\n",
       "휘발유      int32\n",
       "자치구     object\n",
       "dtype: object"
      ]
     },
     "execution_count": 25,
     "metadata": {},
     "output_type": "execute_result"
    }
   ],
   "source": [
    "data.dtypes"
   ]
  },
  {
   "cell_type": "code",
   "execution_count": 26,
   "metadata": {},
   "outputs": [
    {
     "data": {
      "text/plain": [
       "array(['금정구', '서구', '수영구', '연제구', '영도구', '중구', '해운대구', '기장군', '남구', '동구',\n",
       "       '동래구', '부산진구', '북구', '사상구', '사하구', '강서구'], dtype=object)"
      ]
     },
     "execution_count": 26,
     "metadata": {},
     "output_type": "execute_result"
    }
   ],
   "source": [
    "data['자치구'].unique()"
   ]
  },
  {
   "cell_type": "code",
   "execution_count": 27,
   "metadata": {},
   "outputs": [
    {
     "data": {
      "text/html": [
       "<div>\n",
       "<style scoped>\n",
       "    .dataframe tbody tr th:only-of-type {\n",
       "        vertical-align: middle;\n",
       "    }\n",
       "\n",
       "    .dataframe tbody tr th {\n",
       "        vertical-align: top;\n",
       "    }\n",
       "\n",
       "    .dataframe thead th {\n",
       "        text-align: right;\n",
       "    }\n",
       "</style>\n",
       "<table border=\"1\" class=\"dataframe\">\n",
       "  <thead>\n",
       "    <tr style=\"text-align: right;\">\n",
       "      <th></th>\n",
       "      <th>휘발유</th>\n",
       "    </tr>\n",
       "    <tr>\n",
       "      <th>자치구</th>\n",
       "      <th></th>\n",
       "    </tr>\n",
       "  </thead>\n",
       "  <tbody>\n",
       "    <tr>\n",
       "      <th>강서구</th>\n",
       "      <td>1476.612245</td>\n",
       "    </tr>\n",
       "    <tr>\n",
       "      <th>금정구</th>\n",
       "      <td>1485.708333</td>\n",
       "    </tr>\n",
       "    <tr>\n",
       "      <th>기장군</th>\n",
       "      <td>1461.217391</td>\n",
       "    </tr>\n",
       "    <tr>\n",
       "      <th>남구</th>\n",
       "      <td>1483.800000</td>\n",
       "    </tr>\n",
       "    <tr>\n",
       "      <th>동구</th>\n",
       "      <td>1497.100000</td>\n",
       "    </tr>\n",
       "    <tr>\n",
       "      <th>동래구</th>\n",
       "      <td>1472.250000</td>\n",
       "    </tr>\n",
       "    <tr>\n",
       "      <th>부산진구</th>\n",
       "      <td>1476.166667</td>\n",
       "    </tr>\n",
       "    <tr>\n",
       "      <th>북구</th>\n",
       "      <td>1464.842105</td>\n",
       "    </tr>\n",
       "    <tr>\n",
       "      <th>사상구</th>\n",
       "      <td>1470.696429</td>\n",
       "    </tr>\n",
       "    <tr>\n",
       "      <th>사하구</th>\n",
       "      <td>1473.000000</td>\n",
       "    </tr>\n",
       "    <tr>\n",
       "      <th>서구</th>\n",
       "      <td>1468.166667</td>\n",
       "    </tr>\n",
       "    <tr>\n",
       "      <th>수영구</th>\n",
       "      <td>1498.411765</td>\n",
       "    </tr>\n",
       "    <tr>\n",
       "      <th>연제구</th>\n",
       "      <td>1464.882353</td>\n",
       "    </tr>\n",
       "    <tr>\n",
       "      <th>영도구</th>\n",
       "      <td>1532.583333</td>\n",
       "    </tr>\n",
       "    <tr>\n",
       "      <th>중구</th>\n",
       "      <td>1481.500000</td>\n",
       "    </tr>\n",
       "    <tr>\n",
       "      <th>해운대구</th>\n",
       "      <td>1479.307692</td>\n",
       "    </tr>\n",
       "  </tbody>\n",
       "</table>\n",
       "</div>"
      ],
      "text/plain": [
       "              휘발유\n",
       "자치구              \n",
       "강서구   1476.612245\n",
       "금정구   1485.708333\n",
       "기장군   1461.217391\n",
       "남구    1483.800000\n",
       "동구    1497.100000\n",
       "동래구   1472.250000\n",
       "부산진구  1476.166667\n",
       "북구    1464.842105\n",
       "사상구   1470.696429\n",
       "사하구   1473.000000\n",
       "서구    1468.166667\n",
       "수영구   1498.411765\n",
       "연제구   1464.882353\n",
       "영도구   1532.583333\n",
       "중구    1481.500000\n",
       "해운대구  1479.307692"
      ]
     },
     "execution_count": 27,
     "metadata": {},
     "output_type": "execute_result"
    }
   ],
   "source": [
    "avg_price = pd.pivot_table(data,\n",
    "              index = ['자치구'])\n",
    "avg_price"
   ]
  },
  {
   "cell_type": "code",
   "execution_count": 28,
   "metadata": {},
   "outputs": [],
   "source": [
    "# min, max scaler를 이용한 정규화를 통해서 가격비율 컬럼을 생성\n",
    "from sklearn import preprocessing\n",
    "min_max_scaler = preprocessing.MinMaxScaler()"
   ]
  },
  {
   "cell_type": "code",
   "execution_count": 29,
   "metadata": {},
   "outputs": [
    {
     "data": {
      "text/plain": [
       "array([[1476.6122449 ],\n",
       "       [1485.70833333],\n",
       "       [1461.2173913 ],\n",
       "       [1483.8       ],\n",
       "       [1497.1       ],\n",
       "       [1472.25      ],\n",
       "       [1476.16666667],\n",
       "       [1464.84210526],\n",
       "       [1470.69642857],\n",
       "       [1473.        ],\n",
       "       [1468.16666667],\n",
       "       [1498.41176471],\n",
       "       [1464.88235294],\n",
       "       [1532.58333333],\n",
       "       [1481.5       ],\n",
       "       [1479.30769231]])"
      ]
     },
     "execution_count": 29,
     "metadata": {},
     "output_type": "execute_result"
    }
   ],
   "source": [
    "avg_price.values"
   ]
  },
  {
   "cell_type": "code",
   "execution_count": 30,
   "metadata": {},
   "outputs": [
    {
     "data": {
      "text/plain": [
       "array([[0.21571709],\n",
       "       [0.34317409],\n",
       "       [0.        ],\n",
       "       [0.31643397],\n",
       "       [0.50279738],\n",
       "       [0.15459207],\n",
       "       [0.20947352],\n",
       "       [0.05079053],\n",
       "       [0.13282298],\n",
       "       [0.16510128],\n",
       "       [0.09737523],\n",
       "       [0.5211782 ],\n",
       "       [0.05135449],\n",
       "       [1.        ],\n",
       "       [0.28420572],\n",
       "       [0.25348647]])"
      ]
     },
     "execution_count": 30,
     "metadata": {},
     "output_type": "execute_result"
    }
   ],
   "source": [
    "x = avg_price.values\n",
    "x_scaled = min_max_scaler.fit_transform(x.astype(float))\n",
    "x_scaled"
   ]
  },
  {
   "cell_type": "code",
   "execution_count": 31,
   "metadata": {},
   "outputs": [],
   "source": [
    "tmp = pd.DataFrame(x_scaled,\n",
    "                  columns = ['휘발유정규화'],\n",
    "                  index = avg_price.index)"
   ]
  },
  {
   "cell_type": "code",
   "execution_count": 33,
   "metadata": {},
   "outputs": [
    {
     "data": {
      "text/html": [
       "<div>\n",
       "<style scoped>\n",
       "    .dataframe tbody tr th:only-of-type {\n",
       "        vertical-align: middle;\n",
       "    }\n",
       "\n",
       "    .dataframe tbody tr th {\n",
       "        vertical-align: top;\n",
       "    }\n",
       "\n",
       "    .dataframe thead th {\n",
       "        text-align: right;\n",
       "    }\n",
       "</style>\n",
       "<table border=\"1\" class=\"dataframe\">\n",
       "  <thead>\n",
       "    <tr style=\"text-align: right;\">\n",
       "      <th></th>\n",
       "      <th>휘발유정규화</th>\n",
       "    </tr>\n",
       "    <tr>\n",
       "      <th>자치구</th>\n",
       "      <th></th>\n",
       "    </tr>\n",
       "  </thead>\n",
       "  <tbody>\n",
       "    <tr>\n",
       "      <th>강서구</th>\n",
       "      <td>0.215717</td>\n",
       "    </tr>\n",
       "    <tr>\n",
       "      <th>금정구</th>\n",
       "      <td>0.343174</td>\n",
       "    </tr>\n",
       "    <tr>\n",
       "      <th>기장군</th>\n",
       "      <td>0.000000</td>\n",
       "    </tr>\n",
       "    <tr>\n",
       "      <th>남구</th>\n",
       "      <td>0.316434</td>\n",
       "    </tr>\n",
       "    <tr>\n",
       "      <th>동구</th>\n",
       "      <td>0.502797</td>\n",
       "    </tr>\n",
       "  </tbody>\n",
       "</table>\n",
       "</div>"
      ],
      "text/plain": [
       "       휘발유정규화\n",
       "자치구          \n",
       "강서구  0.215717\n",
       "금정구  0.343174\n",
       "기장군  0.000000\n",
       "남구   0.316434\n",
       "동구   0.502797"
      ]
     },
     "execution_count": 33,
     "metadata": {},
     "output_type": "execute_result"
    }
   ],
   "source": [
    "tmp.head()"
   ]
  },
  {
   "cell_type": "markdown",
   "metadata": {},
   "source": [
    "## 행정구역별 주유가격 평균을 통해서 칼라맵으로 표시"
   ]
  },
  {
   "cell_type": "code",
   "execution_count": 34,
   "metadata": {},
   "outputs": [],
   "source": [
    "import folium"
   ]
  },
  {
   "cell_type": "code",
   "execution_count": 35,
   "metadata": {},
   "outputs": [],
   "source": [
    "gps = [ 35.1564294,129.0603389 ]"
   ]
  },
  {
   "cell_type": "code",
   "execution_count": 37,
   "metadata": {},
   "outputs": [],
   "source": [
    "import json\n",
    "geo_str = json.load( open('../pandas/data/busan.json', encoding='utf-8') )"
   ]
  },
  {
   "cell_type": "code",
   "execution_count": 76,
   "metadata": {
    "collapsed": true
   },
   "outputs": [
    {
     "data": {
      "text/html": [
       "<div style=\"width:100%;\"><div style=\"position:relative;width:100%;height:0;padding-bottom:60%;\"><iframe src=\"data:text/html;charset=utf-8;base64,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\" style=\"position:absolute;width:100%;height:100%;left:0;top:0;border:none !important;\" allowfullscreen webkitallowfullscreen mozallowfullscreen></iframe></div></div>"
      ],
      "text/plain": [
       "<folium.folium.Map at 0x229afd48cf8>"
      ]
     },
     "execution_count": 76,
     "metadata": {},
     "output_type": "execute_result"
    }
   ],
   "source": [
    "map_busan = folium.Map(location = gps, zoom_start = 10)\n",
    "folium.Choropleth(geo_data = geo_str,\n",
    "                 name = 'busan',\n",
    "                 data = tmp,\n",
    "                 columns = [tmp.index, '휘발유정규화'],\n",
    "                 key_on = 'feature.id',\n",
    "                 fill_color = 'PuRd',\n",
    "                 legend_name = '부산시 자치구별 휘발유가격 비율').add_to(map_busan)\n",
    "map_busan"
   ]
  },
  {
   "cell_type": "markdown",
   "metadata": {},
   "source": [
    "## 알뜰주유소 vs 브랜드 가격 비교"
   ]
  },
  {
   "cell_type": "code",
   "execution_count": 65,
   "metadata": {},
   "outputs": [],
   "source": [
    "import matplotlib.pyplot as plt\n",
    "import seaborn as sns\n",
    "%matplotlib inline"
   ]
  },
  {
   "cell_type": "code",
   "execution_count": 67,
   "metadata": {
    "scrolled": true
   },
   "outputs": [
    {
     "name": "stdout",
     "output_type": "stream",
     "text": [
      "Malgun Gothic\n"
     ]
    }
   ],
   "source": [
    "from korea_font import initKoreaFontLoad\n",
    "initKoreaFontLoad()"
   ]
  },
  {
   "cell_type": "markdown",
   "metadata": {},
   "source": [
    "###### .boxplot()"
   ]
  },
  {
   "cell_type": "code",
   "execution_count": 68,
   "metadata": {},
   "outputs": [
    {
     "data": {
      "text/plain": [
       "<matplotlib.axes._subplots.AxesSubplot at 0x229aec27908>"
      ]
     },
     "execution_count": 68,
     "metadata": {},
     "output_type": "execute_result"
    },
    {
     "data": {
      "image/png": "[encoded data removed]",
      "text/plain": [
       "<Figure size 432x288 with 1 Axes>"
      ]
     },
     "metadata": {},
     "output_type": "display_data"
    }
   ],
   "source": [
    "data.boxplot(column='휘발유')"
   ]
  },
  {
   "cell_type": "code",
   "execution_count": 71,
   "metadata": {},
   "outputs": [
    {
     "data": {
      "text/plain": [
       "<matplotlib.axes._subplots.AxesSubplot at 0x229afb2d8d0>"
      ]
     },
     "execution_count": 71,
     "metadata": {},
     "output_type": "execute_result"
    },
    {
     "data": {
      "image/png": "[encoded data removed]",
      "text/plain": [
       "<Figure size 432x288 with 1 Axes>"
      ]
     },
     "metadata": {},
     "output_type": "display_data"
    }
   ],
   "source": [
    "data.boxplot(column='휘발유', by = '셀프여부')"
   ]
  },
  {
   "cell_type": "code",
   "execution_count": 74,
   "metadata": {
    "scrolled": true
   },
   "outputs": [
    {
     "data": {
      "image/png": "[encoded data removed]",
      "text/plain": [
       "<Figure size 864x576 with 1 Axes>"
      ]
     },
     "metadata": {},
     "output_type": "display_data"
    }
   ],
   "source": [
    "plt.figure(figsize=(12, 8))\n",
    "sns.boxplot(x='상표', y = '휘발유', data=data)\n",
    "plt.show()"
   ]
  },
  {
   "cell_type": "markdown",
   "metadata": {},
   "source": [
    "###### .swarmplot()"
   ]
  },
  {
   "cell_type": "code",
   "execution_count": 75,
   "metadata": {},
   "outputs": [
    {
     "data": {
      "image/png": "[encoded data removed]",
      "text/plain": [
       "<Figure size 864x576 with 1 Axes>"
      ]
     },
     "metadata": {},
     "output_type": "display_data"
    }
   ],
   "source": [
    "plt.figure(figsize=(12, 8))\n",
    "# hue 속성\n",
    "sns.boxplot(x='상표', y = '휘발유', hue='셀프여부', data=data, palette='Set3')\n",
    "sns.swarmplot(x='상표', y = '휘발유', hue='셀프여부', data=data, color = '.5')\n",
    "plt.show()"
   ]
  },
  {
   "cell_type": "code",
   "execution_count": 77,
   "metadata": {},
   "outputs": [
    {
     "data": {
      "text/plain": [
       "4.295942720763723"
      ]
     },
     "execution_count": 77,
     "metadata": {},
     "output_type": "execute_result"
    }
   ],
   "source": [
    "# 알뜰주유소는 부산 전역 모든 주유소 대비 4.3%\n",
    "len(data[data['상표']=='알뜰주유소']) / len(data) * 100"
   ]
  },
  {
   "cell_type": "markdown",
   "metadata": {},
   "source": [
    "## 자치구별 가장 저렴한/비싼 주유소 마킹"
   ]
  },
  {
   "cell_type": "code",
   "execution_count": 45,
   "metadata": {},
   "outputs": [
    {
     "data": {
      "text/plain": [
       "Int64Index([ 0,  1,  2,  3,  4,  5,  6,  7,  8,  9,\n",
       "            ...\n",
       "            39, 40, 41, 42, 43, 44, 45, 46, 47, 48],\n",
       "           dtype='int64', length=419)"
      ]
     },
     "execution_count": 45,
     "metadata": {},
     "output_type": "execute_result"
    }
   ],
   "source": [
    "data.index"
   ]
  },
  {
   "cell_type": "markdown",
   "metadata": {},
   "source": [
    "###### 재인덱스 : (데이터).reset_index(inplace = True/False)"
   ]
  },
  {
   "cell_type": "code",
   "execution_count": 46,
   "metadata": {},
   "outputs": [],
   "source": [
    "# 인덱스 중복\n",
    "# -> 재인덱스 작업 필요\n",
    "data.reset_index(inplace=True)"
   ]
  },
  {
   "cell_type": "code",
   "execution_count": 49,
   "metadata": {},
   "outputs": [
    {
     "data": {
      "text/html": [
       "<div>\n",
       "<style scoped>\n",
       "    .dataframe tbody tr th:only-of-type {\n",
       "        vertical-align: middle;\n",
       "    }\n",
       "\n",
       "    .dataframe tbody tr th {\n",
       "        vertical-align: top;\n",
       "    }\n",
       "\n",
       "    .dataframe thead th {\n",
       "        text-align: right;\n",
       "    }\n",
       "</style>\n",
       "<table border=\"1\" class=\"dataframe\">\n",
       "  <thead>\n",
       "    <tr style=\"text-align: right;\">\n",
       "      <th></th>\n",
       "      <th>index</th>\n",
       "      <th>상호</th>\n",
       "      <th>주소</th>\n",
       "      <th>상표</th>\n",
       "      <th>셀프여부</th>\n",
       "      <th>휘발유</th>\n",
       "      <th>자치구</th>\n",
       "    </tr>\n",
       "  </thead>\n",
       "  <tbody>\n",
       "    <tr>\n",
       "      <th>414</th>\n",
       "      <td>44</td>\n",
       "      <td>광신석유(주)직영부산신항주유소</td>\n",
       "      <td>부산 강서구 르노삼성대로 372 (명지동)</td>\n",
       "      <td>SK에너지</td>\n",
       "      <td>Y</td>\n",
       "      <td>1509</td>\n",
       "      <td>강서구</td>\n",
       "    </tr>\n",
       "    <tr>\n",
       "      <th>415</th>\n",
       "      <td>45</td>\n",
       "      <td>명지주유소</td>\n",
       "      <td>부산 강서구 낙동남로 1042</td>\n",
       "      <td>SK에너지</td>\n",
       "      <td>N</td>\n",
       "      <td>1518</td>\n",
       "      <td>강서구</td>\n",
       "    </tr>\n",
       "    <tr>\n",
       "      <th>416</th>\n",
       "      <td>46</td>\n",
       "      <td>만선주유소</td>\n",
       "      <td>부산 강서구 가락대로210번길 102</td>\n",
       "      <td>현대오일뱅크</td>\n",
       "      <td>N</td>\n",
       "      <td>1518</td>\n",
       "      <td>강서구</td>\n",
       "    </tr>\n",
       "    <tr>\n",
       "      <th>417</th>\n",
       "      <td>47</td>\n",
       "      <td>동성셀프주유소</td>\n",
       "      <td>부산광역시 강서구 명지국제8로 272 (명지동)</td>\n",
       "      <td>S-OIL</td>\n",
       "      <td>Y</td>\n",
       "      <td>1529</td>\n",
       "      <td>강서구</td>\n",
       "    </tr>\n",
       "    <tr>\n",
       "      <th>418</th>\n",
       "      <td>48</td>\n",
       "      <td>SK에너지(주)새부산주유소</td>\n",
       "      <td>부산 강서구 낙동북로 42 (강동동)</td>\n",
       "      <td>SK에너지</td>\n",
       "      <td>N</td>\n",
       "      <td>1545</td>\n",
       "      <td>강서구</td>\n",
       "    </tr>\n",
       "  </tbody>\n",
       "</table>\n",
       "</div>"
      ],
      "text/plain": [
       "     index                상호                          주소      상표 셀프여부   휘발유  \\\n",
       "414     44  광신석유(주)직영부산신항주유소     부산 강서구 르노삼성대로 372 (명지동)   SK에너지    Y  1509   \n",
       "415     45             명지주유소            부산 강서구 낙동남로 1042   SK에너지    N  1518   \n",
       "416     46             만선주유소        부산 강서구 가락대로210번길 102  현대오일뱅크    N  1518   \n",
       "417     47           동성셀프주유소  부산광역시 강서구 명지국제8로 272 (명지동)   S-OIL    Y  1529   \n",
       "418     48    SK에너지(주)새부산주유소        부산 강서구 낙동북로 42 (강동동)   SK에너지    N  1545   \n",
       "\n",
       "     자치구  \n",
       "414  강서구  \n",
       "415  강서구  \n",
       "416  강서구  \n",
       "417  강서구  \n",
       "418  강서구  "
      ]
     },
     "execution_count": 49,
     "metadata": {},
     "output_type": "execute_result"
    }
   ],
   "source": [
    "data.tail()"
   ]
  },
  {
   "cell_type": "code",
   "execution_count": 50,
   "metadata": {},
   "outputs": [],
   "source": [
    "# 불필요한 index 컬럼이 생성 -> 제거\n",
    "del data['index']"
   ]
  },
  {
   "cell_type": "code",
   "execution_count": 52,
   "metadata": {},
   "outputs": [
    {
     "data": {
      "text/html": [
       "<div>\n",
       "<style scoped>\n",
       "    .dataframe tbody tr th:only-of-type {\n",
       "        vertical-align: middle;\n",
       "    }\n",
       "\n",
       "    .dataframe tbody tr th {\n",
       "        vertical-align: top;\n",
       "    }\n",
       "\n",
       "    .dataframe thead th {\n",
       "        text-align: right;\n",
       "    }\n",
       "</style>\n",
       "<table border=\"1\" class=\"dataframe\">\n",
       "  <thead>\n",
       "    <tr style=\"text-align: right;\">\n",
       "      <th></th>\n",
       "      <th>상호</th>\n",
       "      <th>주소</th>\n",
       "      <th>상표</th>\n",
       "      <th>셀프여부</th>\n",
       "      <th>휘발유</th>\n",
       "      <th>자치구</th>\n",
       "    </tr>\n",
       "  </thead>\n",
       "  <tbody>\n",
       "    <tr>\n",
       "      <th>414</th>\n",
       "      <td>광신석유(주)직영부산신항주유소</td>\n",
       "      <td>부산 강서구 르노삼성대로 372 (명지동)</td>\n",
       "      <td>SK에너지</td>\n",
       "      <td>Y</td>\n",
       "      <td>1509</td>\n",
       "      <td>강서구</td>\n",
       "    </tr>\n",
       "    <tr>\n",
       "      <th>415</th>\n",
       "      <td>명지주유소</td>\n",
       "      <td>부산 강서구 낙동남로 1042</td>\n",
       "      <td>SK에너지</td>\n",
       "      <td>N</td>\n",
       "      <td>1518</td>\n",
       "      <td>강서구</td>\n",
       "    </tr>\n",
       "    <tr>\n",
       "      <th>416</th>\n",
       "      <td>만선주유소</td>\n",
       "      <td>부산 강서구 가락대로210번길 102</td>\n",
       "      <td>현대오일뱅크</td>\n",
       "      <td>N</td>\n",
       "      <td>1518</td>\n",
       "      <td>강서구</td>\n",
       "    </tr>\n",
       "    <tr>\n",
       "      <th>417</th>\n",
       "      <td>동성셀프주유소</td>\n",
       "      <td>부산광역시 강서구 명지국제8로 272 (명지동)</td>\n",
       "      <td>S-OIL</td>\n",
       "      <td>Y</td>\n",
       "      <td>1529</td>\n",
       "      <td>강서구</td>\n",
       "    </tr>\n",
       "    <tr>\n",
       "      <th>418</th>\n",
       "      <td>SK에너지(주)새부산주유소</td>\n",
       "      <td>부산 강서구 낙동북로 42 (강동동)</td>\n",
       "      <td>SK에너지</td>\n",
       "      <td>N</td>\n",
       "      <td>1545</td>\n",
       "      <td>강서구</td>\n",
       "    </tr>\n",
       "  </tbody>\n",
       "</table>\n",
       "</div>"
      ],
      "text/plain": [
       "                   상호                          주소      상표 셀프여부   휘발유  자치구\n",
       "414  광신석유(주)직영부산신항주유소     부산 강서구 르노삼성대로 372 (명지동)   SK에너지    Y  1509  강서구\n",
       "415             명지주유소            부산 강서구 낙동남로 1042   SK에너지    N  1518  강서구\n",
       "416             만선주유소        부산 강서구 가락대로210번길 102  현대오일뱅크    N  1518  강서구\n",
       "417           동성셀프주유소  부산광역시 강서구 명지국제8로 272 (명지동)   S-OIL    Y  1529  강서구\n",
       "418    SK에너지(주)새부산주유소        부산 강서구 낙동북로 42 (강동동)   SK에너지    N  1545  강서구"
      ]
     },
     "execution_count": 52,
     "metadata": {},
     "output_type": "execute_result"
    }
   ],
   "source": [
    "data.tail()"
   ]
  },
  {
   "cell_type": "code",
   "execution_count": 58,
   "metadata": {
    "scrolled": true
   },
   "outputs": [
    {
     "data": {
      "text/html": [
       "<div>\n",
       "<style scoped>\n",
       "    .dataframe tbody tr th:only-of-type {\n",
       "        vertical-align: middle;\n",
       "    }\n",
       "\n",
       "    .dataframe tbody tr th {\n",
       "        vertical-align: top;\n",
       "    }\n",
       "\n",
       "    .dataframe thead tr th {\n",
       "        text-align: left;\n",
       "    }\n",
       "\n",
       "    .dataframe thead tr:last-of-type th {\n",
       "        text-align: right;\n",
       "    }\n",
       "</style>\n",
       "<table border=\"1\" class=\"dataframe\">\n",
       "  <thead>\n",
       "    <tr>\n",
       "      <th></th>\n",
       "      <th colspan=\"5\" halign=\"left\">amin</th>\n",
       "      <th colspan=\"5\" halign=\"left\">amax</th>\n",
       "    </tr>\n",
       "    <tr>\n",
       "      <th></th>\n",
       "      <th>상표</th>\n",
       "      <th>상호</th>\n",
       "      <th>셀프여부</th>\n",
       "      <th>주소</th>\n",
       "      <th>휘발유</th>\n",
       "      <th>상표</th>\n",
       "      <th>상호</th>\n",
       "      <th>셀프여부</th>\n",
       "      <th>주소</th>\n",
       "      <th>휘발유</th>\n",
       "    </tr>\n",
       "    <tr>\n",
       "      <th>자치구</th>\n",
       "      <th></th>\n",
       "      <th></th>\n",
       "      <th></th>\n",
       "      <th></th>\n",
       "      <th></th>\n",
       "      <th></th>\n",
       "      <th></th>\n",
       "      <th></th>\n",
       "      <th></th>\n",
       "      <th></th>\n",
       "    </tr>\n",
       "  </thead>\n",
       "  <tbody>\n",
       "    <tr>\n",
       "      <th>강서구</th>\n",
       "      <td>GS칼텍스</td>\n",
       "      <td>(주)DJS신항만물류단지주유소</td>\n",
       "      <td>N</td>\n",
       "      <td>부산 강서구 가락대로 1361 (봉림동)</td>\n",
       "      <td>1437</td>\n",
       "      <td>현대오일뱅크</td>\n",
       "      <td>현대주유소</td>\n",
       "      <td>Y</td>\n",
       "      <td>부산광역시 강서구 호계로 200(죽동동)</td>\n",
       "      <td>1545</td>\n",
       "    </tr>\n",
       "    <tr>\n",
       "      <th>금정구</th>\n",
       "      <td>GS칼텍스</td>\n",
       "      <td>A1 주유소</td>\n",
       "      <td>N</td>\n",
       "      <td>부산 금정구  반송로 391 (서동)</td>\n",
       "      <td>1442</td>\n",
       "      <td>현대오일뱅크</td>\n",
       "      <td>훼미리알뜰주유소</td>\n",
       "      <td>Y</td>\n",
       "      <td>부산광역시 금정구 중앙대로 2044(남산동)</td>\n",
       "      <td>1665</td>\n",
       "    </tr>\n",
       "  </tbody>\n",
       "</table>\n",
       "</div>"
      ],
      "text/plain": [
       "      amin                                                         amax  \\\n",
       "        상표                상호 셀프여부                      주소   휘발유      상표   \n",
       "자치구                                                                       \n",
       "강서구  GS칼텍스  (주)DJS신항만물류단지주유소    N  부산 강서구 가락대로 1361 (봉림동)  1437  현대오일뱅크   \n",
       "금정구  GS칼텍스            A1 주유소    N    부산 금정구  반송로 391 (서동)  1442  현대오일뱅크   \n",
       "\n",
       "                                                    \n",
       "           상호 셀프여부                        주소   휘발유  \n",
       "자치구                                                 \n",
       "강서구     현대주유소    Y    부산광역시 강서구 호계로 200(죽동동)  1545  \n",
       "금정구  훼미리알뜰주유소    Y  부산광역시 금정구 중앙대로 2044(남산동)  1665  "
      ]
     },
     "execution_count": 58,
     "metadata": {},
     "output_type": "execute_result"
    }
   ],
   "source": [
    "import numpy as np\n",
    "# 데이터를 자치구별로 통합 -> 피벗테이블 -> 휘발유가격의 최소, 최대 포함\n",
    "# aggfunc=[np.min, np.max]\n",
    "min_max_df = pd.pivot_table(data,\n",
    "                           index = '자치구',\n",
    "                           aggfunc = [np.min, np.max])\n",
    "min_max_df.head(2)"
   ]
  },
  {
   "cell_type": "code",
   "execution_count": 63,
   "metadata": {},
   "outputs": [
    {
     "data": {
      "text/html": [
       "<div>\n",
       "<style scoped>\n",
       "    .dataframe tbody tr th:only-of-type {\n",
       "        vertical-align: middle;\n",
       "    }\n",
       "\n",
       "    .dataframe tbody tr th {\n",
       "        vertical-align: top;\n",
       "    }\n",
       "\n",
       "    .dataframe thead th {\n",
       "        text-align: right;\n",
       "    }\n",
       "</style>\n",
       "<table border=\"1\" class=\"dataframe\">\n",
       "  <thead>\n",
       "    <tr style=\"text-align: right;\">\n",
       "      <th></th>\n",
       "      <th>상호</th>\n",
       "      <th>주소</th>\n",
       "      <th>상표</th>\n",
       "      <th>셀프여부</th>\n",
       "      <th>휘발유</th>\n",
       "      <th>자치구</th>\n",
       "    </tr>\n",
       "  </thead>\n",
       "  <tbody>\n",
       "    <tr>\n",
       "      <th>370</th>\n",
       "      <td>공항대로주유소</td>\n",
       "      <td>부산 강서구 공항로 1217 (대저1동)</td>\n",
       "      <td>S-OIL</td>\n",
       "      <td>Y</td>\n",
       "      <td>1437</td>\n",
       "      <td>강서구</td>\n",
       "    </tr>\n",
       "    <tr>\n",
       "      <th>371</th>\n",
       "      <td>(주)우양네트웍스 송산주유소</td>\n",
       "      <td>부산광역시 강서구 호계로 200(죽동동)</td>\n",
       "      <td>S-OIL</td>\n",
       "      <td>Y</td>\n",
       "      <td>1437</td>\n",
       "      <td>강서구</td>\n",
       "    </tr>\n",
       "  </tbody>\n",
       "</table>\n",
       "</div>"
      ],
      "text/plain": [
       "                  상호                      주소     상표 셀프여부   휘발유  자치구\n",
       "370          공항대로주유소  부산 강서구 공항로 1217 (대저1동)  S-OIL    Y  1437  강서구\n",
       "371  (주)우양네트웍스 송산주유소  부산광역시 강서구 호계로 200(죽동동)  S-OIL    Y  1437  강서구"
      ]
     },
     "execution_count": 63,
     "metadata": {},
     "output_type": "execute_result"
    }
   ],
   "source": [
    "# 강서구로 확인\n",
    "data[data['자치구'] == '강서구'].sort_values(by='휘발유', ascending = True).head(2)\n",
    "# 피벗의 결과 휘발유는 정확하나 그 외 정보가 부정확하다 (모든 컬럼에 min, max가 적용된 듯)"
   ]
  },
  {
   "cell_type": "code",
   "execution_count": null,
   "metadata": {},
   "outputs": [],
   "source": [
    "# 피벗으로 휘발유가격 최소/최대만 남겨서 df를 뽑으면\n",
    "# 그 가격에 일치하는 나머지 데이터를 뽑아서 최종 최소/최대 주유소 정보를 추출"
   ]
  },
  {
   "cell_type": "code",
   "execution_count": 79,
   "metadata": {},
   "outputs": [
    {
     "data": {
      "text/html": [
       "<div>\n",
       "<style scoped>\n",
       "    .dataframe tbody tr th:only-of-type {\n",
       "        vertical-align: middle;\n",
       "    }\n",
       "\n",
       "    .dataframe tbody tr th {\n",
       "        vertical-align: top;\n",
       "    }\n",
       "\n",
       "    .dataframe thead tr th {\n",
       "        text-align: left;\n",
       "    }\n",
       "\n",
       "    .dataframe thead tr:last-of-type th {\n",
       "        text-align: right;\n",
       "    }\n",
       "</style>\n",
       "<table border=\"1\" class=\"dataframe\">\n",
       "  <thead>\n",
       "    <tr>\n",
       "      <th></th>\n",
       "      <th>amin</th>\n",
       "      <th>amax</th>\n",
       "    </tr>\n",
       "    <tr>\n",
       "      <th></th>\n",
       "      <th>휘발유</th>\n",
       "      <th>휘발유</th>\n",
       "    </tr>\n",
       "    <tr>\n",
       "      <th>자치구</th>\n",
       "      <th></th>\n",
       "      <th></th>\n",
       "    </tr>\n",
       "  </thead>\n",
       "  <tbody>\n",
       "    <tr>\n",
       "      <th>강서구</th>\n",
       "      <td>1437</td>\n",
       "      <td>1545</td>\n",
       "    </tr>\n",
       "    <tr>\n",
       "      <th>금정구</th>\n",
       "      <td>1442</td>\n",
       "      <td>1665</td>\n",
       "    </tr>\n",
       "    <tr>\n",
       "      <th>기장군</th>\n",
       "      <td>1435</td>\n",
       "      <td>1649</td>\n",
       "    </tr>\n",
       "    <tr>\n",
       "      <th>남구</th>\n",
       "      <td>1419</td>\n",
       "      <td>1598</td>\n",
       "    </tr>\n",
       "    <tr>\n",
       "      <th>동구</th>\n",
       "      <td>1446</td>\n",
       "      <td>1845</td>\n",
       "    </tr>\n",
       "    <tr>\n",
       "      <th>동래구</th>\n",
       "      <td>1437</td>\n",
       "      <td>1699</td>\n",
       "    </tr>\n",
       "    <tr>\n",
       "      <th>부산진구</th>\n",
       "      <td>1425</td>\n",
       "      <td>1598</td>\n",
       "    </tr>\n",
       "    <tr>\n",
       "      <th>북구</th>\n",
       "      <td>1425</td>\n",
       "      <td>1553</td>\n",
       "    </tr>\n",
       "    <tr>\n",
       "      <th>사상구</th>\n",
       "      <td>1414</td>\n",
       "      <td>1729</td>\n",
       "    </tr>\n",
       "    <tr>\n",
       "      <th>사하구</th>\n",
       "      <td>1430</td>\n",
       "      <td>1563</td>\n",
       "    </tr>\n",
       "    <tr>\n",
       "      <th>서구</th>\n",
       "      <td>1438</td>\n",
       "      <td>1548</td>\n",
       "    </tr>\n",
       "    <tr>\n",
       "      <th>수영구</th>\n",
       "      <td>1437</td>\n",
       "      <td>1648</td>\n",
       "    </tr>\n",
       "    <tr>\n",
       "      <th>연제구</th>\n",
       "      <td>1437</td>\n",
       "      <td>1518</td>\n",
       "    </tr>\n",
       "    <tr>\n",
       "      <th>영도구</th>\n",
       "      <td>1497</td>\n",
       "      <td>1644</td>\n",
       "    </tr>\n",
       "    <tr>\n",
       "      <th>중구</th>\n",
       "      <td>1398</td>\n",
       "      <td>1565</td>\n",
       "    </tr>\n",
       "    <tr>\n",
       "      <th>해운대구</th>\n",
       "      <td>1427</td>\n",
       "      <td>1613</td>\n",
       "    </tr>\n",
       "  </tbody>\n",
       "</table>\n",
       "</div>"
      ],
      "text/plain": [
       "      amin  amax\n",
       "       휘발유   휘발유\n",
       "자치구             \n",
       "강서구   1437  1545\n",
       "금정구   1442  1665\n",
       "기장군   1435  1649\n",
       "남구    1419  1598\n",
       "동구    1446  1845\n",
       "동래구   1437  1699\n",
       "부산진구  1425  1598\n",
       "북구    1425  1553\n",
       "사상구   1414  1729\n",
       "사하구   1430  1563\n",
       "서구    1438  1548\n",
       "수영구   1437  1648\n",
       "연제구   1437  1518\n",
       "영도구   1497  1644\n",
       "중구    1398  1565\n",
       "해운대구  1427  1613"
      ]
     },
     "execution_count": 79,
     "metadata": {},
     "output_type": "execute_result"
    }
   ],
   "source": [
    "min_max_df = pd.pivot_table(data,\n",
    "                           index = '자치구',\n",
    "                            values = '휘발유',\n",
    "                           aggfunc = [np.min, np.max])\n",
    "min_max_df"
   ]
  },
  {
   "cell_type": "code",
   "execution_count": 93,
   "metadata": {},
   "outputs": [
    {
     "data": {
      "text/plain": [
       "MultiIndex(levels=[['amin', 'amax'], ['휘발유']],\n",
       "           labels=[[0, 1], [0, 0]])"
      ]
     },
     "execution_count": 93,
     "metadata": {},
     "output_type": "execute_result"
    }
   ],
   "source": [
    "min_max_df.columns\n",
    "# 컬럼의 depth가 1 이상"
   ]
  },
  {
   "cell_type": "code",
   "execution_count": 86,
   "metadata": {},
   "outputs": [
    {
     "data": {
      "text/html": [
       "<div>\n",
       "<style scoped>\n",
       "    .dataframe tbody tr th:only-of-type {\n",
       "        vertical-align: middle;\n",
       "    }\n",
       "\n",
       "    .dataframe tbody tr th {\n",
       "        vertical-align: top;\n",
       "    }\n",
       "\n",
       "    .dataframe thead th {\n",
       "        text-align: right;\n",
       "    }\n",
       "</style>\n",
       "<table border=\"1\" class=\"dataframe\">\n",
       "  <thead>\n",
       "    <tr style=\"text-align: right;\">\n",
       "      <th></th>\n",
       "      <th>휘발유</th>\n",
       "    </tr>\n",
       "    <tr>\n",
       "      <th>자치구</th>\n",
       "      <th></th>\n",
       "    </tr>\n",
       "  </thead>\n",
       "  <tbody>\n",
       "    <tr>\n",
       "      <th>강서구</th>\n",
       "      <td>1437</td>\n",
       "    </tr>\n",
       "    <tr>\n",
       "      <th>금정구</th>\n",
       "      <td>1442</td>\n",
       "    </tr>\n",
       "    <tr>\n",
       "      <th>기장군</th>\n",
       "      <td>1435</td>\n",
       "    </tr>\n",
       "    <tr>\n",
       "      <th>남구</th>\n",
       "      <td>1419</td>\n",
       "    </tr>\n",
       "    <tr>\n",
       "      <th>동구</th>\n",
       "      <td>1446</td>\n",
       "    </tr>\n",
       "    <tr>\n",
       "      <th>동래구</th>\n",
       "      <td>1437</td>\n",
       "    </tr>\n",
       "    <tr>\n",
       "      <th>부산진구</th>\n",
       "      <td>1425</td>\n",
       "    </tr>\n",
       "    <tr>\n",
       "      <th>북구</th>\n",
       "      <td>1425</td>\n",
       "    </tr>\n",
       "    <tr>\n",
       "      <th>사상구</th>\n",
       "      <td>1414</td>\n",
       "    </tr>\n",
       "    <tr>\n",
       "      <th>사하구</th>\n",
       "      <td>1430</td>\n",
       "    </tr>\n",
       "    <tr>\n",
       "      <th>서구</th>\n",
       "      <td>1438</td>\n",
       "    </tr>\n",
       "    <tr>\n",
       "      <th>수영구</th>\n",
       "      <td>1437</td>\n",
       "    </tr>\n",
       "    <tr>\n",
       "      <th>연제구</th>\n",
       "      <td>1437</td>\n",
       "    </tr>\n",
       "    <tr>\n",
       "      <th>영도구</th>\n",
       "      <td>1497</td>\n",
       "    </tr>\n",
       "    <tr>\n",
       "      <th>중구</th>\n",
       "      <td>1398</td>\n",
       "    </tr>\n",
       "    <tr>\n",
       "      <th>해운대구</th>\n",
       "      <td>1427</td>\n",
       "    </tr>\n",
       "  </tbody>\n",
       "</table>\n",
       "</div>"
      ],
      "text/plain": [
       "       휘발유\n",
       "자치구       \n",
       "강서구   1437\n",
       "금정구   1442\n",
       "기장군   1435\n",
       "남구    1419\n",
       "동구    1446\n",
       "동래구   1437\n",
       "부산진구  1425\n",
       "북구    1425\n",
       "사상구   1414\n",
       "사하구   1430\n",
       "서구    1438\n",
       "수영구   1437\n",
       "연제구   1437\n",
       "영도구   1497\n",
       "중구    1398\n",
       "해운대구  1427"
      ]
     },
     "execution_count": 86,
     "metadata": {},
     "output_type": "execute_result"
    }
   ],
   "source": [
    "# 최솟값만 추출\n",
    "min_max_df['amin']"
   ]
  },
  {
   "cell_type": "code",
   "execution_count": 84,
   "metadata": {},
   "outputs": [
    {
     "data": {
      "text/plain": [
       "자치구\n",
       "강서구     1437\n",
       "금정구     1442\n",
       "기장군     1435\n",
       "남구      1419\n",
       "동구      1446\n",
       "동래구     1437\n",
       "부산진구    1425\n",
       "북구      1425\n",
       "사상구     1414\n",
       "사하구     1430\n",
       "서구      1438\n",
       "수영구     1437\n",
       "연제구     1437\n",
       "영도구     1497\n",
       "중구      1398\n",
       "해운대구    1427\n",
       "Name: 휘발유, dtype: int32"
      ]
     },
     "execution_count": 84,
     "metadata": {},
     "output_type": "execute_result"
    }
   ],
   "source": [
    "# 숫자만 나오도록\n",
    "min_max_df['amin']['휘발유']"
   ]
  },
  {
   "cell_type": "code",
   "execution_count": 89,
   "metadata": {},
   "outputs": [
    {
     "name": "stdout",
     "output_type": "stream",
     "text": [
      "강서구 1437\n",
      "금정구 1442\n",
      "기장군 1435\n",
      "남구 1419\n",
      "동구 1446\n",
      "동래구 1437\n",
      "부산진구 1425\n",
      "북구 1425\n",
      "사상구 1414\n",
      "사하구 1430\n",
      "서구 1438\n",
      "수영구 1437\n",
      "연제구 1437\n",
      "영도구 1497\n",
      "중구 1398\n",
      "해운대구 1427\n"
     ]
    }
   ],
   "source": [
    "for idx, oil_price in enumerate(min_max_df['amin']['휘발유']) :\n",
    "    # 출력 형태 : 자치구, 가격\n",
    "    print(min_max_df.index[idx], oil_price)"
   ]
  },
  {
   "cell_type": "code",
   "execution_count": 94,
   "metadata": {},
   "outputs": [
    {
     "data": {
      "text/plain": [
       "FrozenList([['amin', 'amax'], ['휘발유']])"
      ]
     },
     "execution_count": 94,
     "metadata": {},
     "output_type": "execute_result"
    }
   ],
   "source": [
    "min_max_df.columns.levels"
   ]
  },
  {
   "cell_type": "code",
   "execution_count": 95,
   "metadata": {},
   "outputs": [
    {
     "data": {
      "text/plain": [
       "Index(['amin', 'amax'], dtype='object')"
      ]
     },
     "execution_count": 95,
     "metadata": {},
     "output_type": "execute_result"
    }
   ],
   "source": [
    "min_max_df.columns.levels[0]"
   ]
  },
  {
   "cell_type": "code",
   "execution_count": 96,
   "metadata": {},
   "outputs": [
    {
     "name": "stdout",
     "output_type": "stream",
     "text": [
      "강서구 1437\n",
      "금정구 1442\n",
      "기장군 1435\n",
      "남구 1419\n",
      "동구 1446\n",
      "동래구 1437\n",
      "부산진구 1425\n",
      "북구 1425\n",
      "사상구 1414\n",
      "사하구 1430\n",
      "서구 1438\n",
      "수영구 1437\n",
      "연제구 1437\n",
      "영도구 1497\n",
      "중구 1398\n",
      "해운대구 1427\n",
      "강서구 1545\n",
      "금정구 1665\n",
      "기장군 1649\n",
      "남구 1598\n",
      "동구 1845\n",
      "동래구 1699\n",
      "부산진구 1598\n",
      "북구 1553\n",
      "사상구 1729\n",
      "사하구 1563\n",
      "서구 1548\n",
      "수영구 1648\n",
      "연제구 1518\n",
      "영도구 1644\n",
      "중구 1565\n",
      "해운대구 1613\n"
     ]
    }
   ],
   "source": [
    "for col in min_max_df.columns.levels[0] :\n",
    "    for idx, oil_price in enumerate(min_max_df[col]['휘발유']) :\n",
    "        print(min_max_df.index[idx], oil_price)"
   ]
  },
  {
   "cell_type": "code",
   "execution_count": 105,
   "metadata": {},
   "outputs": [],
   "source": [
    "target_df = pd.concat([\n",
    "    pd.concat([\n",
    "        data[(data['자치구'] == min_max_df.index[idx]) & (data['휘발유'] == oil_price)]\n",
    "        for idx, oil_price in enumerate(min_max_df[col]['휘발유'])\n",
    "    ])\n",
    "    for col in min_max_df.columns.levels[0]\n",
    "])"
   ]
  },
  {
   "cell_type": "code",
   "execution_count": 107,
   "metadata": {},
   "outputs": [
    {
     "data": {
      "text/html": [
       "<div>\n",
       "<style scoped>\n",
       "    .dataframe tbody tr th:only-of-type {\n",
       "        vertical-align: middle;\n",
       "    }\n",
       "\n",
       "    .dataframe tbody tr th {\n",
       "        vertical-align: top;\n",
       "    }\n",
       "\n",
       "    .dataframe thead th {\n",
       "        text-align: right;\n",
       "    }\n",
       "</style>\n",
       "<table border=\"1\" class=\"dataframe\">\n",
       "  <thead>\n",
       "    <tr style=\"text-align: right;\">\n",
       "      <th></th>\n",
       "      <th>상호</th>\n",
       "      <th>주소</th>\n",
       "      <th>상표</th>\n",
       "      <th>셀프여부</th>\n",
       "      <th>휘발유</th>\n",
       "      <th>자치구</th>\n",
       "    </tr>\n",
       "  </thead>\n",
       "  <tbody>\n",
       "    <tr>\n",
       "      <th>370</th>\n",
       "      <td>공항대로주유소</td>\n",
       "      <td>부산 강서구 공항로 1217 (대저1동)</td>\n",
       "      <td>S-OIL</td>\n",
       "      <td>Y</td>\n",
       "      <td>1437</td>\n",
       "      <td>강서구</td>\n",
       "    </tr>\n",
       "    <tr>\n",
       "      <th>371</th>\n",
       "      <td>(주)우양네트웍스 송산주유소</td>\n",
       "      <td>부산광역시 강서구 호계로 200(죽동동)</td>\n",
       "      <td>S-OIL</td>\n",
       "      <td>Y</td>\n",
       "      <td>1437</td>\n",
       "      <td>강서구</td>\n",
       "    </tr>\n",
       "    <tr>\n",
       "      <th>0</th>\n",
       "      <td>청룡명품주유소</td>\n",
       "      <td>부산 금정구  중앙대로2130</td>\n",
       "      <td>현대오일뱅크</td>\n",
       "      <td>N</td>\n",
       "      <td>1442</td>\n",
       "      <td>금정구</td>\n",
       "    </tr>\n",
       "    <tr>\n",
       "      <th>123</th>\n",
       "      <td>뉴장안IC주유소</td>\n",
       "      <td>부산 기장군 장안읍 좌동길 45</td>\n",
       "      <td>S-OIL</td>\n",
       "      <td>N</td>\n",
       "      <td>1435</td>\n",
       "      <td>기장군</td>\n",
       "    </tr>\n",
       "    <tr>\n",
       "      <th>124</th>\n",
       "      <td>의학원self주유소</td>\n",
       "      <td>부산광역시 기장군 장안읍 좌동길 47</td>\n",
       "      <td>SK에너지</td>\n",
       "      <td>Y</td>\n",
       "      <td>1435</td>\n",
       "      <td>기장군</td>\n",
       "    </tr>\n",
       "  </tbody>\n",
       "</table>\n",
       "</div>"
      ],
      "text/plain": [
       "                  상호                      주소      상표 셀프여부   휘발유  자치구\n",
       "370          공항대로주유소  부산 강서구 공항로 1217 (대저1동)   S-OIL    Y  1437  강서구\n",
       "371  (주)우양네트웍스 송산주유소  부산광역시 강서구 호계로 200(죽동동)   S-OIL    Y  1437  강서구\n",
       "0            청룡명품주유소        부산 금정구  중앙대로2130  현대오일뱅크    N  1442  금정구\n",
       "123         뉴장안IC주유소       부산 기장군 장안읍 좌동길 45   S-OIL    N  1435  기장군\n",
       "124       의학원self주유소    부산광역시 기장군 장안읍 좌동길 47   SK에너지    Y  1435  기장군"
      ]
     },
     "execution_count": 107,
     "metadata": {},
     "output_type": "execute_result"
    }
   ],
   "source": [
    "target_df.head()"
   ]
  },
  {
   "cell_type": "code",
   "execution_count": 108,
   "metadata": {},
   "outputs": [
    {
     "data": {
      "text/html": [
       "<div>\n",
       "<style scoped>\n",
       "    .dataframe tbody tr th:only-of-type {\n",
       "        vertical-align: middle;\n",
       "    }\n",
       "\n",
       "    .dataframe tbody tr th {\n",
       "        vertical-align: top;\n",
       "    }\n",
       "\n",
       "    .dataframe thead th {\n",
       "        text-align: right;\n",
       "    }\n",
       "</style>\n",
       "<table border=\"1\" class=\"dataframe\">\n",
       "  <thead>\n",
       "    <tr style=\"text-align: right;\">\n",
       "      <th></th>\n",
       "      <th>상호</th>\n",
       "      <th>주소</th>\n",
       "      <th>상표</th>\n",
       "      <th>셀프여부</th>\n",
       "      <th>휘발유</th>\n",
       "      <th>자치구</th>\n",
       "    </tr>\n",
       "  </thead>\n",
       "  <tbody>\n",
       "    <tr>\n",
       "      <th>52</th>\n",
       "      <td>(주)청유주유소</td>\n",
       "      <td>부산 수영구 좌수영로 147 (망미동)</td>\n",
       "      <td>SK에너지</td>\n",
       "      <td>Y</td>\n",
       "      <td>1648</td>\n",
       "      <td>수영구</td>\n",
       "    </tr>\n",
       "    <tr>\n",
       "      <th>69</th>\n",
       "      <td>현대오일뱅크(주)직영 부산현대주유소</td>\n",
       "      <td>부산 연제구 아시아드대로 107 (거제동)</td>\n",
       "      <td>현대오일뱅크</td>\n",
       "      <td>N</td>\n",
       "      <td>1518</td>\n",
       "      <td>연제구</td>\n",
       "    </tr>\n",
       "    <tr>\n",
       "      <th>81</th>\n",
       "      <td>(주)나부코직영 우원주유소</td>\n",
       "      <td>부산 영도구 태종로 181 (봉래동4가)</td>\n",
       "      <td>SK에너지</td>\n",
       "      <td>N</td>\n",
       "      <td>1644</td>\n",
       "      <td>영도구</td>\n",
       "    </tr>\n",
       "    <tr>\n",
       "      <th>83</th>\n",
       "      <td>고려주유소</td>\n",
       "      <td>부산 중구 대청로 153 (중앙동5가)</td>\n",
       "      <td>SK에너지</td>\n",
       "      <td>N</td>\n",
       "      <td>1565</td>\n",
       "      <td>중구</td>\n",
       "    </tr>\n",
       "    <tr>\n",
       "      <th>122</th>\n",
       "      <td>에스씨(주)마리나타운주유소</td>\n",
       "      <td>부산광역시 해운대구  해운대해변로 44 (우동)</td>\n",
       "      <td>GS칼텍스</td>\n",
       "      <td>N</td>\n",
       "      <td>1613</td>\n",
       "      <td>해운대구</td>\n",
       "    </tr>\n",
       "  </tbody>\n",
       "</table>\n",
       "</div>"
      ],
      "text/plain": [
       "                      상호                          주소      상표 셀프여부   휘발유   자치구\n",
       "52              (주)청유주유소       부산 수영구 좌수영로 147 (망미동)   SK에너지    Y  1648   수영구\n",
       "69   현대오일뱅크(주)직영 부산현대주유소     부산 연제구 아시아드대로 107 (거제동)  현대오일뱅크    N  1518   연제구\n",
       "81        (주)나부코직영 우원주유소      부산 영도구 태종로 181 (봉래동4가)   SK에너지    N  1644   영도구\n",
       "83                 고려주유소       부산 중구 대청로 153 (중앙동5가)   SK에너지    N  1565    중구\n",
       "122       에스씨(주)마리나타운주유소  부산광역시 해운대구  해운대해변로 44 (우동)   GS칼텍스    N  1613  해운대구"
      ]
     },
     "execution_count": 108,
     "metadata": {},
     "output_type": "execute_result"
    }
   ],
   "source": [
    "target_df.tail()"
   ]
  },
  {
   "cell_type": "markdown",
   "metadata": {},
   "source": [
    "### target_df의 '주소'로 api를 사용하여 gps 완성 후 지도에 시각화"
   ]
  },
  {
   "cell_type": "code",
   "execution_count": null,
   "metadata": {},
   "outputs": [],
   "source": [
    "# https://developers.kakao.com/docs/restapi/local#%EC%A3%BC%EC%86%8C-%EA%B2%80%EC%83%89\n",
    "\n",
    "# GET /v2/local/search/address.{format} HTTP/1.1\n",
    "# Host: dapi.kakao.com\n",
    "# Authorization: KakaoAK {app_key}\n",
    "\n",
    "# 예시\n",
    "# curl -v -X GET \"https://dapi.kakao.com/v2/local/search/address.json\" \\\n",
    "# --data-urlencode \"query=전북 삼성동 100\" \\\n",
    "# -H \"Authorization: KakaoAK kkkkkkkkkkkkkkkkkkkkkkkkkkkkkkkk\""
   ]
  },
  {
   "cell_type": "code",
   "execution_count": 109,
   "metadata": {},
   "outputs": [],
   "source": [
    "import urllib, json\n",
    "API_KEY = '91c118870de7d5d8f79c11d0ce70ec28'\n",
    "url = 'https://dapi.kakao.com/v2/local/search/address.json?query={}'\n",
    "\n",
    "def getGpsByAddr(addr) :\n",
    "    try :\n",
    "        tmp_url = url.format(urllib.parse.quote(addr))\n",
    "        request = urllib.request.Request(tmp_url)\n",
    "        request.add_header('Authorization', 'KakaoAK {app_key}'.format(app_key=API_KEY))\n",
    "        response = urllib.request.urlopen(request)\n",
    "        rescode = response.getcode()\n",
    "        if rescode == 200 :\n",
    "            tmp = json.load(response)\n",
    "            y = tmp['documents'][0]['y']\n",
    "            x = tmp['documents'][0]['x']\n",
    "            return y, x\n",
    "        else :\n",
    "            return 0, 0\n",
    "    except Exception as e :\n",
    "        print('오류', addr, e)\n",
    "        return 0, 0"
   ]
  },
  {
   "cell_type": "code",
   "execution_count": 111,
   "metadata": {},
   "outputs": [
    {
     "name": "stdout",
     "output_type": "stream",
     "text": [
      "부산 강서구 공항로 1217 (대저1동)\n",
      "부산광역시 강서구 호계로 200(죽동동)\n",
      "부산 금정구  중앙대로2130\n",
      "부산 기장군 장안읍 좌동길 45\n",
      "부산광역시 기장군 장안읍 좌동길 47\n",
      "부산 기장군 일광면 기장대로 1291\n",
      "부산 기장군 일광면 기장대로 1230\n",
      "부산 기장군 장안읍 정관로 1115\n",
      "부산 기장군 일광면 기장대로 1037\n",
      "부산 기장군 기장읍 기장대로 84\n",
      "부산 남구 신선로 252\n",
      "부산 동구 성남로 42 (좌천동)\n",
      "부산광역시 동래구  반송로 303 (명장동)\n",
      "부산 부산진구 백양대로 231\n",
      "부산 북구 백양대로 995 (구포동)\n",
      "부산 사상구 새벽로 154 (감전동)\n",
      "부산광역시 사하구  장평로 152 (장림동)\n",
      "부산 서구 보수대로 220\n",
      "부산 수영구 연수로 250 (망미동)\n",
      "부산 연제구 고분로 51 (연산동)\n",
      "부산 영도구 태종로 782 (동삼동)\n",
      "부산 영도구 태종로 806-1 (동삼동)\n",
      "부산광역시 중구  중구로 194 (영주동)\n",
      "부산 해운대구 석대천로 198 (반송동)\n",
      "부산 강서구 낙동북로 42 (강동동)\n",
      "부산 금정구 중앙대로 1756\n",
      "부산 기장군 정관면 정관덕산길 21\n",
      "부산 남구 황령대로98번길 75 (문현동)\n",
      "오류 부산 남구 황령대로98번길 75 (문현동) list index out of range\n",
      "부산 남구 석포로 134 (대연동)\n",
      "부산 남구 유엔로 42 (우암동)\n",
      "부산 동구 중앙대로 168 (초량동)\n",
      "부산 동래구 중앙대로 1371 (온천동)\n",
      "부산 부산진구 전포대로176번길 5 (전포동)\n",
      "오류 부산 부산진구 전포대로176번길 5 (전포동) list index out of range\n",
      "부산 북구 금곡대로 362 (화명동)\n",
      "부산 사상구 낙동대로 1274 (삼락동)\n",
      "부산 사하구 장림번영로 7 (장림동)\n",
      "부산 서구 대신공원로 1 (동대신동3가)\n",
      "부산 수영구 좌수영로 147 (망미동)\n",
      "부산 연제구 아시아드대로 107 (거제동)\n",
      "부산 영도구 태종로 181 (봉래동4가)\n",
      "부산 중구 대청로 153 (중앙동5가)\n",
      "부산광역시 해운대구  해운대해변로 44 (우동)\n"
     ]
    }
   ],
   "source": [
    "lats = []\n",
    "lngs = []\n",
    "# '주소' 데이터의 앞뒤 공백 제거\n",
    "for addr in target_df['주소'].apply(lambda x : x.strip()) :\n",
    "    print(addr)\n",
    "    # 통신 후 gps 획득\n",
    "    lat, lng = getGpsByAddr(addr)\n",
    "    lats.append(lat)\n",
    "    lngs.append(lng)"
   ]
  },
  {
   "cell_type": "code",
   "execution_count": 112,
   "metadata": {
    "collapsed": true
   },
   "outputs": [
    {
     "data": {
      "text/plain": [
       "['35.20864137232135',\n",
       " '35.20916235500129',\n",
       " '35.27455223614303',\n",
       " '35.321203724808235',\n",
       " '35.32151830495734',\n",
       " '35.308316526904505',\n",
       " '35.30293226733894',\n",
       " '35.32228003091803',\n",
       " '35.28631488776029',\n",
       " '35.20478035664164',\n",
       " '35.110374309835166',\n",
       " '35.13009300853815',\n",
       " '35.20674918407658',\n",
       " '35.1572003270461',\n",
       " '35.19443940028069',\n",
       " '35.15497001548498',\n",
       " '35.07983115849022',\n",
       " '35.114660415906535',\n",
       " '35.172999280109565',\n",
       " '35.185818519643995',\n",
       " '35.066634690918725',\n",
       " '35.06459181710939',\n",
       " '35.11174116464393',\n",
       " '35.22104400113889',\n",
       " '35.21872358487043',\n",
       " '35.24113091161727',\n",
       " '35.32320716127476',\n",
       " 0,\n",
       " '35.12910014730122',\n",
       " '35.12713355574594',\n",
       " '35.11236303849652',\n",
       " '35.20960768458388',\n",
       " 0,\n",
       " '35.240875870172914',\n",
       " '35.17392536312102',\n",
       " '35.08200351753661',\n",
       " '35.119566345059155',\n",
       " '35.17692566025697',\n",
       " '35.19388775901549',\n",
       " '35.09500147085103',\n",
       " '35.10314602763789',\n",
       " '35.16304477928331']"
      ]
     },
     "execution_count": 112,
     "metadata": {},
     "output_type": "execute_result"
    }
   ],
   "source": [
    "lats"
   ]
  },
  {
   "cell_type": "code",
   "execution_count": 113,
   "metadata": {
    "collapsed": true
   },
   "outputs": [
    {
     "data": {
      "text/plain": [
       "['128.98137573393092',\n",
       " '128.89089379690043',\n",
       " '129.09288601040421',\n",
       " '129.24194214611774',\n",
       " '129.24208277039813',\n",
       " '129.24026720182994',\n",
       " '129.23905905903894',\n",
       " '129.23286816529233',\n",
       " '129.23345792977733',\n",
       " '129.20662044616762',\n",
       " '129.09220049914404',\n",
       " '129.0548478103251',\n",
       " '129.10271207093686',\n",
       " '129.0253011173836',\n",
       " '128.99320325123415',\n",
       " '128.98342200036973',\n",
       " '128.97293609427803',\n",
       " '129.01974647719092',\n",
       " '129.09793527342364',\n",
       " '129.0878545087527',\n",
       " '129.08113972214852',\n",
       " '129.08066258370332',\n",
       " '129.0347955925082',\n",
       " '129.14446316321101',\n",
       " '128.93414136354068',\n",
       " '129.09328761528587',\n",
       " '129.18251011698803',\n",
       " 0,\n",
       " '129.09200822847666',\n",
       " '129.08166475593646',\n",
       " '129.03875916869',\n",
       " '129.07745289874893',\n",
       " 0,\n",
       " '129.01446256738788',\n",
       " '128.97713917093319',\n",
       " '128.96680525209817',\n",
       " '129.01628765695077',\n",
       " '129.11755060455167',\n",
       " '129.06609216726773',\n",
       " '129.0476072028376',\n",
       " '129.0368188973001',\n",
       " '129.13804038516375']"
      ]
     },
     "execution_count": 113,
     "metadata": {},
     "output_type": "execute_result"
    }
   ],
   "source": [
    "lngs"
   ]
  },
  {
   "cell_type": "code",
   "execution_count": 114,
   "metadata": {},
   "outputs": [],
   "source": [
    "target_df['위도'] = lats\n",
    "target_df['경도'] = lngs"
   ]
  },
  {
   "cell_type": "code",
   "execution_count": 119,
   "metadata": {},
   "outputs": [
    {
     "data": {
      "text/html": [
       "<div>\n",
       "<style scoped>\n",
       "    .dataframe tbody tr th:only-of-type {\n",
       "        vertical-align: middle;\n",
       "    }\n",
       "\n",
       "    .dataframe tbody tr th {\n",
       "        vertical-align: top;\n",
       "    }\n",
       "\n",
       "    .dataframe thead th {\n",
       "        text-align: right;\n",
       "    }\n",
       "</style>\n",
       "<table border=\"1\" class=\"dataframe\">\n",
       "  <thead>\n",
       "    <tr style=\"text-align: right;\">\n",
       "      <th></th>\n",
       "      <th>상호</th>\n",
       "      <th>주소</th>\n",
       "      <th>상표</th>\n",
       "      <th>셀프여부</th>\n",
       "      <th>휘발유</th>\n",
       "      <th>자치구</th>\n",
       "      <th>위도</th>\n",
       "      <th>경도</th>\n",
       "    </tr>\n",
       "  </thead>\n",
       "  <tbody>\n",
       "    <tr>\n",
       "      <th>370</th>\n",
       "      <td>공항대로주유소</td>\n",
       "      <td>부산 강서구 공항로 1217 (대저1동)</td>\n",
       "      <td>S-OIL</td>\n",
       "      <td>Y</td>\n",
       "      <td>1437</td>\n",
       "      <td>강서구</td>\n",
       "      <td>35.20864137232135</td>\n",
       "      <td>128.98137573393092</td>\n",
       "    </tr>\n",
       "    <tr>\n",
       "      <th>371</th>\n",
       "      <td>(주)우양네트웍스 송산주유소</td>\n",
       "      <td>부산광역시 강서구 호계로 200(죽동동)</td>\n",
       "      <td>S-OIL</td>\n",
       "      <td>Y</td>\n",
       "      <td>1437</td>\n",
       "      <td>강서구</td>\n",
       "      <td>35.20916235500129</td>\n",
       "      <td>128.89089379690043</td>\n",
       "    </tr>\n",
       "  </tbody>\n",
       "</table>\n",
       "</div>"
      ],
      "text/plain": [
       "                  상호                      주소     상표 셀프여부   휘발유  자치구  \\\n",
       "370          공항대로주유소  부산 강서구 공항로 1217 (대저1동)  S-OIL    Y  1437  강서구   \n",
       "371  (주)우양네트웍스 송산주유소  부산광역시 강서구 호계로 200(죽동동)  S-OIL    Y  1437  강서구   \n",
       "\n",
       "                    위도                  경도  \n",
       "370  35.20864137232135  128.98137573393092  \n",
       "371  35.20916235500129  128.89089379690043  "
      ]
     },
     "execution_count": 119,
     "metadata": {},
     "output_type": "execute_result"
    }
   ],
   "source": [
    "target_df.head(2)"
   ]
  },
  {
   "cell_type": "code",
   "execution_count": 120,
   "metadata": {},
   "outputs": [
    {
     "data": {
      "text/plain": [
       "(40, 8)"
      ]
     },
     "execution_count": 120,
     "metadata": {},
     "output_type": "execute_result"
    }
   ],
   "source": [
    "# gps를 획득하지 못한 데이터 2개 제거 -> 마킹의 최종 데이터\n",
    "target_df = target_df[target_df['위도']!=0]\n",
    "target_df.shape"
   ]
  },
  {
   "cell_type": "code",
   "execution_count": 124,
   "metadata": {},
   "outputs": [
    {
     "data": {
      "text/plain": [
       "1497"
      ]
     },
     "execution_count": 124,
     "metadata": {},
     "output_type": "execute_result"
    }
   ],
   "source": [
    "# 최저가들 중에서 최고값\n",
    "min_max_df['amin']['휘발유'].max()"
   ]
  },
  {
   "cell_type": "code",
   "execution_count": 125,
   "metadata": {},
   "outputs": [
    {
     "data": {
      "text/plain": [
       "1518"
      ]
     },
     "execution_count": 125,
     "metadata": {},
     "output_type": "execute_result"
    }
   ],
   "source": [
    "# 최고가들 중에서 최저값\n",
    "min_max_df['amax']['휘발유'].min()"
   ]
  },
  {
   "cell_type": "code",
   "execution_count": null,
   "metadata": {},
   "outputs": [],
   "source": [
    "# 다행히 겹치지 않는다\n",
    "# 휘발유 값이 <=1497(싼 주유소)이면 blue\n",
    "# 휘발유 값이 >=1518(비싼 주유소)이면 red"
   ]
  },
  {
   "cell_type": "code",
   "execution_count": 126,
   "metadata": {},
   "outputs": [],
   "source": [
    "import json\n",
    "geo_str = json.load(open('../pandas/data/busan.json', encoding='utf-8'))"
   ]
  },
  {
   "cell_type": "code",
   "execution_count": 128,
   "metadata": {},
   "outputs": [],
   "source": [
    "target_df.reset_index(inplace=True)"
   ]
  },
  {
   "cell_type": "code",
   "execution_count": 130,
   "metadata": {},
   "outputs": [],
   "source": [
    "del target_df['index']"
   ]
  },
  {
   "cell_type": "code",
   "execution_count": 133,
   "metadata": {},
   "outputs": [
    {
     "data": {
      "text/html": [
       "<div style=\"width:100%;\"><div style=\"position:relative;width:100%;height:0;padding-bottom:60%;\"><iframe src=\"data:text/html;charset=utf-8;base64,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\" style=\"position:absolute;width:100%;height:100%;left:0;top:0;border:none !important;\" allowfullscreen webkitallowfullscreen mozallowfullscreen></iframe></div></div>"
      ],
      "text/plain": [
       "<folium.folium.Map at 0x229b04fb550>"
      ]
     },
     "execution_count": 133,
     "metadata": {},
     "output_type": "execute_result"
    }
   ],
   "source": [
    "gps = [35.1772791,128.9996931]\n",
    "map_busan = folium.Map(location=gps, zoom_start = 11)\n",
    "\n",
    "# 조건 and 참일때값 or 거짓일때값\n",
    "# color = target_df['휘발유'][n] > 1497 and 'red' or 'blue'\n",
    "\n",
    "# 참일때값 if 조건 else 거짓일때값\n",
    "# color = 'red' if target_df['휘발유'][n] > 1497 else 'blue'\n",
    "\n",
    "for n in range(target_df.shape[0]) :\n",
    "    color = 'red' if target_df['휘발유'][n] > 1497 else 'blue'\n",
    "    folium.Marker( [target_df['위도'][n], target_df['경도'][n]],\n",
    "                 popup= target_df['상호'][n],\n",
    "                 icon = folium.Icon(icon='info-sign',\n",
    "                 color = color)).add_to(map_busan)\n",
    "map_busan"
   ]
  },
  {
   "cell_type": "code",
   "execution_count": null,
   "metadata": {},
   "outputs": [],
   "source": []
  }
 ],
 "metadata": {
  "kernelspec": {
   "display_name": "Python 3",
   "language": "python",
   "name": "python3"
  },
  "language_info": {
   "codemirror_mode": {
    "name": "ipython",
    "version": 3
   },
   "file_extension": ".py",
   "mimetype": "text/x-python",
   "name": "python",
   "nbconvert_exporter": "python",
   "pygments_lexer": "ipython3",
   "version": "3.6.5"
  }
 },
 "nbformat": 4,
 "nbformat_minor": 2
}
