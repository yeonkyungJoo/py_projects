{
 "cells": [
  {
   "cell_type": "markdown",
   "metadata": {},
   "source": [
    "## selenium을 이용하여 주유가격 수집\n",
    "\n",
    "- 매일 1회 수집\n",
    "- 지역별 검색 사이트에 진입 : opinet.co.kr\n",
    "- 시/도 -> 시/군/구 -> 읍/면/동 -> wait -> 읍/면/동 변경됨\n",
    "- '조회' 버튼 클릭\n",
    "- '엑셀저장' 버튼 클릭\n",
    "- 이렇게 돌면서 데이터 저장(파일을 모아두고) -> *.xls를 한 번에 목록을 읽어들이고\n",
    "- pandas에 엑셀을 DataFrame으로 로드하는 함수를 활용하여 변환 후 df의 merge를 이용하여 덩어리로 만들어서 DB에 삽입 or 매번 삽입"
   ]
  },
  {
   "cell_type": "code",
   "execution_count": 26,
   "metadata": {},
   "outputs": [],
   "source": [
    "from selenium import webdriver as wd\n",
    "import urllib"
   ]
  },
  {
   "cell_type": "code",
   "execution_count": 27,
   "metadata": {},
   "outputs": [],
   "source": [
    "target_url = 'http://www.opinet.co.kr/searRgSelect.do'"
   ]
  },
  {
   "cell_type": "code",
   "execution_count": 28,
   "metadata": {},
   "outputs": [],
   "source": [
    "driver = wd.Chrome('../tool/chromedriver.exe')"
   ]
  },
  {
   "cell_type": "code",
   "execution_count": 29,
   "metadata": {},
   "outputs": [],
   "source": [
    "# 사이트 접속 & 대기\n",
    "driver.get(target_url)\n",
    "import time\n",
    "time.sleep(5)"
   ]
  },
  {
   "cell_type": "code",
   "execution_count": 30,
   "metadata": {},
   "outputs": [],
   "source": [
    "driver.get(target_url)"
   ]
  },
  {
   "cell_type": "code",
   "execution_count": 31,
   "metadata": {},
   "outputs": [],
   "source": [
    "# 시도 정보 추출 및 특정 시도 선택\n",
    "# select tag이고, 이 요소의 값을 설정하면 시도 값이 변경된다\n",
    "sido = driver.find_element_by_id('SIDO_NM0')"
   ]
  },
  {
   "cell_type": "code",
   "execution_count": 32,
   "metadata": {},
   "outputs": [
    {
     "name": "stdout",
     "output_type": "stream",
     "text": [
      "서울특별시\n",
      "부산광역시\n",
      "대구광역시\n",
      "인천광역시\n",
      "광주광역시\n",
      "대전광역시\n",
      "울산광역시\n",
      "세종특별자치시\n",
      "경기도\n",
      "강원도\n",
      "충청북도\n",
      "충청남도\n",
      "전라북도\n",
      "전라남도\n",
      "경상북도\n",
      "경상남도\n",
      "제주특별자치도\n"
     ]
    }
   ],
   "source": [
    "# 시도 데이터 추출\n",
    "# select > option들의 속성 중에 value 값 : #SIDO_NM0 > option\n",
    "for option in driver.find_elements_by_css_selector('#SIDO_NM0 > option') :\n",
    "    if option.get_attribute('value') :\n",
    "        print(option.get_attribute('value'))"
   ]
  },
  {
   "cell_type": "code",
   "execution_count": 33,
   "metadata": {},
   "outputs": [
    {
     "data": {
      "text/plain": [
       "['서울특별시',\n",
       " '부산광역시',\n",
       " '대구광역시',\n",
       " '인천광역시',\n",
       " '광주광역시',\n",
       " '대전광역시',\n",
       " '울산광역시',\n",
       " '세종특별자치시',\n",
       " '경기도',\n",
       " '강원도',\n",
       " '충청북도',\n",
       " '충청남도',\n",
       " '전라북도',\n",
       " '전라남도',\n",
       " '경상북도',\n",
       " '경상남도',\n",
       " '제주특별자치도']"
      ]
     },
     "execution_count": 33,
     "metadata": {},
     "output_type": "execute_result"
    }
   ],
   "source": [
    "# 시도 데이터 리스트\n",
    "sidos = [option.get_attribute('value')\n",
    "         for option in driver.find_elements_by_css_selector('#SIDO_NM0 > option')\n",
    "         if option.get_attribute('value')]\n",
    "sidos"
   ]
  },
  {
   "cell_type": "code",
   "execution_count": 34,
   "metadata": {},
   "outputs": [],
   "source": [
    "# 시도 설정 : send_keys()\n",
    "# sido.send_keys('서울특별시')"
   ]
  },
  {
   "cell_type": "code",
   "execution_count": 35,
   "metadata": {},
   "outputs": [],
   "source": [
    "for sido_name in sidos :\n",
    "    sido.send_keys(sido_name)\n",
    "    time.sleep(2)"
   ]
  },
  {
   "cell_type": "code",
   "execution_count": 36,
   "metadata": {},
   "outputs": [],
   "source": [
    "# 시군구 선택\n",
    "# 사이트 특성상 send_keys()를 수행하면 화면이 전부 reload된다(껌벅인다)\n",
    "# -> 이전에 잡아두었던 sigungu이 전부 무효화된다\n",
    "# -> 다시 sigungu 변수를 찾아서 처리해야 한다\n",
    "sigungu = driver.find_element_by_id('SIGUNGU_NM0')\n",
    "sigungu.send_keys('제주시')"
   ]
  },
  {
   "cell_type": "code",
   "execution_count": 37,
   "metadata": {},
   "outputs": [],
   "source": [
    "# 읍면동 선택\n",
    "dong = driver.find_element_by_id('DONG_NM')\n",
    "dong.send_keys('아라동')"
   ]
  },
  {
   "cell_type": "code",
   "execution_count": 38,
   "metadata": {},
   "outputs": [],
   "source": [
    "# '조회' 버튼 클릭\n",
    "driver.find_element_by_id('searRgSelect').click()"
   ]
  },
  {
   "cell_type": "code",
   "execution_count": 39,
   "metadata": {},
   "outputs": [],
   "source": [
    "# '엑셀저장' 버튼 클릭\n",
    "driver.find_element_by_id('glopopd_excel').click()"
   ]
  },
  {
   "cell_type": "code",
   "execution_count": 40,
   "metadata": {},
   "outputs": [],
   "source": [
    "# driver.close()\n",
    "# driver.quit()"
   ]
  },
  {
   "cell_type": "code",
   "execution_count": null,
   "metadata": {},
   "outputs": [],
   "source": []
  },
  {
   "cell_type": "code",
   "execution_count": null,
   "metadata": {},
   "outputs": [],
   "source": []
  },
  {
   "cell_type": "code",
   "execution_count": null,
   "metadata": {},
   "outputs": [],
   "source": []
  },
  {
   "cell_type": "code",
   "execution_count": null,
   "metadata": {},
   "outputs": [],
   "source": []
  },
  {
   "cell_type": "code",
   "execution_count": null,
   "metadata": {},
   "outputs": [],
   "source": []
  }
 ],
 "metadata": {
  "kernelspec": {
   "display_name": "Python 3",
   "language": "python",
   "name": "python3"
  },
  "language_info": {
   "codemirror_mode": {
    "name": "ipython",
    "version": 3
   },
   "file_extension": ".py",
   "mimetype": "text/x-python",
   "name": "python",
   "nbconvert_exporter": "python",
   "pygments_lexer": "ipython3",
   "version": "3.6.5"
  }
 },
 "nbformat": 4,
 "nbformat_minor": 2
}
