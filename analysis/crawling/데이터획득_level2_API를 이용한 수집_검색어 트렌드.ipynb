{
 "cells": [
  {
   "cell_type": "markdown",
   "metadata": {},
   "source": [
    "## 데이터 획득\n",
    "\n",
    "* api 사용\n",
    "* naver open api를 활용\n",
    "* urllib.request 모듈을 사용하여 통신처리 후 JSON 파싱을 통한 데이터 추출"
   ]
  },
  {
   "cell_type": "code",
   "execution_count": 1,
   "metadata": {},
   "outputs": [],
   "source": [
    "import os\n",
    "import sys"
   ]
  },
  {
   "cell_type": "markdown",
   "metadata": {},
   "source": [
    "#### naver API 사용을 위한 키"
   ]
  },
  {
   "cell_type": "code",
   "execution_count": 3,
   "metadata": {},
   "outputs": [],
   "source": [
    "# https://developers.naver.com에서 Application 등록\n",
    "Client_ID = 'Mv8PSDo4c0gpuASKyVoU'\n",
    "Secret = 'Abej09hoFT'"
   ]
  },
  {
   "cell_type": "markdown",
   "metadata": {},
   "source": [
    "* 통신할 URL 정의\n",
    "* parameter 정의 (get/post 방식에 맞춰 구성)\n",
    "* header 위에서 정의한 키 및 응답 데이터 포맷에 대한 구성 추가\n",
    "* 통신 -> 응답 코드 확인 -> 200번인 경우(성공) -> 응답 데이터에서 json 데이터 획득\n",
    "* json 데이터에서 [가공 및 전처리는 일단 배제] 데이터 적재 (csv or xls or database)"
   ]
  },
  {
   "cell_type": "code",
   "execution_count": null,
   "metadata": {},
   "outputs": [],
   "source": [
    "# 네이버 통합 검색어 트렌드 조회\n",
    "# https://developers.naver.com/docs/datalab/search/#python"
   ]
  },
  {
   "cell_type": "code",
   "execution_count": 4,
   "metadata": {},
   "outputs": [
    {
     "data": {
      "text/plain": [
       "'https://openapi.naver.com/v1/datalab/search'"
      ]
     },
     "execution_count": 4,
     "metadata": {},
     "output_type": "execute_result"
    }
   ],
   "source": [
    "# 요청 url\n",
    "url = \"https://openapi.naver.com/v1/datalab/search\"\n",
    "url"
   ]
  },
  {
   "cell_type": "code",
   "execution_count": 5,
   "metadata": {},
   "outputs": [
    {
     "data": {
      "text/plain": [
       "'{\"startDate\":\"2019-07-09\",\"endDate\":\"2019-08-06\",\"timeUnit\":\"month\",\"keywordGroups\":[{\"groupName\":\"대한민국\",\"keywords\":[\"대한민국\",\"korean\"]},{\"groupName\":\"일본\",\"keywords\":[\"일본\",\"japan\"]}],\"device\":\"pc\",\"ages\":[\"3\",\"4\"],\"gender\":\"f\"}'"
      ]
     },
     "execution_count": 5,
     "metadata": {},
     "output_type": "execute_result"
    }
   ],
   "source": [
    "body = '{\"startDate\":\"2019-07-09\",\"endDate\":\"2019-08-06\",\"timeUnit\":\"month\",\"keywordGroups\":[{\"groupName\":\"대한민국\",\"keywords\":[\"대한민국\",\"korean\"]},{\"groupName\":\"일본\",\"keywords\":[\"일본\",\"japan\"]}],\"device\":\"pc\",\"ages\":[\"3\",\"4\"],\"gender\":\"f\"}';\n",
    "body"
   ]
  },
  {
   "cell_type": "code",
   "execution_count": 7,
   "metadata": {},
   "outputs": [],
   "source": [
    "# 통신\n",
    "import urllib.request\n",
    "# 통신 객체 생성\n",
    "request = urllib.request.Request(url)\n",
    "# 헤더 설정\n",
    "request.add_header(\"X-Naver-Client-Id\", Client_ID)\n",
    "request.add_header(\"X-Naver-Client-Secret\", Secret)\n",
    "request.add_header(\"Content-Type\",\"application/json\")"
   ]
  },
  {
   "cell_type": "code",
   "execution_count": 8,
   "metadata": {},
   "outputs": [
    {
     "data": {
      "text/plain": [
       "<urllib.request.Request at 0x194e4b6eeb8>"
      ]
     },
     "execution_count": 8,
     "metadata": {},
     "output_type": "execute_result"
    }
   ],
   "source": [
    "request"
   ]
  },
  {
   "cell_type": "code",
   "execution_count": 9,
   "metadata": {},
   "outputs": [],
   "source": [
    "# 실제 통신 : post 방식\n",
    "# 한글 데이터를 그대로 전송하면 오류 발생 -> body.encode('utf-8') 처리\n",
    "response = urllib.request.urlopen(request, data = body.encode('utf-8'))"
   ]
  },
  {
   "cell_type": "code",
   "execution_count": 10,
   "metadata": {},
   "outputs": [
    {
     "data": {
      "text/plain": [
       "<http.client.HTTPResponse at 0x194e4a9ae10>"
      ]
     },
     "execution_count": 10,
     "metadata": {},
     "output_type": "execute_result"
    }
   ],
   "source": [
    "response"
   ]
  },
  {
   "cell_type": "code",
   "execution_count": 11,
   "metadata": {},
   "outputs": [
    {
     "name": "stdout",
     "output_type": "stream",
     "text": [
      "{\"startDate\":\"2019-07-01\",\"endDate\":\"2019-08-11\",\"timeUnit\":\"month\",\"results\":[{\"title\":\"대한민국\",\"keywords\":[\"대한민국\",\"korean\"],\"data\":[{\"period\":\"2019-07-01\",\"ratio\":17.93314},{\"period\":\"2019-08-01\",\"ratio\":6.47846}]},{\"title\":\"일본\",\"keywords\":[\"일본\",\"japan\"],\"data\":[{\"period\":\"2019-07-01\",\"ratio\":100},{\"period\":\"2019-08-01\",\"ratio\":41.74386}]}]}\n"
     ]
    }
   ],
   "source": [
    "# 응답 코드가 정상이면\n",
    "rescode = response.getcode()\n",
    "if(rescode == 200) :\n",
    "    # 실제 응답 데이터를 획득\n",
    "    response_body = response.read()\n",
    "    print(response_body.decode('utf-8'))\n",
    "else :\n",
    "    print(\"Error Code : \" + rescode)"
   ]
  },
  {
   "cell_type": "code",
   "execution_count": 12,
   "metadata": {},
   "outputs": [
    {
     "data": {
      "text/plain": [
       "b'{\"startDate\":\"2019-07-01\",\"endDate\":\"2019-08-11\",\"timeUnit\":\"month\",\"results\":[{\"title\":\"\\xeb\\x8c\\x80\\xed\\x95\\x9c\\xeb\\xaf\\xbc\\xea\\xb5\\xad\",\"keywords\":[\"\\xeb\\x8c\\x80\\xed\\x95\\x9c\\xeb\\xaf\\xbc\\xea\\xb5\\xad\",\"korean\"],\"data\":[{\"period\":\"2019-07-01\",\"ratio\":17.93314},{\"period\":\"2019-08-01\",\"ratio\":6.47846}]},{\"title\":\"\\xec\\x9d\\xbc\\xeb\\xb3\\xb8\",\"keywords\":[\"\\xec\\x9d\\xbc\\xeb\\xb3\\xb8\",\"japan\"],\"data\":[{\"period\":\"2019-07-01\",\"ratio\":100},{\"period\":\"2019-08-01\",\"ratio\":41.74386}]}]}'"
      ]
     },
     "execution_count": 12,
     "metadata": {},
     "output_type": "execute_result"
    }
   ],
   "source": [
    "response_body"
   ]
  },
  {
   "cell_type": "code",
   "execution_count": null,
   "metadata": {},
   "outputs": [],
   "source": []
  },
  {
   "cell_type": "code",
   "execution_count": null,
   "metadata": {},
   "outputs": [],
   "source": []
  },
  {
   "cell_type": "code",
   "execution_count": null,
   "metadata": {},
   "outputs": [],
   "source": []
  },
  {
   "cell_type": "code",
   "execution_count": null,
   "metadata": {},
   "outputs": [],
   "source": []
  },
  {
   "cell_type": "code",
   "execution_count": null,
   "metadata": {},
   "outputs": [],
   "source": []
  },
  {
   "cell_type": "code",
   "execution_count": null,
   "metadata": {},
   "outputs": [],
   "source": []
  },
  {
   "cell_type": "code",
   "execution_count": null,
   "metadata": {},
   "outputs": [],
   "source": []
  },
  {
   "cell_type": "code",
   "execution_count": null,
   "metadata": {},
   "outputs": [],
   "source": []
  },
  {
   "cell_type": "code",
   "execution_count": null,
   "metadata": {},
   "outputs": [],
   "source": []
  },
  {
   "cell_type": "code",
   "execution_count": null,
   "metadata": {},
   "outputs": [],
   "source": []
  },
  {
   "cell_type": "code",
   "execution_count": null,
   "metadata": {},
   "outputs": [],
   "source": []
  },
  {
   "cell_type": "code",
   "execution_count": null,
   "metadata": {},
   "outputs": [],
   "source": []
  }
 ],
 "metadata": {
  "kernelspec": {
   "display_name": "Python 3",
   "language": "python",
   "name": "python3"
  },
  "language_info": {
   "codemirror_mode": {
    "name": "ipython",
    "version": 3
   },
   "file_extension": ".py",
   "mimetype": "text/x-python",
   "name": "python",
   "nbconvert_exporter": "python",
   "pygments_lexer": "ipython3",
   "version": "3.6.5"
  }
 },
 "nbformat": 4,
 "nbformat_minor": 2
}
