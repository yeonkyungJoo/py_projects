{
 "cells": [
  {
   "cell_type": "markdown",
   "metadata": {},
   "source": [
    "## Crawling 1\n",
    "- 유튜브를 크롤링하여 데이터 획득\n",
    "- 크롤링을 해야 하는 이유 : 유튜브 자체가 ajax를 이용한 방식이므로 사람의 손길이 필요한 사이트  \n",
    "  \n",
    "- 일반적인 html 자체에는 자체 정의 태그들을 혼용 -> Angualr js를 부분사용했다고 판단된다.\n",
    "- 일반적인 css selector의 규칙 중에 id 규칙(문서 내에 고유하다)을 무시하므로 사용 시 주의가 필요\n",
    "- 데이터 로드는 ajax를 통해서 사용자가 스크롤링을 해서 리스트의 끝에 도달할 때 더보기로 처리되므로, 전체 데이터를 수집하기 위해서는 js를 가동시켜야 한다\n",
    "- 라이브러리는 selenium을 사용 : 웹 브라우저를 컨트롤하여 웹 UI를 Automation 하는 도구 중의 하나  \n",
    "> https://www.seleniumhq.org/\n",
    "-> Download  \n",
    "- 웹 드라이버(여기서는 Chrome을 사용)\n",
    "> https://sites.google.com/a/chromium.org/chromedriver/downloads  \n",
    "> 최신 버전이 적용 안 되거나 버그가 있는 기능이 있으므로, 안 되면 버전을 내려가면서 사용한다  \n",
    "- API-DOCs\n",
    "> https://seleniumhq.github.io/selenium/docs/api/py/index.html  \n",
    "> https://selenium-python.readthedocs.io/  \n",
    "- install  \n",
    "> conda install selenium  \n",
    "> or  \n",
    "> pip install selenium  "
   ]
  },
  {
   "cell_type": "code",
   "execution_count": 46,
   "metadata": {},
   "outputs": [],
   "source": [
    "from selenium import webdriver as wd"
   ]
  },
  {
   "cell_type": "code",
   "execution_count": 47,
   "metadata": {},
   "outputs": [],
   "source": [
    "import urllib"
   ]
  },
  {
   "cell_type": "code",
   "execution_count": 48,
   "metadata": {},
   "outputs": [
    {
     "data": {
      "text/plain": [
       "'https://www.youtube.com/results?search_query={}&sp=EgIIAg%253D%253D'"
      ]
     },
     "execution_count": 48,
     "metadata": {},
     "output_type": "execute_result"
    }
   ],
   "source": [
    "# 업로드순 정렬, 오늘(현재 기준 24시간 이내 게시물)\n",
    "target_url = 'https://www.youtube.com/results?search_query={}&sp=EgIIAg%253D%253D'\n",
    "target_url"
   ]
  },
  {
   "cell_type": "code",
   "execution_count": 49,
   "metadata": {},
   "outputs": [],
   "source": [
    "keyword = '갤럭시노트 10'"
   ]
  },
  {
   "cell_type": "code",
   "execution_count": 50,
   "metadata": {},
   "outputs": [
    {
     "data": {
      "text/plain": [
       "'https://www.youtube.com/results?search_query=%EA%B0%A4%EB%9F%AD%EC%8B%9C%EB%85%B8%ED%8A%B8%2010&sp=EgIIAg%253D%253D'"
      ]
     },
     "execution_count": 50,
     "metadata": {},
     "output_type": "execute_result"
    }
   ],
   "source": [
    "target_url = target_url.format(urllib.parse.quote(keyword))\n",
    "target_url"
   ]
  },
  {
   "cell_type": "code",
   "execution_count": 51,
   "metadata": {},
   "outputs": [],
   "source": [
    "# 웹 드라이버\n",
    "driver = wd.Chrome('../tool/chromedriver.exe')"
   ]
  },
  {
   "cell_type": "code",
   "execution_count": 52,
   "metadata": {},
   "outputs": [],
   "source": [
    "# 사이트 접속\n",
    "driver.get(target_url)"
   ]
  },
  {
   "cell_type": "code",
   "execution_count": 53,
   "metadata": {},
   "outputs": [],
   "source": [
    "# 스크롤을 쳐서 데이터를 다 로드시킨다\n",
    "# 데이터량이 엄청 많지 않을 때 가능\n",
    "# ajax를 사용할 경우, '서버가 반응해서 응답이 오고 화면을 구성할 때까지' 시간이 걸린다\n",
    "# -> 스크롤마다 대기시간이 필요\n",
    "# https://selenium-python.readthedocs.io/waits.html\n",
    "import time\n",
    "for i in range(3) :\n",
    "    driver.execute_script('window.scrollBy(0, 1000)')\n",
    "    # 다음 작업을 코드로 강제 대기시킨 것\n",
    "    # 데이터 추출 시에는 selenium에서 지원하는 waits 기법을 사용하면 좋다\n",
    "    time.sleep(2)"
   ]
  },
  {
   "cell_type": "code",
   "execution_count": 54,
   "metadata": {},
   "outputs": [],
   "source": [
    "# 영상 데이터 한 줄 : ytd-video-renderer\n",
    "# 영상 메타 정보 : #video-title"
   ]
  },
  {
   "cell_type": "code",
   "execution_count": 55,
   "metadata": {},
   "outputs": [
    {
     "data": {
      "text/plain": [
       "(40, list)"
      ]
     },
     "execution_count": 55,
     "metadata": {},
     "output_type": "execute_result"
    }
   ],
   "source": [
    "videos = driver.find_elements_by_tag_name('ytd-video-renderer')\n",
    "len(videos), type(videos)  # 튜플로 리턴"
   ]
  },
  {
   "cell_type": "code",
   "execution_count": 56,
   "metadata": {},
   "outputs": [
    {
     "name": "stdout",
     "output_type": "stream",
     "text": [
      "갤럭시 노트10 VS 노트 10+(플러스) 무엇을 사야할까?\n",
      "https://i.ytimg.com/vi/roVed-6njCE/hqdefault.jpg?sqp=-oaymwEZCPYBEIoBSFXyq4qpAwsIARUAAIhCGAFwAQ==&rs=AOn4CLCSrKNWv4WHkHP7gWUyb6vMRN1o5Q\n",
      "https://www.youtube.com/watch?v=roVed-6njCE\n",
      "기똥찬 똥찬 Amazing ddongchan\n",
      "조회수 510회\n",
      "2시간 전\n",
      "갤럭시 노트 10 플러스 개봉기! 신기능 줌인 마이크 & 에어 모션 확인해봐요!\n",
      "https://i.ytimg.com/vi/nZrTONlguW8/hqdefault.jpg?sqp=-oaymwEZCPYBEIoBSFXyq4qpAwsIARUAAIhCGAFwAQ==&rs=AOn4CLCTQbYo0FB8drz84rvOgYn44ZUrZQ\n",
      "https://www.youtube.com/watch?v=nZrTONlguW8\n",
      "뻘짓연구소\n",
      "조회수 8.8천회\n",
      "18시간 전\n"
     ]
    }
   ],
   "source": [
    "# driver.find_element_by_( )\n",
    "# 속성의 값은 get_attribute()로 획득\n",
    "\n",
    "for video in videos[:2] :      # (데이터가 너무 많아서 슬라이싱)\n",
    "    # 영상 타이틀\n",
    "    print(video.find_element_by_id('video-title').get_attribute('title'))\n",
    "    # 썸네일\n",
    "    print(video.find_element_by_tag_name('img').get_attribute('src'))\n",
    "    # 링크\n",
    "    print(video.find_element_by_id('video-title').get_attribute('href'))\n",
    "    # 작성자\n",
    "    print(video.find_element_by_css_selector('#byline>a').text)\n",
    "    # 조회수, 작성시간 : metadata-line>span\n",
    "    for span in video.find_elements_by_css_selector('#metadata-line>span') :\n",
    "        print(span.text)"
   ]
  },
  {
   "cell_type": "code",
   "execution_count": 57,
   "metadata": {},
   "outputs": [
    {
     "data": {
      "text/plain": [
       "\"\\n[\\n    {'title' : 'xx', 'thum' : 'xx', 'link' : 'xx', 'author' : 'xx', 'views' : 'xx', 'time' : '' },\\n    {},\\n    {},\\n    ,,,\\n]\\n\""
      ]
     },
     "execution_count": 57,
     "metadata": {},
     "output_type": "execute_result"
    }
   ],
   "source": [
    "'''\n",
    "[\n",
    "    {'title' : 'xx', 'thum' : 'xx', 'link' : 'xx', 'author' : 'xx', 'views' : 'xx', 'time' : '' },\n",
    "    {},\n",
    "    {},\n",
    "    ,,,\n",
    "]\n",
    "'''"
   ]
  },
  {
   "cell_type": "code",
   "execution_count": 58,
   "metadata": {},
   "outputs": [
    {
     "data": {
      "text/plain": [
       "[{'title': '갤럭시 노트10 VS 노트 10+(플러스) 무엇을 사야할까?',\n",
       "  'thum': 'https://i.ytimg.com/vi/roVed-6njCE/hqdefault.jpg?sqp=-oaymwEZCPYBEIoBSFXyq4qpAwsIARUAAIhCGAFwAQ==&rs=AOn4CLCSrKNWv4WHkHP7gWUyb6vMRN1o5Q',\n",
       "  'link': 'https://www.youtube.com/watch?v=roVed-6njCE',\n",
       "  'author': '기똥찬 똥찬 Amazing ddongchan',\n",
       "  'views': '조회수 510회',\n",
       "  'time': '2시간 전'},\n",
       " {'title': '갤럭시 노트 10 플러스 개봉기! 신기능 줌인 마이크 & 에어 모션 확인해봐요!',\n",
       "  'thum': 'https://i.ytimg.com/vi/nZrTONlguW8/hqdefault.jpg?sqp=-oaymwEZCPYBEIoBSFXyq4qpAwsIARUAAIhCGAFwAQ==&rs=AOn4CLCTQbYo0FB8drz84rvOgYn44ZUrZQ',\n",
       "  'link': 'https://www.youtube.com/watch?v=nZrTONlguW8',\n",
       "  'author': '뻘짓연구소',\n",
       "  'views': '조회수 8.8천회',\n",
       "  'time': '18시간 전'},\n",
       " {'title': '(광고NO) 갤럭시노트10 사전예약 할까? 아니면 저렴한 노트9을 구매할까? 구매전 필수 체크리스트',\n",
       "  'thum': 'https://i.ytimg.com/vi/npSRat7apZM/hqdefault.jpg?sqp=-oaymwEZCPYBEIoBSFXyq4qpAwsIARUAAIhCGAFwAQ==&rs=AOn4CLCKnBCmjvYFfSTw6yb-9d7qxNZPKg',\n",
       "  'link': 'https://www.youtube.com/watch?v=npSRat7apZM',\n",
       "  'author': '딴트공말방구 실험실',\n",
       "  'views': '조회수 4.6만회',\n",
       "  'time': '22시간 전'},\n",
       " {'title': '[전자랜드TV] 풋풋한 여대생들의 관점에서 리뷰해본 갤럭시노트10! 어떤 점이 달라졌을까? (feat.땡땡이)',\n",
       "  'thum': 'https://i.ytimg.com/vi/Se8Dc91cthE/hqdefault.jpg?sqp=-oaymwEZCPYBEIoBSFXyq4qpAwsIARUAAIhCGAFwAQ==&rs=AOn4CLCe_EeYRUEMkPjl11lCpzLiFjKPLw',\n",
       "  'link': 'https://www.youtube.com/watch?v=Se8Dc91cthE',\n",
       "  'author': '전자랜드TV',\n",
       "  'views': '조회수 243회',\n",
       "  'time': '4시간 전'},\n",
       " {'title': '갤럭시노트10 vs 노트10 plus 선택 고민해결, 차이점 비교 딱!',\n",
       "  'thum': 'https://i.ytimg.com/vi/gB02TyaUpHo/hqdefault.jpg?sqp=-oaymwEZCPYBEIoBSFXyq4qpAwsIARUAAIhCGAFwAQ==&rs=AOn4CLCzAfJPEL5BLGrI4D-TpH56DFb-HA',\n",
       "  'link': 'https://www.youtube.com/watch?v=gB02TyaUpHo',\n",
       "  'author': 'yongdoughTV 용도TV',\n",
       "  'views': '조회수 1.3천회',\n",
       "  'time': '10시간 전'},\n",
       " {'title': '갤럭시 노트10 삼성 직원도 모르는 그것들? 직접 확인해 보니... 헉!!',\n",
       "  'thum': 'https://i.ytimg.com/vi/fnVKuogAha4/hqdefault.jpg?sqp=-oaymwEZCPYBEIoBSFXyq4qpAwsIARUAAIhCGAFwAQ==&rs=AOn4CLCRIrw5JRejrXlP_oi_kXwzv1C3kQ',\n",
       "  'link': 'https://www.youtube.com/watch?v=fnVKuogAha4',\n",
       "  'author': '아이티카노테크몽',\n",
       "  'views': '조회수 1.4만회',\n",
       "  'time': '22시간 전'},\n",
       " {'title': '갤럭시노트10으로만 영상 찍어보았어요✌🏻(스마트폰 영상촬영 꿀템 공개)',\n",
       "  'thum': 'https://i.ytimg.com/vi/C2-1BcnEI80/hqdefault.jpg?sqp=-oaymwEZCPYBEIoBSFXyq4qpAwsIARUAAIhCGAFwAQ==&rs=AOn4CLDbfGISqbwDAASAi-Bc_7mI2Cu_cg',\n",
       "  'link': 'https://www.youtube.com/watch?v=C2-1BcnEI80',\n",
       "  'author': '가전주부 GJJB',\n",
       "  'views': '조회수 2.3만회',\n",
       "  'time': '18시간 전'},\n",
       " {'title': '갤럭시 노트10,10+ 외관 꼼꼼히 보기 [4K]',\n",
       "  'thum': 'https://i.ytimg.com/vi/J5j3q2Q34wE/hqdefault.jpg?sqp=-oaymwEZCPYBEIoBSFXyq4qpAwsIARUAAIhCGAFwAQ==&rs=AOn4CLCH2TRIxThziYZ3FTPf_ZA9WtNXPQ',\n",
       "  'link': 'https://www.youtube.com/watch?v=J5j3q2Q34wE',\n",
       "  'author': '아라리코리아',\n",
       "  'views': '조회수 74회',\n",
       "  'time': '2시간 전'},\n",
       " {'title': '삼성 갤럭시 노트 10 및 갤럭시 북 S 구입시 놓치면 안되는 19가지 사항들: \"형이 거기에서 왜 나와?\" 주간텤 2019 삼성 언팩 행사 호외편',\n",
       "  'thum': 'https://i.ytimg.com/vi/Nv4cSljEmN8/hqdefault.jpg?sqp=-oaymwEZCPYBEIoBSFXyq4qpAwsIARUAAIhCGAFwAQ==&rs=AOn4CLAnUjLINpWkNRwPxk5-OXzAo2m5Xg',\n",
       "  'link': 'https://www.youtube.com/watch?v=Nv4cSljEmN8',\n",
       "  'author': 'Tech Gear Cast',\n",
       "  'views': '조회수 1.7천회',\n",
       "  'time': '1일 전'},\n",
       " {'title': '실물깡패는 이런 거군요. 갤럭시노트10',\n",
       "  'thum': 'https://i.ytimg.com/vi/eN3HnSWoLf0/hqdefault.jpg?sqp=-oaymwEZCPYBEIoBSFXyq4qpAwsIARUAAIhCGAFwAQ==&rs=AOn4CLC7LIs8_k-W7G9qX9GJ4Hm1igQAtQ',\n",
       "  'link': 'https://www.youtube.com/watch?v=eN3HnSWoLf0',\n",
       "  'author': 'TALKSUNNY ・ 톡써니',\n",
       "  'views': '조회수 2.6천회',\n",
       "  'time': '17시간 전'},\n",
       " {'title': '갤럭시 노트10 출시전 루머와 실제 정식 출시 후 적중률 공개',\n",
       "  'thum': 'https://i.ytimg.com/vi/TPBMEqSQzkM/hqdefault.jpg?sqp=-oaymwEZCNACELwBSFXyq4qpAwsIARUAAIhCGAFwAQ==&rs=AOn4CLCxyfLJr8FT_Rv6cWpimzo4Ur6XvQ',\n",
       "  'link': 'https://www.youtube.com/watch?v=TPBMEqSQzkM',\n",
       "  'author': '만능혁키',\n",
       "  'views': '조회수 851회',\n",
       "  'time': '17시간 전'},\n",
       " {'title': '갤럭시노트10 vs 노트10 플러스 어떤 걸 사야해요? 사전예약을 위한 나에게 맞는 색상, 용량 고르는 꿀팁',\n",
       "  'thum': 'https://i.ytimg.com/vi/XeWXGrjn3kY/hqdefault.jpg?sqp=-oaymwEZCNACELwBSFXyq4qpAwsIARUAAIhCGAFwAQ==&rs=AOn4CLBzYVtcfoByD4Bvhd_La0wUVT6gUA',\n",
       "  'link': 'https://www.youtube.com/watch?v=XeWXGrjn3kY',\n",
       "  'author': 'V.Yomi뷔요미',\n",
       "  'views': '조회수 3.4천회',\n",
       "  'time': '17시간 전'},\n",
       " {'title': '갤럭시노트10 공개!! 일본 네티즌의 예기치 반응!!',\n",
       "  'thum': 'https://i.ytimg.com/vi/nR5PvzDiqXM/hqdefault.jpg?sqp=-oaymwEZCNACELwBSFXyq4qpAwsIARUAAIhCGAFwAQ==&rs=AOn4CLDm1vXy0jyb-emqB2LoU5blITCucQ',\n",
       "  'link': 'https://www.youtube.com/watch?v=nR5PvzDiqXM',\n",
       "  'author': 'moviebuf93',\n",
       "  'views': '조회수 115회',\n",
       "  'time': '1시간 전'},\n",
       " {'title': '갤럭시노트10/10+ 사전예약 전 꼭 보세요ㅣ노트10 & 최신 스마트폰  저렴하게 구입하기 & 5G 기기에서 LTE요금제 사용하기',\n",
       "  'thum': 'https://i.ytimg.com/vi/pyn3E746a1g/hqdefault.jpg?sqp=-oaymwEZCNACELwBSFXyq4qpAwsIARUAAIhCGAFwAQ==&rs=AOn4CLAB6EEZ1idCkbsCsT4K7w4DRQwMQQ',\n",
       "  'link': 'https://www.youtube.com/watch?v=pyn3E746a1g',\n",
       "  'author': '사고보니',\n",
       "  'views': '조회수 8.1천회',\n",
       "  'time': '22시간 전'},\n",
       " {'title': '[노트10 뽀개기] 이게 바로 베젤리스다! 노트10. 노트10+ 탈탈 털어보기',\n",
       "  'thum': 'https://i.ytimg.com/vi/mQJ6jE1J2-8/hqdefault.jpg?sqp=-oaymwEZCNACELwBSFXyq4qpAwsIARUAAIhCGAFwAQ==&rs=AOn4CLCUaYzpgAdSOzeP-akcN2SqJcbdBw',\n",
       "  'link': 'https://www.youtube.com/watch?v=mQJ6jE1J2-8',\n",
       "  'author': '뽀기자',\n",
       "  'views': '조회수 615회',\n",
       "  'time': '17시간 전'},\n",
       " {'title': '갤럭시노트10/10+ 이어폰잭이 사라진 이유 & 알려지지 않은 또 하나의 특징 ㅣ 갤럭시 S10 5G와 비교하기',\n",
       "  'thum': 'https://i.ytimg.com/vi/OonGMAJQ7tA/hqdefault.jpg?sqp=-oaymwEZCNACELwBSFXyq4qpAwsIARUAAIhCGAFwAQ==&rs=AOn4CLClvoG7m-x1vexTWUKejzKzyWczHA',\n",
       "  'link': 'https://www.youtube.com/watch?v=OonGMAJQ7tA',\n",
       "  'author': '사고보니',\n",
       "  'views': '조회수 2.4천회',\n",
       "  'time': '5시간 전'},\n",
       " {'title': '갤럭시노트10사기전 S10 다시 복습! 진짜 좋은점 하나 나쁜점 하나',\n",
       "  'thum': 'https://i.ytimg.com/vi/o7egyQXkjpg/hqdefault.jpg?sqp=-oaymwEZCNACELwBSFXyq4qpAwsIARUAAIhCGAFwAQ==&rs=AOn4CLCG6yhE-2uJCW7zE8t1T_5ewxaIhQ',\n",
       "  'link': 'https://www.youtube.com/watch?v=o7egyQXkjpg',\n",
       "  'author': '누나IT',\n",
       "  'views': '조회수 1.1천회',\n",
       "  'time': '20시간 전'},\n",
       " {'title': '갤럭시 노트10 실사용 리뷰!! 펜 기능 실화냐??',\n",
       "  'thum': 'https://i.ytimg.com/vi/AzSaVD938Ng/hqdefault.jpg?sqp=-oaymwEZCNACELwBSFXyq4qpAwsIARUAAIhCGAFwAQ==&rs=AOn4CLB0jL-XFKrfE_7vNBGD5jTbjl03-Q',\n",
       "  'link': 'https://www.youtube.com/watch?v=AzSaVD938Ng',\n",
       "  'author': '짐성TV',\n",
       "  'views': '조회수 2회',\n",
       "  'time': '2시간 전'},\n",
       " {'title': '갤럭시노트10 실사용리뷰 1분 하이라이트',\n",
       "  'thum': 'https://i.ytimg.com/vi/Ek6CAaDZ5cI/hqdefault.jpg?sqp=-oaymwEZCNACELwBSFXyq4qpAwsIARUAAIhCGAFwAQ==&rs=AOn4CLAp1Hqa_D-SGLFixPW459ZcCstevw',\n",
       "  'link': 'https://www.youtube.com/watch?v=Ek6CAaDZ5cI',\n",
       "  'author': '아담스아답터',\n",
       "  'views': '조회수 90회',\n",
       "  'time': '20시간 전'},\n",
       " {'title': '갤럭시노트10 사전예약 사은품과 진행현황',\n",
       "  'thum': 'https://i.ytimg.com/vi/8aaWj8ikoCc/hqdefault.jpg?sqp=-oaymwEZCNACELwBSFXyq4qpAwsIARUAAIhCGAFwAQ==&rs=AOn4CLDLcw5MZrNMFn8_p7I67VjP5xbTwQ',\n",
       "  'link': 'https://www.youtube.com/watch?v=8aaWj8ikoCc',\n",
       "  'author': 'jh모바일TV',\n",
       "  'views': '조회수 448회',\n",
       "  'time': '스트리밍 시간: 40분 전'},\n",
       " {'title': '갤럭시 노트 10 실물 느낌 보기 - 공식 핸즈온 영상',\n",
       "  'thum': 'https://i.ytimg.com/vi/JPjbyNV8kYg/hqdefault.jpg?sqp=-oaymwEZCNACELwBSFXyq4qpAwsIARUAAIhCGAFwAQ==&rs=AOn4CLAi2gTikWEL7028T8vqxMz69aY3vQ',\n",
       "  'link': 'https://www.youtube.com/watch?v=JPjbyNV8kYg',\n",
       "  'author': 'YEO',\n",
       "  'views': '조회수 3.6천회',\n",
       "  'time': '19시간 전'},\n",
       " {'title': '갤럭시노트10 플러스 배터리는 얼마나 갈까? (노트8, 9와 끝장비교) 서드파티로 45W충전 가능할까?',\n",
       "  'thum': 'https://i.ytimg.com/vi/O7i7kQa4ZtQ/hqdefault.jpg?sqp=-oaymwEZCNACELwBSFXyq4qpAwsIARUAAIhCGAFwAQ==&rs=AOn4CLDCQ1Ef8YPBJko3YQJlfTGxueXrlQ',\n",
       "  'link': 'https://www.youtube.com/watch?v=O7i7kQa4ZtQ',\n",
       "  'author': '까진리뷰 코예커플IT',\n",
       "  'views': '조회수 1.2천회',\n",
       "  'time': '4시간 전'},\n",
       " {'title': '갤노트10 꼴뚜기로 만든 갤노트10 플러스, 양심 불량?',\n",
       "  'thum': 'https://i.ytimg.com/vi/ePJQyDq5e8M/hqdefault.jpg?sqp=-oaymwEZCNACELwBSFXyq4qpAwsIARUAAIhCGAFwAQ==&rs=AOn4CLCjodaOvCEtP84-MS9VX7tR7kCL2A',\n",
       "  'link': 'https://www.youtube.com/watch?v=ePJQyDq5e8M',\n",
       "  'author': '맥가이버',\n",
       "  'views': '조회수 1.1만회',\n",
       "  'time': '21시간 전'},\n",
       " {'title': \"'갤럭시노트10'과 보낸 1박2일…오징어된 내 최신폰 / TMI특공대\",\n",
       "  'thum': None,\n",
       "  'link': 'https://www.youtube.com/watch?v=8GAiGIiOs_0',\n",
       "  'author': '한국경제TV',\n",
       "  'views': '조회수 2.6천회',\n",
       "  'time': '21시간 전'},\n",
       " {'title': '갤럭시노트10 40만원정도로 구매가능?! 사전예약인데?!',\n",
       "  'thum': None,\n",
       "  'link': 'https://www.youtube.com/watch?v=ModVkbz1qQM',\n",
       "  'author': '[ 지식남 ] _ 궁금증을 해결해 드립니다',\n",
       "  'views': '조회수 193회',\n",
       "  'time': '3시간 전'},\n",
       " {'title': '이통사, \\'갤노트 10\\' 사전예약 \\'순항\\'…\"10명 중 7명 노트+ 찾아\"',\n",
       "  'thum': None,\n",
       "  'link': 'https://www.youtube.com/watch?v=lOESng6GrFI',\n",
       "  'author': 'Becky Robertson',\n",
       "  'views': '조회수 9회',\n",
       "  'time': '2시간 전'},\n",
       " {'title': '노트 시리즈 골수팬으로서 갤럭시 노트 10 가장 아쉬운 점 2가지',\n",
       "  'thum': None,\n",
       "  'link': 'https://www.youtube.com/watch?v=bVcUmqDpVOM',\n",
       "  'author': 'HBWD',\n",
       "  'views': '조회수 91회',\n",
       "  'time': '19시간 전'},\n",
       " {'title': '노트 10이 온다! / Samsung Galaxy Note10 [스나이퍼가 간다]',\n",
       "  'thum': None,\n",
       "  'link': 'https://www.youtube.com/watch?v=3nGG7VEX7O8',\n",
       "  'author': '스나이퍼TV',\n",
       "  'views': '조회수 214회',\n",
       "  'time': '19시간 전'},\n",
       " {'title': '갤럭시 노트10 아우라 글로우 실물 영상',\n",
       "  'thum': None,\n",
       "  'link': 'https://www.youtube.com/watch?v=9NFsTafPxtU',\n",
       "  'author': 'Blue topaz',\n",
       "  'views': '조회수 408회',\n",
       "  'time': '1일 전'},\n",
       " {'title': '갤럭시노트10 구매시 알아야하는 제일 중요한 5G요금제 !!  무제한요금제 반값!!',\n",
       "  'thum': None,\n",
       "  'link': 'https://www.youtube.com/watch?v=rmUhKXPOoGs',\n",
       "  'author': 'know how',\n",
       "  'views': '조회수 1.4천회',\n",
       "  'time': '23시간 전'},\n",
       " {'title': '갤럭시노트10 광고영상 Official TVC 역대급 신작 갤노트10!!!',\n",
       "  'thum': None,\n",
       "  'link': 'https://www.youtube.com/watch?v=-sYQsEFXg6g',\n",
       "  'author': 'DieMeister',\n",
       "  'views': '조회수 158회',\n",
       "  'time': '20시간 전'},\n",
       " {'title': '[울트라TV] 갤럭시노트10+ 실기 둘러보기!!│이미 3주 전에 찍어놓은 노트텐뿔',\n",
       "  'thum': None,\n",
       "  'link': 'https://www.youtube.com/watch?v=VONURufANrg',\n",
       "  'author': '울트라비니군',\n",
       "  'views': '조회수 756회',\n",
       "  'time': '19시간 전'},\n",
       " {'title': '삼성 갤럭시 노트10+ 바뀐점 리뷰 [이기상TV]',\n",
       "  'thum': None,\n",
       "  'link': 'https://www.youtube.com/watch?v=T5RSiq0HKSI',\n",
       "  'author': '이기상TV',\n",
       "  'views': '조회수 없음',\n",
       "  'time': '3시간 전'},\n",
       " {'title': '역대급 대화면 삼성 갤럭시 노트10 + 실제로 보고 느낀점',\n",
       "  'thum': None,\n",
       "  'link': 'https://www.youtube.com/watch?v=Cq-MrmVo6E8',\n",
       "  'author': 'seeweb TV',\n",
       "  'views': '조회수 107회',\n",
       "  'time': '22시간 전'},\n",
       " {'title': '삼성, IT글로벌시대! 드디어 공개 된 갤럭시노트10, 혁신의 정점...일본 놀라 뒤집어지다!',\n",
       "  'thum': None,\n",
       "  'link': 'https://www.youtube.com/watch?v=CnafOiwr9Zw',\n",
       "  'author': 'Match U',\n",
       "  'views': '조회수 440회',\n",
       "  'time': '20시간 전'},\n",
       " {'title': '갤럭시노트10 사전예약 시작 / 어떻게 사야 잘샀다고 소문이 날까? / 어디서 대란의 냄새가',\n",
       "  'thum': None,\n",
       "  'link': 'https://www.youtube.com/watch?v=lLJkuzcj8QQ',\n",
       "  'author': '티비오미닛',\n",
       "  'views': '조회수 927회',\n",
       "  'time': '19시간 전'},\n",
       " {'title': '갤럭시 노트10  소개영상',\n",
       "  'thum': None,\n",
       "  'link': 'https://www.youtube.com/watch?v=Ws97CJAAqFc',\n",
       "  'author': \"TV 먹's\",\n",
       "  'views': '조회수 1회',\n",
       "  'time': '20시간 전'},\n",
       " {'title': '갤럭시 노트10, 10+ 실물 느낌',\n",
       "  'thum': None,\n",
       "  'link': 'https://www.youtube.com/watch?v=uN1edNqdKnY',\n",
       "  'author': '막장아빠 5분컷',\n",
       "  'views': '조회수 92회',\n",
       "  'time': '20시간 전'},\n",
       " {'title': '사실은..나 컴퓨터야! 갤럭시노트10 DEX(덱스) 75인치 TV 연결했어요 (galaxynote10 dex 75inch tv)',\n",
       "  'thum': None,\n",
       "  'link': 'https://www.youtube.com/watch?v=U8J2eNAbG44',\n",
       "  'author': '리더유',\n",
       "  'views': '조회수 1.2천회',\n",
       "  'time': '21시간 전'},\n",
       " {'title': '갤럭시 노트10 아우라 핑크 실물 영상',\n",
       "  'thum': None,\n",
       "  'link': 'https://www.youtube.com/watch?v=3geDbM4zoVI',\n",
       "  'author': 'Blue topaz',\n",
       "  'views': '조회수 81회',\n",
       "  'time': '19시간 전'}]"
      ]
     },
     "execution_count": 58,
     "metadata": {},
     "output_type": "execute_result"
    }
   ],
   "source": [
    "results = []\n",
    "for video in videos :\n",
    "    dic = {\n",
    "        'title' : video.find_element_by_id('video-title').get_attribute('title'),\n",
    "        'thum' : video.find_element_by_tag_name('img').get_attribute('src'),\n",
    "        'link' : video.find_element_by_id('video-title').get_attribute('href'),\n",
    "        'author' : video.find_element_by_css_selector('#byline>a').text,\n",
    "        'views' : video.find_elements_by_css_selector('#metadata-line>span')[0].text,\n",
    "        'time' : video.find_elements_by_css_selector('#metadata-line>span')[1].text\n",
    "    }\n",
    "    results.append(dic)\n",
    "results"
   ]
  },
  {
   "cell_type": "code",
   "execution_count": 61,
   "metadata": {},
   "outputs": [
    {
     "name": "stdout",
     "output_type": "stream",
     "text": [
      "https://www.youtube.com/watch?v=roVed-6njCE\n",
      "\n",
      "조회수 570회\n",
      "--------------------\n",
      "털이네온도니\n",
      "1시간 전\n",
      "무조건 플러스죠 .. 이번엔 더 심하게 플러스 사라는뜻인지 그냥 노트10은 해상도 충전속도 등 빠진게 너무많아요\n",
      "2\n",
      "답글\n",
      "--------------------\n",
      "공휴일궤\n",
      "19분 전(수정됨)\n",
      "전 실제로 만져보고..\n",
      "그립감,무게,휴대성에서 압도적으로 좋은 노트10 주문했습니다.\n",
      "휴대폰은 역시 휴대폰답게 휴대하기 좋아야 하니까요.\n",
      "개인적으로 이전 노트시리즈는 너무 커서 안 샀었는데..\n",
      "이번에는 작고 가벼운 것도 나와서 너무 좋네요~\n",
      "자세히 보기\n",
      "1\n",
      "답글\n",
      "--------------------\n",
      "정보원\n",
      "2시간 전\n",
      "홍보해주겠다는데 돈받고 해주는사람 천지고마는 그걸 못찍게하노 어이그 덜된기라\n",
      "1\n",
      "답글\n",
      "--------------------\n"
     ]
    }
   ],
   "source": [
    "for result in results[:1] :\n",
    "    print(result['link'])\n",
    "    # 해당 콘텐츠에 진입\n",
    "    driver.get(result['link'])\n",
    "    # 잠시 대기 -> 반드시 신규페이지에서는 대기\n",
    "    driver.implicitly_wait(5)\n",
    "    # 화면 스크롤\n",
    "    for i in range(3) :\n",
    "        driver.execute_script('window.scrollBy(0,1000)')\n",
    "    time.sleep(5)\n",
    "    # 후기 개수 확인 -> 적정선까지 로드\n",
    "    for cnt in driver.find_elements_by_id('count') :\n",
    "        print(cnt.text)\n",
    "    print('-'*20)\n",
    "    # 후기 채집 (작성자, 내용, 좋아요, 시간)\n",
    "    for comment in driver.find_elements_by_tag_name('ytd-comment-thread-renderer') :\n",
    "        print(comment.text)\n",
    "        print('-'*20)"
   ]
  },
  {
   "cell_type": "code",
   "execution_count": 62,
   "metadata": {},
   "outputs": [
    {
     "data": {
      "text/plain": [
       "('39,529', '362')"
      ]
     },
     "execution_count": 62,
     "metadata": {},
     "output_type": "execute_result"
    }
   ],
   "source": [
    "# 한글명은 동일하게 세팅되니까, replace로 걷어내는 방법\n",
    "# 정규식을 통해서 숫자만 남기고 모두 제거\n",
    "tmp = ['조회수 39,529회', '댓글 362개']\n",
    "tmp[0].replace('조회수 ', '').replace('회', ''), tmp[1].replace('댓글 ','').replace('개','')"
   ]
  },
  {
   "cell_type": "code",
   "execution_count": 63,
   "metadata": {},
   "outputs": [],
   "source": [
    "driver.close()\n",
    "driver.quit()"
   ]
  },
  {
   "cell_type": "code",
   "execution_count": null,
   "metadata": {},
   "outputs": [],
   "source": [
    "# sys.exit()"
   ]
  },
  {
   "cell_type": "code",
   "execution_count": null,
   "metadata": {},
   "outputs": [],
   "source": []
  },
  {
   "cell_type": "code",
   "execution_count": null,
   "metadata": {},
   "outputs": [],
   "source": []
  }
 ],
 "metadata": {
  "kernelspec": {
   "display_name": "Python 3",
   "language": "python",
   "name": "python3"
  },
  "language_info": {
   "codemirror_mode": {
    "name": "ipython",
    "version": 3
   },
   "file_extension": ".py",
   "mimetype": "text/x-python",
   "name": "python",
   "nbconvert_exporter": "python",
   "pygments_lexer": "ipython3",
   "version": "3.6.5"
  }
 },
 "nbformat": 4,
 "nbformat_minor": 2
}
