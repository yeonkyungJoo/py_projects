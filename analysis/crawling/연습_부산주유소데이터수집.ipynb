{
 "cells": [
  {
   "cell_type": "markdown",
   "metadata": {},
   "source": [
    "## 부산 전 지역 주유소 데이터 수집"
   ]
  },
  {
   "cell_type": "code",
   "execution_count": 2,
   "metadata": {},
   "outputs": [],
   "source": [
    "from selenium import webdriver as wd\n",
    "import urllib"
   ]
  },
  {
   "cell_type": "code",
   "execution_count": 3,
   "metadata": {},
   "outputs": [],
   "source": [
    "target_url = 'http://www.opinet.co.kr/searRgSelect.do'"
   ]
  },
  {
   "cell_type": "code",
   "execution_count": 4,
   "metadata": {},
   "outputs": [],
   "source": [
    "driver = wd.Chrome('../tool/chromedriver.exe')"
   ]
  },
  {
   "cell_type": "code",
   "execution_count": 5,
   "metadata": {},
   "outputs": [],
   "source": [
    "driver.get(target_url)"
   ]
  },
  {
   "cell_type": "code",
   "execution_count": 6,
   "metadata": {},
   "outputs": [],
   "source": [
    "import time\n",
    "time.sleep(5)"
   ]
  },
  {
   "cell_type": "code",
   "execution_count": 7,
   "metadata": {},
   "outputs": [],
   "source": [
    "driver.get(target_url)"
   ]
  },
  {
   "cell_type": "code",
   "execution_count": 8,
   "metadata": {},
   "outputs": [],
   "source": [
    "# 시도 선택\n",
    "sido = driver.find_element_by_id('SIDO_NM0')\n",
    "sido.send_keys('부산광역시')"
   ]
  },
  {
   "cell_type": "code",
   "execution_count": 9,
   "metadata": {},
   "outputs": [],
   "source": [
    "# 시군구 확인\n",
    "sigungu = driver.find_element_by_id('SIGUNGU_NM0')\n",
    "sigungus = []\n",
    "for option in driver.find_elements_by_css_selector('#SIGUNGU_NM0 > option') :\n",
    "    if option.get_attribute('value') :\n",
    "        sigungus.append(option.get_attribute('value'))"
   ]
  },
  {
   "cell_type": "code",
   "execution_count": 10,
   "metadata": {},
   "outputs": [
    {
     "data": {
      "text/plain": [
       "['강서구',\n",
       " '금정구',\n",
       " '기장군',\n",
       " '남구',\n",
       " '동구',\n",
       " '동래구',\n",
       " '부산진구',\n",
       " '북구',\n",
       " '사상구',\n",
       " '사하구',\n",
       " '서구',\n",
       " '수영구',\n",
       " '연제구',\n",
       " '영도구',\n",
       " '중구',\n",
       " '해운대구']"
      ]
     },
     "execution_count": 10,
     "metadata": {},
     "output_type": "execute_result"
    }
   ],
   "source": [
    "sigungus"
   ]
  },
  {
   "cell_type": "code",
   "execution_count": 12,
   "metadata": {
    "collapsed": true
   },
   "outputs": [
    {
     "name": "stdout",
     "output_type": "stream",
     "text": [
      "['가락동', '강동동', '구랑동', '녹산동', '눌차동', '대저1동', '대저2동', '대항동', '동선동', '명지동', '미음동', '범방동', '봉림동', '생곡동', '성북동', '송정동', '식만동', '신호동', '죽동동', '죽림동', '지사동', '천가동', '천성동', '화전동']\n",
      "['구서동', '구서제1동', '구서제2동', '금사동', '금성동', '남산동', '노포동', '두구동', '부곡동', '부곡제1동', '부곡제2동', '부곡제3동', '부곡제4동', '서동', '서제1동', '서제2동', '서제3동', '서제4동', '선동', '선두구동', '오륜동', '장전동', '장전제1동', '장전제2동', '장전제3동', '청룡노포동', '청룡동', '회동동']\n",
      "['기장읍', '일광면', '장안읍', '정관면', '철마면']\n",
      "['감만동', '감만제1동', '감만제2동', '대연동', '대연제1동', '대연제2동', '대연제3동', '대연제4동', '대연제5동', '대연제6동', '문현동', '문현제1동', '문현제2동', '문현제3동', '문현제4동', '용당동', '용호동', '용호제1동', '용호제2동', '용호제3동', '용호제4동', '우암동', '우암제1동', '우암제2동']\n",
      "['범일동', '범일제1동', '범일제2동', '범일제4동', '범일제5동', '범일제6동', '수정동', '수정제1동', '수정제2동', '수정제3동', '수정제4동', '수정제5동', '좌천동', '좌천제1동', '좌천제4동', '초량동', '초량제1동', '초량제2동', '초량제3동', '초량제4동', '초량제6동']\n",
      "['낙민동', '명륜동', '명장동', '명장제1동', '명장제2동', '복산동', '복천동', '사직동', '사직제1동', '사직제2동', '사직제3동', '수민동', '수안동', '안락동', '안락제1동', '안락제2동', '온천동', '온천제1동', '온천제2동', '온천제3동', '칠산동']\n",
      "['가야동', '가야제1동', '가야제2동', '가야제3동', '개금동', '개금제1동', '개금제2동', '개금제3동', '당감1동', '당감2동', '당감동', '당감제3동', '당감제4동', '범전동', '범천동', '범천제1동', '범천제2동', '범천제4동', '부암동', '부암제1동', '부암제3동', '부전1동', '부전2동', '부전동', '양정동', '양정제1동', '양정제2동', '연지동', '전포동', '전포제1동', '전포제2동', '전포제3동', '초읍동']\n",
      "['구포동', '구포제1동', '구포제2동', '구포제3동', '금곡동', '덕천동', '덕천제1동', '덕천제2동', '덕천제3동', '만덕동', '만덕제1동', '만덕제2동', '만덕제3동', '화명동', '화명제1동', '화명제2동', '화명제3동']\n",
      "['감전동', '감전제1동', '감전제2동', '괘법동', '덕포동', '덕포제1동', '덕포제2동', '모라동', '모라제1동', '모라제2동', '모라제3동', '삼락동', '엄궁동', '주례동', '주례제1동', '주례제2동', '주례제3동', '학장동']\n",
      "['감천동', '감천제1동', '감천제2동', '괴정동', '괴정제1동', '괴정제2동', '괴정제3동', '괴정제4동', '구평동', '다대동', '다대제1동', '다대제2동', '당리동', '신평동', '신평제1동', '신평제2동', '장림동', '장림제1동', '장림제2동', '하단동', '하단제1동', '하단제2동']\n",
      "['남부민동', '남부민제1동', '남부민제2동', '남부민제3동', '동대신동1가', '동대신동2가', '동대신동3가', '동대신제1동', '동대신제2동', '동대신제3동', '부민동', '부민동1가', '부민동2가', '부민동3가', '부용동1가', '부용동2가', '서대신동1가', '서대신동2가', '서대신동3가', '서대신제1동', '서대신제3동', '서대신제4동', '아미동', '아미동1가', '아미동2가', '암남동', '초장동', '충무동', '충무동1가', '충무동2가', '충무동3가', '토성동1가', '토성동2가', '토성동3가', '토성동4가', '토성동5가']\n",
      "['광안동', '광안제1동', '광안제2동', '광안제3동', '광안제4동', '남천동', '남천제1동', '남천제2동', '망미동', '망미제1동', '망미제2동', '민락동', '수영동']\n",
      "['거제동', '거제제1동', '거제제2동', '거제제3동', '거제제4동', '연산동', '연산제1동', '연산제2동', '연산제3동', '연산제4동', '연산제5동', '연산제6동', '연산제7동', '연산제8동', '연산제9동']\n",
      "['남항동', '남항동1가', '남항동2가', '남항동3가', '대교동1가', '대교동2가', '대평동1가', '대평동2가', '동삼동', '동삼제1동', '동삼제2동', '동삼제3동', '봉래동1가', '봉래동2가', '봉래동3가', '봉래동4가', '봉래동5가', '봉래제1동', '봉래제3동', '봉래제4동', '신선동1가', '신선동2가', '신선동3가', '신선제1동', '신선제2동', '신선제3동', '영선동1가', '영선동2가', '영선동3가', '영선동4가', '영선제1동', '영선제2동', '청학동', '청학제1동', '청학제2동']\n",
      "['광복동', '광복동1가', '광복동2가', '광복동3가', '남포동', '남포동1가', '남포동2가', '남포동3가', '남포동4가', '남포동5가', '남포동6가', '대창동1가', '대창동2가', '대청동', '대청동1가', '대청동2가', '대청동3가', '대청동4가', '동광동', '동광동1가', '동광동2가', '동광동3가', '동광동4가', '동광동5가', '보수동', '보수동1가', '보수동2가', '보수동3가', '부평동', '부평동1가', '부평동2가', '부평동3가', '부평동4가', '신창동1가', '신창동2가', '신창동3가', '신창동4가', '영주동', '영주제1동', '영주제2동', '중앙동', '중앙동1가', '중앙동2가', '중앙동3가', '중앙동4가', '중앙동5가', '중앙동6가', '중앙동7가', '창선동1가', '창선동2가']\n",
      "['반송동', '반송제1동', '반송제2동', '반송제3동', '반여동', '반여제1동', '반여제2동', '반여제3동', '반여제4동', '석대동', '송정동', '우동', '우제1동', '우제2동', '재송동', '재송제1동', '재송제2동', '좌동', '좌제1동', '좌제2동', '좌제3동', '좌제4동', '중동', '중제1동', '중제2동']\n"
     ]
    }
   ],
   "source": [
    "# 시군구 선택 -> 각 시군구에 해당하는 동 전체 출력\n",
    "# 사이트 특성상 send_keys()를 수행하면 화면이 전부 reload 된다(껌벅인다)\n",
    "# -> 이전에 잡아두었던 sigungu이 전부 무효화된다\n",
    "# -> 다시 sigungu 변수를 찾아서 처리해야 한다\n",
    "# for sigungu_name in sigungus :\n",
    "#    sigungu = driver.find_element_by_id('SIGUNGU_NM0')\n",
    "#    sigungu.send_keys(sigungu_name)\n",
    "#    time.sleep(2)\n",
    "#    dongs = [option.get_attribute('value')\n",
    "#             for option in driver.find_elements_by_css_selector('#DONG_NM > option')\n",
    "#             if option.get_attribute('value')]\n",
    "#    print(dongs)"
   ]
  },
  {
   "cell_type": "code",
   "execution_count": null,
   "metadata": {},
   "outputs": [],
   "source": [
    "for sigungu_name in sigungus :\n",
    "    sigungu = driver.find_element_by_id('SIGUNGU_NM0')\n",
    "    sigungu.send_keys(sigungu_name)\n",
    "    time.sleep(2)\n",
    "    dongs = [option.get_attribute('value')\n",
    "             for option in driver.find_elements_by_css_selector('#DONG_NM > option')\n",
    "             if option.get_attribute('value')]\n",
    "    for dong_name in dongs :\n",
    "        dong = driver.find_element_by_id('DONG_NM')\n",
    "        dong.send_keys(dong_name)\n",
    "        time.sleep(2)\n",
    "        # 조회\n",
    "        driver.find_element_by_id('searRgSelect').click()\n",
    "        # 엑셀 저장\n",
    "        driver.find_element_by_id('glopopd_excel').click()"
   ]
  },
  {
   "cell_type": "code",
   "execution_count": null,
   "metadata": {},
   "outputs": [],
   "source": []
  },
  {
   "cell_type": "code",
   "execution_count": null,
   "metadata": {},
   "outputs": [],
   "source": []
  },
  {
   "cell_type": "code",
   "execution_count": null,
   "metadata": {},
   "outputs": [],
   "source": []
  },
  {
   "cell_type": "code",
   "execution_count": null,
   "metadata": {},
   "outputs": [],
   "source": []
  },
  {
   "cell_type": "code",
   "execution_count": null,
   "metadata": {},
   "outputs": [],
   "source": []
  },
  {
   "cell_type": "code",
   "execution_count": null,
   "metadata": {},
   "outputs": [],
   "source": []
  },
  {
   "cell_type": "code",
   "execution_count": null,
   "metadata": {},
   "outputs": [],
   "source": []
  },
  {
   "cell_type": "code",
   "execution_count": null,
   "metadata": {},
   "outputs": [],
   "source": []
  },
  {
   "cell_type": "code",
   "execution_count": null,
   "metadata": {},
   "outputs": [],
   "source": []
  },
  {
   "cell_type": "code",
   "execution_count": null,
   "metadata": {},
   "outputs": [],
   "source": []
  },
  {
   "cell_type": "code",
   "execution_count": null,
   "metadata": {},
   "outputs": [],
   "source": []
  },
  {
   "cell_type": "code",
   "execution_count": null,
   "metadata": {},
   "outputs": [],
   "source": []
  },
  {
   "cell_type": "code",
   "execution_count": null,
   "metadata": {},
   "outputs": [],
   "source": []
  }
 ],
 "metadata": {
  "kernelspec": {
   "display_name": "Python 3",
   "language": "python",
   "name": "python3"
  },
  "language_info": {
   "codemirror_mode": {
    "name": "ipython",
    "version": 3
   },
   "file_extension": ".py",
   "mimetype": "text/x-python",
   "name": "python",
   "nbconvert_exporter": "python",
   "pygments_lexer": "ipython3",
   "version": "3.6.5"
  }
 },
 "nbformat": 4,
 "nbformat_minor": 2
}
