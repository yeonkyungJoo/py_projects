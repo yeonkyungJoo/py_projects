{
 "cells": [
  {
   "cell_type": "markdown",
   "metadata": {},
   "source": [
    "## 부산 전 지역 주유소 데이터 수집"
   ]
  },
  {
   "cell_type": "code",
   "execution_count": null,
   "metadata": {},
   "outputs": [],
   "source": [
    "from selenium import webdriver as wd\n",
    "import urllib"
   ]
  },
  {
   "cell_type": "code",
   "execution_count": null,
   "metadata": {},
   "outputs": [],
   "source": [
    "target_url = 'http://www.opinet.co.kr/searRgSelect.do'"
   ]
  },
  {
   "cell_type": "code",
   "execution_count": null,
   "metadata": {},
   "outputs": [],
   "source": [
    "driver = wd.Chrome('../tool/chromedriver.exe')"
   ]
  },
  {
   "cell_type": "code",
   "execution_count": null,
   "metadata": {},
   "outputs": [],
   "source": [
    "driver.get(target_url)"
   ]
  },
  {
   "cell_type": "code",
   "execution_count": null,
   "metadata": {},
   "outputs": [],
   "source": [
    "import time\n",
    "time.sleep(5)"
   ]
  },
  {
   "cell_type": "code",
   "execution_count": null,
   "metadata": {},
   "outputs": [],
   "source": [
    "driver.get(target_url)"
   ]
  },
  {
   "cell_type": "code",
   "execution_count": null,
   "metadata": {},
   "outputs": [],
   "source": [
    "# 시도 선택\n",
    "sido = driver.find_element_by_id('SIDO_NM0')\n",
    "sido.send_keys('부산광역시')"
   ]
  },
  {
   "cell_type": "code",
   "execution_count": null,
   "metadata": {},
   "outputs": [],
   "source": [
    "# 시군구 확인\n",
    "sigungu = driver.find_element_by_id('SIGUNGU_NM0')\n",
    "sigungus = []\n",
    "for option in driver.find_elements_by_css_selector('#SIGUNGU_NM0 > option') :\n",
    "    if option.get_attribute('value') :\n",
    "        sigungus.append(option.get_attribute('value'))"
   ]
  },
  {
   "cell_type": "code",
   "execution_count": null,
   "metadata": {},
   "outputs": [],
   "source": [
    "sigungus"
   ]
  },
  {
   "cell_type": "code",
   "execution_count": null,
   "metadata": {},
   "outputs": [],
   "source": [
    "# 시군구 선택 -> 각 시군구에 해당하는 동 전체 출력\n",
    "# 사이트 특성상 send_keys()를 수행하면 화면이 전부 reload 된다(껌벅인다)\n",
    "# -> 이전에 잡아두었던 sigungu이 전부 무효화된다\n",
    "# -> 다시 sigungu 변수를 찾아서 처리해야 한다\n",
    "# for sigungu_name in sigungus :\n",
    "#    sigungu = driver.find_element_by_id('SIGUNGU_NM0')\n",
    "#    sigungu.send_keys(sigungu_name)\n",
    "#    time.sleep(2)\n",
    "#    dongs = [option.get_attribute('value')\n",
    "#             for option in driver.find_elements_by_css_selector('#DONG_NM > option')\n",
    "#             if option.get_attribute('value')]\n",
    "#    print(dongs)"
   ]
  },
  {
   "cell_type": "code",
   "execution_count": null,
   "metadata": {},
   "outputs": [],
   "source": [
    "for sigungu_name in sigungus :\n",
    "    sigungu = driver.find_element_by_id('SIGUNGU_NM0')\n",
    "    sigungu.send_keys(sigungu_name)\n",
    "    time.sleep(5)\n",
    "    dongs = [option.get_attribute('value')\n",
    "             for option in driver.find_elements_by_css_selector('#DONG_NM > option')\n",
    "             if option.get_attribute('value')]\n",
    "    for dong_name in dongs :\n",
    "        dong = driver.find_element_by_id('DONG_NM')\n",
    "        dong.send_keys(dong_name)\n",
    "        time.sleep(5)\n",
    "        # 조회\n",
    "        driver.find_element_by_id('searRgSelect').click()\n",
    "        time.sleep(5)\n",
    "        # 엑셀 저장\n",
    "        driver.find_element_by_id('glopopd_excel').click()"
   ]
  },
  {
   "cell_type": "code",
   "execution_count": null,
   "metadata": {},
   "outputs": [],
   "source": []
  },
  {
   "cell_type": "code",
   "execution_count": null,
   "metadata": {},
   "outputs": [],
   "source": []
  },
  {
   "cell_type": "code",
   "execution_count": null,
   "metadata": {},
   "outputs": [],
   "source": []
  },
  {
   "cell_type": "code",
   "execution_count": null,
   "metadata": {},
   "outputs": [],
   "source": []
  },
  {
   "cell_type": "code",
   "execution_count": null,
   "metadata": {},
   "outputs": [],
   "source": []
  },
  {
   "cell_type": "code",
   "execution_count": null,
   "metadata": {},
   "outputs": [],
   "source": []
  },
  {
   "cell_type": "code",
   "execution_count": null,
   "metadata": {},
   "outputs": [],
   "source": []
  },
  {
   "cell_type": "code",
   "execution_count": null,
   "metadata": {},
   "outputs": [],
   "source": []
  },
  {
   "cell_type": "code",
   "execution_count": null,
   "metadata": {},
   "outputs": [],
   "source": []
  },
  {
   "cell_type": "code",
   "execution_count": null,
   "metadata": {},
   "outputs": [],
   "source": []
  },
  {
   "cell_type": "code",
   "execution_count": null,
   "metadata": {},
   "outputs": [],
   "source": []
  },
  {
   "cell_type": "code",
   "execution_count": null,
   "metadata": {},
   "outputs": [],
   "source": []
  },
  {
   "cell_type": "code",
   "execution_count": null,
   "metadata": {},
   "outputs": [],
   "source": []
  }
 ],
 "metadata": {
  "kernelspec": {
   "display_name": "Python 3",
   "language": "python",
   "name": "python3"
  },
  "language_info": {
   "codemirror_mode": {
    "name": "ipython",
    "version": 3
   },
   "file_extension": ".py",
   "mimetype": "text/x-python",
   "name": "python",
   "nbconvert_exporter": "python",
   "pygments_lexer": "ipython3",
   "version": "3.6.5"
  }
 },
 "nbformat": 4,
 "nbformat_minor": 2
}
